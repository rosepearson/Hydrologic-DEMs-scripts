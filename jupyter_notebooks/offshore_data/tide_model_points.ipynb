{
 "cells": [
  {
   "cell_type": "code",
   "execution_count": null,
   "id": "6f1beef0-73a1-4c1c-952f-09147d8ba0bc",
   "metadata": {},
   "outputs": [],
   "source": [
    "import geopandas\n",
    "import shapely\n",
    "import pathlib"
   ]
  },
  {
   "cell_type": "code",
   "execution_count": null,
   "id": "f8f3ef11-936b-422b-819c-bbebcfd1b980",
   "metadata": {},
   "outputs": [],
   "source": [
    "r_drive = pathlib.Path(r\"R:\\National\\Datasets\")\n",
    "tide_points = geopandas.read_file(r_drive / \"New_Zealand_Water_Modelling\" / \"NZTide_Data\" / \"NZTide_GIS\" / \"depth_surface\" / \"new_points.shp\")\n",
    "tide_points=tide_points.to_crs(2193)\n",
    "local_drive = pathlib.Path(r\"c:\\Local\\data\\DEMs\\tide model\")\n",
    "tide_points.to_file(local_drive / \"msl_tide_model_points.gpkg\")"
   ]
  },
  {
   "cell_type": "markdown",
   "id": "a649c713-c20c-4765-b9cb-658c322522aa",
   "metadata": {},
   "source": [
    "# Load in datasets from R-drive"
   ]
  },
  {
   "cell_type": "code",
   "execution_count": null,
   "id": "52ce88a3-3bd9-43de-bb82-e293459a9602",
   "metadata": {},
   "outputs": [],
   "source": [
    "r_drive = pathlib.Path(r\"R:\\National\\Datasets\")\n",
    "tide_points = geopandas.read_file(r_drive / \"New_Zealand_Water_Modelling\" / \"NZTide_Data\" / \"NZTide_GIS\" / \"depth_surface\" / \"new_points.shp\")\n",
    "tiles = geopandas.read_file(r_drive / \"DigitalElevationModel\" / \"HydroDEM\" / \"National_8m\" / \"geofabrics-tiles-2024-03-01\" / \"tiles.gpkg\")\n",
    "convertor = geopandas.read_file(r_drive / \"DigitalElevationModel\" / \"NZVD2016_conversion\" / \"NZ_NZVD2016_MSL_conversion.gpkg\")"
   ]
  },
  {
   "cell_type": "markdown",
   "id": "489c9cbb-37bb-454c-8b3a-4093c89f0ac5",
   "metadata": {},
   "source": [
    "# Clip to dataset around NZ coast and save"
   ]
  },
  {
   "cell_type": "code",
   "execution_count": null,
   "id": "9b355cb0-ca74-4827-9e60-f2aaf807cc8b",
   "metadata": {},
   "outputs": [],
   "source": [
    "crs = 2193\n",
    "distance = 20000  # 20 km offshore\n",
    "tide_points=tide_points.to_crs(2193)\n",
    "tide_points = tide_points.clip(tiles.dissolve().buffer(distance))"
   ]
  },
  {
   "cell_type": "markdown",
   "id": "7afdb02a-a793-4876-9161-76d41d95a00d",
   "metadata": {},
   "source": [
    "## Save a local copy"
   ]
  },
  {
   "cell_type": "code",
   "execution_count": null,
   "id": "6fa1de67-437c-4700-a310-e144f773054f",
   "metadata": {},
   "outputs": [],
   "source": [
    "local_drive = pathlib.Path(r\"c:\\Local\\data\\DEMs\\tide model\")\n",
    "tide_points.to_file(local_drive / \"msl_clipped_tide_model_points.gpkg\")"
   ]
  },
  {
   "cell_type": "markdown",
   "id": "91fce637-d472-4da1-a8cf-d791b5e48a62",
   "metadata": {},
   "source": [
    "# Convert offshore points to NZVD2016"
   ]
  },
  {
   "cell_type": "code",
   "execution_count": null,
   "id": "c4107bea-a876-41b7-9c94-c663229ef6ad",
   "metadata": {},
   "outputs": [],
   "source": [
    "def tide_to_nzvd2016(row, vertical_datum_conversion):\n",
    "    index = vertical_datum_conversion.sindex.nearest(row.geometry, return_all=False)[1][0]\n",
    "    nzvd2016_to_msl = vertical_datum_conversion.iloc[index][\"NZVD16_MSL\"]\n",
    "    return row[\"Z\"] - nzvd2016_to_msl\n",
    "tide_points[\"Z\"] = tide_points.apply(lambda row: tide_to_nzvd2016(row, convertor), axis=1)\n",
    "tide_points[\"geometry\"] = tide_points.apply(lambda row: shapely.geometry.Point([row[\"geometry\"].x, row[\"geometry\"].y, row[\"Z\"]]), axis=1)"
   ]
  },
  {
   "cell_type": "markdown",
   "id": "3f274f8b-7565-4c6d-944f-db380aefe5a7",
   "metadata": {},
   "source": [
    "## Save a local copy"
   ]
  },
  {
   "cell_type": "code",
   "execution_count": null,
   "id": "14367a1f-7151-4121-b560-afff58be6553",
   "metadata": {},
   "outputs": [],
   "source": [
    "local_drive = pathlib.Path(r\"c:\\Local\\data\\DEMs\\tide model\")\n",
    "tide_points.to_file(local_drive / \"nzvd2016_clipped_tide_model_points.gpkg\")"
   ]
  },
  {
   "cell_type": "markdown",
   "id": "e08dc012-03c6-441e-9d61-828a7975b568",
   "metadata": {},
   "source": [
    "## Enforce a max value of mean low water spring"
   ]
  },
  {
   "cell_type": "code",
   "execution_count": null,
   "id": "25db9ad6-5956-48e3-81a5-3a082099bba8",
   "metadata": {},
   "outputs": [],
   "source": [
    "mean_low_water_spring = -1.2\n",
    "tide_points.loc[tide_points['Z'] > mean_low_water_spring, 'Z'] = mean_low_water_spring\n",
    "tide_points[\"geometry\"] = tide_points.apply(lambda row: shapely.geometry.Point([row[\"geometry\"].x, row[\"geometry\"].y, row[\"Z\"]]), axis=1)"
   ]
  },
  {
   "cell_type": "markdown",
   "id": "6531d371-f9de-468d-bd69-8020610eb49f",
   "metadata": {},
   "source": [
    "## Save a local copy"
   ]
  },
  {
   "cell_type": "code",
   "execution_count": null,
   "id": "c7414cc2-5c39-4ea5-8a1c-35e8f1c32e23",
   "metadata": {},
   "outputs": [],
   "source": [
    "local_drive = pathlib.Path(r\"c:\\Local\\data\\DEMs\\tide model\")\n",
    "tide_points.to_file(local_drive / \"nzvd2016_clipped_tide_model_points_max_set_to_mlws.gpkg\")"
   ]
  },
  {
   "cell_type": "markdown",
   "id": "d5ef40c5-3730-4bbf-947d-623576b12dec",
   "metadata": {},
   "source": [
    "## Enforce max value to mean sea level & Save"
   ]
  },
  {
   "cell_type": "code",
   "execution_count": null,
   "id": "a790a95f-bcbf-4b7c-9a68-63c73593284c",
   "metadata": {},
   "outputs": [],
   "source": [
    "mean_sea_level = -0.2\n",
    "tide_points.loc[tide_points['Z'] > mean_sea_level, 'Z'] = mean_sea_level\n",
    "tide_points[\"geometry\"] = tide_points.apply(lambda row: shapely.geometry.Point([row[\"geometry\"].x, row[\"geometry\"].y, row[\"Z\"]]), axis=1)\n",
    "\n",
    "local_drive = pathlib.Path(r\"c:\\Local\\data\\DEMs\\tide model\")\n",
    "tide_points.to_file(local_drive / \"nzvd2016_clipped_tide_model_points_max_set_to_msl.gpkg\")"
   ]
  },
  {
   "cell_type": "code",
   "execution_count": null,
   "id": "47d4108c-44ea-497e-963d-9f291557abf4",
   "metadata": {},
   "outputs": [],
   "source": [
    "tiles.dissolve().buffer(20000).explore()"
   ]
  },
  {
   "cell_type": "code",
   "execution_count": null,
   "id": "4624b43e-296d-459a-8a1b-8c444e6d4581",
   "metadata": {},
   "outputs": [],
   "source": []
  }
 ],
 "metadata": {
  "kernelspec": {
   "display_name": "Raster",
   "language": "python",
   "name": "raster"
  },
  "language_info": {
   "codemirror_mode": {
    "name": "ipython",
    "version": 3
   },
   "file_extension": ".py",
   "mimetype": "text/x-python",
   "name": "python",
   "nbconvert_exporter": "python",
   "pygments_lexer": "ipython3",
   "version": "3.11.9"
  }
 },
 "nbformat": 4,
 "nbformat_minor": 5
}
