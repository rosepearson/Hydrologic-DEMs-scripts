{
 "cells": [
  {
   "cell_type": "markdown",
   "metadata": {},
   "source": [
    "# DEM - hole filling and ocean masking\n",
    "A notebook filtering a DEM with a Gaussian filter for hole filling, and using a shapefile for defining the ocean. Plots are used to demonstrates several challenges with filtering in plots."
   ]
  },
  {
   "cell_type": "code",
   "execution_count": null,
   "metadata": {},
   "outputs": [],
   "source": [
    "import rioxarray\n",
    "import xarray\n",
    "import geopandas\n",
    "import shapely.geometry\n",
    "import rasterio\n",
    "import rasterio.mask\n",
    "import numpy\n",
    "import matplotlib.pyplot\n",
    "import scipy.ndimage\n",
    "import scipy.interpolate"
   ]
  },
  {
   "cell_type": "markdown",
   "metadata": {},
   "source": [
    "# Setup\n",
    "### Parameters\n",
    "sigma of 0.9 is minimum value to fill all holes"
   ]
  },
  {
   "cell_type": "code",
   "execution_count": null,
   "metadata": {},
   "outputs": [],
   "source": [
    "sigma = 0.9\n",
    "depth = -10"
   ]
  },
  {
   "cell_type": "markdown",
   "metadata": {},
   "source": [
    "### Load in data\n",
    "This is the DEM prepared in the _\"Example_DEM_Shapefile_Filtering\"_ notebook."
   ]
  },
  {
   "cell_type": "code",
   "execution_count": null,
   "metadata": {},
   "outputs": [],
   "source": [
    "# from Open Topography\n",
    "dem=rioxarray.rioxarray.open_rasterio(r'C:\\Users\\pearsonra\\Documents\\data\\herbert_10res\\dem\\dem_filled_and_fake_bathymetry.nc', masked=True)"
   ]
  },
  {
   "cell_type": "markdown",
   "metadata": {},
   "source": [
    "### View and correct projections\n",
    "#### Projection for DEM"
   ]
  },
  {
   "cell_type": "code",
   "execution_count": null,
   "metadata": {},
   "outputs": [],
   "source": [
    "dem_tiff.rio.crs"
   ]
  },
  {
   "cell_type": "markdown",
   "metadata": {},
   "source": [
    "### View DEM and select injection points\n",
    "Zoom in on the head waters and select injection points."
   ]
  },
  {
   "cell_type": "code",
   "execution_count": null,
   "metadata": {},
   "outputs": [],
   "source": [
    "f = matplotlib.pyplot.figure(figsize=(15, 5))\n",
    "gs = f.add_gridspec(1, 3)\n",
    "\n",
    "ax1 = f.add_subplot(gs[0, 0:2]) \n",
    "dem.plot(cmap=\"viridis\", ax=ax1) # Greys_r\n",
    "\n",
    "ax2 = f.add_subplot(gs[0,2])\n",
    "dem.plot(cmap=\"viridis\", ax=ax2, vmin = 0, vmax = 100)\n",
    "matplotlib.pyplot.xlim([1.4237e6, 1.4285e6])\n",
    "\n",
    "ax1.set_title(\"Filled DEM with faked Bathymetry\")\n",
    "ax2.set_title(\"Filled and Faked DEM Zoomed on head waters\")"
   ]
  },
  {
   "cell_type": "markdown",
   "metadata": {},
   "source": [
    "#### Use selection points slightly down-stream as DEM not ringed "
   ]
  },
  {
   "cell_type": "markdown",
   "metadata": {},
   "source": [
    "The DEM zoomed in on the region to manually create a polygon here"
   ]
  },
  {
   "cell_type": "code",
   "execution_count": null,
   "metadata": {},
   "outputs": [],
   "source": [
    "f = matplotlib.pyplot.figure(figsize=(15, 5))\n",
    "\n",
    "ax1 = f.add_subplot(121) \n",
    "dem_tiff.plot(cmap=\"viridis\", ax=ax1, vmin = 0, vmax = 100)\n",
    "ax1.set_title(\"LiDAR Herbert - zoomed in on coast\")\n",
    "matplotlib.pyplot.xlim([1.4238e6, 1.425e6])\n",
    "matplotlib.pyplot.ylim([4.9880e6, 4.9895e6])\n",
    "\n",
    "ax2 = f.add_subplot(122) \n",
    "dem_tiff.plot(cmap=\"viridis\", ax=ax2, vmin = 0, vmax = 100)\n",
    "ax2.set_title(\"LiDAR Herbert - zoomed in on coast\")\n",
    "matplotlib.pyplot.xlim([1.4244e6, 1.4255e6])\n",
    "matplotlib.pyplot.ylim([4.9835e6, 4.9855e6])\n",
    "\n",
    "matplotlib.pyplot.show()"
   ]
  },
  {
   "cell_type": "markdown",
   "metadata": {},
   "source": [
    "### Manually create a polygon"
   ]
  },
  {
   "cell_type": "code",
   "execution_count": null,
   "metadata": {},
   "outputs": [],
   "source": [
    "injection_1 = shapely.geometry.Polygon([(1.42425e6, 4.9886e6), # x1, y1\n",
    "                                               (1.42439e6, 4.9886e6), # x2, y1\n",
    "                                               (1.42439e6, 4.98845e6), # x2, y2\n",
    "                                               (1.42425e6, 4.98845e6)  # x1, y2\n",
    "        ])\n",
    "injection_1_gdf = geopandas.GeoSeries([injection_1])\n",
    "\n",
    "injection_2 = shapely.geometry.Polygon([(1.42507e6, 4.9841e6), # x1, y1\n",
    "                                        (1.42518e6, 4.9841e6), # x2, y1\n",
    "                                        (1.42518e6, 4.98425e6), # x2, y2\n",
    "                                        (1.42507e6, 4.98425e6)  # x1, y2\n",
    "        ])\n",
    "injection_2_gdf = geopandas.GeoSeries([injection_2])"
   ]
  },
  {
   "cell_type": "markdown",
   "metadata": {},
   "source": [
    "#### Plot both together"
   ]
  },
  {
   "cell_type": "code",
   "execution_count": null,
   "metadata": {},
   "outputs": [],
   "source": [
    "f = matplotlib.pyplot.figure(figsize=(15, 5))\n",
    "\n",
    "ax1 = f.add_subplot(121) \n",
    "dem_tiff.plot(cmap=\"viridis\", ax=ax1, vmin = 0, vmax = 65)\n",
    "ax1.set_title(\"LiDAR Herbert - zoomed in on coast\")\n",
    "matplotlib.pyplot.xlim([1.4238e6, 1.425e6])\n",
    "matplotlib.pyplot.ylim([4.9880e6, 4.9895e6])\n",
    "injection_1_gdf.plot(color='None', edgecolor='red', linewidth=2, ax=ax1, zorder=4)\n",
    "\n",
    "ax2 = f.add_subplot(122) \n",
    "dem_tiff.plot(cmap=\"viridis\", ax=ax2, vmin = 0, vmax = 65)\n",
    "ax2.set_title(\"LiDAR Herbert - zoomed in on coast\")\n",
    "matplotlib.pyplot.xlim([1.4244e6, 1.4255e6])\n",
    "matplotlib.pyplot.ylim([4.9835e6, 4.9855e6])\n",
    "injection_2_gdf.plot(color='None', edgecolor='red', linewidth=2, ax=ax2, zorder=4)\n",
    "\n",
    "matplotlib.pyplot.show()"
   ]
  },
  {
   "cell_type": "markdown",
   "metadata": {},
   "source": [
    "# Save out in the right format \n",
    "## To BG-FLOOD parameter file\n",
    "x,y pairs\n",
    "## Create a water injection file"
   ]
  }
 ],
 "metadata": {
  "kernelspec": {
   "display_name": "Python [conda env:workspace]",
   "language": "python",
   "name": "conda-env-workspace-py"
  },
  "language_info": {
   "codemirror_mode": {
    "name": "ipython",
    "version": 3
   },
   "file_extension": ".py",
   "mimetype": "text/x-python",
   "name": "python",
   "nbconvert_exporter": "python",
   "pygments_lexer": "ipython3",
   "version": "3.8.8"
  }
 },
 "nbformat": 4,
 "nbformat_minor": 2
}
