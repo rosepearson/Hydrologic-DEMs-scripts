{
 "cells": [
  {
   "cell_type": "markdown",
   "metadata": {},
   "source": [
    "# DEM - hole filling and ocean masking\n",
    "A notebook filtering a DEM with a Gaussian filter for hole filling, and using a shapefile for defining the ocean. Plots are used to demonstrates several challenges with filtering in plots."
   ]
  },
  {
   "cell_type": "code",
   "execution_count": null,
   "metadata": {},
   "outputs": [],
   "source": [
    "import rioxarray\n",
    "import xarray\n",
    "import geopandas\n",
    "import shapely.geometry\n",
    "import rasterio\n",
    "import rasterio.mask\n",
    "import numpy\n",
    "import matplotlib.pyplot\n",
    "import scipy.ndimage\n",
    "import scipy.interpolate\n",
    "import pathlib"
   ]
  },
  {
   "cell_type": "markdown",
   "metadata": {},
   "source": [
    "# Setup\n",
    "### File names"
   ]
  },
  {
   "cell_type": "code",
   "execution_count": null,
   "metadata": {},
   "outputs": [],
   "source": [
    "base_path = pathlib.Path(r'C:\\Users\\pearsonra\\Documents\\data\\herbert_10res')\n",
    "dem_path = pathlib.Path(r'dem')\n",
    "dem_name = pathlib.Path(r'dem_filled_and_fake_bathymetry.nc')\n",
    "model_path = pathlib.Path(r'flood_model')\n",
    "injection_1_name = pathlib.Path(r'River1Dis.txt')\n",
    "injection_2_name = pathlib.Path(r'River2Dis.txt')\n",
    "param_name = pathlib.Path(r'BG_param.txt')"
   ]
  },
  {
   "cell_type": "markdown",
   "metadata": {},
   "source": [
    "### Load in data\n",
    "This is the DEM prepared in the **\"Example_DEM_Shapefile_Filtering\"** notebook. Convert from a DataSet to a DataArray for easy viewing. "
   ]
  },
  {
   "cell_type": "code",
   "execution_count": null,
   "metadata": {},
   "outputs": [],
   "source": [
    "dem = rioxarray.rioxarray.open_rasterio(base_path/dem_path/dem_name) # , masked=True\n",
    "dem = dem.drop_vars([\"original_z\"])\n",
    "dem = dem.squeeze()\n",
    "dem = dem.to_array()\n",
    "dem = dem.squeeze()"
   ]
  },
  {
   "cell_type": "markdown",
   "metadata": {},
   "source": [
    "### View DEM and select injection points\n",
    "Zoom in on the head waters and select injection points."
   ]
  },
  {
   "cell_type": "code",
   "execution_count": null,
   "metadata": {},
   "outputs": [],
   "source": [
    "f = matplotlib.pyplot.figure(figsize=(15, 5))\n",
    "gs = f.add_gridspec(1, 3)\n",
    "\n",
    "ax1 = f.add_subplot(gs[0, 0:2]) \n",
    "dem.plot(cmap=\"viridis\", ax=ax1) # Greys_r\n",
    "\n",
    "ax2 = f.add_subplot(gs[0,2])\n",
    "dem.plot(cmap=\"viridis\", ax=ax2, vmin = 0, vmax = 100)\n",
    "matplotlib.pyplot.xlim([1.4237e6, 1.4285e6])\n",
    "\n",
    "ax1.set_title(\"Filled DEM with faked Bathymetry\")\n",
    "ax2.set_title(\"Filled and Faked DEM Zoomed on head waters\")"
   ]
  },
  {
   "cell_type": "markdown",
   "metadata": {},
   "source": [
    "### Zoom in on injection sites\n",
    "Set injection sites slightly down-stream to avoid upstream spillover as the DEM is not ringed \n",
    "The DEM zoomed in on the region to manually create a polygon here"
   ]
  },
  {
   "cell_type": "code",
   "execution_count": null,
   "metadata": {},
   "outputs": [],
   "source": [
    "f = matplotlib.pyplot.figure(figsize=(15, 5))\n",
    "\n",
    "ax1 = f.add_subplot(121) \n",
    "dem.plot(cmap=\"viridis\", ax=ax1, vmin = 0, vmax = 100)\n",
    "ax1.set_title(\"LiDAR Herbert - zoomed in on coast\")\n",
    "matplotlib.pyplot.xlim([1.4238e6, 1.425e6])\n",
    "matplotlib.pyplot.ylim([4.9880e6, 4.9895e6])\n",
    "\n",
    "ax2 = f.add_subplot(122) \n",
    "dem.plot(cmap=\"viridis\", ax=ax2, vmin = 0, vmax = 100)\n",
    "ax2.set_title(\"LiDAR Herbert - zoomed in on coast\")\n",
    "matplotlib.pyplot.xlim([1.4244e6, 1.4255e6])\n",
    "matplotlib.pyplot.ylim([4.9835e6, 4.9855e6])\n",
    "\n",
    "matplotlib.pyplot.show()"
   ]
  },
  {
   "cell_type": "markdown",
   "metadata": {},
   "source": [
    "### Manually create a polygons"
   ]
  },
  {
   "cell_type": "code",
   "execution_count": null,
   "metadata": {},
   "outputs": [],
   "source": [
    "injection_1_x1 = 1.42425e6\n",
    "injection_1_x2 = 1.42439e6\n",
    "injection_1_y1 = 4.9886e6\n",
    "injection_1_y2 = 4.98845e6\n",
    "injection_1 = shapely.geometry.Polygon([(injection_1_x1, injection_1_y1), (injection_1_x2, injection_1_y1),\n",
    "                                        (injection_1_x2, injection_1_y2), (injection_1_x1, injection_1_y2)])\n",
    "injection_1_gdf = geopandas.GeoSeries([injection_1])\n",
    "\n",
    "\n",
    "injection_2_x1 = 1.42507e6\n",
    "injection_2_x2 = 1.42518e6\n",
    "injection_2_y1 = 4.9841e6\n",
    "injection_2_y2 = 4.98425e6\n",
    "injection_2 = shapely.geometry.Polygon([(injection_2_x1, injection_2_y1), (injection_2_x2, injection_2_y1),\n",
    "                                        (injection_2_x2, injection_2_y2), (injection_2_x1, injection_2_y2)])\n",
    "injection_2_gdf = geopandas.GeoSeries([injection_2])"
   ]
  },
  {
   "cell_type": "markdown",
   "metadata": {},
   "source": [
    "#### Plot both together"
   ]
  },
  {
   "cell_type": "code",
   "execution_count": null,
   "metadata": {},
   "outputs": [],
   "source": [
    "f = matplotlib.pyplot.figure(figsize=(15, 5))\n",
    "\n",
    "ax1 = f.add_subplot(121) \n",
    "dem.plot(cmap=\"viridis\", ax=ax1, vmin = 0, vmax = 65)\n",
    "ax1.set_title(\"LiDAR Herbert - zoomed in on coast\")\n",
    "matplotlib.pyplot.xlim([1.4238e6, 1.425e6])\n",
    "matplotlib.pyplot.ylim([4.9880e6, 4.9895e6])\n",
    "injection_1_gdf.plot(color='None', edgecolor='red', linewidth=2, ax=ax1, zorder=4)\n",
    "\n",
    "ax2 = f.add_subplot(122) \n",
    "dem.plot(cmap=\"viridis\", ax=ax2, vmin = 0, vmax = 65)\n",
    "ax2.set_title(\"LiDAR Herbert - zoomed in on coast\")\n",
    "matplotlib.pyplot.xlim([1.4244e6, 1.4255e6])\n",
    "matplotlib.pyplot.ylim([4.9835e6, 4.9855e6])\n",
    "injection_2_gdf.plot(color='None', edgecolor='red', linewidth=2, ax=ax2, zorder=4)\n",
    "\n",
    "matplotlib.pyplot.show()"
   ]
  },
  {
   "cell_type": "markdown",
   "metadata": {},
   "source": [
    "# Save injection files\n",
    "Example syntax below:\n",
    "\n",
    "```\n",
    "t0, flow_rate_0\n",
    "t1, flow_rate_1\n",
    "tn, flow_rate_2\n",
    "```\n",
    "\n",
    "Where the time must increase, but does not need to be evenly spaced."
   ]
  },
  {
   "cell_type": "code",
   "execution_count": null,
   "metadata": {},
   "outputs": [],
   "source": [
    "if not ((base_path/model_path).exists()):\n",
    "    (base_path/model_path).mkdir()"
   ]
  },
  {
   "cell_type": "code",
   "execution_count": null,
   "metadata": {},
   "outputs": [],
   "source": [
    "lines = [\"# Herbet river. North branch. Injection rates\\n\", \"0.0, 100.0\\n\", \"600.0, 300.0\\n\", \"10800.0, 300.0\\n\"] \n",
    "injection_file = open(base_path/model_path/injection_1_name,\"w\")\n",
    "injection_file.writelines(lines)\n",
    "injection_file.close()"
   ]
  },
  {
   "cell_type": "code",
   "execution_count": null,
   "metadata": {},
   "outputs": [],
   "source": [
    "lines = [\"# Herbet river. South branch. Injection rates\\n\", \"0.0, 150.0\\n\", \"600.0, 400.0\\n\", \"10800.0, 400.0\\n\"] \n",
    "injection_file = open(base_path/model_path/injection_2_name,\"w\")\n",
    "injection_file.writelines(lines)\n",
    "injection_file.close()"
   ]
  },
  {
   "cell_type": "markdown",
   "metadata": {},
   "source": [
    "# Save BG-FLOOD param file\n",
    "### Parameters"
   ]
  },
  {
   "cell_type": "code",
   "execution_count": null,
   "metadata": {},
   "outputs": [],
   "source": [
    "gpudevice = -1 \n",
    "dx = 10\n",
    "mask = 75\n",
    "smallnc = 0\n",
    "outputtimestep = 600\n",
    "endtime = 10800"
   ]
  },
  {
   "cell_type": "markdown",
   "metadata": {},
   "source": [
    "### Write out parameter file"
   ]
  },
  {
   "cell_type": "code",
   "execution_count": null,
   "metadata": {},
   "outputs": [],
   "source": [
    "lines = [\"## Herbet river. Parameter file. Basic test.\\n\", \n",
    "         \"topo = \" + str(dem_name) + \"?z\\n\", \n",
    "         \"gpudevice = \" + str(gpudevice) + \"\\n\", \n",
    "         \"dx = \" + str(dx) + \"\\n\", \n",
    "         \"mask = \" + str(mask) + \"\\n\",\n",
    "         \"smallnc = \" + str(smallnc) + \"\\n\",\n",
    "         \"outputtimestep = \" + str(outputtimestep) + \"\\n\",\n",
    "         \"endtime = \" + str(endtime) + \"\\n\",\n",
    "         \"river = \" + str(injection_1_name) + \", \" + str(injection_1_x1) + \", \" + str(injection_1_x2) + \", \" + str(injection_1_y1)\n",
    "         + \", \" + str(injection_1_y2) + \"\\n\",\n",
    "         \"river = \" + str(injection_2_name) + \", \" + str(injection_2_x1) + \", \" + str(injection_2_x2) + \", \" +  str(injection_2_y1) \n",
    "         + \", \" + str(injection_2_y2)  + \"\\n\"] \n",
    "injection_file = open(base_path/model_path/param_name,\"w\")\n",
    "injection_file.writelines(lines)\n",
    "injection_file.close()"
   ]
  },
  {
   "cell_type": "code",
   "execution_count": null,
   "metadata": {},
   "outputs": [],
   "source": []
  }
 ],
 "metadata": {
  "kernelspec": {
   "display_name": "Python [conda env:workspace]",
   "language": "python",
   "name": "conda-env-workspace-py"
  },
  "language_info": {
   "codemirror_mode": {
    "name": "ipython",
    "version": 3
   },
   "file_extension": ".py",
   "mimetype": "text/x-python",
   "name": "python",
   "nbconvert_exporter": "python",
   "pygments_lexer": "ipython3",
   "version": "3.8.8"
  }
 },
 "nbformat": 4,
 "nbformat_minor": 2
}
