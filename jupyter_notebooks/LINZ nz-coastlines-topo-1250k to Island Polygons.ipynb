{
 "cells": [
  {
   "cell_type": "code",
   "execution_count": null,
   "metadata": {},
   "outputs": [],
   "source": [
    "import geopandas\n",
    "import shapely.geometry\n",
    "import shapely.ops\n",
    "import matplotlib.pyplot"
   ]
  },
  {
   "cell_type": "markdown",
   "metadata": {},
   "source": [
    "# Setup paths"
   ]
  },
  {
   "cell_type": "code",
   "execution_count": null,
   "metadata": {},
   "outputs": [],
   "source": [
    "base_path = r'/Users/pearsonra/Documents/data/gis/coast'\n",
    "zip_name = r'lds-nz-coastlines-topo-1250k-SHP.zip'\n",
    "data_name = r'nz-coastlines-topo-1250k.shp'\n",
    "full_path = r'zip://' + base_path + r'/' + zip_name + '!' + data_name"
   ]
  },
  {
   "cell_type": "markdown",
   "metadata": {},
   "source": [
    "# Load in data"
   ]
  },
  {
   "cell_type": "code",
   "execution_count": null,
   "metadata": {},
   "outputs": [],
   "source": [
    "coast = geopandas.read_file(full_path)"
   ]
  },
  {
   "cell_type": "markdown",
   "metadata": {},
   "source": [
    "# Set projection"
   ]
  },
  {
   "cell_type": "code",
   "execution_count": null,
   "metadata": {},
   "outputs": [],
   "source": [
    "crs = 2193\n",
    "coast = coast.to_crs(crs)"
   ]
  },
  {
   "cell_type": "markdown",
   "metadata": {},
   "source": [
    "# Convert coast lines to shapes"
   ]
  },
  {
   "cell_type": "code",
   "execution_count": null,
   "metadata": {},
   "outputs": [],
   "source": [
    "north_island = geopandas.GeoDataFrame(index=[0], geometry=[shapely.geometry.Polygon(shapely.ops.linemerge(shapely.geometry.MultiLineString([coast.loc[1].geometry, coast.loc[2].geometry])))], crs=crs)\n",
    "south_island = geopandas.GeoDataFrame(index=[0], geometry=[shapely.geometry.Polygon(shapely.ops.linemerge(shapely.geometry.MultiLineString([coast.loc[0].geometry, coast.loc[3].geometry])))], crs=crs)\n",
    "stewart_island = geopandas.GeoDataFrame(index=[0], geometry=[shapely.geometry.Polygon(coast.loc[4].geometry)], crs=crs)"
   ]
  },
  {
   "cell_type": "markdown",
   "metadata": {},
   "source": [
    "# Set projection"
   ]
  },
  {
   "cell_type": "code",
   "execution_count": null,
   "metadata": {},
   "outputs": [],
   "source": [
    "north_island = north_island.to_crs(crs)\n",
    "south_island = south_island.to_crs(crs)\n",
    "stewart_island = stewart_island.to_crs(crs)"
   ]
  },
  {
   "cell_type": "markdown",
   "metadata": {},
   "source": [
    "# Save results"
   ]
  },
  {
   "cell_type": "code",
   "execution_count": null,
   "metadata": {},
   "outputs": [],
   "source": [
    "north_island.to_file(base_path + r'/' + 'north_island', driver='ESRI Shapefile')\n",
    "south_island.to_file(base_path + r'/' + 'south_island', driver='ESRI Shapefile')\n",
    "stewart_island.to_file(base_path + r'/' + 'stewart_island', driver='ESRI Shapefile')"
   ]
  },
  {
   "cell_type": "code",
   "execution_count": null,
   "metadata": {},
   "outputs": [],
   "source": []
  }
 ],
 "metadata": {
  "kernelspec": {
   "display_name": "Python [conda env:workspace]",
   "language": "python",
   "name": "conda-env-workspace-py"
  },
  "language_info": {
   "codemirror_mode": {
    "name": "ipython",
    "version": 3
   },
   "file_extension": ".py",
   "mimetype": "text/x-python",
   "name": "python",
   "nbconvert_exporter": "python",
   "pygments_lexer": "ipython3",
   "version": "3.8.8"
  }
 },
 "nbformat": 4,
 "nbformat_minor": 2
}
