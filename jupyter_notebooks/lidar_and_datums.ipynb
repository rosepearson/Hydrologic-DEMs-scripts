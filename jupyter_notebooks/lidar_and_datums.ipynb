{
 "cells": [
  {
   "cell_type": "code",
   "execution_count": 12,
   "metadata": {},
   "outputs": [],
   "source": [
    "import geopandas\n",
    "import rioxarray\n",
    "import shapely\n",
    "import pdal\n",
    "import numpy\n",
    "import json\n",
    "import pathlib\n",
    "import pdal\n",
    "import time\n",
    "import matplotlib\n",
    "import matplotlib.pyplot"
   ]
  },
  {
   "cell_type": "markdown",
   "metadata": {},
   "source": [
    "# The NZ20_Westport produces a 15m offset\n",
    "Dataset information: https://doi.org/10.5069/G9Z31WV0\n",
    "\n",
    "Datum information:\n",
    "\n",
    "    Horizontal: NZTM2000 NZGD2000 Meters [EPSG: 2193]\n",
    "    Vertical: NZVD2016 [EPSG: 7839]"
   ]
  },
  {
   "cell_type": "code",
   "execution_count": 7,
   "metadata": {},
   "outputs": [],
   "source": [
    "tile = \"CL2_BR20_2020_1000_3731.laz\""
   ]
  },
  {
   "cell_type": "code",
   "execution_count": 8,
   "metadata": {},
   "outputs": [],
   "source": [
    "file_path = pathlib.Path(r'C:\\Users\\pearsonra\\Documents\\data\\Westport\\local_cache\\NZ20_Westport') / tile"
   ]
  },
  {
   "cell_type": "code",
   "execution_count": 38,
   "metadata": {},
   "outputs": [],
   "source": [
    "h_crs = 2193\n",
    "v_crs = 7839"
   ]
  },
  {
   "cell_type": "code",
   "execution_count": 74,
   "metadata": {},
   "outputs": [],
   "source": [
    "pdal_pipeline_instructions = [{\"type\":\"readers.las\", \"filename\": str(file_path)},\n",
    "                              {\"type\":\"filters.reprojection\",\"out_srs\":\"EPSG:\" + str(h_crs)}, \n",
    "                              {\"type\":\"filters.hexbin\"}]\n",
    "pdal_pipeline = pdal.Pipeline(json.dumps(pdal_pipeline_instructions))\n",
    "pdal_pipeline.execute()\n",
    "metadata_hproj=json.loads(pdal_pipeline.get_metadata())\n",
    "extent_hproj = shapely.wkt.loads(metadata['metadata']['filters.hexbin']['boundary'])\n",
    "points_hproj = pdal_pipeline.arrays"
   ]
  },
  {
   "cell_type": "code",
   "execution_count": 75,
   "metadata": {},
   "outputs": [],
   "source": [
    "pdal_pipeline_instructions = [{\"type\":\"readers.las\", \"filename\": str(file_path)},\n",
    "                              {\"type\":\"filters.reprojection\",\"out_srs\":\"EPSG:\" + str(v_crs)}, \n",
    "                              {\"type\":\"filters.hexbin\"}]\n",
    "pdal_pipeline = pdal.Pipeline(json.dumps(pdal_pipeline_instructions))\n",
    "pdal_pipeline.execute()\n",
    "metadata_vproj=json.loads(pdal_pipeline.get_metadata())\n",
    "extent_vproj = shapely.wkt.loads(metadata['metadata']['filters.hexbin']['boundary'])\n",
    "points_vproj = pdal_pipeline.arrays"
   ]
  },
  {
   "cell_type": "code",
   "execution_count": 76,
   "metadata": {},
   "outputs": [],
   "source": [
    "pdal_pipeline_instructions = [{\"type\":\"readers.las\", \"filename\": str(file_path)},\n",
    "                              {\"type\":\"filters.hexbin\"}]\n",
    "pdal_pipeline = pdal.Pipeline(json.dumps(pdal_pipeline_instructions))\n",
    "pdal_pipeline.execute()\n",
    "metadata_noproj=json.loads(pdal_pipeline.get_metadata())\n",
    "extent_noproj = shapely.wkt.loads(metadata['metadata']['filters.hexbin']['boundary'])\n",
    "points_noproj = pdal_pipeline.arrays"
   ]
  },
  {
   "cell_type": "code",
   "execution_count": 54,
   "metadata": {},
   "outputs": [
    {
     "name": "stderr",
     "output_type": "stream",
     "text": [
      "C:\\ProgramData\\Anaconda3\\envs\\spyder\\lib\\site-packages\\geopandas\\plotting.py:407: UserWarning: The GeoSeries you are attempting to plot is composed of empty geometries. Nothing has been displayed.\n",
      "  warnings.warn(\n"
     ]
    },
    {
     "data": {
      "text/plain": [
       "<AxesSubplot:>"
      ]
     },
     "execution_count": 54,
     "metadata": {},
     "output_type": "execute_result"
    },
    {
     "data": {
      "image/png": "[encoded data removed]",
      "text/plain": [
       "<Figure size 432x288 with 1 Axes>"
      ]
     },
     "metadata": {
      "needs_background": "light"
     },
     "output_type": "display_data"
    }
   ],
   "source": [
    "ax = geopandas.GeoSeries(extent_hproj).plot(color='blue')\n",
    "geopandas.GeoSeries(extent_vproj).plot(ax=ax, color='none', edgecolor='red', linewidth=4)\n",
    "geopandas.GeoSeries(extent_noproj).plot(ax=ax, color='none', edgecolor='green', linewidth=2)\n"
   ]
  },
  {
   "cell_type": "code",
   "execution_count": 49,
   "metadata": {},
   "outputs": [
    {
     "data": {
      "text/plain": [
       "dict_keys(['filters.hexbin', 'filters.reprojection', 'readers.las'])"
      ]
     },
     "execution_count": 49,
     "metadata": {},
     "output_type": "execute_result"
    }
   ],
   "source": [
    "metadata['metadata'].keys()"
   ]
  },
  {
   "cell_type": "markdown",
   "metadata": {},
   "source": [
    "# Compare the points returned for the different reprojections\n",
    "Note that: \n",
    "1. The EPSG:2193 (horizontal) produces an incorrect vertical offset\n",
    "2. The EPSG:7839 (vertical) results in no points returned\n",
    "3. No projection seems to produce correct value\n",
    "\n",
    "Consider chaining and checking projects and only performing projection if not already in the desired EPSG. **Will need to apply clipping after as will beed to check the points are in the right datum.**"
   ]
  },
  {
   "cell_type": "code",
   "execution_count": 77,
   "metadata": {},
   "outputs": [
    {
     "data": {
      "text/plain": [
       "[array([(1482400.59, 5379360.19, 15.1187161 , 320, 1, 1, 1, 0, 2, -16.002, 0, 60, 2.77509272e+08, 0, 0),\n",
       "        (1482400.1 , 5379360.7 , 15.09769989, 368, 1, 1, 1, 0, 2, -16.002, 0, 60, 2.77509272e+08, 0, 0),\n",
       "        (1482400.07, 5379363.16, 15.12770089, 336, 1, 1, 0, 0, 2, -16.002, 0, 60, 2.77509272e+08, 0, 0),\n",
       "        ...,\n",
       "        (1482400.15, 5379360.96, 15.0887018 , 576, 1, 1, 1, 0, 2,  -3.   , 0, 62, 2.77508538e+08, 0, 0),\n",
       "        (1482400.67, 5379360.62, 15.11671917, 528, 1, 1, 1, 0, 2,  -3.   , 0, 62, 2.77508538e+08, 0, 0),\n",
       "        (1482401.2 , 5379360.26, 15.08573686, 736, 1, 1, 1, 0, 2,  -3.   , 0, 62, 2.77508538e+08, 0, 0)],\n",
       "       dtype=[('X', '<f8'), ('Y', '<f8'), ('Z', '<f8'), ('Intensity', '<u2'), ('ReturnNumber', 'u1'), ('NumberOfReturns', 'u1'), ('ScanDirectionFlag', 'u1'), ('EdgeOfFlightLine', 'u1'), ('Classification', 'u1'), ('ScanAngleRank', '<f4'), ('UserData', 'u1'), ('PointSourceId', '<u2'), ('GpsTime', '<f8'), ('ScanChannel', 'u1'), ('ClassFlags', 'u1')])]"
      ]
     },
     "execution_count": 77,
     "metadata": {},
     "output_type": "execute_result"
    }
   ],
   "source": [
    "points_hproj"
   ]
  },
  {
   "cell_type": "code",
   "execution_count": 78,
   "metadata": {},
   "outputs": [
    {
     "data": {
      "text/plain": [
       "[array([],\n",
       "       dtype=[('X', '<f8'), ('Y', '<f8'), ('Z', '<f8'), ('Intensity', '<u2'), ('ReturnNumber', 'u1'), ('NumberOfReturns', 'u1'), ('ScanDirectionFlag', 'u1'), ('EdgeOfFlightLine', 'u1'), ('Classification', 'u1'), ('ScanAngleRank', '<f4'), ('UserData', 'u1'), ('PointSourceId', '<u2'), ('GpsTime', '<f8'), ('ScanChannel', 'u1'), ('ClassFlags', 'u1')])]"
      ]
     },
     "execution_count": 78,
     "metadata": {},
     "output_type": "execute_result"
    }
   ],
   "source": [
    "points_vproj"
   ]
  },
  {
   "cell_type": "code",
   "execution_count": 79,
   "metadata": {},
   "outputs": [
    {
     "data": {
      "text/plain": [
       "[array([(1482400.59, 5379360.19, -0.948, 320, 1, 1, 1, 0, 2, -16.002, 0, 60, 2.77509272e+08, 0, 0),\n",
       "        (1482400.1 , 5379360.7 , -0.969, 368, 1, 1, 1, 0, 2, -16.002, 0, 60, 2.77509272e+08, 0, 0),\n",
       "        (1482400.07, 5379363.16, -0.939, 336, 1, 1, 0, 0, 2, -16.002, 0, 60, 2.77509272e+08, 0, 0),\n",
       "        ...,\n",
       "        (1482400.15, 5379360.96, -0.978, 576, 1, 1, 1, 0, 2,  -3.   , 0, 62, 2.77508538e+08, 0, 0),\n",
       "        (1482400.67, 5379360.62, -0.95 , 528, 1, 1, 1, 0, 2,  -3.   , 0, 62, 2.77508538e+08, 0, 0),\n",
       "        (1482401.2 , 5379360.26, -0.981, 736, 1, 1, 1, 0, 2,  -3.   , 0, 62, 2.77508538e+08, 0, 0)],\n",
       "       dtype=[('X', '<f8'), ('Y', '<f8'), ('Z', '<f8'), ('Intensity', '<u2'), ('ReturnNumber', 'u1'), ('NumberOfReturns', 'u1'), ('ScanDirectionFlag', 'u1'), ('EdgeOfFlightLine', 'u1'), ('Classification', 'u1'), ('ScanAngleRank', '<f4'), ('UserData', 'u1'), ('PointSourceId', '<u2'), ('GpsTime', '<f8'), ('ScanChannel', 'u1'), ('ClassFlags', 'u1')])]"
      ]
     },
     "execution_count": 79,
     "metadata": {},
     "output_type": "execute_result"
    }
   ],
   "source": [
    "points_noproj"
   ]
  },
  {
   "cell_type": "markdown",
   "metadata": {},
   "source": [
    "# Look at meta data to look for CRS\n",
    "Note the `comp_spatialreference` and `spatialreference` are the same. The `srs` appears to indicate the transform applied. Could look at carefully to try inderstnd the vertical offset."
   ]
  },
  {
   "cell_type": "code",
   "execution_count": 80,
   "metadata": {},
   "outputs": [
    {
     "data": {
      "text/plain": [
       "dict_keys(['filters.hexbin', 'filters.reprojection', 'readers.las'])"
      ]
     },
     "execution_count": 80,
     "metadata": {},
     "output_type": "execute_result"
    }
   ],
   "source": [
    "metadata_hproj['metadata'].keys()"
   ]
  },
  {
   "cell_type": "code",
   "execution_count": 81,
   "metadata": {},
   "outputs": [
    {
     "data": {
      "text/plain": [
       "dict_keys(['comp_spatialreference', 'spatialreference', 'srs'])"
      ]
     },
     "execution_count": 81,
     "metadata": {},
     "output_type": "execute_result"
    }
   ],
   "source": [
    "metadata_hproj['metadata']['filters.reprojection'].keys()"
   ]
  },
  {
   "cell_type": "code",
   "execution_count": 83,
   "metadata": {},
   "outputs": [
    {
     "data": {
      "text/plain": [
       "True"
      ]
     },
     "execution_count": 83,
     "metadata": {},
     "output_type": "execute_result"
    }
   ],
   "source": [
    "metadata_hproj['metadata']['filters.reprojection']['comp_spatialreference'] == metadata_hproj['metadata']['filters.reprojection']['spatialreference']"
   ]
  },
  {
   "cell_type": "code",
   "execution_count": 85,
   "metadata": {},
   "outputs": [
    {
     "data": {
      "text/plain": [
       "dict_keys(['compoundwkt', 'horizontal', 'isgeocentric', 'isgeographic', 'prettycompoundwkt', 'prettywkt', 'proj4', 'units', 'vertical', 'wkt'])"
      ]
     },
     "execution_count": 85,
     "metadata": {},
     "output_type": "execute_result"
    }
   ],
   "source": [
    "metadata_hproj['metadata']['filters.reprojection']['srs'].keys()"
   ]
  },
  {
   "cell_type": "code",
   "execution_count": 88,
   "metadata": {},
   "outputs": [
    {
     "data": {
      "text/plain": [
       "{'compoundwkt': 'PROJCS[\"NZGD2000 / New Zealand Transverse Mercator 2000\",GEOGCS[\"NZGD2000\",DATUM[\"New_Zealand_Geodetic_Datum_2000\",SPHEROID[\"GRS 1980\",6378137,298.257222101,AUTHORITY[\"EPSG\",\"7019\"]],AUTHORITY[\"EPSG\",\"6167\"]],PRIMEM[\"Greenwich\",0,AUTHORITY[\"EPSG\",\"8901\"]],UNIT[\"degree\",0.0174532925199433,AUTHORITY[\"EPSG\",\"9122\"]],AUTHORITY[\"EPSG\",\"4167\"]],PROJECTION[\"Transverse_Mercator\"],PARAMETER[\"latitude_of_origin\",0],PARAMETER[\"central_meridian\",173],PARAMETER[\"scale_factor\",0.9996],PARAMETER[\"false_easting\",1600000],PARAMETER[\"false_northing\",10000000],UNIT[\"metre\",1,AUTHORITY[\"EPSG\",\"9001\"]],AXIS[\"Northing\",NORTH],AXIS[\"Easting\",EAST],AUTHORITY[\"EPSG\",\"2193\"]]',\n",
       " 'horizontal': 'PROJCS[\"NZGD2000 / New Zealand Transverse Mercator 2000\",GEOGCS[\"NZGD2000\",DATUM[\"New_Zealand_Geodetic_Datum_2000\",SPHEROID[\"GRS 1980\",6378137,298.257222101,AUTHORITY[\"EPSG\",\"7019\"]],AUTHORITY[\"EPSG\",\"6167\"]],PRIMEM[\"Greenwich\",0,AUTHORITY[\"EPSG\",\"8901\"]],UNIT[\"degree\",0.0174532925199433,AUTHORITY[\"EPSG\",\"9122\"]],AUTHORITY[\"EPSG\",\"4167\"]],PROJECTION[\"Transverse_Mercator\"],PARAMETER[\"latitude_of_origin\",0],PARAMETER[\"central_meridian\",173],PARAMETER[\"scale_factor\",0.9996],PARAMETER[\"false_easting\",1600000],PARAMETER[\"false_northing\",10000000],UNIT[\"metre\",1,AUTHORITY[\"EPSG\",\"9001\"]],AXIS[\"Northing\",NORTH],AXIS[\"Easting\",EAST],AUTHORITY[\"EPSG\",\"2193\"]]',\n",
       " 'isgeocentric': False,\n",
       " 'isgeographic': False,\n",
       " 'prettycompoundwkt': 'PROJCS[\"NZGD2000 / New Zealand Transverse Mercator 2000\",\\n    GEOGCS[\"NZGD2000\",\\n        DATUM[\"New_Zealand_Geodetic_Datum_2000\",\\n            SPHEROID[\"GRS 1980\",6378137,298.257222101,\\n                AUTHORITY[\"EPSG\",\"7019\"]],\\n            AUTHORITY[\"EPSG\",\"6167\"]],\\n        PRIMEM[\"Greenwich\",0,\\n            AUTHORITY[\"EPSG\",\"8901\"]],\\n        UNIT[\"degree\",0.0174532925199433,\\n            AUTHORITY[\"EPSG\",\"9122\"]],\\n        AUTHORITY[\"EPSG\",\"4167\"]],\\n    PROJECTION[\"Transverse_Mercator\"],\\n    PARAMETER[\"latitude_of_origin\",0],\\n    PARAMETER[\"central_meridian\",173],\\n    PARAMETER[\"scale_factor\",0.9996],\\n    PARAMETER[\"false_easting\",1600000],\\n    PARAMETER[\"false_northing\",10000000],\\n    UNIT[\"metre\",1,\\n        AUTHORITY[\"EPSG\",\"9001\"]],\\n    AXIS[\"Northing\",NORTH],\\n    AXIS[\"Easting\",EAST],\\n    AUTHORITY[\"EPSG\",\"2193\"]]',\n",
       " 'prettywkt': 'PROJCS[\"NZGD2000 / New Zealand Transverse Mercator 2000\",\\n    GEOGCS[\"NZGD2000\",\\n        DATUM[\"New_Zealand_Geodetic_Datum_2000\",\\n            SPHEROID[\"GRS 1980\",6378137,298.257222101,\\n                AUTHORITY[\"EPSG\",\"7019\"]],\\n            AUTHORITY[\"EPSG\",\"6167\"]],\\n        PRIMEM[\"Greenwich\",0,\\n            AUTHORITY[\"EPSG\",\"8901\"]],\\n        UNIT[\"degree\",0.0174532925199433,\\n            AUTHORITY[\"EPSG\",\"9122\"]],\\n        AUTHORITY[\"EPSG\",\"4167\"]],\\n    PROJECTION[\"Transverse_Mercator\"],\\n    PARAMETER[\"latitude_of_origin\",0],\\n    PARAMETER[\"central_meridian\",173],\\n    PARAMETER[\"scale_factor\",0.9996],\\n    PARAMETER[\"false_easting\",1600000],\\n    PARAMETER[\"false_northing\",10000000],\\n    UNIT[\"metre\",1,\\n        AUTHORITY[\"EPSG\",\"9001\"]],\\n    AXIS[\"Northing\",NORTH],\\n    AXIS[\"Easting\",EAST],\\n    AUTHORITY[\"EPSG\",\"2193\"]]',\n",
       " 'proj4': '+proj=tmerc +lat_0=0 +lon_0=173 +k=0.9996 +x_0=1600000 +y_0=10000000 +ellps=GRS80 +towgs84=0,0,0,0,0,0,0 +units=m +no_defs',\n",
       " 'units': {'horizontal': 'metre', 'vertical': ''},\n",
       " 'vertical': '',\n",
       " 'wkt': 'PROJCS[\"NZGD2000 / New Zealand Transverse Mercator 2000\",GEOGCS[\"NZGD2000\",DATUM[\"New_Zealand_Geodetic_Datum_2000\",SPHEROID[\"GRS 1980\",6378137,298.257222101,AUTHORITY[\"EPSG\",\"7019\"]],AUTHORITY[\"EPSG\",\"6167\"]],PRIMEM[\"Greenwich\",0,AUTHORITY[\"EPSG\",\"8901\"]],UNIT[\"degree\",0.0174532925199433,AUTHORITY[\"EPSG\",\"9122\"]],AUTHORITY[\"EPSG\",\"4167\"]],PROJECTION[\"Transverse_Mercator\"],PARAMETER[\"latitude_of_origin\",0],PARAMETER[\"central_meridian\",173],PARAMETER[\"scale_factor\",0.9996],PARAMETER[\"false_easting\",1600000],PARAMETER[\"false_northing\",10000000],UNIT[\"metre\",1,AUTHORITY[\"EPSG\",\"9001\"]],AXIS[\"Northing\",NORTH],AXIS[\"Easting\",EAST],AUTHORITY[\"EPSG\",\"2193\"]]'}"
      ]
     },
     "execution_count": 88,
     "metadata": {},
     "output_type": "execute_result"
    }
   ],
   "source": [
    "metadata_hproj['metadata']['filters.reprojection']['srs']"
   ]
  },
  {
   "cell_type": "markdown",
   "metadata": {},
   "source": [
    "# Look at Metadata to identify horizontal and vertical information"
   ]
  },
  {
   "cell_type": "code",
   "execution_count": 89,
   "metadata": {},
   "outputs": [
    {
     "data": {
      "text/plain": [
       "dict_keys(['comp_spatialreference', 'compressed', 'count', 'creation_doy', 'creation_year', 'dataformat_id', 'dataoffset', 'filesource_id', 'global_encoding', 'global_encoding_base64', 'header_size', 'major_version', 'maxx', 'maxy', 'maxz', 'minor_version', 'minx', 'miny', 'minz', 'offset_x', 'offset_y', 'offset_z', 'point_length', 'project_id', 'scale_x', 'scale_y', 'scale_z', 'software_id', 'spatialreference', 'srs', 'system_id', 'vlr_0', 'vlr_1', 'vlr_2'])"
      ]
     },
     "execution_count": 89,
     "metadata": {},
     "output_type": "execute_result"
    }
   ],
   "source": [
    "metadata['metadata']['readers.las'].keys()"
   ]
  },
  {
   "cell_type": "code",
   "execution_count": 101,
   "metadata": {},
   "outputs": [
    {
     "data": {
      "text/plain": [
       "'COMPD_CS[\"NZGD2000 / New Zealand Transverse Mercator 2000 + NZVD2016 height\",PROJCS[\"NZGD2000 / New Zealand Transverse Mercator 2000\",GEOGCS[\"NZGD2000\",DATUM[\"New_Zealand_Geodetic_Datum_2000\",SPHEROID[\"GRS 1980\",6378137,298.257222101,AUTHORITY[\"EPSG\",\"7019\"]],AUTHORITY[\"EPSG\",\"6167\"]],PRIMEM[\"Greenwich\",0,AUTHORITY[\"EPSG\",\"8901\"]],UNIT[\"degree\",0.0174532925199433,AUTHORITY[\"EPSG\",\"9122\"]],AUTHORITY[\"EPSG\",\"4167\"]],PROJECTION[\"Transverse_Mercator\"],PARAMETER[\"latitude_of_origin\",0],PARAMETER[\"central_meridian\",173],PARAMETER[\"scale_factor\",0.9996],PARAMETER[\"false_easting\",1600000],PARAMETER[\"false_northing\",10000000],UNIT[\"metre\",1,AUTHORITY[\"EPSG\",\"9001\"]],AXIS[\"Northing\",NORTH],AXIS[\"Easting\",EAST],AUTHORITY[\"EPSG\",\"2193\"]],VERT_CS[\"NZVD2016 height\",VERT_DATUM[\"New Zealand Vertical Datum 2016\",2005,AUTHORITY[\"EPSG\",\"1169\"]],UNIT[\"metre\",1,AUTHORITY[\"EPSG\",\"9001\"]],AXIS[\"Gravity-related height\",UP],AUTHORITY[\"EPSG\",\"7839\"]]]'"
      ]
     },
     "execution_count": 101,
     "metadata": {},
     "output_type": "execute_result"
    }
   ],
   "source": [
    "metadata['metadata']['readers.las']['spatialreference']"
   ]
  },
  {
   "cell_type": "raw",
   "metadata": {},
   "source": [
    "'COMPD_CS[\"NZGD2000 / New Zealand Transverse Mercator 2000 + NZVD2016 height\",\n",
    "    PROJCS[\"NZGD2000 / New Zealand Transverse Mercator 2000\",\n",
    "        GEOGCS[\"NZGD2000\",\n",
    "            DATUM[\"New_Zealand_Geodetic_Datum_2000\",\n",
    "                SPHEROID[\"GRS 1980\",6378137,298.257222101,     \n",
    "                    AUTHORITY[\"EPSG\",\"7019\"]],         \n",
    "                AUTHORITY[\"EPSG\",\"6167\"]],         \n",
    "            PRIMEM[\"Greenwich\",0,\n",
    "                AUTHORITY[\"EPSG\",\"8901\"]],            \n",
    "            UNIT[\"degree\",0.0174532925199433,\n",
    "                AUTHORITY[\"EPSG\",\"9122\"]],\n",
    "             AUTHORITY[\"EPSG\",\"4167\"]],\n",
    "             PROJECTION[\"Transverse_Mercator\"],\n",
    "             PARAMETER[\"latitude_of_origin\",0],\n",
    "             PARAMETER[\"central_meridian\",173],\n",
    "             PARAMETER[\"scale_factor\",0.9996],\n",
    "             PARAMETER[\"false_easting\",1600000],\n",
    "             PARAMETER[\"false_northing\",10000000],\n",
    "             UNIT[\"metre\",1,\n",
    "                 AUTHORITY[\"EPSG\",\"9001\"]],\n",
    "             AXIS[\"Northing\",NORTH],\n",
    "             AXIS[\"Easting\",EAST],\n",
    "             AUTHORITY[\"EPSG\",\"2193\"]],\n",
    "         VERT_CS[\"NZVD2016 height\",\n",
    "             VERT_DATUM[\"New Zealand Vertical Datum 2016\",2005,\n",
    "                 AUTHORITY[\"EPSG\",\"1169\"]],\n",
    "             UNIT[\"metre\",1,\n",
    "                 AUTHORITY[\"EPSG\",\"9001\"]],\n",
    "             AXIS[\"Gravity-related height\",UP],\n",
    "             AUTHORITY[\"EPSG\",\"7839\"]]]'"
   ]
  },
  {
   "cell_type": "code",
   "execution_count": 100,
   "metadata": {},
   "outputs": [
    {
     "data": {
      "text/plain": [
       "True"
      ]
     },
     "execution_count": 100,
     "metadata": {},
     "output_type": "execute_result"
    }
   ],
   "source": [
    "metadata['metadata']['readers.las']['spatialreference'] == metadata['metadata']['readers.las']['comp_spatialreference']"
   ]
  },
  {
   "cell_type": "code",
   "execution_count": 104,
   "metadata": {},
   "outputs": [
    {
     "data": {
      "text/plain": [
       "dict_keys(['compoundwkt', 'horizontal', 'isgeocentric', 'isgeographic', 'prettycompoundwkt', 'prettywkt', 'proj4', 'units', 'vertical', 'wkt'])"
      ]
     },
     "execution_count": 104,
     "metadata": {},
     "output_type": "execute_result"
    }
   ],
   "source": [
    "metadata['metadata']['readers.las']['srs'].keys()"
   ]
  },
  {
   "cell_type": "code",
   "execution_count": 105,
   "metadata": {},
   "outputs": [
    {
     "data": {
      "text/plain": [
       "'PROJCS[\"NZGD2000 / New Zealand Transverse Mercator 2000\",GEOGCS[\"NZGD2000\",DATUM[\"New_Zealand_Geodetic_Datum_2000\",SPHEROID[\"GRS 1980\",6378137,298.257222101,AUTHORITY[\"EPSG\",\"7019\"]],AUTHORITY[\"EPSG\",\"6167\"]],PRIMEM[\"Greenwich\",0,AUTHORITY[\"EPSG\",\"8901\"]],UNIT[\"degree\",0.0174532925199433,AUTHORITY[\"EPSG\",\"9122\"]],AUTHORITY[\"EPSG\",\"4167\"]],PROJECTION[\"Transverse_Mercator\"],PARAMETER[\"latitude_of_origin\",0],PARAMETER[\"central_meridian\",173],PARAMETER[\"scale_factor\",0.9996],PARAMETER[\"false_easting\",1600000],PARAMETER[\"false_northing\",10000000],UNIT[\"metre\",1,AUTHORITY[\"EPSG\",\"9001\"]],AXIS[\"Northing\",NORTH],AXIS[\"Easting\",EAST],AUTHORITY[\"EPSG\",\"2193\"]]'"
      ]
     },
     "execution_count": 105,
     "metadata": {},
     "output_type": "execute_result"
    }
   ],
   "source": [
    "metadata['metadata']['readers.las']['srs']['horizontal']"
   ]
  },
  {
   "cell_type": "code",
   "execution_count": 106,
   "metadata": {},
   "outputs": [
    {
     "data": {
      "text/plain": [
       "'VERT_CS[\"NZVD2016 height\",VERT_DATUM[\"New Zealand Vertical Datum 2016\",2005,AUTHORITY[\"EPSG\",\"1169\"]],UNIT[\"metre\",1,AUTHORITY[\"EPSG\",\"9001\"]],AXIS[\"Gravity-related height\",UP],AUTHORITY[\"EPSG\",\"7839\"]]'"
      ]
     },
     "execution_count": 106,
     "metadata": {},
     "output_type": "execute_result"
    }
   ],
   "source": [
    "metadata['metadata']['readers.las']['srs']['vertical']"
   ]
  },
  {
   "cell_type": "code",
   "execution_count": 122,
   "metadata": {},
   "outputs": [],
   "source": [
    "vertical_srs = metadata['metadata']['readers.las']['srs']['vertical']"
   ]
  },
  {
   "cell_type": "code",
   "execution_count": 140,
   "metadata": {},
   "outputs": [
    {
     "data": {
      "text/plain": [
       "'7839'"
      ]
     },
     "execution_count": 140,
     "metadata": {},
     "output_type": "execute_result"
    }
   ],
   "source": [
    "vertical_srs[vertical_srs.rfind('AUTHORITY[\"EPSG\",'):].strip('AUTHORITY[\"EPSG\",\"\"').strip('\"]]')"
   ]
  },
  {
   "cell_type": "code",
   "execution_count": 134,
   "metadata": {},
   "outputs": [
    {
     "data": {
      "text/plain": [
       "['7', '8', '3', '9']"
      ]
     },
     "execution_count": 134,
     "metadata": {},
     "output_type": "execute_result"
    }
   ],
   "source": [
    "list(filter(str.isdigit, str1))"
   ]
  },
  {
   "cell_type": "code",
   "execution_count": 118,
   "metadata": {},
   "outputs": [
    {
     "data": {
      "text/plain": [
       "'PROJCS[\"NZGD2000 / New Zealand Transverse Mercator 2000\",GEOGCS[\"NZGD2000\",DATUM[\"New_Zealand_Geodetic_Datum_2000\",SPHEROID[\"GRS 1980\",6378137,298.257222101,AUTHORITY[\"EPSG\",\"7019\"]],AUTHORITY[\"EPSG\",\"6167\"]],PRIMEM[\"Greenwich\",0,AUTHORITY[\"EPSG\",\"8901\"]],UNIT[\"degree\",0.0174532925199433,AUTHORITY[\"EPSG\",\"9122\"]],AUTHORITY[\"EPSG\",\"4167\"]],PROJECTION[\"Transverse_Mercator\"],PARAMETER[\"latitude_of_origin\",0],PARAMETER[\"central_meridian\",173],PARAMETER[\"scale_factor\",0.9996],PARAMETER[\"false_easting\",1600000],PARAMETER[\"false_northing\",10000000],UNIT[\"metre\",1,AUTHORITY[\"EPSG\",\"9001\"]],AXIS[\"Northing\",NORTH],AXIS[\"Easting\",EAST],AUTHORITY[\"EPSG\",\"2193\"]]'"
      ]
     },
     "execution_count": 118,
     "metadata": {},
     "output_type": "execute_result"
    }
   ],
   "source": [
    "metadata['metadata']['readers.las']['srs']['wkt']"
   ]
  },
  {
   "cell_type": "markdown",
   "metadata": {},
   "source": [
    "# Try reprojection again with different \n",
    "Examples of pitfalls: https://pdal.io/workshop/exercises/translation/reprojection.html"
   ]
  },
  {
   "cell_type": "code",
   "execution_count": 109,
   "metadata": {},
   "outputs": [],
   "source": [
    "pdal_pipeline_instructions = [{\"type\":\"readers.las\", \"filename\": str(file_path)},\n",
    "                              {\"type\":\"filters.reprojection\",\"in_srs\":\"EPSG:\" + str(h_crs), \"out_srs\":\"EPSG:\" + str(h_crs)}, \n",
    "                              {\"type\":\"filters.hexbin\"}]\n",
    "pdal_pipeline = pdal.Pipeline(json.dumps(pdal_pipeline_instructions))\n",
    "pdal_pipeline.execute()\n",
    "metadata_hproj=json.loads(pdal_pipeline.get_metadata())\n",
    "extent_hproj = shapely.wkt.loads(metadata['metadata']['filters.hexbin']['boundary'])\n",
    "points_hproj = pdal_pipeline.arrays"
   ]
  },
  {
   "cell_type": "code",
   "execution_count": 110,
   "metadata": {},
   "outputs": [
    {
     "data": {
      "text/plain": [
       "[array([(1482400.59, 5379360.19, -0.948, 320, 1, 1, 1, 0, 2, -16.002, 0, 60, 2.77509272e+08, 0, 0),\n",
       "        (1482400.1 , 5379360.7 , -0.969, 368, 1, 1, 1, 0, 2, -16.002, 0, 60, 2.77509272e+08, 0, 0),\n",
       "        (1482400.07, 5379363.16, -0.939, 336, 1, 1, 0, 0, 2, -16.002, 0, 60, 2.77509272e+08, 0, 0),\n",
       "        ...,\n",
       "        (1482400.15, 5379360.96, -0.978, 576, 1, 1, 1, 0, 2,  -3.   , 0, 62, 2.77508538e+08, 0, 0),\n",
       "        (1482400.67, 5379360.62, -0.95 , 528, 1, 1, 1, 0, 2,  -3.   , 0, 62, 2.77508538e+08, 0, 0),\n",
       "        (1482401.2 , 5379360.26, -0.981, 736, 1, 1, 1, 0, 2,  -3.   , 0, 62, 2.77508538e+08, 0, 0)],\n",
       "       dtype=[('X', '<f8'), ('Y', '<f8'), ('Z', '<f8'), ('Intensity', '<u2'), ('ReturnNumber', 'u1'), ('NumberOfReturns', 'u1'), ('ScanDirectionFlag', 'u1'), ('EdgeOfFlightLine', 'u1'), ('Classification', 'u1'), ('ScanAngleRank', '<f4'), ('UserData', 'u1'), ('PointSourceId', '<u2'), ('GpsTime', '<f8'), ('ScanChannel', 'u1'), ('ClassFlags', 'u1')])]"
      ]
     },
     "execution_count": 110,
     "metadata": {},
     "output_type": "execute_result"
    }
   ],
   "source": [
    "points_hproj"
   ]
  },
  {
   "cell_type": "code",
   "execution_count": 141,
   "metadata": {},
   "outputs": [
    {
     "data": {
      "text/plain": [
       "'PROJCS[\"NZGD2000 / New Zealand Transverse Mercator 2000\",GEOGCS[\"NZGD2000\",DATUM[\"New_Zealand_Geodetic_Datum_2000\",SPHEROID[\"GRS 1980\",6378137,298.257222101,AUTHORITY[\"EPSG\",\"7019\"]],AUTHORITY[\"EPSG\",\"6167\"]],PRIMEM[\"Greenwich\",0,AUTHORITY[\"EPSG\",\"8901\"]],UNIT[\"degree\",0.0174532925199433,AUTHORITY[\"EPSG\",\"9122\"]],AUTHORITY[\"EPSG\",\"4167\"]],PROJECTION[\"Transverse_Mercator\"],PARAMETER[\"latitude_of_origin\",0],PARAMETER[\"central_meridian\",173],PARAMETER[\"scale_factor\",0.9996],PARAMETER[\"false_easting\",1600000],PARAMETER[\"false_northing\",10000000],UNIT[\"metre\",1,AUTHORITY[\"EPSG\",\"9001\"]],AXIS[\"Northing\",NORTH],AXIS[\"Easting\",EAST],AUTHORITY[\"EPSG\",\"2193\"]]'"
      ]
     },
     "execution_count": 141,
     "metadata": {},
     "output_type": "execute_result"
    }
   ],
   "source": [
    "metadata_hproj['metadata']['readers.las']['srs']['horizontal']"
   ]
  },
  {
   "cell_type": "code",
   "execution_count": 142,
   "metadata": {},
   "outputs": [
    {
     "data": {
      "text/plain": [
       "'VERT_CS[\"NZVD2016 height\",VERT_DATUM[\"New Zealand Vertical Datum 2016\",2005,AUTHORITY[\"EPSG\",\"1169\"]],UNIT[\"metre\",1,AUTHORITY[\"EPSG\",\"9001\"]],AXIS[\"Gravity-related height\",UP],AUTHORITY[\"EPSG\",\"7839\"]]'"
      ]
     },
     "execution_count": 142,
     "metadata": {},
     "output_type": "execute_result"
    }
   ],
   "source": [
    "metadata_hproj['metadata']['readers.las']['srs']['vertical']"
   ]
  },
  {
   "cell_type": "code",
   "execution_count": 145,
   "metadata": {},
   "outputs": [
    {
     "data": {
      "text/plain": [
       "True"
      ]
     },
     "execution_count": 145,
     "metadata": {},
     "output_type": "execute_result"
    }
   ],
   "source": [
    "'123'.isdigit()"
   ]
  },
  {
   "cell_type": "code",
   "execution_count": null,
   "metadata": {},
   "outputs": [],
   "source": []
  }
 ],
 "metadata": {
  "kernelspec": {
   "display_name": "Python [conda env:spyder]",
   "language": "python",
   "name": "conda-env-spyder-py"
  },
  "language_info": {
   "codemirror_mode": {
    "name": "ipython",
    "version": 3
   },
   "file_extension": ".py",
   "mimetype": "text/x-python",
   "name": "python",
   "nbconvert_exporter": "python",
   "pygments_lexer": "ipython3",
   "version": "3.9.5"
  }
 },
 "nbformat": 4,
 "nbformat_minor": 2
}
