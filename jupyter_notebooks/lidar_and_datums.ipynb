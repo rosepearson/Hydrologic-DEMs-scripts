{
 "cells": [
  {
   "cell_type": "code",
   "execution_count": null,
   "metadata": {},
   "outputs": [],
   "source": [
    "import geopandas\n",
    "import rioxarray\n",
    "import shapely\n",
    "import pdal\n",
    "import numpy\n",
    "import json\n",
    "import pathlib\n",
    "import pdal\n",
    "import time\n",
    "import matplotlib\n",
    "import matplotlib.pyplot"
   ]
  },
  {
   "cell_type": "markdown",
   "metadata": {},
   "source": [
    "# The NZ20_Westport produces a 15m offset\n",
    "Dataset information: https://doi.org/10.5069/G9Z31WV0\n",
    "\n",
    "Datum information:\n",
    "\n",
    "    Horizontal: NZTM2000 NZGD2000 Meters [EPSG: 2193]\n",
    "    Vertical: NZVD2016 [EPSG: 7839]"
   ]
  },
  {
   "cell_type": "code",
   "execution_count": null,
   "metadata": {},
   "outputs": [],
   "source": [
    "tile = \"CL2_BR20_2020_1000_3731.laz\""
   ]
  },
  {
   "cell_type": "code",
   "execution_count": null,
   "metadata": {},
   "outputs": [],
   "source": [
    "file_path = pathlib.Path(r'C:\\Users\\pearsonra\\Documents\\data\\Westport\\local_cache\\NZ20_Westport') / tile"
   ]
  },
  {
   "cell_type": "code",
   "execution_count": null,
   "metadata": {},
   "outputs": [],
   "source": [
    "h_crs = 2193\n",
    "v_crs = 7839"
   ]
  },
  {
   "cell_type": "markdown",
   "metadata": {},
   "source": [
    "# Load in with no in_srs set"
   ]
  },
  {
   "cell_type": "code",
   "execution_count": null,
   "metadata": {},
   "outputs": [],
   "source": [
    "pdal_pipeline_instructions = [{\"type\":\"readers.las\", \"filename\": str(file_path)},\n",
    "                              {\"type\":\"filters.reprojection\",\"out_srs\":\"EPSG:\" + str(h_crs)}, \n",
    "                              {\"type\":\"filters.hexbin\"}]\n",
    "pdal_pipeline = pdal.Pipeline(json.dumps(pdal_pipeline_instructions))\n",
    "pdal_pipeline.execute()\n",
    "metadata_hproj=json.loads(pdal_pipeline.get_metadata())\n",
    "extent_hproj = shapely.wkt.loads(metadata_hproj['metadata']['filters.hexbin']['boundary'])\n",
    "points_hproj = pdal_pipeline.arrays"
   ]
  },
  {
   "cell_type": "code",
   "execution_count": null,
   "metadata": {},
   "outputs": [],
   "source": [
    "pdal_pipeline_instructions = [{\"type\":\"readers.las\", \"filename\": str(file_path)},\n",
    "                              {\"type\":\"filters.reprojection\",\"out_srs\":\"EPSG:\" + str(v_crs)}, \n",
    "                              {\"type\":\"filters.hexbin\"}]\n",
    "pdal_pipeline = pdal.Pipeline(json.dumps(pdal_pipeline_instructions))\n",
    "pdal_pipeline.execute()\n",
    "metadata_vproj=json.loads(pdal_pipeline.get_metadata())\n",
    "extent_vproj = shapely.wkt.loads(metadata_vproj['metadata']['filters.hexbin']['boundary'])\n",
    "points_vproj = pdal_pipeline.arrays"
   ]
  },
  {
   "cell_type": "code",
   "execution_count": null,
   "metadata": {},
   "outputs": [],
   "source": [
    "pdal_pipeline_instructions = [{\"type\":\"readers.las\", \"filename\": str(file_path)},\n",
    "                              {\"type\":\"filters.hexbin\"}]\n",
    "pdal_pipeline = pdal.Pipeline(json.dumps(pdal_pipeline_instructions))\n",
    "pdal_pipeline.execute()\n",
    "metadata_noproj=json.loads(pdal_pipeline.get_metadata())\n",
    "extent_noproj = shapely.wkt.loads(metadata_noproj['metadata']['filters.hexbin']['boundary'])\n",
    "points_noproj = pdal_pipeline.arrays"
   ]
  },
  {
   "cell_type": "code",
   "execution_count": null,
   "metadata": {},
   "outputs": [],
   "source": [
    "ax = geopandas.GeoSeries(extent_hproj).plot(color='blue')\n",
    "geopandas.GeoSeries(extent_vproj).plot(ax=ax, color='none', edgecolor='red', linewidth=4)\n",
    "geopandas.GeoSeries(extent_noproj).plot(ax=ax, color='none', edgecolor='green', linewidth=2)\n"
   ]
  },
  {
   "cell_type": "code",
   "execution_count": null,
   "metadata": {},
   "outputs": [],
   "source": [
    "metadata_hproj['metadata'].keys()"
   ]
  },
  {
   "cell_type": "markdown",
   "metadata": {},
   "source": [
    "# Compare the points returned for the different reprojections\n",
    "Note that: \n",
    "1. The EPSG:2193 (horizontal) produces an incorrect vertical offset\n",
    "2. The EPSG:7839 (vertical) results in no points returned\n",
    "3. No projection seems to produce correct value\n",
    "\n",
    "Consider chaining and checking projects and only performing projection if not already in the desired EPSG. **Will need to apply clipping after as will beed to check the points are in the right datum.**"
   ]
  },
  {
   "cell_type": "code",
   "execution_count": null,
   "metadata": {},
   "outputs": [],
   "source": [
    "points_hproj"
   ]
  },
  {
   "cell_type": "code",
   "execution_count": null,
   "metadata": {},
   "outputs": [],
   "source": [
    "points_vproj"
   ]
  },
  {
   "cell_type": "code",
   "execution_count": null,
   "metadata": {},
   "outputs": [],
   "source": [
    "points_noproj"
   ]
  },
  {
   "cell_type": "markdown",
   "metadata": {},
   "source": [
    "# Look at meta data to look for CRS\n",
    "Note the `comp_spatialreference` and `spatialreference` are the same. The `srs` appears to indicate the transform applied. Could look at carefully to try understand the vertical offset."
   ]
  },
  {
   "cell_type": "code",
   "execution_count": null,
   "metadata": {},
   "outputs": [],
   "source": [
    "metadata_hproj['metadata'].keys()"
   ]
  },
  {
   "cell_type": "code",
   "execution_count": null,
   "metadata": {},
   "outputs": [],
   "source": [
    "metadata_hproj['metadata']['filters.reprojection'].keys()"
   ]
  },
  {
   "cell_type": "code",
   "execution_count": null,
   "metadata": {},
   "outputs": [],
   "source": [
    "metadata_hproj['metadata']['filters.reprojection']['comp_spatialreference'] == metadata_hproj['metadata']['filters.reprojection']['spatialreference']"
   ]
  },
  {
   "cell_type": "code",
   "execution_count": null,
   "metadata": {},
   "outputs": [],
   "source": [
    "metadata_hproj['metadata']['filters.reprojection']['spatialreference']"
   ]
  },
  {
   "cell_type": "code",
   "execution_count": null,
   "metadata": {},
   "outputs": [],
   "source": [
    "metadata_hproj['metadata']['filters.reprojection']['srs'] == metadata_hproj['metadata']['filters.reprojection']['spatialreference']"
   ]
  },
  {
   "cell_type": "code",
   "execution_count": null,
   "metadata": {},
   "outputs": [],
   "source": [
    "metadata_hproj['metadata']['filters.reprojection']['srs'].keys()"
   ]
  },
  {
   "cell_type": "code",
   "execution_count": null,
   "metadata": {},
   "outputs": [],
   "source": [
    "metadata_hproj['metadata']['filters.reprojection']['srs']"
   ]
  },
  {
   "cell_type": "markdown",
   "metadata": {},
   "source": [
    "# Look at Metadata to identify horizontal and vertical information"
   ]
  },
  {
   "cell_type": "code",
   "execution_count": null,
   "metadata": {},
   "outputs": [],
   "source": [
    "metadata_noproj['metadata']['readers.las'].keys()"
   ]
  },
  {
   "cell_type": "code",
   "execution_count": null,
   "metadata": {},
   "outputs": [],
   "source": [
    "metadata_noproj['metadata']['readers.las']['spatialreference']"
   ]
  },
  {
   "cell_type": "raw",
   "metadata": {},
   "source": [
    "'COMPD_CS[\"NZGD2000 / New Zealand Transverse Mercator 2000 + NZVD2016 height\",\n",
    "    PROJCS[\"NZGD2000 / New Zealand Transverse Mercator 2000\",\n",
    "        GEOGCS[\"NZGD2000\",\n",
    "            DATUM[\"New_Zealand_Geodetic_Datum_2000\",\n",
    "                SPHEROID[\"GRS 1980\",6378137,298.257222101,     \n",
    "                    AUTHORITY[\"EPSG\",\"7019\"]],         \n",
    "                AUTHORITY[\"EPSG\",\"6167\"]],         \n",
    "            PRIMEM[\"Greenwich\",0,\n",
    "                AUTHORITY[\"EPSG\",\"8901\"]],            \n",
    "            UNIT[\"degree\",0.0174532925199433,\n",
    "                AUTHORITY[\"EPSG\",\"9122\"]],\n",
    "             AUTHORITY[\"EPSG\",\"4167\"]],\n",
    "             PROJECTION[\"Transverse_Mercator\"],\n",
    "             PARAMETER[\"latitude_of_origin\",0],\n",
    "             PARAMETER[\"central_meridian\",173],\n",
    "             PARAMETER[\"scale_factor\",0.9996],\n",
    "             PARAMETER[\"false_easting\",1600000],\n",
    "             PARAMETER[\"false_northing\",10000000],\n",
    "             UNIT[\"metre\",1,\n",
    "                 AUTHORITY[\"EPSG\",\"9001\"]],\n",
    "             AXIS[\"Northing\",NORTH],\n",
    "             AXIS[\"Easting\",EAST],\n",
    "             AUTHORITY[\"EPSG\",\"2193\"]],\n",
    "         VERT_CS[\"NZVD2016 height\",\n",
    "             VERT_DATUM[\"New Zealand Vertical Datum 2016\",2005,\n",
    "                 AUTHORITY[\"EPSG\",\"1169\"]],\n",
    "             UNIT[\"metre\",1,\n",
    "                 AUTHORITY[\"EPSG\",\"9001\"]],\n",
    "             AXIS[\"Gravity-related height\",UP],\n",
    "             AUTHORITY[\"EPSG\",\"7839\"]]]'"
   ]
  },
  {
   "cell_type": "code",
   "execution_count": null,
   "metadata": {},
   "outputs": [],
   "source": [
    "metadata_noproj['metadata']['readers.las']['spatialreference'] == metadata_noproj['metadata']['readers.las']['comp_spatialreference']"
   ]
  },
  {
   "cell_type": "code",
   "execution_count": null,
   "metadata": {},
   "outputs": [],
   "source": [
    "metadata_noproj['metadata']['readers.las']['srs'].keys()"
   ]
  },
  {
   "cell_type": "code",
   "execution_count": null,
   "metadata": {},
   "outputs": [],
   "source": [
    "metadata_noproj['metadata']['readers.las']['srs']['horizontal']"
   ]
  },
  {
   "cell_type": "code",
   "execution_count": null,
   "metadata": {},
   "outputs": [],
   "source": [
    "metadata_noproj['metadata']['readers.las']['srs']['vertical']"
   ]
  },
  {
   "cell_type": "code",
   "execution_count": null,
   "metadata": {},
   "outputs": [],
   "source": [
    "vertical_srs = metadata_noproj['metadata']['readers.las']['srs']['vertical']"
   ]
  },
  {
   "cell_type": "code",
   "execution_count": null,
   "metadata": {},
   "outputs": [],
   "source": [
    "vertical_srs[vertical_srs.rfind('AUTHORITY[\"EPSG\",'):].strip('AUTHORITY[\"EPSG\",\"\"').strip('\"]]')"
   ]
  },
  {
   "cell_type": "code",
   "execution_count": null,
   "metadata": {},
   "outputs": [],
   "source": [
    "metadata_noproj['metadata']['readers.las']['srs']['wkt']"
   ]
  },
  {
   "cell_type": "markdown",
   "metadata": {},
   "source": [
    "# Try reprojection again in_srs and out_srs both specified as the horizontal CRS\n",
    "Examples of pitfalls: https://pdal.io/workshop/exercises/translation/reprojection.html\n",
    "1. This produces the correct z point values.\n",
    "2. The Z SRS is lost. "
   ]
  },
  {
   "cell_type": "code",
   "execution_count": null,
   "metadata": {},
   "outputs": [],
   "source": [
    "pdal_pipeline_instructions = [{\"type\":\"readers.las\", \"filename\": str(file_path)},\n",
    "                              {\"type\":\"filters.reprojection\",\"in_srs\":\"EPSG:\" + str(h_crs), \"out_srs\":\"EPSG:\" + str(h_crs)}, \n",
    "                              {\"type\":\"filters.hexbin\"}]\n",
    "pdal_pipeline = pdal.Pipeline(json.dumps(pdal_pipeline_instructions))\n",
    "pdal_pipeline.execute()\n",
    "metadata_hproj_in_out = json.loads(pdal_pipeline.get_metadata())\n",
    "extent_hproj_in_out = shapely.wkt.loads(metadata_hproj_in_out['metadata']['filters.hexbin']['boundary'])\n",
    "points_hproj_in_out = pdal_pipeline.arrays"
   ]
  },
  {
   "cell_type": "code",
   "execution_count": null,
   "metadata": {},
   "outputs": [],
   "source": [
    "points_hproj_in_out"
   ]
  },
  {
   "cell_type": "code",
   "execution_count": null,
   "metadata": {},
   "outputs": [],
   "source": [
    "metadata_hproj_in_out['metadata']['readers.las']['srs']['horizontal']"
   ]
  },
  {
   "cell_type": "code",
   "execution_count": null,
   "metadata": {},
   "outputs": [],
   "source": [
    "metadata_hproj_in_out['metadata']['readers.las']['srs']['vertical']"
   ]
  },
  {
   "cell_type": "code",
   "execution_count": null,
   "metadata": {},
   "outputs": [],
   "source": [
    "metadata_hproj_in_out['metadata']['filters.reprojection']['comp_spatialreference'] == metadata_hproj_in_out['metadata']['filters.reprojection']['spatialreference']"
   ]
  },
  {
   "cell_type": "code",
   "execution_count": null,
   "metadata": {},
   "outputs": [],
   "source": [
    "metadata_hproj_in_out['metadata']['filters.reprojection']['spatialreference']"
   ]
  },
  {
   "cell_type": "code",
   "execution_count": null,
   "metadata": {},
   "outputs": [],
   "source": [
    "metadata_hproj_in_out['metadata']['filters.reprojection']['srs']['vertical']"
   ]
  },
  {
   "cell_type": "markdown",
   "metadata": {},
   "source": [
    "# Try reprojection again with in_srs and out_srs both specified as the horizontal + vertical one\n",
    "What happens if we use the combined SRS in our projection for the in and out\n",
    "1. This produces the correct z point values.\n",
    "2. The vertical SRS appears to be lost. "
   ]
  },
  {
   "cell_type": "code",
   "execution_count": null,
   "metadata": {},
   "outputs": [],
   "source": [
    "pdal_pipeline_instructions = [{\"type\":\"readers.las\", \"filename\": str(file_path)},\n",
    "                              {\"type\":\"filters.reprojection\",\n",
    "                               \"in_srs\": metadata_noproj['metadata']['readers.las']['spatialreference'], \n",
    "                               \"out_srs\": metadata_noproj['metadata']['readers.las']['spatialreference']}, \n",
    "                              {\"type\":\"filters.hexbin\"}]\n",
    "pdal_pipeline = pdal.Pipeline(json.dumps(pdal_pipeline_instructions))\n",
    "pdal_pipeline.execute()\n",
    "metadata_hvproj_in_out = json.loads(pdal_pipeline.get_metadata())\n",
    "extent_hvproj = shapely.wkt.loads(metadata_hvproj_in_out['metadata']['filters.hexbin']['boundary'])\n",
    "points_hvproj = pdal_pipeline.arrays"
   ]
  },
  {
   "cell_type": "code",
   "execution_count": null,
   "metadata": {},
   "outputs": [],
   "source": [
    "points_hproj"
   ]
  },
  {
   "cell_type": "code",
   "execution_count": null,
   "metadata": {},
   "outputs": [],
   "source": [
    "metadata_hproj_in_out['metadata']['filters.reprojection']['srs']['vertical']"
   ]
  },
  {
   "cell_type": "code",
   "execution_count": null,
   "metadata": {},
   "outputs": [],
   "source": [
    "metadata_hproj_in_out['metadata']['filters.reprojection']['srs']['horizontal']"
   ]
  },
  {
   "cell_type": "code",
   "execution_count": null,
   "metadata": {},
   "outputs": [],
   "source": []
  }
 ],
 "metadata": {
  "kernelspec": {
   "display_name": "Python [conda env:spyder]",
   "language": "python",
   "name": "conda-env-spyder-py"
  },
  "language_info": {
   "codemirror_mode": {
    "name": "ipython",
    "version": 3
   },
   "file_extension": ".py",
   "mimetype": "text/x-python",
   "name": "python",
   "nbconvert_exporter": "python",
   "pygments_lexer": "ipython3",
   "version": "3.9.5"
  }
 },
 "nbformat": 4,
 "nbformat_minor": 2
}
