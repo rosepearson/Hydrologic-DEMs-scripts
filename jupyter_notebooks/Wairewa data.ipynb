{
 "cells": [
  {
   "cell_type": "code",
   "execution_count": null,
   "id": "c7d23c91",
   "metadata": {},
   "outputs": [],
   "source": [
    "import geopandas\n",
    "import shapely\n",
    "from shapely import geometry, ops\n",
    "import geoapis\n",
    "import pathlib\n",
    "from geoapis import vector\n",
    "import dotenv\n",
    "import os"
   ]
  },
  {
   "cell_type": "markdown",
   "id": "8a026b0a",
   "metadata": {},
   "source": [
    "# Paths for files to open and to save"
   ]
  },
  {
   "cell_type": "code",
   "execution_count": null,
   "id": "7ec44ca9",
   "metadata": {},
   "outputs": [],
   "source": [
    "file_path = pathlib.Path(r'C:\\Users\\pearsonra\\Documents\\data\\Wairewa')\n",
    "catchment_path = file_path / r\"catchments\\upper_catchment\\upper_catchment.zip\"\n",
    "bathy_path = file_path / r\"Lake\\bathy_from_niwa\\bathy_LakeForsyth.zip\"\n",
    "lake_name = file_path / r\"Lake\\processed\\lake_outline.geojson\"\n",
    "bathy_name = file_path / r\"Lake\\processed\\bathymetry.geojson\"\n",
    "land_name = file_path / r\"catchments\\upper_catchment_land.geojson\""
   ]
  },
  {
   "cell_type": "markdown",
   "id": "5d402832",
   "metadata": {},
   "source": [
    "Bathymetry from NIWA surveys. Provided by Sanjay. See email."
   ]
  },
  {
   "cell_type": "code",
   "execution_count": null,
   "id": "fe6c154a",
   "metadata": {},
   "outputs": [],
   "source": [
    "bathy_in = geopandas.read_file(bathy_path)"
   ]
  },
  {
   "cell_type": "markdown",
   "id": "6f357b40",
   "metadata": {},
   "source": [
    "Create a lake outline from the good zero contour"
   ]
  },
  {
   "cell_type": "code",
   "execution_count": null,
   "id": "4725df92",
   "metadata": {},
   "outputs": [],
   "source": [
    "lake_outline=bathy_in[bathy_in['OBJECTID_1']==801].reset_index(drop=True)\n",
    "lake_outline=lake_outline.set_geometry([shapely.geometry.Polygon(lake_outline.loc[0].geometry)])\n",
    "lake_outline.to_file(lake_name)"
   ]
  },
  {
   "cell_type": "markdown",
   "id": "e8fab89a",
   "metadata": {},
   "source": [
    "Drop the zero contours and keep the rest as Bathymetry data"
   ]
  },
  {
   "cell_type": "code",
   "execution_count": null,
   "id": "31f6cc7b",
   "metadata": {},
   "outputs": [],
   "source": [
    "bathy_out = bathy_in[bathy_in['contour'] > 0].reset_index(drop=True)\n",
    "bathy_out.to_file(bathy_name)"
   ]
  },
  {
   "cell_type": "markdown",
   "id": "101222a8",
   "metadata": {},
   "source": [
    "Read in the catchment and subtract the lake outline to produce the 'land' polygon"
   ]
  },
  {
   "cell_type": "code",
   "execution_count": null,
   "id": "02e12192",
   "metadata": {},
   "outputs": [],
   "source": [
    "catchment_in = geopandas.read_file(catchment_path)"
   ]
  },
  {
   "cell_type": "code",
   "execution_count": null,
   "id": "ec6f7b9a",
   "metadata": {},
   "outputs": [],
   "source": [
    "land=geopandas.overlay(catchment_in, lake_outline, how=\"difference\")\n",
    "land.to_file(land_name)"
   ]
  },
  {
   "cell_type": "code",
   "execution_count": null,
   "id": "948b547b",
   "metadata": {},
   "outputs": [],
   "source": [
    "(bathy_out.geometry.type=='LineString').any()"
   ]
  },
  {
   "cell_type": "code",
   "execution_count": null,
   "id": "bade6daf",
   "metadata": {},
   "outputs": [],
   "source": [
    "import matplotlib\n",
    "f, ax = matplotlib.pyplot.subplots(figsize=(30, 30))\n",
    "ax=matplotlib.pyplot.subplot(111)\n",
    "bathy_out.plot(ax=ax)"
   ]
  },
  {
   "cell_type": "markdown",
   "id": "a93fff61",
   "metadata": {},
   "source": [
    "# Try download vectors of lakes from LINZ\n",
    "Had to go to private NIWA data in the end"
   ]
  },
  {
   "cell_type": "code",
   "execution_count": null,
   "id": "b4db2367",
   "metadata": {},
   "outputs": [],
   "source": [
    "lake_layer = 4781\n",
    "dotenv.load_dotenv()\n",
    "linz_key = os.environ.get('LINZ_API', None)"
   ]
  },
  {
   "cell_type": "code",
   "execution_count": null,
   "id": "36f7ada6",
   "metadata": {},
   "outputs": [],
   "source": [
    "vector_fetcher = geoapis.vector.Linz(linz_key,bounding_polygon=None,verbose=True)\n",
    "vector = vector_fetcher.run(lake_layer)"
   ]
  },
  {
   "cell_type": "markdown",
   "id": "b807df9d",
   "metadata": {},
   "source": [
    "# Track down cause of error in GeoFabrics"
   ]
  },
  {
   "cell_type": "code",
   "execution_count": null,
   "id": "02eb2ac6",
   "metadata": {},
   "outputs": [],
   "source": [
    "land_name = file_path / r\"catchments\\clipped_contours.geojson\""
   ]
  },
  {
   "cell_type": "code",
   "execution_count": null,
   "id": "1e871317",
   "metadata": {},
   "outputs": [],
   "source": [
    "cb=geopandas.read_file(land_name)"
   ]
  },
  {
   "cell_type": "code",
   "execution_count": null,
   "id": "bf58cf80",
   "metadata": {},
   "outputs": [],
   "source": [
    "cb.plot()"
   ]
  },
  {
   "cell_type": "code",
   "execution_count": null,
   "id": "a4741e42",
   "metadata": {},
   "outputs": [],
   "source": [
    "cb"
   ]
  },
  {
   "cell_type": "code",
   "execution_count": null,
   "id": "6e3a1df7",
   "metadata": {},
   "outputs": [],
   "source": [
    "cb.geometry.type"
   ]
  },
  {
   "cell_type": "code",
   "execution_count": null,
   "id": "be8f9864",
   "metadata": {},
   "outputs": [],
   "source": []
  }
 ],
 "metadata": {
  "kernelspec": {
   "display_name": "Python [conda env:geofabrics]",
   "language": "python",
   "name": "conda-env-geofabrics-py"
  },
  "language_info": {
   "codemirror_mode": {
    "name": "ipython",
    "version": 3
   },
   "file_extension": ".py",
   "mimetype": "text/x-python",
   "name": "python",
   "nbconvert_exporter": "python",
   "pygments_lexer": "ipython3",
   "version": "3.9.6"
  }
 },
 "nbformat": 4,
 "nbformat_minor": 5
}
