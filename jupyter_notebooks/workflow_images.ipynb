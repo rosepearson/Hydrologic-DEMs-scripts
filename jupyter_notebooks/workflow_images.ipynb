{
 "cells": [
  {
   "cell_type": "code",
   "execution_count": null,
   "metadata": {},
   "outputs": [],
   "source": [
    "import geopandas\n",
    "import rioxarray\n",
    "import shapely\n",
    "import pdal\n",
    "import numpy\n",
    "import json\n",
    "import pathlib\n",
    "import pdal\n",
    "import time\n",
    "import matplotlib\n",
    "import matplotlib.pyplot"
   ]
  },
  {
   "attachments": {},
   "cell_type": "markdown",
   "metadata": {},
   "source": [
    "# Lidar Tiles\n",
    "Cut LiDAR tile images down to size"
   ]
  },
  {
   "cell_type": "code",
   "execution_count": null,
   "metadata": {},
   "outputs": [],
   "source": [
    "cache_path = r'C:\\Users\\pearsonra\\Documents\\data\\Waikanae\\local_cache\\Wellington_2013'\n",
    "tile_path = pathlib.Path(cache_path) / \"Wellington_2013_TileIndex.zip\"\n",
    "tile_path_out = pathlib.Path(cache_path) / \"Wellington_2013_TileIndex_Inside.geojson\"\n",
    "catchment_path = pathlib.Path(r\"C:\\Users\\pearsonra\\Documents\\data\\Waikanae\\catchments\\waikanae_catchment_square.zip\")"
   ]
  },
  {
   "cell_type": "code",
   "execution_count": null,
   "metadata": {},
   "outputs": [],
   "source": [
    "h_crs = 2193\n",
    "v_crs = 7839"
   ]
  },
  {
   "cell_type": "markdown",
   "metadata": {},
   "source": [
    "# Read in"
   ]
  },
  {
   "cell_type": "code",
   "execution_count": null,
   "metadata": {},
   "outputs": [],
   "source": [
    "all_tiles=geopandas.read_file(tile_path)\n",
    "catchment = geopandas.read_file(catchment_path)\n",
    "inside_tiles = all_tiles[all_tiles.geometry.apply(lambda row: catchment.intersects(row))[0]].reset_index(drop=True)"
   ]
  },
  {
   "cell_type": "code",
   "execution_count": null,
   "metadata": {},
   "outputs": [],
   "source": [
    "inside_tiles.to_file(tile_path_out, driver='GeoJSON') "
   ]
  }
 ],
 "metadata": {
  "kernelspec": {
   "display_name": "Python [conda env:geofabrics]",
   "language": "python",
   "name": "conda-env-geofabrics-py"
  },
  "language_info": {
   "codemirror_mode": {
    "name": "ipython",
    "version": 3
   },
   "file_extension": ".py",
   "mimetype": "text/x-python",
   "name": "python",
   "nbconvert_exporter": "python",
   "pygments_lexer": "ipython3",
   "version": "3.9.6"
  }
 },
 "nbformat": 4,
 "nbformat_minor": 2
}
