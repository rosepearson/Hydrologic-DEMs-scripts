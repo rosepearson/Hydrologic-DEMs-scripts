{
 "cells": [
  {
   "cell_type": "code",
   "execution_count": null,
   "metadata": {},
   "outputs": [],
   "source": [
    "import rioxarray\n",
    "import xarray\n",
    "import geopandas\n",
    "import shapely.geometry\n",
    "import shapely.ops\n",
    "import rasterio\n",
    "import rasterio.mask\n",
    "import numpy\n",
    "import matplotlib.pyplot\n",
    "import scipy.ndimage\n",
    "import scipy.interpolate\n",
    "import pathlib\n",
    "import pdal\n",
    "import json"
   ]
  },
  {
   "cell_type": "markdown",
   "metadata": {},
   "source": [
    "# Setup paths"
   ]
  },
  {
   "cell_type": "code",
   "execution_count": null,
   "metadata": {},
   "outputs": [],
   "source": [
    "base_path = pathlib.Path(r'C:\\Users\\pearsonra\\Documents\\data\\Wakanae\\Small_test_site')\n",
    "initial_path = pathlib.Path(r'initial_data')\n",
    "catchment_trimmed_path = pathlib.Path(r'catchment_trimmed_data')\n",
    "destination_path = pathlib.Path(r'combined_data')\n",
    "\n",
    "lidar_name = pathlib.Path(r'points.laz')\n",
    "\n",
    "trimmed_dem_name = pathlib.Path(r'dem.nc')\n",
    "trimmed_bathymetry_name = pathlib.Path(r'offshore_bathymetry')\n",
    "trimmed_boundary_land_name = pathlib.Path(r'boundary_land')"
   ]
  },
  {
   "cell_type": "markdown",
   "metadata": {},
   "source": [
    "# Load in background data"
   ]
  },
  {
   "cell_type": "code",
   "execution_count": null,
   "metadata": {},
   "outputs": [],
   "source": [
    "boundary = geopandas.read_file(base_path/catchment_trimmed_path/trimmed_boundary_land_name)\n",
    "bathymetry_trimmed = geopandas.read_file(base_path/catchment_trimmed_path/trimmed_bathymetry_name)\n",
    "dem_trimmed = rioxarray.rioxarray.open_rasterio(base_path/catchment_trimmed_path/trimmed_dem_name, masked=True)"
   ]
  },
  {
   "cell_type": "markdown",
   "metadata": {},
   "source": [
    "# Set to same projection"
   ]
  },
  {
   "cell_type": "code",
   "execution_count": null,
   "metadata": {},
   "outputs": [],
   "source": [
    "crs = 2193\n",
    "boundary = boundary.to_crs(crs)\n",
    "bathymetry_trimmed = bathymetry_trimmed.to_crs(crs)\n",
    "dem_trimmed.rio.set_crs(crs);"
   ]
  },
  {
   "cell_type": "markdown",
   "metadata": {},
   "source": [
    "# Read in LiDAR with relevant processing\n",
    "Load in the LAZ file with relevant processing\n",
    "*  Set projection: https://pdal.io/stages/filters.reprojection.html#filters-reprojection\n",
    "*  Crop within boundary: https://pdal.io/stages/filters.crop.html#filters-crop\n",
    "*  Create a polygon of the LiDAR extents for filtering the DEM: https://pdal.io/stages/filters.hexbin.html#filters-hexbin"
   ]
  },
  {
   "cell_type": "code",
   "execution_count": null,
   "metadata": {},
   "outputs": [],
   "source": [
    "lidar_file_name = base_path/initial_path/lidar_name\n",
    "\n",
    "pdal_pipeline_instructions = [\n",
    "    {\"type\":  \"readers.las\", \"filename\": str(lidar_file_name)},\n",
    "    {\"type\":\"filters.reprojection\",\"out_srs\":\"EPSG:\" + str(crs)}, # reproject to NZTM\n",
    "    {\"type\":\"filters.crop\", \"polygon\":str(boundary.loc[0].geometry)}, # filter within boundary\n",
    "    {\"type\" : \"filters.hexbin\"} # create a polygon boundary of the LiDAR\n",
    "]\n",
    "\n",
    "pdal_pipeline = pdal.Pipeline(json.dumps(pdal_pipeline_instructions))\n",
    "pdal_pipeline.execute();"
   ]
  },
  {
   "cell_type": "markdown",
   "metadata": {},
   "source": [
    "# Remove DEM where LiDAR\n",
    "Will try get a polygon of hte DEM extents as part of the PDAL processing pipeline. Create a polygon of the LiDAR extents to then filter the DEM. It looks like this can be done with filters. hexbin. https://pdal.io/stages/filters.hexbin.html#filters-hexbin"
   ]
  },
  {
   "cell_type": "code",
   "execution_count": null,
   "metadata": {},
   "outputs": [],
   "source": [
    "metadata=json.loads(pdal_pipeline.get_metadata())\n",
    "lidar_boundary=shapely.wkt.loads(metadata['metadata']['filters.hexbin']['boundary'])"
   ]
  },
  {
   "cell_type": "markdown",
   "metadata": {},
   "source": [
    "Filter all internal areas less than some percentage"
   ]
  },
  {
   "cell_type": "code",
   "execution_count": null,
   "metadata": {},
   "outputs": [],
   "source": [
    "percentage_to_drop = 5\n",
    "area_to_drop = shapely.geometry.Polygon(lidar_boundary.exterior).area * percentage_to_drop / 100\n",
    "filtered_lidar_boundary = shapely.geometry.Polygon(lidar_boundary.exterior.coords,\n",
    "            [interior for interior in lidar_boundary.interiors if shapely.geometry.Polygon(interior).area > area_to_drop])\n",
    "filtered_lidar_boundary=geopandas.GeoSeries([filtered_lidar_boundary])"
   ]
  },
  {
   "cell_type": "markdown",
   "metadata": {},
   "source": [
    "Filter DEM inside the LiDAR region"
   ]
  },
  {
   "cell_type": "code",
   "execution_count": null,
   "metadata": {},
   "outputs": [],
   "source": [
    "dem_lidar_trimmed = dem_trimmed.rio.clip([filtered_lidar_boundary.loc[0]], invert=True)"
   ]
  },
  {
   "cell_type": "markdown",
   "metadata": {},
   "source": [
    "# Plot the Lidar trimmed results"
   ]
  },
  {
   "cell_type": "code",
   "execution_count": null,
   "metadata": {},
   "outputs": [],
   "source": [
    "f, ax = matplotlib.pyplot.subplots(figsize=(15, 10))\n",
    "\n",
    "filtered_lidar_boundary.plot(ax=ax, color='None', edgecolor='teal', linewidth=5)\n",
    "p = ax.pcolormesh(dem_lidar_trimmed.x[:],dem_lidar_trimmed.y[:],dem_lidar_trimmed.values[0],cmap='viridis', shading='auto')\n",
    "boundary.plot(ax=ax, color='None', edgecolor='lime', linewidth=5)\n",
    "bathymetry_trimmed.plot(ax=ax, marker='o', color='red', markersize=5)\n",
    "matplotlib.pyplot.colorbar(p)\n",
    "\n",
    "ax.set_title(\"Combined\")"
   ]
  },
  {
   "cell_type": "markdown",
   "metadata": {},
   "source": [
    "# Combine in single point data set\n",
    "The data to combine is the:\n",
    "* LiDAR\n",
    "* DEM centroids\n",
    "* Sounding values\n",
    "Extract LiDAR array"
   ]
  },
  {
   "cell_type": "code",
   "execution_count": null,
   "metadata": {},
   "outputs": [],
   "source": [
    "lidar_array = pdal_pipeline.arrays[0]"
   ]
  },
  {
   "cell_type": "markdown",
   "metadata": {},
   "source": [
    "Extract valid DEM x, y, z pairs"
   ]
  },
  {
   "cell_type": "code",
   "execution_count": null,
   "metadata": {},
   "outputs": [],
   "source": [
    "dem_x, dem_y = numpy.meshgrid(dem_lidar_trimmed.x, dem_lidar_trimmed.y)\n",
    "dem_z = dem_lidar_trimmed.data[0].flatten()\n",
    "dem_filtered_x = dem_x.flatten()[~numpy.isnan(dem_z)]\n",
    "dem_filtered_y = dem_y.flatten()[~numpy.isnan(dem_z)]\n",
    "dem_filtered_z = dem_z[~numpy.isnan(dem_z)]"
   ]
  },
  {
   "cell_type": "markdown",
   "metadata": {},
   "source": [
    "Extract valid Bathymetry x, y, z pairs"
   ]
  },
  {
   "cell_type": "code",
   "execution_count": null,
   "metadata": {},
   "outputs": [],
   "source": [
    "bathymetry_trimmed_x = bathymetry_trimmed.apply(lambda x : x['geometry'][0].x,axis=1).to_numpy()\n",
    "bathymetry_trimmed_y = bathymetry_trimmed.apply(lambda x : x['geometry'][0].y,axis=1).to_numpy()\n",
    "bathymetry_trimmed_z = bathymetry_trimmed.apply(lambda x : x['geometry'][0].z,axis=1).to_numpy() * -1 # map depth to elevatation"
   ]
  },
  {
   "cell_type": "markdown",
   "metadata": {},
   "source": [
    "Combine values"
   ]
  },
  {
   "cell_type": "code",
   "execution_count": null,
   "metadata": {},
   "outputs": [],
   "source": [
    "combined_x = numpy.concatenate([lidar_array['X'], dem_filtered_x, bathymetry_trimmed_x])\n",
    "combined_y = numpy.concatenate([lidar_array['Y'], dem_filtered_y, bathymetry_trimmed_y])\n",
    "combined_z = numpy.concatenate([lidar_array['Z'], dem_filtered_z, bathymetry_trimmed_z])"
   ]
  },
  {
   "cell_type": "markdown",
   "metadata": {},
   "source": [
    "# View background trimmed data"
   ]
  },
  {
   "cell_type": "code",
   "execution_count": null,
   "metadata": {},
   "outputs": [],
   "source": [
    "n_thining = 1\n",
    "\n",
    "f = matplotlib.pyplot.scatter(combined_x[::n_thining], combined_y[::n_thining], c=combined_z[::n_thining], \n",
    "                          marker='.', cmap = 'viridis', vmin=-10, vmax=20)\n",
    "matplotlib.pyplot.colorbar()\n",
    "matplotlib.pyplot.title(\"combined filtered points\")"
   ]
  },
  {
   "cell_type": "markdown",
   "metadata": {},
   "source": [
    "# Save trimmed values\n",
    "Append trimmed background points to the filteed LiDAR points"
   ]
  },
  {
   "cell_type": "code",
   "execution_count": null,
   "metadata": {},
   "outputs": [],
   "source": [
    "background_x = numpy.concatenate([dem_filtered_x, bathymetry_trimmed_x])\n",
    "background_y = numpy.concatenate([dem_filtered_y, bathymetry_trimmed_y])\n",
    "background_z = numpy.concatenate([dem_filtered_z, bathymetry_trimmed_z])\n",
    "\n",
    "background_lidar = numpy.zeros_like(lidar_array, shape=[len(background_x)])\n",
    "background_lidar['X'] = background_x\n",
    "background_lidar['Y'] = background_y\n",
    "background_lidar['Z'] = background_z\n",
    "\n",
    "combined_lidar_array = numpy.concatenate([lidar_array, background_lidar])"
   ]
  },
  {
   "cell_type": "markdown",
   "metadata": {},
   "source": [
    "Save out the appended values as a LAZ file"
   ]
  },
  {
   "cell_type": "code",
   "execution_count": null,
   "metadata": {},
   "outputs": [],
   "source": [
    "lidar_file_name = base_path/destination_path/lidar_name\n",
    "\n",
    "pdal_pipeline_instructions = [\n",
    "    {\"type\":  \"writers.las\", \"filename\": str(lidar_file_name), \"a_srs\": \"EPSG:\" + str(crs)},\n",
    "]\n",
    "\n",
    "pdal_pipeline = pdal.Pipeline(json.dumps(pdal_pipeline_instructions), [combined_lidar_array])\n",
    "pdal_pipeline.execute();"
   ]
  }
 ],
 "metadata": {
  "kernelspec": {
   "display_name": "Python [conda env:lidar]",
   "language": "python",
   "name": "conda-env-lidar-py"
  },
  "language_info": {
   "codemirror_mode": {
    "name": "ipython",
    "version": 3
   },
   "file_extension": ".py",
   "mimetype": "text/x-python",
   "name": "python",
   "nbconvert_exporter": "python",
   "pygments_lexer": "ipython3",
   "version": "3.9.4"
  }
 },
 "nbformat": 4,
 "nbformat_minor": 2
}
