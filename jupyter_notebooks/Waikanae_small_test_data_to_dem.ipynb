{
 "cells": [
  {
   "cell_type": "code",
   "execution_count": null,
   "metadata": {},
   "outputs": [],
   "source": [
    "import rioxarray\n",
    "import xarray\n",
    "import geopandas\n",
    "import shapely.geometry\n",
    "import shapely.ops\n",
    "import rasterio\n",
    "import numpy\n",
    "import matplotlib.pyplot\n",
    "import pathlib\n",
    "import pdal\n",
    "import json\n",
    "\n",
    "from IPython.core.display import display, HTML\n",
    "display(HTML(\"<style>.container { width:100% !important; }</style>\"))"
   ]
  },
  {
   "cell_type": "markdown",
   "metadata": {},
   "source": [
    "# Setup paths"
   ]
  },
  {
   "cell_type": "code",
   "execution_count": null,
   "metadata": {},
   "outputs": [],
   "source": [
    "base_path = pathlib.Path(r'C:\\Users\\pearsonra\\Documents\\data\\Wakanae\\Small_test_site')\n",
    "initial_path = pathlib.Path(r'initial_data')\n",
    "destination_path = pathlib.Path(r'final_data')\n",
    "\n",
    "if not (base_path/destination_path).is_dir():\n",
    "    (base_path/destination_path).mkdir()\n",
    "\n",
    "boundary_name = pathlib.Path(r'boundary\\boundary.shp')\n",
    "coast_name = pathlib.Path(r'north_island\\north_island.shp')\n",
    "background_dem_name = pathlib.Path(r'background_dem\\NZDEM_SoS_v1-0_16_Wellington_gf.tif')\n",
    "background_bathymetry_name = pathlib.Path(r'background_bathymetry\\sounding-points-hydro-122k-190k.shp')\n",
    "lidar_name = pathlib.Path(r'points.laz')\n",
    "\n",
    "destination_points_name = pathlib.Path(r'combined_points')\n",
    "destination_dem_name_stub = pathlib.Path(r'created_dem')"
   ]
  },
  {
   "cell_type": "markdown",
   "metadata": {},
   "source": [
    "# Set resolution"
   ]
  },
  {
   "cell_type": "code",
   "execution_count": null,
   "metadata": {},
   "outputs": [],
   "source": [
    "resolution = 10"
   ]
  },
  {
   "cell_type": "markdown",
   "metadata": {},
   "source": [
    "# Load in data"
   ]
  },
  {
   "cell_type": "code",
   "execution_count": null,
   "metadata": {},
   "outputs": [],
   "source": [
    "catchment_boundary = geopandas.read_file(base_path/initial_path/boundary_name)\n",
    "north_island = geopandas.read_file(base_path/initial_path/coast_name)\n",
    "bathymetry = geopandas.read_file(base_path/initial_path/background_bathymetry_name)\n",
    "background_dem = rioxarray.rioxarray.open_rasterio(base_path/initial_path/background_dem_name, masked=True)"
   ]
  },
  {
   "cell_type": "markdown",
   "metadata": {},
   "source": [
    "# Set to same projection"
   ]
  },
  {
   "cell_type": "code",
   "execution_count": null,
   "metadata": {},
   "outputs": [],
   "source": [
    "crs = 2193\n",
    "catchment_boundary = catchment_boundary.to_crs(crs)\n",
    "north_island = north_island.to_crs(crs)\n",
    "bathymetry = bathymetry.to_crs(crs)\n",
    "background_dem.rio.set_crs(crs);"
   ]
  },
  {
   "cell_type": "markdown",
   "metadata": {},
   "source": [
    "# Get land catchment and buffered land catchment"
   ]
  },
  {
   "cell_type": "code",
   "execution_count": null,
   "metadata": {},
   "outputs": [],
   "source": [
    "catchment_boundary_land = geopandas.clip(catchment_boundary, north_island)\n",
    "bathymetry_in_catchment = geopandas.clip(bathymetry, catchment_boundary)\n",
    "\n",
    "buffered_north_island = geopandas.GeoDataFrame(index=[0], geometry=north_island.buffer(resolution * 3), crs=crs)\n",
    "coast_buffer = geopandas.clip(geopandas.overlay(buffered_north_island, north_island, how='difference'), catchment_boundary)\n",
    "\n",
    "catchment_boundary_buffered_land = geopandas.clip(catchment_boundary, north_island.buffer(resolution * 3))"
   ]
  },
  {
   "cell_type": "markdown",
   "metadata": {},
   "source": [
    "# Load in LiDAR and trim to boundary"
   ]
  },
  {
   "cell_type": "code",
   "execution_count": null,
   "metadata": {},
   "outputs": [],
   "source": [
    "lidar_file_name = base_path/initial_path/lidar_name\n",
    "\n",
    "pdal_pipeline_instructions = [\n",
    "    {\"type\":  \"readers.las\", \"filename\": str(lidar_file_name)},\n",
    "    {\"type\":\"filters.reprojection\",\"out_srs\":\"EPSG:\" + str(crs)}, # reproject to NZTM\n",
    "    {\"type\":\"filters.crop\", \"polygon\":str(catchment_boundary_land.loc[0].geometry)}, # filter within boundary\n",
    "    {\"type\" : \"filters.hexbin\"} # create a polygon boundary of the LiDAR\n",
    "]\n",
    "\n",
    "pdal_pipeline = pdal.Pipeline(json.dumps(pdal_pipeline_instructions))\n",
    "pdal_pipeline.execute();"
   ]
  },
  {
   "cell_type": "markdown",
   "metadata": {},
   "source": [
    "# Trim background DEM outside LiDAR"
   ]
  },
  {
   "cell_type": "code",
   "execution_count": null,
   "metadata": {},
   "outputs": [],
   "source": [
    "metadata=json.loads(pdal_pipeline.get_metadata())\n",
    "lidar_boundary=shapely.wkt.loads(metadata['metadata']['filters.hexbin']['boundary'])"
   ]
  },
  {
   "cell_type": "markdown",
   "metadata": {},
   "source": [
    "Filter areas less than some percentage"
   ]
  },
  {
   "cell_type": "code",
   "execution_count": null,
   "metadata": {},
   "outputs": [],
   "source": [
    "percentage_to_drop = 5\n",
    "area_to_drop = shapely.geometry.Polygon(lidar_boundary.exterior).area * percentage_to_drop / 100\n",
    "filtered_lidar_boundary = shapely.geometry.Polygon(lidar_boundary.exterior.coords,\n",
    "            [interior for interior in lidar_boundary.interiors if shapely.geometry.Polygon(interior).area > area_to_drop])\n",
    "filtered_lidar_boundary=geopandas.GeoSeries([filtered_lidar_boundary])"
   ]
  },
  {
   "cell_type": "markdown",
   "metadata": {},
   "source": [
    "Filter DEM inside the LiDAR region"
   ]
  },
  {
   "cell_type": "code",
   "execution_count": null,
   "metadata": {},
   "outputs": [],
   "source": [
    "lidar_filtered_background_dem = background_dem.rio.clip([filtered_lidar_boundary.loc[0]], invert=True)"
   ]
  },
  {
   "cell_type": "markdown",
   "metadata": {},
   "source": [
    "# LiDAR coast buffer"
   ]
  },
  {
   "cell_type": "code",
   "execution_count": null,
   "metadata": {},
   "outputs": [],
   "source": [
    "pdal_pipeline_instructions = [\n",
    "    {\"type\":  \"readers.las\", \"filename\": str(lidar_file_name)},\n",
    "    {\"type\":\"filters.reprojection\",\"out_srs\":\"EPSG:\" + str(crs)}, # reproject to NZTM\n",
    "    {\"type\":\"filters.crop\", \"polygon\":str(coast_buffer.loc[0].geometry)}, # filter within coast buffer boundary\n",
    "    {\"type\" : \"filters.hexbin\"}\n",
    "]\n",
    "\n",
    "pdal_pipeline_coast = pdal.Pipeline(json.dumps(pdal_pipeline_instructions))\n",
    "pdal_pipeline_coast.execute();"
   ]
  },
  {
   "cell_type": "markdown",
   "metadata": {},
   "source": [
    "1. Create a DEM coast buffer - where their isn't LiDAR (outside lidar coast boundary), and where in the coast buffer (inside the coast_buffer)\n",
    "2. Set DEM coast buffer values - set any positive values to zero, keep negative values as negative\n",
    "3. Set LiDAR coast buffer values - set any positive values to zero, keep negative values as negative"
   ]
  },
  {
   "cell_type": "markdown",
   "metadata": {},
   "source": [
    "# Trim background DEM on land and coast buffer"
   ]
  },
  {
   "cell_type": "code",
   "execution_count": null,
   "metadata": {},
   "outputs": [],
   "source": [
    "lidar_filtered_background_dem_in_catchment = lidar_filtered_background_dem.rio.clip(catchment_boundary_land.geometry)\n",
    "lidar_filtered_background_dem_in_buffered_catchment = lidar_filtered_background_dem.rio.clip(catchment_boundary_buffered_land.geometry)"
   ]
  },
  {
   "cell_type": "markdown",
   "metadata": {},
   "source": [
    "# Set buffered DEM coastal values to zero (or negative)\n",
    "Note - there is the possibility this will miss portions of coast if the background DEM is not defined out to sea. In this case we will need to set these values to zero."
   ]
  },
  {
   "cell_type": "code",
   "execution_count": null,
   "metadata": {},
   "outputs": [],
   "source": [
    "lidar_filtered_background_dem_in_buffered_catchment.data[0][~numpy.isnan(lidar_filtered_background_dem_in_buffered_catchment.data[0]) \n",
    "                                                            & numpy.isnan(lidar_filtered_background_dem_in_catchment.data[0])] = 0"
   ]
  },
  {
   "cell_type": "markdown",
   "metadata": {},
   "source": [
    "# Combined as a single point dataset"
   ]
  },
  {
   "cell_type": "code",
   "execution_count": null,
   "metadata": {},
   "outputs": [],
   "source": [
    "lidar_array = pdal_pipeline.arrays[0]\n",
    "\n",
    "dem_x, dem_y = numpy.meshgrid(lidar_filtered_background_dem_in_catchment.x, lidar_filtered_background_dem_in_catchment.y)\n",
    "dem_buffered_z = lidar_filtered_background_dem_in_buffered_catchment.data[0].flatten()\n",
    "dem_filtered_x = dem_x.flatten()[~numpy.isnan(dem_buffered_z)]\n",
    "dem_filtered_y = dem_y.flatten()[~numpy.isnan(dem_buffered_z)]\n",
    "dem_filtered_z = dem_buffered_z[~numpy.isnan(dem_buffered_z)]\n",
    "\n",
    "bathymetry_x = bathymetry_in_catchment.apply(lambda x : x['geometry'][0].x,axis=1).to_numpy()\n",
    "bathymetry_y = bathymetry_in_catchment.apply(lambda x : x['geometry'][0].y,axis=1).to_numpy()\n",
    "bathymetry_z = bathymetry_in_catchment.apply(lambda x : x['geometry'][0].z,axis=1).to_numpy() * -1 # map depth to elevatation\n",
    "\n",
    "background_x = numpy.concatenate([dem_filtered_x, bathymetry_x])\n",
    "background_y = numpy.concatenate([dem_filtered_y, bathymetry_y])\n",
    "background_z = numpy.concatenate([dem_filtered_z, bathymetry_z])\n",
    "\n",
    "background_lidar = numpy.zeros_like(lidar_array, shape=[len(background_x)])\n",
    "background_lidar['X'] = background_x\n",
    "background_lidar['Y'] = background_y\n",
    "background_lidar['Z'] = background_z\n",
    "\n",
    "combined_points_array = numpy.concatenate([lidar_array, background_lidar])"
   ]
  },
  {
   "cell_type": "markdown",
   "metadata": {},
   "source": [
    "# Save results"
   ]
  },
  {
   "cell_type": "code",
   "execution_count": null,
   "metadata": {},
   "outputs": [],
   "source": [
    "lidar_file_name = base_path/destination_path/destination_points_name\n",
    "\n",
    "pdal_pipeline_instructions = [\n",
    "    {\"type\":  \"writers.las\", \"filename\": str(lidar_file_name), \"a_srs\": \"EPSG:\" + str(crs)},\n",
    "]\n",
    "\n",
    "pdal_pipeline = pdal.Pipeline(json.dumps(pdal_pipeline_instructions), [combined_points_array])\n",
    "pdal_pipeline.execute();"
   ]
  },
  {
   "cell_type": "code",
   "execution_count": null,
   "metadata": {},
   "outputs": [],
   "source": [
    "points_arrays = pdal_pipeline.arrays"
   ]
  },
  {
   "cell_type": "code",
   "execution_count": null,
   "metadata": {},
   "outputs": [],
   "source": [
    "dem_file_name_stub = base_path/destination_path/destination_dem_name_stub\n",
    "\n",
    "window_sizes = range(0,11,5)\n",
    "idw_power = 2\n",
    "radii =  resolution * numpy.sqrt(2) * range(1,4,1)\n",
    "\n",
    "for window_size in window_sizes:\n",
    "    for radius in radii:\n",
    "\n",
    "        pdal_pipeline_instructions = [\n",
    "            {\"type\":  \"writers.gdal\", \"resolution\": resolution, \"gdalopts\":\"a_srs=EPSG:\" + str(crs),\n",
    "             \"filename\": str(dem_file_name_stub) + \"_window_\" + str(window_size) + \"_power_\" + str(idw_power) + \"_radius_\" \n",
    "             + str(radius) + \".tiff\", \"output_type\":[\"mean\",\"idw\"], \"window_size\": window_size, \"power\": idw_power, \n",
    "             \"radius\": radius}\n",
    "        ]\n",
    "\n",
    "        print(\"Window = \" + str(window_size) + \", IDW Power = \" + str(idw_power) + \", Radius = \" + str(radius))\n",
    "\n",
    "        pdal_pipeline = pdal.Pipeline(json.dumps(pdal_pipeline_instructions), points_arrays)\n",
    "        pdal_pipeline.execute();"
   ]
  },
  {
   "cell_type": "markdown",
   "metadata": {},
   "source": [
    "# Plot the DEM"
   ]
  },
  {
   "cell_type": "code",
   "execution_count": null,
   "metadata": {},
   "outputs": [],
   "source": [
    "f, ax = matplotlib.pyplot.subplots(figsize=(15, 10))\n",
    "\n",
    "catchment_boundary_buffered_land.plot(ax=ax, color='None', edgecolor='lime', linewidth=5)\n",
    "filtered_lidar_boundary.plot(ax=ax, color='None', edgecolor='teal', linewidth=5)\n",
    "p = ax.pcolormesh(lidar_filtered_background_dem_in_buffered_catchment.x[:], lidar_filtered_background_dem_in_buffered_catchment.y[:],\n",
    "                  lidar_filtered_background_dem_in_buffered_catchment.values[0], cmap='viridis', shading='auto')\n",
    "bathymetry_in_catchment.plot(ax=ax, marker='o', color='red', markersize=5)\n",
    "matplotlib.pyplot.colorbar(p)\n",
    "\n",
    "ax.set_title(\"Combined\")"
   ]
  },
  {
   "cell_type": "code",
   "execution_count": null,
   "metadata": {},
   "outputs": [],
   "source": []
  }
 ],
 "metadata": {
  "kernelspec": {
   "display_name": "Python [conda env:lidar]",
   "language": "python",
   "name": "conda-env-lidar-py"
  },
  "language_info": {
   "codemirror_mode": {
    "name": "ipython",
    "version": 3
   },
   "file_extension": ".py",
   "mimetype": "text/x-python",
   "name": "python",
   "nbconvert_exporter": "python",
   "pygments_lexer": "ipython3",
   "version": "3.9.4"
  }
 },
 "nbformat": 4,
 "nbformat_minor": 2
}
