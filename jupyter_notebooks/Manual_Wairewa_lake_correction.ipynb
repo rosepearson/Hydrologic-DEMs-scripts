{
 "cells": [
  {
   "cell_type": "markdown",
   "id": "ac0de13b",
   "metadata": {},
   "source": [
    "# Manually correct the alignment of Lake Wairewa\n",
    "After making the manual correction send this to Sanjay"
   ]
  },
  {
   "cell_type": "code",
   "execution_count": null,
   "id": "1b2ef2ea",
   "metadata": {},
   "outputs": [],
   "source": [
    "import geopandas\n",
    "import shapely\n",
    "import numpy"
   ]
  },
  {
   "cell_type": "code",
   "execution_count": null,
   "id": "5acca384",
   "metadata": {},
   "outputs": [],
   "source": [
    "wairewa = geopandas.read_file(r\"C:\\Users\\pearsonra\\Documents\\data\\Wairewa\\Lake\\bathy_from_niwa\\bathy_LakeForsyth.shp\")"
   ]
  },
  {
   "cell_type": "code",
   "execution_count": null,
   "id": "5fe0d4f2",
   "metadata": {},
   "outputs": [],
   "source": [
    "wairewa.plot()"
   ]
  },
  {
   "cell_type": "code",
   "execution_count": null,
   "id": "74907602",
   "metadata": {},
   "outputs": [],
   "source": [
    "wairewa.head(2)"
   ]
  },
  {
   "cell_type": "code",
   "execution_count": null,
   "id": "36ee4f3e",
   "metadata": {},
   "outputs": [],
   "source": [
    "offset_distance = 50\n",
    "offset_angle = 260\n",
    "y_offset = numpy.sin(offset_angle/360*2*numpy.pi)*offset_distance\n",
    "x_offset = numpy.cos(offset_angle/360*2*numpy.pi)*offset_distance"
   ]
  },
  {
   "cell_type": "code",
   "execution_count": null,
   "id": "fcf0077f",
   "metadata": {},
   "outputs": [],
   "source": [
    "wairewa.translate(xoff=x_offset, yoff=y_offset).to_file(r\"C:\\Users\\pearsonra\\Documents\\data\\Wairewa\\Lake\\bathy_from_niwa\\bathy_LakeForsyth_corrected_rose_09112021_260.geojson\")"
   ]
  },
  {
   "cell_type": "code",
   "execution_count": null,
   "id": "3d8075f6",
   "metadata": {},
   "outputs": [],
   "source": [
    "wairewa.translate(xoff=x_offset, yoff=y_offset).to_file(r\"C:\\Users\\pearsonra\\Documents\\data\\Wairewa\\Lake\\bathy_from_niwa\\bathy_LakeForsyth_corrected_rose_09112021_260.shp\")"
   ]
  },
  {
   "cell_type": "code",
   "execution_count": null,
   "id": "1e9ae436",
   "metadata": {},
   "outputs": [],
   "source": []
  }
 ],
 "metadata": {
  "kernelspec": {
   "display_name": "Python [conda env:geofabrics]",
   "language": "python",
   "name": "conda-env-geofabrics-py"
  },
  "language_info": {
   "codemirror_mode": {
    "name": "ipython",
    "version": 3
   },
   "file_extension": ".py",
   "mimetype": "text/x-python",
   "name": "python",
   "nbconvert_exporter": "python",
   "pygments_lexer": "ipython3",
   "version": "3.9.7"
  }
 },
 "nbformat": 4,
 "nbformat_minor": 5
}
