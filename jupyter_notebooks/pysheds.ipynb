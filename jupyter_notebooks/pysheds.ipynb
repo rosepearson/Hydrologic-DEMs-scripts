{
 "cells": [
  {
   "cell_type": "code",
   "execution_count": null,
   "id": "eddd6fd6",
   "metadata": {},
   "outputs": [],
   "source": [
    "import pysheds.grid\n",
    "import geopandas\n",
    "import pandas\n",
    "import pathlib\n",
    "import numpy\n",
    "import rioxarray\n",
    "import matplotlib\n",
    "from IPython.core.display import display, HTML\n",
    "\n",
    "display(HTML(\"<style>.container { width:100% !important; }</style>\"))"
   ]
  },
  {
   "cell_type": "code",
   "execution_count": null,
   "id": "8b1ba97d",
   "metadata": {},
   "outputs": [],
   "source": [
    "cache_dir = pathlib.Path(fr\"C:\\Users\\pearsonra\\Documents\\data\\Westport\\caches\\high_reso\")\n",
    "dem_file = cache_dir / \"2m_ground_water_dem.nc\"\n",
    "catchment_file = pathlib.Path(r'C:\\Users\\pearsonra\\Documents\\data\\Westport\\catchments\\high_reso.geojson')\n",
    "with rioxarray.rioxarray.open_rasterio(dem_file, masked=True) as dem:\n",
    "    dem.load()\n",
    "dem = dem.copy(deep=True)\n",
    "catchment = geopandas.read_file(catchment_file)\n",
    "catchment = catchment.to_crs(2193)"
   ]
  },
  {
   "cell_type": "code",
   "execution_count": null,
   "id": "bbd0de02",
   "metadata": {},
   "outputs": [],
   "source": [
    "dem = dem.rio.interpolate_na(method='linear')\n",
    "dem = dem.rio.clip(catchment.geometry)\n",
    "dem.to_netcdf(cache_dir / \"2m_ground_water_dem_no_nan.nc\")"
   ]
  },
  {
   "cell_type": "code",
   "execution_count": null,
   "id": "ce03cafa",
   "metadata": {},
   "outputs": [],
   "source": [
    "dem.plot()"
   ]
  },
  {
   "cell_type": "markdown",
   "id": "063f196c",
   "metadata": {},
   "source": [
    "### Interpolate missing values"
   ]
  },
  {
   "cell_type": "code",
   "execution_count": null,
   "id": "da3c1582",
   "metadata": {},
   "outputs": [],
   "source": [
    "cache_dir = pathlib.Path(fr\"C:\\Users\\pearsonra\\Documents\\data\\river_bathemetry\\waikanae_new_lidar\\caches\\100000000\")\n",
    "dem_file = cache_dir / \"channel_dem_50m.nc\"\n",
    "catchment_file = cache_dir / \"channel_catchment_100000000.geojson\"\n",
    "dem_nan_file = cache_dir / \"channel_dem_50_nan.nc\"\n",
    "with rioxarray.rioxarray.open_rasterio(dem_file, masked=True) as dem:\n",
    "    dem.load()\n",
    "dem = dem.copy(deep=True)\n",
    "catchment = geopandas.read_file(catchment_file)"
   ]
  },
  {
   "cell_type": "markdown",
   "id": "92c262cc",
   "metadata": {},
   "source": [
    "### linear interpolation of nan values"
   ]
  },
  {
   "cell_type": "code",
   "execution_count": null,
   "id": "49d28a94",
   "metadata": {},
   "outputs": [],
   "source": [
    "dem = dem.rio.interpolate_na(method='linear')\n",
    "dem = dem.rio.clip(catchment.geometry)\n",
    "dem.to_netcdf(dem_nan_file)"
   ]
  },
  {
   "cell_type": "code",
   "execution_count": null,
   "id": "0ea9ed74",
   "metadata": {},
   "outputs": [],
   "source": [
    "#dem.rio.to_raster(cache_dir / \"channel_dem_100000000_nan.tif\")"
   ]
  },
  {
   "cell_type": "markdown",
   "id": "cd8bef46",
   "metadata": {},
   "source": [
    "## Pysheds"
   ]
  },
  {
   "cell_type": "code",
   "execution_count": null,
   "id": "d031f034",
   "metadata": {},
   "outputs": [],
   "source": [
    "grid = pysheds.grid.Grid.from_raster(str(dem_file))\n",
    "dem = grid.read_raster(str(dem_file))"
   ]
  },
  {
   "cell_type": "markdown",
   "id": "4ee89031",
   "metadata": {},
   "source": [
    "### First conditioning"
   ]
  },
  {
   "cell_type": "code",
   "execution_count": null,
   "id": "584781b5",
   "metadata": {},
   "outputs": [],
   "source": [
    "# detect\n",
    "pits = grid.detect_pits(dem)\n",
    "print(f\"There are {pits.sum()}\")\n",
    "# Fill\n",
    "pit_filled_dem = grid.fill_pits(dem)\n",
    "pits = grid.detect_pits(pit_filled_dem)\n",
    "print(f\"And only {pits.sum()} after filling\")\n",
    "#assert not pits.any()"
   ]
  },
  {
   "cell_type": "code",
   "execution_count": null,
   "id": "e9fc793b",
   "metadata": {},
   "outputs": [],
   "source": [
    "# detect\n",
    "depressions = grid.detect_depressions(pit_filled_dem)\n",
    "print(f\"There are {depressions.sum()}\")\n",
    "# Fill\n",
    "flooded_dem = grid.fill_depressions(pit_filled_dem)\n",
    "m = grid.detect_depressions(flooded_dem)\n",
    "print(f\"And only {depressions.sum()} after filling\")\n",
    "#assert not depressions.any()"
   ]
  },
  {
   "cell_type": "code",
   "execution_count": null,
   "id": "803ab521",
   "metadata": {},
   "outputs": [],
   "source": [
    "# detect\n",
    "flats = grid.detect_flats(flooded_dem)\n",
    "print(f\"There are {flats.sum()}\")\n",
    "# Fill\n",
    "inflated_dem = grid.resolve_flats(flooded_dem)\n",
    "flats = grid.detect_flats(inflated_dem)\n",
    "print(f\"And only {flats.sum()} after filling\")\n",
    "#assert not flats.any()"
   ]
  },
  {
   "cell_type": "code",
   "execution_count": null,
   "id": "3c098148",
   "metadata": {},
   "outputs": [],
   "source": [
    "matplotlib.pyplot.imshow(dem, extent=grid.extent, cmap='terrain', zorder=1)"
   ]
  },
  {
   "cell_type": "markdown",
   "id": "a9990363",
   "metadata": {},
   "source": [
    "### Resolve flats and copmute flow directions"
   ]
  },
  {
   "cell_type": "code",
   "execution_count": null,
   "id": "2e52824e",
   "metadata": {},
   "outputs": [],
   "source": [
    "inflated_dem = grid.resolve_flats(dem)\n",
    "fdir = grid.flowdir(inflated_dem)"
   ]
  },
  {
   "cell_type": "code",
   "execution_count": null,
   "id": "c0f6a029",
   "metadata": {},
   "outputs": [],
   "source": [
    "dirmap = (64, 128, 1, 2, 4, 8, 16, 32)\n",
    "acc = grid.accumulation(fdir, dirmap=dirmap)"
   ]
  },
  {
   "cell_type": "code",
   "execution_count": null,
   "id": "2901cc35",
   "metadata": {},
   "outputs": [],
   "source": [
    "fig, ax = matplotlib.pyplot.subplots(figsize=(8,6))\n",
    "fig.patch.set_alpha(0)\n",
    "matplotlib.pyplot.grid('on', zorder=0)\n",
    "im = matplotlib.pyplot.imshow(acc, extent=grid.extent, zorder=2,\n",
    "               cmap='cubehelix',\n",
    "               norm=matplotlib.colors.LogNorm(1, acc.max()),\n",
    "               interpolation='bilinear')\n",
    "matplotlib.pyplot.colorbar(im, ax=ax, label='Upstream Cells')\n",
    "matplotlib.pyplot.title('Flow Accumulation', size=14)\n",
    "matplotlib.pyplot.xlabel('Longitude')\n",
    "matplotlib.pyplot.ylabel('Latitude')\n",
    "matplotlib.pyplot.tight_layout()"
   ]
  },
  {
   "cell_type": "code",
   "execution_count": null,
   "id": "45be2ace",
   "metadata": {},
   "outputs": [],
   "source": [
    "acc"
   ]
  },
  {
   "cell_type": "code",
   "execution_count": null,
   "id": "60f8306c",
   "metadata": {},
   "outputs": [],
   "source": [
    "branches = grid.extract_river_network(fdir, acc > 1000)"
   ]
  },
  {
   "cell_type": "code",
   "execution_count": null,
   "id": "c28e8d7b",
   "metadata": {},
   "outputs": [],
   "source": [
    "fig, ax = matplotlib.pyplot.subplots(figsize=(8.5,6.5))\n",
    "\n",
    "matplotlib.pyplot.xlim(grid.bbox[0], grid.bbox[2])\n",
    "matplotlib.pyplot.ylim(grid.bbox[1], grid.bbox[3])\n",
    "ax.set_aspect('equal')\n",
    "\n",
    "for branch in branches['features']:\n",
    "    line = numpy.asarray(branch['geometry']['coordinates'])\n",
    "    matplotlib.pyplot.plot(line[:, 0], line[:, 1])\n",
    "    \n",
    "_ =  matplotlib.pyplot.title('D8 channels', size=14)"
   ]
  },
  {
   "cell_type": "code",
   "execution_count": null,
   "id": "79925f80",
   "metadata": {},
   "outputs": [],
   "source": []
  }
 ],
 "metadata": {
  "kernelspec": {
   "display_name": "Python [conda env:geofabricsdask]",
   "language": "python",
   "name": "conda-env-geofabricsdask-py"
  },
  "language_info": {
   "codemirror_mode": {
    "name": "ipython",
    "version": 3
   },
   "file_extension": ".py",
   "mimetype": "text/x-python",
   "name": "python",
   "nbconvert_exporter": "python",
   "pygments_lexer": "ipython3",
   "version": "3.9.7"
  }
 },
 "nbformat": 4,
 "nbformat_minor": 5
}
