{
 "cells": [
  {
   "cell_type": "code",
   "execution_count": null,
   "id": "d3e7c843",
   "metadata": {},
   "outputs": [],
   "source": [
    "import geopandas\n",
    "import shapely\n",
    "import numpy\n",
    "import matplotlib.pyplot\n",
    "import scipy.interpolate\n",
    "\n",
    "from IPython.core.display import display, HTML\n",
    "display(HTML(\"<style>.container { width:100% !important; }</style>\"))"
   ]
  },
  {
   "cell_type": "markdown",
   "id": "95f6e8d9",
   "metadata": {},
   "source": [
    "Import a single polyline and explore creating a spline through it"
   ]
  },
  {
   "cell_type": "code",
   "execution_count": null,
   "id": "96942b3d",
   "metadata": {},
   "outputs": [],
   "source": [
    "channel = geopandas.read_file(r\"C:\\Users\\pearsonra\\Documents\\data\\river_bathemetry\\waikanae\\caches\\100000000\\rec_main_channel.geojson\")"
   ]
  },
  {
   "cell_type": "code",
   "execution_count": null,
   "id": "3b7381b4",
   "metadata": {},
   "outputs": [],
   "source": [
    "resolution = 1"
   ]
  },
  {
   "cell_type": "markdown",
   "id": "db5b05e9",
   "metadata": {},
   "source": [
    "# Polyline sampling functions"
   ]
  },
  {
   "cell_type": "code",
   "execution_count": null,
   "id": "a26c90c1",
   "metadata": {},
   "outputs": [],
   "source": [
    "def get_corner_points(channel) -> numpy.ndarray:\n",
    "    x = []; y = []\n",
    "    for line_string in channel.geometry:\n",
    "        xy = line_string.xy\n",
    "        x.extend(xy[0][::-1]); y.extend(xy[1][::-1])\n",
    "\n",
    "    xy = numpy.array([x, y])\n",
    "    xy_unique, indices = numpy.unique(xy, axis=1, return_index=True)\n",
    "    indices.sort(); xy = xy[:, indices]\n",
    "    return xy"
   ]
  },
  {
   "cell_type": "code",
   "execution_count": null,
   "id": "01827094",
   "metadata": {},
   "outputs": [],
   "source": [
    "def get_spaced_points_with_corners(channel, spacing) -> numpy.ndarray:\n",
    "    xy_spaced = []\n",
    "    for line_string in channel.geometry:\n",
    "        \n",
    "        xy_segment = line_string.xy\n",
    "        x = xy_segment[0]; y = xy_segment[1]\n",
    "        for i in numpy.arange(len(x) - 1, 0, -1):\n",
    "            line_segment = shapely.geometry.LineString([[x[i], y[i]], [x[i - 1], y[i - 1]]])\n",
    "\n",
    "            number_segment_samples = max(numpy.round(line_segment.length / spacing), 2)\n",
    "            segment_resolution = line_segment.length / (number_segment_samples - 1)\n",
    "\n",
    "            xy_spaced.extend([line_segment.interpolate(i * segment_resolution) for i in numpy.arange(0, number_segment_samples)])\n",
    "        \n",
    "    xy=numpy.array(shapely.geometry.LineString(xy_spaced).xy)\n",
    "    xy_unique, indices = numpy.unique(xy, axis=1, return_index=True)\n",
    "    indices.sort()\n",
    "    xy = xy[:, indices]\n",
    "\n",
    "    return xy"
   ]
  },
  {
   "cell_type": "code",
   "execution_count": null,
   "id": "174723cb",
   "metadata": {},
   "outputs": [],
   "source": [
    "def get_spaced_points(channel, spacing) -> numpy.ndarray:\n",
    "\n",
    "    xy_corner_points = get_corner_points(channel)\n",
    "    xy_spaced = []\n",
    "    line_string = shapely.geometry.LineString(xy_corner_points.T)\n",
    "\n",
    "    number_segment_samples = max(numpy.round(line_string.length / spacing), 2)\n",
    "    segment_resolution = line_string.length / (number_segment_samples - 1)\n",
    "\n",
    "    xy_spaced.extend([line_string.interpolate(i * segment_resolution) for i in numpy.arange(number_segment_samples - 1, -1, -1)])\n",
    "        \n",
    "    xy=numpy.array(shapely.geometry.LineString(xy_spaced).xy)\n",
    "    xy_unique, indices = numpy.unique(xy, axis=1, return_index=True)\n",
    "    indices.sort()\n",
    "    xy = xy[:, indices]\n",
    "\n",
    "    return xy"
   ]
  },
  {
   "cell_type": "markdown",
   "id": "f0676d2b",
   "metadata": {},
   "source": [
    "# Parametric spline fit - interpolation\n",
    "Note _smoothing_multipiler_ allows for some smoothing!"
   ]
  },
  {
   "cell_type": "code",
   "execution_count": null,
   "id": "3e77d594",
   "metadata": {},
   "outputs": [],
   "source": [
    "def fit_spline_to_points(xy, res, smoothing_multiplier) -> numpy.ndarray:\n",
    "    \n",
    "    smoothing_factor = smoothing_multiplier * len(xy[0])\n",
    "    \n",
    "    tck_tuple, u_input = scipy.interpolate.splprep(xy, s=smoothing_factor)\n",
    "\n",
    "    # Sample every roughly res along the spine\n",
    "    line_length = shapely.geometry.LineString(xy.T).length\n",
    "    sample_step_u = 1 / round(line_length / res)\n",
    "    u_sampled = numpy.arange(0, 1 + sample_step_u, sample_step_u)\n",
    "    xy_sampled = scipy.interpolate.splev(u_sampled, tck_tuple)\n",
    "    xy_sampled = numpy.array(xy_sampled)\n",
    "    \n",
    "    return xy_sampled"
   ]
  },
  {
   "cell_type": "markdown",
   "id": "60fc9441",
   "metadata": {},
   "source": [
    "## Spline fit from corner points only\n",
    "Does not follow line very well in between"
   ]
  },
  {
   "cell_type": "code",
   "execution_count": null,
   "id": "56bc1be1",
   "metadata": {},
   "outputs": [],
   "source": [
    "xy_c1"
   ]
  },
  {
   "cell_type": "code",
   "execution_count": null,
   "id": "2156224d",
   "metadata": {},
   "outputs": [],
   "source": [
    "xy_s1"
   ]
  },
  {
   "cell_type": "code",
   "execution_count": null,
   "id": "d3d785e4",
   "metadata": {},
   "outputs": [],
   "source": [
    "smoothing_multiplier = 50\n",
    "xy_c1 = get_corner_points(channel)\n",
    "xy_s1 = fit_spline_to_points(xy_c1, resolution, smoothing_multiplier)\n",
    "\n",
    "f, ax = matplotlib.pyplot.subplots(figsize=(40,20));\n",
    "channel.plot(ax=ax, linestyle='--', markersize=1, label='original', color='b', zorder=0); \n",
    "matplotlib.pyplot.plot(xy_c1[0], xy_c1[1], 'ro', markersize=5, label='sample points', zorder=2);\n",
    "matplotlib.pyplot.plot(xy_s1[0], xy_s1[1], 'k-', markersize=1, label='spline', zorder=1);\n",
    "matplotlib.pyplot.legend(); ax.set(title=f\"Centreline from corner points\")"
   ]
  },
  {
   "cell_type": "markdown",
   "id": "6219e1f1",
   "metadata": {},
   "source": [
    "## Spline fit from space points\n",
    "Space but loses corner points\n",
    "Still interpolation - Goes through each point"
   ]
  },
  {
   "cell_type": "code",
   "execution_count": null,
   "id": "879c42c6",
   "metadata": {},
   "outputs": [],
   "source": [
    "spacing = 50; smoothing_multiplier = 50\n",
    "xy_c2 = get_spaced_points(channel, spacing)\n",
    "xy_s2 = fit_spline_to_points(xy_c2, resolution, smoothing_multiplier)\n",
    "\n",
    "f, ax = matplotlib.pyplot.subplots(figsize=(40,20));\n",
    "channel.plot(ax=ax, linestyle='--', markersize=1, label='original', color='b', zorder=0); \n",
    "matplotlib.pyplot.plot(xy_c2[0], xy_c2[1], 'ro', markersize=5, label='sample points', zorder=2);\n",
    "matplotlib.pyplot.plot(xy_s2[0], xy_s2[1], 'k-', markersize=1, label='spline', zorder=1);\n",
    "matplotlib.pyplot.legend(); ax.set(title=f\"Centreline from points spaced by {spacing}\")"
   ]
  },
  {
   "cell_type": "markdown",
   "id": "7065d034",
   "metadata": {},
   "source": [
    "## Spline fit from space points\n",
    "Spaced but keeps corner points"
   ]
  },
  {
   "cell_type": "code",
   "execution_count": null,
   "id": "5a061b20",
   "metadata": {},
   "outputs": [],
   "source": [
    "spacing = 50; smoothing_multiplier = 50\n",
    "xy_c3 = get_spaced_points_with_corners(channel, spacing)\n",
    "print(f\"Number of points to fit: {len(xy_c3[0])}\")\n",
    "xy_s3 = fit_spline_to_points(xy_c3, resolution, smoothing_multiplier)\n",
    "\n",
    "f, ax = matplotlib.pyplot.subplots(figsize=(40,20));\n",
    "channel.plot(ax=ax, linestyle='--', markersize=1, label='original', color='b', zorder=0); \n",
    "matplotlib.pyplot.plot(xy_c3[0], xy_c3[1], 'ro', markersize=5, label='sample points', zorder=2);\n",
    "matplotlib.pyplot.plot(xy_s3[0], xy_s3[1], 'k-', markersize=1, label='spline', zorder=1);\n",
    "matplotlib.pyplot.legend(); ax.set(title=f\"Centreline from points spaced by {spacing} with corner points and a smoothing multiplier of {smoothing_multiplier}\")"
   ]
  },
  {
   "cell_type": "code",
   "execution_count": null,
   "id": "0f8c0cac",
   "metadata": {},
   "outputs": [],
   "source": [
    "spacing = 50; smoothing_multiplier = 500\n",
    "xy_c3 = get_spaced_points_with_corners(channel, spacing)\n",
    "print(f\"Number of points to fit: {len(xy_c3[0])}\")\n",
    "xy_s3 = fit_spline_to_points(xy_c3, resolution, smoothing_multiplier)\n",
    "\n",
    "f, ax = matplotlib.pyplot.subplots(figsize=(40,20));\n",
    "channel.plot(ax=ax, linestyle='--', markersize=1, label='original', color='b', zorder=0); \n",
    "matplotlib.pyplot.plot(xy_c3[0], xy_c3[1], 'ro', markersize=5, label='sample points', zorder=2);\n",
    "matplotlib.pyplot.plot(xy_s3[0], xy_s3[1], 'k-', markersize=1, label='spline', zorder=1);\n",
    "matplotlib.pyplot.legend(); ax.set(title=f\"Centreline from points spaced by {spacing} with corner points and a smoothing multiplier of {smoothing_multiplier}\")"
   ]
  },
  {
   "cell_type": "markdown",
   "id": "c5a88950",
   "metadata": {},
   "source": [
    "# Parametric spline fit - control points\n",
    "Based on: http://vadym-pasko.com/blog/2015/03/06/spline-approx-scipy.html"
   ]
  },
  {
   "cell_type": "code",
   "execution_count": null,
   "id": "1d63c782",
   "metadata": {},
   "outputs": [],
   "source": [
    "def fit_spline_to_points_from_knots(xy, res, k=3) -> numpy.ndarray:\n",
    "    \n",
    "    knotspace = range(len(xy[0]))\n",
    "    knots = scipy.interpolate.InterpolatedUnivariateSpline(knotspace, knotspace, k=k).get_knots()\n",
    "    knots_full = numpy.concatenate(([knots[0]] * k, knots, [knots[-1]] * k))\n",
    "    \n",
    "    tckX = knots_full, xy[0], k\n",
    "    tckY = knots_full, xy[1], k\n",
    "\n",
    "    splineX = scipy.interpolate.UnivariateSpline._from_tck(tckX)\n",
    "    splineY = scipy.interpolate.UnivariateSpline._from_tck(tckY)\n",
    "\n",
    "    # get number of points to sample spline at\n",
    "    line_length = shapely.geometry.LineString(xy.T).length\n",
    "    number_of_samples = round(line_length / res)\n",
    "\n",
    "    u_sampled = numpy.linspace(0, len(xy[0]) - 1, number_of_samples)\n",
    "    x_sampled = splineX(u_sampled)\n",
    "    y_sampled = splineY(u_sampled)\n",
    "    \n",
    "    \n",
    "    \n",
    "    return numpy.array([x_sampled, y_sampled])"
   ]
  },
  {
   "cell_type": "markdown",
   "id": "aa953dae",
   "metadata": {},
   "source": [
    "## Spline fit from  corner points only"
   ]
  },
  {
   "cell_type": "code",
   "execution_count": null,
   "id": "2d55d31b",
   "metadata": {},
   "outputs": [],
   "source": [
    "xy_c4 = get_corner_points(channel)\n",
    "xy_s4 = fit_spline_to_points_from_knots(xy_c4, resolution)\n",
    "\n",
    "f, ax = matplotlib.pyplot.subplots(figsize=(40,20));\n",
    "channel.plot(ax=ax, linestyle='--', markersize=1, label='original', color='b', zorder=0); \n",
    "matplotlib.pyplot.plot(xy_c4[0], xy_c4[1], 'ro', markersize=5, label='sample points', zorder=2);\n",
    "matplotlib.pyplot.plot(xy_s4[0], xy_s4[1], 'k-', markersize=1, label='spline', zorder=1);\n",
    "matplotlib.pyplot.legend(); ax.set(title=f\"Centreline from corner points\")"
   ]
  },
  {
   "cell_type": "markdown",
   "id": "250e8041",
   "metadata": {},
   "source": [
    "## Spline fit from spaced points"
   ]
  },
  {
   "cell_type": "code",
   "execution_count": null,
   "id": "0ca0e8db",
   "metadata": {},
   "outputs": [],
   "source": [
    "spacing = 50\n",
    "xy_c5 = get_spaced_points(channel, spacing)\n",
    "xy_s5 = fit_spline_to_points_from_knots(xy_c5, resolution)\n",
    "\n",
    "f, ax = matplotlib.pyplot.subplots(figsize=(40,20));\n",
    "channel.plot(ax=ax, linestyle='--', markersize=1, label='original', color='b', zorder=0); \n",
    "matplotlib.pyplot.plot(xy_c5[0], xy_c5[1], 'ro', markersize=5, label='sample points', zorder=2);\n",
    "matplotlib.pyplot.plot(xy_s5[0], xy_s5[1], 'k-', markersize=1, label='spline', zorder=1);\n",
    "matplotlib.pyplot.legend(); ax.set(title=f\"Centreline from corner points\")"
   ]
  },
  {
   "cell_type": "markdown",
   "id": "86bc20a6",
   "metadata": {},
   "source": [
    "## Spline fit from spaced points with corners"
   ]
  },
  {
   "cell_type": "code",
   "execution_count": null,
   "id": "4a42c5a5",
   "metadata": {},
   "outputs": [],
   "source": [
    "spacing = 50\n",
    "xy_c6 = get_spaced_points_with_corners(channel, spacing)\n",
    "xy_s6 = fit_spline_to_points_from_knots(xy_c6, resolution)\n",
    "\n",
    "f, ax = matplotlib.pyplot.subplots(figsize=(40,20));\n",
    "channel.plot(ax=ax, linestyle='--', markersize=1, label='original', color='b', zorder=0); \n",
    "matplotlib.pyplot.plot(xy_c6[0], xy_c6[1], 'ro', markersize=5, label='sample points', zorder=2);\n",
    "matplotlib.pyplot.plot(xy_s6[0], xy_s6[1], 'k-', markersize=1, label='spline', zorder=1);\n",
    "matplotlib.pyplot.legend(); ax.set(title=f\"Centreline from corner points\")"
   ]
  },
  {
   "cell_type": "code",
   "execution_count": null,
   "id": "394c1c0b",
   "metadata": {},
   "outputs": [],
   "source": []
  },
  {
   "cell_type": "code",
   "execution_count": null,
   "id": "19c109a7",
   "metadata": {},
   "outputs": [],
   "source": []
  }
 ],
 "metadata": {
  "kernelspec": {
   "display_name": "Python [conda env:geofabricsdask]",
   "language": "python",
   "name": "conda-env-geofabricsdask-py"
  },
  "language_info": {
   "codemirror_mode": {
    "name": "ipython",
    "version": 3
   },
   "file_extension": ".py",
   "mimetype": "text/x-python",
   "name": "python",
   "nbconvert_exporter": "python",
   "pygments_lexer": "ipython3",
   "version": "3.9.7"
  }
 },
 "nbformat": 4,
 "nbformat_minor": 5
}
