{
 "cells": [
  {
   "cell_type": "code",
   "execution_count": null,
   "metadata": {},
   "outputs": [],
   "source": [
    "import pathlib\n",
    "import requests\n",
    "import urllib\n",
    "import boto3\n",
    "import botocore"
   ]
  },
  {
   "cell_type": "code",
   "execution_count": null,
   "metadata": {},
   "outputs": [],
   "source": [
    "SCHEME = \"https\"\n",
    "NETLOC = \"portal.opentopography.org\"\n",
    "PATH = \"/API/otCatalog\""
   ]
  },
  {
   "cell_type": "code",
   "execution_count": null,
   "metadata": {},
   "outputs": [],
   "source": [
    "params = {\n",
    "        \"productFormat\": \"PointCloud\",\n",
    "        \"minx\": 174.95818234951503,\n",
    "        \"miny\": -41.00143843312103,\n",
    "        \"maxx\": 175.17910282839554,\n",
    "        \"maxy\": -40.836465206459664,\n",
    "        \"detail\": False,\n",
    "        \"outputFormat\": \"json\",\n",
    "        \"inlcude_federated\": True\n",
    "    }\n",
    "data_info_stub = 'https://portal.opentopography.org/datasetMetadata?otCollectionID='"
   ]
  },
  {
   "cell_type": "code",
   "execution_count": null,
   "metadata": {},
   "outputs": [],
   "source": [
    "data_url = urllib.parse.urlunparse((SCHEME, NETLOC, PATH, \"\", \"\", \"\"))\n",
    "\n",
    "response = requests.get(data_url, params=params, stream=True)\n",
    "response.raise_for_status()\n",
    "json_response=response.json()"
   ]
  },
  {
   "cell_type": "code",
   "execution_count": null,
   "metadata": {},
   "outputs": [],
   "source": [
    "json_response"
   ]
  },
  {
   "cell_type": "code",
   "execution_count": null,
   "metadata": {},
   "outputs": [],
   "source": [
    "id_name=json_response['Datasets'][0]['Dataset']['alternateName']\n",
    "id_name"
   ]
  },
  {
   "cell_type": "markdown",
   "metadata": {},
   "source": [
    "# Try download file directly - get permission denied"
   ]
  },
  {
   "cell_type": "code",
   "execution_count": null,
   "metadata": {},
   "outputs": [],
   "source": [
    "headers = {'User-Agent': USER_AGENT}\n",
    "tile_url = \"https://opentopography.s3.sdsc.edu/minio/pc-bulk/Wellington_2013/Wellington_2013_TileIndex.zip\"\n",
    "dest_path = r\"C:\\Users\\pearsonra\\Documents\\data\\Wakanae\\local_cache\\test.zip\"\n",
    "r = requests.get(tile_url, headers=headers, stream=True)\n",
    "with open(dest_path, 'wb') as fd:\n",
    "    for chunk in r.iter_content(): #chunk_size=chunk_size\n",
    "        fd.write(chunk)"
   ]
  },
  {
   "cell_type": "markdown",
   "metadata": {},
   "source": [
    "# AWS CLI that work\n",
    "` C:\\Users\\pearsonra>aws s3 ls s3://pc-bulk/Wellington_2013/Wellington_2013_TileIndex.zip --recursive --endpoint-url https://opentopography.s3.sdsc.edu --no-sign-request`\n",
    "\n",
    "`C:\\Users\\pearsonra>aws s3 cp s3://pc-bulk/Wellington_2013/Wellington_2013_TileIndex.zip . --recursive --endpoint-url https://opentopography.s3.sdsc.edu --no-sign-request`"
   ]
  },
  {
   "cell_type": "markdown",
   "metadata": {},
   "source": [
    "# AWS keys"
   ]
  },
  {
   "cell_type": "code",
   "execution_count": null,
   "metadata": {},
   "outputs": [],
   "source": [
    "aws_bucket = 'pc-bulk'\n",
    "aws_endpoint_url = 'https://opentopography.s3.sdsc.edu'\n",
    "\n",
    "tile_file_name = id_name + '_TileIndex.zip'\n",
    "\n",
    "\n",
    "aws_secret_access_key = 'pc-bulk-3LoTa4'\n",
    "ex_full_url = 'https://opentopography.s3.sdsc.edu/minio/pc-bulk/Wellington_2013'"
   ]
  },
  {
   "cell_type": "markdown",
   "metadata": {},
   "source": [
    "# Boto client - success\n",
    "Download the tile information"
   ]
  },
  {
   "cell_type": "code",
   "execution_count": null,
   "metadata": {},
   "outputs": [],
   "source": [
    "client = boto3.client('s3',\n",
    "                      endpoint_url=aws_endpoint_url,\n",
    "                      config=botocore.config.Config(signature_version=botocore.UNSIGNED))"
   ]
  },
  {
   "cell_type": "code",
   "execution_count": null,
   "metadata": {},
   "outputs": [],
   "source": [
    "metadata_key = id_name + '/' + id_name + '_TileIndex.zip'\n",
    "client.download_file(aws_bucket, metadata_key, id_name + '_TileIndex.zip')"
   ]
  },
  {
   "cell_type": "markdown",
   "metadata": {},
   "source": [
    "Example of getting all folders in OpenTopography LiDAR s3 storage"
   ]
  },
  {
   "cell_type": "code",
   "execution_count": null,
   "metadata": {},
   "outputs": [],
   "source": [
    "paginator = client.get_paginator('list_objects')\n",
    "result = paginator.paginate(Bucket=aws_bucket, Delimiter='/')\n",
    "for prefix in result.search('CommonPrefixes'):\n",
    "    print(prefix.get('Prefix'))"
   ]
  },
  {
   "cell_type": "markdown",
   "metadata": {},
   "source": [
    "Example getting all objects in the Wellingto_2013 prefex"
   ]
  },
  {
   "cell_type": "code",
   "execution_count": null,
   "metadata": {},
   "outputs": [],
   "source": [
    "paginator = client.get_paginator('list_objects_v2')\n",
    "pages = paginator.paginate(Bucket=aws_bucket, Prefix=id_name)\n",
    "number_of_files = 0\n",
    "for page in pages:\n",
    "    for obj in page['Contents']:\n",
    "        number_of_files += 1\n",
    "        #print(obj['Key'])\n",
    "print(number_of_files)"
   ]
  },
  {
   "cell_type": "markdown",
   "metadata": {},
   "source": [
    "Example printing more details about theWellington_2013 prefex - but only for the first page"
   ]
  },
  {
   "cell_type": "code",
   "execution_count": null,
   "metadata": {},
   "outputs": [],
   "source": [
    "keys = []\n",
    "if response_meta.get('HTTPStatusCode') == 200:\n",
    "    contents = response.get('Contents')\n",
    "    if contents == None:\n",
    "        print(\"No objects are available for %s\" % aws_bucket)\n",
    "    else:\n",
    "        for obj in contents:\n",
    "            keys.append(obj.get('Key'))\n",
    "        print(\"There are %s objects available for %s\\n--\" % (len(keys), id_name))\n",
    "        for k in keys:\n",
    "            print(k)\n",
    "else:\n",
    "    print(\"There was an error with your request.\")\n"
   ]
  },
  {
   "cell_type": "markdown",
   "metadata": {},
   "source": [
    "# Boto code examples\n",
    "Note even while specifying the aws_access_key_id and aws_secrete_access_key we still need to specify the full path to the buckets. \n",
    "### session"
   ]
  },
  {
   "cell_type": "code",
   "execution_count": null,
   "metadata": {},
   "outputs": [],
   "source": [
    "session = boto3.session.Session(aws_access_key_id=aws_access_key_id,\n",
    "                                aws_secret_access_key=aws_secret_access_key)\n",
    "\n",
    "\n",
    "\n",
    "s3 = session.resource('s3', endpoint_url=aws_endpoint_url, \n",
    "                      config=botocore.config.Config(signature_version=botocore.UNSIGNED))\n",
    "\n",
    "metadata_key = id_name + '/' + id_name + '_TileIndex.zip'\n",
    "s3.Bucket(aws_bucket).download_file(metadata_key, 'test.zip')"
   ]
  },
  {
   "cell_type": "markdown",
   "metadata": {},
   "source": [
    "### Client"
   ]
  },
  {
   "cell_type": "code",
   "execution_count": null,
   "metadata": {},
   "outputs": [],
   "source": [
    "client = boto3.client('s3',\n",
    "                  aws_access_key_id=aws_access_key_id,\n",
    "                  aws_secret_access_key=aws_secret_access_key,\n",
    "                  endpoint_url=aws_endpoint_url,\n",
    "                  config=botocore.config.Config(signature_version=botocore.UNSIGNED))\n",
    "\n",
    "metadata_key = id_name + '/' + id_name + '_TileIndex.zip'\n",
    "client.head_object(Bucket=aws_bucket, Key=metadata_key)"
   ]
  },
  {
   "cell_type": "markdown",
   "metadata": {},
   "source": [
    "### Resource"
   ]
  },
  {
   "cell_type": "code",
   "execution_count": null,
   "metadata": {},
   "outputs": [],
   "source": [
    "s3 = boto3.resource('s3', \n",
    "                    aws_access_key_id=aws_access_key_id, \n",
    "                    aws_secret_access_key=aws_secret_access_key,\n",
    "                    endpoint_url=aws_endpoint_url,\n",
    "                    config=botocore.config.Config(signature_version=botocore.UNSIGNED))\n",
    "\n",
    "metadata_key = id_name + '/' + id_name + '_TileIndex.zip'\n",
    "s3.Bucket(aws_bucket).download_file(metadata_key, 'test.zip')"
   ]
  },
  {
   "cell_type": "code",
   "execution_count": null,
   "metadata": {},
   "outputs": [],
   "source": []
  }
 ],
 "metadata": {
  "kernelspec": {
   "display_name": "Python [conda env:geofabrics]",
   "language": "python",
   "name": "conda-env-geofabrics-py"
  },
  "language_info": {
   "codemirror_mode": {
    "name": "ipython",
    "version": 3
   },
   "file_extension": ".py",
   "mimetype": "text/x-python",
   "name": "python",
   "nbconvert_exporter": "python",
   "pygments_lexer": "ipython3",
   "version": "3.9.6"
  }
 },
 "nbformat": 4,
 "nbformat_minor": 2
}
