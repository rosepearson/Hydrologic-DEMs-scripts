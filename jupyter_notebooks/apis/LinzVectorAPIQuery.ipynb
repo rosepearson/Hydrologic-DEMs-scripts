{
 "cells": [
  {
   "cell_type": "code",
   "execution_count": null,
   "metadata": {},
   "outputs": [],
   "source": [
    "import pathlib\n",
    "import requests\n",
    "import urllib\n",
    "import dotenv\n",
    "import os\n",
    "import shapely\n",
    "import shapely.geometry\n",
    "import geopandas"
   ]
  },
  {
   "cell_type": "code",
   "execution_count": null,
   "metadata": {},
   "outputs": [],
   "source": [
    "SCHEME = \"https\"\n",
    "NETLOC_API = \"data.linz.govt.nz\"\n",
    "WFS_PATH_API_START = \"/services;key=\"\n",
    "WFS_PATH_API_END = \"/wfs\"\n",
    "\n",
    "dotenv.load_dotenv()\n",
    "KEY = os.environ.get('LINZ_API', None)\n",
    "\n",
    "CRS = \"EPSG:2193\"\n",
    "\n",
    "data_url = urllib.parse.urlunparse((SCHEME, NETLOC_API, f\"{WFS_PATH_API_START}{KEY}{WFS_PATH_API_END}\", \"\", \"\", \"\"))"
   ]
  },
  {
   "cell_type": "code",
   "execution_count": null,
   "metadata": {},
   "outputs": [],
   "source": [
    "KEY"
   ]
  },
  {
   "cell_type": "code",
   "execution_count": null,
   "metadata": {},
   "outputs": [],
   "source": [
    "x0 = 1477354\n",
    "x1 = 1484656\n",
    "y0 = 5374408\n",
    "y1 = 5383411"
   ]
  },
  {
   "cell_type": "code",
   "execution_count": null,
   "metadata": {},
   "outputs": [],
   "source": [
    "def make_api_params(layer, geometry_type):\n",
    "    api_query = {\n",
    "                \"service\": \"WFS\",\n",
    "                \"version\": 2.0,\n",
    "                \"request\": \"GetFeature\",\n",
    "                \"typeNames\": f\"layer-{layer}\",\n",
    "                \"outputFormat\": \"json\",\n",
    "                \"SRSName\": f\"{CRS}\",\n",
    "                \"cql_filter\": f\"bbox({geometry_type}, {y0}, {x0}, \" +\n",
    "                              f\"{y1}, {x1}, \" +\n",
    "                              f\"'urn:ogc:def:crs:{CRS}')\"\n",
    "            }\n",
    "    return api_query"
   ]
  },
  {
   "cell_type": "markdown",
   "metadata": {},
   "source": [
    "https://data.linz.govt.nz/services/query/v1/vector.json?key=b74b510da6cb4e23ad8e779f9bd1b366&layer=105448&x=171.99059591063107&y=-41.78711137951029&max_results=3&radius=10000&geometry=true&with_field_names=true"
   ]
  },
  {
   "cell_type": "markdown",
   "metadata": {},
   "source": [
    "## NZ coastline"
   ]
  },
  {
   "cell_type": "code",
   "execution_count": null,
   "metadata": {},
   "outputs": [],
   "source": [
    "layer = 51153\n",
    "geom_type = \"GEOMETRY\"\n",
    "\n",
    "params = make_api_params(layer, geom_type)\n",
    "\n",
    "response = requests.get(data_url, params=params, stream=True)\n",
    "response.raise_for_status()\n",
    "json_response=response.json()\n",
    "requests.Request('POST', data_url, params=params).prepare().url"
   ]
  },
  {
   "cell_type": "code",
   "execution_count": null,
   "metadata": {},
   "outputs": [],
   "source": [
    "json_response"
   ]
  },
  {
   "cell_type": "code",
   "execution_count": null,
   "metadata": {},
   "outputs": [],
   "source": [
    "json_response.keys()"
   ]
  },
  {
   "cell_type": "code",
   "execution_count": null,
   "metadata": {},
   "outputs": [],
   "source": [
    "print(json_response['features'][0].keys())\n",
    "[json_response['features'][0]['type'], json_response['features'][0]['id'], json_response['features'][0]['geometry_name'], \n",
    " json_response['features'][0]['properties']]"
   ]
  },
  {
   "cell_type": "code",
   "execution_count": null,
   "metadata": {},
   "outputs": [],
   "source": [
    "response.headers['Content-Type']"
   ]
  },
  {
   "cell_type": "markdown",
   "metadata": {},
   "source": [
    "# Bathymetry contours"
   ]
  },
  {
   "cell_type": "code",
   "execution_count": null,
   "metadata": {},
   "outputs": [],
   "source": [
    "layer = 50448\n",
    "geom_type = \"shape\"\n",
    "params = make_api_params(layer, geom_type)\n",
    "\n",
    "response = requests.get(data_url, params=params, stream=True)\n",
    "response.raise_for_status()\n",
    "json_response=response.json()\n",
    "requests.Request('POST', data_url, params=params).prepare().url"
   ]
  },
  {
   "cell_type": "code",
   "execution_count": null,
   "metadata": {},
   "outputs": [],
   "source": [
    "json_response"
   ]
  },
  {
   "cell_type": "code",
   "execution_count": null,
   "metadata": {},
   "outputs": [],
   "source": [
    "response.headers"
   ]
  },
  {
   "cell_type": "code",
   "execution_count": null,
   "metadata": {},
   "outputs": [],
   "source": [
    "response.headers['Content-Type'] == 'application/json;charset=utf-8'"
   ]
  },
  {
   "cell_type": "markdown",
   "metadata": {},
   "source": [
    "# Overcome crash if invalid query but status is 200 and then try requests.json\n",
    "For instance if we have the incorrect cql_filter bbox label (i.e. \"GEOMETRY\" when it should be \"shape\", we get a status=200, but we get a crash if requests.json().\n",
    "Below is an example of how to detect if the URL response is invalid. We could use to try 'shape' then 'GEOMETRY'"
   ]
  },
  {
   "cell_type": "code",
   "execution_count": null,
   "metadata": {},
   "outputs": [],
   "source": [
    "layer = 50448\n",
    "geom_type = \"GEOMETRY\"\n",
    "params = make_api_params(layer, geom_type)\n",
    "\n",
    "response = requests.get(data_url, params=params, stream=True)\n",
    "requests.Request('POST', data_url, params=params).prepare().url"
   ]
  },
  {
   "cell_type": "code",
   "execution_count": null,
   "metadata": {},
   "outputs": [],
   "source": [
    "response.raise_for_status()"
   ]
  },
  {
   "cell_type": "code",
   "execution_count": null,
   "metadata": {},
   "outputs": [],
   "source": [
    "response.headers"
   ]
  },
  {
   "cell_type": "code",
   "execution_count": null,
   "metadata": {},
   "outputs": [],
   "source": [
    "response.text"
   ]
  },
  {
   "cell_type": "code",
   "execution_count": null,
   "metadata": {},
   "outputs": [],
   "source": [
    "'Exception' in response.text"
   ]
  },
  {
   "cell_type": "markdown",
   "metadata": {},
   "source": [
    "# Create tests for no boundary filter"
   ]
  },
  {
   "cell_type": "code",
   "execution_count": null,
   "metadata": {},
   "outputs": [],
   "source": [
    "def make_api_params_no_bounds(layer):\n",
    "    api_query = {\n",
    "                \"service\": \"WFS\",\n",
    "                \"version\": 2.0,\n",
    "                \"request\": \"GetFeature\",\n",
    "                \"typeNames\": f\"layer-{layer}\",\n",
    "                \"outputFormat\": \"json\",\n",
    "                \"SRSName\": f\"{CRS}\"\n",
    "            }\n",
    "    return api_query"
   ]
  },
  {
   "cell_type": "markdown",
   "metadata": {},
   "source": [
    "## Railway centre lines"
   ]
  },
  {
   "cell_type": "code",
   "execution_count": null,
   "metadata": {},
   "outputs": [],
   "source": [
    "crs=2193\n",
    "params = make_api_params_no_bounds(50781)\n",
    "response = requests.get(data_url, params=params, stream=True)\n",
    "response.raise_for_status()\n",
    "json_response=response.json()"
   ]
  },
  {
   "cell_type": "code",
   "execution_count": null,
   "metadata": {},
   "outputs": [],
   "source": [
    "features = {'geometry': []}\n",
    "for feature in json_response['features']:\n",
    "\n",
    "    shapely_geometry = shapely.geometry.shape(feature['geometry'])\n",
    "\n",
    "    # Create column headings for each 'properties' option from the first in-bounds vector\n",
    "    if len(features['geometry']) == 0:\n",
    "        for key in feature['properties'].keys():\n",
    "            features[key] = []  # The empty list to append the property values too\n",
    "\n",
    "    # Convert any one Polygon MultiPolygon to a straight Polygon then add to the geometries\n",
    "    if (shapely_geometry.geometryType() == 'MultiPolygon' and len(shapely_geometry) == 1):\n",
    "        shapely_geometry = shapely_geometry[0]\n",
    "    features['geometry'].append(shapely_geometry)\n",
    "\n",
    "    # Add the value of each property in turn\n",
    "    for key in feature['properties'].keys():\n",
    "        features[key].append(feature['properties'][key])\n",
    "\n",
    "# Convert to a geopandas dataframe\n",
    "if len(features) > 0:\n",
    "    features = geopandas.GeoDataFrame(features, crs=crs)\n",
    "else:\n",
    "    features = None"
   ]
  },
  {
   "cell_type": "code",
   "execution_count": null,
   "metadata": {},
   "outputs": [],
   "source": [
    "features.geometry.length.sum()"
   ]
  },
  {
   "cell_type": "code",
   "execution_count": null,
   "metadata": {},
   "outputs": [],
   "source": [
    "list(features['id'][0:5])"
   ]
  },
  {
   "cell_type": "markdown",
   "metadata": {},
   "source": [
    "## Pastural land"
   ]
  },
  {
   "cell_type": "code",
   "execution_count": null,
   "metadata": {},
   "outputs": [],
   "source": [
    "crs=2193\n",
    "params = make_api_params_no_bounds(51572)\n",
    "response = requests.get(data_url, params=params, stream=True)\n",
    "response.raise_for_status()\n",
    "json_response=response.json()"
   ]
  },
  {
   "cell_type": "code",
   "execution_count": null,
   "metadata": {},
   "outputs": [],
   "source": [
    "features = {'geometry': []}\n",
    "for feature in json_response['features']:\n",
    "\n",
    "    shapely_geometry = shapely.geometry.shape(feature['geometry'])\n",
    "\n",
    "    # Create column headings for each 'properties' option from the first in-bounds vector\n",
    "    if len(features['geometry']) == 0:\n",
    "        for key in feature['properties'].keys():\n",
    "            features[key] = []  # The empty list to append the property values too\n",
    "\n",
    "    # Convert any one Polygon MultiPolygon to a straight Polygon then add to the geometries\n",
    "    if (shapely_geometry.geometryType() == 'MultiPolygon' and len(shapely_geometry) == 1):\n",
    "        shapely_geometry = shapely_geometry[0]\n",
    "    features['geometry'].append(shapely_geometry)\n",
    "\n",
    "    # Add the value of each property in turn\n",
    "    for key in feature['properties'].keys():\n",
    "        features[key].append(feature['properties'][key])\n",
    "\n",
    "# Convert to a geopandas dataframe\n",
    "if len(features) > 0:\n",
    "    features = geopandas.GeoDataFrame(features, crs=crs)\n",
    "else:\n",
    "    features = None"
   ]
  },
  {
   "cell_type": "code",
   "execution_count": null,
   "metadata": {},
   "outputs": [],
   "source": [
    "features.loc[0].geometry.geometryType()"
   ]
  },
  {
   "cell_type": "code",
   "execution_count": null,
   "metadata": {},
   "outputs": [],
   "source": [
    "list(features['id'][0:5])"
   ]
  },
  {
   "cell_type": "code",
   "execution_count": null,
   "metadata": {},
   "outputs": [],
   "source": [
    "features.columns"
   ]
  },
  {
   "cell_type": "code",
   "execution_count": null,
   "metadata": {},
   "outputs": [],
   "source": [
    "features.geometry.area.sum()"
   ]
  },
  {
   "cell_type": "code",
   "execution_count": null,
   "metadata": {},
   "outputs": [],
   "source": [
    "features.geometry.length.sum()"
   ]
  }
 ],
 "metadata": {
  "kernelspec": {
   "display_name": "Python [conda env:geofabrics]",
   "language": "python",
   "name": "conda-env-geofabrics-py"
  },
  "language_info": {
   "codemirror_mode": {
    "name": "ipython",
    "version": 3
   },
   "file_extension": ".py",
   "mimetype": "text/x-python",
   "name": "python",
   "nbconvert_exporter": "python",
   "pygments_lexer": "ipython3",
   "version": "3.9.6"
  }
 },
 "nbformat": 4,
 "nbformat_minor": 2
}
