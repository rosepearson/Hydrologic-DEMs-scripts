{
 "cells": [
  {
   "cell_type": "markdown",
   "id": "5095336d",
   "metadata": {},
   "source": [
    "# Pulling rivers from OpenStreetMap (OSM)"
   ]
  },
  {
   "cell_type": "code",
   "execution_count": 2,
   "id": "523da8d4",
   "metadata": {},
   "outputs": [],
   "source": [
    "import OSMPythonTools\n",
    "import OSMPythonTools.api\n",
    "import OSMPythonTools.overpass\n",
    "from OSMPythonTools.overpass import overpassQueryBuilder\n",
    "import geopandas\n",
    "import shapely\n",
    "import pathlib\n",
    "import numpy\n",
    "import matplotlib.pyplot"
   ]
  },
  {
   "cell_type": "markdown",
   "id": "63a99f90",
   "metadata": {},
   "source": [
    "## Waikanae region of interest\n",
    "OSM uses Latitudes and Longitudes (EPSG:4326) as its coordinate system."
   ]
  },
  {
   "cell_type": "code",
   "execution_count": 6,
   "id": "7f71e374",
   "metadata": {},
   "outputs": [],
   "source": [
    "def bbox_from_points(x0, y0, x1, y1) -> geopandas.GeoDataFrame:\n",
    "    bbox_nztm2000 = geopandas.GeoDataFrame(\n",
    "        geometry=[shapely.geometry.Polygon([[x0, y0],\n",
    "                                            [x1, y0],\n",
    "                                            [x1, y1],\n",
    "                                            [x0, y1]])],\n",
    "                                           crs='EPSG:2193')\n",
    "    return bbox_nztm2000"
   ]
  },
  {
   "cell_type": "code",
   "execution_count": 8,
   "id": "c8598d40",
   "metadata": {},
   "outputs": [],
   "source": [
    "def query_from_bbox(bbox_nztm2000) -> tuple:\n",
    "    print(f\"Is x1/y1 greater than x0/y0? dx={x1-x0}, and dy={y1-y0}\")\n",
    "\n",
    "    bbox_lat_long = bbox_nztm2000.to_crs('EPSG:4326')\n",
    "    query = overpassQueryBuilder(bbox=[bbox_lat_long.bounds.miny[0],\n",
    "                                       bbox_lat_long.bounds.minx[0],\n",
    "                                       bbox_lat_long.bounds.maxy[0],\n",
    "                                       bbox_lat_long.bounds.maxx[0]], \n",
    "                                 elementType='way', selector='waterway',\n",
    "                                 out='body', includeGeometry=True)\n",
    "    print(query)\n",
    "    overpass = OSMPythonTools.overpass.Overpass()\n",
    "    rivers = overpass.query(query)\n",
    "    return rivers, bbox_nztm2000"
   ]
  },
  {
   "cell_type": "code",
   "execution_count": 9,
   "id": "50f9a572",
   "metadata": {},
   "outputs": [],
   "source": [
    "def drains_from_rivers(rivers):\n",
    "    element_dict = {\n",
    "        'geometry': [],\n",
    "        'OSM_id': [],\n",
    "        'waterway': [],\n",
    "        'tunnel': [],\n",
    "    }\n",
    "\n",
    "    for element in rivers.elements():\n",
    "        element_dict['geometry'].append(element.geometry())\n",
    "        element_dict['OSM_id'].append(element.id())\n",
    "        element_dict['waterway'].append(element.tags()['waterway'])\n",
    "        element_dict['tunnel'].append('tunnel' in element.tags().keys())\n",
    "    drains_df = geopandas.GeoDataFrame(element_dict, crs='EPSG:4326').to_crs('EPSG:2193')\n",
    "    return drains_df"
   ]
  },
  {
   "cell_type": "markdown",
   "id": "31f2400b",
   "metadata": {},
   "source": [
    "# A query that works"
   ]
  },
  {
   "cell_type": "code",
   "execution_count": 11,
   "id": "0ddb2d89",
   "metadata": {},
   "outputs": [
    {
     "name": "stdout",
     "output_type": "stream",
     "text": [
      "Is x1/y1 greater than x0/y0? dx=9217, and dy=7711\n",
      "(way[waterway](-40.91160630219117,174.99364670676297,-40.840243712602486,175.10510715718377);); out body geom;\n"
     ]
    },
    {
     "data": {
      "text/plain": [
       "<AxesSubplot:>"
      ]
     },
     "execution_count": 11,
     "metadata": {},
     "output_type": "execute_result"
    },
    {
     "data": {
      "image/png": "[encoded data removed]",
      "text/plain": [
       "<Figure size 1080x216 with 2 Axes>"
      ]
     },
     "metadata": {
      "needs_background": "light"
     },
     "output_type": "display_data"
    }
   ],
   "source": [
    "x0 = 1768073\n",
    "y0 = 5469138\n",
    "x1 = 1777290\n",
    "y1 = 5476849 # origional\n",
    "bbox_original = bbox_from_points(x0=x0, y0=y0, x1=x1, y1=y1)\n",
    "rivers, bbox = query_from_bbox(bbox_original)\n",
    "drains = drains_from_rivers(rivers)\n",
    "f, axs = matplotlib.pyplot.subplots(1, 2, sharey=True, figsize=(15,3))\n",
    "bbox.plot(ax=axs[0], color='r')\n",
    "drains.plot(ax=axs[0])\n",
    "bbox.plot(ax=axs[0], color='r')\n",
    "drains[drains['OSM_id']==132793862].plot(ax=axs[1])\n",
    "bbox.plot(ax=axs[1], facecolor=\"none\", edgecolor='r')"
   ]
  },
  {
   "cell_type": "code",
   "execution_count": 13,
   "id": "6703c8fc",
   "metadata": {},
   "outputs": [
    {
     "data": {
      "text/html": [
       "<div>\n",
       "<style scoped>\n",
       "    .dataframe tbody tr th:only-of-type {\n",
       "        vertical-align: middle;\n",
       "    }\n",
       "\n",
       "    .dataframe tbody tr th {\n",
       "        vertical-align: top;\n",
       "    }\n",
       "\n",
       "    .dataframe thead th {\n",
       "        text-align: right;\n",
       "    }\n",
       "</style>\n",
       "<table border=\"1\" class=\"dataframe\">\n",
       "  <thead>\n",
       "    <tr style=\"text-align: right;\">\n",
       "      <th></th>\n",
       "      <th>geometry</th>\n",
       "      <th>OSM_id</th>\n",
       "      <th>waterway</th>\n",
       "      <th>tunnel</th>\n",
       "    </tr>\n",
       "  </thead>\n",
       "  <tbody>\n",
       "    <tr>\n",
       "      <th>0</th>\n",
       "      <td>LINESTRING (1781260.295 5474518.532, 1781201.8...</td>\n",
       "      <td>132793862</td>\n",
       "      <td>river</td>\n",
       "      <td>False</td>\n",
       "    </tr>\n",
       "    <tr>\n",
       "      <th>68</th>\n",
       "      <td>LINESTRING (1780709.784 5462755.267, 1780747.0...</td>\n",
       "      <td>609119102</td>\n",
       "      <td>river</td>\n",
       "      <td>False</td>\n",
       "    </tr>\n",
       "    <tr>\n",
       "      <th>69</th>\n",
       "      <td>LINESTRING (1777120.623 5468984.873, 1777058.1...</td>\n",
       "      <td>609119113</td>\n",
       "      <td>river</td>\n",
       "      <td>False</td>\n",
       "    </tr>\n",
       "  </tbody>\n",
       "</table>\n",
       "</div>"
      ],
      "text/plain": [
       "                                             geometry     OSM_id waterway  \\\n",
       "0   LINESTRING (1781260.295 5474518.532, 1781201.8...  132793862    river   \n",
       "68  LINESTRING (1780709.784 5462755.267, 1780747.0...  609119102    river   \n",
       "69  LINESTRING (1777120.623 5468984.873, 1777058.1...  609119113    river   \n",
       "\n",
       "    tunnel  \n",
       "0    False  \n",
       "68   False  \n",
       "69   False  "
      ]
     },
     "execution_count": 13,
     "metadata": {},
     "output_type": "execute_result"
    }
   ],
   "source": [
    "drains[drains['waterway']=='river']"
   ]
  },
  {
   "cell_type": "code",
   "execution_count": 12,
   "id": "87c5f135",
   "metadata": {},
   "outputs": [
    {
     "name": "stderr",
     "output_type": "stream",
     "text": [
      "[overpass] downloading data: [timeout:25][out:json];(way[waterway](132793862);); out body geom;\n"
     ]
    }
   ],
   "source": [
    "overpass = OSMPythonTools.overpass.Overpass()\n",
    "rivers = overpass.query(\"(way[waterway](132793862);); out body geom;\")"
   ]
  },
  {
   "cell_type": "code",
   "execution_count": 15,
   "id": "77c38c6f",
   "metadata": {},
   "outputs": [
    {
     "data": {
      "text/plain": [
       "[<OSMPythonTools.element.Element at 0x2876efdc550>]"
      ]
     },
     "execution_count": 15,
     "metadata": {},
     "output_type": "execute_result"
    }
   ],
   "source": [
    "rivers.elements()"
   ]
  },
  {
   "cell_type": "markdown",
   "id": "e3ae2ec7",
   "metadata": {},
   "source": [
    "# Cut OSM river to length\n",
    "Load the smoothed REC channel\n",
    "Load the selected OSM\n",
    "Cut the OSM to the REC length"
   ]
  },
  {
   "cell_type": "code",
   "execution_count": 18,
   "id": "e4e14f5d",
   "metadata": {},
   "outputs": [],
   "source": [
    "import OSMPythonTools.overpass\n",
    "import geopandas\n",
    "import shapely\n",
    "osm_id = 132793862\n",
    "overpass = OSMPythonTools.overpass.Overpass(); \n",
    "osm_channel = overpass.query(f\"(way[waterway]({osm_id});); out body geom;\")\n",
    "osm_channel = osm_channel.elements()[0]\n",
    "osm_channel = geopandas.GeoDataFrame(\n",
    "    {\n",
    "        \"geometry\": [osm_channel.geometry()],\n",
    "        \"OSM_id\": [osm_channel.id()],\n",
    "        \"waterway\": [osm_channel.tags()[\"waterway\"]],\n",
    "    }, crs='EPSG:4326').to_crs('EPSG:2193')"
   ]
  },
  {
   "cell_type": "code",
   "execution_count": 19,
   "id": "834f8e4e",
   "metadata": {},
   "outputs": [],
   "source": [
    "rec_smoothed_path = r\"C:\\Users\\pearsonra\\Documents\\data\\Waikanae\\caches\\Wellington_2013\\test_catchment\\rec_channel_129000000_smoothed.geojson\"\n",
    "smoothed_rec_channel = geopandas.read_file(rec_smoothed_path)"
   ]
  },
  {
   "cell_type": "code",
   "execution_count": 38,
   "id": "01222097",
   "metadata": {},
   "outputs": [
    {
     "data": {
      "text/plain": [
       "<AxesSubplot:>"
      ]
     },
     "execution_count": 38,
     "metadata": {},
     "output_type": "execute_result"
    },
    {
     "data": {
      "image/png": "[encoded data removed]",
      "text/plain": [
       "<Figure size 432x288 with 1 Axes>"
      ]
     },
     "metadata": {
      "needs_background": "light"
     },
     "output_type": "display_data"
    }
   ],
   "source": [
    "f, ax = matplotlib.pyplot.subplots()\n",
    "smoothed_rec_channel.plot(ax=ax, color='r')\n",
    "osm_channel.plot(ax=ax)"
   ]
  },
  {
   "cell_type": "code",
   "execution_count": 116,
   "id": "9d710c74",
   "metadata": {},
   "outputs": [],
   "source": [
    "rec_extents = smoothed_rec_channel.boundary.explode(index_parts=False)\n",
    "rec_start, rec_end = (rec_extents.iloc[0], rec_extents.iloc[1])"
   ]
  },
  {
   "cell_type": "code",
   "execution_count": 127,
   "id": "3fc6a0b8",
   "metadata": {},
   "outputs": [],
   "source": [
    "end_split_length = float(osm_channel.project(rec_end))\n",
    "start_split_length = float(osm_channel.project(rec_start))"
   ]
  },
  {
   "cell_type": "code",
   "execution_count": 128,
   "id": "9628900c",
   "metadata": {},
   "outputs": [],
   "source": [
    "# Work out if the osm_channel is defined from or to the ocean - from ocean index=, to ocean index=1\n",
    "osm_from_ocean = True if start_split_length < end_split_length else False"
   ]
  },
  {
   "cell_type": "code",
   "execution_count": 133,
   "id": "174e29fa",
   "metadata": {},
   "outputs": [],
   "source": [
    "end_split_point = osm_channel.interpolate(end_split_length)\n",
    "start_split_point = osm_channel.interpolate(start_split_length)"
   ]
  },
  {
   "cell_type": "code",
   "execution_count": 139,
   "id": "3e727a83",
   "metadata": {},
   "outputs": [
    {
     "data": {
      "text/plain": [
       "<AxesSubplot:>"
      ]
     },
     "execution_count": 139,
     "metadata": {},
     "output_type": "execute_result"
    },
    {
     "data": {
      "image/png": "[encoded data removed]",
      "text/plain": [
       "<Figure size 432x288 with 1 Axes>"
      ]
     },
     "metadata": {
      "needs_background": "light"
     },
     "output_type": "display_data"
    }
   ],
   "source": [
    "f, ax = matplotlib.pyplot.subplots()\n",
    "smoothed_rec_channel.plot(ax=ax, color='r')\n",
    "osm_channel.plot(ax=ax)\n",
    "end_split_point.plot(ax=ax, color='g')\n",
    "start_split_point.plot(ax=ax, color='y')"
   ]
  },
  {
   "cell_type": "code",
   "execution_count": 140,
   "id": "20c3eb57",
   "metadata": {},
   "outputs": [],
   "source": [
    "osm_channel_with_point = shapely.ops.snap(osm_channel.loc[0].geometry, end_split_point.loc[0], tolerance=0.1)\n",
    "osm_channel_with_point = shapely.ops.snap(osm_channel_with_point, start_split_point.loc[0], tolerance=0.1)"
   ]
  },
  {
   "cell_type": "code",
   "execution_count": 143,
   "id": "55c899d4",
   "metadata": {},
   "outputs": [
    {
     "data": {
      "image/svg+xml": [
       "<svg xmlns=\"http://www.w3.org/2000/svg\" xmlns:xlink=\"http://www.w3.org/1999/xlink\" width=\"300\" height=\"300\" viewBox=\"1768999.0853946805 5472235.881450672 3592.870741761988 1400.5130773717538\" preserveAspectRatio=\"xMinYMin meet\"><g transform=\"matrix(1,0,0,-1,0,10945872.275978714)\"><g><circle cx=\"1772458.8868497105\" cy=\"5472368.950737404\" r=\"35.92870741761988\" stroke=\"#555555\" stroke-width=\"11.976235805873294\" fill=\"#66cc99\" opacity=\"0.6\" /><circle cx=\"1769132.1546814125\" cy=\"5473503.325241311\" r=\"35.92870741761988\" stroke=\"#555555\" stroke-width=\"11.976235805873294\" fill=\"#66cc99\" opacity=\"0.6\" /></g></g></svg>"
      ],
      "text/plain": [
       "<shapely.geometry.multipoint.MultiPoint at 0x287799b5490>"
      ]
     },
     "execution_count": 143,
     "metadata": {},
     "output_type": "execute_result"
    }
   ],
   "source": [
    "shapely.geometry.MultiPoint([end_split_point.loc[0], start_split_point.loc[0]])"
   ]
  },
  {
   "cell_type": "code",
   "execution_count": 146,
   "id": "dad6aeb1",
   "metadata": {},
   "outputs": [],
   "source": [
    "lines = shapely.ops.split(osm_channel_with_point, shapely.geometry.MultiPoint([start_split_point.loc[0], end_split_point.loc[0]]))"
   ]
  },
  {
   "cell_type": "code",
   "execution_count": 147,
   "id": "6f3c4c5d",
   "metadata": {},
   "outputs": [
    {
     "data": {
      "text/plain": [
       "3"
      ]
     },
     "execution_count": 147,
     "metadata": {},
     "output_type": "execute_result"
    }
   ],
   "source": [
    "len(lines.geoms)"
   ]
  },
  {
   "cell_type": "code",
   "execution_count": 148,
   "id": "039895c5",
   "metadata": {},
   "outputs": [],
   "source": [
    "osm_channel_cut = geopandas.GeoSeries(lines.geoms, crs=\"EPSG:2193\")"
   ]
  },
  {
   "cell_type": "code",
   "execution_count": 151,
   "id": "a674c602",
   "metadata": {},
   "outputs": [
    {
     "data": {
      "text/plain": [
       "<AxesSubplot:>"
      ]
     },
     "execution_count": 151,
     "metadata": {},
     "output_type": "execute_result"
    },
    {
     "data": {
      "image/png": "[encoded data removed]",
      "text/plain": [
       "<Figure size 432x288 with 1 Axes>"
      ]
     },
     "metadata": {
      "needs_background": "light"
     },
     "output_type": "display_data"
    }
   ],
   "source": [
    "osm_channel_cut.iloc[1:2].plot()"
   ]
  },
  {
   "cell_type": "code",
   "execution_count": 125,
   "id": "dba935b8",
   "metadata": {},
   "outputs": [],
   "source": [
    "osm_channel_cut = osm_channel_cut.iloc[:1] if osm_from_ocean else osm_channel_cut.iloc[1:]"
   ]
  },
  {
   "cell_type": "code",
   "execution_count": 126,
   "id": "96b2312e",
   "metadata": {},
   "outputs": [
    {
     "data": {
      "text/plain": [
       "<AxesSubplot:>"
      ]
     },
     "execution_count": 126,
     "metadata": {},
     "output_type": "execute_result"
    },
    {
     "data": {
      "image/png": "[encoded data removed]",
      "text/plain": [
       "<Figure size 432x288 with 1 Axes>"
      ]
     },
     "metadata": {
      "needs_background": "light"
     },
     "output_type": "display_data"
    }
   ],
   "source": [
    "osm_channel_cut.plot()"
   ]
  }
 ],
 "metadata": {
  "kernelspec": {
   "display_name": "Python [conda env:geofabrics]",
   "language": "python",
   "name": "conda-env-geofabrics-py"
  },
  "language_info": {
   "codemirror_mode": {
    "name": "ipython",
    "version": 3
   },
   "file_extension": ".py",
   "mimetype": "text/x-python",
   "name": "python",
   "nbconvert_exporter": "python",
   "pygments_lexer": "ipython3",
   "version": "3.9.12"
  }
 },
 "nbformat": 4,
 "nbformat_minor": 5
}
