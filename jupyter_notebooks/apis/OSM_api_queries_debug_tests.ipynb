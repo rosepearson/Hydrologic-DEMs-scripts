{
 "cells": [
  {
   "cell_type": "markdown",
   "id": "5095336d",
   "metadata": {},
   "source": [
    "# Pulling rivers from OpenStreetMap (OSM)"
   ]
  },
  {
   "cell_type": "code",
   "execution_count": 22,
   "id": "523da8d4",
   "metadata": {},
   "outputs": [],
   "source": [
    "import OSMPythonTools\n",
    "import OSMPythonTools.api\n",
    "import OSMPythonTools.overpass\n",
    "from OSMPythonTools.overpass import overpassQueryBuilder\n",
    "import geopandas\n",
    "import shapely\n",
    "import pathlib\n",
    "import numpy\n",
    "import matplotlib.pyplot"
   ]
  },
  {
   "cell_type": "markdown",
   "id": "63a99f90",
   "metadata": {},
   "source": [
    "## Waikanae region of interest\n",
    "OSM uses Latitudes and Longitudes (EPSG:4326) as its coordinate system."
   ]
  },
  {
   "cell_type": "code",
   "execution_count": 23,
   "id": "7f71e374",
   "metadata": {},
   "outputs": [],
   "source": [
    "def bbox_from_points(x0, y0, x1, y1) -> geopandas.GeoDataFrame:\n",
    "    bbox_nztm2000 = geopandas.GeoDataFrame(\n",
    "        geometry=[shapely.geometry.Polygon([[x0, y0],\n",
    "                                            [x1, y0],\n",
    "                                            [x1, y1],\n",
    "                                            [x0, y1]])],\n",
    "                                           crs='EPSG:2193')\n",
    "    return bbox_nztm2000"
   ]
  },
  {
   "cell_type": "code",
   "execution_count": 24,
   "id": "1afd2e05",
   "metadata": {},
   "outputs": [],
   "source": [
    "def query_in_bbox(x0, y0, x1, y1) -> tuple:\n",
    "    print(f\"Is x1/y1 greater than x0/y0? dx={x1-x0}, and dy={y1-y0}\")\n",
    "\n",
    "    bbox_nztm2000 = bbox_from_points(x0=x0, y0=y0, x1=x1, y1=y1)\n",
    "    bbox_lat_long = bbox_nztm2000.to_crs('EPSG:4326')\n",
    "    query = overpassQueryBuilder(bbox=[bbox_lat_long.bounds.miny[0],\n",
    "                                       bbox_lat_long.bounds.minx[0],\n",
    "                                       bbox_lat_long.bounds.maxy[0],\n",
    "                                       bbox_lat_long.bounds.maxx[0]], \n",
    "                                 elementType='way', selector='waterway',\n",
    "                                 out='body', includeGeometry=True)\n",
    "    print(query)\n",
    "    overpass = OSMPythonTools.overpass.Overpass()\n",
    "    rivers = overpass.query(query)\n",
    "    return rivers, bbox_nztm2000"
   ]
  },
  {
   "cell_type": "code",
   "execution_count": 25,
   "id": "c8598d40",
   "metadata": {},
   "outputs": [],
   "source": [
    "def query_from_bbox(bbox_nztm2000) -> tuple:\n",
    "    print(f\"Is x1/y1 greater than x0/y0? dx={x1-x0}, and dy={y1-y0}\")\n",
    "\n",
    "    bbox_lat_long = bbox_nztm2000.to_crs('EPSG:4326')\n",
    "    query = overpassQueryBuilder(bbox=[bbox_lat_long.bounds.miny[0],\n",
    "                                       bbox_lat_long.bounds.minx[0],\n",
    "                                       bbox_lat_long.bounds.maxy[0],\n",
    "                                       bbox_lat_long.bounds.maxx[0]], \n",
    "                                 elementType='way', selector='waterway',\n",
    "                                 out='body', includeGeometry=True)\n",
    "    print(query)\n",
    "    overpass = OSMPythonTools.overpass.Overpass()\n",
    "    rivers = overpass.query(query)\n",
    "    return rivers, bbox_nztm2000"
   ]
  },
  {
   "cell_type": "code",
   "execution_count": 26,
   "id": "50f9a572",
   "metadata": {},
   "outputs": [],
   "source": [
    "def drains_from_rivers(rivers):\n",
    "    element_dict = {\n",
    "        'geometry': [],\n",
    "        'OSM_id': [],\n",
    "        'waterway': [],\n",
    "        'tunnel': [],\n",
    "    }\n",
    "\n",
    "    for element in rivers.elements():\n",
    "        element_dict['geometry'].append(element.geometry())\n",
    "        element_dict['OSM_id'].append(element.id())\n",
    "        element_dict['waterway'].append(element.tags()['waterway'])\n",
    "        element_dict['tunnel'].append('tunnel' in element.tags().keys())\n",
    "    drains_df = geopandas.GeoDataFrame(element_dict, crs='EPSG:4326').to_crs('EPSG:2193')\n",
    "    return drains_df"
   ]
  },
  {
   "cell_type": "markdown",
   "id": "09e58c29",
   "metadata": {},
   "source": [
    "# Compare bbox of the first two queries"
   ]
  },
  {
   "cell_type": "code",
   "execution_count": 27,
   "id": "4f0a28df",
   "metadata": {},
   "outputs": [
    {
     "data": {
      "text/plain": [
       "<AxesSubplot:>"
      ]
     },
     "execution_count": 27,
     "metadata": {},
     "output_type": "execute_result"
    },
    {
     "data": {
      "image/png": "[encoded data removed]",
      "text/plain": [
       "<Figure size 1080x216 with 2 Axes>"
      ]
     },
     "metadata": {
      "needs_background": "light"
     },
     "output_type": "display_data"
    }
   ],
   "source": [
    "x0 = 1768073\n",
    "y0 = 5469138\n",
    "x1 = 1777290\n",
    "y1 = 5476849 # origional\n",
    "bbox_original = bbox_from_points(x0=x0, y0=y0, x1=x1, y1=y1)\n",
    "x0 = 1770797\n",
    "y0 = 5472879\n",
    "x1 = 1770969\n",
    "y1 = 5472707 # drains test\n",
    "bbox_drain_test = bbox_from_points(x0=x0, y0=y0, x1=x1, y1=y1)\n",
    "dxy=5000\n",
    "bbox_drains_bigger = bbox_from_points(x0=x0-dxy, y0=y0+dxy, x1=x1+dxy, y1=y1-dxy)\n",
    "f, axs = matplotlib.pyplot.subplots(1, 2, sharey=True, figsize=(15,3))\n",
    "bbox_original.plot(ax=axs[0], facecolor=\"none\", edgecolor='r')\n",
    "bbox_drain_test.plot(ax=axs[0], facecolor=\"none\", edgecolor='b')\n",
    "bbox_drains_bigger.plot(ax=axs[0], facecolor=\"none\", edgecolor='k')"
   ]
  },
  {
   "cell_type": "markdown",
   "id": "31f2400b",
   "metadata": {},
   "source": [
    "# A query that works"
   ]
  },
  {
   "cell_type": "code",
   "execution_count": 28,
   "id": "0ddb2d89",
   "metadata": {},
   "outputs": [
    {
     "name": "stdout",
     "output_type": "stream",
     "text": [
      "Is x1/y1 greater than x0/y0? dx=9217, and dy=7711\n",
      "(way[waterway](-40.91160630219117,174.99364670676297,-40.840243712602486,175.10510715718377);); out body geom;\n",
      "Is x1/y1 greater than x0/y0? dx=9217, and dy=-7711\n",
      "(way[waterway](-40.91160630219117,174.99364670676297,-40.840243712602486,175.10510715718377);); out body geom;\n",
      "Is x1/y1 greater than x0/y0? dx=-9217, and dy=7711\n",
      "(way[waterway](-40.91160630219117,174.99364670676297,-40.840243712602486,175.10510715718377);); out body geom;\n"
     ]
    },
    {
     "data": {
      "text/plain": [
       "<AxesSubplot:>"
      ]
     },
     "execution_count": 28,
     "metadata": {},
     "output_type": "execute_result"
    },
    {
     "data": {
      "image/png": "[encoded data removed]",
      "text/plain": [
       "<Figure size 1080x216 with 2 Axes>"
      ]
     },
     "metadata": {
      "needs_background": "light"
     },
     "output_type": "display_data"
    }
   ],
   "source": [
    "x0 = 1768073\n",
    "y0 = 5469138\n",
    "x1 = 1777290\n",
    "y1 = 5476849 # origional\n",
    "bbox_original = bbox_from_points(x0=x0, y0=y0, x1=x1, y1=y1)\n",
    "rivers, bbox = query_from_bbox(bbox_original)\n",
    "drains = drains_from_rivers(rivers)\n",
    "rivers, bbox = query_in_bbox(x0=x0, y0=y1, x1=x1, y1=y0)\n",
    "drains = drains_from_rivers(rivers)\n",
    "rivers, bbox = query_in_bbox(x0=x1, y0=y0, x1=x0, y1=y1)\n",
    "drains = drains_from_rivers(rivers)\n",
    "f, axs = matplotlib.pyplot.subplots(1, 2, sharey=True, figsize=(15,3))\n",
    "bbox.plot(ax=axs[0], color='r')\n",
    "drains.plot(ax=axs[0])"
   ]
  },
  {
   "cell_type": "code",
   "execution_count": 29,
   "id": "6703c8fc",
   "metadata": {},
   "outputs": [
    {
     "name": "stdout",
     "output_type": "stream",
     "text": [
      "Is x1/y1 greater than x0/y0? dx=9217, and dy=7711\n",
      "(way[waterway](-40.91160630219117,174.99364670676297,-40.840243712602486,175.10510715718377);); out body geom;\n",
      "Is x1/y1 greater than x0/y0? dx=9217, and dy=-7711\n",
      "(way[waterway](-40.91160630219117,174.99364670676297,-40.840243712602486,175.10510715718377);); out body geom;\n",
      "Is x1/y1 greater than x0/y0? dx=-9217, and dy=7711\n",
      "(way[waterway](-40.91160630219117,174.99364670676297,-40.840243712602486,175.10510715718377);); out body geom;\n"
     ]
    }
   ],
   "source": [
    "x0 = 1768073\n",
    "y0 = 5469138\n",
    "x1 = 1777290\n",
    "y1 = 5476849 # origional\n",
    "rivers, bbox = query_in_bbox(x0=x0, y0=y0, x1=x1, y1=y1)\n",
    "rivers, bbox = query_in_bbox(x0=x0, y0=y1, x1=x1, y1=y0)\n",
    "rivers, bbox = query_in_bbox(x0=x1, y0=y0, x1=x0, y1=y1)"
   ]
  },
  {
   "cell_type": "markdown",
   "id": "e3ae2ec7",
   "metadata": {},
   "source": [
    "# A query that doesn't work\n",
    "\n",
    "The following string works fine as a query in geofabrics\n",
    "`(way[waterway](-40.87891130456266,175.027028835165,-40.87732694117711,175.029116224636);); out body geom;`"
   ]
  },
  {
   "cell_type": "code",
   "execution_count": 30,
   "id": "e4e14f5d",
   "metadata": {},
   "outputs": [
    {
     "name": "stderr",
     "output_type": "stream",
     "text": [
      "[overpass] downloading data: [timeout:25][out:json];(way[waterway](-40.87891130456266,175.027028835165,-40.87732694117711,175.029116224636);); out body geom;\n"
     ]
    },
    {
     "ename": "Exception",
     "evalue": "[overpass] could not fetch or interpret status of the endpoint",
     "output_type": "error",
     "traceback": [
      "\u001b[1;31m---------------------------------------------------------------------------\u001b[0m",
      "\u001b[1;31mIndexError\u001b[0m                                Traceback (most recent call last)",
      "File \u001b[1;32m~\\Anaconda3\\envs\\geofabrics\\lib\\site-packages\\OSMPythonTools\\overpass.py:96\u001b[0m, in \u001b[0;36mOverpass._waitForReady\u001b[1;34m(self)\u001b[0m\n\u001b[0;32m     95\u001b[0m     \u001b[38;5;28;01mreturn\u001b[39;00m \u001b[38;5;28;01mTrue\u001b[39;00m\n\u001b[1;32m---> 96\u001b[0m waitTo \u001b[38;5;241m=\u001b[39m dt\u001b[38;5;241m.\u001b[39mdatetime\u001b[38;5;241m.\u001b[39mstrptime(\u001b[43mstatusString\u001b[49m\u001b[43m[\u001b[49m\u001b[38;5;241;43m3\u001b[39;49m\u001b[43m]\u001b[49m\u001b[38;5;241;43m.\u001b[39;49m\u001b[43msplit\u001b[49m\u001b[43m(\u001b[49m\u001b[38;5;124;43m'\u001b[39;49m\u001b[38;5;124;43m \u001b[39;49m\u001b[38;5;124;43m'\u001b[39;49m\u001b[43m)\u001b[49m\u001b[43m[\u001b[49m\u001b[38;5;241;43m3\u001b[39;49m\u001b[43m]\u001b[49m, \u001b[38;5;124m'\u001b[39m\u001b[38;5;124m%\u001b[39m\u001b[38;5;124mY-\u001b[39m\u001b[38;5;124m%\u001b[39m\u001b[38;5;124mm-\u001b[39m\u001b[38;5;132;01m%d\u001b[39;00m\u001b[38;5;124mT\u001b[39m\u001b[38;5;124m%\u001b[39m\u001b[38;5;124mH:\u001b[39m\u001b[38;5;124m%\u001b[39m\u001b[38;5;124mM:\u001b[39m\u001b[38;5;124m%\u001b[39m\u001b[38;5;124mSZ,\u001b[39m\u001b[38;5;124m'\u001b[39m)\n\u001b[0;32m     97\u001b[0m currentTime \u001b[38;5;241m=\u001b[39m dt\u001b[38;5;241m.\u001b[39mdatetime\u001b[38;5;241m.\u001b[39mstrptime(statusString[\u001b[38;5;241m1\u001b[39m]\u001b[38;5;241m.\u001b[39msplit(\u001b[38;5;124m'\u001b[39m\u001b[38;5;124m \u001b[39m\u001b[38;5;124m'\u001b[39m)[\u001b[38;5;241m2\u001b[39m], \u001b[38;5;124m'\u001b[39m\u001b[38;5;124m%\u001b[39m\u001b[38;5;124mY-\u001b[39m\u001b[38;5;124m%\u001b[39m\u001b[38;5;124mm-\u001b[39m\u001b[38;5;132;01m%d\u001b[39;00m\u001b[38;5;124mT\u001b[39m\u001b[38;5;124m%\u001b[39m\u001b[38;5;124mH:\u001b[39m\u001b[38;5;124m%\u001b[39m\u001b[38;5;124mM:\u001b[39m\u001b[38;5;124m%\u001b[39m\u001b[38;5;124mSZ\u001b[39m\u001b[38;5;124m'\u001b[39m)\n",
      "\u001b[1;31mIndexError\u001b[0m: list index out of range",
      "\nDuring handling of the above exception, another exception occurred:\n",
      "\u001b[1;31mException\u001b[0m                                 Traceback (most recent call last)",
      "Input \u001b[1;32mIn [30]\u001b[0m, in \u001b[0;36m<cell line: 2>\u001b[1;34m()\u001b[0m\n\u001b[0;32m      1\u001b[0m \u001b[38;5;28;01mimport\u001b[39;00m \u001b[38;5;21;01mOSMPythonTools\u001b[39;00m\u001b[38;5;21;01m.\u001b[39;00m\u001b[38;5;21;01moverpass\u001b[39;00m; overpass \u001b[38;5;241m=\u001b[39m OSMPythonTools\u001b[38;5;241m.\u001b[39moverpass\u001b[38;5;241m.\u001b[39mOverpass(); \n\u001b[1;32m----> 2\u001b[0m rivers \u001b[38;5;241m=\u001b[39m \u001b[43moverpass\u001b[49m\u001b[38;5;241;43m.\u001b[39;49m\u001b[43mquery\u001b[49m\u001b[43m(\u001b[49m\u001b[38;5;124;43m'\u001b[39;49m\u001b[38;5;124;43m(way[waterway](-40.87891130456266,175.027028835165,-40.87732694117711,175.029116224636);); out body geom;\u001b[39;49m\u001b[38;5;124;43m'\u001b[39;49m\u001b[43m)\u001b[49m\n",
      "File \u001b[1;32m~\\Anaconda3\\envs\\geofabrics\\lib\\site-packages\\OSMPythonTools\\internal\\cacheObject.py:44\u001b[0m, in \u001b[0;36mCacheObject.query\u001b[1;34m(self, onlyCached, shallow, *args, **kwargs)\u001b[0m\n\u001b[0;32m     42\u001b[0m makeDownload \u001b[38;5;241m=\u001b[39m \u001b[38;5;28;01mTrue\u001b[39;00m\n\u001b[0;32m     43\u001b[0m OSMPythonTools\u001b[38;5;241m.\u001b[39mlogger\u001b[38;5;241m.\u001b[39mwarning(\u001b[38;5;124m'\u001b[39m\u001b[38;5;124m[\u001b[39m\u001b[38;5;124m'\u001b[39m \u001b[38;5;241m+\u001b[39m \u001b[38;5;28mself\u001b[39m\u001b[38;5;241m.\u001b[39m_prefix \u001b[38;5;241m+\u001b[39m \u001b[38;5;124m'\u001b[39m\u001b[38;5;124m] downloading data: \u001b[39m\u001b[38;5;124m'\u001b[39m \u001b[38;5;241m+\u001b[39m queryString)\n\u001b[1;32m---> 44\u001b[0m \u001b[38;5;28;01mif\u001b[39;00m \u001b[38;5;28;43mself\u001b[39;49m\u001b[38;5;241;43m.\u001b[39;49m\u001b[43m_waitForReady\u001b[49m\u001b[43m(\u001b[49m\u001b[43m)\u001b[49m \u001b[38;5;241m==\u001b[39m \u001b[38;5;28;01mNone\u001b[39;00m:\n\u001b[0;32m     45\u001b[0m     \u001b[38;5;28;01mif\u001b[39;00m \u001b[38;5;28mself\u001b[39m\u001b[38;5;241m.\u001b[39m__lastQuery \u001b[38;5;129;01mand\u001b[39;00m \u001b[38;5;28mself\u001b[39m\u001b[38;5;241m.\u001b[39m__waitBetweenQueries \u001b[38;5;129;01mand\u001b[39;00m time\u001b[38;5;241m.\u001b[39mtime() \u001b[38;5;241m-\u001b[39m \u001b[38;5;28mself\u001b[39m\u001b[38;5;241m.\u001b[39m__lastQuery \u001b[38;5;241m<\u001b[39m \u001b[38;5;28mself\u001b[39m\u001b[38;5;241m.\u001b[39m__waitBetweenQueries:\n\u001b[0;32m     46\u001b[0m         time\u001b[38;5;241m.\u001b[39msleep(\u001b[38;5;28mself\u001b[39m\u001b[38;5;241m.\u001b[39m__waitBetweenQueries \u001b[38;5;241m-\u001b[39m time\u001b[38;5;241m.\u001b[39mtime() \u001b[38;5;241m+\u001b[39m \u001b[38;5;28mself\u001b[39m\u001b[38;5;241m.\u001b[39m__lastQuery)\n",
      "File \u001b[1;32m~\\Anaconda3\\envs\\geofabrics\\lib\\site-packages\\OSMPythonTools\\overpass.py:104\u001b[0m, in \u001b[0;36mOverpass._waitForReady\u001b[1;34m(self)\u001b[0m\n\u001b[0;32m    102\u001b[0m             haveWaited \u001b[38;5;241m=\u001b[39m \u001b[38;5;28;01mTrue\u001b[39;00m\n\u001b[0;32m    103\u001b[0m \u001b[38;5;28;01mexcept\u001b[39;00m:\n\u001b[1;32m--> 104\u001b[0m     \u001b[38;5;28;01mraise\u001b[39;00m(\u001b[38;5;167;01mException\u001b[39;00m(\u001b[38;5;124m'\u001b[39m\u001b[38;5;124m[\u001b[39m\u001b[38;5;124m'\u001b[39m \u001b[38;5;241m+\u001b[39m \u001b[38;5;28mself\u001b[39m\u001b[38;5;241m.\u001b[39m_prefix \u001b[38;5;241m+\u001b[39m \u001b[38;5;124m'\u001b[39m\u001b[38;5;124m] could not fetch or interpret status of the endpoint\u001b[39m\u001b[38;5;124m'\u001b[39m))\n",
      "\u001b[1;31mException\u001b[0m: [overpass] could not fetch or interpret status of the endpoint"
     ]
    }
   ],
   "source": [
    "import OSMPythonTools.overpass; overpass = OSMPythonTools.overpass.Overpass(); \n",
    "rivers = overpass.query('(way[waterway](-40.87891130456266,175.027028835165,-40.87732694117711,175.029116224636);); out body geom;')"
   ]
  },
  {
   "cell_type": "code",
   "execution_count": null,
   "id": "834f8e4e",
   "metadata": {},
   "outputs": [],
   "source": [
    "x0 = 1770797\n",
    "y0 = 5472879\n",
    "x1 = 1770969\n",
    "y1 = 5472707 # drains test\n",
    "dxy=5000\n",
    "bbox_original = bbox_from_points(x0=x0, y0=y0, x1=x1, y1=y1)\n",
    "rivers, bbox = query_from_bbox(bbox_original)\n",
    "rivers, bbox = query_in_bbox(x0=x0-dxy, y0=y1-dxy, x1=x1+dxy, y1=y0+dxy) # make bigger\n",
    "rivers, bbox = query_in_bbox(x0=x0-dxy, y0=y0+dxy, x1=x1+dxy, y1=y1-dxy) # make bigger"
   ]
  },
  {
   "cell_type": "code",
   "execution_count": null,
   "id": "3fc6a0b8",
   "metadata": {},
   "outputs": [],
   "source": [
    "x0 = 1770797\n",
    "y0 = 5472879\n",
    "x1 = 1770969\n",
    "y1 = 5472707 # drains test\n",
    "bbox_nztm2000 = geopandas.GeoDataFrame(geometry=[shapely.geometry.Polygon([[x0, y0], [x1, y0], [x1, y1], [x0, y1]])],\n",
    "                                       crs='EPSG:2193')\n",
    "bbox_nztm2000.to_file(r\"C:\\Users\\pearsonra\\Documents\\data\\debug_tests\\jupyter_notebook_error_1.geojson\")\n",
    "bbox_lat_long = bbox_nztm2000.to_crs('EPSG:4326')\n",
    "query = overpassQueryBuilder(bbox=[bbox_lat_long.bounds.miny[0],\n",
    "                                   bbox_lat_long.bounds.minx[0],\n",
    "                                   bbox_lat_long.bounds.maxy[0],\n",
    "                                   bbox_lat_long.bounds.maxx[0]], \n",
    "                             elementType='way', selector='waterway',\n",
    "                             out='body', includeGeometry=True)\n",
    "overpass = OSMPythonTools.overpass.Overpass()\n",
    "rivers = overpass.query(query)"
   ]
  },
  {
   "cell_type": "code",
   "execution_count": null,
   "id": "4ad32a5a",
   "metadata": {},
   "outputs": [],
   "source": [
    "x0 = 1768072; y0 = 5473816; x1 = 1769545; y1 = 5472824; \n",
    "catchment = shapely.geometry.Polygon([(x0, y0), (x1, y0), (x1, y1), (x0, y1)]); \n",
    "catchment = geopandas.GeoSeries([catchment], crs='EPSG:2193'); \n",
    "#catchment = catchment.set_crs(2193); \n",
    "bbox_lat_long = catchment.to_crs(\"EPSG:4326\"); \n",
    "query = OSMPythonTools.overpass.overpassQueryBuilder(bbox=[bbox_lat_long.bounds.miny[0],\n",
    "                                                           bbox_lat_long.bounds.minx[0],\n",
    "                                                           bbox_lat_long.bounds.maxy[0],\n",
    "                                                           bbox_lat_long.bounds.maxx[0]],\n",
    "                                                     elementType=\"way\", selector=\"waterway\",\n",
    "                                                     out=\"body\", includeGeometry=True); \n",
    "overpass = OSMPythonTools.overpass.Overpass();\n",
    "rivers = overpass.query(query) # problem"
   ]
  },
  {
   "cell_type": "code",
   "execution_count": null,
   "id": "e02135e7",
   "metadata": {},
   "outputs": [],
   "source": [
    "x0 = 1768073\n",
    "y0 = 5469138\n",
    "x1 = 1777290\n",
    "y1 = 5476849\n",
    "print(x0-x1)\n",
    "print(y0-y1)"
   ]
  },
  {
   "cell_type": "code",
   "execution_count": null,
   "id": "2b87a583",
   "metadata": {},
   "outputs": [],
   "source": [
    "x0 = 1770797; y0 = 5472879; x1 = 1770969; y1 = 5472707;\n",
    "print(x0-x1)\n",
    "print(y0-y1)"
   ]
  },
  {
   "cell_type": "code",
   "execution_count": null,
   "id": "92a5a1e0",
   "metadata": {},
   "outputs": [],
   "source": [
    "x0 = 1768073\n",
    "y0 = 5469138\n",
    "x1 = 1777290\n",
    "y1 = 5476849\n",
    "bbox_nztm2000 = geopandas.GeoDataFrame(geometry=[shapely.geometry.Polygon([[x0, y0], [x1, y0], [x1, y1], [x0, y1]])],\n",
    "                                       crs='EPSG:2193')\n",
    "bbox_lat_long = bbox_nztm2000.to_crs('EPSG:4326')"
   ]
  },
  {
   "cell_type": "markdown",
   "id": "20139d79",
   "metadata": {},
   "source": [
    "## OSM basic structure\n",
    "There are several parts to the OSM structure that can be used to access individual OSM objects/elements (i.e. a bus top, highway centreline, lake, etc). We will refer to OSM objects as elements, which is the term used by the Python library we are using.\n",
    "\n",
    "These include the:\n",
    "* Element ID - these are unique with in each object type\n",
    "* Element Type - defines the data model structure of the object (see below)\n",
    "* Element Tag - there are various predefined tags that can be used to describe an object/element.\n",
    "\n",
    "### OSMPythonTools\n",
    "OSMPythonTools is an extensive Python wrapper for accessing OSM data. The `OSMPythonTools.overpass.Overpass` class takes care of sending queries and retireving data from OSM, while the `OSMPythonTools.overpass.overpassQueryBuilder` is a class for creating a query for OSM objects in an area. The queries can specify objects to collect by ID, Element Type, Tag, and BBox search.\n",
    "\n",
    "The `overpassQueryBuilder` has the following generally form:\n",
    "```\n",
    "query = overpassQueryBuilder(bbox=[south,\n",
    "                                   west,\n",
    "                                   north,\n",
    "                                   east], \n",
    "                             elementType=['nodes', 'way'], selector='\"waterway\"=\"river\"',\n",
    "                             out='body', includeGeometry=True)\n",
    "```\n",
    "\n",
    "#### Element Type\n",
    "The **elementType** is the name used by the `overpassQueryBuilder` to define the element type of an object. This can either be a single string, or a list of strings, depending if one or multiple types should be retrieved.\n",
    "\n",
    "The element type define the OSM data model component of each OSM object. There are three basic options: nodes, way and relation. These can be losely defined as:\n",
    "* nodes - are points on the maps (in latitude and longitude)\n",
    "* way - on the other hand is a ordered list of nodes, which could correspond to a street or the outline of a house.\n",
    "* relation - which is also an ordered list containing either nodes, ways or even other relations. It is used to model logical or geographic relationships between objects.\n",
    "\n",
    "#### Element Tag\n",
    "Various tags can be added to an OSM object. These can be specified in the `overpassQueryBuilder` by the **selector** keyword. This can be a string or list. Only objects with these tags with be retrieved. This can be a list or string. If it is a list only objects with all of those tags with be retrived. The page defines all OSM tags, and while the [waterways page](https://wiki.openstreetmap.org/wiki/Waterways) describes waterway related tags. \n",
    "\n",
    "# Code example\n",
    "## Construct query"
   ]
  },
  {
   "cell_type": "code",
   "execution_count": null,
   "id": "921bd0be",
   "metadata": {},
   "outputs": [],
   "source": [
    "query = overpassQueryBuilder(bbox=[bbox_lat_long.bounds.miny[0],\n",
    "                                   bbox_lat_long.bounds.minx[0],\n",
    "                                   bbox_lat_long.bounds.maxy[0],\n",
    "                                   bbox_lat_long.bounds.maxx[0]], \n",
    "                             elementType='way', selector='waterway',\n",
    "                             out='body', includeGeometry=True)"
   ]
  },
  {
   "cell_type": "markdown",
   "id": "6a23ba49",
   "metadata": {},
   "source": [
    "## Perform query"
   ]
  },
  {
   "cell_type": "code",
   "execution_count": null,
   "id": "41ea245b",
   "metadata": {},
   "outputs": [],
   "source": [
    "overpass = OSMPythonTools.overpass.Overpass()\n",
    "rivers = overpass.query(query)"
   ]
  },
  {
   "cell_type": "markdown",
   "id": "5491af98",
   "metadata": {},
   "source": [
    "## Extract geometries"
   ]
  },
  {
   "cell_type": "code",
   "execution_count": null,
   "id": "d72103bf",
   "metadata": {},
   "outputs": [],
   "source": [
    "element_dict = {\n",
    "    'geometry': [],\n",
    "    'OSM_id': [],\n",
    "    'waterway': [],\n",
    "    'tunnel': [],\n",
    "}\n",
    "\n",
    "for element in rivers.elements():\n",
    "    element_dict['geometry'].append(element.geometry())\n",
    "    element_dict['OSM_id'].append(element.id())\n",
    "    element_dict['waterway'].append(element.tags()['waterway'])\n",
    "    element_dict['tunnel'].append('tunnel' in element.tags().keys())\n",
    "drains_df = geopandas.GeoDataFrame(element_dict, crs='EPSG:4326').to_crs('EPSG:2193')"
   ]
  },
  {
   "cell_type": "code",
   "execution_count": null,
   "id": "098e481f",
   "metadata": {},
   "outputs": [],
   "source": [
    "f, axs = matplotlib.pyplot.subplots(1, 2, sharey=True, figsize=(15,6))\n",
    "drains_df[(drains_df['waterway'] != 'river') & (drains_df['tunnel'] == False)].clip(bbox_nztm2000).plot(ax=axs[0])\n",
    "drains_df[(drains_df['waterway'] != 'river') & (drains_df['tunnel'])].clip(bbox_nztm2000).plot(ax=axs[1])\n",
    "axs[0].set_title(\"All drains\"); axs[1].set_title(\"All culverts/tunnels\");"
   ]
  },
  {
   "cell_type": "code",
   "execution_count": null,
   "id": "0acac192",
   "metadata": {},
   "outputs": [],
   "source": [
    "drain_width = 5\n",
    "drain_polygon = drains_df[drains_df.geometry.type == \"LineString\"].buffer(drain_width)\n",
    "drain_polygon = geopandas.GeoDataFrame(\n",
    "    geometry=[shapely.ops.unary_union(drain_polygon.geometry.array)],\n",
    "    crs=drain_polygon.crs,\n",
    ")\n",
    "drain_polygon = drain_polygon.clip(bbox_nztm2000)\n",
    "drain_polygon.plot()"
   ]
  },
  {
   "cell_type": "code",
   "execution_count": null,
   "id": "25600937",
   "metadata": {},
   "outputs": [],
   "source": [
    "'''drains_df[drains_df.geometry.type == \"LineString\"].to_file(\n",
    "    r\"C:\\Users\\pearsonra\\Documents\\data\\river_bathemetry\\waikanae_new_lidar\\caches\\drains_5m\\drains.geojson\")'''"
   ]
  },
  {
   "cell_type": "code",
   "execution_count": null,
   "id": "7cfd7e1d",
   "metadata": {},
   "outputs": [],
   "source": []
  }
 ],
 "metadata": {
  "kernelspec": {
   "display_name": "Python [conda env:geofabrics]",
   "language": "python",
   "name": "conda-env-geofabrics-py"
  },
  "language_info": {
   "codemirror_mode": {
    "name": "ipython",
    "version": 3
   },
   "file_extension": ".py",
   "mimetype": "text/x-python",
   "name": "python",
   "nbconvert_exporter": "python",
   "pygments_lexer": "ipython3",
   "version": "3.9.12"
  }
 },
 "nbformat": 4,
 "nbformat_minor": 5
}
