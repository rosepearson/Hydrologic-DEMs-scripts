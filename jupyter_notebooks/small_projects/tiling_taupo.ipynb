{
 "cells": [
  {
   "cell_type": "code",
   "execution_count": 2,
   "id": "9ab03cc3",
   "metadata": {},
   "outputs": [],
   "source": [
    "import geopandas\n",
    "import shapely\n",
    "import pathlib"
   ]
  },
  {
   "cell_type": "code",
   "execution_count": 8,
   "id": "64af4882",
   "metadata": {},
   "outputs": [],
   "source": [
    "base_path = pathlib.Path(r\"C:/Local/data/FWNC2307/\")\n",
    "catchment = geopandas.read_file(base_path / \"catchments\" / \"LakeTaupo_catchment_buff1k.geojson\")"
   ]
  },
  {
   "cell_type": "code",
   "execution_count": 12,
   "id": "83e172c0",
   "metadata": {},
   "outputs": [
    {
     "data": {
      "text/html": [
       "<div>\n",
       "<style scoped>\n",
       "    .dataframe tbody tr th:only-of-type {\n",
       "        vertical-align: middle;\n",
       "    }\n",
       "\n",
       "    .dataframe tbody tr th {\n",
       "        vertical-align: top;\n",
       "    }\n",
       "\n",
       "    .dataframe thead th {\n",
       "        text-align: right;\n",
       "    }\n",
       "</style>\n",
       "<table border=\"1\" class=\"dataframe\">\n",
       "  <thead>\n",
       "    <tr style=\"text-align: right;\">\n",
       "      <th></th>\n",
       "      <th>OBJECTID</th>\n",
       "      <th>ZONE_NAME</th>\n",
       "      <th>BUFF_DIST</th>\n",
       "      <th>SHAPE_Leng</th>\n",
       "      <th>SHAPE_Area</th>\n",
       "      <th>geometry</th>\n",
       "    </tr>\n",
       "  </thead>\n",
       "  <tbody>\n",
       "    <tr>\n",
       "      <th>0</th>\n",
       "      <td>1</td>\n",
       "      <td>Lake Taupo</td>\n",
       "      <td>1000.0</td>\n",
       "      <td>307449.778062</td>\n",
       "      <td>3.831325e+09</td>\n",
       "      <td>MULTIPOLYGON (((1857957.512 5725917.835, 18588...</td>\n",
       "    </tr>\n",
       "  </tbody>\n",
       "</table>\n",
       "</div>"
      ],
      "text/plain": [
       "   OBJECTID   ZONE_NAME  BUFF_DIST     SHAPE_Leng    SHAPE_Area  \\\n",
       "0         1  Lake Taupo     1000.0  307449.778062  3.831325e+09   \n",
       "\n",
       "                                            geometry  \n",
       "0  MULTIPOLYGON (((1857957.512 5725917.835, 18588...  "
      ]
     },
     "execution_count": 12,
     "metadata": {},
     "output_type": "execute_result"
    }
   ],
   "source": [
    "catchment"
   ]
  },
  {
   "cell_type": "code",
   "execution_count": 25,
   "id": "3081142a",
   "metadata": {},
   "outputs": [],
   "source": [
    "minx = float(bounds.minx); maxx = float(bounds.maxx); miny = float(bounds.miny); maxy = float(bounds.maxy); \n",
    "centrex = (minx + maxx) / 2; centrey = (miny + maxy) / 2; \n",
    "\n",
    "tile = shapely.geometry.Polygon([[minx, miny],[minx, centrey],\n",
    "                                 [centrex, centrey], [centrex, miny]])\n",
    "tile1 = geopandas.GeoDataFrame(\n",
    "    geometry = [tile],\n",
    "    crs=catchment.crs)\n",
    "\n",
    "tile = shapely.geometry.Polygon([[centrex, centrey],[centrex, maxy],\n",
    "                                 [maxx, maxy], [maxx, centrey]])\n",
    "tile2 = geopandas.GeoDataFrame(\n",
    "    geometry = [tile],\n",
    "    crs=catchment.crs)\n",
    "\n",
    "tile = shapely.geometry.Polygon([[centrex, miny],[centrex, centrey],\n",
    "                                 [maxx, centrey], [maxx, miny]])\n",
    "tile3 = geopandas.GeoDataFrame(\n",
    "    geometry = [tile],\n",
    "    crs=catchment.crs)\n",
    "\n",
    "tile = shapely.geometry.Polygon([[minx, centrey],[minx, maxy],\n",
    "                                 [centrex, maxy], [centrex, centrey]])\n",
    "tile4 = geopandas.GeoDataFrame(\n",
    "    geometry = [tile],\n",
    "    crs=catchment.crs)"
   ]
  },
  {
   "cell_type": "code",
   "execution_count": 26,
   "id": "1e273502",
   "metadata": {},
   "outputs": [],
   "source": [
    "tile1.to_file(base_path / \"catchments\" / \"tile1.geojson\")\n",
    "tile2.to_file(base_path / \"catchments\" / \"tile2.geojson\")\n",
    "tile3.to_file(base_path / \"catchments\" / \"tile3.geojson\")\n",
    "tile4.to_file(base_path / \"catchments\" / \"tile4.geojson\")"
   ]
  },
  {
   "cell_type": "code",
   "execution_count": null,
   "id": "1c1191a2",
   "metadata": {},
   "outputs": [],
   "source": []
  }
 ],
 "metadata": {
  "kernelspec": {
   "display_name": "Python [conda env:raster]",
   "language": "python",
   "name": "conda-env-raster-py"
  },
  "language_info": {
   "codemirror_mode": {
    "name": "ipython",
    "version": 3
   },
   "file_extension": ".py",
   "mimetype": "text/x-python",
   "name": "python",
   "nbconvert_exporter": "python",
   "pygments_lexer": "ipython3",
   "version": "3.11.1"
  }
 },
 "nbformat": 4,
 "nbformat_minor": 5
}
