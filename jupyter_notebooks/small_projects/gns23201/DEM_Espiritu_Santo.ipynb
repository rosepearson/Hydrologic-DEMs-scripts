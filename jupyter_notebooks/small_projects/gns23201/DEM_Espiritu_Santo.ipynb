{
 "cells": [
  {
   "cell_type": "markdown",
   "id": "73f38c56-2136-40a8-a220-f63d2d90ee53",
   "metadata": {},
   "source": [
    "# Data curation\n",
    "* Modelling over Vanuatu Espiritu Santo\n",
    "* UTM Zone 58S (162E - 168E) **_EPSG:32758_**\n",
    "_However the tile_index file is coded for S59 and their is no CRS information for the LAZ files so may be for the wrong CRS. Try UTM 58S to stat._\n",
    "\n",
    "## Data avaliable\n",
    "* LiDAR survey (populated coastal areas)\n",
    "* FABDEM V1-1 - https://data.bris.ac.uk/data/dataset/s5hqmjcdj8yo2ibzi9b4ew3sn\n",
    "* FABDEM V1-0 - https://data.bris.ac.uk/data/dataset/25wfy0f9ukoge2gs7a5mqpq2j7\n",
    "\n",
    "## Vanuata Espiritu Santo\n",
    "* Located 166E-168E, 14S to 16S -> FABDEM V1-2 S20E160-S10E170"
   ]
  },
  {
   "cell_type": "markdown",
   "id": "695c5853-bba4-46e8-87e4-3c10f9ea5e9f",
   "metadata": {},
   "source": [
    "# Tasks to do\n",
    "* Stictch Coarse DEM together (limitation of GeoFabrics)\n",
    "  a. Combine the tiles over Espiritu Santo\n",
    "* Copy data to NeSI - WSL scp\n",
    "  a. Coarse DEM - FABDEM S20E160-S10E170\n",
    "  b. LiDAR Tile Index - \\\\niwa.local\\projects\\hamilton\\GNS23201\\RawData\\LiDAR\\EspirituSanto_FullRawLidar via my computer\n",
    "  c. LiDAR tiles - \\\\niwa.local\\projects\\hamilton\\GNS23201\\RawData\\LiDAR\\EspirituSanto_FullRawLidar\n",
    "* Create extents\n",
    "  a. A small extents at edge of LiDAR & Coarse DEM for testing\n",
    "  b. The bottom 1/3 of the island"
   ]
  },
  {
   "cell_type": "code",
   "execution_count": null,
   "id": "9723862f-e41d-4fee-91a1-54ddafa25278",
   "metadata": {},
   "outputs": [],
   "source": []
  }
 ],
 "metadata": {
  "kernelspec": {
   "display_name": "Python [conda env:raster]",
   "language": "python",
   "name": "conda-env-raster-py"
  },
  "language_info": {
   "codemirror_mode": {
    "name": "ipython",
    "version": 3
   },
   "file_extension": ".py",
   "mimetype": "text/x-python",
   "name": "python",
   "nbconvert_exporter": "python",
   "pygments_lexer": "ipython3",
   "version": "3.11.3"
  }
 },
 "nbformat": 4,
 "nbformat_minor": 5
}
