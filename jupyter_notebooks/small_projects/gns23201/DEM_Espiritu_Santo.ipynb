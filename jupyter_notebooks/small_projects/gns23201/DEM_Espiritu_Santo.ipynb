{
 "cells": [
  {
   "cell_type": "markdown",
   "id": "73f38c56-2136-40a8-a220-f63d2d90ee53",
   "metadata": {},
   "source": [
    "# Data curation\n",
    "* Modelling over Vanuatu Espiritu Santo\n",
    "* UTM Zone 58S (162E - 168E) **_EPSG:32758_**\n",
    "_However the tile_index file is coded for S59 and their is no CRS information for the LAZ files so may be for the wrong CRS. Try UTM 58S to stat._\n",
    "\n",
    "## Data avaliable\n",
    "* LiDAR survey (populated coastal areas)\n",
    "* FABDEM V1-1 - https://data.bris.ac.uk/data/dataset/s5hqmjcdj8yo2ibzi9b4ew3sn\n",
    "* FABDEM V1-0 - https://data.bris.ac.uk/data/dataset/25wfy0f9ukoge2gs7a5mqpq2j7\n",
    "\n",
    "## Vanuata Espiritu Santo\n",
    "* Located 166E-168E, 14S to 16S -> FABDEM V1-2 S20E160-S10E170"
   ]
  },
  {
   "cell_type": "markdown",
   "id": "695c5853-bba4-46e8-87e4-3c10f9ea5e9f",
   "metadata": {},
   "source": [
    "# Tasks to do\n",
    "* Stictch Coarse DEM together (limitation of GeoFabrics)\n",
    "  a. Combine the tiles over Espiritu Santo\n",
    "* Copy data to NeSI - WSL scp\n",
    "  a. Coarse DEM - FABDEM S20E160-S10E170\n",
    "  b. LiDAR Tile Index - \\\\niwa.local\\projects\\hamilton\\GNS23201\\RawData\\LiDAR\\EspirituSanto_FullRawLidar via my computer\n",
    "  c. LiDAR tiles - \\\\niwa.local\\projects\\hamilton\\GNS23201\\RawData\\LiDAR\\EspirituSanto_FullRawLidar\n",
    "* Create extents\n",
    "  a. A small extents at edge of LiDAR & Coarse DEM for testing\n",
    "  b. The bottom 1/3 of the island"
   ]
  },
  {
   "cell_type": "code",
   "execution_count": 6,
   "id": "9723862f-e41d-4fee-91a1-54ddafa25278",
   "metadata": {},
   "outputs": [],
   "source": [
    "import pathlib\n",
    "import rioxarray, rioxarray.merge\n",
    "\n",
    "local_path = pathlib.Path(r\"C:\\Local\\data\\GNS23201\\CoarseDEMs\")\n",
    "fab_path = local_path / \"S20E160-S10E170_FABDEM_V1-2\"\n",
    "\n",
    "# Espiritu Santo\n",
    "lat_lons = [[15, 166], [15, 167], [16, 166], [16, 167]]\n",
    "fabs = []\n",
    "for lat_lon in lat_lons:\n",
    "    fabs.append(rioxarray.open_rasterio(raw_path / f\"S{lat_lon[0]}E{lat_lon[1]}_FABDEM_V1-2.tif\", masked=True))\n",
    "fab = rioxarray.merge.merge_arrays(fabs).rio.reproject(32758)\n",
    "fab.rio.write_nodata(fab.rio.nodata).to_netcdf(local_path / \"espiritu_FABDEM_EPSG32758.nc\")"
   ]
  },
  {
   "cell_type": "code",
   "execution_count": 11,
   "id": "f03deab0-8fd7-4285-bfba-744a97c58af4",
   "metadata": {},
   "outputs": [],
   "source": [
    "import shapely\n",
    "import geopandas\n",
    "\n",
    "local_path = pathlib.Path(r\"C:\\Local\\data\\GNS23201\\extents\")\n",
    "\n",
    "x0=699229; x1=700764\n",
    "y0=8276469; y1=8274187\n",
    "small=geopandas.GeoDataFrame(geometry=[shapely.geometry.Polygon([[x0,y0],[x1,y0],[x1,y1],[x0,y1]])], crs=32758)\n",
    "if not (local_path / \"small.geojson\").exists():\n",
    "    small.to_file(local_path / \"small.geojson\")\n",
    "\n",
    "x0=748103; x1=677208\n",
    "y0=8307897; y1=8265823\n",
    "big=geopandas.GeoDataFrame(geometry=[shapely.geometry.Polygon([[x0,y0],[x1,y0],[x1,y1],[x0,y1]])], crs=32758)\n",
    "if not (local_path / \"big.geojson\").exists():\n",
    "    big.to_file(local_path / \"big.geojson\")"
   ]
  },
  {
   "cell_type": "code",
   "execution_count": 17,
   "id": "02a77435-015e-4a0e-9488-14e3a730a826",
   "metadata": {},
   "outputs": [],
   "source": [
    "dx = round((x0-x1)/10); dy = round((y0-y1)/3)"
   ]
  },
  {
   "cell_type": "code",
   "execution_count": 22,
   "id": "191a5ced-4b8f-4082-8b0c-ab34f17a3383",
   "metadata": {},
   "outputs": [],
   "source": [
    "all_tiles = []\n",
    "for i, xi in enumerate(range(x1, x0, dx)):\n",
    "    for j, yi in enumerate(range(y1, y0, dy)):\n",
    "        tile = shapely.geometry.Polygon([[xi,yi],[xi+dx,yi],[xi+dx,yi+dy],[xi,yi+dy]])\n",
    "        all_tiles.append(tile)\n",
    "        tile = geopandas.GeoDataFrame(geometry=[tile], crs=32758)\n",
    "        tile.to_file(local_path / f\"tile_{i}{j}.geojson\")\n",
    "geopandas.GeoDataFrame(geometry=all_tiles, crs=32758).to_file(local_path / f\"all_tiles.geojson\")"
   ]
  },
  {
   "cell_type": "code",
   "execution_count": null,
   "id": "7baf4548-936a-4bc8-9df7-bdc58b5d669d",
   "metadata": {},
   "outputs": [],
   "source": []
  }
 ],
 "metadata": {
  "kernelspec": {
   "display_name": "Python [conda env:raster]",
   "language": "python",
   "name": "conda-env-raster-py"
  },
  "language_info": {
   "codemirror_mode": {
    "name": "ipython",
    "version": 3
   },
   "file_extension": ".py",
   "mimetype": "text/x-python",
   "name": "python",
   "nbconvert_exporter": "python",
   "pygments_lexer": "ipython3",
   "version": "3.11.3"
  }
 },
 "nbformat": 4,
 "nbformat_minor": 5
}
