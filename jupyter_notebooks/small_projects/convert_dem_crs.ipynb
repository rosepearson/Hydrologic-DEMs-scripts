{
 "cells": [
  {
   "cell_type": "code",
   "execution_count": 187,
   "id": "ad05010a",
   "metadata": {},
   "outputs": [],
   "source": [
    "import rioxarray\n",
    "import pathlib\n",
    "import numpy"
   ]
  },
  {
   "cell_type": "markdown",
   "id": "1b391ceb",
   "metadata": {},
   "source": [
    "# Replace with your local path"
   ]
  },
  {
   "cell_type": "code",
   "execution_count": 188,
   "id": "d52dee13",
   "metadata": {},
   "outputs": [],
   "source": [
    "file_path = pathlib.Path(\"C:\\Local\\data\\VCSN_SamBase_hmax.nc\")\n",
    "nztm2000_epsg=2193\n",
    "nzgd2000_epsg=4167"
   ]
  },
  {
   "cell_type": "markdown",
   "id": "9142c45b",
   "metadata": {},
   "source": [
    "# Standard approach to writing CRS information to a NetCDF file where this is missing"
   ]
  },
  {
   "cell_type": "code",
   "execution_count": 189,
   "id": "64440f63",
   "metadata": {},
   "outputs": [
    {
     "name": "stderr",
     "output_type": "stream",
     "text": [
      "C:\\Users\\pearsonra\\Anaconda3\\envs\\geofabrics\\lib\\site-packages\\rasterio\\__init__.py:220: NotGeoreferencedWarning: Dataset has no geotransform, gcps, or rpcs. The identity matrix be returned.\n",
      "  s = DatasetReader(path, driver=driver, sharing=sharing, **kwargs)\n",
      "C:\\Users\\pearsonra\\Anaconda3\\envs\\geofabrics\\lib\\site-packages\\rioxarray\\_io.py:924: NotGeoreferencedWarning: Dataset has no geotransform, gcps, or rpcs. The identity matrix be returned.\n",
      "  warnings.warn(str(rio_warning.message), type(rio_warning.message))  # type: ignore\n"
     ]
    }
   ],
   "source": [
    "file_path = pathlib.Path(\"C:\\Local\\data\\VCSN_SamBase_hmax.nc\")\n",
    "dem = rioxarray.rioxarray.open_rasterio(file_path)\n",
    "dem = dem.squeeze(\"band\", drop=True)"
   ]
  },
  {
   "cell_type": "markdown",
   "id": "bba94cc9",
   "metadata": {},
   "source": [
    "## Write in proper CRS info\n",
    "Note in the case of a multi-layer netCDF you also need to perform the following for each layer. i.e.\n",
    "```\n",
    "dem.layer.rio.write_crs(dem.rio.crs, inplace=True)\n",
    "dem.layer.rio.write_nodata(numpy.nan, encoded=True, inplace=True)\n",
    "```"
   ]
  },
  {
   "cell_type": "code",
   "execution_count": 190,
   "id": "0ea80ba3",
   "metadata": {},
   "outputs": [],
   "source": [
    "# Write in top level info\n",
    "dem.rio.set_crs(nztm2000_epsg)\n",
    "dem.rio.write_crs(dem.rio.crs, inplace=True)\n",
    "dem.rio.write_transform(inplace=True)\n",
    "\n",
    "dem.hmax.rio.write_crs(dem.rio.crs, inplace=True)\n",
    "dem.hmax.rio.write_nodata(numpy.nan, encoded=True, inplace=True);"
   ]
  },
  {
   "cell_type": "code",
   "execution_count": 191,
   "id": "197f38fe",
   "metadata": {},
   "outputs": [
    {
     "name": "stderr",
     "output_type": "stream",
     "text": [
      "C:\\Users\\pearsonra\\Anaconda3\\envs\\geofabrics\\lib\\site-packages\\rasterio\\__init__.py:230: NotGeoreferencedWarning: The given matrix is equal to Affine.identity or its flipped counterpart. GDAL may ignore this matrix and save no geotransform without raising an error. This behavior is somewhat driver-specific.\n",
      "  s = writer(path, mode, driver=driver,\n"
     ]
    }
   ],
   "source": [
    "dem.to_netcdf(file_path.parent / f\"{file_path.stem}_crs_{nztm2000_epsg}{file_path.suffix}\")\n",
    "dem.hmax.rio.to_raster(file_path.parent / f\"{file_path.stem}_crs_{nztm2000_epsg}.tif\")"
   ]
  },
  {
   "cell_type": "markdown",
   "id": "4765f690",
   "metadata": {},
   "source": [
    "# Convert to Lat and Lon"
   ]
  },
  {
   "cell_type": "code",
   "execution_count": 192,
   "id": "40b3644b",
   "metadata": {},
   "outputs": [],
   "source": [
    "# Seem to need to set both as otherwise CRS is still the old one even though the reprojection has occured\n",
    "dem.rio.reproject(nzgd2000_epsg, inplace=True)\n",
    "dem.rio.write_crs(nzgd2000_epsg, inplace=True);"
   ]
  },
  {
   "cell_type": "code",
   "execution_count": 193,
   "id": "3908fcb1",
   "metadata": {},
   "outputs": [],
   "source": [
    "dem.to_netcdf(file_path.parent / f\"{file_path.stem}_crs_{nzgd2000_epsg}{file_path.suffix}\")\n",
    "dem.hmax.rio.to_raster(file_path.parent / f\"{file_path.stem}_crs_{nzgd2000_epsg}.tif\")"
   ]
  },
  {
   "cell_type": "markdown",
   "id": "5bbe980b",
   "metadata": {},
   "source": [
    "# In the case that the x/y values need to be manually set\n",
    "Then apply the steps above"
   ]
  },
  {
   "cell_type": "code",
   "execution_count": 195,
   "id": "c43affcc",
   "metadata": {},
   "outputs": [
    {
     "name": "stderr",
     "output_type": "stream",
     "text": [
      "C:\\Users\\pearsonra\\Anaconda3\\envs\\geofabrics\\lib\\site-packages\\rasterio\\__init__.py:220: NotGeoreferencedWarning: Dataset has no geotransform, gcps, or rpcs. The identity matrix be returned.\n",
      "  s = DatasetReader(path, driver=driver, sharing=sharing, **kwargs)\n",
      "C:\\Users\\pearsonra\\Anaconda3\\envs\\geofabrics\\lib\\site-packages\\rioxarray\\_io.py:924: NotGeoreferencedWarning: Dataset has no geotransform, gcps, or rpcs. The identity matrix be returned.\n",
      "  warnings.warn(str(rio_warning.message), type(rio_warning.message))  # type: ignore\n"
     ]
    }
   ],
   "source": [
    "file_path = pathlib.Path(\"C:\\Local\\data\\VCSN_SamBase_hmax.nc\")\n",
    "dem = rioxarray.rioxarray.open_rasterio(file_path)\n",
    "dem = dem.squeeze(\"band\", drop=True)\n",
    "dem['x'] = (dem.x + dem.attrs['xmin']) * (dem.attrs['xmax'] - dem.attrs['xmin']) / (float(dem.x.max()) - float(dem.x.min()))\n",
    "dem['y'] = (dem.y + dem.attrs['ymin']) * (dem.attrs['ymax'] - dem.attrs['ymin']) / (float(dem.y.max()) - float(dem.y.min()))\n",
    "del dem.attrs['xmin']\n",
    "del dem.attrs['xmax']\n",
    "del dem.attrs['ymin']\n",
    "del dem.attrs['ymax']"
   ]
  },
  {
   "cell_type": "code",
   "execution_count": null,
   "id": "30453110",
   "metadata": {},
   "outputs": [],
   "source": []
  }
 ],
 "metadata": {
  "kernelspec": {
   "display_name": "Python [conda env:geofabrics]",
   "language": "python",
   "name": "conda-env-geofabrics-py"
  },
  "language_info": {
   "codemirror_mode": {
    "name": "ipython",
    "version": 3
   },
   "file_extension": ".py",
   "mimetype": "text/x-python",
   "name": "python",
   "nbconvert_exporter": "python",
   "pygments_lexer": "ipython3",
   "version": "3.9.13"
  }
 },
 "nbformat": 4,
 "nbformat_minor": 5
}
