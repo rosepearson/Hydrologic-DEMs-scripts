{
 "cells": [
  {
   "cell_type": "code",
   "execution_count": 1,
   "id": "9bbb4071-077f-4e3f-85e6-e9c38f19ec3e",
   "metadata": {},
   "outputs": [],
   "source": [
    "import geopandas\n",
    "import pandas\n",
    "import rioxarray\n",
    "import pathlib\n",
    "import shutil\n",
    "import numpy\n",
    "import scipy\n",
    "import time\n",
    "import xarray"
   ]
  },
  {
   "cell_type": "code",
   "execution_count": 2,
   "id": "20eac3fb-df3d-4718-91a3-b8eec620fdd2",
   "metadata": {},
   "outputs": [],
   "source": [
    "remote_path = pathlib.Path(r\"\\\\niwa.local\\projects\\wellington\\CARH2306\\Working\\TCGabrielle_Feb2023\\Sediment Sampling\")\n",
    "base_path = pathlib.Path(r\"C:\\Local\\data\\CARH2306\")\n",
    "dem_name = \"CycloneGabrielle_EskValley_DEM_preliminary.tif\"\n",
    "dem_path = remote_path / \"..\" / \"EskValley_DEM_NZTM2000\" / dem_name\n",
    "shutil.copy(dem_path, base_path);"
   ]
  },
  {
   "cell_type": "code",
   "execution_count": 3,
   "id": "1f0b6831-8f7f-4f41-838c-ec61e0e58ca2",
   "metadata": {},
   "outputs": [],
   "source": [
    "surface_dem = rioxarray.open_rasterio(base_path / dem_name)"
   ]
  },
  {
   "cell_type": "code",
   "execution_count": 4,
   "id": "b7460763-e989-465a-b687-fc596a2c73ec",
   "metadata": {},
   "outputs": [],
   "source": [
    "crs = {\"vertical\": 7869, \"horizontal\": 2193}"
   ]
  },
  {
   "cell_type": "markdown",
   "id": "5a91c362-2b74-4fe4-929d-7de55e4dfb2a",
   "metadata": {},
   "source": [
    "## Still Todo\n",
    "@Steph\n",
    "1. Strip \"beach sample\" from Comments column of sites. See Filtering sediments 2. Flip the sizes dataframe for an example\n",
    "2. Chnage the interpolation for the old ground elevation from \"nearest\" to \"linear\""
   ]
  },
  {
   "cell_type": "markdown",
   "id": "b17cab31-a2d1-460d-8eb9-34985d7ac4b6",
   "metadata": {},
   "source": [
    "## Filtering sediments\n",
    "Match the two datasets to only keep entries in both. Steps:\n",
    "1. Load in sizes and sites and drop unneeded columns\n",
    "2. Flip the sizes dataframe\n",
    "3. Bring the sizes into the sites dataframe\n",
    "4. Filter the sites dataframes to only retain locations with sizes"
   ]
  },
  {
   "cell_type": "markdown",
   "id": "4c7c2ed8-5cdc-43a3-a538-374b03c0f780",
   "metadata": {},
   "source": [
    "#### 1. Load in sizes and sites and drop unneeded columns"
   ]
  },
  {
   "cell_type": "code",
   "execution_count": 33,
   "id": "b5e58a01-04bd-4078-9c90-613c100c1e5b",
   "metadata": {},
   "outputs": [],
   "source": [
    "sites = geopandas.read_file(\n",
    "    remote_path / \"Fine_Sediment_Sampling_Sites_Esk\" / \n",
    "    \"Actual Sediment Sampling Locations Esk Valley - Actual Sampling Locations Esk Valley.shp\")\n",
    "sites.drop(columns=['SampleType', 'TotalDepth', 'NumLayers', 'Depth2', 'Depth3', \n",
    "                            'Depth4', 'Depth5', 'Depth6', 'GlobalID'], inplace=True)\n",
    "sites = sites.to_crs(crs[\"horizontal\"])\n",
    "sizes = pandas.read_excel(\n",
    "    remote_path / \"SedimentAnalysis_Steph\" / \"EskValley_ParticleSize_cumul.xlsx\", sheet_name=\"Surface_Wentworth\")"
   ]
  },
  {
   "cell_type": "markdown",
   "id": "70b4bc3e-03a4-488f-8d0e-b6f1cc872e2b",
   "metadata": {},
   "source": [
    "#### 2. Flip the sizes dataframe\n",
    "* Transpose\n",
    "* Set column names to sediment type and drop particle sizes\n",
    "* Tidy the index to match the sites"
   ]
  },
  {
   "cell_type": "code",
   "execution_count": 34,
   "id": "c1a94878-2493-4646-9eef-d52b741e8bf0",
   "metadata": {},
   "outputs": [],
   "source": [
    "sizes = sizes.transpose()\n",
    "sizes.columns = sizes.iloc[0]\n",
    "sizes.drop(sizes.index[[0, 1]], inplace=True)\n",
    "sizes.index = sizes.index.str.replace(\"-0\", \"\").str.replace(\"-1\", \"\")"
   ]
  },
  {
   "cell_type": "markdown",
   "id": "24bc5328-39bd-4b76-8867-4f88c981aa0c",
   "metadata": {},
   "source": [
    "#### Bring sizes into the sites dataframe"
   ]
  },
  {
   "cell_type": "code",
   "execution_count": 35,
   "id": "83f6eb7e-b4c8-4804-9be9-e5a8507b8bb2",
   "metadata": {},
   "outputs": [],
   "source": [
    "def get_size(row: geopandas.GeoDataFrame, sizes: pandas.DataFrame, sediment_type:str):\n",
    "    \"\"\" Function to filter the column values by sites\"\"\"\n",
    "    if row[\"Comments\"] in sizes.index:\n",
    "        return sizes[sediment_type][row[\"Comments\"] == sizes.index].iloc[0]\n",
    "    else:\n",
    "        return numpy.nan"
   ]
  },
  {
   "cell_type": "code",
   "execution_count": 36,
   "id": "1c8532ac-ffbf-450e-8736-90d73d2fffd0",
   "metadata": {},
   "outputs": [],
   "source": [
    "for sediment_type in sizes.columns:\n",
    "    sites[sediment_type] = sites.apply(lambda row: get_size(row, sizes=sizes, sediment_type=sediment_type),\n",
    "                                       axis='columns')"
   ]
  },
  {
   "cell_type": "markdown",
   "id": "79bae223-349f-4d27-8a16-2421cec18d22",
   "metadata": {},
   "source": [
    "#### Filter the sites to retain only locations with sizes"
   ]
  },
  {
   "cell_type": "code",
   "execution_count": 37,
   "id": "42853c01-2aed-44f5-8d38-d200db0efa39",
   "metadata": {},
   "outputs": [],
   "source": [
    "sites = sites[numpy.logical_not(sites.isna().any(axis=1))]"
   ]
  },
  {
   "cell_type": "code",
   "execution_count": 38,
   "id": "4fa272d5-9022-4172-a5ce-53de844ef79f",
   "metadata": {},
   "outputs": [
    {
     "data": {
      "text/html": [
       "<div>\n",
       "<style scoped>\n",
       "    .dataframe tbody tr th:only-of-type {\n",
       "        vertical-align: middle;\n",
       "    }\n",
       "\n",
       "    .dataframe tbody tr th {\n",
       "        vertical-align: top;\n",
       "    }\n",
       "\n",
       "    .dataframe thead th {\n",
       "        text-align: right;\n",
       "    }\n",
       "</style>\n",
       "<table border=\"1\" class=\"dataframe\">\n",
       "  <thead>\n",
       "    <tr style=\"text-align: right;\">\n",
       "      <th></th>\n",
       "      <th>Depth1</th>\n",
       "      <th>Comments</th>\n",
       "      <th>geometry</th>\n",
       "      <th>SiltClay</th>\n",
       "      <th>VeryFineSand</th>\n",
       "      <th>FineSand</th>\n",
       "      <th>MediumSand</th>\n",
       "      <th>VeryAndCoarseSand</th>\n",
       "    </tr>\n",
       "  </thead>\n",
       "  <tbody>\n",
       "    <tr>\n",
       "      <th>0</th>\n",
       "      <td>0</td>\n",
       "      <td>E1</td>\n",
       "      <td>POINT (1935948.088 5635376.820)</td>\n",
       "      <td>93.19</td>\n",
       "      <td>6.81</td>\n",
       "      <td>0.0</td>\n",
       "      <td>0.0</td>\n",
       "      <td>0.0</td>\n",
       "    </tr>\n",
       "    <tr>\n",
       "      <th>1</th>\n",
       "      <td>25</td>\n",
       "      <td>E301</td>\n",
       "      <td>POINT (1935855.674 5635359.863)</td>\n",
       "      <td>70.02</td>\n",
       "      <td>29.98</td>\n",
       "      <td>0.0</td>\n",
       "      <td>0.0</td>\n",
       "      <td>0.0</td>\n",
       "    </tr>\n",
       "    <tr>\n",
       "      <th>2</th>\n",
       "      <td>0</td>\n",
       "      <td>E3</td>\n",
       "      <td>POINT (1935459.081 5634641.444)</td>\n",
       "      <td>85.72</td>\n",
       "      <td>14.28</td>\n",
       "      <td>0.0</td>\n",
       "      <td>0.0</td>\n",
       "      <td>0.0</td>\n",
       "    </tr>\n",
       "  </tbody>\n",
       "</table>\n",
       "</div>"
      ],
      "text/plain": [
       "   Depth1 Comments                         geometry  SiltClay  VeryFineSand  \\\n",
       "0       0       E1  POINT (1935948.088 5635376.820)     93.19          6.81   \n",
       "1      25     E301  POINT (1935855.674 5635359.863)     70.02         29.98   \n",
       "2       0       E3  POINT (1935459.081 5634641.444)     85.72         14.28   \n",
       "\n",
       "   FineSand  MediumSand  VeryAndCoarseSand  \n",
       "0       0.0         0.0                0.0  \n",
       "1       0.0         0.0                0.0  \n",
       "2       0.0         0.0                0.0  "
      ]
     },
     "execution_count": 38,
     "metadata": {},
     "output_type": "execute_result"
    }
   ],
   "source": [
    "sites.head(3)"
   ]
  },
  {
   "cell_type": "markdown",
   "id": "3766a020-611b-4837-8e48-13921d02178c",
   "metadata": {},
   "source": [
    "## Points to grid\n",
    "Interpolate from points to a grid. Steps:\n",
    "1. x & y grid from DEM\n",
    "2. x & y arrays from sites\n",
    "3. Interpolate\n",
    "4. Save results"
   ]
  },
  {
   "cell_type": "markdown",
   "id": "3b564cf5-ca79-4844-8840-f7363c8c1755",
   "metadata": {},
   "source": [
    "#### 1. x & y grid from DEM"
   ]
  },
  {
   "cell_type": "code",
   "execution_count": 11,
   "id": "d5c7a48c-275d-4d9c-86e3-7c23293f662c",
   "metadata": {},
   "outputs": [],
   "source": [
    "grid_x, grid_y = numpy.meshgrid(surface_dem.x, surface_dem.y)"
   ]
  },
  {
   "cell_type": "markdown",
   "id": "5219cc68-b1c1-48c7-8192-243d59cd433d",
   "metadata": {},
   "source": [
    "#### 2. grid_x, grid_y = numpy.meshgrid(surface_dem.x, surface_dem.y)"
   ]
  },
  {
   "cell_type": "code",
   "execution_count": 39,
   "id": "df19b77f-eda2-4c17-b057-565df3039261",
   "metadata": {},
   "outputs": [],
   "source": [
    "sites['x'] = sites.apply(lambda row: row.geometry.x, axis='columns')\n",
    "sites['y'] = sites.apply(lambda row: row.geometry.y, axis='columns')"
   ]
  },
  {
   "cell_type": "markdown",
   "id": "031b6519-0c32-432c-974b-8ca772f1a643",
   "metadata": {},
   "source": [
    "#### 3. Caclulate depth\n",
    "Note interpolate first as a value returned the -9999 no fill values - use nearest as expecting only the odd value missing internally. Check and alter as needed."
   ]
  },
  {
   "cell_type": "code",
   "execution_count": null,
   "id": "a00eee92-50e5-4ddd-8429-e29255f5be31",
   "metadata": {},
   "outputs": [],
   "source": [
    "#surface_dem = surface_dem.rio.interpolate_na(method=\"nearest\")"
   ]
  },
  {
   "cell_type": "code",
   "execution_count": 40,
   "id": "f1dbdf54-11a5-4b89-94f9-90bbefd12bb1",
   "metadata": {},
   "outputs": [],
   "source": [
    "sites['z'] = sites.apply(lambda row: float(surface_dem.interp(x=row.geometry.x, y=row.geometry.y, method=\"nearest\")),\n",
    "                         axis='columns')"
   ]
  },
  {
   "cell_type": "markdown",
   "id": "9304df71-1889-4a49-abb3-557b595c1ce9",
   "metadata": {},
   "source": [
    "##### Note filtered out the location where interpolated the fill value and nan\n",
    "* E93 - Fill values\n",
    "* n4 - Nan"
   ]
  },
  {
   "cell_type": "code",
   "execution_count": 48,
   "id": "ca4aad53-a781-4d69-8200-0347d854520d",
   "metadata": {},
   "outputs": [],
   "source": [
    "sites = sites[numpy.logical_not(sites['z'] == surface_dem.rio.nodata)]\n",
    "sites = sites[numpy.logical_not(sites['z'].isna())]"
   ]
  },
  {
   "cell_type": "markdown",
   "id": "4ca21108-4361-45ea-bf2b-2a088ec92015",
   "metadata": {},
   "source": [
    "#### 3. Interpolate"
   ]
  },
  {
   "cell_type": "code",
   "execution_count": 58,
   "id": "efeb93ce-d1be-4762-93d1-b4d79130f4a1",
   "metadata": {},
   "outputs": [],
   "source": [
    "old_ground_elevation = scipy.interpolate.griddata(\n",
    "    points=(sites['x'], sites['y']),\n",
    "    values=sites['z'],# - sites[\"Depth1\"],\n",
    "    xi=(grid_x, grid_x),\n",
    "    method=\"linear\"\n",
    "            )"
   ]
  },
  {
   "cell_type": "markdown",
   "id": "a256e8b1-e35d-46f6-87a4-93874d5d7acb",
   "metadata": {},
   "source": [
    "#### 4. Save results"
   ]
  },
  {
   "cell_type": "code",
   "execution_count": 60,
   "id": "64fd77dd-51b3-4ffb-bfec-fd564afe88cf",
   "metadata": {},
   "outputs": [],
   "source": [
    "sediment_dem = xarray.Dataset(\n",
    "    data_vars=dict(\n",
    "        sediment_depth=(\n",
    "            [\"y\", \"x\"],\n",
    "            old_ground_elevation,\n",
    "            {\n",
    "                \"units\": \"m\",\n",
    "                \"long_name\": \"depth1\",\n",
    "                \"vertical_datum\": f\"EPSG:{crs['vertical']}\",\n",
    "            },\n",
    "        ),\n",
    "        SiltClay=(\n",
    "            [\"y\", \"x\"],\n",
    "            old_ground_elevation,\n",
    "            {\n",
    "                \"units\": \"m\",\n",
    "                \"long_name\": \"The silt-clay proportion\",\n",
    "                \"vertical_datum\": f\"EPSG:{crs['vertical']}\",\n",
    "            },\n",
    "        ),\n",
    "    ),\n",
    "    coords=dict(x=([\"x\"], grid_x[0]), y=([\"y\"], grid_y[:, 0])),\n",
    "    attrs={\n",
    "        \"title\": \"Sediment elevations and proportions\",\n",
    "        \"description\": \"The sediment_depth layer contains xx, the other layers define the volume/proprtion/depth of that sediment at each location\",\n",
    "        \"history\": f\"Created by Steph Mangan for CARH2306: {time.gmtime()}\",\n",
    "    },\n",
    ")\n",
    "\n",
    "sediment_dem.rio.write_crs(crs[\"horizontal\"], inplace=True)\n",
    "sediment_dem.rio.write_transform(inplace=True)\n",
    "sediment_dem.SiltClay.rio.write_crs(crs[\"horizontal\"], inplace=True)\n",
    "sediment_dem.sediment_depth.rio.write_nodata(surface_dem.rio.nodata, encoded=True, inplace=True);"
   ]
  },
  {
   "cell_type": "code",
   "execution_count": 61,
   "id": "e2fab284-7754-488d-9082-c2f898e6681b",
   "metadata": {},
   "outputs": [],
   "source": [
    "sediment_dem.to_netcdf(base_path / \"dem_with_sediment.nc\")"
   ]
  },
  {
   "cell_type": "code",
   "execution_count": null,
   "id": "96754055-538e-4eba-a47a-c448a957a81e",
   "metadata": {},
   "outputs": [],
   "source": []
  }
 ],
 "metadata": {
  "kernelspec": {
   "display_name": "Python [conda env:raster]",
   "language": "python",
   "name": "conda-env-raster-py"
  },
  "language_info": {
   "codemirror_mode": {
    "name": "ipython",
    "version": 3
   },
   "file_extension": ".py",
   "mimetype": "text/x-python",
   "name": "python",
   "nbconvert_exporter": "python",
   "pygments_lexer": "ipython3",
   "version": "3.11.3"
  }
 },
 "nbformat": 4,
 "nbformat_minor": 5
}
