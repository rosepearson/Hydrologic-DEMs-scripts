{
 "cells": [
  {
   "cell_type": "markdown",
   "metadata": {},
   "source": [
    "# DEM, Shapefile import and projection\n",
    "A notebook going through different ways to import and project shape and DEM files."
   ]
  },
  {
   "cell_type": "code",
   "execution_count": null,
   "metadata": {},
   "outputs": [],
   "source": [
    "import rioxarray\n",
    "import xarray\n",
    "import geopandas\n",
    "import shapely.geometry\n",
    "import rasterio\n",
    "import rasterio.mask\n",
    "import numpy\n",
    "import matplotlib.pyplot"
   ]
  },
  {
   "cell_type": "markdown",
   "metadata": {},
   "source": [
    "## Load in data\n",
    "Note that the LiDAR (and DEMs were downloaded from OpenTopgraphy with EPSG:2193)\n",
    "Horizontal Coordinates: NZGD2000 / New Zealand Transverse Mercator 2000 [EPSG: 2193]\n",
    "Vertical Coordinates: NZVD2016 [EPSG: 7839]"
   ]
  },
  {
   "cell_type": "code",
   "execution_count": null,
   "metadata": {},
   "outputs": [],
   "source": [
    "# from Open Topography\n",
    "dem_tiff=rioxarray.rioxarray.open_rasterio(r'C:\\Users\\pearsonra\\Documents\\data\\herbert_10res\\dem\\dem.tif', masked=True)\n",
    "dem_nc=rioxarray.rioxarray.open_rasterio(r'C:\\Users\\pearsonra\\Documents\\data\\herbert_10res\\dem\\dem.nc', masked=True)\n",
    "# from QGIS\n",
    "ocean_shape = geopandas.read_file(r'C:\\Users\\pearsonra\\Documents\\data\\herbert_10res\\fake_coast.shp')\n",
    "ocean_shape_projected = geopandas.read_file(r'C:\\Users\\pearsonra\\Documents\\data\\herbert_10res\\ocean_shape_projected.shp')"
   ]
  },
  {
   "cell_type": "markdown",
   "metadata": {},
   "source": [
    "Note that net_CDF files can also be opened directly by xarray retaining more information and keeping its initial form (i.e. not adding bands and an extra dimension)"
   ]
  },
  {
   "cell_type": "code",
   "execution_count": null,
   "metadata": {},
   "outputs": [],
   "source": [
    "xarray.open_dataset(r'C:\\Users\\pearsonra\\Documents\\data\\herbert_10res\\dem\\dem.nc')"
   ]
  },
  {
   "cell_type": "markdown",
   "metadata": {},
   "source": [
    "## View and correct projections\n",
    "### Projection for DEMs"
   ]
  },
  {
   "cell_type": "code",
   "execution_count": null,
   "metadata": {},
   "outputs": [],
   "source": [
    "dem_tiff.rio.crs"
   ]
  },
  {
   "cell_type": "code",
   "execution_count": null,
   "metadata": {},
   "outputs": [],
   "source": [
    "dem_nc.rio.crs"
   ]
  },
  {
   "cell_type": "markdown",
   "metadata": {},
   "source": [
    "#### Correct netCDF crs \n",
    "note the correction is needed due to export setting incorrectly being selected from QGIS - skip this stage in future and just bring into xarray (same as nextCDF anyway)"
   ]
  },
  {
   "cell_type": "code",
   "execution_count": null,
   "metadata": {},
   "outputs": [],
   "source": [
    "dem_nc=dem_nc.rio.set_crs(dem_tiff.rio.crs)"
   ]
  },
  {
   "cell_type": "markdown",
   "metadata": {},
   "source": [
    "### Projection from Shape files"
   ]
  },
  {
   "cell_type": "code",
   "execution_count": null,
   "metadata": {},
   "outputs": [],
   "source": [
    "ocean_shape.crs"
   ]
  },
  {
   "cell_type": "code",
   "execution_count": null,
   "metadata": {},
   "outputs": [],
   "source": [
    "ocean_shape_projected.crs"
   ]
  },
  {
   "cell_type": "markdown",
   "metadata": {},
   "source": [
    "#### correct unprojected shapefile crs \n",
    "reproject the QGIS polygon"
   ]
  },
  {
   "cell_type": "code",
   "execution_count": null,
   "metadata": {},
   "outputs": [],
   "source": [
    "ocean_shape = ocean_shape.to_crs(dem_tiff.rio.crs)"
   ]
  },
  {
   "cell_type": "markdown",
   "metadata": {},
   "source": [
    "## View DEM and select region to filter\n",
    "Below the dem and the ocean shape file - saved out of QGIS with a projection."
   ]
  },
  {
   "cell_type": "code",
   "execution_count": null,
   "metadata": {},
   "outputs": [],
   "source": [
    "f, ax = matplotlib.pyplot.subplots(figsize=(10, 5))\n",
    "dem_tiff.plot(cmap=\"Greys_r\",\n",
    "                 ax=ax)\n",
    "ocean_shape.plot(color='None',\n",
    "                    edgecolor='teal',\n",
    "                    linewidth=2,\n",
    "                    ax=ax,\n",
    "                    zorder=4)\n",
    "ax.set_title(\"LiDAR Herbert - with coast projection from QGIS\")\n",
    "#ax.set_axis_off()\n",
    "matplotlib.pyplot.show()"
   ]
  },
  {
   "cell_type": "markdown",
   "metadata": {},
   "source": [
    "The DEM zoomed in on the region to manually create a polygon here"
   ]
  },
  {
   "cell_type": "code",
   "execution_count": null,
   "metadata": {},
   "outputs": [],
   "source": [
    "f, ax = matplotlib.pyplot.subplots(figsize=(10, 5))\n",
    "\n",
    "dem_tiff.plot(cmap=\"Greys_r\", ax=ax)\n",
    "\n",
    "ax.set_title(\"LiDAR Herbert - zoomed in on coast\")\n",
    "matplotlib.pyplot.xlim([1.43222e6, 1.434e6])\n",
    "matplotlib.pyplot.ylim([4.9857e6, 4.9873e6])\n",
    "\n",
    "matplotlib.pyplot.show()"
   ]
  },
  {
   "cell_type": "markdown",
   "metadata": {},
   "source": [
    "## Manually create a polygon"
   ]
  },
  {
   "cell_type": "code",
   "execution_count": null,
   "metadata": {},
   "outputs": [],
   "source": [
    "ocean_manual_shape = shapely.geometry.Polygon([(1.43222e6, 4.9857e6), # x1, y1\n",
    "            (1.43400e6, 4.9857e6), # x2, y1\n",
    "            (1.43400e6, 4.9873e6), # x2, y2\n",
    "            (1.43222e6, 4.9873e6)  # x1, y2\n",
    "        ])\n",
    "ocean_manual_gdf = geopandas.GeoSeries([ocean_manual_shape])"
   ]
  },
  {
   "cell_type": "code",
   "execution_count": null,
   "metadata": {},
   "outputs": [],
   "source": [
    "# Plot the data and notice that the scale bar looks better\n",
    "# No data values are now masked\n",
    "f, ax = matplotlib.pyplot.subplots(figsize=(10, 5))\n",
    "\n",
    "ocean_manual_gdf.plot(color='None', edgecolor='teal', linewidth=20, ax=ax, zorder=4)\n",
    "\n",
    "ax.set_title(\"Manual polygon \\n selects the region out to coast\")\n",
    "matplotlib.pyplot.show()"
   ]
  },
  {
   "cell_type": "markdown",
   "metadata": {},
   "source": [
    "## Plot both together"
   ]
  },
  {
   "cell_type": "code",
   "execution_count": null,
   "metadata": {},
   "outputs": [],
   "source": [
    "f, ax = matplotlib.pyplot.subplots(figsize=(10, 5))\n",
    "\n",
    "dem_tiff.plot(cmap=\"Greys_r\", ax=ax)\n",
    "ocean_manual_gdf.plot(color='None', edgecolor='teal', linewidth=2, ax=ax, zorder=4)\n",
    "\n",
    "ax.set_title(\"LiDAR Herbert\")\n",
    "matplotlib.pyplot.show()"
   ]
  }
 ],
 "metadata": {
  "kernelspec": {
   "display_name": "Python [conda env:geofabrics]",
   "language": "python",
   "name": "conda-env-geofabrics-py"
  },
  "language_info": {
   "codemirror_mode": {
    "name": "ipython",
    "version": 3
   },
   "file_extension": ".py",
   "mimetype": "text/x-python",
   "name": "python",
   "nbconvert_exporter": "python",
   "pygments_lexer": "ipython3",
   "version": "3.9.13"
  }
 },
 "nbformat": 4,
 "nbformat_minor": 2
}
