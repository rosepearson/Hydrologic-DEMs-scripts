{
 "cells": [
  {
   "cell_type": "code",
   "execution_count": null,
   "id": "a271f9cd",
   "metadata": {},
   "outputs": [],
   "source": [
    "import rioxarray\n",
    "import xarray\n",
    "import pathlib\n",
    "import gc\n",
    "import shapely"
   ]
  },
  {
   "cell_type": "code",
   "execution_count": null,
   "id": "dd3544dd",
   "metadata": {},
   "outputs": [],
   "source": [
    "path_raster = pathlib.Path(r\"C:\\Users\\pearsonra\\Documents\\data\\raster_tile_training\")\n",
    "path1 = pathlib.Path(r\"C:\\Users\\pearsonra\\Documents\\data\\Westport\\dems\")\n",
    "path2 = pathlib.Path(r\"C:\\Users\\pearsonra\\Documents\\data\\Waikanae\\caches\\nz21_kapiti\")"
   ]
  },
  {
   "cell_type": "code",
   "execution_count": null,
   "id": "11ddc6f2",
   "metadata": {},
   "outputs": [],
   "source": [
    "dem1 = rioxarray.rioxarray.open_rasterio(path1 / \"10m_ground_water_dem_full_cache.nc\", masked=True).squeeze('band', drop=True)"
   ]
  },
  {
   "cell_type": "code",
   "execution_count": null,
   "id": "f09b5de3",
   "metadata": {},
   "outputs": [],
   "source": [
    "dem1.rio.to_raster(path_raster / \"westport1.jpeg\")"
   ]
  },
  {
   "cell_type": "code",
   "execution_count": null,
   "id": "7e7e7579",
   "metadata": {},
   "outputs": [],
   "source": [
    "dem2 = rioxarray.rioxarray.open_rasterio(path2 / \"10m_dem_no_river_bathy_linear.nc\", masked=True).squeeze('band', drop=True)"
   ]
  },
  {
   "cell_type": "code",
   "execution_count": null,
   "id": "72088a54",
   "metadata": {},
   "outputs": [],
   "source": [
    "dem2.rio.to_raster(path_raster / \"waikanae1.tif\")"
   ]
  },
  {
   "cell_type": "code",
   "execution_count": null,
   "id": "83c362ff",
   "metadata": {},
   "outputs": [],
   "source": []
  }
 ],
 "metadata": {
  "kernelspec": {
   "display_name": "Python [conda env:geofabrics]",
   "language": "python",
   "name": "conda-env-geofabrics-py"
  },
  "language_info": {
   "codemirror_mode": {
    "name": "ipython",
    "version": 3
   },
   "file_extension": ".py",
   "mimetype": "text/x-python",
   "name": "python",
   "nbconvert_exporter": "python",
   "pygments_lexer": "ipython3",
   "version": "3.9.12"
  }
 },
 "nbformat": 4,
 "nbformat_minor": 5
}
