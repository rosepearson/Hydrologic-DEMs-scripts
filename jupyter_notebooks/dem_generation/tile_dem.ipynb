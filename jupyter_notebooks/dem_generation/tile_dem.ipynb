{
 "cells": [
  {
   "cell_type": "code",
   "execution_count": 18,
   "id": "a271f9cd",
   "metadata": {},
   "outputs": [],
   "source": [
    "import rioxarray\n",
    "import xarray\n",
    "import pathlib\n",
    "import gc\n",
    "import shapely"
   ]
  },
  {
   "cell_type": "code",
   "execution_count": 14,
   "id": "dd3544dd",
   "metadata": {},
   "outputs": [],
   "source": [
    "path_raster = pathlib.Path(r\"C:\\Users\\pearsonra\\Documents\\data\\raster_tile_training\")\n",
    "path1 = pathlib.Path(r\"C:\\Users\\pearsonra\\Documents\\data\\Westport\\dems\")\n",
    "path2 = pathlib.Path(r\"C:\\Users\\pearsonra\\Documents\\data\\Waikanae\\caches\\nz21_kapiti\")"
   ]
  },
  {
   "cell_type": "code",
   "execution_count": 10,
   "id": "11ddc6f2",
   "metadata": {},
   "outputs": [],
   "source": [
    "dem1 = rioxarray.rioxarray.open_rasterio(path1 / \"10m_ground_water_dem_full_cache.nc\", masked=True).squeeze('band', drop=True)"
   ]
  },
  {
   "cell_type": "code",
   "execution_count": 20,
   "id": "f09b5de3",
   "metadata": {},
   "outputs": [
    {
     "ename": "CPLE_NotSupportedError",
     "evalue": "JPEG driver doesn't support data type Float64. Only eight bit byte bands supported. ",
     "output_type": "error",
     "traceback": [
      "\u001b[1;31m---------------------------------------------------------------------------\u001b[0m",
      "\u001b[1;31mCPLE_NotSupportedError\u001b[0m                    Traceback (most recent call last)",
      "Input \u001b[1;32mIn [20]\u001b[0m, in \u001b[0;36m<cell line: 1>\u001b[1;34m()\u001b[0m\n\u001b[1;32m----> 1\u001b[0m \u001b[43mdem1\u001b[49m\u001b[38;5;241;43m.\u001b[39;49m\u001b[43mrio\u001b[49m\u001b[38;5;241;43m.\u001b[39;49m\u001b[43mto_raster\u001b[49m\u001b[43m(\u001b[49m\u001b[43mpath_raster\u001b[49m\u001b[43m \u001b[49m\u001b[38;5;241;43m/\u001b[39;49m\u001b[43m \u001b[49m\u001b[38;5;124;43m\"\u001b[39;49m\u001b[38;5;124;43mwestport1.jpeg\u001b[39;49m\u001b[38;5;124;43m\"\u001b[39;49m\u001b[43m)\u001b[49m\n",
      "File \u001b[1;32m~\\Anaconda3\\envs\\geofabrics\\lib\\site-packages\\rioxarray\\raster_array.py:1016\u001b[0m, in \u001b[0;36mRasterArray.to_raster\u001b[1;34m(self, raster_path, driver, dtype, tags, windowed, recalc_transform, lock, compute, **profile_kwargs)\u001b[0m\n\u001b[0;32m    997\u001b[0m out_profile \u001b[38;5;241m=\u001b[39m {\n\u001b[0;32m    998\u001b[0m     key: value\n\u001b[0;32m    999\u001b[0m     \u001b[38;5;28;01mfor\u001b[39;00m key, value \u001b[38;5;129;01min\u001b[39;00m out_profile\u001b[38;5;241m.\u001b[39mitems()\n\u001b[1;32m   (...)\u001b[0m\n\u001b[0;32m   1010\u001b[0m     )\n\u001b[0;32m   1011\u001b[0m }\n\u001b[0;32m   1012\u001b[0m rio_nodata \u001b[38;5;241m=\u001b[39m (\n\u001b[0;32m   1013\u001b[0m     \u001b[38;5;28mself\u001b[39m\u001b[38;5;241m.\u001b[39mencoded_nodata \u001b[38;5;28;01mif\u001b[39;00m \u001b[38;5;28mself\u001b[39m\u001b[38;5;241m.\u001b[39mencoded_nodata \u001b[38;5;129;01mis\u001b[39;00m \u001b[38;5;129;01mnot\u001b[39;00m \u001b[38;5;28;01mNone\u001b[39;00m \u001b[38;5;28;01melse\u001b[39;00m \u001b[38;5;28mself\u001b[39m\u001b[38;5;241m.\u001b[39mnodata\n\u001b[0;32m   1014\u001b[0m )\n\u001b[1;32m-> 1016\u001b[0m \u001b[38;5;28;01mreturn\u001b[39;00m RasterioWriter(raster_path\u001b[38;5;241m=\u001b[39mraster_path)\u001b[38;5;241m.\u001b[39mto_raster(\n\u001b[0;32m   1017\u001b[0m     xarray_dataarray\u001b[38;5;241m=\u001b[39m\u001b[38;5;28mself\u001b[39m\u001b[38;5;241m.\u001b[39m_obj,\n\u001b[0;32m   1018\u001b[0m     tags\u001b[38;5;241m=\u001b[39mtags,\n\u001b[0;32m   1019\u001b[0m     driver\u001b[38;5;241m=\u001b[39mdriver,\n\u001b[0;32m   1020\u001b[0m     height\u001b[38;5;241m=\u001b[39m\u001b[38;5;28mint\u001b[39m(\u001b[38;5;28mself\u001b[39m\u001b[38;5;241m.\u001b[39mheight),\n\u001b[0;32m   1021\u001b[0m     width\u001b[38;5;241m=\u001b[39m\u001b[38;5;28mint\u001b[39m(\u001b[38;5;28mself\u001b[39m\u001b[38;5;241m.\u001b[39mwidth),\n\u001b[0;32m   1022\u001b[0m     count\u001b[38;5;241m=\u001b[39m\u001b[38;5;28mint\u001b[39m(\u001b[38;5;28mself\u001b[39m\u001b[38;5;241m.\u001b[39mcount),\n\u001b[0;32m   1023\u001b[0m     dtype\u001b[38;5;241m=\u001b[39mdtype,\n\u001b[0;32m   1024\u001b[0m     crs\u001b[38;5;241m=\u001b[39m\u001b[38;5;28mself\u001b[39m\u001b[38;5;241m.\u001b[39mcrs,\n\u001b[0;32m   1025\u001b[0m     transform\u001b[38;5;241m=\u001b[39m\u001b[38;5;28mself\u001b[39m\u001b[38;5;241m.\u001b[39mtransform(recalc\u001b[38;5;241m=\u001b[39mrecalc_transform),\n\u001b[0;32m   1026\u001b[0m     gcps\u001b[38;5;241m=\u001b[39m\u001b[38;5;28mself\u001b[39m\u001b[38;5;241m.\u001b[39mget_gcps(),\n\u001b[0;32m   1027\u001b[0m     nodata\u001b[38;5;241m=\u001b[39mrio_nodata,\n\u001b[0;32m   1028\u001b[0m     windowed\u001b[38;5;241m=\u001b[39mwindowed,\n\u001b[0;32m   1029\u001b[0m     lock\u001b[38;5;241m=\u001b[39mlock,\n\u001b[0;32m   1030\u001b[0m     compute\u001b[38;5;241m=\u001b[39mcompute,\n\u001b[0;32m   1031\u001b[0m     \u001b[38;5;241m*\u001b[39m\u001b[38;5;241m*\u001b[39mout_profile,\n\u001b[0;32m   1032\u001b[0m )\n",
      "File \u001b[1;32m~\\Anaconda3\\envs\\geofabrics\\lib\\site-packages\\rioxarray\\raster_writer.py:256\u001b[0m, in \u001b[0;36mRasterioWriter.to_raster\u001b[1;34m(self, xarray_dataarray, tags, windowed, lock, compute, **kwargs)\u001b[0m\n\u001b[0;32m    254\u001b[0m                 rds\u001b[38;5;241m.\u001b[39mwrite(data, \u001b[38;5;241m1\u001b[39m, window\u001b[38;5;241m=\u001b[39mwindow)\n\u001b[0;32m    255\u001b[0m             \u001b[38;5;28;01melse\u001b[39;00m:\n\u001b[1;32m--> 256\u001b[0m                 rds\u001b[38;5;241m.\u001b[39mwrite(data, window\u001b[38;5;241m=\u001b[39mwindow)\n\u001b[0;32m    258\u001b[0m \u001b[38;5;28;01mif\u001b[39;00m lock \u001b[38;5;129;01mand\u001b[39;00m is_dask_collection(xarray_dataarray\u001b[38;5;241m.\u001b[39mdata):\n\u001b[0;32m    259\u001b[0m     \u001b[38;5;28;01mreturn\u001b[39;00m dask\u001b[38;5;241m.\u001b[39marray\u001b[38;5;241m.\u001b[39mstore(\n\u001b[0;32m    260\u001b[0m         encode_cf_variable(xarray_dataarray)\u001b[38;5;241m.\u001b[39mdata\u001b[38;5;241m.\u001b[39mastype(numpy_dtype),\n\u001b[0;32m    261\u001b[0m         \u001b[38;5;28mself\u001b[39m,\n\u001b[0;32m    262\u001b[0m         lock\u001b[38;5;241m=\u001b[39mlock,\n\u001b[0;32m    263\u001b[0m         compute\u001b[38;5;241m=\u001b[39mcompute,\n\u001b[0;32m    264\u001b[0m     )\n",
      "File \u001b[1;32mrasterio\\_base.pyx:395\u001b[0m, in \u001b[0;36mrasterio._base.DatasetBase.__exit__\u001b[1;34m()\u001b[0m\n",
      "File \u001b[1;32mrasterio\\_base.pyx:386\u001b[0m, in \u001b[0;36mrasterio._base.DatasetBase.close\u001b[1;34m()\u001b[0m\n",
      "File \u001b[1;32mrasterio\\_io.pyx:2125\u001b[0m, in \u001b[0;36mrasterio._io.BufferedDatasetWriterBase.stop\u001b[1;34m()\u001b[0m\n",
      "File \u001b[1;32mrasterio\\_err.pyx:216\u001b[0m, in \u001b[0;36mrasterio._err.exc_wrap_pointer\u001b[1;34m()\u001b[0m\n",
      "\u001b[1;31mCPLE_NotSupportedError\u001b[0m: JPEG driver doesn't support data type Float64. Only eight bit byte bands supported. "
     ]
    }
   ],
   "source": [
    "dem1.rio.to_raster(path_raster / \"westport1.jpeg\")"
   ]
  },
  {
   "cell_type": "code",
   "execution_count": 16,
   "id": "7e7e7579",
   "metadata": {},
   "outputs": [],
   "source": [
    "dem2 = rioxarray.rioxarray.open_rasterio(path2 / \"10m_dem_no_river_bathy_linear.nc\", masked=True).squeeze('band', drop=True)"
   ]
  },
  {
   "cell_type": "code",
   "execution_count": 17,
   "id": "72088a54",
   "metadata": {},
   "outputs": [],
   "source": [
    "dem2.rio.to_raster(path_raster / \"waikanae1.tif\")"
   ]
  },
  {
   "cell_type": "code",
   "execution_count": null,
   "id": "83c362ff",
   "metadata": {},
   "outputs": [],
   "source": []
  }
 ],
 "metadata": {
  "kernelspec": {
   "display_name": "Python [conda env:geofabrics]",
   "language": "python",
   "name": "conda-env-geofabrics-py"
  },
  "language_info": {
   "codemirror_mode": {
    "name": "ipython",
    "version": 3
   },
   "file_extension": ".py",
   "mimetype": "text/x-python",
   "name": "python",
   "nbconvert_exporter": "python",
   "pygments_lexer": "ipython3",
   "version": "3.9.12"
  }
 },
 "nbformat": 4,
 "nbformat_minor": 5
}
