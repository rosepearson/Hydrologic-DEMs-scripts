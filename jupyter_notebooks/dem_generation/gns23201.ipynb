{
 "cells": [
  {
   "cell_type": "code",
   "execution_count": 42,
   "id": "65a19ed7-c882-417c-9ebe-69b575f40346",
   "metadata": {},
   "outputs": [],
   "source": [
    "import pdal\n",
    "import json\n",
    "import geopandas\n",
    "import shapely"
   ]
  },
  {
   "cell_type": "code",
   "execution_count": 43,
   "id": "9f93b657-471b-4bf1-95fb-19419778c630",
   "metadata": {},
   "outputs": [],
   "source": [
    "crs=9754"
   ]
  },
  {
   "cell_type": "code",
   "execution_count": 44,
   "id": "6e76f953-f658-4c9a-a301-d88f120228da",
   "metadata": {},
   "outputs": [],
   "source": [
    "pdal_pipeline_instructions = [\n",
    "    {\n",
    "        \"type\": \"readers.text\",\n",
    "        \"filename\": r\"C:\\Local\\data\\GNS23201\\xyzZo3_1.txt\",\n",
    "    },\n",
    "    {\n",
    "        \"type\":\"writers.las\",\n",
    "        \"filename\":r\"C:\\Local\\data\\GNS23201\\xyzZo3_1.las\",\n",
    "        #\"a_srs\": f\"EPSG:{crs}\"\n",
    "    }\n",
    "]"
   ]
  },
  {
   "cell_type": "code",
   "execution_count": 45,
   "id": "4f6ccd4e-eb72-43ef-a0d4-b3f99584819e",
   "metadata": {},
   "outputs": [
    {
     "data": {
      "text/plain": [
       "2221044"
      ]
     },
     "execution_count": 45,
     "metadata": {},
     "output_type": "execute_result"
    }
   ],
   "source": [
    "pdal_pipeline = pdal.Pipeline(json.dumps(pdal_pipeline_instructions))\n",
    "pdal_pipeline.execute()"
   ]
  },
  {
   "cell_type": "code",
   "execution_count": 46,
   "id": "f7b4e3aa-7a22-43a4-bccd-9737c0433952",
   "metadata": {},
   "outputs": [],
   "source": [
    "points = pdal_pipeline.arrays[0]"
   ]
  },
  {
   "cell_type": "code",
   "execution_count": 47,
   "id": "3ff81084-6438-42a4-86ee-8f43663c171d",
   "metadata": {},
   "outputs": [],
   "source": [
    "x0 = points['X'].min(); x1 = points['X'].max(); y0 = points['Y'].min(); y1 = points['Y'].max()\n",
    "boundary = geopandas.GeoDataFrame(geometry=[shapely.geometry.Polygon([[x0, y0], [x0, y1], [x1, y1], [x1, y0]])], crs=crs)\n",
    "boundary.to_file(rf\"C:\\Local\\data\\GNS23201\\epsg{crs}.geojson\")"
   ]
  },
  {
   "cell_type": "code",
   "execution_count": 49,
   "id": "45925c2e-aa54-4472-8c0c-3561b256e6c1",
   "metadata": {},
   "outputs": [],
   "source": [
    "pdal_pipeline_instructions = [ r\"C:\\Local\\data\\GNS23201\\xyzZo3_1.las\",\n",
    "    { \"type\": \"filters.delaunay\" },\n",
    "    { \"type\": \"filters.faceraster\", \"resolution\": 1 },\n",
    "    { \"type\": \"writers.raster\", \"filename\": r\"C:\\Local\\data\\GNS23201\\xyzZo3_1.tif\" }\n",
    "]"
   ]
  },
  {
   "cell_type": "code",
   "execution_count": 50,
   "id": "b775041d-6292-478f-b712-ee01ce3f8c8a",
   "metadata": {},
   "outputs": [
    {
     "data": {
      "text/plain": [
       "2221044"
      ]
     },
     "execution_count": 50,
     "metadata": {},
     "output_type": "execute_result"
    }
   ],
   "source": [
    "pdal_pipeline = pdal.Pipeline(json.dumps(pdal_pipeline_instructions))\n",
    "pdal_pipeline.execute()"
   ]
  },
  {
   "cell_type": "code",
   "execution_count": null,
   "id": "55976c0c-dc1a-489b-b3ce-44d58c48d6c1",
   "metadata": {},
   "outputs": [],
   "source": []
  }
 ],
 "metadata": {
  "kernelspec": {
   "display_name": "Python [conda env:geofabrics2]",
   "language": "python",
   "name": "conda-env-geofabrics2-py"
  },
  "language_info": {
   "codemirror_mode": {
    "name": "ipython",
    "version": 3
   },
   "file_extension": ".py",
   "mimetype": "text/x-python",
   "name": "python",
   "nbconvert_exporter": "python",
   "pygments_lexer": "ipython3",
   "version": "3.11.3"
  }
 },
 "nbformat": 4,
 "nbformat_minor": 5
}
