{
 "cells": [
  {
   "cell_type": "markdown",
   "id": "96393706-03a4-4fd3-aa4c-a510851691c7",
   "metadata": {},
   "source": [
    "# Tile z and zo \n",
    "Tile the ASCII text files containing x, y, z and zo information."
   ]
  },
  {
   "cell_type": "code",
   "execution_count": 1,
   "id": "65a19ed7-c882-417c-9ebe-69b575f40346",
   "metadata": {},
   "outputs": [],
   "source": [
    "import pdal\n",
    "import json\n",
    "import geopandas\n",
    "import shapely\n",
    "import shapely.wkt\n",
    "import pathlib\n",
    "import shutil \n",
    "import rioxarray\n",
    "import numpy"
   ]
  },
  {
   "cell_type": "markdown",
   "id": "b4dfc55b-9bf3-46e5-a2d8-a3642f9cff8d",
   "metadata": {},
   "source": [
    "## Copy locally"
   ]
  },
  {
   "cell_type": "code",
   "execution_count": 2,
   "id": "aa4443df-8dc4-43cb-b41e-699cd24a7d6c",
   "metadata": {},
   "outputs": [],
   "source": [
    "crs = 32758\n",
    "z_low_noise = -10"
   ]
  },
  {
   "cell_type": "code",
   "execution_count": 3,
   "id": "2bd59196-a95d-49fd-9684-215a88f2d0cc",
   "metadata": {},
   "outputs": [],
   "source": [
    "# Setup remote and local paths\n",
    "remote_path = pathlib.Path(r\"\\\\niwa.local\\projects\\hamilton\\GNS23201\\Working\\Flooding\\Roughness\\Z_Zo_Tiles\")\n",
    "local_path = pathlib.Path(r\"C:\\Local\\data\\GNS23201\\tiles\")\n",
    "(local_path / \"raw\").mkdir(exist_ok = True)\n",
    "(local_path / \"las\").mkdir(exist_ok = True)\n",
    "(local_path / \"zo\").mkdir(exist_ok = True)"
   ]
  },
  {
   "cell_type": "code",
   "execution_count": 4,
   "id": "ed7b2592-d47b-4772-aa83-08f06c7c41be",
   "metadata": {},
   "outputs": [],
   "source": [
    "for file in remote_path.iterdir():\n",
    "    #print(f\"Copy {file.name} locally\") \n",
    "    shutil.copy2(file, local_path / \"raw\" / file.name)"
   ]
  },
  {
   "cell_type": "raw",
   "id": "f7be416e-650b-4fa6-840f-bf8f6da079b2",
   "metadata": {},
   "source": [
    "# Get CRS information\n",
    "remote_laz = pathlib.Path(r\"\\\\niwa.local\\projects\\hamilton\\GNS23201\\RawData\\LiDAR\\EspirituSanto000.laz\")\n",
    "local_laz = local_path / \"EspirituSanto000.laz\"\n",
    "shutil.copy2(remote_laz, local_laz)\n",
    "# In console\n",
    "# pdal info C:\\Local\\data\\GNS23201\\tiles\\EspirituSanto000.laz --metadata\n",
    "# No SRS information :("
   ]
  },
  {
   "cell_type": "markdown",
   "id": "9c3fca6e-b7f8-4dd9-ad31-cb5f885fec74",
   "metadata": {},
   "source": [
    "# Z processing\n",
    "## Convert to LAS"
   ]
  },
  {
   "cell_type": "code",
   "execution_count": 5,
   "id": "b2bd3c9a-b43f-4084-9594-47f446749751",
   "metadata": {},
   "outputs": [],
   "source": [
    "# Convert each to las\n",
    "for file in (local_path / \"raw\").iterdir():\n",
    "    #print(f\"Converting {file.name} to LAS\")\n",
    "    pdal_pipeline_instructions = [\n",
    "        {\n",
    "            \"type\": \"readers.text\",\n",
    "            \"filename\": str(file),\n",
    "            \"header\": \"X, Y, Z, Intensity\"\n",
    "        },\n",
    "        {\n",
    "            \"type\":\"writers.las\",\n",
    "            \"filename\":str(file.parent.parent / \"las\" / f\"{file.stem}.las\"),\n",
    "            \"a_srs\": f\"EPSG:{crs}\"\n",
    "        }\n",
    "    ]\n",
    "    pdal_pipeline = pdal.Pipeline(json.dumps(pdal_pipeline_instructions))\n",
    "    pdal_pipeline.execute()"
   ]
  },
  {
   "cell_type": "markdown",
   "id": "3f77a56c-e915-4ef6-b1a4-4c97c8e5943e",
   "metadata": {},
   "source": [
    "## Combine into a single LAZ"
   ]
  },
  {
   "cell_type": "code",
   "execution_count": null,
   "id": "b20b7cf7-d875-45a8-9108-86c1380b81a6",
   "metadata": {},
   "outputs": [],
   "source": [
    "# Create instruction\n",
    "pdal_pipeline_instructions = []\n",
    "for file in (local_path / \"las\").iterdir():\n",
    "    if file.suffix == '.las':\n",
    "        pdal_pipeline_instructions.append(\n",
    "            {\"type\": \"readers.las\",\n",
    "            \"filename\": str(file),})\n",
    "pdal_pipeline_instructions.append({\"type\": \"filters.merge\",})\n",
    "pdal_pipeline_instructions.append(\n",
    "    {\"type\":\"writers.las\",\n",
    "     \"filename\": str(local_path / \"las\" / \"combined.laz\"),\n",
    "     \"a_srs\": f\"EPSG:{crs}\",\n",
    "     \"compression\": \"laszip\"})\n",
    "# Run pipeline\n",
    "pdal_pipeline = pdal.Pipeline(json.dumps(pdal_pipeline_instructions))\n",
    "pdal_pipeline.execute();"
   ]
  },
  {
   "cell_type": "markdown",
   "id": "ab629474-1ad4-49cf-a5e6-3dbb6aa3d36b",
   "metadata": {},
   "source": [
    "## Remove noise points"
   ]
  },
  {
   "cell_type": "code",
   "execution_count": null,
   "id": "93857990-a65b-473a-b1b3-30207d997c5d",
   "metadata": {},
   "outputs": [],
   "source": [
    "pdal_pipeline_instructions = [ \n",
    "    { \"type\": \"readers.las\", \"filename\": str(local_path / \"las\" / \"combined.laz\"), }\n",
    "]\n",
    "pdal_pipeline = pdal.Pipeline(json.dumps(pdal_pipeline_instructions))\n",
    "pdal_pipeline.execute();\n",
    "# Remove noise\n",
    "points = pdal_pipeline.arrays[0]\n",
    "points = points[points['Z'] > z_low_noise]\n",
    "# Write out value\n",
    "pdal_pipeline_instructions = [\n",
    "            {\"type\": \"writers.las\", \"filename\": str(local_path / \"las\" / \"combined_no_noise.laz\"),\n",
    "             \"compression\": \"laszip\",\n",
    "             \"a_srs\": f\"EPSG:{crs}\"\n",
    "            }\n",
    "        ]\n",
    "\n",
    "pdal_pipeline = pdal.Pipeline(json.dumps(pdal_pipeline_instructions), [points])\n",
    "pdal_pipeline.execute()\n",
    "# Write out crs information\n",
    "dem = rioxarray.open_rasterio(local_path / \"las\" / \"combined.tif\")\n",
    "dem = dem.rio.write_crs(crs)\n",
    "dem.rio.to_raster(local_path / \"las\" / \"combined.tif\")"
   ]
  },
  {
   "cell_type": "code",
   "execution_count": null,
   "id": "0a329907-2bd3-4fd1-8daf-e061e174a615",
   "metadata": {},
   "outputs": [],
   "source": [
    "pdal_pipeline_instructions = [\n",
    "            {\"type\": \"writers.las\", \"filename\": str(local_path / \"las\" / \"combined_no_noise.laz\"),\n",
    "                \"compression\": \"laszip\",\n",
    "            }\n",
    "        ]\n",
    "\n",
    "pdal_pipeline = pdal.Pipeline(json.dumps(pdal_pipeline_instructions), [points])\n",
    "pdal_pipeline.execute()"
   ]
  },
  {
   "cell_type": "markdown",
   "id": "a49287f7-e186-4298-b29b-b8a45b92cbcd",
   "metadata": {},
   "source": [
    "## Rasterise at 1m and save as a Geotiff"
   ]
  },
  {
   "cell_type": "code",
   "execution_count": null,
   "id": "45925c2e-aa54-4472-8c0c-3561b256e6c1",
   "metadata": {},
   "outputs": [],
   "source": [
    "pdal_pipeline_instructions = [ \n",
    "    { \"type\": \"readers.las\", \"filename\": str(local_path / \"las\" / \"combined_no_noise.laz\"), },\n",
    "    { \"type\": \"filters.delaunay\" },\n",
    "    { \"type\": \"filters.faceraster\", \"resolution\": 1 },\n",
    "    { \"type\": \"writers.raster\", \"filename\": str(local_path / \"las\" / \"combined.tif\") }\n",
    "]\n",
    "pdal_pipeline = pdal.Pipeline(json.dumps(pdal_pipeline_instructions))\n",
    "pdal_pipeline.execute();"
   ]
  },
  {
   "cell_type": "markdown",
   "id": "a13e6105-1f6b-4929-9dcd-3ffefc477848",
   "metadata": {},
   "source": [
    "# zo processing\n",
    "## Save a LAZ with zo as Z"
   ]
  },
  {
   "cell_type": "code",
   "execution_count": null,
   "id": "3aa18272-e732-4062-a51c-630f6e540b87",
   "metadata": {},
   "outputs": [],
   "source": [
    "# Convert each to las\n",
    "for file in (local_path / \"raw\").iterdir():\n",
    "    #print(f\"Converting {file.name} to LAS\")\n",
    "    pdal_pipeline_instructions = [\n",
    "        {\n",
    "            \"type\": \"readers.text\",\n",
    "            \"filename\": str(file),\n",
    "            \"header\": \"X, Y, zo, Z\"\n",
    "        },\n",
    "        {\n",
    "            \"type\":\"writers.las\",\n",
    "            \"filename\":str(file.parent.parent / \"zo\" / f\"{file.stem}.las\"),\n",
    "            \"a_srs\": f\"EPSG:{crs}\"\n",
    "        }\n",
    "    ]\n",
    "    pdal_pipeline = pdal.Pipeline(json.dumps(pdal_pipeline_instructions))\n",
    "    pdal_pipeline.execute()"
   ]
  },
  {
   "cell_type": "markdown",
   "id": "f7e6e867-a6a6-49d9-a243-42c530afe04e",
   "metadata": {},
   "source": [
    "## Combine into a single LAZ"
   ]
  },
  {
   "cell_type": "code",
   "execution_count": null,
   "id": "668afbad-0a85-47c4-be54-0ad3a2e364e8",
   "metadata": {},
   "outputs": [],
   "source": [
    "# Create instruction\n",
    "pdal_pipeline_instructions = []\n",
    "for file in (local_path / \"zo\").iterdir():\n",
    "    if file.suffix == '.las':\n",
    "        pdal_pipeline_instructions.append(\n",
    "            {\"type\": \"readers.las\",\n",
    "            \"filename\": str(file),})\n",
    "pdal_pipeline_instructions.append({\"type\": \"filters.merge\",})\n",
    "pdal_pipeline_instructions.append(\n",
    "    {\"type\":\"writers.las\",\n",
    "     \"filename\": str(local_path / \"zo\" / \"combined.laz\"),\n",
    "     \"compression\": \"laszip\"})\n",
    "# Run pipeline\n",
    "pdal_pipeline = pdal.Pipeline(json.dumps(pdal_pipeline_instructions))\n",
    "pdal_pipeline.execute();"
   ]
  },
  {
   "cell_type": "markdown",
   "id": "bbbbf1a2-5c10-4e59-b2d7-0d9f13aefdde",
   "metadata": {},
   "source": [
    "## Rasterise 1m and save as a Geotiff"
   ]
  },
  {
   "cell_type": "markdown",
   "id": "513aa389-2e6d-4651-ab91-d7d46c7cbfea",
   "metadata": {},
   "source": [
    "## Get catchment outline"
   ]
  },
  {
   "cell_type": "code",
   "execution_count": null,
   "id": "0549ccbf-ea34-4b2b-a5c5-2834186b10b7",
   "metadata": {},
   "outputs": [],
   "source": [
    "pdal_pipeline_instructions = [ \n",
    "    { \"type\": \"readers.las\", \"filename\": str(local_path / \"zo\" / \"combined.laz\"), },\n",
    "    { \"type\": \"filters.delaunay\" },\n",
    "    { \"type\": \"filters.faceraster\", \"resolution\": 1 },\n",
    "    { \"type\": \"writers.raster\", \"filename\": str(local_path / \"zo\" / \"combined.tif\") }\n",
    "]\n",
    "pdal_pipeline = pdal.Pipeline(json.dumps(pdal_pipeline_instructions))\n",
    "pdal_pipeline.execute();\n",
    "# Write out crs information\n",
    "dem = rioxarray.open_rasterio(local_path / \"zo\" / \"combined.tif\")\n",
    "dem = dem.rio.write_crs(crs)\n",
    "dem.rio.to_raster(local_path / \"zo\" / \"combined.tif\")"
   ]
  },
  {
   "cell_type": "markdown",
   "id": "8d7165b7-5597-4cc5-9264-fc4c54dbb003",
   "metadata": {},
   "source": [
    "# Remove outliars, re-interpolate and clip\n",
    "## Get boundary"
   ]
  },
  {
   "cell_type": "raw",
   "id": "1c5e5071-c98c-4733-bfc3-25e29929b25d",
   "metadata": {},
   "source": [
    "pdal_pipeline_instructions = [\n",
    "    { \"type\": \"readers.las\",\n",
    "        \"filename\": str(local_path / \"las\" / \"combined.laz\"),},\n",
    "    {\n",
    "        \"type\" : \"filters.hexbin\",\n",
    "        \"edge_length\": 20\n",
    "        \n",
    "    }\n",
    "]\n",
    "pdal_pipeline = pdal.Pipeline(json.dumps(pdal_pipeline_instructions))\n",
    "pdal_pipeline.execute();\n",
    "\n",
    "metadata=pdal_pipeline.metadata\n",
    "polygon = shapely.wkt.loads(metadata['metadata']['filters.hexbin']['boundary'])\n",
    "polygon = geopandas.GeoDataFrame(geometry=[polygon])\n",
    "polygon = polygon.explode(index_parts=False)\n",
    "polygon = polygon[polygon.area == polygon.area.max()]\n",
    "polygon.to_file(local_path / \"combined_boundary.geojson\")"
   ]
  },
  {
   "cell_type": "markdown",
   "id": "33b603c4-df2c-4f7c-ae0b-512688c8dd4f",
   "metadata": {},
   "source": [
    "## Read in Geotiffs and clip"
   ]
  },
  {
   "cell_type": "code",
   "execution_count": null,
   "id": "5243255b-be06-4157-b4be-193b7e3409e5",
   "metadata": {},
   "outputs": [],
   "source": [
    "polygon = geopandas.read_file(local_path / \"combined_boundary_manual_crs.geojson\")\n",
    "dem = rioxarray.open_rasterio(local_path / \"las\" / \"combined.tif\")\n",
    "clipped = dem.rio.clip(polygon.geometry)\n",
    "clipped.rio.to_raster(local_path / \"las\" / \"combined_clipped.tif\")"
   ]
  },
  {
   "cell_type": "code",
   "execution_count": null,
   "id": "55976c0c-dc1a-489b-b3ce-44d58c48d6c1",
   "metadata": {},
   "outputs": [],
   "source": [
    "zo = rioxarray.open_rasterio(local_path / \"zo\" / \"combined.tif\")\n",
    "clipped = zo.rio.clip(polygon.geometry)\n",
    "clipped.rio.to_raster(local_path / \"zo\" / \"combined_clipped.tif\")"
   ]
  },
  {
   "cell_type": "markdown",
   "id": "7a726575-88cb-46be-8e41-a106cf853fdc",
   "metadata": {},
   "source": [
    "## Add a background zo layer to the lower resolution DEM"
   ]
  },
  {
   "cell_type": "code",
   "execution_count": 35,
   "id": "2f5bdddd-0ba7-4456-b532-e664f9e3b9b0",
   "metadata": {},
   "outputs": [],
   "source": [
    "zo_land = 0.2\n",
    "zo_ocean = 0.004\n",
    "\n",
    "zo = rioxarray.open_rasterio(local_path / \"5m_dem_espiritu.nc\").squeeze(\"band\", drop=True)\n",
    "zo.data[numpy.logical_not(numpy.isnan(zo.data))] = zo_land\n",
    "zo.data[numpy.isnan(zo.data)] = zo_ocean\n",
    "zo=zo.assign_attrs(STATISTICS_MAXIMUM=zo.data.max())\n",
    "zo=zo.assign_attrs(STATISTICS_MEAN=zo.data.mean())\n",
    "zo=zo.assign_attrs(STATISTICS_MINIMUM=zo.data.min())\n",
    "zo=zo.assign_attrs(STATISTICS_VALID_PERCENT=100)\n",
    "zo.to_netcdf(local_path / \"5m_zo_espiritu.nc\", format=\"NETCDF4\", engine=\"netcdf4\")"
   ]
  },
  {
   "cell_type": "code",
   "execution_count": null,
   "id": "6f56ab3b-733a-4c62-a8ab-dcf2acf507a0",
   "metadata": {},
   "outputs": [],
   "source": []
  }
 ],
 "metadata": {
  "kernelspec": {
   "display_name": "Python [conda env:geofabrics]",
   "language": "python",
   "name": "conda-env-geofabrics-py"
  },
  "language_info": {
   "codemirror_mode": {
    "name": "ipython",
    "version": 3
   },
   "file_extension": ".py",
   "mimetype": "text/x-python",
   "name": "python",
   "nbconvert_exporter": "python",
   "pygments_lexer": "ipython3",
   "version": "3.11.3"
  }
 },
 "nbformat": 4,
 "nbformat_minor": 5
}
