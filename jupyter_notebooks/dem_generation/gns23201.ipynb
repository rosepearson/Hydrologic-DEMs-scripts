{
 "cells": [
  {
   "cell_type": "markdown",
   "id": "96393706-03a4-4fd3-aa4c-a510851691c7",
   "metadata": {},
   "source": [
    "# Tile z and zo \n",
    "Tile the ASCII text files containing x, y, z and zo information."
   ]
  },
  {
   "cell_type": "code",
   "execution_count": 1,
   "id": "65a19ed7-c882-417c-9ebe-69b575f40346",
   "metadata": {},
   "outputs": [],
   "source": [
    "import pdal\n",
    "import json\n",
    "import geopandas\n",
    "import shapely\n",
    "import shapely.wkt\n",
    "import pathlib\n",
    "import shutil \n",
    "import rioxarray\n",
    "import numpy"
   ]
  },
  {
   "cell_type": "markdown",
   "id": "b4dfc55b-9bf3-46e5-a2d8-a3642f9cff8d",
   "metadata": {},
   "source": [
    "## Copy locally"
   ]
  },
  {
   "cell_type": "code",
   "execution_count": 2,
   "id": "aa4443df-8dc4-43cb-b41e-699cd24a7d6c",
   "metadata": {},
   "outputs": [],
   "source": [
    "crs = 32758\n",
    "z_low_noise = -10"
   ]
  },
  {
   "cell_type": "code",
   "execution_count": 3,
   "id": "2bd59196-a95d-49fd-9684-215a88f2d0cc",
   "metadata": {},
   "outputs": [],
   "source": [
    "# Setup remote and local paths\n",
    "remote_path = pathlib.Path(r\"\\\\niwa.local\\projects\\hamilton\\GNS23201\\Working\\Flooding\\Roughness\\Z_Zo_Tiles\")\n",
    "local_path = pathlib.Path(r\"C:\\Local\\data\\GNS23201\\tiles\")\n",
    "(local_path / \"raw\").mkdir(exist_ok = True)\n",
    "(local_path / \"las\").mkdir(exist_ok = True)\n",
    "(local_path / \"zo\").mkdir(exist_ok = True)"
   ]
  },
  {
   "cell_type": "code",
   "execution_count": 4,
   "id": "ed7b2592-d47b-4772-aa83-08f06c7c41be",
   "metadata": {},
   "outputs": [],
   "source": [
    "for file in remote_path.iterdir():\n",
    "    #print(f\"Copy {file.name} locally\") \n",
    "    shutil.copy2(file, local_path / \"raw\" / file.name)"
   ]
  },
  {
   "cell_type": "raw",
   "id": "f7be416e-650b-4fa6-840f-bf8f6da079b2",
   "metadata": {},
   "source": [
    "# Get CRS information\n",
    "remote_laz = pathlib.Path(r\"\\\\niwa.local\\projects\\hamilton\\GNS23201\\RawData\\LiDAR\\EspirituSanto000.laz\")\n",
    "local_laz = local_path / \"EspirituSanto000.laz\"\n",
    "shutil.copy2(remote_laz, local_laz)\n",
    "# In console\n",
    "# pdal info C:\\Local\\data\\GNS23201\\tiles\\EspirituSanto000.laz --metadata\n",
    "# No SRS information :("
   ]
  },
  {
   "cell_type": "markdown",
   "id": "9c3fca6e-b7f8-4dd9-ad31-cb5f885fec74",
   "metadata": {},
   "source": [
    "# Z processing\n",
    "## Convert to LAS"
   ]
  },
  {
   "cell_type": "code",
   "execution_count": 5,
   "id": "b2bd3c9a-b43f-4084-9594-47f446749751",
   "metadata": {},
   "outputs": [],
   "source": [
    "# Convert each to las\n",
    "for file in (local_path / \"raw\").iterdir():\n",
    "    #print(f\"Converting {file.name} to LAS\")\n",
    "    pdal_pipeline_instructions = [\n",
    "        {\n",
    "            \"type\": \"readers.text\",\n",
    "            \"filename\": str(file),\n",
    "            \"header\": \"X, Y, Z, Intensity\"\n",
    "        },\n",
    "        {\n",
    "            \"type\":\"writers.las\",\n",
    "            \"filename\":str(file.parent.parent / \"las\" / f\"{file.stem}.las\"),\n",
    "            \"a_srs\": f\"EPSG:{crs}\"\n",
    "        }\n",
    "    ]\n",
    "    pdal_pipeline = pdal.Pipeline(json.dumps(pdal_pipeline_instructions))\n",
    "    pdal_pipeline.execute()"
   ]
  },
  {
   "cell_type": "markdown",
   "id": "3f77a56c-e915-4ef6-b1a4-4c97c8e5943e",
   "metadata": {},
   "source": [
    "## Combine into a single LAZ"
   ]
  },
  {
   "cell_type": "code",
   "execution_count": 6,
   "id": "b20b7cf7-d875-45a8-9108-86c1380b81a6",
   "metadata": {},
   "outputs": [],
   "source": [
    "# Create instruction\n",
    "pdal_pipeline_instructions = []\n",
    "for file in (local_path / \"las\").iterdir():\n",
    "    if file.suffix == '.las':\n",
    "        pdal_pipeline_instructions.append(\n",
    "            {\"type\": \"readers.las\",\n",
    "            \"filename\": str(file),})\n",
    "pdal_pipeline_instructions.append({\"type\": \"filters.merge\",})\n",
    "pdal_pipeline_instructions.append(\n",
    "    {\"type\":\"writers.las\",\n",
    "     \"filename\": str(local_path / \"las\" / \"combined.laz\"),\n",
    "     \"a_srs\": f\"EPSG:{crs}\",\n",
    "     \"compression\": \"laszip\"})\n",
    "# Run pipeline\n",
    "pdal_pipeline = pdal.Pipeline(json.dumps(pdal_pipeline_instructions))\n",
    "pdal_pipeline.execute();"
   ]
  },
  {
   "cell_type": "markdown",
   "id": "ab629474-1ad4-49cf-a5e6-3dbb6aa3d36b",
   "metadata": {},
   "source": [
    "## Remove noise points"
   ]
  },
  {
   "cell_type": "code",
   "execution_count": 7,
   "id": "93857990-a65b-473a-b1b3-30207d997c5d",
   "metadata": {},
   "outputs": [
    {
     "ename": "CPLE_AppDefinedError",
     "evalue": "Deleting C:/Local/data/GNS23201/tiles/las/combined.tif failed: Permission denied",
     "output_type": "error",
     "traceback": [
      "\u001b[1;31m---------------------------------------------------------------------------\u001b[0m",
      "\u001b[1;31mCPLE_AppDefinedError\u001b[0m                      Traceback (most recent call last)",
      "Cell \u001b[1;32mIn[7], line 22\u001b[0m\n\u001b[0;32m     20\u001b[0m dem \u001b[38;5;241m=\u001b[39m rioxarray\u001b[38;5;241m.\u001b[39mopen_rasterio(local_path \u001b[38;5;241m/\u001b[39m \u001b[38;5;124m\"\u001b[39m\u001b[38;5;124mlas\u001b[39m\u001b[38;5;124m\"\u001b[39m \u001b[38;5;241m/\u001b[39m \u001b[38;5;124m\"\u001b[39m\u001b[38;5;124mcombined.tif\u001b[39m\u001b[38;5;124m\"\u001b[39m)\n\u001b[0;32m     21\u001b[0m dem \u001b[38;5;241m=\u001b[39m dem\u001b[38;5;241m.\u001b[39mrio\u001b[38;5;241m.\u001b[39mwrite_crs(crs)\n\u001b[1;32m---> 22\u001b[0m \u001b[43mdem\u001b[49m\u001b[38;5;241;43m.\u001b[39;49m\u001b[43mrio\u001b[49m\u001b[38;5;241;43m.\u001b[39;49m\u001b[43mto_raster\u001b[49m\u001b[43m(\u001b[49m\u001b[43mlocal_path\u001b[49m\u001b[43m \u001b[49m\u001b[38;5;241;43m/\u001b[39;49m\u001b[43m \u001b[49m\u001b[38;5;124;43m\"\u001b[39;49m\u001b[38;5;124;43mlas\u001b[39;49m\u001b[38;5;124;43m\"\u001b[39;49m\u001b[43m \u001b[49m\u001b[38;5;241;43m/\u001b[39;49m\u001b[43m \u001b[49m\u001b[38;5;124;43m\"\u001b[39;49m\u001b[38;5;124;43mcombined.tif\u001b[39;49m\u001b[38;5;124;43m\"\u001b[39;49m\u001b[43m)\u001b[49m\n",
      "File \u001b[1;32m~\\Anaconda3\\envs\\geofabrics\\Lib\\site-packages\\rioxarray\\raster_array.py:1119\u001b[0m, in \u001b[0;36mRasterArray.to_raster\u001b[1;34m(self, raster_path, driver, dtype, tags, windowed, recalc_transform, lock, compute, **profile_kwargs)\u001b[0m\n\u001b[0;32m   1100\u001b[0m out_profile \u001b[38;5;241m=\u001b[39m {\n\u001b[0;32m   1101\u001b[0m     key: value\n\u001b[0;32m   1102\u001b[0m     \u001b[38;5;28;01mfor\u001b[39;00m key, value \u001b[38;5;129;01min\u001b[39;00m out_profile\u001b[38;5;241m.\u001b[39mitems()\n\u001b[1;32m   (...)\u001b[0m\n\u001b[0;32m   1113\u001b[0m     )\n\u001b[0;32m   1114\u001b[0m }\n\u001b[0;32m   1115\u001b[0m rio_nodata \u001b[38;5;241m=\u001b[39m (\n\u001b[0;32m   1116\u001b[0m     \u001b[38;5;28mself\u001b[39m\u001b[38;5;241m.\u001b[39mencoded_nodata \u001b[38;5;28;01mif\u001b[39;00m \u001b[38;5;28mself\u001b[39m\u001b[38;5;241m.\u001b[39mencoded_nodata \u001b[38;5;129;01mis\u001b[39;00m \u001b[38;5;129;01mnot\u001b[39;00m \u001b[38;5;28;01mNone\u001b[39;00m \u001b[38;5;28;01melse\u001b[39;00m \u001b[38;5;28mself\u001b[39m\u001b[38;5;241m.\u001b[39mnodata\n\u001b[0;32m   1117\u001b[0m )\n\u001b[1;32m-> 1119\u001b[0m \u001b[38;5;28;01mreturn\u001b[39;00m \u001b[43mRasterioWriter\u001b[49m\u001b[43m(\u001b[49m\u001b[43mraster_path\u001b[49m\u001b[38;5;241;43m=\u001b[39;49m\u001b[43mraster_path\u001b[49m\u001b[43m)\u001b[49m\u001b[38;5;241;43m.\u001b[39;49m\u001b[43mto_raster\u001b[49m\u001b[43m(\u001b[49m\n\u001b[0;32m   1120\u001b[0m \u001b[43m    \u001b[49m\u001b[43mxarray_dataarray\u001b[49m\u001b[38;5;241;43m=\u001b[39;49m\u001b[38;5;28;43mself\u001b[39;49m\u001b[38;5;241;43m.\u001b[39;49m\u001b[43m_obj\u001b[49m\u001b[43m,\u001b[49m\n\u001b[0;32m   1121\u001b[0m \u001b[43m    \u001b[49m\u001b[43mtags\u001b[49m\u001b[38;5;241;43m=\u001b[39;49m\u001b[43mtags\u001b[49m\u001b[43m,\u001b[49m\n\u001b[0;32m   1122\u001b[0m \u001b[43m    \u001b[49m\u001b[43mdriver\u001b[49m\u001b[38;5;241;43m=\u001b[39;49m\u001b[43mdriver\u001b[49m\u001b[43m,\u001b[49m\n\u001b[0;32m   1123\u001b[0m \u001b[43m    \u001b[49m\u001b[43mheight\u001b[49m\u001b[38;5;241;43m=\u001b[39;49m\u001b[38;5;28;43mint\u001b[39;49m\u001b[43m(\u001b[49m\u001b[38;5;28;43mself\u001b[39;49m\u001b[38;5;241;43m.\u001b[39;49m\u001b[43mheight\u001b[49m\u001b[43m)\u001b[49m\u001b[43m,\u001b[49m\n\u001b[0;32m   1124\u001b[0m \u001b[43m    \u001b[49m\u001b[43mwidth\u001b[49m\u001b[38;5;241;43m=\u001b[39;49m\u001b[38;5;28;43mint\u001b[39;49m\u001b[43m(\u001b[49m\u001b[38;5;28;43mself\u001b[39;49m\u001b[38;5;241;43m.\u001b[39;49m\u001b[43mwidth\u001b[49m\u001b[43m)\u001b[49m\u001b[43m,\u001b[49m\n\u001b[0;32m   1125\u001b[0m \u001b[43m    \u001b[49m\u001b[43mcount\u001b[49m\u001b[38;5;241;43m=\u001b[39;49m\u001b[38;5;28;43mint\u001b[39;49m\u001b[43m(\u001b[49m\u001b[38;5;28;43mself\u001b[39;49m\u001b[38;5;241;43m.\u001b[39;49m\u001b[43mcount\u001b[49m\u001b[43m)\u001b[49m\u001b[43m,\u001b[49m\n\u001b[0;32m   1126\u001b[0m \u001b[43m    \u001b[49m\u001b[43mdtype\u001b[49m\u001b[38;5;241;43m=\u001b[39;49m\u001b[43mdtype\u001b[49m\u001b[43m,\u001b[49m\n\u001b[0;32m   1127\u001b[0m \u001b[43m    \u001b[49m\u001b[43mcrs\u001b[49m\u001b[38;5;241;43m=\u001b[39;49m\u001b[38;5;28;43mself\u001b[39;49m\u001b[38;5;241;43m.\u001b[39;49m\u001b[43mcrs\u001b[49m\u001b[43m,\u001b[49m\n\u001b[0;32m   1128\u001b[0m \u001b[43m    \u001b[49m\u001b[43mtransform\u001b[49m\u001b[38;5;241;43m=\u001b[39;49m\u001b[38;5;28;43mself\u001b[39;49m\u001b[38;5;241;43m.\u001b[39;49m\u001b[43mtransform\u001b[49m\u001b[43m(\u001b[49m\u001b[43mrecalc\u001b[49m\u001b[38;5;241;43m=\u001b[39;49m\u001b[43mrecalc_transform\u001b[49m\u001b[43m)\u001b[49m\u001b[43m,\u001b[49m\n\u001b[0;32m   1129\u001b[0m \u001b[43m    \u001b[49m\u001b[43mgcps\u001b[49m\u001b[38;5;241;43m=\u001b[39;49m\u001b[38;5;28;43mself\u001b[39;49m\u001b[38;5;241;43m.\u001b[39;49m\u001b[43mget_gcps\u001b[49m\u001b[43m(\u001b[49m\u001b[43m)\u001b[49m\u001b[43m,\u001b[49m\n\u001b[0;32m   1130\u001b[0m \u001b[43m    \u001b[49m\u001b[43mnodata\u001b[49m\u001b[38;5;241;43m=\u001b[39;49m\u001b[43mrio_nodata\u001b[49m\u001b[43m,\u001b[49m\n\u001b[0;32m   1131\u001b[0m \u001b[43m    \u001b[49m\u001b[43mwindowed\u001b[49m\u001b[38;5;241;43m=\u001b[39;49m\u001b[43mwindowed\u001b[49m\u001b[43m,\u001b[49m\n\u001b[0;32m   1132\u001b[0m \u001b[43m    \u001b[49m\u001b[43mlock\u001b[49m\u001b[38;5;241;43m=\u001b[39;49m\u001b[43mlock\u001b[49m\u001b[43m,\u001b[49m\n\u001b[0;32m   1133\u001b[0m \u001b[43m    \u001b[49m\u001b[43mcompute\u001b[49m\u001b[38;5;241;43m=\u001b[39;49m\u001b[43mcompute\u001b[49m\u001b[43m,\u001b[49m\n\u001b[0;32m   1134\u001b[0m \u001b[43m    \u001b[49m\u001b[38;5;241;43m*\u001b[39;49m\u001b[38;5;241;43m*\u001b[39;49m\u001b[43mout_profile\u001b[49m\u001b[43m,\u001b[49m\n\u001b[0;32m   1135\u001b[0m \u001b[43m\u001b[49m\u001b[43m)\u001b[49m\n",
      "File \u001b[1;32m~\\Anaconda3\\envs\\geofabrics\\Lib\\site-packages\\rioxarray\\raster_writer.py:273\u001b[0m, in \u001b[0;36mRasterioWriter.to_raster\u001b[1;34m(self, xarray_dataarray, tags, windowed, lock, compute, **kwargs)\u001b[0m\n\u001b[0;32m    267\u001b[0m \u001b[38;5;28;01mif\u001b[39;00m kwargs[\u001b[38;5;124m\"\u001b[39m\u001b[38;5;124mnodata\u001b[39m\u001b[38;5;124m\"\u001b[39m] \u001b[38;5;129;01mis\u001b[39;00m \u001b[38;5;129;01mnot\u001b[39;00m \u001b[38;5;28;01mNone\u001b[39;00m:\n\u001b[0;32m    268\u001b[0m     \u001b[38;5;66;03m# Ensure dtype of output data matches the expected dtype.\u001b[39;00m\n\u001b[0;32m    269\u001b[0m     \u001b[38;5;66;03m# This check is added here as the dtype of the data is\u001b[39;00m\n\u001b[0;32m    270\u001b[0m     \u001b[38;5;66;03m# converted right before writing.\u001b[39;00m\n\u001b[0;32m    271\u001b[0m     kwargs[\u001b[38;5;124m\"\u001b[39m\u001b[38;5;124mnodata\u001b[39m\u001b[38;5;124m\"\u001b[39m] \u001b[38;5;241m=\u001b[39m _ensure_nodata_dtype(kwargs[\u001b[38;5;124m\"\u001b[39m\u001b[38;5;124mnodata\u001b[39m\u001b[38;5;124m\"\u001b[39m], numpy_dtype)\n\u001b[1;32m--> 273\u001b[0m \u001b[38;5;28;01mwith\u001b[39;00m \u001b[43mrasterio\u001b[49m\u001b[38;5;241;43m.\u001b[39;49m\u001b[43mopen\u001b[49m\u001b[43m(\u001b[49m\u001b[38;5;28;43mself\u001b[39;49m\u001b[38;5;241;43m.\u001b[39;49m\u001b[43mraster_path\u001b[49m\u001b[43m,\u001b[49m\u001b[43m \u001b[49m\u001b[38;5;124;43m\"\u001b[39;49m\u001b[38;5;124;43mw\u001b[39;49m\u001b[38;5;124;43m\"\u001b[39;49m\u001b[43m,\u001b[49m\u001b[43m \u001b[49m\u001b[38;5;241;43m*\u001b[39;49m\u001b[38;5;241;43m*\u001b[39;49m\u001b[43mkwargs\u001b[49m\u001b[43m)\u001b[49m \u001b[38;5;28;01mas\u001b[39;00m rds:\n\u001b[0;32m    274\u001b[0m     _write_metatata_to_raster(rds, xarray_dataarray, tags)\n\u001b[0;32m    275\u001b[0m     \u001b[38;5;28;01mif\u001b[39;00m \u001b[38;5;129;01mnot\u001b[39;00m (lock \u001b[38;5;129;01mand\u001b[39;00m is_dask_collection(xarray_dataarray\u001b[38;5;241m.\u001b[39mdata)):\n\u001b[0;32m    276\u001b[0m         \u001b[38;5;66;03m# write data to raster immmediately if not dask array\u001b[39;00m\n",
      "File \u001b[1;32m~\\Anaconda3\\envs\\geofabrics\\Lib\\site-packages\\rasterio\\env.py:451\u001b[0m, in \u001b[0;36mensure_env_with_credentials.<locals>.wrapper\u001b[1;34m(*args, **kwds)\u001b[0m\n\u001b[0;32m    448\u001b[0m     session \u001b[38;5;241m=\u001b[39m DummySession()\n\u001b[0;32m    450\u001b[0m \u001b[38;5;28;01mwith\u001b[39;00m env_ctor(session\u001b[38;5;241m=\u001b[39msession):\n\u001b[1;32m--> 451\u001b[0m     \u001b[38;5;28;01mreturn\u001b[39;00m \u001b[43mf\u001b[49m\u001b[43m(\u001b[49m\u001b[38;5;241;43m*\u001b[39;49m\u001b[43margs\u001b[49m\u001b[43m,\u001b[49m\u001b[43m \u001b[49m\u001b[38;5;241;43m*\u001b[39;49m\u001b[38;5;241;43m*\u001b[39;49m\u001b[43mkwds\u001b[49m\u001b[43m)\u001b[49m\n",
      "File \u001b[1;32m~\\Anaconda3\\envs\\geofabrics\\Lib\\site-packages\\rasterio\\__init__.py:314\u001b[0m, in \u001b[0;36mopen\u001b[1;34m(fp, mode, driver, width, height, count, crs, transform, dtype, nodata, sharing, **kwargs)\u001b[0m\n\u001b[0;32m    312\u001b[0m writer \u001b[38;5;241m=\u001b[39m get_writer_for_driver(driver)\n\u001b[0;32m    313\u001b[0m \u001b[38;5;28;01mif\u001b[39;00m writer \u001b[38;5;129;01mis\u001b[39;00m \u001b[38;5;129;01mnot\u001b[39;00m \u001b[38;5;28;01mNone\u001b[39;00m:\n\u001b[1;32m--> 314\u001b[0m     dataset \u001b[38;5;241m=\u001b[39m \u001b[43mwriter\u001b[49m\u001b[43m(\u001b[49m\n\u001b[0;32m    315\u001b[0m \u001b[43m        \u001b[49m\u001b[43mpath\u001b[49m\u001b[43m,\u001b[49m\n\u001b[0;32m    316\u001b[0m \u001b[43m        \u001b[49m\u001b[43mmode\u001b[49m\u001b[43m,\u001b[49m\n\u001b[0;32m    317\u001b[0m \u001b[43m        \u001b[49m\u001b[43mdriver\u001b[49m\u001b[38;5;241;43m=\u001b[39;49m\u001b[43mdriver\u001b[49m\u001b[43m,\u001b[49m\n\u001b[0;32m    318\u001b[0m \u001b[43m        \u001b[49m\u001b[43mwidth\u001b[49m\u001b[38;5;241;43m=\u001b[39;49m\u001b[43mwidth\u001b[49m\u001b[43m,\u001b[49m\n\u001b[0;32m    319\u001b[0m \u001b[43m        \u001b[49m\u001b[43mheight\u001b[49m\u001b[38;5;241;43m=\u001b[39;49m\u001b[43mheight\u001b[49m\u001b[43m,\u001b[49m\n\u001b[0;32m    320\u001b[0m \u001b[43m        \u001b[49m\u001b[43mcount\u001b[49m\u001b[38;5;241;43m=\u001b[39;49m\u001b[43mcount\u001b[49m\u001b[43m,\u001b[49m\n\u001b[0;32m    321\u001b[0m \u001b[43m        \u001b[49m\u001b[43mcrs\u001b[49m\u001b[38;5;241;43m=\u001b[39;49m\u001b[43mcrs\u001b[49m\u001b[43m,\u001b[49m\n\u001b[0;32m    322\u001b[0m \u001b[43m        \u001b[49m\u001b[43mtransform\u001b[49m\u001b[38;5;241;43m=\u001b[39;49m\u001b[43mtransform\u001b[49m\u001b[43m,\u001b[49m\n\u001b[0;32m    323\u001b[0m \u001b[43m        \u001b[49m\u001b[43mdtype\u001b[49m\u001b[38;5;241;43m=\u001b[39;49m\u001b[43mdtype\u001b[49m\u001b[43m,\u001b[49m\n\u001b[0;32m    324\u001b[0m \u001b[43m        \u001b[49m\u001b[43mnodata\u001b[49m\u001b[38;5;241;43m=\u001b[39;49m\u001b[43mnodata\u001b[49m\u001b[43m,\u001b[49m\n\u001b[0;32m    325\u001b[0m \u001b[43m        \u001b[49m\u001b[43msharing\u001b[49m\u001b[38;5;241;43m=\u001b[39;49m\u001b[43msharing\u001b[49m\u001b[43m,\u001b[49m\n\u001b[0;32m    326\u001b[0m \u001b[43m        \u001b[49m\u001b[38;5;241;43m*\u001b[39;49m\u001b[38;5;241;43m*\u001b[39;49m\u001b[43mkwargs\u001b[49m\n\u001b[0;32m    327\u001b[0m \u001b[43m    \u001b[49m\u001b[43m)\u001b[49m\n\u001b[0;32m    328\u001b[0m \u001b[38;5;28;01melse\u001b[39;00m:\n\u001b[0;32m    329\u001b[0m     \u001b[38;5;28;01mraise\u001b[39;00m DriverCapabilityError(\n\u001b[0;32m    330\u001b[0m         \u001b[38;5;124m\"\u001b[39m\u001b[38;5;124mWriter does not exist for driver: \u001b[39m\u001b[38;5;132;01m%s\u001b[39;00m\u001b[38;5;124m\"\u001b[39m \u001b[38;5;241m%\u001b[39m \u001b[38;5;28mstr\u001b[39m(driver)\n\u001b[0;32m    331\u001b[0m     )\n",
      "File \u001b[1;32mrasterio\\_io.pyx:1430\u001b[0m, in \u001b[0;36mrasterio._io.DatasetWriterBase.__init__\u001b[1;34m()\u001b[0m\n",
      "File \u001b[1;32mrasterio\\_io.pyx:293\u001b[0m, in \u001b[0;36mrasterio._io._delete_dataset_if_exists\u001b[1;34m()\u001b[0m\n",
      "File \u001b[1;32mrasterio\\_err.pyx:195\u001b[0m, in \u001b[0;36mrasterio._err.exc_wrap_int\u001b[1;34m()\u001b[0m\n",
      "\u001b[1;31mCPLE_AppDefinedError\u001b[0m: Deleting C:/Local/data/GNS23201/tiles/las/combined.tif failed: Permission denied"
     ]
    }
   ],
   "source": [
    "pdal_pipeline_instructions = [ \n",
    "    { \"type\": \"readers.las\", \"filename\": str(local_path / \"las\" / \"combined.laz\"), }\n",
    "]\n",
    "pdal_pipeline = pdal.Pipeline(json.dumps(pdal_pipeline_instructions))\n",
    "pdal_pipeline.execute();\n",
    "# Remove noise\n",
    "points = pdal_pipeline.arrays[0]\n",
    "points = points[points['Z'] > z_low_noise]\n",
    "# Write out value\n",
    "pdal_pipeline_instructions = [\n",
    "            {\"type\": \"writers.las\", \"filename\": str(local_path / \"las\" / \"combined_no_noise.laz\"),\n",
    "             \"compression\": \"laszip\",\n",
    "             \"a_srs\": f\"EPSG:{crs}\"\n",
    "            }\n",
    "        ]\n",
    "\n",
    "pdal_pipeline = pdal.Pipeline(json.dumps(pdal_pipeline_instructions), [points])\n",
    "pdal_pipeline.execute()\n",
    "# Write out crs information\n",
    "dem = rioxarray.open_rasterio(local_path / \"las\" / \"combined.tif\")\n",
    "dem = dem.rio.write_crs(crs)\n",
    "dem.rio.to_raster(local_path / \"las\" / \"combined.tif\")"
   ]
  },
  {
   "cell_type": "code",
   "execution_count": null,
   "id": "0a329907-2bd3-4fd1-8daf-e061e174a615",
   "metadata": {},
   "outputs": [],
   "source": [
    "pdal_pipeline_instructions = [\n",
    "            {\"type\": \"writers.las\", \"filename\": str(local_path / \"las\" / \"combined_no_noise.laz\"),\n",
    "                \"compression\": \"laszip\",\n",
    "            }\n",
    "        ]\n",
    "\n",
    "pdal_pipeline = pdal.Pipeline(json.dumps(pdal_pipeline_instructions), [points])\n",
    "pdal_pipeline.execute()"
   ]
  },
  {
   "cell_type": "markdown",
   "id": "a49287f7-e186-4298-b29b-b8a45b92cbcd",
   "metadata": {},
   "source": [
    "## Rasterise at 1m and save as a Geotiff"
   ]
  },
  {
   "cell_type": "code",
   "execution_count": null,
   "id": "45925c2e-aa54-4472-8c0c-3561b256e6c1",
   "metadata": {},
   "outputs": [],
   "source": [
    "pdal_pipeline_instructions = [ \n",
    "    { \"type\": \"readers.las\", \"filename\": str(local_path / \"las\" / \"combined_no_noise.laz\"), },\n",
    "    { \"type\": \"filters.delaunay\" },\n",
    "    { \"type\": \"filters.faceraster\", \"resolution\": 1 },\n",
    "    { \"type\": \"writers.raster\", \"filename\": str(local_path / \"las\" / \"combined.tif\") }\n",
    "]\n",
    "pdal_pipeline = pdal.Pipeline(json.dumps(pdal_pipeline_instructions))\n",
    "pdal_pipeline.execute();"
   ]
  },
  {
   "cell_type": "markdown",
   "id": "a13e6105-1f6b-4929-9dcd-3ffefc477848",
   "metadata": {},
   "source": [
    "# zo processing\n",
    "## Save a LAZ with zo as Z"
   ]
  },
  {
   "cell_type": "code",
   "execution_count": null,
   "id": "3aa18272-e732-4062-a51c-630f6e540b87",
   "metadata": {},
   "outputs": [],
   "source": [
    "# Convert each to las\n",
    "for file in (local_path / \"raw\").iterdir():\n",
    "    #print(f\"Converting {file.name} to LAS\")\n",
    "    pdal_pipeline_instructions = [\n",
    "        {\n",
    "            \"type\": \"readers.text\",\n",
    "            \"filename\": str(file),\n",
    "            \"header\": \"X, Y, zo, Z\"\n",
    "        },\n",
    "        {\n",
    "            \"type\":\"writers.las\",\n",
    "            \"filename\":str(file.parent.parent / \"zo\" / f\"{file.stem}.las\"),\n",
    "            \"a_srs\": f\"EPSG:{crs}\"\n",
    "        }\n",
    "    ]\n",
    "    pdal_pipeline = pdal.Pipeline(json.dumps(pdal_pipeline_instructions))\n",
    "    pdal_pipeline.execute()"
   ]
  },
  {
   "cell_type": "markdown",
   "id": "f7e6e867-a6a6-49d9-a243-42c530afe04e",
   "metadata": {},
   "source": [
    "## Combine into a single LAZ"
   ]
  },
  {
   "cell_type": "code",
   "execution_count": null,
   "id": "668afbad-0a85-47c4-be54-0ad3a2e364e8",
   "metadata": {},
   "outputs": [],
   "source": [
    "# Create instruction\n",
    "pdal_pipeline_instructions = []\n",
    "for file in (local_path / \"zo\").iterdir():\n",
    "    if file.suffix == '.las':\n",
    "        pdal_pipeline_instructions.append(\n",
    "            {\"type\": \"readers.las\",\n",
    "            \"filename\": str(file),})\n",
    "pdal_pipeline_instructions.append({\"type\": \"filters.merge\",})\n",
    "pdal_pipeline_instructions.append(\n",
    "    {\"type\":\"writers.las\",\n",
    "     \"filename\": str(local_path / \"zo\" / \"combined.laz\"),\n",
    "     \"compression\": \"laszip\"})\n",
    "# Run pipeline\n",
    "pdal_pipeline = pdal.Pipeline(json.dumps(pdal_pipeline_instructions))\n",
    "pdal_pipeline.execute();"
   ]
  },
  {
   "cell_type": "markdown",
   "id": "bbbbf1a2-5c10-4e59-b2d7-0d9f13aefdde",
   "metadata": {},
   "source": [
    "## Rasterise 1m and save as a Geotiff"
   ]
  },
  {
   "cell_type": "markdown",
   "id": "513aa389-2e6d-4651-ab91-d7d46c7cbfea",
   "metadata": {},
   "source": [
    "## Get catchment outline"
   ]
  },
  {
   "cell_type": "code",
   "execution_count": null,
   "id": "0549ccbf-ea34-4b2b-a5c5-2834186b10b7",
   "metadata": {},
   "outputs": [],
   "source": [
    "pdal_pipeline_instructions = [ \n",
    "    { \"type\": \"readers.las\", \"filename\": str(local_path / \"zo\" / \"combined.laz\"), },\n",
    "    { \"type\": \"filters.delaunay\" },\n",
    "    { \"type\": \"filters.faceraster\", \"resolution\": 1 },\n",
    "    { \"type\": \"writers.raster\", \"filename\": str(local_path / \"zo\" / \"combined.tif\") }\n",
    "]\n",
    "pdal_pipeline = pdal.Pipeline(json.dumps(pdal_pipeline_instructions))\n",
    "pdal_pipeline.execute();\n",
    "# Write out crs information\n",
    "dem = rioxarray.open_rasterio(local_path / \"zo\" / \"combined.tif\")\n",
    "dem = dem.rio.write_crs(crs)\n",
    "dem.rio.to_raster(local_path / \"zo\" / \"combined.tif\")"
   ]
  },
  {
   "cell_type": "markdown",
   "id": "8d7165b7-5597-4cc5-9264-fc4c54dbb003",
   "metadata": {},
   "source": [
    "# Remove outliars, re-interpolate and clip\n",
    "## Get boundary"
   ]
  },
  {
   "cell_type": "raw",
   "id": "1c5e5071-c98c-4733-bfc3-25e29929b25d",
   "metadata": {},
   "source": [
    "pdal_pipeline_instructions = [\n",
    "    { \"type\": \"readers.las\",\n",
    "        \"filename\": str(local_path / \"las\" / \"combined.laz\"),},\n",
    "    {\n",
    "        \"type\" : \"filters.hexbin\",\n",
    "        \"edge_length\": 20\n",
    "        \n",
    "    }\n",
    "]\n",
    "pdal_pipeline = pdal.Pipeline(json.dumps(pdal_pipeline_instructions))\n",
    "pdal_pipeline.execute();\n",
    "\n",
    "metadata=pdal_pipeline.metadata\n",
    "polygon = shapely.wkt.loads(metadata['metadata']['filters.hexbin']['boundary'])\n",
    "polygon = geopandas.GeoDataFrame(geometry=[polygon])\n",
    "polygon = polygon.explode(index_parts=False)\n",
    "polygon = polygon[polygon.area == polygon.area.max()]\n",
    "polygon.to_file(local_path / \"combined_boundary.geojson\")"
   ]
  },
  {
   "cell_type": "markdown",
   "id": "33b603c4-df2c-4f7c-ae0b-512688c8dd4f",
   "metadata": {},
   "source": [
    "## Read in Geotiffs and clip"
   ]
  },
  {
   "cell_type": "code",
   "execution_count": null,
   "id": "5243255b-be06-4157-b4be-193b7e3409e5",
   "metadata": {},
   "outputs": [],
   "source": [
    "polygon = geopandas.read_file(local_path / \"combined_boundary_manual_crs.geojson\")\n",
    "dem = rioxarray.open_rasterio(local_path / \"las\" / \"combined.tif\")\n",
    "clipped = dem.rio.clip(polygon.geometry)\n",
    "clipped.rio.to_raster(local_path / \"las\" / \"combined_clipped.tif\")"
   ]
  },
  {
   "cell_type": "code",
   "execution_count": null,
   "id": "55976c0c-dc1a-489b-b3ce-44d58c48d6c1",
   "metadata": {},
   "outputs": [],
   "source": [
    "zo = rioxarray.open_rasterio(local_path / \"zo\" / \"combined.tif\")\n",
    "clipped = zo.rio.clip(polygon.geometry)\n",
    "clipped.rio.to_raster(local_path / \"zo\" / \"combined_clipped.tif\")"
   ]
  },
  {
   "cell_type": "markdown",
   "id": "7a726575-88cb-46be-8e41-a106cf853fdc",
   "metadata": {},
   "source": [
    "## Add a background zo layer to the lower resolution DEM"
   ]
  },
  {
   "cell_type": "code",
   "execution_count": 35,
   "id": "2f5bdddd-0ba7-4456-b532-e664f9e3b9b0",
   "metadata": {},
   "outputs": [],
   "source": [
    "zo_land = 0.2\n",
    "zo_ocean = 0.004\n",
    "\n",
    "zo = rioxarray.open_rasterio(local_path / \"5m_dem_espiritu.nc\").squeeze(\"band\", drop=True)\n",
    "zo.data[numpy.logical_not(numpy.isnan(zo.data))] = zo_land\n",
    "zo.data[numpy.isnan(zo.data)] = zo_ocean\n",
    "zo=zo.assign_attrs(STATISTICS_MAXIMUM=zo.data.max())\n",
    "zo=zo.assign_attrs(STATISTICS_MEAN=zo.data.mean())\n",
    "zo=zo.assign_attrs(STATISTICS_MINIMUM=zo.data.min())\n",
    "zo=zo.assign_attrs(STATISTICS_VALID_PERCENT=100)\n",
    "zo.to_netcdf(local_path / \"5m_zo_espiritu.nc\", format=\"NETCDF4\", engine=\"netcdf4\")"
   ]
  },
  {
   "cell_type": "code",
   "execution_count": null,
   "id": "6f56ab3b-733a-4c62-a8ab-dcf2acf507a0",
   "metadata": {},
   "outputs": [],
   "source": []
  }
 ],
 "metadata": {
  "kernelspec": {
   "display_name": "Python [conda env:geofabrics]",
   "language": "python",
   "name": "conda-env-geofabrics-py"
  },
  "language_info": {
   "codemirror_mode": {
    "name": "ipython",
    "version": 3
   },
   "file_extension": ".py",
   "mimetype": "text/x-python",
   "name": "python",
   "nbconvert_exporter": "python",
   "pygments_lexer": "ipython3",
   "version": "3.11.3"
  }
 },
 "nbformat": 4,
 "nbformat_minor": 5
}
