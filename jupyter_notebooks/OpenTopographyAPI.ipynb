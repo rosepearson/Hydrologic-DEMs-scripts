{
 "cells": [
  {
   "cell_type": "code",
   "execution_count": null,
   "metadata": {},
   "outputs": [],
   "source": [
    "import pathlib\n",
    "import requests\n",
    "import urllib\n",
    "import boto3\n",
    "import botocore"
   ]
  },
  {
   "cell_type": "code",
   "execution_count": null,
   "metadata": {},
   "outputs": [],
   "source": [
    "SCHEME = \"https\"\n",
    "NETLOC = \"portal.opentopography.org\"\n",
    "PATH = \"/API/otCatalog\""
   ]
  },
  {
   "cell_type": "code",
   "execution_count": null,
   "metadata": {},
   "outputs": [],
   "source": [
    "params = {\n",
    "        \"productFormat\": \"PointCloud\",\n",
    "        \"minx\": -117.4,\n",
    "        \"miny\": 33.4,\n",
    "        \"maxx\": -115.5,\n",
    "        \"maxy\": 34.9,\n",
    "        \"detail\": False,\n",
    "        \"outputFormat\": \"json\",\n",
    "        \"inlcude_federated\": True\n",
    "    }\n",
    "data_info_stub = 'https://portal.opentopography.org/datasetMetadata?otCollectionID='"
   ]
  },
  {
   "cell_type": "code",
   "execution_count": null,
   "metadata": {},
   "outputs": [],
   "source": [
    "data_url = urllib.parse.urlunparse((SCHEME, NETLOC, PATH, \"\", \"\", \"\"))\n",
    "\n",
    "response = requests.get(data_url, params=params, stream=True)\n",
    "response.raise_for_status()"
   ]
  },
  {
   "cell_type": "code",
   "execution_count": null,
   "metadata": {},
   "outputs": [],
   "source": [
    "json_response"
   ]
  },
  {
   "cell_type": "code",
   "execution_count": null,
   "metadata": {},
   "outputs": [],
   "source": [
    "json_response=response.json()\n",
    "id_name=json_response['Datasets'][0]['Dataset']['identifier']['value']\n",
    "\n",
    "data_info_stub + id_name.replace('OTLAS', 'OT')"
   ]
  },
  {
   "cell_type": "code",
   "execution_count": null,
   "metadata": {},
   "outputs": [],
   "source": [
    "USER_AGENT = 'Mozilla/5.0 (Windows NT 10.0; Win64; x64) AppleWebKit/537.36 (KHTML, like Gecko) Chrome/91.0.4472.124 Safari/537.36'\n",
    "USER_AGENT = 'Mozilla/5.0 (iPad; U; CPU OS 3_2_1 like Mac OS X; en-us) AppleWebKit/531.21.10 (KHTML, like Gecko) Mobile/7B405'\n",
    "#opener = urllib.request.URLopener()\n",
    "#opener.addheader('User-Agent', USER_AGENT)\n",
    "#filename, headers = opener.retrieve(tile_url, self.cache_path / pathlib.Path(tile_name))\n",
    "        "
   ]
  },
  {
   "cell_type": "markdown",
   "metadata": {},
   "source": [
    "# Try download file - get permission denied"
   ]
  },
  {
   "cell_type": "code",
   "execution_count": null,
   "metadata": {},
   "outputs": [],
   "source": [
    "headers = {'User-Agent': USER_AGENT}\n",
    "tile_url = \"https://opentopography.s3.sdsc.edu/minio/pc-bulk/Wellington_2013/Wellington_2013_TileIndex.zip\"\n",
    "dest_path = r\"C:\\Users\\pearsonra\\Documents\\data\\Wakanae\\local_cache\\test.zip\"\n",
    "r = requests.get(tile_url, headers=headers, stream=True)\n",
    "with open(dest_path, 'wb') as fd:\n",
    "    for chunk in r.iter_content(): #chunk_size=chunk_size\n",
    "        fd.write(chunk)"
   ]
  },
  {
   "cell_type": "markdown",
   "metadata": {},
   "source": [
    "# AWS CLI that work\n",
    "` C:\\Users\\pearsonra>aws s3 ls s3://pc-bulk/Wellington_2013/Wellington_2013_TileIndex.zip --recursive --endpoint-url https://opentopography.s3.sdsc.edu --no-sign-request`\n",
    "\n",
    "`C:\\Users\\pearsonra>aws s3 cp s3://pc-bulk/Wellington_2013/Wellington_2013_TileIndex.zip . --recursive --endpoint-url https://opentopography.s3.sdsc.edu --no-sign-request`\n",
    "# Notes on possible reason\n",
    "Typically when you see a 403 on HeadObject despite having the s3:GetObject permission, it's because the s3:ListObjects permission wasn't provided for the bucket AND your key doesn't exist. It's a security measure to prevent exposing information about what objects are or aren't in your bucket. When you have both the s3:GetObject permission for the objects in a bucket, and the s3:ListObjects permission for the bucket itself, the response for a non-existent key is a 404 \"no such key\" response. If you only have s3:GetObject permission and request a non-existent object, the response is a 403 \"access denied\".\n",
    "https://stackoverflow.com/questions/59615713/trouble-downloading-s3-bucket-objects-through-boto3-error-403-headobject-forbi"
   ]
  },
  {
   "cell_type": "markdown",
   "metadata": {},
   "source": [
    "# AWS keys"
   ]
  },
  {
   "cell_type": "code",
   "execution_count": null,
   "metadata": {},
   "outputs": [],
   "source": [
    "aws_access_key_id = 'pc-bulk'\n",
    "aws_secret_access_key = 'pc-bulk-3LoTa4'\n",
    "aws_endpoint_url = 'https://opentopography.s3.sdsc.edu'\n",
    "\n",
    "aws_bucket = 'Wellington_2013'\n",
    "\n",
    "\n",
    "tile_file_name = 'Wellington_2013_TileIndex.zip'\n",
    "\n",
    "ex_full_url = 'https://opentopography.s3.sdsc.edu/minio/pc-bulk/Wellington_2013'"
   ]
  },
  {
   "cell_type": "markdown",
   "metadata": {},
   "source": [
    "# Boto client - sucess\n",
    "Updated structure to avoid 403"
   ]
  },
  {
   "cell_type": "code",
   "execution_count": null,
   "metadata": {},
   "outputs": [],
   "source": [
    "client = boto3.client('s3',\n",
    "                      endpoint_url=aws_endpoint_url,\n",
    "                      config=botocore.config.Config(signature_version=botocore.UNSIGNED))"
   ]
  },
  {
   "cell_type": "code",
   "execution_count": null,
   "metadata": {},
   "outputs": [],
   "source": [
    "paginator = client.get_paginator('list_objects')\n",
    "result = paginator.paginate(Bucket=aws_access_key_id, Delimiter='/')\n",
    "for prefix in result.search('CommonPrefixes'):\n",
    "    print(prefix.get('Prefix'))"
   ]
  },
  {
   "cell_type": "code",
   "execution_count": null,
   "metadata": {},
   "outputs": [],
   "source": [
    "response = client.list_objects_v2(Bucket=aws_access_key_id, Prefix=aws_bucket)\n",
    "response_meta = response.get('ResponseMetadata')"
   ]
  },
  {
   "cell_type": "code",
   "execution_count": null,
   "metadata": {},
   "outputs": [],
   "source": [
    "keys = []\n",
    "if response_meta.get('HTTPStatusCode') == 200:\n",
    "    contents = response.get('Contents')\n",
    "    if contents == None:\n",
    "        print(\"No objects are available for %s\" % aws_bucket)\n",
    "    else:\n",
    "        for obj in contents:\n",
    "            keys.append(obj.get('Key'))\n",
    "        print(\"There are %s objects available for %s\\n--\" % (len(keys), aws_bucket))\n",
    "        for k in keys:\n",
    "            print(k)\n",
    "else:\n",
    "    print(\"There was an error with your request.\")\n"
   ]
  },
  {
   "cell_type": "code",
   "execution_count": null,
   "metadata": {},
   "outputs": [],
   "source": [
    "metadata_key = aws_bucket + '/' + tile_file_name\n",
    "client.download_file(aws_access_key_id, metadata_key, tile_file_name)"
   ]
  },
  {
   "cell_type": "markdown",
   "metadata": {},
   "source": [
    "# Boto code examples - with 403\n",
    "### session"
   ]
  },
  {
   "cell_type": "code",
   "execution_count": null,
   "metadata": {},
   "outputs": [],
   "source": [
    "session = boto3.session.Session(aws_access_key_id=aws_access_key_id,\n",
    "                                aws_secret_access_key=aws_secret_access_key)\n",
    "\n",
    "\n",
    "\n",
    "s3 = session.resource('s3', endpoint_url=aws_endpoint_url, \n",
    "                      config=botocore.config.Config(signature_version=botocore.UNSIGNED))\n",
    "#bucket.download_file(tile_file_name, 'test.zip')"
   ]
  },
  {
   "cell_type": "markdown",
   "metadata": {},
   "source": [
    "### Client"
   ]
  },
  {
   "cell_type": "code",
   "execution_count": null,
   "metadata": {},
   "outputs": [],
   "source": [
    "client = boto3.client('s3',\n",
    "                  aws_access_key_id=aws_access_key_id,\n",
    "                  aws_secret_access_key=aws_secret_access_key,\n",
    "                  endpoint_url=aws_endpoint_url,\n",
    "                  config=botocore.config.Config(signature_version=botocore.UNSIGNED))\n",
    "\n",
    "#client.download_file(aws_bucket, tile_file_name, 'test.zip')"
   ]
  },
  {
   "cell_type": "markdown",
   "metadata": {},
   "source": [
    "### Resource"
   ]
  },
  {
   "cell_type": "code",
   "execution_count": null,
   "metadata": {},
   "outputs": [],
   "source": [
    "s3 = boto3.resource('s3', \n",
    "                    aws_access_key_id=aws_access_key_id, \n",
    "                    aws_secret_access_key=aws_secret_access_key,\n",
    "                    endpoint_url=aws_endpoint_url,\n",
    "                    config=botocore.config.Config(signature_version=botocore.UNSIGNED))\n",
    "\n",
    "\n",
    "\n",
    "#s3.Bucket(aws_bucket).download_file(tile_file_name, 'test.zip')"
   ]
  }
 ],
 "metadata": {
  "kernelspec": {
   "display_name": "Python [conda env:api]",
   "language": "python",
   "name": "conda-env-api-py"
  },
  "language_info": {
   "codemirror_mode": {
    "name": "ipython",
    "version": 3
   },
   "file_extension": ".py",
   "mimetype": "text/x-python",
   "name": "python",
   "nbconvert_exporter": "python",
   "pygments_lexer": "ipython3",
   "version": "3.9.5"
  }
 },
 "nbformat": 4,
 "nbformat_minor": 2
}
