{
 "cells": [
  {
   "cell_type": "code",
   "execution_count": null,
   "metadata": {},
   "outputs": [],
   "source": [
    "import geopandas\n",
    "import rioxarray\n",
    "import shapely\n",
    "import pdal\n",
    "import numpy\n",
    "import json\n",
    "import pathlib\n",
    "import pdal\n",
    "import time\n",
    "import matplotlib\n",
    "import matplotlib.pyplot"
   ]
  },
  {
   "cell_type": "code",
   "execution_count": null,
   "metadata": {},
   "outputs": [],
   "source": [
    "import pathlib\n",
    "import json\n",
    "import pdal\n",
    "import geopandas\n",
    "from osgeo import gdal"
   ]
  },
  {
   "cell_type": "markdown",
   "metadata": {},
   "source": [
    "# LAZ create tindex file\n",
    "* [tindex webpage](https://pdal.io/apps/tindex.html)\n",
    "* Appears to require 'filespec' 'build'"
   ]
  },
  {
   "cell_type": "code",
   "execution_count": null,
   "metadata": {},
   "outputs": [],
   "source": [
    "file_path = pathlib.Path(r'C:\\Users\\pearsonra\\Documents\\data\\Waikanae\\lower_cache_test_index\\Wellington_2013')\n",
    "index_file = file_path / \"output\\ot_CL1_WLG_2013_1km_090038.shp\"\n",
    "bbox_file = file_path / \"index_test.zip\""
   ]
  },
  {
   "cell_type": "code",
   "execution_count": null,
   "metadata": {},
   "outputs": [],
   "source": [
    "h_crs = 2193\n",
    "v_crs = 7839"
   ]
  },
  {
   "cell_type": "markdown",
   "metadata": {},
   "source": [
    "# Try create a tindex file with GDAL\n",
    "Well actually it looks like the TileIndex files provided on OpenTopography may already take the form of a GDAL style tindex file. Let's try use this first."
   ]
  },
  {
   "cell_type": "code",
   "execution_count": null,
   "metadata": {},
   "outputs": [],
   "source": []
  },
  {
   "cell_type": "markdown",
   "metadata": {},
   "source": [
    "# Try with readers.tindex to merge files"
   ]
  },
  {
   "cell_type": "code",
   "execution_count": null,
   "metadata": {},
   "outputs": [],
   "source": [
    "bbox = geopandas.read_file(bbox_file)"
   ]
  },
  {
   "cell_type": "code",
   "execution_count": null,
   "metadata": {},
   "outputs": [],
   "source": [
    "pdal_pipeline_instructions = [{\"type\":\"readers.tindex\", \"filename\": str(index_file), \"wkt\": str(bbox.loc[0].geometry)}]\n",
    "pdal_pipeline = pdal.Pipeline(json.dumps(pdal_pipeline_instructions))\n",
    "pdal_pipeline.execute()\n",
    "metadata=json.loads(pdal_pipeline.get_metadata())\n",
    "points = pdal_pipeline.arrays"
   ]
  },
  {
   "cell_type": "code",
   "execution_count": null,
   "metadata": {},
   "outputs": [],
   "source": [
    "str(bbox.loc[0].geometry)"
   ]
  },
  {
   "cell_type": "code",
   "execution_count": null,
   "metadata": {},
   "outputs": [],
   "source": [
    "metadata_wp['metadata']['filters.info'].keys()"
   ]
  },
  {
   "cell_type": "code",
   "execution_count": null,
   "metadata": {},
   "outputs": [],
   "source": [
    "metadata_wp['metadata']['filters.reprojection'].keys()"
   ]
  },
  {
   "cell_type": "code",
   "execution_count": null,
   "metadata": {},
   "outputs": [],
   "source": [
    "metadata_wp['metadata']['readers.las'].keys()"
   ]
  },
  {
   "cell_type": "code",
   "execution_count": null,
   "metadata": {},
   "outputs": [],
   "source": [
    "metadata_wp['metadata']['filters.info']['schema']"
   ]
  },
  {
   "cell_type": "code",
   "execution_count": null,
   "metadata": {},
   "outputs": [],
   "source": [
    "metadata_wp['metadata']['filters.info']['dimensions']"
   ]
  },
  {
   "cell_type": "code",
   "execution_count": null,
   "metadata": {},
   "outputs": [],
   "source": [
    "pdal_pipeline_instructions = [{\"type\":\"readers.tindex\", \"filename\": str(index_file), \"wtk\": str(bbox.loc[0].geometry)},\n",
    "                              {\"type\":\"filters.reprojection\",\"out_srs\":f\"EPSG:{h_crs}+{v_crs}\"}, \n",
    "                              {\"type\":\"filters.info\"}]\n",
    "pdal_pipeline = pdal.Pipeline(json.dumps(pdal_pipeline_instructions))\n",
    "pdal_pipeline.execute()\n",
    "metadata_wp=json.loads(pdal_pipeline.get_metadata())\n",
    "points_wp = pdal_pipeline.arrays"
   ]
  }
 ],
 "metadata": {
  "kernelspec": {
   "display_name": "Python [conda env:geofabrics]",
   "language": "python",
   "name": "conda-env-geofabrics-py"
  },
  "language_info": {
   "codemirror_mode": {
    "name": "ipython",
    "version": 3
   },
   "file_extension": ".py",
   "mimetype": "text/x-python",
   "name": "python",
   "nbconvert_exporter": "python",
   "pygments_lexer": "ipython3",
   "version": "3.9.6"
  }
 },
 "nbformat": 4,
 "nbformat_minor": 2
}
