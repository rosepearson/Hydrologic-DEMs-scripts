{
 "cells": [
  {
   "cell_type": "code",
   "execution_count": null,
   "metadata": {},
   "outputs": [],
   "source": [
    "import pathlib\n",
    "import pandas\n",
    "import matplotlib\n",
    "import matplotlib.pyplot\n",
    "import numpy"
   ]
  },
  {
   "cell_type": "markdown",
   "metadata": {},
   "source": [
    "File paths"
   ]
  },
  {
   "cell_type": "code",
   "execution_count": null,
   "metadata": {},
   "outputs": [],
   "source": [
    "base_path = pathlib.Path(r'C:\\Users\\pearsonra\\Documents\\data\\roughness')\n",
    "l_file_1 = pathlib.Path(r'BH35_0709_A.txt')\n",
    "l_file_2 = pathlib.Path(r'BH35_0709_B.txt')\n",
    "l_file_3 = pathlib.Path(r'BH35_0709_C.txt')\n",
    "l_file_4 = pathlib.Path(r'BH35_0709_D.txt')\n",
    "r_file_1 = pathlib.Path(r'originalZoValuesZo.txt')\n",
    "r_file_2 = pathlib.Path(r'Standardised 1_to_65535Zo.txtZo.txt')\n",
    "r_file_3 = pathlib.Path(r'StandardisedZo_scaledMin_to_Max.txt')"
   ]
  },
  {
   "cell_type": "markdown",
   "metadata": {},
   "source": [
    "Read in Lidar and combine"
   ]
  },
  {
   "cell_type": "code",
   "execution_count": null,
   "metadata": {},
   "outputs": [],
   "source": [
    "lidar_1=pandas.read_csv(base_path/l_file_1, names=['x','y','z','val'], sep=' ').sort_values(by=['x', 'y'])\n",
    "lidar_2=pandas.read_csv(base_path/l_file_2, names=['x','y','z','val'], sep=' ').sort_values(by=['x', 'y'])\n",
    "lidar_3=pandas.read_csv(base_path/l_file_3, names=['x','y','z','val'], sep=' ').sort_values(by=['x', 'y'])\n",
    "lidar_4=pandas.read_csv(base_path/l_file_4, names=['x','y','z','val'], sep=' ').sort_values(by=['x', 'y'])\n",
    "\n",
    "lidar = pandas.concat([lidar_1, lidar_2, lidar_3, lidar_4], ignore_index=True)"
   ]
  },
  {
   "cell_type": "markdown",
   "metadata": {},
   "source": [
    "Read in roughness"
   ]
  },
  {
   "cell_type": "code",
   "execution_count": null,
   "metadata": {},
   "outputs": [],
   "source": [
    "original=pandas.read_csv(base_path/r_file_1, names=['x','y','z','val'], sep=',').sort_values(by=['x', 'y'])\n",
    "standard_full=pandas.read_csv(base_path/r_file_2, names=['x','y','z','val'], sep=',').sort_values(by=['x', 'y'])\n",
    "standard_diff=pandas.read_csv(base_path/r_file_3, names=['x','y','z','val'], sep=',').sort_values(by=['x', 'y'])"
   ]
  },
  {
   "cell_type": "markdown",
   "metadata": {},
   "source": [
    "# Examine Graham's results"
   ]
  },
  {
   "cell_type": "markdown",
   "metadata": {},
   "source": [
    "### Histograms"
   ]
  },
  {
   "cell_type": "markdown",
   "metadata": {},
   "source": [
    "LiDAR"
   ]
  },
  {
   "cell_type": "code",
   "execution_count": null,
   "metadata": {},
   "outputs": [],
   "source": [
    "f = matplotlib.pyplot.figure(figsize=(15, 15))\n",
    "\n",
    "ax1 = f.add_subplot(221) \n",
    "ax = lidar_1.hist(column = 'val', bins=100, ax=ax1, label=\"lidar A\")\n",
    "ax1.set_title('LiDAR A')\n",
    "\n",
    "ax2 = f.add_subplot(222) \n",
    "ax = lidar_2.hist(column = 'val', bins=100, ax=ax2, label=\"lidar B\")\n",
    "ax2.set_title('LiDAR B')\n",
    "\n",
    "ax3 = f.add_subplot(223) \n",
    "ax = lidar_3.hist(column = 'val', bins=100, ax=ax3, label=\"lidar C\")\n",
    "ax3.set_title('LiDAR C')\n",
    "\n",
    "ax4 = f.add_subplot(224) \n",
    "ax = lidar_4.hist(column = 'val', bins=100, ax=ax4, label=\"lidar D\")\n",
    "ax4.set_title('LiDAR D')"
   ]
  },
  {
   "cell_type": "markdown",
   "metadata": {},
   "source": [
    "The maximum values look like an overflow/max error. I wonder if they are associated with an integer max. "
   ]
  },
  {
   "cell_type": "code",
   "execution_count": null,
   "metadata": {},
   "outputs": [],
   "source": [
    "numpy.iinfo(numpy.uint16).max"
   ]
  },
  {
   "cell_type": "markdown",
   "metadata": {},
   "source": [
    "### Roughness"
   ]
  },
  {
   "cell_type": "markdown",
   "metadata": {},
   "source": [
    "Note that the values with a 1 in the two standardised files should be the same and should be ignored in those files and also the original file."
   ]
  },
  {
   "cell_type": "code",
   "execution_count": null,
   "metadata": {},
   "outputs": [],
   "source": [
    "(len(original), len(standard_full), len(standard_diff))"
   ]
  },
  {
   "cell_type": "code",
   "execution_count": null,
   "metadata": {},
   "outputs": [],
   "source": [
    "(len(standard_full['val']!=1), len(standard_diff['val']!=1))"
   ]
  },
  {
   "cell_type": "markdown",
   "metadata": {},
   "source": [
    "Plot the histograms (values of 1 to ignore - aren't shown)"
   ]
  },
  {
   "cell_type": "code",
   "execution_count": null,
   "metadata": {},
   "outputs": [],
   "source": [
    "mask = standard_full['val']!=1\n",
    "\n",
    "f = matplotlib.pyplot.figure(figsize=(15, 5))\n",
    "\n",
    "ax1 = f.add_subplot(131) \n",
    "ax = original[mask].hist(column = 'val', bins=100, ax=ax1, label=\"original\", range=(0, 0.025))\n",
    "ax1.set_title('Manual roughness')\n",
    "\n",
    "ax2 = f.add_subplot(132) \n",
    "ax = standard_full[mask].hist(column = 'val', bins=100, ax=ax2, label=\"standard_full\", range=(0, 0.025))\n",
    "ax2.set_title('Standardised full range')\n",
    "\n",
    "ax3 = f.add_subplot(133) \n",
    "ax = standard_diff[mask].hist(column = 'val', bins=100, ax=ax3, label=\"standard_diff\", range=(0, 0.025))\n",
    "ax3.set_title('Standardised min vs max')"
   ]
  },
  {
   "cell_type": "markdown",
   "metadata": {},
   "source": [
    "### 2D scatter plots"
   ]
  },
  {
   "cell_type": "markdown",
   "metadata": {},
   "source": [
    "LiDAR"
   ]
  },
  {
   "cell_type": "code",
   "execution_count": null,
   "metadata": {},
   "outputs": [],
   "source": [
    "n_thining = 100\n",
    "\n",
    "f = matplotlib.pyplot.figure(figsize=(15, 15))\n",
    "ax_l1 = lidar.iloc[::n_thining, :].plot.scatter(x='x', y='y', c='val', colormap = 'viridis')#, s='z')"
   ]
  },
  {
   "cell_type": "markdown",
   "metadata": {},
   "source": [
    "Roughness"
   ]
  },
  {
   "cell_type": "code",
   "execution_count": null,
   "metadata": {},
   "outputs": [],
   "source": [
    "n_thining = 10\n",
    "mask = standard_full['val']!=1\n",
    "\n",
    "f = matplotlib.pyplot.figure(figsize=(15, 5))\n",
    "\n",
    "ax1 = f.add_subplot(131) \n",
    "ax_r1 = original[mask].iloc[::n_thining, :].plot.scatter(x='x', y='y', c='val', colormap = 'viridis', ax=ax1, \n",
    "                                                      title=\"original\", vmin=0, vmax=0.025)\n",
    "\n",
    "ax2 = f.add_subplot(132) \n",
    "ax_r2 = standard_full[mask].iloc[::n_thining, :].plot.scatter(x='x', y='y', c='val', ax=ax2, \n",
    "                                                                                 colormap = 'viridis', title=\"standard_full\", \n",
    "                                                                                 vmin=0, vmax=0.025)\n",
    "\n",
    "ax3 = f.add_subplot(133) \n",
    "ax_r3 = standard_diff[mask].iloc[::n_thining, :].plot.scatter(x='x', y='y', c='val', ax=ax3, \n",
    "                                                                                 colormap = 'viridis', title=\"standar_diff\", \n",
    "                                                                                 vmin=0, vmax=0.025)"
   ]
  },
  {
   "cell_type": "markdown",
   "metadata": {},
   "source": [
    "The difference between the two standardisation approaches and the manual approach"
   ]
  },
  {
   "cell_type": "code",
   "execution_count": null,
   "metadata": {},
   "outputs": [],
   "source": [
    "n_thining = 10\n",
    "mask = standard_full['val']!=1\n",
    "difference = original[mask].copy()\n",
    "\n",
    "f = matplotlib.pyplot.figure(figsize=(15, 5))\n",
    "\n",
    "difference.loc[:, 'val'] = original[mask]['val']-standard_full[mask]['val']\n",
    "ax1 = f.add_subplot(121) \n",
    "ax_r1 = difference.iloc[::n_thining, :].plot.scatter(x='x', y='y', c='val', colormap = 'viridis', ax=ax1, \n",
    "                                                      title=\"original\", vmin=-0.01, vmax=0.01)\n",
    "\n",
    "difference.loc[:, 'val'] = original[mask]['val']-standard_diff[mask]['val']\n",
    "ax2 = f.add_subplot(122) \n",
    "ax_r2 = difference.iloc[::n_thining, :].plot.scatter(x='x', y='y', c='val', ax=ax2, \n",
    "                                                                                 colormap = 'viridis', title=\"standard_full\", \n",
    "                                                                                 vmin=-0.01, vmax=0.01)"
   ]
  },
  {
   "cell_type": "markdown",
   "metadata": {},
   "source": [
    "Check for spatial distribution in errors - only keep the ones that a greater/less than +/-0.05"
   ]
  },
  {
   "cell_type": "code",
   "execution_count": null,
   "metadata": {},
   "outputs": [],
   "source": [
    "mask = standard_full['val']!=1\n",
    "difference = original[mask].copy()\n",
    "\n",
    "f = matplotlib.pyplot.figure(figsize=(15, 5))\n",
    "\n",
    "difference.loc[:, 'val'] = original[mask]['val']-standard_full[mask]['val']\n",
    "ax1 = f.add_subplot(121) \n",
    "ax_r1 = difference[(difference['val']>0.01) | (difference['val']<-0.01)].plot.scatter(x='x', y='y', c='val', colormap = 'viridis', \n",
    "                                                                                      ax=ax1, vmin=-0.015, vmax=0.015, \n",
    "                                                                                      title=\"error w/ full standardisation\")\n",
    "\n",
    "difference.loc[:, 'val'] = original[mask]['val']-standard_diff[mask]['val']\n",
    "ax2 = f.add_subplot(122) \n",
    "ax_r2 = difference[(difference['val']>0.01) | (difference['val']<-0.01)].plot.scatter(x='x', y='y', c='val', colormap = 'viridis',\n",
    "                                                                                      ax=ax2, vmin=-0.015, vmax=0.015,\n",
    "                                                                                      title=\"error w/ diff standardisation\", \n",
    "                                                                                 )"
   ]
  },
  {
   "cell_type": "markdown",
   "metadata": {},
   "source": [
    "# Explore LiDAR data\n",
    "### Spatial distribution of  max density values\n",
    "Look at the total number of lidar values, and also look at the number that are the maximum value"
   ]
  },
  {
   "cell_type": "code",
   "execution_count": null,
   "metadata": {},
   "outputs": [],
   "source": [
    "len(lidar_1)"
   ]
  },
  {
   "cell_type": "code",
   "execution_count": null,
   "metadata": {},
   "outputs": [],
   "source": [
    "(lidar_1['val']==numpy.iinfo(numpy.uint16).max).sum()"
   ]
  },
  {
   "cell_type": "markdown",
   "metadata": {},
   "source": [
    "### Plot spatial distribution of max values"
   ]
  },
  {
   "cell_type": "code",
   "execution_count": null,
   "metadata": {},
   "outputs": [],
   "source": [
    "n_thining = 1\n",
    "\n",
    "f = matplotlib.pyplot.figure(figsize=(15, 15))\n",
    "\n",
    "ax1 = f.add_subplot(221) \n",
    "ax_r1 = lidar_1[lidar_1['val']==numpy.iinfo(numpy.uint16).max].iloc[::n_thining, :].plot.scatter(x='x', y='y', \n",
    "                                                                                                 colormap = 'viridis', ax=ax1, \n",
    "                                                                                                 title=\"LiDAR A\")\n",
    "\n",
    "ax2 = f.add_subplot(222) \n",
    "ax_r2 = lidar_2[lidar_2['val']==numpy.iinfo(numpy.uint16).max].iloc[::n_thining, :].plot.scatter(x='x', y='y', \n",
    "                                                                                                 colormap = 'viridis', ax=ax2, \n",
    "                                                                                                 title=\"LiDAR B\")\n",
    "\n",
    "ax3 = f.add_subplot(223) \n",
    "ax_r3 = lidar_3[lidar_3['val']==numpy.iinfo(numpy.uint16).max].iloc[::n_thining, :].plot.scatter(x='x', y='y', \n",
    "                                                                                                 colormap = 'viridis', ax=ax3,\n",
    "                                                                                                 title=\"LiDAR C\")\n",
    "\n",
    "ax4 = f.add_subplot(224) \n",
    "ax_r4 = lidar_4[lidar_4['val']==numpy.iinfo(numpy.uint16).max].iloc[::n_thining, :].plot.scatter(x='x', y='y', \n",
    "                                                                                                 colormap = 'viridis', ax=ax4,\n",
    "                                                                                                 title=\"LiDAR D\")"
   ]
  },
  {
   "cell_type": "markdown",
   "metadata": {},
   "source": [
    "### Plot the spatial distribution of non-maxed values"
   ]
  },
  {
   "cell_type": "code",
   "execution_count": null,
   "metadata": {},
   "outputs": [],
   "source": [
    "n_thining = 10\n",
    "\n",
    "f = matplotlib.pyplot.figure(figsize=(15, 15))\n",
    "\n",
    "ax1 = f.add_subplot(221) \n",
    "ax_r1 = lidar_1[lidar_1['val']<numpy.iinfo(numpy.uint16).max].iloc[::n_thining, :].plot.scatter(x='x', y='y', c='val', \n",
    "                                                                                                 colormap = 'viridis', ax=ax1, \n",
    "                                                                                                 title=\"LiDAR A\")\n",
    "\n",
    "ax2 = f.add_subplot(222) \n",
    "ax_r2 = lidar_2[lidar_2['val']<numpy.iinfo(numpy.uint16).max].iloc[::n_thining, :].plot.scatter(x='x', y='y', c='val', \n",
    "                                                                                                 colormap = 'viridis', ax=ax2, \n",
    "                                                                                                 title=\"LiDAR B\")\n",
    "\n",
    "ax3 = f.add_subplot(223) \n",
    "ax_r3 = lidar_3[lidar_3['val']<numpy.iinfo(numpy.uint16).max].iloc[::n_thining, :].plot.scatter(x='x', y='y', c='val', \n",
    "                                                                                                 colormap = 'viridis', ax=ax3,\n",
    "                                                                                                 title=\"LiDAR C\")\n",
    "\n",
    "ax4 = f.add_subplot(224) \n",
    "ax_r4 = lidar_4[lidar_4['val']<numpy.iinfo(numpy.uint16).max].iloc[::n_thining, :].plot.scatter(x='x', y='y', c='val', \n",
    "                                                                                                 colormap = 'viridis', ax=ax4,\n",
    "                                                                                                 title=\"LiDAR D\")"
   ]
  },
  {
   "cell_type": "code",
   "execution_count": null,
   "metadata": {},
   "outputs": [],
   "source": []
  }
 ],
 "metadata": {
  "kernelspec": {
   "display_name": "Python [conda env:workspace]",
   "language": "python",
   "name": "conda-env-workspace-py"
  },
  "language_info": {
   "codemirror_mode": {
    "name": "ipython",
    "version": 3
   },
   "file_extension": ".py",
   "mimetype": "text/x-python",
   "name": "python",
   "nbconvert_exporter": "python",
   "pygments_lexer": "ipython3",
   "version": "3.8.8"
  }
 },
 "nbformat": 4,
 "nbformat_minor": 2
}
