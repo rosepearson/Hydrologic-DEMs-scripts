{
 "cells": [
  {
   "cell_type": "code",
   "execution_count": null,
   "id": "5364cc45-453e-4c16-b1a4-764eaf3de642",
   "metadata": {},
   "outputs": [],
   "source": [
    "import itertools as it\n",
    "import time\n",
    "\n",
    "import dask\n",
    "import dask.array as da\n",
    "import numpy as np\n",
    "import xarray as xr\n",
    "from distributed import Client, LocalCluster"
   ]
  },
  {
   "cell_type": "markdown",
   "id": "03d4929c-8fcf-4458-988b-a447fa45e78b",
   "metadata": {},
   "source": [
    "## Create the Dask cluster"
   ]
  },
  {
   "cell_type": "code",
   "execution_count": null,
   "id": "ad5b6365-c4c3-4ca2-9589-d9b02a060b4c",
   "metadata": {},
   "outputs": [],
   "source": [
    "cluster = LocalCluster(\n",
    "    n_workers=4,\n",
    "    threads_per_worker=1,\n",
    "    processes=True\n",
    ")"
   ]
  },
  {
   "cell_type": "code",
   "execution_count": null,
   "id": "40ebdf69-e73a-40fb-a295-8cd61db36699",
   "metadata": {},
   "outputs": [],
   "source": [
    "client = Client(cluster)\n",
    "client"
   ]
  },
  {
   "cell_type": "code",
   "execution_count": null,
   "id": "01ce676a",
   "metadata": {},
   "outputs": [],
   "source": [
    "client.close()\n",
    "cluster.close()\n"
   ]
  },
  {
   "cell_type": "markdown",
   "id": "23398c69-9b1c-409d-a2ad-51de92e39773",
   "metadata": {},
   "source": [
    "Use it as a context manager, e.g.:\n",
    "```\n",
    "cluster_kwargs = {...}\n",
    "with LocalCluster(**cluster_kwargs) as cluster, Client(cluster) as client:\n",
    "    ... # code using the cluster\n",
    "```"
   ]
  },
  {
   "cell_type": "markdown",
   "id": "bc52a93e",
   "metadata": {},
   "source": [
    "## Function to rasterise"
   ]
  },
  {
   "cell_type": "code",
   "execution_count": null,
   "id": "22e899ec-fb13-423b-b58d-94ceb995f0f5",
   "metadata": {},
   "outputs": [],
   "source": [
    "@dask.delayed\n",
    "def tile_function(i, j, chunk_x, chunk_y):\n",
    "    time.sleep(1)\n",
    "    return np.ones((chunk_x, chunk_y)) * i * j"
   ]
  },
  {
   "cell_type": "markdown",
   "id": "73ff840c",
   "metadata": {},
   "source": [
    "## Define chunks and number of tiles"
   ]
  },
  {
   "cell_type": "code",
   "execution_count": null,
   "id": "bc17e791",
   "metadata": {},
   "outputs": [],
   "source": [
    "chunk_x = 10\n",
    "chunk_y = 20\n",
    "n_chunks_x = 10\n",
    "n_chunks_y = 10"
   ]
  },
  {
   "cell_type": "markdown",
   "id": "41ea3419",
   "metadata": {},
   "source": [
    "## Run across tiles"
   ]
  },
  {
   "cell_type": "code",
   "execution_count": null,
   "id": "8a74639d",
   "metadata": {},
   "outputs": [],
   "source": [
    "delayed_arr = []\n",
    "for i in range(n_chunks_x):\n",
    "    delayed_arr_i = []\n",
    "    for j in range(n_chunks_y):\n",
    "        delayed_arr_i.append(da.from_delayed(tile_function(i, j, chunk_x, chunk_y), shape=(chunk_x, chunk_y), dtype=float))\n",
    "    delayed_arr.append(delayed_arr_i)\n",
    "arr = da.block(delayed_arr)\n",
    "arr"
   ]
  },
  {
   "cell_type": "code",
   "execution_count": null,
   "id": "50c92147-42e8-489a-97c1-166413bd5f67",
   "metadata": {},
   "outputs": [],
   "source": [
    "xarr = xr.DataArray(arr, coords={\"x\": range(arr.shape[0]), \"y\": range(arr.shape[1])})\n",
    "xarr"
   ]
  },
  {
   "cell_type": "code",
   "execution_count": null,
   "id": "81f63056-ab1c-4142-a785-06fe28becbc2",
   "metadata": {},
   "outputs": [],
   "source": [
    "print(xarr)"
   ]
  },
  {
   "cell_type": "code",
   "execution_count": null,
   "id": "97beadbf-bd4c-4117-b391-8af22c5d5269",
   "metadata": {},
   "outputs": [],
   "source": [
    "xarr = xarr.compute()\n",
    "xarr"
   ]
  },
  {
   "cell_type": "code",
   "execution_count": null,
   "id": "46b65baa",
   "metadata": {},
   "outputs": [],
   "source": [
    "xarr.plot()"
   ]
  },
  {
   "cell_type": "code",
   "execution_count": null,
   "id": "72fa5377",
   "metadata": {},
   "outputs": [],
   "source": [
    "list(it.product(range(10), range(20)))"
   ]
  },
  {
   "cell_type": "code",
   "execution_count": null,
   "id": "19d1f6e5",
   "metadata": {},
   "outputs": [],
   "source": [
    "[da.from_delayed(tile_function(i, j), (10, 20), dtype=float)\n",
    "    for i, j in it.product(range(10), range(20))]"
   ]
  },
  {
   "cell_type": "markdown",
   "id": "ba7d64b7",
   "metadata": {},
   "source": [
    "## Orginal code - flat array not 2d tiled"
   ]
  },
  {
   "cell_type": "code",
   "execution_count": null,
   "id": "db551cac",
   "metadata": {},
   "outputs": [],
   "source": [
    "delayed_arr = [da.from_delayed(tile_function(i, j, chunk_x, chunk_y), shape=(chunk_x, chunk_y), dtype=float)\n",
    "               for i, j in it.product(range(n_chunks_x), range(n_chunks_y))]\n",
    "arr = da.concatenate(delayed_arr, axis=-1)\n",
    "arr"
   ]
  },
  {
   "cell_type": "code",
   "execution_count": null,
   "id": "f7bfd26f-1002-4db3-b15c-5cb69a3eb500",
   "metadata": {},
   "outputs": [],
   "source": [
    "arr = da.concatenate([\n",
    "    da.from_delayed(tile_function(i, j, chunk_x, chunk_y), shape=(chunk_x, chunk_y), dtype=float)\n",
    "    for i, j in it.product(range(n_chunks_x), range(n_chunks_y))\n",
    "], axis=-1)\n",
    "arr"
   ]
  }
 ],
 "metadata": {
  "kernelspec": {
   "display_name": "Python [conda env:geofabricsdask]",
   "language": "python",
   "name": "conda-env-geofabricsdask-py"
  },
  "language_info": {
   "codemirror_mode": {
    "name": "ipython",
    "version": 3
   },
   "file_extension": ".py",
   "mimetype": "text/x-python",
   "name": "python",
   "nbconvert_exporter": "python",
   "pygments_lexer": "ipython3",
   "version": "3.9.7"
  }
 },
 "nbformat": 4,
 "nbformat_minor": 5
}
