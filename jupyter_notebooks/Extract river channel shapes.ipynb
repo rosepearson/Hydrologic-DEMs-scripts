{
 "cells": [
  {
   "cell_type": "code",
   "execution_count": 1,
   "id": "557c8f7e",
   "metadata": {},
   "outputs": [
    {
     "data": {
      "text/html": [
       "<style>.container { width:100% !important; }</style>"
      ],
      "text/plain": [
       "<IPython.core.display.HTML object>"
      ]
     },
     "metadata": {},
     "output_type": "display_data"
    }
   ],
   "source": [
    "import geopandas\n",
    "import rioxarray\n",
    "import pathlib\n",
    "import matplotlib\n",
    "import numpy\n",
    "import shapely\n",
    "import scipy.spatial\n",
    "import xarray\n",
    "from IPython.core.display import display, HTML\n",
    "\n",
    "display(HTML(\"<style>.container { width:100% !important; }</style>\"))"
   ]
  },
  {
   "cell_type": "markdown",
   "id": "71477671",
   "metadata": {},
   "source": [
    "Load in files - note using REC2.4 only because Ude used this when deriving population and slope over catchment patches. In future we should be using REC2.5"
   ]
  },
  {
   "cell_type": "code",
   "execution_count": 2,
   "id": "79e94374",
   "metadata": {},
   "outputs": [],
   "source": [
    "base_path = pathlib.Path(r\"C:\\Users\\pearsonra\\Documents\\data\\river_bathemetry\")\n",
    "rec2 = geopandas.read_file(r\"C:\\Users\\pearsonra\\Documents\\data\\river_bathemetry\\rec_domains\\rec2_4\\rec2_rivers.shp\")\n",
    "#dn3 = geopandas.read_file(r\"\")\n",
    "domains = geopandas.read_file(r\"C:\\Users\\pearsonra\\Documents\\data\\river_bathemetry\\rec_domains\\rec2_4\\super_domains_sort_traces.gpkg\")\n",
    "waikanae_lower_catchment = geopandas.read_file(\n",
    "    r\"C:\\Users\\pearsonra\\Documents\\data\\river_bathemetry\\waikanae\\small_waikanae.shp\")\n",
    "westport_catchment = geopandas.read_file(\n",
    "    r\"C:\\Users\\pearsonra\\Documents\\data\\Westport\\catchments\\Rough_Catchment_outline\\Rough_Catchment_outline.zip\")"
   ]
  },
  {
   "cell_type": "markdown",
   "id": "422b758a",
   "metadata": {},
   "source": [
    "Specify relevant fids"
   ]
  },
  {
   "cell_type": "code",
   "execution_count": 3,
   "id": "e80fe82e",
   "metadata": {},
   "outputs": [],
   "source": [
    "domain_waikanae_fid = 65 # minus one from that specified in QGIS\n",
    "domain_westport_fid = 102 # minus one from that specified in QGIS\n",
    "rec2_waikanae_id = 9253579\n",
    "rec2_westport_id = 12035600"
   ]
  },
  {
   "cell_type": "code",
   "execution_count": null,
   "id": "ade8ecd3",
   "metadata": {},
   "outputs": [],
   "source": [
    "#domains.iloc[domain_westport_fid]['geometry']"
   ]
  },
  {
   "cell_type": "markdown",
   "id": "a44849df",
   "metadata": {},
   "source": [
    "Cycle through the nodes from the initial ID using the NextDownID that matches the earch above and putting into a list. This can become a new GeoPandasDataframe of all polylines in a from coast to the upper catchment."
   ]
  },
  {
   "cell_type": "markdown",
   "id": "31081eb5",
   "metadata": {},
   "source": [
    "## A function to extract all polylines associated with a river"
   ]
  },
  {
   "cell_type": "code",
   "execution_count": null,
   "id": "b0a4f858",
   "metadata": {},
   "outputs": [],
   "source": [
    "rec2.columns"
   ]
  },
  {
   "cell_type": "code",
   "execution_count": 4,
   "id": "7e5130cd",
   "metadata": {},
   "outputs": [],
   "source": [
    "def get_down_stream_reaches(rec: geopandas.GeoDataFrame, reach_id: int, reaches: geopandas.GeoDataFrame, i: int):\n",
    "    if i>8000:\n",
    "        print(f\"Reached recursion limit at: {i}\")\n",
    "        return reaches, i\n",
    "    i += 1\n",
    "    down_stream_reaches = rec[rec['NextDownID']==reach_id]\n",
    "    reaches = reaches.append(down_stream_reaches)\n",
    "    for index, down_stream_reach in down_stream_reaches.iterrows():\n",
    "        if not down_stream_reach['Headwater']: \n",
    "            reaches, i = get_down_stream_reaches(rec=rec, reach_id=down_stream_reach['nzsegment'], reaches=reaches, i=i)\n",
    "    \n",
    "    return reaches, i"
   ]
  },
  {
   "cell_type": "markdown",
   "id": "90b5f519",
   "metadata": {},
   "source": [
    "## Generate shape files for the Waikanae river"
   ]
  },
  {
   "cell_type": "code",
   "execution_count": 16,
   "id": "eaf0064d",
   "metadata": {},
   "outputs": [],
   "source": [
    "area_threshold = 125_000_000 # 10_000_000. 100_000_000"
   ]
  },
  {
   "cell_type": "code",
   "execution_count": 18,
   "id": "85cf4cb7",
   "metadata": {},
   "outputs": [
    {
     "data": {
      "text/html": [
       "<div>\n",
       "<style scoped>\n",
       "    .dataframe tbody tr th:only-of-type {\n",
       "        vertical-align: middle;\n",
       "    }\n",
       "\n",
       "    .dataframe tbody tr th {\n",
       "        vertical-align: top;\n",
       "    }\n",
       "\n",
       "    .dataframe thead th {\n",
       "        text-align: right;\n",
       "    }\n",
       "</style>\n",
       "<table border=\"1\" class=\"dataframe\">\n",
       "  <thead>\n",
       "    <tr style=\"text-align: right;\">\n",
       "      <th></th>\n",
       "      <th>HydroID</th>\n",
       "      <th>NextDownID</th>\n",
       "      <th>CATAREA</th>\n",
       "      <th>CUM_AREA</th>\n",
       "      <th>nzsegment</th>\n",
       "      <th>Enabled</th>\n",
       "      <th>LENGTHDOWN</th>\n",
       "      <th>Headwater</th>\n",
       "      <th>Hydseq</th>\n",
       "      <th>StreamOrde</th>\n",
       "      <th>...</th>\n",
       "      <th>nzreach_re</th>\n",
       "      <th>headw_dist</th>\n",
       "      <th>segslpmax</th>\n",
       "      <th>segslpmean</th>\n",
       "      <th>LID</th>\n",
       "      <th>reachtype</th>\n",
       "      <th>FROM_NODE</th>\n",
       "      <th>TO_NODE</th>\n",
       "      <th>Shape_Leng</th>\n",
       "      <th>geometry</th>\n",
       "    </tr>\n",
       "  </thead>\n",
       "  <tbody>\n",
       "    <tr>\n",
       "      <th>253495</th>\n",
       "      <td>253496</td>\n",
       "      <td>0</td>\n",
       "      <td>18001.0</td>\n",
       "      <td>152753696.0</td>\n",
       "      <td>9253579</td>\n",
       "      <td>1</td>\n",
       "      <td>0.0</td>\n",
       "      <td>0</td>\n",
       "      <td>256825</td>\n",
       "      <td>5</td>\n",
       "      <td>...</td>\n",
       "      <td>9003742</td>\n",
       "      <td>24527</td>\n",
       "      <td>0.0</td>\n",
       "      <td>0.0</td>\n",
       "      <td>0</td>\n",
       "      <td>0</td>\n",
       "      <td>259082</td>\n",
       "      <td>259083</td>\n",
       "      <td>15.0004</td>\n",
       "      <td>LINESTRING (1769118.631 5473462.110, 1769103.6...</td>\n",
       "    </tr>\n",
       "  </tbody>\n",
       "</table>\n",
       "<p>1 rows × 28 columns</p>\n",
       "</div>"
      ],
      "text/plain": [
       "        HydroID  NextDownID  CATAREA     CUM_AREA  nzsegment  Enabled  \\\n",
       "253495   253496           0  18001.0  152753696.0    9253579        1   \n",
       "\n",
       "        LENGTHDOWN  Headwater  Hydseq  StreamOrde  ...  nzreach_re  \\\n",
       "253495         0.0          0  256825           5  ...     9003742   \n",
       "\n",
       "        headw_dist  segslpmax  segslpmean  LID  reachtype  FROM_NODE  TO_NODE  \\\n",
       "253495       24527        0.0         0.0    0          0     259082   259083   \n",
       "\n",
       "        Shape_Leng                                           geometry  \n",
       "253495     15.0004  LINESTRING (1769118.631 5473462.110, 1769103.6...  \n",
       "\n",
       "[1 rows x 28 columns]"
      ]
     },
     "execution_count": 18,
     "metadata": {},
     "output_type": "execute_result"
    }
   ],
   "source": [
    "rec2[rec2['nzsegment']==rec2_waikanae_id]"
   ]
  },
  {
   "cell_type": "code",
   "execution_count": 5,
   "id": "5f3cda58",
   "metadata": {},
   "outputs": [
    {
     "data": {
      "text/plain": [
       "<AxesSubplot:>"
      ]
     },
     "execution_count": 5,
     "metadata": {},
     "output_type": "execute_result"
    },
    {
     "data": {
      "image/png": "[encoded data removed]",
      "text/plain": [
       "<Figure size 432x288 with 1 Axes>"
      ]
     },
     "metadata": {
      "needs_background": "light"
     },
     "output_type": "display_data"
    }
   ],
   "source": [
    "waikanae_river = rec2[rec2['nzsegment']==rec2_waikanae_id]\n",
    "waikanae_river, i = get_down_stream_reaches(rec2, rec2_waikanae_id, waikanae_river, i=0)\n",
    "waikanae_river.plot()"
   ]
  },
  {
   "cell_type": "markdown",
   "id": "bd19a1f1",
   "metadata": {},
   "source": [
    "### Extract flat region"
   ]
  },
  {
   "cell_type": "code",
   "execution_count": null,
   "id": "229b5db7",
   "metadata": {},
   "outputs": [],
   "source": [
    "flat_waikanae_river = waikanae_river.clip(domains.iloc[domain_waikanae_fid]['geometry'], keep_geom_type=True)\n",
    "flat_waikanae_river_polygon = geopandas.GeoDataFrame(geometry=flat_waikanae_river.buffer(150))\n",
    "flat_waikanae_river_polygon['label'] = 1\n",
    "flat_waikanae_river_polygon = flat_waikanae_river_polygon.dissolve(by='label')\n",
    "#flat_waikanae_river_polygon.plot()"
   ]
  },
  {
   "cell_type": "markdown",
   "id": "88c361bc",
   "metadata": {},
   "source": [
    "### Extract flat region above area threshold\n",
    "Extract teh flat reaches with more upstream area than the set threshold"
   ]
  },
  {
   "cell_type": "code",
   "execution_count": 17,
   "id": "ff48f524",
   "metadata": {},
   "outputs": [
    {
     "data": {
      "text/plain": [
       "<AxesSubplot:>"
      ]
     },
     "execution_count": 17,
     "metadata": {},
     "output_type": "execute_result"
    },
    {
     "data": {
      "image/png": "[encoded data removed]",
      "text/plain": [
       "<Figure size 432x288 with 1 Axes>"
      ]
     },
     "metadata": {
      "needs_background": "light"
     },
     "output_type": "display_data"
    }
   ],
   "source": [
    "flat_waikanae_river_area = waikanae_river[waikanae_river['CUM_AREA']>area_threshold]\n",
    "flat_waikanae_river_area_polygon = geopandas.GeoDataFrame(geometry=flat_waikanae_river_area.buffer(150))\n",
    "flat_waikanae_river_area_polygon['label'] = 1\n",
    "flat_waikanae_river_area_polygon = flat_waikanae_river_area_polygon.dissolve(by='label')\n",
    "flat_waikanae_river_area_polygon.plot()"
   ]
  },
  {
   "cell_type": "code",
   "execution_count": null,
   "id": "3c692eda",
   "metadata": {},
   "outputs": [],
   "source": [
    "flat_waikanae_river_area.plot()"
   ]
  },
  {
   "cell_type": "markdown",
   "id": "e107266c",
   "metadata": {},
   "source": [
    "### Save out Waikanae river shapefiles"
   ]
  },
  {
   "cell_type": "code",
   "execution_count": null,
   "id": "736af3f7",
   "metadata": {},
   "outputs": [],
   "source": [
    "#waikanae_river.to_file(r\"C:\\Users\\pearsonra\\Documents\\data\\river_bathemetry\\waikanae\\waikanae_polyline.geojson\")\n",
    "#flat_waikanae_river.to_file(r\"C:\\Users\\pearsonra\\Documents\\data\\river_bathemetry\\waikanae\\waikanae_flat_polyline.geojson\")\n",
    "#flat_waikanae_river_polygon.to_file(r\"C:\\Users\\pearsonra\\Documents\\data\\river_bathemetry\\waikanae\\waikanae_flat_polygon.geojson\")\n",
    "flat_waikanae_river_area_polygon.to_file(fr\"C:\\Users\\pearsonra\\Documents\\data\\river_bathemetry\\waikanae\\waikanae_polygon_{area_threshold}.geojson\")"
   ]
  },
  {
   "cell_type": "markdown",
   "id": "5cad4cf8",
   "metadata": {},
   "source": [
    "## Generate shape files for the Westport river"
   ]
  },
  {
   "cell_type": "code",
   "execution_count": null,
   "id": "16ecc995",
   "metadata": {},
   "outputs": [],
   "source": [
    "area_threshold = 10_000_000 # 10_000_000. 100_000_000\n",
    "westport_river = rec2[rec2['nzsegment']==rec2_westport_id]\n",
    "westport_river, i = get_down_stream_reaches(rec2, rec2_westport_id, westport_river, i=0)\n",
    "#westport_river.plot()"
   ]
  },
  {
   "cell_type": "code",
   "execution_count": null,
   "id": "75f90bd1",
   "metadata": {},
   "outputs": [],
   "source": [
    "flat_westport_river = westport_river.clip(domains.iloc[domain_westport_fid]['geometry'], keep_geom_type=True)\n",
    "#flat_westport_river.plot()"
   ]
  },
  {
   "cell_type": "markdown",
   "id": "29b09f90",
   "metadata": {},
   "source": [
    "### Create flat polygon"
   ]
  },
  {
   "cell_type": "code",
   "execution_count": null,
   "id": "9158bcd2",
   "metadata": {},
   "outputs": [],
   "source": [
    "flat_westport_river_polygon = geopandas.GeoDataFrame(geometry=flat_westport_river.buffer(300))\n",
    "flat_westport_river_polygon['label'] = 1\n",
    "flat_westport_river_polygon = flat_westport_river_polygon.dissolve(by='label')\n",
    "# flat_westport_river_polygon.plot()"
   ]
  },
  {
   "cell_type": "markdown",
   "id": "4890a76b",
   "metadata": {},
   "source": [
    "### Extract flat region above area threshold\n",
    "Extract the flat reaches with more upstream area than the set threshold"
   ]
  },
  {
   "cell_type": "code",
   "execution_count": null,
   "id": "e4ba667c",
   "metadata": {},
   "outputs": [],
   "source": [
    "flat_westport_river_area = flat_westport_river[flat_westport_river['CUM_AREA']>area_threshold]\n",
    "flat_westport_river_area_polygon = geopandas.GeoDataFrame(geometry=flat_westport_river_area.buffer(300))\n",
    "flat_westport_river_area_polygon['label'] = 1\n",
    "flat_westport_river_area_polygon = flat_westport_river_area_polygon.dissolve(by='label')\n",
    "#flat_westport_river_area_polygon.plot()"
   ]
  },
  {
   "cell_type": "code",
   "execution_count": null,
   "id": "8149c27e",
   "metadata": {},
   "outputs": [],
   "source": [
    "flat_westport_river_area_polygon_in_catchment = flat_westport_river_area_polygon.clip(westport_catchment, keep_geom_type=True)\n",
    "flat_westport_river_area_polygon_in_catchment.plot()"
   ]
  },
  {
   "cell_type": "markdown",
   "id": "75ad961c",
   "metadata": {},
   "source": [
    "### Save out Westport river files"
   ]
  },
  {
   "cell_type": "code",
   "execution_count": null,
   "id": "5cfd1c63",
   "metadata": {},
   "outputs": [],
   "source": [
    "#westport_river.to_file(r\"C:\\Users\\pearsonra\\Documents\\data\\river_bathemetry\\westport_polyline.geojson\")\n",
    "#flat_westport_river.to_file(r\"C:\\Users\\pearsonra\\Documents\\data\\river_bathemetry\\westport_flat_polyline.geojson\")\n",
    "#flat_westport_river_polygon.to_file(r\"C:\\Users\\pearsonra\\Documents\\data\\river_bathemetry\\westport\\westport_flat_polygon.geojson\")\n",
    "flat_westport_river_area_polygon_in_catchment.to_file(fr\"C:\\Users\\pearsonra\\Documents\\data\\river_bathemetry\\westport\\westport_polygon_{area_threshold}.geojson\")"
   ]
  },
  {
   "cell_type": "markdown",
   "id": "486a9d93",
   "metadata": {},
   "source": [
    "# Separate out River - edge detection - after manual placement of river in QGIS based of DEM & satallite\n",
    "At polyline nodes - calculate perpindicular transect - look at slope change along this - cell to cell & slope change\n",
    "* calculate width\n",
    "* calculate avg elevation of 'river' bit"
   ]
  },
  {
   "cell_type": "code",
   "execution_count": null,
   "id": "8909cf44",
   "metadata": {},
   "outputs": [],
   "source": [
    "transect_length = 100 # in both directions\n",
    "resolution = 1\n",
    "sampling_resolution = 10 # transect spacing up river"
   ]
  },
  {
   "cell_type": "markdown",
   "id": "8032acbd",
   "metadata": {},
   "source": [
    "## Waikanae"
   ]
  },
  {
   "cell_type": "code",
   "execution_count": null,
   "id": "aac7d32f",
   "metadata": {},
   "outputs": [],
   "source": [
    "waikanae_manual_rivers = geopandas.read_file(base_path / \"waikanae\\manual_river_centre_100000000\\manual_river_centre_100000000.geojson\")\n",
    "with rioxarray.rioxarray.open_rasterio(base_path / r\"waikanae\\clipped\\results\\1m_100000000_gnd.nc\", masked=True) as waikane_dem:\n",
    "            waikane_dem.load()\n",
    "with rioxarray.rioxarray.open_rasterio(base_path / r\"waikanae\\clipped\\results\\1m_100000000_gnd_linear.nc\", masked=True) as waikane_dem_linear:\n",
    "            waikane_dem_linear.load()"
   ]
  },
  {
   "cell_type": "markdown",
   "id": "73b63933",
   "metadata": {},
   "source": [
    "### Get perpindicular sample lines from manual rivers\n",
    "### Subsample every ten metres"
   ]
  },
  {
   "cell_type": "code",
   "execution_count": null,
   "id": "99b12ffe",
   "metadata": {},
   "outputs": [],
   "source": [
    "def subsample_channels(channel_centre_lines: geopandas.GeoDataFrame, channel_id: int, sampling_resolution: float):\n",
    "    line_string = channel_centre_lines.loc[channel_id]['geometry']\n",
    "    sampled_channel_centre_lines = geopandas.GeoDataFrame({'id': [channel_id], 'geometry': shapely.geometry.LineString(\n",
    "        [channel_centre_lines.loc[channel_id]['geometry'].interpolate(i * sampling_resolution) for i in range(int(numpy.ceil(channel_centre_lines.loc[channel_id]['geometry'].length/sampling_resolution)))])},\n",
    "                                                          crs = channel_centre_lines.crs)\n",
    "    return sampled_channel_centre_lines"
   ]
  },
  {
   "cell_type": "code",
   "execution_count": null,
   "id": "b2219a00",
   "metadata": {},
   "outputs": [],
   "source": [
    "sampled_waikanae_manual_rivers=subsample_channels(waikanae_manual_rivers, 0, sampling_resolution)"
   ]
  },
  {
   "cell_type": "code",
   "execution_count": null,
   "id": "6a3d5ed6",
   "metadata": {},
   "outputs": [],
   "source": [
    "waikanae_manual_rivers.length"
   ]
  },
  {
   "cell_type": "markdown",
   "id": "10b79b40",
   "metadata": {},
   "source": [
    "### Sample elevations along main channel"
   ]
  },
  {
   "cell_type": "code",
   "execution_count": null,
   "id": "50f50a94",
   "metadata": {},
   "outputs": [],
   "source": [
    "def transects_along_reaches(channel_centre_lines: geopandas.GeoDataFrame, channel_id: int, transect_length: float):\n",
    "    transects = {'geometry':[], 'nx':[], 'ny':[], 'midpoint': [], 'length': []}\n",
    "    (x_array, y_array) = channel_centre_lines.loc[channel_id].geometry.xy\n",
    "    for i in range(len(x_array)-1):\n",
    "        # calculate midpoint\n",
    "        midpoint = [(x_array[i] + x_array[i+1])/2, (y_array[i] + y_array[i+1])/2]\n",
    "\n",
    "        # caclulate slope along segment\n",
    "        dx = (x_array[i+1] - x_array[i])/numpy.sqrt((x_array[i+1] - x_array[i])**2 + (y_array[i+1] - y_array[i])**2)\n",
    "        dy = (y_array[i+1] - y_array[i])/numpy.sqrt((x_array[i+1] - x_array[i])**2 + (y_array[i+1] - y_array[i])**2)\n",
    "        \n",
    "        # record nirmal to a segment nx and ny\n",
    "        transects['nx'].append(-dy)\n",
    "        transects['ny'].append(dx)\n",
    "\n",
    "        # calculate transect - using effectively nx and ny\n",
    "        transects['geometry'].append(shapely.geometry.LineString([[midpoint[0] + transect_length * dy, midpoint[1] - transect_length * dx],\n",
    "                                                      midpoint,\n",
    "                                                      [midpoint[0] - transect_length * dy, midpoint[1] + transect_length * dx]]))\n",
    "        transects['midpoint'].append(shapely.geometry.Point(midpoint))\n",
    "        # record the length of the line segment\n",
    "        transects['length'].append(numpy.sqrt((x_array[i+1]-x_array[i])**2 + (y_array[i+1] - y_array[i])**2))\n",
    "    transects = geopandas.GeoDataFrame(transects, crs=channel_centre_lines.crs) \n",
    "    return transects"
   ]
  },
  {
   "cell_type": "code",
   "execution_count": null,
   "id": "5f038a77",
   "metadata": {},
   "outputs": [],
   "source": [
    "transects = transects_along_reaches(sampled_waikanae_manual_rivers, 0, transect_length)"
   ]
  },
  {
   "cell_type": "code",
   "execution_count": null,
   "id": "2f1aad45",
   "metadata": {},
   "outputs": [],
   "source": [
    "f, ax = matplotlib.pyplot.subplots(figsize=(11, 4))\n",
    "\n",
    "waikane_dem.plot(ax=ax)\n",
    "\n",
    "waikanae_manual_rivers[waikanae_manual_rivers['id']==0].plot(color='green', linewidth=3, ax=ax)\n",
    "\n",
    "transects.plot(color='blue',\n",
    "                    edgecolor='teal',\n",
    "                    linewidth=2,\n",
    "                    ax=ax)\n",
    "\n",
    "ax.set(title=\"Raster Layer with Vector Overlay\")\n",
    "ax.axis('off')\n",
    "matplotlib.pyplot.show()"
   ]
  },
  {
   "cell_type": "markdown",
   "id": "7cf6e680",
   "metadata": {},
   "source": [
    "### Sample elevations along each transect at the resolution"
   ]
  },
  {
   "cell_type": "code",
   "execution_count": null,
   "id": "45d09318",
   "metadata": {},
   "outputs": [],
   "source": [
    "def sample_from_transects(transects: geopandas.GeoDataFrame, dem: xarray.core.dataarray.DataArray, transect_length: float, resolution: float):\n",
    "    \n",
    "    # number of transect samples - ensure be odd\n",
    "    number_of_samples = int(numpy.floor(transect_length/resolution) * 2 - 1)\n",
    "    sample_index_array = numpy.arange(-numpy.floor(number_of_samples/2), numpy.floor(number_of_samples/2) + 1, 1)\n",
    "    \n",
    "    transect_samples = {'elevations': [], 'xx': [], 'yy': [], 'min_z':[]}\n",
    "    \n",
    "    # create tree to sample from\n",
    "    grid_x, grid_y = numpy.meshgrid(dem.x, dem.y)\n",
    "    xy_in = numpy.concatenate([[grid_x.flatten()], [grid_y.flatten()]], axis=0).transpose()\n",
    "    tree = scipy.spatial.KDTree(xy_in)\n",
    "    \n",
    "    # cycle through each transect - calculate sample points then look up\n",
    "    for index, row in transects.iterrows():\n",
    "        #calculate xx, and yy points to sample at\n",
    "        if row['nx'] == 0:\n",
    "            xx=row.midpoint.x + numpy.zeros(number_of_samples)\n",
    "        else:\n",
    "            xx=row.midpoint.x + sample_index_array * resolution * row['nx']\n",
    "        if row['ny'] == 0:\n",
    "            yy=row.midpoint.y + numpy.zeros(number_of_samples)\n",
    "        else:\n",
    "            yy=row.midpoint.y + sample_index_array * resolution * row['ny']\n",
    "        \n",
    "        # Sample the elevations at along the transect\n",
    "        xy_points = numpy.concatenate([[xx], [yy]], axis=0).transpose()\n",
    "        assert len(xy_points) == 199, f\"{len(xx)}, {len(yy)}, {len(xy_points)}, {row['nx']}, {row['ny']}\"\n",
    "        distances, indices = tree.query(xy_points)\n",
    "        elevations = dem.data.flatten()[indices]\n",
    "        transect_samples['elevations'].append(elevations)\n",
    "        transect_samples['min_z'].append(numpy.nanmin(elevations))\n",
    "    \n",
    "    return transect_samples"
   ]
  },
  {
   "cell_type": "code",
   "execution_count": null,
   "id": "8b7b42eb",
   "metadata": {},
   "outputs": [],
   "source": [
    "numpy.argmin([1,2,3, numpy.nan])"
   ]
  },
  {
   "cell_type": "code",
   "execution_count": null,
   "id": "7d149707",
   "metadata": {},
   "outputs": [],
   "source": [
    "transect_samples = sample_from_transects(transects, waikane_dem, transect_length, resolution)\n",
    "transect_samples_linear = sample_from_transects(transects, waikane_dem_linear, transect_length, resolution)"
   ]
  },
  {
   "cell_type": "markdown",
   "id": "9532cb66",
   "metadata": {},
   "source": [
    "### Plot transect elevations"
   ]
  },
  {
   "cell_type": "code",
   "execution_count": null,
   "id": "cde63647",
   "metadata": {},
   "outputs": [],
   "source": [
    "for elevations, min_z in zip(transect_samples['elevations'], transect_samples['min_z']):\n",
    "    matplotlib.pyplot.plot(elevations - min_z)"
   ]
  },
  {
   "cell_type": "code",
   "execution_count": null,
   "id": "bd1853a8",
   "metadata": {},
   "outputs": [],
   "source": [
    "for elevations, min_z in zip(transect_samples_linear['elevations'], transect_samples_linear['min_z']):\n",
    "    matplotlib.pyplot.plot(elevations - min_z)"
   ]
  },
  {
   "cell_type": "markdown",
   "id": "43e17200",
   "metadata": {},
   "source": [
    "# Calculate width and slope\n",
    "Use the linear interpolation as we have results everywhere"
   ]
  },
  {
   "cell_type": "code",
   "execution_count": null,
   "id": "a4f0b269",
   "metadata": {},
   "outputs": [],
   "source": [
    "def width_from_samples(transects: geopandas.GeoDataFrame, transect_samples: dict, threshold: float, resolution: float):\n",
    "    \n",
    "    widths = {'widths': [], 'first_widths': [], 'last_widths': []}\n",
    "    \n",
    "    for j in range(len(transect_samples['elevations'])):\n",
    "    \n",
    "        assert numpy.floor(len(transect_samples['elevations'][j])/2) != len(transect_samples['elevations'][j])/2, \"Expect an odd length\"\n",
    "        start_i = numpy.nan\n",
    "        stop_i = numpy.nan\n",
    "        centre_index = int(numpy.floor(len(transect_samples['elevations'][j])/2))\n",
    "        \n",
    "        for i in numpy.arange(0, centre_index, 1):\n",
    "            # work forward checking height\n",
    "            if transect_samples['elevations'][j][centre_index + i] - transects.loc[j]['upstream_min_z'] > threshold and numpy.isnan(stop_i):\n",
    "                stop_i = centre_index + i\n",
    "            # work backward checking height\n",
    "            if transect_samples['elevations'][j][centre_index - i] - transects.loc[j]['upstream_min_z'] > threshold and numpy.isnan(start_i):\n",
    "                start_i = centre_index - i\n",
    "        \n",
    "        widths['first_widths'].append((centre_index-start_i)*resolution)\n",
    "        widths['last_widths'].append((stop_i-centre_index)*resolution)\n",
    "        widths['widths'].append((stop_i - start_i)*resolution)\n",
    "    \n",
    "    return widths"
   ]
  },
  {
   "cell_type": "code",
   "execution_count": null,
   "id": "302d59db",
   "metadata": {},
   "outputs": [],
   "source": [
    "def width_from_samples_zeroed(transects: geopandas.GeoDataFrame, transect_samples: dict, threshold: float, resolution: float):\n",
    "    \n",
    "    widths = {'widths': [], 'first_widths': [], 'last_widths': []}\n",
    "    \n",
    "    for j in range(len(transect_samples['elevations'])):\n",
    "        \n",
    "        zeroed_elevations = transect_samples['elevations'][j]-transects.loc[j]['mean_min_z']\n",
    "    \n",
    "        assert numpy.floor(len(zeroed_elevations)/2) != len(zeroed_elevations)/2, \"Expect an odd length\"\n",
    "        start_i = numpy.nan\n",
    "        stop_i = numpy.nan\n",
    "        centre_index = int(numpy.floor(len(zeroed_elevations)/2))\n",
    "        \n",
    "        for i in numpy.arange(0, centre_index, 1):\n",
    "            # work forward checking height\n",
    "            if zeroed_elevations[centre_index + i] - zeroed_elevations[centre_index] > threshold and numpy.isnan(stop_i):\n",
    "                stop_i = centre_index + i\n",
    "            # work backward checking height\n",
    "            if zeroed_elevations[centre_index - i] - zeroed_elevations[centre_index] > threshold and numpy.isnan(start_i):\n",
    "                start_i = centre_index - i\n",
    "        \n",
    "        widths['first_widths'].append((centre_index-start_i)*resolution)\n",
    "        widths['last_widths'].append((stop_i-centre_index)*resolution)\n",
    "        widths['widths'].append((stop_i - start_i)*resolution)\n",
    "    \n",
    "    return widths"
   ]
  },
  {
   "cell_type": "markdown",
   "id": "ab443864",
   "metadata": {},
   "source": [
    "Calculate the rolling average of minimum elevations - note same for samples and linear interpolated samples"
   ]
  },
  {
   "cell_type": "code",
   "execution_count": null,
   "id": "b74c1fd1",
   "metadata": {},
   "outputs": [],
   "source": [
    "transects['min_z'] = transect_samples['min_z']\n",
    "transects['mean_min_z'] = transects['min_z'].rolling(5, center=True).mean()\n",
    "transects.loc[numpy.isnan(transects['mean_min_z']), ('mean_min_z')] = transects['min_z'][numpy.isnan(transects['mean_min_z'])]"
   ]
  },
  {
   "cell_type": "markdown",
   "id": "dbbea8cb",
   "metadata": {},
   "source": [
    "Calculate the minimum upstream river depth"
   ]
  },
  {
   "cell_type": "code",
   "execution_count": null,
   "id": "f111b2d1",
   "metadata": {},
   "outputs": [],
   "source": [
    "min_z = transects['mean_min_z']\n",
    "upstream_min_z = numpy.zeros(len(min_z))\n",
    "upstream_min_z[-1] = min_z[len(min_z) - 1]\n",
    "for i in range(len(min_z) - 2, -1, -1): # range [len-1, len-2, len-3, ..., 2, 1, 0]\n",
    "    upstream_min_z[i] = min_z[i] if min_z[i] < upstream_min_z[i + 1] else upstream_min_z[i + 1]\n",
    "transects['upstream_min_z'] = upstream_min_z"
   ]
  },
  {
   "cell_type": "markdown",
   "id": "bec12839",
   "metadata": {},
   "source": [
    "## Calculate widths"
   ]
  },
  {
   "cell_type": "code",
   "execution_count": null,
   "id": "82b910c3",
   "metadata": {},
   "outputs": [],
   "source": [
    "threshold = 1\n",
    "widths_linear = width_from_samples(transects, transect_samples_linear, threshold, resolution)\n",
    "widths = width_from_samples(transects, transect_samples, threshold, resolution)"
   ]
  },
  {
   "cell_type": "code",
   "execution_count": null,
   "id": "f5b5b8b2",
   "metadata": {},
   "outputs": [],
   "source": [
    "widths_input = widths"
   ]
  },
  {
   "cell_type": "code",
   "execution_count": null,
   "id": "adad8da9",
   "metadata": {},
   "outputs": [],
   "source": [
    "def apply_bank_width(midpoint, nx, ny, first_widths, last_widths):\n",
    "    \n",
    "    return shapely.geometry.LineString([[midpoint.x - first_widths * nx, midpoint.y - first_widths * ny],\n",
    "                                                      midpoint,\n",
    "                                                      [midpoint.x + last_widths * nx, midpoint.y + last_widths * ny]])"
   ]
  },
  {
   "cell_type": "code",
   "execution_count": null,
   "id": "e788608d",
   "metadata": {},
   "outputs": [],
   "source": [
    "transects['width'] = widths_input['widths']\n",
    "transects['first_widths'] = widths_input['first_widths']\n",
    "transects['last_widths'] = widths_input['last_widths']\n",
    "transects['slope'] = transects['upstream_min_z'].diff()/transects['length']\n",
    "transects['width_line'] = transects.apply(lambda x: apply_bank_width(x['midpoint'], x['nx'], x['ny'], x['first_widths'], x['last_widths']), axis=1)"
   ]
  },
  {
   "cell_type": "code",
   "execution_count": null,
   "id": "5b81b9e6",
   "metadata": {},
   "outputs": [],
   "source": [
    "transects.loc[transects['width']==0, ('width')] = numpy.nan"
   ]
  },
  {
   "cell_type": "code",
   "execution_count": null,
   "id": "6355b3a2",
   "metadata": {},
   "outputs": [],
   "source": [
    "display_line_widths = geopandas.GeoDataFrame(geometry=transects['width_line'][~numpy.isnan(transects['width'])], crs=transects.crs)"
   ]
  },
  {
   "cell_type": "code",
   "execution_count": null,
   "id": "aa2cbf1c",
   "metadata": {},
   "outputs": [],
   "source": [
    "f, ax = matplotlib.pyplot.subplots(figsize=(20, 8))\n",
    "\n",
    "waikane_dem.plot(ax=ax)\n",
    "\n",
    "waikanae_manual_rivers[waikanae_manual_rivers['id']==0].plot(color='green', linewidth=3, ax=ax)\n",
    "\n",
    "display_line_widths.plot(color='blue',\n",
    "                    edgecolor='teal',\n",
    "                    linewidth=2,\n",
    "                    ax=ax)\n",
    "\n",
    "ax.set(title=\"Raster Layer with Vector Overlay\")\n",
    "ax.axis('off')\n",
    "matplotlib.pyplot.show()"
   ]
  },
  {
   "cell_type": "markdown",
   "id": "8e92e8e8",
   "metadata": {},
   "source": [
    "### Save out results\n",
    "* Table: 10m spaced width, height and slope values along the reach - alongside the midpoint values\n",
    "* Plot: width as a line over the LiDAR - will need the midpoint, nx, ny, and start and stop indices"
   ]
  },
  {
   "cell_type": "code",
   "execution_count": null,
   "id": "b04387f9",
   "metadata": {},
   "outputs": [],
   "source": [
    "transects.drop(columns=['midpoint', 'width_line']).to_file(fr\"C:\\Users\\pearsonra\\Documents\\data\\river_bathemetry\\waikanae\\waikanae_trasects_mean_depth_{sampling_resolution}m_downriver_{threshold}m_bank_thresh_upstream_linear.geojson\")\n",
    "display_line_widths.to_file(fr\"C:\\Users\\pearsonra\\Documents\\data\\river_bathemetry\\waikanae\\waikanae_width_mean_depth_{sampling_resolution}m_downriver_{threshold}m_bank_thresh_upstream_linear.geojson\")"
   ]
  },
  {
   "cell_type": "code",
   "execution_count": null,
   "id": "b324775f",
   "metadata": {},
   "outputs": [],
   "source": [
    "f, ax = matplotlib.pyplot.subplots(figsize=(20, 8))\n",
    "transects['width'].plot(ax=ax)\n",
    "ax.set(title=f\"Widths for {threshold}m threshold\")\n",
    "matplotlib.pyplot.xlabel(f\"Transect number (spaced every {sampling_resolution}m upstream)\")\n",
    "matplotlib.pyplot.ylabel(f\"River width in m\");"
   ]
  },
  {
   "cell_type": "code",
   "execution_count": null,
   "id": "944a637b",
   "metadata": {},
   "outputs": [],
   "source": [
    "f, ax = matplotlib.pyplot.subplots(figsize=(20, 8))\n",
    "transects['width'].plot(ax=ax)\n",
    "ax.set(title=f\"Widths for {threshold}m threshold\")\n",
    "matplotlib.pyplot.xlabel(f\"Transect number (spaced every {sampling_resolution}m upstream)\")\n",
    "matplotlib.pyplot.ylabel(f\"River width in m\");"
   ]
  },
  {
   "cell_type": "code",
   "execution_count": null,
   "id": "8765f613",
   "metadata": {},
   "outputs": [],
   "source": [
    "f, ax = matplotlib.pyplot.subplots(figsize=(20, 8))\n",
    "transects['width'].plot(ax=ax)\n",
    "ax.set(title=f\"Widths for {threshold}m threshold\")\n",
    "matplotlib.pyplot.xlabel(f\"Transect number (spaced every {sampling_resolution}m upstream)\")\n",
    "matplotlib.pyplot.ylabel(f\"River width in m\");"
   ]
  },
  {
   "cell_type": "markdown",
   "id": "cbf3a2ac",
   "metadata": {},
   "source": [
    "## Plot width on line plot with elevation transect"
   ]
  },
  {
   "cell_type": "markdown",
   "id": "0e5e0202",
   "metadata": {},
   "source": [
    "## Plot bank locations alongside transects on DEM in plan view"
   ]
  },
  {
   "cell_type": "markdown",
   "id": "14bf5d72",
   "metadata": {},
   "source": [
    "## Save out river bank points or width lines"
   ]
  },
  {
   "cell_type": "code",
   "execution_count": null,
   "id": "4e75fd8c",
   "metadata": {},
   "outputs": [],
   "source": [
    "flat_waikanae_river_area.head(5)"
   ]
  },
  {
   "cell_type": "markdown",
   "id": "08c2e828",
   "metadata": {},
   "source": [
    "# Find which reach id a section intersects with"
   ]
  },
  {
   "cell_type": "code",
   "execution_count": null,
   "id": "ab75d02b",
   "metadata": {},
   "outputs": [],
   "source": [
    "transects_to_matt = transects.drop(columns=['nx', 'ny', 'length', 'min_z', 'first_widths', 'last_widths', 'width_line', 'mean_min_z', 'upstream_min_z'])\n",
    "transects_to_matt['nzsegment'] = numpy.zeros(len(transects_to_matt['width']), dtype=int) * -1\n",
    "for i, row in flat_waikanae_river_area.iterrows():\n",
    "    transects_to_matt.loc[transects_to_matt.intersects(row.geometry), ('nzsegment')] = row['nzsegment']"
   ]
  },
  {
   "cell_type": "code",
   "execution_count": null,
   "id": "e21d7bc8",
   "metadata": {},
   "outputs": [],
   "source": [
    "transects_to_matt.to_csv(fr\"C:\\Users\\pearsonra\\Documents\\data\\river_bathemetry\\waikanae\\waikanae_river_widths_at_{sampling_resolution}m_upriver_spacing_{threshold}m_bank_threshold_upstream.csv\")"
   ]
  },
  {
   "cell_type": "code",
   "execution_count": null,
   "id": "6c544a3d",
   "metadata": {},
   "outputs": [],
   "source": [
    "transects_to_matt.drop(columns=['midpoint']).to_file(fr\"C:\\Users\\pearsonra\\Documents\\data\\river_bathemetry\\waikanae\\waikanae_river_widths_at_{sampling_resolution}m_upriver_spacing_{threshold}m_bank_threshold_upstream.geojson\")"
   ]
  },
  {
   "cell_type": "code",
   "execution_count": null,
   "id": "a2779780",
   "metadata": {},
   "outputs": [],
   "source": [
    "transects_to_matt"
   ]
  },
  {
   "cell_type": "code",
   "execution_count": null,
   "id": "c3fd6f98",
   "metadata": {},
   "outputs": [],
   "source": [
    "transects_to_matt.loc[transects_to_matt.intersects(flat_waikanae_river_area.iloc[].geometry), ('nzsegment')] = row['nzsegment']"
   ]
  },
  {
   "cell_type": "code",
   "execution_count": null,
   "id": "8678076e",
   "metadata": {},
   "outputs": [],
   "source": [
    "flat_waikanae_river_area.head()"
   ]
  },
  {
   "cell_type": "code",
   "execution_count": null,
   "id": "2e476493",
   "metadata": {},
   "outputs": [],
   "source": []
  }
 ],
 "metadata": {
  "kernelspec": {
   "display_name": "Python [conda env:geofabricsdask]",
   "language": "python",
   "name": "conda-env-geofabricsdask-py"
  },
  "language_info": {
   "codemirror_mode": {
    "name": "ipython",
    "version": 3
   },
   "file_extension": ".py",
   "mimetype": "text/x-python",
   "name": "python",
   "nbconvert_exporter": "python",
   "pygments_lexer": "ipython3",
   "version": "3.9.7"
  }
 },
 "nbformat": 4,
 "nbformat_minor": 5
}
