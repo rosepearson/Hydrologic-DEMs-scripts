{
 "cells": [
  {
   "cell_type": "code",
   "execution_count": null,
   "metadata": {},
   "outputs": [],
   "source": [
    "import pathlib\n",
    "import requests\n",
    "import urllib\n",
    "import dotenv\n",
    "import os\n",
    "import shapely\n",
    "import shapely.geometry\n",
    "import geopandas"
   ]
  },
  {
   "cell_type": "code",
   "execution_count": null,
   "metadata": {},
   "outputs": [],
   "source": [
    "SCHEME = \"https\"\n",
    "NETLOC_API = \"lris.scinfo.org.nz\"\n",
    "WFS_PATH_API_START = \"/services;key=\"\n",
    "WFS_PATH_API_END = \"/wfs\"\n",
    "\n",
    "dotenv.load_dotenv()\n",
    "KEY = os.environ.get('LRIS_API', None)\n",
    "\n",
    "CRS = \"EPSG:2193\"\n",
    "\n",
    "data_url = urllib.parse.urlunparse((SCHEME, NETLOC_API, f\"{WFS_PATH_API_START}{KEY}{WFS_PATH_API_END}\", \"\", \"\", \"\"))"
   ]
  },
  {
   "cell_type": "code",
   "execution_count": null,
   "metadata": {},
   "outputs": [],
   "source": [
    "KEY"
   ]
  },
  {
   "cell_type": "code",
   "execution_count": null,
   "metadata": {},
   "outputs": [],
   "source": [
    "x0 = 1752000\n",
    "x1 = 1753000\n",
    "y0 = 5430000\n",
    "y1 = 5440000"
   ]
  },
  {
   "cell_type": "code",
   "execution_count": null,
   "metadata": {},
   "outputs": [],
   "source": [
    "bbox = shapely.geometry.Polygon([(x0, y0), (x0, y1), (x1, y1), (x1, y0)])\n",
    "bbox = geopandas.GeoSeries([bbox])\n",
    "bbox = bbox.set_crs(CRS)"
   ]
  },
  {
   "cell_type": "code",
   "execution_count": null,
   "metadata": {},
   "outputs": [],
   "source": [
    "def make_api_params(layer, geometry_type):\n",
    "    api_query = {\n",
    "                \"service\": \"WFS\",\n",
    "                \"version\": 2.0,\n",
    "                \"request\": \"GetFeature\",\n",
    "                \"typeNames\": f\"layer-{layer}\",\n",
    "                \"outputFormat\": \"json\",\n",
    "                \"SRSName\": f\"{CRS}\",\n",
    "                \"cql_filter\": f\"bbox({geometry_type}, {y0}, {x0}, \" +\n",
    "                              f\"{y1}, {x1}, \" +\n",
    "                              f\"'urn:ogc:def:crs:{CRS}')\"\n",
    "            }\n",
    "    return api_query"
   ]
  },
  {
   "cell_type": "code",
   "execution_count": null,
   "metadata": {},
   "outputs": [],
   "source": [
    "def get_features_in_bounds(json_response, bbox):\n",
    "    crs = json_response['crs']['properties']['name']\n",
    "\n",
    "    # Cycle through each feature checking in bounds and getting geometry and properties\n",
    "    features = {'geometry': []}\n",
    "    for feature in json_response['features']:\n",
    "\n",
    "        shapely_geometry = shapely.geometry.shape(feature['geometry'])\n",
    "\n",
    "        # check intersection of tile and catchment in LINZ CRS\n",
    "        if bbox.intersects(shapely_geometry).any():\n",
    "\n",
    "            # Create column headings for each 'properties' option from the first in-bounds vector\n",
    "            if len(features['geometry']) == 0:\n",
    "                for key in feature['properties'].keys():\n",
    "                    features[key] = []  # The empty list to append the property values too\n",
    "\n",
    "            # Convert any one Polygon MultiPolygon to a straight Polygon then add to the geometries\n",
    "            if (shapely_geometry.geometryType() == 'MultiPolygon' and len(shapely_geometry) == 1):\n",
    "                shapely_geometry = shapely_geometry[0]\n",
    "            features['geometry'].append(shapely_geometry)\n",
    "\n",
    "            # Add the value of each property in turn\n",
    "            for key in feature['properties'].keys():\n",
    "                features[key].append(feature['properties'][key])\n",
    "\n",
    "    # Convert to a geopandas dataframe\n",
    "    if len(features) > 0:\n",
    "        features = geopandas.GeoDataFrame(features, crs=crs)\n",
    "    else:\n",
    "        features = None\n",
    "    return features"
   ]
  },
  {
   "cell_type": "markdown",
   "metadata": {},
   "source": [
    "## North Island pasture productivity"
   ]
  },
  {
   "cell_type": "code",
   "execution_count": null,
   "metadata": {},
   "outputs": [],
   "source": [
    "layer = 105112\n",
    "geom_type = \"Shape\"\n",
    "\n",
    "params = make_api_params(layer, geom_type)\n",
    "\n",
    "response = requests.get(data_url, params=params, stream=True)\n",
    "response.raise_for_status()\n",
    "json_response=response.json()\n",
    "requests.Request('POST', data_url, params=params).prepare().url\n",
    "features = get_features_in_bounds(json_response, bbox)"
   ]
  },
  {
   "cell_type": "code",
   "execution_count": null,
   "metadata": {},
   "outputs": [],
   "source": [
    "[features.geometry.area.sum(), features.geometry.length.sum(), features.columns, \n",
    " features.loc[0].geometry.geometryType(), list(features['uid'][0:5])]"
   ]
  },
  {
   "cell_type": "markdown",
   "metadata": {},
   "source": [
    "# LCDB v5.0"
   ]
  },
  {
   "cell_type": "code",
   "execution_count": null,
   "metadata": {},
   "outputs": [],
   "source": [
    "layer = 104400\n",
    "geom_type = \"GEOMETRY\"\n",
    "params = make_api_params(layer, geom_type)\n",
    "\n",
    "response = requests.get(data_url, params=params, stream=True)\n",
    "response.raise_for_status()\n",
    "json_response=response.json()\n",
    "requests.Request('POST', data_url, params=params).prepare().url\n",
    "features = get_features_in_bounds(json_response, bbox)"
   ]
  },
  {
   "cell_type": "code",
   "execution_count": null,
   "metadata": {},
   "outputs": [],
   "source": [
    "[features.geometry.area.sum(), features.geometry.length.sum(), features.columns, \n",
    " features.loc[0].geometry.geometryType(), list(features['Class_2018'][0:5])]"
   ]
  },
  {
   "cell_type": "markdown",
   "metadata": {},
   "source": [
    "# Create tests for no boundary filter"
   ]
  },
  {
   "cell_type": "code",
   "execution_count": null,
   "metadata": {},
   "outputs": [],
   "source": [
    "def make_api_params_no_bounds(layer):\n",
    "    api_query = {\n",
    "                \"service\": \"WFS\",\n",
    "                \"version\": 2.0,\n",
    "                \"request\": \"GetFeature\",\n",
    "                \"typeNames\": f\"layer-{layer}\",\n",
    "                \"outputFormat\": \"json\",\n",
    "                \"SRSName\": f\"{CRS}\"\n",
    "            }\n",
    "    return api_query"
   ]
  },
  {
   "cell_type": "code",
   "execution_count": null,
   "metadata": {},
   "outputs": [],
   "source": [
    "def get_features_no_bounds(json_response):\n",
    "    crs = json_response['crs']['properties']['name']\n",
    "\n",
    "    # Cycle through each feature checking in bounds and getting geometry and properties\n",
    "    features = {'geometry': []}\n",
    "    for feature in json_response['features']:\n",
    "\n",
    "        shapely_geometry = shapely.geometry.shape(feature['geometry'])\n",
    "\n",
    "        # Create column headings for each 'properties' option from the first in-bounds vector\n",
    "        if len(features['geometry']) == 0:\n",
    "            for key in feature['properties'].keys():\n",
    "                features[key] = []  # The empty list to append the property values too\n",
    "\n",
    "        # Convert any one Polygon MultiPolygon to a straight Polygon then add to the geometries\n",
    "        if (shapely_geometry.geometryType() == 'MultiPolygon' and len(shapely_geometry) == 1):\n",
    "            shapely_geometry = shapely_geometry[0]\n",
    "        features['geometry'].append(shapely_geometry)\n",
    "\n",
    "        # Add the value of each property in turn\n",
    "        for key in feature['properties'].keys():\n",
    "            features[key].append(feature['properties'][key])\n",
    "\n",
    "    # Convert to a geopandas dataframe\n",
    "    if len(features) > 0:\n",
    "        features = geopandas.GeoDataFrame(features, crs=crs)\n",
    "    else:\n",
    "        features = None\n",
    "    return features"
   ]
  },
  {
   "cell_type": "markdown",
   "metadata": {},
   "source": [
    "## North Island National Pasture Productivity"
   ]
  },
  {
   "cell_type": "code",
   "execution_count": null,
   "metadata": {},
   "outputs": [],
   "source": [
    "params = make_api_params_no_bounds(48556)\n",
    "response = requests.get(data_url, params=params, stream=True)\n",
    "response.raise_for_status()\n",
    "json_response=response.json()\n",
    "features = get_features_no_bounds(json_response)"
   ]
  },
  {
   "cell_type": "code",
   "execution_count": null,
   "metadata": {},
   "outputs": [],
   "source": [
    "[features.geometry.area.sum(), features.geometry.length.sum(), features.columns, \n",
    " features.loc[0].geometry.geometryType(), list(features['Area'][0:5])]"
   ]
  },
  {
   "cell_type": "markdown",
   "metadata": {},
   "source": [
    "## LCDB v5.0"
   ]
  },
  {
   "cell_type": "code",
   "execution_count": null,
   "metadata": {},
   "outputs": [],
   "source": [
    "params = make_api_params_no_bounds(48155)\n",
    "response = requests.get(data_url, params=params, stream=True)\n",
    "response.raise_for_status()\n",
    "json_response=response.json()\n",
    "features = get_features_no_bounds(json_response)"
   ]
  },
  {
   "cell_type": "code",
   "execution_count": null,
   "metadata": {},
   "outputs": [],
   "source": [
    "[features.geometry.area.sum(), features.geometry.length.sum(), features.columns, \n",
    " features.loc[0].geometry.geometryType(), list(features['DOMSOI'][0:5])]"
   ]
  },
  {
   "cell_type": "code",
   "execution_count": null,
   "metadata": {},
   "outputs": [],
   "source": []
  }
 ],
 "metadata": {
  "kernelspec": {
   "display_name": "Python [conda env:geofabrics]",
   "language": "python",
   "name": "conda-env-geofabrics-py"
  },
  "language_info": {
   "codemirror_mode": {
    "name": "ipython",
    "version": 3
   },
   "file_extension": ".py",
   "mimetype": "text/x-python",
   "name": "python",
   "nbconvert_exporter": "python",
   "pygments_lexer": "ipython3",
   "version": "3.9.6"
  }
 },
 "nbformat": 4,
 "nbformat_minor": 2
}
