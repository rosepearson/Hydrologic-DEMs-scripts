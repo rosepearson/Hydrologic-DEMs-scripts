{
 "cells": [
  {
   "cell_type": "code",
   "execution_count": null,
   "id": "673d3da6",
   "metadata": {},
   "outputs": [],
   "source": [
    "import geopandas\n",
    "import pathlib\n",
    "from IPython.core.display import display, HTML\n",
    "\n",
    "display(HTML(\"<style>.container { width:100% !important; }</style>\"))"
   ]
  },
  {
   "cell_type": "code",
   "execution_count": null,
   "id": "121d0495",
   "metadata": {},
   "outputs": [],
   "source": [
    "slope_file = pathlib.Path(r\"C:\\Users\\pearsonra\\Documents\\data\\river_bathemetry\\rec_domains\\rec2_4\\rec2_wshed_slopesV4.shp\")\n",
    "slope_data = geopandas.read_file(slope_file)"
   ]
  },
  {
   "cell_type": "markdown",
   "id": "ea9baba8",
   "metadata": {},
   "source": [
    "## Data sources"
   ]
  },
  {
   "cell_type": "markdown",
   "id": "d14eb209",
   "metadata": {},
   "source": [
    "* Building polygons - all sources - https://data.linz.govt.nz/layer/101292-nz-building-outlines-all-sources/\n",
    "* Populations - 2013 - https://datafinder.stats.govt.nz/layer/8437-population-by-meshblock-2013-census/\n",
    "* Building points - not many included - https://data.linz.govt.nz/layer/50245-nz-building-points-topo-150k/"
   ]
  },
  {
   "cell_type": "code",
   "execution_count": null,
   "id": "1103b822",
   "metadata": {},
   "outputs": [],
   "source": [
    "slope_data"
   ]
  },
  {
   "cell_type": "code",
   "execution_count": null,
   "id": "9cc4e7a8",
   "metadata": {},
   "outputs": [],
   "source": []
  },
  {
   "cell_type": "code",
   "execution_count": null,
   "id": "de25dd96",
   "metadata": {},
   "outputs": [],
   "source": []
  }
 ],
 "metadata": {
  "kernelspec": {
   "display_name": "Python [conda env:geofabricsdask]",
   "language": "python",
   "name": "conda-env-geofabricsdask-py"
  },
  "language_info": {
   "codemirror_mode": {
    "name": "ipython",
    "version": 3
   },
   "file_extension": ".py",
   "mimetype": "text/x-python",
   "name": "python",
   "nbconvert_exporter": "python",
   "pygments_lexer": "ipython3",
   "version": "3.9.7"
  }
 },
 "nbformat": 4,
 "nbformat_minor": 5
}
