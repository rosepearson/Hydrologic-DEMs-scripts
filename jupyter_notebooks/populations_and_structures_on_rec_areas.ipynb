{
 "cells": [
  {
   "cell_type": "code",
   "execution_count": null,
   "id": "673d3da6",
   "metadata": {},
   "outputs": [],
   "source": [
    "import geopandas\n",
    "import rioxarray\n",
    "import pathlib\n",
    "from IPython.core.display import display, HTML\n",
    "\n",
    "display(HTML(\"<style>.container { width:100% !important; }</style>\"))"
   ]
  },
  {
   "cell_type": "code",
   "execution_count": null,
   "id": "121d0495",
   "metadata": {},
   "outputs": [],
   "source": [
    "slope_file = pathlib.Path(r\"C:\\Users\\pearsonra\\Documents\\data\\river_bathemetry\\rec_domains\\rec2_4\\rec2_wshed_slopesV4.shp\")\n",
    "slope_data = geopandas.read_file(slope_file)\n",
    "watershed_file = pathlib.Path(r\"C:\\Users\\pearsonra\\Documents\\data\\network\\REC2_V4_FINAL\\recV2_4_watersheds.shp\")\n",
    "watershed_data = geopandas.read_file(watershed_file)"
   ]
  },
  {
   "cell_type": "markdown",
   "id": "ea9baba8",
   "metadata": {},
   "source": [
    "## Data sources"
   ]
  },
  {
   "cell_type": "markdown",
   "id": "d14eb209",
   "metadata": {},
   "source": [
    "* Building polygons - all sources - https://data.linz.govt.nz/layer/101292-nz-building-outlines-all-sources/\n",
    "* Populations - 2013 - https://datafinder.stats.govt.nz/layer/8437-population-by-meshblock-2013-census/\n",
    "* Building points - not many included - https://data.linz.govt.nz/layer/50245-nz-building-points-topo-150k/"
   ]
  },
  {
   "cell_type": "markdown",
   "id": "4b356687",
   "metadata": {},
   "source": [
    "### Catchment"
   ]
  },
  {
   "cell_type": "code",
   "execution_count": null,
   "id": "e32dce39",
   "metadata": {},
   "outputs": [],
   "source": [
    "object_id = 253624\n",
    "catchment_data = watershed_data[watershed_data['OBJECTID_1']==object_id]"
   ]
  },
  {
   "cell_type": "code",
   "execution_count": null,
   "id": "402699cd",
   "metadata": {},
   "outputs": [],
   "source": [
    "owslib.wms"
   ]
  },
  {
   "cell_type": "markdown",
   "id": "2eacd4be",
   "metadata": {},
   "source": [
    "### Load in DEMs\n",
    "Note load in the DEM in tiles and calculate the slope at each pixel except on the tile edges. \n",
    "In future:\n",
    "* We could clip offshore to save computation\n",
    "* We could load at tiles to eliminate edge effects"
   ]
  },
  {
   "cell_type": "code",
   "execution_count": null,
   "id": "64ceacd8",
   "metadata": {},
   "outputs": [],
   "source": [
    "dem_14 = rioxarray.rioxarray.open_rasterio(r\"C:\\Users\\pearsonra\\Documents\\data\\DEMs\\BackgroundDEM\\NZDEM_SoS_15m\\kx-14-palmerston-north-15m-dem-nzsosdem-v10-GTiff\\NZDEM_SoS_v1-0_14_Palmerston North_gf.tif\") # , chunks=True\n",
    "dem_16 = rioxarray.rioxarray.open_rasterio(r\"C:\\Users\\pearsonra\\Documents\\data\\DEMs\\BackgroundDEM\\NZDEM_SoS_15m\\kx-16-wellington-15m-dem-nzsosdem-v10-GTiff\\NZDEM_SoS_v1-0_16_Wellington_gf.tif\", chunks=True)"
   ]
  },
  {
   "cell_type": "code",
   "execution_count": null,
   "id": "ed01e0e1",
   "metadata": {},
   "outputs": [],
   "source": [
    "catchment_data.geometry.bounds"
   ]
  },
  {
   "cell_type": "code",
   "execution_count": null,
   "id": "2bdc3c5f",
   "metadata": {},
   "outputs": [],
   "source": [
    "#dem_14=dem_14.rio.clip(catchment_data.geometry)\n",
    "#dem_16=dem_16.rio.clip(catchment_data.geometry)"
   ]
  },
  {
   "cell_type": "markdown",
   "id": "e3cd36df",
   "metadata": {},
   "source": [
    "Overlap between the two files - can use either"
   ]
  },
  {
   "cell_type": "code",
   "execution_count": null,
   "id": "4a37d06e",
   "metadata": {},
   "outputs": [],
   "source": [
    "dem_14.plot()\n",
    "#dem_16.plot()"
   ]
  },
  {
   "cell_type": "markdown",
   "id": "c3a0a19a",
   "metadata": {},
   "source": [
    "### Previous slopes"
   ]
  },
  {
   "cell_type": "code",
   "execution_count": null,
   "id": "2c8a1662",
   "metadata": {},
   "outputs": [],
   "source": [
    "slope_data.head(3)"
   ]
  },
  {
   "cell_type": "code",
   "execution_count": null,
   "id": "4fd74442",
   "metadata": {},
   "outputs": [],
   "source": [
    "f, ax = matplotlib.pyplot.subplots(1, 4, figsize=(30, 5))\n",
    "slope_data[['MIN']].plot(ax=ax[0])\n",
    "slope_data[['MAX']].plot(ax=ax[1])\n",
    "slope_data[['STD']].plot(ax=ax[2])\n",
    "slope_data[['MEAN']].plot(ax=ax[3])"
   ]
  },
  {
   "cell_type": "markdown",
   "id": "152a1157",
   "metadata": {},
   "source": [
    "### Estimate slope\n",
    "Using the _planar method_ described in the arcGIS (How Slope works)[https://pro.arcgis.com/en/pro-app/2.8/tool-reference/spatial-analyst/how-slope-works.htm] page."
   ]
  },
  {
   "cell_type": "code",
   "execution_count": null,
   "id": "5eff6b34",
   "metadata": {},
   "outputs": [],
   "source": [
    "dem_14.data"
   ]
  },
  {
   "cell_type": "code",
   "execution_count": null,
   "id": "342225b7",
   "metadata": {},
   "outputs": [],
   "source": [
    "slope = numpy.ones_like(dem_14.data) * numpy.nan\n",
    "\n",
    "# get x, and y indices to calculate the slope at (i.e.)"
   ]
  },
  {
   "cell_type": "markdown",
   "id": "a824fe48",
   "metadata": {},
   "source": [
    "### Load in all of the N/S island"
   ]
  },
  {
   "cell_type": "code",
   "execution_count": null,
   "id": "e9c0fc2b",
   "metadata": {},
   "outputs": [],
   "source": [
    "ni_dem = rioxarray.rioxarray.open_rasterio(r\"C:\\Users\\pearsonra\\Documents\\data\\watersheds\\dems\\nidem_from_tiff.nc\", chunks=True)"
   ]
  },
  {
   "cell_type": "code",
   "execution_count": null,
   "id": "3ef69ef3",
   "metadata": {},
   "outputs": [],
   "source": [
    "ni_dem.rio.reproject(2193)"
   ]
  },
  {
   "cell_type": "code",
   "execution_count": null,
   "id": "45821bc7",
   "metadata": {},
   "outputs": [],
   "source": [
    "ni_dem.rio.clip(catchment_data.geometry)"
   ]
  },
  {
   "cell_type": "code",
   "execution_count": null,
   "id": "9bd12129",
   "metadata": {},
   "outputs": [],
   "source": [
    "t.compute()"
   ]
  },
  {
   "cell_type": "code",
   "execution_count": null,
   "id": "6f169c28",
   "metadata": {},
   "outputs": [],
   "source": [
    "t.plot(vmin=-2, vmax=1)"
   ]
  },
  {
   "cell_type": "markdown",
   "id": "039e0403",
   "metadata": {},
   "source": [
    "### Try to download tiles from WMTS"
   ]
  },
  {
   "cell_type": "code",
   "execution_count": null,
   "id": "7c156c62",
   "metadata": {},
   "outputs": [],
   "source": [
    "import owslib\n",
    "import owslib.wms\n",
    "import owslib.wmts\n",
    "import geoapis"
   ]
  },
  {
   "cell_type": "code",
   "execution_count": null,
   "id": "a973e512",
   "metadata": {},
   "outputs": [],
   "source": [
    "layer = 48081\n",
    "apikey = \"ENTER HERE\""
   ]
  },
  {
   "cell_type": "code",
   "execution_count": null,
   "id": "8367a8c7",
   "metadata": {},
   "outputs": [],
   "source": [
    "# https://lris.scinfo.org.nz/services;key=607f4a89db24407c94ac1df6274a523b/wmts/1.0.0/layer/48081/WMTSCapabilities.xml\n",
    "# http://tiles-a.koordinates.com/services;key=KEY/tiles/v4/layer=48081/EPSG:3857/{z}/{x}/{y}.png\n",
    "wms = owslib.wmts.WebMapTileService('https://lris.scinfo.org.nz/services;key=KEY/wmts/1.0.0/layer/48081')"
   ]
  }
 ],
 "metadata": {
  "kernelspec": {
   "display_name": "Python [conda env:geofabricsdask]",
   "language": "python",
   "name": "conda-env-geofabricsdask-py"
  },
  "language_info": {
   "codemirror_mode": {
    "name": "ipython",
    "version": 3
   },
   "file_extension": ".py",
   "mimetype": "text/x-python",
   "name": "python",
   "nbconvert_exporter": "python",
   "pygments_lexer": "ipython3",
   "version": "3.9.7"
  }
 },
 "nbformat": 4,
 "nbformat_minor": 5
}
