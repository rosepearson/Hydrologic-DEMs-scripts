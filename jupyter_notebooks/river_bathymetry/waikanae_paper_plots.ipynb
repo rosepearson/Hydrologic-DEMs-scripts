{
 "cells": [
  {
   "cell_type": "code",
   "execution_count": 1,
   "id": "bb30d87b",
   "metadata": {},
   "outputs": [
    {
     "data": {
      "text/html": [
       "<style>.container { width:100% !important; }</style>"
      ],
      "text/plain": [
       "<IPython.core.display.HTML object>"
      ]
     },
     "metadata": {},
     "output_type": "display_data"
    }
   ],
   "source": [
    "import warnings\n",
    "warnings.simplefilter(action='ignore', category=FutureWarning)\n",
    "\n",
    "import geopandas\n",
    "import pandas\n",
    "import pathlib\n",
    "import numpy\n",
    "import matplotlib\n",
    "import seaborn\n",
    "import shapely\n",
    "import rioxarray\n",
    "import matplotlib.pyplot\n",
    "from IPython.display import display, HTML\n",
    "\n",
    "display(HTML(\"<style>.container { width:100% !important; }</style>\"))"
   ]
  },
  {
   "cell_type": "markdown",
   "id": "182b23a0",
   "metadata": {},
   "source": [
    "# Plan\n",
    "* Load in GeoFabrics estimated width, depth and water surface height - (using those used in GeoFabrics - i.e. same level of smoothing)\n",
    "  * Calculate channel area - assume rectangular\n",
    "* Load in measured cross sections\n",
    "  * Transform to NZVD2016\n",
    "  * Calculate the channel area - use the same water height as the GeoFabrics estimates\n",
    "* Compare the results\n",
    "  * Take the nearest GeoFabrics cross section to each measured cross section\n",
    "  * Plot area's on the same plot"
   ]
  },
  {
   "cell_type": "code",
   "execution_count": 2,
   "id": "b8666144",
   "metadata": {},
   "outputs": [],
   "source": [
    "resolution = 10\n",
    "horizontal_crs = 2193"
   ]
  },
  {
   "cell_type": "markdown",
   "id": "2d90a150",
   "metadata": {},
   "source": [
    "### Load in GeoFabrics Bathymetry estimates"
   ]
  },
  {
   "cell_type": "code",
   "execution_count": 3,
   "id": "c3c02ca8",
   "metadata": {},
   "outputs": [],
   "source": [
    "cache_path = pathlib.Path(fr\"C:\\Users\\pearsonra\\Documents\\data\\Waikanae\\caches\\Wellington_2013\\measured_river_2x10_spacing\")\n",
    "dem_river = rioxarray.rioxarray.open_rasterio(cache_path / \"dem_10m_rivers_and_oceans.nc\", masked=True).squeeze(\"band\", drop=True)\n",
    "dem_no_river = rioxarray.rioxarray.open_rasterio(cache_path / \"dem_10m_oceans.nc\", masked=True).squeeze(\"band\", drop=True)"
   ]
  },
  {
   "cell_type": "code",
   "execution_count": 4,
   "id": "1f79b4a2",
   "metadata": {},
   "outputs": [],
   "source": [
    "river_centreline = geopandas.read_file(cache_path / \"aligned_channel_100000000.geojson\")\n",
    "river_polygon = geopandas.read_file(cache_path / \"river_polygon.geojson\")"
   ]
  },
  {
   "cell_type": "markdown",
   "id": "a7515f30",
   "metadata": {},
   "source": [
    "## Load in Measured cross sections\n",
    "See raw cell below for converting to NZVD2016. This has already been done so load in the converted one directly"
   ]
  },
  {
   "cell_type": "raw",
   "id": "ccbdbe5e",
   "metadata": {},
   "source": [
    "# Load in LVD measured cross sections\n",
    "cross_section_file = pathlib.Path(r\"C:/Users/pearsonra/Documents/data/river_bathemetry/sections/Waikanae/Waikanae_Cross_Sections_NIWA/2014_Survey_XS_NZTM.shp\")\n",
    "measured_sections = geopandas.read_file(cross_section_file)\n",
    "\n",
    "# LVD to NZVD2016 conversion\n",
    "local_datum_file = pathlib.Path(r\"C:\\Users\\pearsonra\\Documents\\data\\local_datums\\lds-wellington-1953-to-nzvd2016-conversion-raster-GTiff\"\n",
    "                                \"\\wellington-1953-to-nzvd2016-conversion-raster.tif\")\n",
    "import rioxarray\n",
    "local_vertical_datum = rioxarray.rioxarray.open_rasterio(local_datum_file, masked=True)\n",
    "def get_lvd_conversion(geometry, local_vertical_datum):\n",
    "    return local_vertical_datum.sel({'x': [geometry.x], 'y': [geometry.y]}, method='nearest').data[0,0,0]\n",
    "\n",
    "# Actually convert the heigfhts\n",
    "measured_sections['lvd_conversion'] = measured_sections.apply(lambda row: get_lvd_conversion(row.geometry, local_vertical_datum), axis=1)\n",
    "measured_sections['z_2016'] = measured_sections['Level'] - measured_sections['lvd_conversion']\n",
    "measured_sections['geometry'] = measured_sections.apply(lambda row: shapely.geometry.Point(row.geometry.x, row.geometry.y, row.z_2016), axis=1)\n",
    "\n",
    "# Save out results\n",
    "measured_sections.to_file(r\"C:/Users/pearsonra/Documents/data/river_bathemetry/sections/Waikanae/Waikanae_Cross_Sections_NIWA/2014_Survey_XS_NZVD2016.geojson\")"
   ]
  },
  {
   "cell_type": "code",
   "execution_count": 5,
   "id": "a5243d5d",
   "metadata": {},
   "outputs": [],
   "source": [
    "measured_sections = geopandas.read_file(r\"C:/Users/pearsonra/Documents/data/river_bathemetry/sections/Waikanae/Waikanae_Cross_Sections_NIWA/2014_Survey_XS_NZVD2016.geojson\")"
   ]
  },
  {
   "cell_type": "code",
   "execution_count": 6,
   "id": "b7b82b5b",
   "metadata": {},
   "outputs": [
    {
     "data": {
      "text/html": [
       "<div>\n",
       "<style scoped>\n",
       "    .dataframe tbody tr th:only-of-type {\n",
       "        vertical-align: middle;\n",
       "    }\n",
       "\n",
       "    .dataframe tbody tr th {\n",
       "        vertical-align: top;\n",
       "    }\n",
       "\n",
       "    .dataframe thead th {\n",
       "        text-align: right;\n",
       "    }\n",
       "</style>\n",
       "<table border=\"1\" class=\"dataframe\">\n",
       "  <thead>\n",
       "    <tr style=\"text-align: right;\">\n",
       "      <th></th>\n",
       "      <th>Number</th>\n",
       "      <th>Source</th>\n",
       "      <th>Section</th>\n",
       "      <th>Offset</th>\n",
       "      <th>Northing</th>\n",
       "      <th>Easting</th>\n",
       "      <th>Level</th>\n",
       "      <th>Code</th>\n",
       "      <th>Date</th>\n",
       "      <th>Upstream</th>\n",
       "      <th>lvd_conversion</th>\n",
       "      <th>z_2016</th>\n",
       "      <th>geometry</th>\n",
       "    </tr>\n",
       "  </thead>\n",
       "  <tbody>\n",
       "    <tr>\n",
       "      <th>0</th>\n",
       "      <td>10001.0</td>\n",
       "      <td>C</td>\n",
       "      <td>10.0</td>\n",
       "      <td>0.00</td>\n",
       "      <td>6035173.66</td>\n",
       "      <td>2679120.52</td>\n",
       "      <td>2.52</td>\n",
       "      <td>CP</td>\n",
       "      <td>20141022.0</td>\n",
       "      <td>0.0</td>\n",
       "      <td>0.356669</td>\n",
       "      <td>2.163331</td>\n",
       "      <td>POINT Z (1769102.282 5473458.894 2.163)</td>\n",
       "    </tr>\n",
       "    <tr>\n",
       "      <th>1</th>\n",
       "      <td>10002.0</td>\n",
       "      <td>F</td>\n",
       "      <td>10.0</td>\n",
       "      <td>0.09</td>\n",
       "      <td>6035173.75</td>\n",
       "      <td>2679120.55</td>\n",
       "      <td>2.59</td>\n",
       "      <td>SH</td>\n",
       "      <td>20141022.0</td>\n",
       "      <td>0.0</td>\n",
       "      <td>0.356669</td>\n",
       "      <td>2.233331</td>\n",
       "      <td>POINT Z (1769102.312 5473458.984 2.233)</td>\n",
       "    </tr>\n",
       "  </tbody>\n",
       "</table>\n",
       "</div>"
      ],
      "text/plain": [
       "    Number Source  Section  Offset    Northing     Easting  Level Code  \\\n",
       "0  10001.0      C     10.0    0.00  6035173.66  2679120.52   2.52   CP   \n",
       "1  10002.0      F     10.0    0.09  6035173.75  2679120.55   2.59   SH   \n",
       "\n",
       "         Date  Upstream  lvd_conversion    z_2016  \\\n",
       "0  20141022.0       0.0        0.356669  2.163331   \n",
       "1  20141022.0       0.0        0.356669  2.233331   \n",
       "\n",
       "                                  geometry  \n",
       "0  POINT Z (1769102.282 5473458.894 2.163)  \n",
       "1  POINT Z (1769102.312 5473458.984 2.233)  "
      ]
     },
     "execution_count": 6,
     "metadata": {},
     "output_type": "execute_result"
    }
   ],
   "source": [
    "measured_sections.head(2)"
   ]
  },
  {
   "cell_type": "markdown",
   "id": "1ad92398",
   "metadata": {},
   "source": [
    "### Simplify the measured points to min point/line strings"
   ]
  },
  {
   "cell_type": "code",
   "execution_count": 7,
   "id": "64d9a193",
   "metadata": {},
   "outputs": [],
   "source": [
    "measured_centres = {'Section': [], 'geometry': []}\n",
    "measured_lines = {'Section': [], 'geometry': [], 'min_elevation': []}\n",
    "for section in measured_sections['Section'].unique():\n",
    "    measured_section = measured_sections[measured_sections['Section'] == section]\n",
    "    measured_centre = measured_section[measured_section['Level']==measured_section['Level'].min()].iloc[0]\n",
    "    measured_centres['Section'].append(section)\n",
    "    measured_centres['geometry'].append(measured_centre['geometry'])\n",
    "    \n",
    "    measured_lines['Section'].append(section)\n",
    "    measured_lines['geometry'].append(shapely.geometry.LineString( [[measure_point.x, measure_point.y, measure_point.z] for measure_point in measured_section.geometry.values] ))\n",
    "    measured_lines['min_elevation'].append(measured_section['Level'].min())\n",
    "measured_centres = geopandas.GeoDataFrame(measured_centres, crs=horizontal_crs)\n",
    "measured_lines = geopandas.GeoDataFrame(measured_lines, crs=horizontal_crs)"
   ]
  },
  {
   "cell_type": "markdown",
   "id": "7e3dac64",
   "metadata": {},
   "source": [
    "## Sample DEM for elevations\n",
    "Record the Bias and STDev for each cross section against the two DEMS"
   ]
  },
  {
   "cell_type": "code",
   "execution_count": 11,
   "id": "39535fa3",
   "metadata": {},
   "outputs": [
    {
     "data": {
      "text/plain": [
       "<AxesSubplot:>"
      ]
     },
     "execution_count": 11,
     "metadata": {},
     "output_type": "execute_result"
    },
    {
     "data": {
      "image/png": "[encoded data removed]",
      "text/plain": [
       "<Figure size 720x360 with 1 Axes>"
      ]
     },
     "metadata": {
      "needs_background": "light"
     },
     "output_type": "display_data"
    }
   ],
   "source": [
    "import matplotlib.pyplot\n",
    "fig, ax = matplotlib.pyplot.subplots(ncols=1, nrows=1, figsize=(10, 5))\n",
    "river_polygon.plot(ax=ax)\n",
    "measured_lines.plot(ax=ax)"
   ]
  },
  {
   "cell_type": "markdown",
   "id": "efc9cd37",
   "metadata": {},
   "source": [
    "# Sample every 1m\n",
    "Use Linear interpolation in between"
   ]
  },
  {
   "cell_type": "code",
   "execution_count": 12,
   "id": "228f1a50",
   "metadata": {},
   "outputs": [
    {
     "name": "stdout",
     "output_type": "stream",
     "text": [
      "Section number = 0\n",
      "Section number = 1\n",
      "Section number = 2\n",
      "Section number = 3\n",
      "Section number = 4\n",
      "Section number = 5\n",
      "Section number = 6\n",
      "Section number = 7\n",
      "Section number = 8\n",
      "Section number = 9\n",
      "Section number = 10\n",
      "Section number = 11\n",
      "Section number = 12\n",
      "Section number = 13\n",
      "Section number = 14\n",
      "Section number = 15\n",
      "Section number = 16\n",
      "Section number = 17\n",
      "Section number = 18\n",
      "Section number = 19\n",
      "Section number = 20\n",
      "Section number = 21\n",
      "Section number = 22\n",
      "Section number = 23\n",
      "Section number = 24\n",
      "Section number = 25\n",
      "Section number = 26\n",
      "Section number = 27\n",
      "Section number = 28\n",
      "Section number = 29\n",
      "Section number = 30\n",
      "Section number = 31\n",
      "Section number = 32\n",
      "Section number = 33\n",
      "Section number = 34\n",
      "Section number = 35\n",
      "Section number = 36\n",
      "Section number = 37\n",
      "Section number = 38\n",
      "Section number = 39\n",
      "Section number = 40\n",
      "Section number = 41\n",
      "Section number = 42\n",
      "Section number = 43\n",
      "Section number = 44\n",
      "Section number = 45\n",
      "Section number = 46\n",
      "Section number = 47\n",
      "Section number = 48\n",
      "Section number = 49\n",
      "Section number = 50\n",
      "Section number = 51\n",
      "Section number = 52\n",
      "Section number = 53\n",
      "Section number = 54\n",
      "Section number = 55\n",
      "Section number = 56\n",
      "Section number = 57\n",
      "Section number = 58\n"
     ]
    }
   ],
   "source": [
    "comparisons_sampled = {\"Unconditioned DEM z\": [], \"Conditioned DEM z\": [], \"Measured Section z\": [], \"Section\": [], \"River\": [], \"Distance Upstream [m]\": [], \"Offset [m]\": []}\n",
    "for index, row in measured_lines.iterrows():\n",
    "    print(f\"Section number = {index}\")\n",
    "    line = row.geometry\n",
    "    distance_upstream = float(river_centreline.project(measured_centres.iloc[index].geometry))\n",
    "    for offset in list(range(int(numpy.ceil(line.length)))):\n",
    "        point = line.interpolate(offset)\n",
    "        comparisons_sampled[\"Unconditioned DEM z\"].append(float(dem_no_river.z.interp(x=point.x, y=point.y)))\n",
    "        comparisons_sampled[\"Conditioned DEM z\"].append(float(dem_river.z.interp(x=point.x, y=point.y)))\n",
    "        comparisons_sampled[\"Measured Section z\"].append(point.z)\n",
    "        comparisons_sampled[\"Section\"].append(row['Section'])\n",
    "        comparisons_sampled[\"River\"].append(river_polygon.iloc[0].geometry.contains(point))\n",
    "        comparisons_sampled[\"Distance Upstream [m]\"].append(distance_upstream)\n",
    "        comparisons_sampled[\"Offset [m]\"].append(offset)\n",
    "        \n",
    "comparisons_sampled = pandas.DataFrame.from_dict(comparisons_sampled)"
   ]
  },
  {
   "cell_type": "markdown",
   "id": "4216cb21",
   "metadata": {},
   "source": [
    "## Bed elevation errors\n",
    "95% confidence interval plot for the errors along each section in the river"
   ]
  },
  {
   "cell_type": "code",
   "execution_count": 13,
   "id": "ddb07c9f",
   "metadata": {},
   "outputs": [],
   "source": [
    "comparisons_sampled[\"Unconditioned DEM Elevation Errors\"] = comparisons_sampled[\"Unconditioned DEM z\"] - comparisons_sampled[\"Measured Section z\"]\n",
    "comparisons_sampled[\"Conditioned DEM Elevation Errors\"] = comparisons_sampled[\"Conditioned DEM z\"] - comparisons_sampled[\"Measured Section z\"]"
   ]
  },
  {
   "cell_type": "code",
   "execution_count": 15,
   "id": "49c506b2",
   "metadata": {},
   "outputs": [
    {
     "data": {
      "text/html": [
       "<div>\n",
       "<style scoped>\n",
       "    .dataframe tbody tr th:only-of-type {\n",
       "        vertical-align: middle;\n",
       "    }\n",
       "\n",
       "    .dataframe tbody tr th {\n",
       "        vertical-align: top;\n",
       "    }\n",
       "\n",
       "    .dataframe thead th {\n",
       "        text-align: right;\n",
       "    }\n",
       "</style>\n",
       "<table border=\"1\" class=\"dataframe\">\n",
       "  <thead>\n",
       "    <tr style=\"text-align: right;\">\n",
       "      <th></th>\n",
       "      <th>Unconditioned DEM z</th>\n",
       "      <th>Conditioned DEM z</th>\n",
       "      <th>Measured Section z</th>\n",
       "      <th>Section</th>\n",
       "      <th>River</th>\n",
       "      <th>Distance Upstream [m]</th>\n",
       "      <th>Offset [m]</th>\n",
       "      <th>Unconditioned DEM Elevation Errors</th>\n",
       "      <th>Conditioned DEM Elevation Errors</th>\n",
       "    </tr>\n",
       "  </thead>\n",
       "  <tbody>\n",
       "    <tr>\n",
       "      <th>0</th>\n",
       "      <td>1.82208</td>\n",
       "      <td>1.82208</td>\n",
       "      <td>2.163331</td>\n",
       "      <td>10.0</td>\n",
       "      <td>False</td>\n",
       "      <td>0.0</td>\n",
       "      <td>0</td>\n",
       "      <td>-0.341251</td>\n",
       "      <td>-0.341251</td>\n",
       "    </tr>\n",
       "  </tbody>\n",
       "</table>\n",
       "</div>"
      ],
      "text/plain": [
       "   Unconditioned DEM z  Conditioned DEM z  Measured Section z  Section  River  \\\n",
       "0              1.82208            1.82208            2.163331     10.0  False   \n",
       "\n",
       "   Distance Upstream [m]  Offset [m]  Unconditioned DEM Elevation Errors  \\\n",
       "0                    0.0           0                           -0.341251   \n",
       "\n",
       "   Conditioned DEM Elevation Errors  \n",
       "0                         -0.341251  "
      ]
     },
     "execution_count": 15,
     "metadata": {},
     "output_type": "execute_result"
    }
   ],
   "source": [
    "comparisons_sampled.head(1)"
   ]
  },
  {
   "cell_type": "code",
   "execution_count": 17,
   "id": "98bb2c01",
   "metadata": {},
   "outputs": [],
   "source": [
    "comparisons_for_plotting=comparisons_sampled.rename(\n",
    "    columns={\"Unconditioned DEM Elevation Errors\": \"Unconditioned DEM\", \"Conditioned DEM Elevation Errors\": \"Conditioned DEM\"}).drop(\n",
    "    columns=[\"Unconditioned DEM z\", \"Conditioned DEM z\", \"Measured Section z\"]).melt(\n",
    "    id_vars=[\"Section\", \"Distance Upstream [m]\", \"River\"], var_name=\"Comparison\", value_name=\"Riverbed Elevation Error [m]\")"
   ]
  },
  {
   "cell_type": "code",
   "execution_count": 18,
   "id": "70582c56",
   "metadata": {},
   "outputs": [
    {
     "data": {
      "text/html": [
       "<div>\n",
       "<style scoped>\n",
       "    .dataframe tbody tr th:only-of-type {\n",
       "        vertical-align: middle;\n",
       "    }\n",
       "\n",
       "    .dataframe tbody tr th {\n",
       "        vertical-align: top;\n",
       "    }\n",
       "\n",
       "    .dataframe thead th {\n",
       "        text-align: right;\n",
       "    }\n",
       "</style>\n",
       "<table border=\"1\" class=\"dataframe\">\n",
       "  <thead>\n",
       "    <tr style=\"text-align: right;\">\n",
       "      <th></th>\n",
       "      <th>Section</th>\n",
       "      <th>Distance Upstream [m]</th>\n",
       "      <th>River</th>\n",
       "      <th>Comparison</th>\n",
       "      <th>Riverbed Elevation Error [m]</th>\n",
       "    </tr>\n",
       "  </thead>\n",
       "  <tbody>\n",
       "    <tr>\n",
       "      <th>0</th>\n",
       "      <td>10.0</td>\n",
       "      <td>0.0</td>\n",
       "      <td>False</td>\n",
       "      <td>Offset [m]</td>\n",
       "      <td>0.0</td>\n",
       "    </tr>\n",
       "  </tbody>\n",
       "</table>\n",
       "</div>"
      ],
      "text/plain": [
       "   Section  Distance Upstream [m]  River  Comparison  \\\n",
       "0     10.0                    0.0  False  Offset [m]   \n",
       "\n",
       "   Riverbed Elevation Error [m]  \n",
       "0                           0.0  "
      ]
     },
     "execution_count": 18,
     "metadata": {},
     "output_type": "execute_result"
    }
   ],
   "source": [
    "comparisons_for_plotting.head(1)"
   ]
  },
  {
   "cell_type": "code",
   "execution_count": 62,
   "id": "93809ddf",
   "metadata": {},
   "outputs": [
    {
     "data": {
      "text/plain": [
       "<AxesSubplot:xlabel='Distance Upstream [m]', ylabel='Riverbed Elevation Error [m]'>"
      ]
     },
     "execution_count": 62,
     "metadata": {},
     "output_type": "execute_result"
    },
    {
     "data": {
      "image/png": "[encoded data removed]",
      "text/plain": [
       "<Figure size 1080x360 with 1 Axes>"
      ]
     },
     "metadata": {
      "needs_background": "light"
     },
     "output_type": "display_data"
    }
   ],
   "source": [
    "import matplotlib.pyplot\n",
    "fig, ax = matplotlib.pyplot.subplots(ncols=1, nrows=1, figsize=(15, 5))\n",
    "seaborn.lineplot(ax=ax, data=comparisons_for_plotting[comparisons_for_plotting[\"River\"]], x=\"Distance Upstream [m]\", y=\"Riverbed Elevation Error [m]\", hue=\"Comparison\")"
   ]
  },
  {
   "cell_type": "markdown",
   "id": "a0f5bc77",
   "metadata": {},
   "source": [
    "# Channel Area error\n",
    "The total area of the channel at each section"
   ]
  },
  {
   "cell_type": "code",
   "execution_count": null,
   "id": "0c379255",
   "metadata": {},
   "outputs": [],
   "source": [
    "channel_area = comparisons_sampled.drop(\n",
    "    columns=[\"Unconditioned DEM Elevation Errors\", \"Conditioned DEM Elevation Errors\"])"
   ]
  },
  {
   "cell_type": "code",
   "execution_count": null,
   "id": "642a7d1b",
   "metadata": {},
   "outputs": [],
   "source": [
    "comparisons_measured_summary = {\"Unconditioned DEM bias\": [], \"Unconditioned DEM std\": [], \"Conditioned DEM bias\": [], \"Conditioned DEM std\": []}\n",
    "for index, row in measured_lines.iterrows():\n",
    "    print(f\"Section number = {index}\")\n",
    "    measured_z = []\n",
    "    sampled_rivers_z = []\n",
    "    sampled_no_rivers_z = []\n",
    "    for x, y, z in row.geometry.coords:\n",
    "        measured_z.append(z)\n",
    "        sampled_no_rivers_z.append(float(dem_no_river.z.interp(x=x, y=y)))\n",
    "        sampled_rivers_z.append(float(dem_river.z.interp(x=x, y=y)))\n",
    "    measured_z = numpy.asarray(measured_z)\n",
    "    sampled_no_rivers_z = numpy.asarray(sampled_no_rivers_z)\n",
    "    sampled_rivers_z = numpy.asarray(sampled_rivers_z)\n",
    "    comparisons_measured_summary[\"Unconditioned DEM bias\"].append(numpy.mean(measured_z - sampled_no_rivers_z))\n",
    "    comparisons_measured_summary[\"Unconditioned DEM std\"].append(numpy.std(measured_z - sampled_no_rivers_z))\n",
    "    comparisons_measured_summary[\"Conditioned DEM bias\"].append(numpy.mean(measured_z - sampled_rivers_z))\n",
    "    comparisons_measured_summary[\"Conditioned DEM std\"].append(numpy.std(measured_z - sampled_rivers_z))\n",
    "comparisons_measured_summary = pandas.DataFrame.from_dict(comparisons_measured_summary)"
   ]
  },
  {
   "cell_type": "markdown",
   "id": "f2b11bd1",
   "metadata": {},
   "source": [
    "# Plot the bias and stdev for each full cross section\n",
    "Calculate the distance upstream - intersection with smoothed centreline"
   ]
  },
  {
   "cell_type": "code",
   "execution_count": null,
   "id": "790962e1",
   "metadata": {},
   "outputs": [],
   "source": [
    "comparisons_all[[\"Unconditioned DEM bias\", \"Conditioned DEM bias\"]].mean()"
   ]
  },
  {
   "cell_type": "code",
   "execution_count": null,
   "id": "d47ac131",
   "metadata": {},
   "outputs": [],
   "source": [
    "import matplotlib.pyplot\n",
    "fig, ax = matplotlib.pyplot.subplots(ncols=1, nrows=1, figsize=(20, 5))\n",
    "\n",
    "matplotlib.pyplot.ylim([-2, 2])\n",
    "#plt.show()\n",
    "\n",
    "comparisons_all[[\"Unconditioned DEM bias\"]].plot(ax=ax, yerr=comparisons_all[\"Unconditioned DEM std\"], capsize=2)\n",
    "comparisons_all[[\"Conditioned DEM bias\"]].plot(ax=ax, yerr=comparisons_all[\"Conditioned DEM std\"], capsize=2)\n",
    "#ax.yaxis.grid(True)\n",
    "ax.spines['bottom'].set_position('zero')"
   ]
  },
  {
   "cell_type": "markdown",
   "id": "a3ecc2b5",
   "metadata": {},
   "source": [
    "## Plot nearest sections"
   ]
  },
  {
   "cell_type": "code",
   "execution_count": null,
   "id": "7db6cf99",
   "metadata": {},
   "outputs": [],
   "source": [
    "import matplotlib.pyplot\n",
    "fig, ax = matplotlib.pyplot.subplots(ncols=1, nrows=1, figsize=(10, 15))\n",
    "\n",
    "measured_lines.plot(ax=ax, color='b')\n",
    "#nearest_depths.plot(ax=ax, color='m')\n",
    "nearest_sections.plot(ax=ax, color='r')"
   ]
  },
  {
   "cell_type": "markdown",
   "id": "51403c56",
   "metadata": {},
   "source": [
    "## Update the index to be metres upstream"
   ]
  },
  {
   "cell_type": "code",
   "execution_count": null,
   "id": "48ebdc53",
   "metadata": {},
   "outputs": [],
   "source": [
    "# Add the Upstream distance to the comprison sections\n",
    "distance_upstream = nearest_depths.index * sampled_section_spacing\n",
    "measured_lines.insert(loc=0, column='Distance Upstream', value=distance_upstream + measured_lines[\"Signed Distances\"])\n",
    "measured_lines = measured_lines.set_index(['Distance Upstream'])\n",
    "nearest_depths.insert(loc=0, column='Distance Upstream', value=distance_upstream)\n",
    "nearest_sections.insert(loc=0, column='Distance Upstream', value=distance_upstream)\n",
    "nearest_depths = nearest_depths.set_index(['Distance Upstream'])\n",
    "nearest_sections = nearest_sections.set_index(['Distance Upstream'])"
   ]
  },
  {
   "cell_type": "code",
   "execution_count": null,
   "id": "39eb8803",
   "metadata": {},
   "outputs": [],
   "source": [
    "# Add the Upstream distance to the comprison sections\n",
    "distance_upstream = depths.index * sampled_section_spacing\n",
    "depths.insert(loc=0, column='Distance Upstream', value=distance_upstream)\n",
    "depths = depths.set_index(['Distance Upstream'])\n",
    "estimated_sections.insert(loc=0, column='Distance Upstream', value=distance_upstream)\n",
    "estimated_sections = estimated_sections.set_index(['Distance Upstream'])"
   ]
  },
  {
   "cell_type": "code",
   "execution_count": null,
   "id": "6e5a51dd",
   "metadata": {},
   "outputs": [],
   "source": [
    "import matplotlib.pyplot\n",
    "fig, ax = matplotlib.pyplot.subplots(ncols=1, nrows=1, figsize=(15, 10))\n",
    "\n",
    "depths[[rupp_bed_elevation_name, neal_bed_elevation_name]].plot(ax=ax)\n",
    "nearest_depths[[rupp_bed_elevation_name, neal_bed_elevation_name]].plot(ax=ax, linestyle=\"--\")\n",
    "estimated_sections[[\"min_z_centre_unimodal\"]].plot(ax=ax, color='r')"
   ]
  },
  {
   "cell_type": "markdown",
   "id": "fbf2574f",
   "metadata": {},
   "source": [
    "## Plot lowest best elevation \n",
    "Specify distance upstream with time"
   ]
  },
  {
   "cell_type": "code",
   "execution_count": null,
   "id": "29606818",
   "metadata": {},
   "outputs": [],
   "source": [
    "measured_sections.head(5)"
   ]
  },
  {
   "cell_type": "code",
   "execution_count": null,
   "id": "2aa45f87",
   "metadata": {},
   "outputs": [],
   "source": [
    "import matplotlib.pyplot\n",
    "fig, ax = matplotlib.pyplot.subplots(ncols=1, nrows=1, figsize=(20, 10))\n",
    "\n",
    "nearest_depths[[rupp_bed_elevation_name, neal_bed_elevation_name]].plot(ax=ax, color='b')\n",
    "measured_lines[[\"min_elevation\"]].plot(ax=ax, color='r')\n",
    "nearest_sections[[\"min_z_centre_unimodal\"]].plot(ax=ax)"
   ]
  },
  {
   "cell_type": "code",
   "execution_count": null,
   "id": "44e1a840",
   "metadata": {},
   "outputs": [],
   "source": [
    "nearest_depths[[rupp_bed_elevation_name, neal_bed_elevation_name]].head(5)"
   ]
  },
  {
   "cell_type": "code",
   "execution_count": null,
   "id": "4ec7d29e",
   "metadata": {},
   "outputs": [],
   "source": [
    "nearest_sections[\"min_z_centre_unimodal\"].head()"
   ]
  },
  {
   "cell_type": "code",
   "execution_count": null,
   "id": "43de9a51",
   "metadata": {},
   "outputs": [],
   "source": [
    "(nearest_depths[rupp_bed_elevation_name]-nearest_sections[\"min_z_centre_unimodal\"]).plot"
   ]
  },
  {
   "cell_type": "code",
   "execution_count": null,
   "id": "7d2391e5",
   "metadata": {},
   "outputs": [],
   "source": [
    "import matplotlib.pyplot\n",
    "fig, ax = matplotlib.pyplot.subplots(ncols=1, nrows=1, figsize=(20, 10))\n",
    "\n",
    "#(nearest_depths[[rupp_bed_elevation_name, neal_bed_elevation_name]]-nearest_sections[[\"min_z_centre_unimodal\"]]).plot(ax=ax, color='b')\n",
    "(nearest_depths[rupp_bed_elevation_name]-nearest_sections[\"min_z_centre_unimodal\"]).plot(ax=ax)\n",
    "(nearest_depths[neal_bed_elevation_name]-nearest_sections[\"min_z_centre_unimodal\"]).plot(ax=ax)\n",
    "#(measured_lines[[\"min_elevation\"]]-nearest_sections[\"min_z_centre_unimodal\"]).plot(ax=ax, color='r')\n",
    "#nearest_sections[[\"min_z_centre_unimodal\"]].plot(ax=ax)"
   ]
  },
  {
   "cell_type": "markdown",
   "id": "d65a88ac",
   "metadata": {},
   "source": [
    "#### Calculated propely\n",
    "Calculate area from where each section goes below the water surface (even if between two measurement sites)"
   ]
  },
  {
   "cell_type": "code",
   "execution_count": null,
   "id": "d13aed5f",
   "metadata": {},
   "outputs": [],
   "source": [
    "def zero_crossing(x_pos: float, x_neg: float, y_pos: float, y_neg: float):\n",
    "    x_zc = x_pos * -y_neg / (y_pos - y_neg) + x_neg * y_pos / (y_pos - y_neg)\n",
    "    return x_zc"
   ]
  },
  {
   "cell_type": "code",
   "execution_count": null,
   "id": "c0691e22",
   "metadata": {},
   "outputs": [],
   "source": [
    "def measured_area(depth_name):\n",
    "    measured_area = []\n",
    "    \n",
    "    for index, row in nearest_widths.iterrows():\n",
    "        section = cross_sections[cross_sections['Section'] == row['Section']]\n",
    "        section = section.reset_index(drop=True)\n",
    "        water_elevation = row[water_elevation_name]\n",
    "        area = 0\n",
    "        for i in range(len(section) - 1):\n",
    "            if section[depth_name][i] >= 0 and section[depth_name][i + 1] >= 0:\n",
    "                # calculate Raimann square area\n",
    "                area += (section['Offset'][i + 1] - section['Offset'][i]) * (section[depth_name][i] + section[depth_name][i + 1]) / 2\n",
    "            elif section[depth_name][i] > 0:\n",
    "                # Calculate from the left - right is above\n",
    "                offset_crossing = zero_crossing(x_pos=section['Offset'][i + 1], x_neg=section['Offset'][i],\n",
    "                                                y_pos=section[depth_name][i + 1], y_neg=section[depth_name][i]) \n",
    "                area += (offset_crossing - section['Offset'][i]) * section[depth_name][i] / 2\n",
    "            elif section[depth_name][i + 1] > 0:\n",
    "                # Calculate from the right - left is above\n",
    "                offset_crossing = zero_crossing(x_pos=section['Offset'][i], x_neg=section['Offset'][i + 1],\n",
    "                                                y_pos=section[depth_name][i], y_neg=section[depth_name][i + 1]) \n",
    "                area += (section['Offset'][i + 1] - offset_crossing) * section[depth_name][i + 1] / 2\n",
    "        measured_area.append(area)\n",
    "    return measured_area"
   ]
  },
  {
   "cell_type": "code",
   "execution_count": null,
   "id": "59df49be",
   "metadata": {},
   "outputs": [],
   "source": [
    "measured_normal_area = measured_area('normal_depth')\n",
    "measured_flood_area = measured_area('flood_depth')\n",
    "nearest_areas.insert(loc=0, column='Measured normal areas', value=measured_normal_area)\n",
    "nearest_areas.insert(loc=0, column='Measured flood areas', value=measured_flood_area)"
   ]
  },
  {
   "cell_type": "code",
   "execution_count": null,
   "id": "d57d5cd3",
   "metadata": {},
   "outputs": [],
   "source": [
    "f, axs = matplotlib.pyplot.subplots(1, 2, sharey=True, figsize=(15,6))\n",
    "nearest_areas.plot(ax=axs[0])\n",
    "areas.plot(ax=axs[1])"
   ]
  },
  {
   "cell_type": "code",
   "execution_count": null,
   "id": "3cedb17a",
   "metadata": {},
   "outputs": [],
   "source": [
    "cross_sections[[water_elevation_name, threshold_name]].plot()"
   ]
  },
  {
   "cell_type": "code",
   "execution_count": null,
   "id": "c5aa4c62",
   "metadata": {},
   "outputs": [],
   "source": [
    "f, axs = matplotlib.pyplot.subplots(1, 2, sharey=True, figsize=(15,6))\n",
    "nearest_areas.plot(ax=axs[0])\n",
    "areas.plot(ax=axs[1])"
   ]
  },
  {
   "cell_type": "code",
   "execution_count": null,
   "id": "454bbe97",
   "metadata": {},
   "outputs": [],
   "source": [
    "f, axs = matplotlib.pyplot.subplots(1, 2, sharey=True, figsize=(15,6))\n",
    "nearest_areas.plot(ax=axs[0])\n",
    "areas.plot(ax=axs[1])"
   ]
  },
  {
   "cell_type": "markdown",
   "id": "ef09381a",
   "metadata": {},
   "source": [
    "## Plot bed elevations and depths of the two approaches"
   ]
  },
  {
   "cell_type": "code",
   "execution_count": null,
   "id": "f7293291",
   "metadata": {},
   "outputs": [],
   "source": [
    "f, axs = matplotlib.pyplot.subplots(1, 2, figsize=(15, 6))\n",
    "\n",
    "nearest_widths.set_index('Section', drop=True)[water_elevation_name].plot(ax=axs[0], label='Water surface elevation')\n",
    "nearest_depths.set_index('Section', drop=True)['bed_elevation_Neal_et_al'].plot(ax=axs[0], label='Bed elevation calculated Neal et al')\n",
    "nearest_depths.set_index('Section', drop=True)['bed_elevation_Rupp_and_Smart'].plot(ax=axs[0], label='Bed elevation calculated Rupp & Smart')\n",
    "cross_sections.groupby('Section')['z_2016'].min().plot(ax=axs[0], label='Measured cross-section')\n",
    "axs[0].set(title=\"Bed elevations estimated and measured\", xlabel=\"Transect number where there are measured cross sections\", ylabel=\"River bed elevation in m\")\n",
    "axs[0].legend()\n",
    "\n",
    "nearest_depths.set_index('Section', drop=True)[neal_depth_name].plot(ax=axs[1], label='Calculated Neal et al depth')\n",
    "nearest_depths.set_index('Section', drop=True)[rupp_depth_name].plot(ax=axs[1], label='Calculated Rupp & Smart depth')\n",
    "cross_sections.groupby('Section')['depth'].max().plot(ax=axs[1], label='Measured cross-section')\n",
    "axs[1].set(title=\"Bed depths estimated and measured\", xlabel=\"Transect number where there are measured cross sections\", ylabel=\"River depths in m\")\n",
    "axs[1].legend()"
   ]
  },
  {
   "cell_type": "markdown",
   "id": "dd6e89c3",
   "metadata": {},
   "source": [
    "## Plot cross sections"
   ]
  },
  {
   "cell_type": "code",
   "execution_count": null,
   "id": "a1a0f803",
   "metadata": {},
   "outputs": [],
   "source": [
    "cross_sections[[water_elevation_name, 'z_2016']].plot(figsize=(15, 6))\n",
    "matplotlib.pyplot.yticks(ticks=[-2.5, 0, 2.5, 10, 20, 30, 40]);\n",
    "matplotlib.pyplot.grid(axis=\"y\")"
   ]
  },
  {
   "cell_type": "code",
   "execution_count": null,
   "id": "177e2de0",
   "metadata": {},
   "outputs": [],
   "source": [
    "f, axs = matplotlib.pyplot.subplots(2, 4, figsize=(30, 12), sharey=True)\n",
    "for key, group in cross_sections.groupby('Section'):\n",
    "    (-group['depth']).reset_index(drop=True).plot(ax=axs[int(key/10/28), int((key/10 - 28)/7)], label=f\"{key}\")\n",
    "for axi in axs:\n",
    "    for axij in axi:\n",
    "        axij.legend()"
   ]
  },
  {
   "cell_type": "code",
   "execution_count": null,
   "id": "eacbaa2c",
   "metadata": {},
   "outputs": [],
   "source": [
    "f, axs = matplotlib.pyplot.subplots(2, 4, figsize=(30, 12), sharey=True)\n",
    "\n",
    "for key, group in cross_sections.groupby('Section'):\n",
    "    group = group.copy(deep=True)\n",
    "    group.loc[group['depth'] < 0, 'depth'] = numpy.nan\n",
    "    (-group['depth']).reset_index(drop=True).plot(ax=axs[int(key/10/28), int((key/10 - 28)/7)], label=f\"{key}\")\n",
    "    #print(f\"key={key}, f{group['depth'].values}\")\n",
    "for axi in axs:\n",
    "    for axij in axi:\n",
    "        axij.legend()"
   ]
  },
  {
   "cell_type": "code",
   "execution_count": null,
   "id": "4c038c09",
   "metadata": {},
   "outputs": [],
   "source": [
    "cross_sections.groupby('Section')['depth'].plot();"
   ]
  },
  {
   "cell_type": "code",
   "execution_count": null,
   "id": "4b944905",
   "metadata": {},
   "outputs": [],
   "source": [
    "cross_sections.groupby('Section')['z_2016'].plot();"
   ]
  },
  {
   "cell_type": "markdown",
   "id": "1d3e8645",
   "metadata": {},
   "source": [
    "### Plots exploring the change to width to produce an expected bed elevation"
   ]
  },
  {
   "cell_type": "code",
   "execution_count": null,
   "id": "3587d7fb",
   "metadata": {},
   "outputs": [],
   "source": [
    "fudge_factor = 2\n",
    "depth_wider = (nearest_key_parameters['mannings_n'] * nearest_key_parameters['flow'] / (numpy.sqrt(nearest_key_parameters['slope']) * nearest_key_parameters['widths_Savgol'] * fudge_factor)) ** (3/5) - threshold\n",
    "\n",
    "f, ax = matplotlib.pyplot.subplots(figsize=(20, 6))\n",
    "(nearest_key_parameters['min_z_centre_unimodal']-depth_wider).reset_index(drop=True).plot(label='Calculated from unimodal min_z')\n",
    "(nearest_key_parameters['min_z_centre_unimodal_0.5km_rolling_mean'] - depth_wider).reset_index(drop=True).plot(label='Calculated from smooth unimodal min_z')\n",
    "(nearest_key_parameters['min_z_centre']-depth_wider).reset_index(drop=True).plot(label='Calculated from min_z')\n",
    "cross_sections.groupby('Section')['z_2016'].min().reset_index(drop=True).plot(label='Measured cross-section')\n",
    "ax.set(title=f\"Depths estimated using the Uniform Flow Throery approach with width mutiplier of {fudge_factor}\")\n",
    "matplotlib.pyplot.xlabel(f\"Transect number (spaced every {sampling_resolution}m upstream)\")\n",
    "matplotlib.pyplot.ylabel(f\"River depth in m\");\n",
    "matplotlib.pyplot.legend()"
   ]
  },
  {
   "cell_type": "code",
   "execution_count": null,
   "id": "c99fc23b",
   "metadata": {},
   "outputs": [],
   "source": []
  }
 ],
 "metadata": {
  "kernelspec": {
   "display_name": "Python [conda env:geofabrics]",
   "language": "python",
   "name": "conda-env-geofabrics-py"
  },
  "language_info": {
   "codemirror_mode": {
    "name": "ipython",
    "version": 3
   },
   "file_extension": ".py",
   "mimetype": "text/x-python",
   "name": "python",
   "nbconvert_exporter": "python",
   "pygments_lexer": "ipython3",
   "version": "3.9.12"
  }
 },
 "nbformat": 4,
 "nbformat_minor": 5
}
