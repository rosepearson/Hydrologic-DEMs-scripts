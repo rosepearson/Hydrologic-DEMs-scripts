{
 "cells": [
  {
   "cell_type": "code",
   "execution_count": 1,
   "id": "f550665c",
   "metadata": {},
   "outputs": [],
   "source": [
    "import seaborn"
   ]
  },
  {
   "cell_type": "code",
   "execution_count": null,
   "id": "bb30d87b",
   "metadata": {},
   "outputs": [],
   "source": [
    "import geopandas\n",
    "import pandas\n",
    "import pathlib\n",
    "import numpy\n",
    "import matplotlib\n",
    "import shapely\n",
    "import matplotlib.pyplot\n",
    "from IPython.display import display, HTML\n",
    "\n",
    "display(HTML(\"<style>.container { width:100% !important; }</style>\"))"
   ]
  },
  {
   "cell_type": "markdown",
   "id": "182b23a0",
   "metadata": {},
   "source": [
    "# Plan\n",
    "* Load in GeoFabrics estimated width, depth and water surface height - (using those used in GeoFabrics - i.e. same level of smoothing)\n",
    "  * Calculate channel area - assume rectangular\n",
    "* Load in measured cross sections\n",
    "  * Transform to NZVD2016\n",
    "  * Calculate the channel area - use the same water height as the GeoFabrics estimates\n",
    "* Compare the results\n",
    "  * Take the nearest GeoFabrics cross section to each measured cross section\n",
    "  * Plot area's on the same plot"
   ]
  },
  {
   "cell_type": "code",
   "execution_count": null,
   "id": "b8666144",
   "metadata": {},
   "outputs": [],
   "source": [
    "sampling_resolution = 10\n",
    "sampled_section_spacing = 10"
   ]
  },
  {
   "cell_type": "markdown",
   "id": "2d90a150",
   "metadata": {},
   "source": [
    "### Load in GeoFabrics Bathymetry estimates"
   ]
  },
  {
   "cell_type": "code",
   "execution_count": null,
   "id": "c3c02ca8",
   "metadata": {},
   "outputs": [],
   "source": [
    "cache_path = pathlib.Path(fr\"C:\\Users\\pearsonra\\Documents\\data\\Waikanae\\caches\\Wellington_2013\\measured_river\")\n",
    "depths = geopandas.read_file(cache_path / \"river_bathymetry.geojson\")\n",
    "estimated_sections = geopandas.read_file(cache_path / \"final_cross_sections.geojson\")\n",
    "main_channel = geopandas.read_file(cache_path / \"aligned_channel_100000000.geojson\")"
   ]
  },
  {
   "cell_type": "markdown",
   "id": "69ed5b34",
   "metadata": {},
   "source": [
    "### Specify GeoFabric parameter\n",
    "Both the column names used in calculations, and also select parameter file values"
   ]
  },
  {
   "cell_type": "code",
   "execution_count": null,
   "id": "525b4546",
   "metadata": {},
   "outputs": [],
   "source": [
    "rupp_bed_elevation_name = 'bed_elevation_Rupp_and_Smart'\n",
    "neal_bed_elevation_name = 'bed_elevation_Neal_et_al'"
   ]
  },
  {
   "cell_type": "markdown",
   "id": "a7515f30",
   "metadata": {},
   "source": [
    "## Load in Measured cross sections\n",
    "See raw cell below for converting to NZVD2016. This has already been done so load in the converted one directly"
   ]
  },
  {
   "cell_type": "raw",
   "id": "c35b586d",
   "metadata": {},
   "source": [
    "# Load in LVD measured cross sections\n",
    "cross_section_file = pathlib.Path(r\"C:/Users/pearsonra/Documents/data/river_bathemetry/sections/Waikanae/Waikanae_Cross_Sections_NIWA/2014_Survey_XS_NZTM.shp\")\n",
    "measured_sections = geopandas.read_file(cross_section_file)\n",
    "\n",
    "# LVD to NZVD2016 conversion\n",
    "local_datum_file = pathlib.Path(r\"C:\\Users\\pearsonra\\Documents\\data\\local_datums\\lds-wellington-1953-to-nzvd2016-conversion-raster-GTiff\"\n",
    "                                \"\\wellington-1953-to-nzvd2016-conversion-raster.tif\")\n",
    "import rioxarray\n",
    "local_vertical_datum = rioxarray.rioxarray.open_rasterio(local_datum_file, masked=True)\n",
    "def get_lvd_conversion(geometry, local_vertical_datum):\n",
    "    return local_vertical_datum.sel({'x': [geometry.x], 'y': [geometry.y]}, method='nearest').data[0,0,0]\n",
    "\n",
    "# Actually convert the heigfhts\n",
    "measured_sections['lvd_conversion'] = measured_sections.apply(lambda row: get_lvd_conversion(row.geometry, local_vertical_datum), axis=1)\n",
    "measured_sections['z_2016'] = measured_sections['Level'] - measured_sections['lvd_conversion']\n",
    "measured_sections['geometry'] = measured_sections.apply(lambda row: shapely.geometry.Point(row.geometry.x, row.geometry.y, row.z_2016), axis=1)\n",
    "\n",
    "# Save out results\n",
    "measured_sections.to_file(r\"C:/Users/pearsonra/Documents/data/river_bathemetry/sections/Waikanae/Waikanae_Cross_Sections_NIWA/2014_Survey_XS_NZVD2016.geojson\")"
   ]
  },
  {
   "cell_type": "code",
   "execution_count": null,
   "id": "c643f60c",
   "metadata": {},
   "outputs": [],
   "source": [
    "measured_sections = geopandas.read_file(r\"C:/Users/pearsonra/Documents/data/river_bathemetry/sections/Waikanae/Waikanae_Cross_Sections_NIWA/2014_Survey_XS_NZVD2016.geojson\")"
   ]
  },
  {
   "cell_type": "markdown",
   "id": "1ad92398",
   "metadata": {},
   "source": [
    "### Simplify the measured points to min point/line strings"
   ]
  },
  {
   "cell_type": "code",
   "execution_count": null,
   "id": "64d9a193",
   "metadata": {},
   "outputs": [],
   "source": [
    "measured_centres = {'Section': [], 'geometry': []}\n",
    "measured_lines = {'Section': [], 'geometry': [], 'min_elevation': []}\n",
    "for section in measured_sections['Section'].unique():\n",
    "    measured_section = measured_sections[measured_sections['Section'] == section]\n",
    "    measured_centre = measured_section[measured_section['Level']==measured_section['Level'].min()].iloc[0]\n",
    "    measured_centres['Section'].append(section)\n",
    "    measured_centres['geometry'].append(measured_centre['geometry'])\n",
    "    \n",
    "    measured_lines['Section'].append(section)\n",
    "    measured_lines['geometry'].append(shapely.geometry.LineString( [[measure_point.x, measure_point.y] for measure_point in measured_section.geometry.values] ))\n",
    "    measured_lines['min_elevation'].append(measured_section['Level'].min())\n",
    "measured_centres = geopandas.GeoDataFrame(measured_centres, crs=main_channel.crs)\n",
    "measured_lines = geopandas.GeoDataFrame(measured_lines, crs=main_channel.crs)"
   ]
  },
  {
   "cell_type": "markdown",
   "id": "e74f8867",
   "metadata": {},
   "source": [
    "## Identify the nearest depths/estimated sections"
   ]
  },
  {
   "cell_type": "code",
   "execution_count": null,
   "id": "7106e00e",
   "metadata": {},
   "outputs": [],
   "source": [
    "nearest_sections = []\n",
    "nearest_depths = []\n",
    "nearest_distances = []\n",
    "i_max = len(depths) - 1 \n",
    "for index, row in measured_lines.iterrows():\n",
    "    distances = depths.distance(row.geometry)\n",
    "    i_min = distances.argmin()\n",
    "    direction = 1 # 1 if in front, -1 is behind\n",
    "    if i_min == 0:\n",
    "        if distances.iloc[1] > sampled_section_spacing: # Negative if next point is more than the sample spacing away\n",
    "            direction = -1\n",
    "    elif i_min == i_max:\n",
    "        if distances.iloc[i_max - 1] < sampled_section_spacing:\n",
    "            direction = -1\n",
    "    elif distances.iloc[i_min - 1] < distances.iloc[i_min + 1]:\n",
    "        direction = -1\n",
    "    nearest_distances.append(distances.min() * direction)\n",
    "    nearest_depths.append(depths.iloc[depths.distance(row.geometry).argmin()])\n",
    "    nearest_sections.append(estimated_sections.iloc[depths.distance(row.geometry).argmin()])\n",
    "\n",
    "# Construct dataframes\n",
    "nearest_depths = geopandas.GeoDataFrame(nearest_depths, crs=main_channel.crs)\n",
    "nearest_depths.insert(loc=0, column=\"Section\", value=measured_lines[\"Section\"])\n",
    "nearest_sections = geopandas.GeoDataFrame(nearest_sections, crs=main_channel.crs)\n",
    "nearest_sections.insert(loc=0, column=\"Section\", value=measured_lines[\"Section\"])\n",
    "# This distance between the measured and sampled lines\n",
    "measured_lines.insert(loc=0, column=\"Signed Distances\", value=nearest_distances)"
   ]
  },
  {
   "cell_type": "code",
   "execution_count": null,
   "id": "3fc1459e",
   "metadata": {},
   "outputs": [],
   "source": [
    "measured_lines.head(5)"
   ]
  },
  {
   "cell_type": "markdown",
   "id": "171c384f",
   "metadata": {},
   "source": [
    "## Plot nearest sections"
   ]
  },
  {
   "cell_type": "code",
   "execution_count": null,
   "id": "4634300b",
   "metadata": {},
   "outputs": [],
   "source": [
    "import matplotlib.pyplot\n",
    "fig, ax = matplotlib.pyplot.subplots(ncols=1, nrows=1, figsize=(10, 15))\n",
    "\n",
    "measured_lines.plot(ax=ax, color='b')\n",
    "#nearest_depths.plot(ax=ax, color='m')\n",
    "nearest_sections.plot(ax=ax, color='r')"
   ]
  },
  {
   "cell_type": "markdown",
   "id": "d41124a6",
   "metadata": {},
   "source": [
    "## Update the index to be metres upstream"
   ]
  },
  {
   "cell_type": "code",
   "execution_count": null,
   "id": "fd65dd47",
   "metadata": {},
   "outputs": [],
   "source": [
    "# Add the Upstream distance to the comprison sections\n",
    "distance_upstream = nearest_depths.index * sampled_section_spacing\n",
    "measured_lines.insert(loc=0, column='Distance Upstream', value=distance_upstream + measured_lines[\"Signed Distances\"])\n",
    "measured_lines = measured_lines.set_index(['Distance Upstream'])\n",
    "nearest_depths.insert(loc=0, column='Distance Upstream', value=distance_upstream)\n",
    "nearest_sections.insert(loc=0, column='Distance Upstream', value=distance_upstream)\n",
    "nearest_depths = nearest_depths.set_index(['Distance Upstream'])\n",
    "nearest_sections = nearest_sections.set_index(['Distance Upstream'])"
   ]
  },
  {
   "cell_type": "code",
   "execution_count": null,
   "id": "d5fab5df",
   "metadata": {},
   "outputs": [],
   "source": [
    "# Add the Upstream distance to the comprison sections\n",
    "distance_upstream = depths.index * sampled_section_spacing\n",
    "depths.insert(loc=0, column='Distance Upstream', value=distance_upstream)\n",
    "depths = depths.set_index(['Distance Upstream'])\n",
    "estimated_sections.insert(loc=0, column='Distance Upstream', value=distance_upstream)\n",
    "estimated_sections = estimated_sections.set_index(['Distance Upstream'])"
   ]
  },
  {
   "cell_type": "code",
   "execution_count": null,
   "id": "6e5a51dd",
   "metadata": {},
   "outputs": [],
   "source": [
    "import matplotlib.pyplot\n",
    "fig, ax = matplotlib.pyplot.subplots(ncols=1, nrows=1, figsize=(15, 10))\n",
    "\n",
    "depths[[rupp_bed_elevation_name, neal_bed_elevation_name]].plot(ax=ax)\n",
    "nearest_depths[[rupp_bed_elevation_name, neal_bed_elevation_name]].plot(ax=ax, linestyle=\"--\")\n",
    "estimated_sections[[\"min_z_centre_unimodal\"]].plot(ax=ax, color='r')"
   ]
  },
  {
   "cell_type": "markdown",
   "id": "fbf2574f",
   "metadata": {},
   "source": [
    "## Plot lowest best elevation \n",
    "Specify distance upstream with time"
   ]
  },
  {
   "cell_type": "code",
   "execution_count": null,
   "id": "999c463e",
   "metadata": {},
   "outputs": [],
   "source": [
    "import matplotlib.pyplot\n",
    "fig, ax = matplotlib.pyplot.subplots(ncols=1, nrows=1, figsize=(20, 10))\n",
    "\n",
    "nearest_depths[[rupp_bed_elevation_name, neal_bed_elevation_name]].plot(ax=ax, color='b')\n",
    "measured_lines[[\"min_elevation\"]].plot(ax=ax, color='r')\n",
    "nearest_sections[[\"min_z_centre_unimodal\"]].plot(ax=ax)"
   ]
  },
  {
   "cell_type": "markdown",
   "id": "5bc9f9dd",
   "metadata": {},
   "source": [
    "# Note the awkwardness in deciding what to set as the water level reference for calculating the depth"
   ]
  },
  {
   "cell_type": "code",
   "execution_count": null,
   "id": "7d2391e5",
   "metadata": {},
   "outputs": [],
   "source": [
    "import matplotlib.pyplot\n",
    "fig, ax = matplotlib.pyplot.subplots(ncols=1, nrows=1, figsize=(20, 10))\n",
    "\n",
    "#(nearest_depths[[rupp_bed_elevation_name, neal_bed_elevation_name]]-nearest_sections[[\"min_z_centre_unimodal\"]]).plot(ax=ax, color='b')\n",
    "(nearest_depths[rupp_bed_elevation_name]-nearest_sections[\"min_z_centre_unimodal\"]).plot(ax=ax)\n",
    "(nearest_depths[neal_bed_elevation_name]-nearest_sections[\"min_z_centre_unimodal\"]).plot(ax=ax)\n",
    "#(measured_lines[[\"min_elevation\"]]-nearest_sections[\"min_z_centre_unimodal\"]).plot(ax=ax, color='r')\n",
    "#nearest_sections[[\"min_z_centre_unimodal\"]].plot(ax=ax)"
   ]
  }
 ],
 "metadata": {
  "kernelspec": {
   "display_name": "Python [conda env:geofabrics]",
   "language": "python",
   "name": "conda-env-geofabrics-py"
  },
  "language_info": {
   "codemirror_mode": {
    "name": "ipython",
    "version": 3
   },
   "file_extension": ".py",
   "mimetype": "text/x-python",
   "name": "python",
   "nbconvert_exporter": "python",
   "pygments_lexer": "ipython3",
   "version": "3.9.12"
  }
 },
 "nbformat": 4,
 "nbformat_minor": 5
}
