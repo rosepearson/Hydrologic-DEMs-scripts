{
 "cells": [
  {
   "cell_type": "code",
   "execution_count": 1,
   "id": "3bc77411",
   "metadata": {},
   "outputs": [
    {
     "data": {
      "text/html": [
       "<style>.container { width:100% !important; }</style>"
      ],
      "text/plain": [
       "<IPython.core.display.HTML object>"
      ]
     },
     "metadata": {},
     "output_type": "display_data"
    }
   ],
   "source": [
    "import geopandas\n",
    "import shapely\n",
    "import numpy\n",
    "from IPython.core.display import display, HTML\n",
    "\n",
    "display(HTML(\"<style>.container { width:100% !important; }</style>\"))"
   ]
  },
  {
   "cell_type": "code",
   "execution_count": 2,
   "id": "b509a4ba",
   "metadata": {},
   "outputs": [],
   "source": [
    "aligned = geopandas.read_file(r\"C:\\Users\\pearsonra\\Documents\\data\\river_bathemetry\\waikanae_new_lidar\\caches\\100000000\\aligned_channel_100000000.geojson\")"
   ]
  },
  {
   "cell_type": "markdown",
   "id": "6febb612",
   "metadata": {},
   "source": [
    "## Extended line offshore from the aligned line"
   ]
  },
  {
   "cell_type": "code",
   "execution_count": 18,
   "id": "89c4f144",
   "metadata": {},
   "outputs": [],
   "source": [
    "(x,y) = aligned.loc[0].geometry.xy\n",
    "mouth_point = shapely.geometry.Point([x[0], y[0]])\n",
    "segment_dx = x[0] - x[1]\n",
    "segment_dy = y[0] - y[1]\n",
    "segment_length = numpy.sqrt(segment_dx**2 + segment_dy**2)\n",
    "tangent_x = segment_dx / segment_length\n",
    "tangent_y = segment_dy / segment_length\n",
    "normal_x = -tangent_y\n",
    "normal_y = tangent_x"
   ]
  },
  {
   "cell_type": "code",
   "execution_count": 7,
   "id": "c02d1a61",
   "metadata": {},
   "outputs": [],
   "source": [
    "length = 1000\n",
    "extended_line = shapely.geometry.LineString([mouth_point, [mouth_point.x + length * tangen_dx, mouth_point.y + length * tangen_dy]])"
   ]
  },
  {
   "cell_type": "code",
   "execution_count": 8,
   "id": "7eadb8c3",
   "metadata": {},
   "outputs": [
    {
     "ename": "AttributeError",
     "evalue": "module 'matplotlib' has no attribute 'pyplot'",
     "output_type": "error",
     "traceback": [
      "\u001b[1;31m---------------------------------------------------------------------------\u001b[0m",
      "\u001b[1;31mAttributeError\u001b[0m                            Traceback (most recent call last)",
      "\u001b[1;32mC:\\Users\\PEARSO~1\\AppData\\Local\\Temp/ipykernel_29048/1273590237.py\u001b[0m in \u001b[0;36m<module>\u001b[1;34m\u001b[0m\n\u001b[0;32m      1\u001b[0m \u001b[1;32mimport\u001b[0m \u001b[0mmatplotlib\u001b[0m\u001b[1;33m\u001b[0m\u001b[1;33m\u001b[0m\u001b[0m\n\u001b[1;32m----> 2\u001b[1;33m \u001b[0mf\u001b[0m\u001b[1;33m,\u001b[0m \u001b[0max\u001b[0m \u001b[1;33m=\u001b[0m \u001b[0mmatplotlib\u001b[0m\u001b[1;33m.\u001b[0m\u001b[0mpyplot\u001b[0m\u001b[1;33m.\u001b[0m\u001b[0msubplots\u001b[0m\u001b[1;33m(\u001b[0m\u001b[0mfigsize\u001b[0m\u001b[1;33m=\u001b[0m\u001b[1;33m(\u001b[0m\u001b[1;36m10\u001b[0m\u001b[1;33m,\u001b[0m \u001b[1;36m5\u001b[0m\u001b[1;33m)\u001b[0m\u001b[1;33m)\u001b[0m\u001b[1;33m\u001b[0m\u001b[1;33m\u001b[0m\u001b[0m\n\u001b[0m\u001b[0;32m      3\u001b[0m \u001b[0maligned\u001b[0m\u001b[1;33m.\u001b[0m\u001b[0mappend\u001b[0m\u001b[1;33m(\u001b[0m\u001b[0mgeopandas\u001b[0m\u001b[1;33m.\u001b[0m\u001b[0mGeoDataFrame\u001b[0m\u001b[1;33m(\u001b[0m\u001b[0mgeometry\u001b[0m\u001b[1;33m=\u001b[0m\u001b[1;33m[\u001b[0m\u001b[0mextended_line\u001b[0m\u001b[1;33m]\u001b[0m\u001b[1;33m,\u001b[0m \u001b[0mcrs\u001b[0m\u001b[1;33m=\u001b[0m\u001b[0maligned\u001b[0m\u001b[1;33m.\u001b[0m\u001b[0mcrs\u001b[0m\u001b[1;33m)\u001b[0m\u001b[1;33m)\u001b[0m\u001b[1;33m.\u001b[0m\u001b[0mplot\u001b[0m\u001b[1;33m(\u001b[0m\u001b[0max\u001b[0m\u001b[1;33m=\u001b[0m\u001b[0max\u001b[0m\u001b[1;33m)\u001b[0m\u001b[1;33m\u001b[0m\u001b[1;33m\u001b[0m\u001b[0m\n",
      "\u001b[1;31mAttributeError\u001b[0m: module 'matplotlib' has no attribute 'pyplot'"
     ]
    }
   ],
   "source": [
    "import matplotlib\n",
    "f, ax = matplotlib.pyplot.subplots(figsize=(10, 5))\n",
    "aligned.append(geopandas.GeoDataFrame(geometry=[extended_line], crs=aligned.crs)).plot(ax=ax)"
   ]
  },
  {
   "cell_type": "markdown",
   "id": "67c377a2",
   "metadata": {},
   "source": [
    "## River depths and widths, and ocean depths to specify fan dimensions"
   ]
  },
  {
   "cell_type": "markdown",
   "id": "d05204c7",
   "metadata": {},
   "source": [
    "Record only the depth and width at the river mouth"
   ]
  },
  {
   "cell_type": "code",
   "execution_count": 3,
   "id": "7424002d",
   "metadata": {},
   "outputs": [],
   "source": [
    "river_mouth_depth = geopandas.read_file(r\"C:\\Users\\pearsonra\\Documents\\data\\river_bathemetry\\waikanae_new_lidar\\caches\\100000000\\river_bathymetry.geojson\")['bed_elevation_Smart_et_al'].iloc[0]\n",
    "river_mouth_width = geopandas.read_file(r\"C:\\Users\\pearsonra\\Documents\\data\\river_bathemetry\\waikanae_new_lidar\\caches\\100000000\\final_values.geojson\")['widths'].iloc[0]"
   ]
  },
  {
   "cell_type": "markdown",
   "id": "533d3e41",
   "metadata": {},
   "source": [
    "Take the smallest contours that are more than twice the depth of the river mouth"
   ]
  },
  {
   "cell_type": "code",
   "execution_count": 4,
   "id": "976494b9",
   "metadata": {},
   "outputs": [],
   "source": [
    "#ocean_contours = geopandas.read_file(r\"C:\\Users\\pearsonra\\Documents\\data\\Waikanae\\caches\\nz21_kapiti\\50849\\bathymetry_contours.zip\")\n",
    "ocean_contours = geopandas.read_file(r\"C:\\\\Users\\\\pearsonra\\\\Documents\\\\data\\\\Bathymetry\\\\Waikanae\\\\lds-depth-contour-polyline-hydro-190k-1350k-SHP.zip!depth-contour-polyline-hydro-190k-1350k.shp\").to_crs(2193)\n",
    "end_depth = ocean_contours['valdco'][ocean_contours['valdco'] > 2 * river_mouth_depth * -1 ].min()\n",
    "ocean_contours = ocean_contours[ocean_contours['valdco'] == end_depth].reset_index(drop=True)"
   ]
  },
  {
   "cell_type": "markdown",
   "id": "1cbc806f",
   "metadata": {},
   "source": [
    "Find the first of these contours to intersect with the extended river line"
   ]
  },
  {
   "cell_type": "code",
   "execution_count": 9,
   "id": "2e294c08",
   "metadata": {},
   "outputs": [],
   "source": [
    "distance = numpy.inf\n",
    "end_point = shapely.geometry.Point()\n",
    "nearest_index = numpy.inf\n",
    "\n",
    "for i, row in ocean_contours.iterrows():\n",
    "    if row.geometry.intersects(extended_line):\n",
    "        intersection_point = row.geometry.intersection(extended_line)\n",
    "        if intersection_point.distance(mouth_point) < distance:\n",
    "            distance = intersection_point.distance(mouth_point)\n",
    "            end_point = intersection_point\n",
    "            nearest_index = i\n",
    "distance_to_intersection = numpy.sqrt((end_point.x - mouth_point.x) ** 2 + (end_point.y - mouth_point.y) ** 2)"
   ]
  },
  {
   "cell_type": "code",
   "execution_count": 19,
   "id": "2b2ec062",
   "metadata": {},
   "outputs": [],
   "source": [
    "fan_angle = 15\n",
    "fan_length = 10_000\n",
    "end_width = river_mouth_width + 2 * fan_length * numpy.tan(numpy.pi/180 * fan_angle)\n",
    "fan_end_point = shapely.geometry.Point([mouth_point.x + fan_length * tangen_dx, mouth_point.y + fan_length * tangen_dy])\n",
    "\n",
    "# Calculate big fan\n",
    "fan_polygon = shapely.geometry.Polygon([[mouth_point.x - normal_x * river_mouth_width / 2,\n",
    "                                                 mouth_point.y - normal_y * river_mouth_width / 2],\n",
    "                                                [mouth_point.x + normal_x * river_mouth_width / 2,\n",
    "                                                 mouth_point.y + normal_y * river_mouth_width / 2],\n",
    "                                                [fan_end_point.x + normal_x * end_width / 2,\n",
    "                                                 fan_end_point.y + normal_y * end_width / 2],\n",
    "                                                [fan_end_point.x - normal_x * end_width / 2,\n",
    "                                                 fan_end_point.y - normal_y * end_width / 2]])"
   ]
  },
  {
   "cell_type": "code",
   "execution_count": 22,
   "id": "1815745a",
   "metadata": {},
   "outputs": [],
   "source": [
    "distance = numpy.inf\n",
    "end_point = shapely.geometry.Point()\n",
    "\n",
    "for i, row in ocean_contours.iterrows():\n",
    "    if row.geometry.intersects(fan_polygon):\n",
    "        intersection_line = row.geometry.intersection(fan_polygon)\n",
    "        if intersection_line.distance(mouth_point) < distance:\n",
    "            distance = intersection_line.distance(mouth_point)\n",
    "            end_point = intersection_line\n",
    "    "
   ]
  },
  {
   "cell_type": "code",
   "execution_count": 39,
   "id": "e10bd946",
   "metadata": {},
   "outputs": [],
   "source": [
    "# Determine line direction. For now raise error if doesn't intersect fan\n",
    "(x,y) = intersection_line.xy\n",
    "first_point = shapely.geometry.Point([x[0], y[0]])\n",
    "last_point = shapely.geometry.Point([x[0], y[0]])\n",
    "bottom_fan_edge = shapely.geometry.LineString([[mouth_point.x + normal_x * river_mouth_width / 2, mouth_point.y + normal_y * river_mouth_width / 2],\n",
    "                                                                             [fan_end_point.x + normal_x * end_width / 2, fan_end_point.y + normal_y * end_width / 2]])"
   ]
  },
  {
   "cell_type": "code",
   "execution_count": 57,
   "id": "cd56d0fc",
   "metadata": {},
   "outputs": [],
   "source": [
    "p=[[mouth_point.x - normal_x * river_mouth_width / 2, mouth_point.y - normal_y * river_mouth_width / 2], \n",
    "                                        [mouth_point.x + normal_x * river_mouth_width / 2, mouth_point.y + normal_y * river_mouth_width / 2]].extend(\n",
    "                                        [[xi, yi] for (xi, yi) in zip(intersection_line.xy[0], intersection_line.xy[1])])"
   ]
  },
  {
   "cell_type": "code",
   "execution_count": 60,
   "id": "aa47515f",
   "metadata": {},
   "outputs": [],
   "source": [
    "polygon_points = [[xi, yi] for (xi, yi) in zip(intersection_line.xy[0], intersection_line.xy[1])] "
   ]
  },
  {
   "cell_type": "code",
   "execution_count": 62,
   "id": "36551755",
   "metadata": {},
   "outputs": [],
   "source": [
    "polygon_points.extend([[mouth_point.x - normal_x * river_mouth_width / 2, mouth_point.y - normal_y * river_mouth_width / 2], \n",
    "                                        [mouth_point.x + normal_x * river_mouth_width / 2, mouth_point.y + normal_y * river_mouth_width / 2]])"
   ]
  },
  {
   "cell_type": "code",
   "execution_count": 66,
   "id": "09e81bc2",
   "metadata": {},
   "outputs": [
    {
     "data": {
      "text/plain": [
       "False"
      ]
     },
     "execution_count": 66,
     "metadata": {},
     "output_type": "execute_result"
    }
   ],
   "source": [
    "first_point.distance(bottom_fan_edge) < last_point.distance(bottom_fan_edge)"
   ]
  },
  {
   "cell_type": "code",
   "execution_count": 69,
   "id": "80f51954",
   "metadata": {},
   "outputs": [
    {
     "data": {
      "image/svg+xml": [
       "<svg xmlns=\"http://www.w3.org/2000/svg\" xmlns:xlink=\"http://www.w3.org/1999/xlink\" width=\"300\" height=\"300\" viewBox=\"1767736.225163518 5473417.009238878 1436.881364284549 565.8476147856563\" preserveAspectRatio=\"xMinYMin meet\"><g transform=\"matrix(1,0,0,-1,0,10947399.866092542)\"><path fill-rule=\"evenodd\" fill=\"#66cc99\" stroke=\"#555555\" stroke-width=\"9.579209095230325\" opacity=\"0.6\" d=\"M 1768473.9077928872,5473929.639025358 L 1768352.239664026,5473864.864572984 L 1767939.393577361,5473620.682161384 L 1767808.1401223445,5473515.4944427125 L 1767789.4429918248,5473502.077109142 L 1769100.6992440391,5473470.227067185 L 1769119.8886994957,5473535.463290245 L 1768473.9077928872,5473929.639025358 z\" /></g></svg>"
      ],
      "text/plain": [
       "<shapely.geometry.polygon.Polygon at 0x1d16cdf29d0>"
      ]
     },
     "execution_count": 69,
     "metadata": {},
     "output_type": "execute_result"
    }
   ],
   "source": [
    "fan_polygon"
   ]
  },
  {
   "cell_type": "code",
   "execution_count": 68,
   "id": "845594ff",
   "metadata": {},
   "outputs": [],
   "source": [
    "polygon_points = [[xi, yi] for (xi, yi) in zip(intersection_line.xy[0], intersection_line.xy[1])] \n",
    "if first_point.distance(bottom_fan_edge) < last_point.distance(bottom_fan_edge):\n",
    "    # keep line order\n",
    "    polygon_points.extend([[mouth_point.x - normal_x * river_mouth_width / 2, mouth_point.y - normal_y * river_mouth_width / 2], \n",
    "                           [mouth_point.x + normal_x * river_mouth_width / 2, mouth_point.y + normal_y * river_mouth_width / 2]])\n",
    "else:\n",
    "    # reverse fan order\n",
    "    polygon_points.extend([[mouth_point.x + normal_x * river_mouth_width / 2, mouth_point.y + normal_y * river_mouth_width / 2], \n",
    "                           [mouth_point.x - normal_x * river_mouth_width / 2, mouth_point.y - normal_y * river_mouth_width / 2]])\n",
    "fan_polygon = shapely.geometry.Polygon(polygon_points)"
   ]
  },
  {
   "cell_type": "code",
   "execution_count": 48,
   "id": "598e172e",
   "metadata": {},
   "outputs": [
    {
     "data": {
      "text/plain": [
       "444.05639667075644"
      ]
     },
     "execution_count": 48,
     "metadata": {},
     "output_type": "execute_result"
    }
   ],
   "source": [
    "shapely.geometry.Point([x[-1], y[-1]]).distance(shapely.geometry.LineString([[mouth_point.x + normal_x * river_mouth_width / 2, mouth_point.y + normal_y * river_mouth_width / 2],\n",
    "                                                                             [fan_end_point.x + normal_x * end_width / 2, fan_end_point.y + normal_y * end_width / 2]]))\n",
    "shapely.geometry.Point([x[0], y[0]]).distance(shapely.geometry.LineString([[mouth_point.x + normal_x * river_mouth_width / 2, mouth_point.y + normal_y * river_mouth_width / 2],\n",
    "                                                                             [fan_end_point.x + normal_x * end_width / 2, fan_end_point.y + normal_y * end_width / 2]]))"
   ]
  },
  {
   "cell_type": "code",
   "execution_count": null,
   "id": "9286c14b",
   "metadata": {},
   "outputs": [],
   "source": [
    "distance = numpy.inf\n",
    "end_point = shapely.geometry.LineString()\n",
    "\n",
    "for i, row in ocean_contours.iterrows():\n",
    "    if row.geometry.intersects(extended_line):\n",
    "        intersection_point = row.geometry.intersection(extended_line)\n",
    "        if intersection_point.distance(mouth_point) < distance:\n",
    "            distance = intersection_point.distance(mouth_point)\n",
    "            end_point = intersection_point\n",
    "            nearest_index = i"
   ]
  },
  {
   "cell_type": "markdown",
   "id": "2ff48179",
   "metadata": {},
   "source": [
    "### Fan polygon\n",
    "Define a fan polygon with initial width of the mouth width measurements increasing in width by x degree on each side. "
   ]
  },
  {
   "cell_type": "code",
   "execution_count": 169,
   "id": "21b90dbc",
   "metadata": {},
   "outputs": [],
   "source": [
    "fan_angle = 15\n",
    "end_width = river_mouth_width + 2 * distance * numpy.tan(numpy.pi/180 * fan_angle)"
   ]
  },
  {
   "cell_type": "code",
   "execution_count": 156,
   "id": "725168ce",
   "metadata": {},
   "outputs": [],
   "source": [
    "fan_line = shapely.geometry.LineString([mouth_point, end_point])"
   ]
  },
  {
   "cell_type": "code",
   "execution_count": 165,
   "id": "65c6defd",
   "metadata": {},
   "outputs": [],
   "source": [
    "# Calculate line slope\n",
    "length = numpy.sqrt((end_point.x - mouth_point.x) ** 2 + (end_point.y - mouth_point.y) ** 2)\n",
    "dx = (end_point.x - mouth_point.x) / length\n",
    "dy = (end_point.y - mouth_point.y) / length\n",
    "        \n",
    "# Calculate line normal\n",
    "normal_x = -dy\n",
    "normal_y = dx"
   ]
  },
  {
   "cell_type": "code",
   "execution_count": 176,
   "id": "2d86bd1b",
   "metadata": {},
   "outputs": [],
   "source": [
    "fan_polygon = shapely.geometry.Polygon([[mouth_point.x - normal_x * river_mouth_width / 2, mouth_point.y - normal_y * river_mouth_width / 2], \n",
    "                                        [mouth_point.x + normal_x * river_mouth_width / 2, mouth_point.y + normal_y * river_mouth_width / 2],\n",
    "                                        [end_point.x + normal_x * end_width / 2, end_point.y + normal_y * end_width / 2],\n",
    "                                        [end_point.x - normal_x * end_width / 2, end_point.y - normal_y * end_width / 2]])"
   ]
  },
  {
   "cell_type": "code",
   "execution_count": 199,
   "id": "6f34dc79",
   "metadata": {},
   "outputs": [
    {
     "data": {
      "image/svg+xml": [
       "<svg xmlns=\"http://www.w3.org/2000/svg\" xmlns:xlink=\"http://www.w3.org/1999/xlink\" width=\"300\" height=\"300\" viewBox=\"1768377.5947167808 5473441.6772986185 770.8437512808014 484.22345387469977\" preserveAspectRatio=\"xMinYMin meet\"><g transform=\"matrix(1,0,0,-1,0,10947367.578051113)\"><path fill-rule=\"evenodd\" fill=\"#66cc99\" stroke=\"#555555\" stroke-width=\"5.1389583418720095\" opacity=\"0.6\" d=\"M 1769119.8886994957,5473535.463290245 L 1769100.6992440391,5473470.227067185 L 1768406.1444853467,5473487.097605012 L 1768526.8219030628,5473897.350983927 L 1769119.8886994957,5473535.463290245 z\" /></g></svg>"
      ],
      "text/plain": [
       "<shapely.geometry.polygon.Polygon at 0x1b6840b2e50>"
      ]
     },
     "execution_count": 199,
     "metadata": {},
     "output_type": "execute_result"
    }
   ],
   "source": [
    "fan_polygon"
   ]
  },
  {
   "cell_type": "markdown",
   "id": "a249426f",
   "metadata": {},
   "source": [
    "### Fan depths\n",
    "Define the depths within the centre of the fan"
   ]
  },
  {
   "cell_type": "code",
   "execution_count": 189,
   "id": "bc47494a",
   "metadata": {},
   "outputs": [],
   "source": [
    "fan_depths = {'geometry': [], 'depths': []}\n",
    "\n",
    "spacing = 10\n",
    "number_of_samples = int(distance / spacing)\n",
    "depth_increment = (-1 * end_depth - river_mouth_depth) / number_of_samples\n",
    "\n",
    "for i in range(1, number_of_samples):\n",
    "    fan_depths['geometry'].append(shapely.geometry.Point([mouth_point.x + dx * i * spacing, mouth_point.y + dy * i * spacing]))\n",
    "    fan_depths['depths'].append(river_mouth_depth + i * depth_increment)"
   ]
  },
  {
   "cell_type": "code",
   "execution_count": 191,
   "id": "97bc491d",
   "metadata": {},
   "outputs": [],
   "source": [
    "fan_depths = geopandas.GeoDataFrame(fan_depths, crs=2193)"
   ]
  },
  {
   "cell_type": "code",
   "execution_count": 192,
   "id": "08976bf9",
   "metadata": {
    "scrolled": false
   },
   "outputs": [
    {
     "data": {
      "text/plain": [
       "<AxesSubplot:>"
      ]
     },
     "execution_count": 192,
     "metadata": {},
     "output_type": "execute_result"
    },
    {
     "data": {
      "image/png": "[encoded data removed]",
      "text/plain": [
       "<Figure size 432x288 with 1 Axes>"
      ]
     },
     "metadata": {
      "needs_background": "light"
     },
     "output_type": "display_data"
    }
   ],
   "source": [
    "fan_depths.plot()"
   ]
  },
  {
   "cell_type": "code",
   "execution_count": null,
   "id": "a6195f6f",
   "metadata": {},
   "outputs": [],
   "source": []
  }
 ],
 "metadata": {
  "kernelspec": {
   "display_name": "Python [conda env:geofabricsdask]",
   "language": "python",
   "name": "conda-env-geofabricsdask-py"
  },
  "language_info": {
   "codemirror_mode": {
    "name": "ipython",
    "version": 3
   },
   "file_extension": ".py",
   "mimetype": "text/x-python",
   "name": "python",
   "nbconvert_exporter": "python",
   "pygments_lexer": "ipython3",
   "version": "3.9.7"
  }
 },
 "nbformat": 4,
 "nbformat_minor": 5
}
