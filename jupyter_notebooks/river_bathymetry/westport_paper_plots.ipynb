{
 "cells": [
  {
   "cell_type": "code",
   "execution_count": null,
   "id": "bb30d87b",
   "metadata": {},
   "outputs": [],
   "source": [
    "import warnings\n",
    "warnings.simplefilter(action='ignore', category=FutureWarning)\n",
    "\n",
    "import geopandas\n",
    "import pandas\n",
    "import pathlib\n",
    "import numpy\n",
    "import matplotlib\n",
    "import seaborn\n",
    "import shapely\n",
    "import rioxarray\n",
    "import matplotlib.pyplot\n",
    "from IPython.display import display, HTML\n",
    "\n",
    "display(HTML(\"<style>.container { width:100% !important; }</style>\"))"
   ]
  },
  {
   "cell_type": "markdown",
   "id": "182b23a0",
   "metadata": {},
   "source": [
    "# Plan\n",
    "* Load in GeoFabrics estimated width, depth and water surface height - (using those used in GeoFabrics - i.e. same level of smoothing)\n",
    "  * Calculate channel area - assume rectangular\n",
    "* Load in measured cross sections\n",
    "  * Transform to NZVD2016\n",
    "  * Calculate the channel area - use the same water height as the GeoFabrics estimates\n",
    "* Compare the results\n",
    "  * Take the nearest GeoFabrics cross section to each measured cross section\n",
    "  * Plot area's on the same plot"
   ]
  },
  {
   "cell_type": "code",
   "execution_count": null,
   "id": "b8666144",
   "metadata": {},
   "outputs": [],
   "source": [
    "resolution = 10\n",
    "horizontal_crs = 2193"
   ]
  },
  {
   "cell_type": "markdown",
   "id": "2d90a150",
   "metadata": {},
   "source": [
    "### Load in GeoFabrics Bathymetry estimates"
   ]
  },
  {
   "cell_type": "code",
   "execution_count": null,
   "id": "c3c02ca8",
   "metadata": {},
   "outputs": [],
   "source": [
    "cache_path = pathlib.Path(fr\"C:\\Local Data\\data\\Westport\\caches\\NZ20_Westport\\large\")\n",
    "folder = \"slope_0_0005_min_no_tol\"\n",
    "dem_river_smart = rioxarray.rioxarray.open_rasterio(cache_path / folder  / \"dem_10m_all_rupp_and_smart.nc\", masked=True).squeeze(\"band\", drop=True)\n",
    "dem_river_neal = rioxarray.rioxarray.open_rasterio(cache_path / folder  / \"dem_10m_all_neal_et_al.nc\", masked=True).squeeze(\"band\", drop=True)\n",
    "dem_unconditioned = rioxarray.rioxarray.open_rasterio(cache_path / \"dem_10m_unconditioned_on_land.nc\", masked=True).squeeze(\"band\", drop=True)"
   ]
  },
  {
   "cell_type": "code",
   "execution_count": null,
   "id": "a7a2f6b0",
   "metadata": {},
   "outputs": [],
   "source": []
  },
  {
   "cell_type": "code",
   "execution_count": null,
   "id": "c3ff8f51",
   "metadata": {},
   "outputs": [],
   "source": [
    "river_centreline = geopandas.read_file(cache_path / \"aligned_river_centreline_6308000000.geojson\")\n",
    "river_polygon = geopandas.read_file(cache_path / folder / \"river_polygon.geojson\")\n",
    "fan_polygon = geopandas.read_file(cache_path / folder / \"fan_polygon.geojson\")"
   ]
  },
  {
   "cell_type": "code",
   "execution_count": null,
   "id": "014a5c7a",
   "metadata": {},
   "outputs": [],
   "source": [
    "polygon = geopandas.GeoDataFrame( pandas.concat([river_polygon, fan_polygon], ignore_index=True), crs=river_polygon.crs).dissolve()"
   ]
  },
  {
   "cell_type": "markdown",
   "id": "a7515f30",
   "metadata": {},
   "source": [
    "## Load in Measured cross sections\n",
    "See raw cell below for converting to NZVD2016. This has already been done so load in the converted one directly"
   ]
  },
  {
   "cell_type": "raw",
   "id": "6632d8fe",
   "metadata": {},
   "source": [
    "# Load in LVD measured cross sections\n",
    "cross_section_file = pathlib.Path(r\"C:/Users/pearsonra/Documents/data/river_bathemetry/sections/Westport/\"\n",
    "                                  r\"3738_Buller_River_October_2021/3738_Buller_River_October_2021.shp\")\n",
    "measured_sections = geopandas.read_file(cross_section_file)\n",
    "cross_section_elevation_label = 'Elevation'\n",
    "cross_section_name_label = 'Name'\n",
    "\n",
    "# LVD to NZVD2016 conversion\n",
    "local_datum_file = pathlib.Path(r\"C:\\Users\\pearsonra\\Documents\\data\\local_datums\\lds-lyttelton-1937-to-nzvd2016-conversion-raster-GTiff\"\n",
    "                                \"\\lyttelton-1937-to-nzvd2016-conversion-raster.tif\")\n",
    "import rioxarray\n",
    "local_vertical_datum = rioxarray.rioxarray.open_rasterio(local_datum_file, masked=True)\n",
    "def get_lvd_conversion(geometry, local_vertical_datum):\n",
    "    return local_vertical_datum.sel({'x': [geometry.x], 'y': [geometry.y]}, method='nearest').data[0,0,0]\n",
    "\n",
    "# Actually convert the heigfhts\n",
    "measured_sections['lvd_conversion'] = measured_sections.apply(lambda row: get_lvd_conversion(row.geometry, local_vertical_datum), axis=1)\n",
    "measured_sections['z_2016'] = measured_sections[cross_section_elevation_label] - measured_sections['lvd_conversion']\n",
    "measured_sections['geometry'] = measured_sections.apply(lambda row: shapely.geometry.Point(row.geometry.x, row.geometry.y, row.z_2016), axis=1)\n",
    "\n",
    "# Save out results\n",
    "measured_sections.to_file(r\"C:/Users/pearsonra/Documents/data/river_bathemetry/sections/Westport/3738_Buller_River_October_2021/3738_Buller_River_October_2021.geojson\")"
   ]
  },
  {
   "cell_type": "code",
   "execution_count": null,
   "id": "a5243d5d",
   "metadata": {},
   "outputs": [],
   "source": [
    "cross_section_elevation_label = 'Elevation'\n",
    "cross_section_name_label = 'Name'\n",
    "measured_sections = geopandas.read_file(r\"C:/Users/pearsonra/Documents/data/river_bathemetry/sections/Westport/3738_Buller_River_October_2021/3738_Buller_River_October_2021.geojson\")\n",
    "all_measured_sections = ['Section1', 'Section2', 'Section2A', 'Section2B', 'Section3', 'Section3A', 'Section4', 'Section5', 'Section6',\n",
    "                             'Section7', 'Section8', 'Section9', 'Section10', 'Section11', 'Section12', 'Section13', 'Section14',\n",
    "                             'Section15', 'Section16', 'Section21', 'Section22', 'Section23', 'Section24', 'Section25', 'Section26', 'Section17',\n",
    "                             'Section18', 'Section19', 'Section20']\n",
    "ordered_measured_sections = ['Section1', 'Section2', 'Section2A', 'Section2B', 'Section3', 'Section3A', 'Section4', 'Section5', 'Section6',\n",
    "                             'Section7', 'Section8', 'Section9', 'Section10', 'Section11', 'Section12', 'Section13', 'Section14',\n",
    "                             'Section15', 'Section16', 'Section21', 'Section22', 'Section23', 'Section24', 'Section25', 'Section26']"
   ]
  },
  {
   "cell_type": "code",
   "execution_count": null,
   "id": "81f2bd00",
   "metadata": {},
   "outputs": [],
   "source": [
    "measured_sections.head(2)"
   ]
  },
  {
   "cell_type": "markdown",
   "id": "1ad92398",
   "metadata": {},
   "source": [
    "### Simplify the measured points to min point/line strings"
   ]
  },
  {
   "cell_type": "code",
   "execution_count": null,
   "id": "64d9a193",
   "metadata": {},
   "outputs": [],
   "source": [
    "measured_centres = {'Section': [], 'geometry': []}\n",
    "measured_lines = {'Section': [], 'geometry': [], 'min_elevation': []}\n",
    "for section in measured_sections[cross_section_name_label].unique():\n",
    "    measured_section = measured_sections[measured_sections[cross_section_name_label] == section]\n",
    "    measured_centre = measured_section[measured_section[cross_section_elevation_label]==measured_section[cross_section_elevation_label].min()].iloc[0]\n",
    "    measured_centres['Section'].append(section)\n",
    "    measured_centres['geometry'].append(measured_centre['geometry'])\n",
    "    \n",
    "    measured_lines['Section'].append(section)\n",
    "    measured_lines['geometry'].append(shapely.geometry.LineString( [[measure_point.x, measure_point.y, measure_point.z] for measure_point in measured_section.geometry.values] ))\n",
    "    measured_lines['min_elevation'].append(measured_section[cross_section_elevation_label].min())\n",
    "measured_centres = geopandas.GeoDataFrame(measured_centres, crs=horizontal_crs)\n",
    "measured_lines = geopandas.GeoDataFrame(measured_lines, crs=horizontal_crs)"
   ]
  },
  {
   "cell_type": "markdown",
   "id": "7e3dac64",
   "metadata": {},
   "source": [
    "## Sample DEM for elevations\n",
    "Record the Bias and STDev for each cross section against the two DEMS"
   ]
  },
  {
   "cell_type": "code",
   "execution_count": null,
   "id": "28e27148",
   "metadata": {},
   "outputs": [],
   "source": [
    "import matplotlib.pyplot\n",
    "fig, ax = matplotlib.pyplot.subplots(ncols=1, nrows=1, figsize=(10, 5))\n",
    "polygon.plot(ax=ax, color='g')\n",
    "measured_lines.plot(ax=ax)"
   ]
  },
  {
   "cell_type": "markdown",
   "id": "0016f13a",
   "metadata": {},
   "source": [
    "# Sample every 1m\n",
    "Use Linear interpolation in between"
   ]
  },
  {
   "cell_type": "code",
   "execution_count": null,
   "id": "6fbf83f5",
   "metadata": {},
   "outputs": [],
   "source": [
    "comparisons_sampled = {\"Unconditioned DEM z\": [], \"Conditioned neal DEM z\": [], \"Conditioned smart DEM z\": [], \"Measured Section z\": [], \"Section\": [], \"River\": [], \"Distance Upstream [m]\": [], \"Offset [m]\": []}\n",
    "for index, row in measured_lines.iterrows():\n",
    "    print(f\"Section number = {index}\")\n",
    "    line = row.geometry\n",
    "    distance_upstream = float(river_centreline.project(measured_centres.iloc[index].geometry))\n",
    "    for offset in list(range(int(numpy.ceil(line.length)))):\n",
    "        point = line.interpolate(offset)\n",
    "        comparisons_sampled[\"Unconditioned DEM z\"].append(float(dem_unconditioned.z.interp(x=point.x, y=point.y)))\n",
    "        comparisons_sampled[\"Conditioned neal DEM z\"].append(float(dem_river_neal.z.interp(x=point.x, y=point.y)))\n",
    "        comparisons_sampled[\"Conditioned smart DEM z\"].append(float(dem_river_smart.z.interp(x=point.x, y=point.y)))\n",
    "        comparisons_sampled[\"Measured Section z\"].append(point.z)\n",
    "        comparisons_sampled[\"Section\"].append(row['Section'])\n",
    "        comparisons_sampled[\"River\"].append(polygon.iloc[0].geometry.contains(point))\n",
    "        comparisons_sampled[\"Distance Upstream [m]\"].append(distance_upstream)\n",
    "        comparisons_sampled[\"Offset [m]\"].append(offset)\n",
    "        \n",
    "comparisons_sampled = pandas.DataFrame.from_dict(comparisons_sampled)"
   ]
  },
  {
   "cell_type": "markdown",
   "id": "5a6c926a",
   "metadata": {},
   "source": [
    "## Bed elevation errors\n",
    "95% confidence interval plot for the errors along each section in the river. Plot the spread of "
   ]
  },
  {
   "cell_type": "code",
   "execution_count": null,
   "id": "172104f1",
   "metadata": {},
   "outputs": [],
   "source": [
    "comparisons_sampled[\"Unconditioned DEM Elevation Errors\"] = comparisons_sampled[\"Unconditioned DEM z\"] - comparisons_sampled[\"Measured Section z\"]\n",
    "comparisons_sampled[\"Conditioned Neal DEM Elevation Errors\"] = comparisons_sampled[\"Conditioned neal DEM z\"] - comparisons_sampled[\"Measured Section z\"]\n",
    "comparisons_sampled[\"Conditioned Smart DEM Elevation Errors\"] = comparisons_sampled[\"Conditioned smart DEM z\"] - comparisons_sampled[\"Measured Section z\"]"
   ]
  },
  {
   "cell_type": "code",
   "execution_count": null,
   "id": "313bba3d",
   "metadata": {},
   "outputs": [],
   "source": [
    "comparisons_sampled.head(1)"
   ]
  },
  {
   "cell_type": "code",
   "execution_count": null,
   "id": "50f25523",
   "metadata": {},
   "outputs": [],
   "source": [
    "comparisons_for_plotting=comparisons_sampled.rename(\n",
    "    columns={\"Unconditioned DEM Elevation Errors\": \"Unconditioned DEM\", \"Conditioned Neal DEM Elevation Errors\": \"Uniform Flow DEM\", \"Conditioned Smart DEM Elevation Errors\": \"Multivariate Regression DEM\"}).drop(\n",
    "    columns=[\"Unconditioned DEM z\", \"Conditioned neal DEM z\", \"Conditioned smart DEM z\", \"Measured Section z\"]).melt(\n",
    "    id_vars=[\"Section\", \"Distance Upstream [m]\", \"River\", \"Offset [m]\"], var_name=\"Comparison\", value_name=\"Riverbed Elevation Error [m]\")"
   ]
  },
  {
   "cell_type": "code",
   "execution_count": null,
   "id": "ed1283d8",
   "metadata": {},
   "outputs": [],
   "source": [
    "seaborn.set(rc={'figure.figsize':(11.7,8.27)})\n",
    "seaborn.lineplot(data=comparisons_for_plotting[comparisons_for_plotting[\"River\"]], x=\"Distance Upstream [m]\", y=\"Riverbed Elevation Error [m]\", hue=\"Comparison\").set(title='Section Depths Comparison 95% CI')"
   ]
  },
  {
   "cell_type": "code",
   "execution_count": null,
   "id": "010550f8",
   "metadata": {},
   "outputs": [],
   "source": [
    "summary = comparisons_sampled[comparisons_sampled['River']].drop(\n",
    "    columns=[\"Unconditioned DEM z\", \"Conditioned neal DEM z\", \"Conditioned smart DEM z\", \"Measured Section z\", \"River\", \"Section\"]).set_index(\n",
    "    keys=[\"Distance Upstream [m]\", \"Offset [m]\"])\n",
    "depth_summary = pandas.DataFrame([[summary.mean()[\"Unconditioned DEM Elevation Errors\"], summary.mean()[\"Conditioned Neal DEM Elevation Errors\"], summary.mean()[\"Conditioned Smart DEM Elevation Errors\"]],\n",
    "                                  [summary.std()[\"Unconditioned DEM Elevation Errors\"], summary.std()[\"Conditioned Neal DEM Elevation Errors\"], summary.std()[\"Conditioned Smart DEM Elevation Errors\"]]],\n",
    "                                  index = [\"Mean Error\", \"Standard Deviation\"], columns=[\"Unconditioned DEM\", \"Uniform Flow DEM\", \"Multivariate Regression DEM\"])\n",
    "depth_summary"
   ]
  },
  {
   "cell_type": "markdown",
   "id": "b172d604",
   "metadata": {},
   "source": [
    "# Channel Area error\n",
    "The total area of the channel at each section"
   ]
  },
  {
   "cell_type": "code",
   "execution_count": null,
   "id": "14825ca1",
   "metadata": {},
   "outputs": [],
   "source": [
    "channel_depths = comparisons_sampled[comparisons_sampled['River']].drop(\n",
    "    columns=[\"Unconditioned DEM Elevation Errors\", \"Conditioned Neal DEM Elevation Errors\", \"Conditioned Smart DEM Elevation Errors\", \"River\", \"Section\"]).set_index(\n",
    "    keys=[\"Distance Upstream [m]\", \"Offset [m]\"])\n",
    "section_max_evaluation = channel_depths.groupby(\"Distance Upstream [m]\")[[\"Measured Section z\"]].max()"
   ]
  },
  {
   "cell_type": "code",
   "execution_count": null,
   "id": "b6893a84",
   "metadata": {},
   "outputs": [],
   "source": [
    "channel_depths.head(1)"
   ]
  },
  {
   "cell_type": "code",
   "execution_count": null,
   "id": "e5319fcc",
   "metadata": {},
   "outputs": [],
   "source": [
    "# Some hacky code to subtract the max elevation from each column in turn\n",
    "channel_depths[\"Measured Section\"] = section_max_evaluation - channel_depths[[\"Measured Section z\"]]\n",
    "channel_depths[\"Unconditioned DEM\"] = section_max_evaluation.rename(columns={\"Measured Section z\": \"Unconditioned DEM z\"}) - channel_depths[[\"Unconditioned DEM z\"]]\n",
    "channel_depths[\"Uniform Flow DEM\"] = section_max_evaluation.rename(columns={\"Measured Section z\": \"Conditioned neal DEM z\"}) - channel_depths[[\"Conditioned neal DEM z\"]]\n",
    "channel_depths[\"Multivariate Regression DEM\"] = section_max_evaluation.rename(columns={\"Measured Section z\": \"Conditioned smart DEM z\"}) - channel_depths[[\"Conditioned smart DEM z\"]]\n",
    "channel_depths.head(1)"
   ]
  },
  {
   "cell_type": "code",
   "execution_count": null,
   "id": "cb10e33f",
   "metadata": {},
   "outputs": [],
   "source": [
    "channel_area = channel_depths.drop(\n",
    "    columns=[\"Measured Section z\", \"Unconditioned DEM z\", \"Conditioned neal DEM z\", \"Conditioned smart DEM z\"]).groupby(\"Distance Upstream [m]\").sum()\n",
    "channel_area.head(1)"
   ]
  },
  {
   "cell_type": "code",
   "execution_count": null,
   "id": "9d7f2d33",
   "metadata": {},
   "outputs": [],
   "source": [
    "areas_for_plotting=channel_area.reset_index().melt(id_vars=[\"Distance Upstream [m]\"], var_name=\"Source\", value_name=\"Riverbed Area [m^2]\")"
   ]
  },
  {
   "cell_type": "code",
   "execution_count": null,
   "id": "a76bf046",
   "metadata": {},
   "outputs": [],
   "source": [
    "seaborn.set(rc={'figure.figsize':(15,7.5)})\n",
    "seaborn.lineplot(data=areas_for_plotting, x=\"Distance Upstream [m]\", y=\"Riverbed Area [m^2]\", hue=\"Source\").set(title='Channel Area Comparison')"
   ]
  },
  {
   "cell_type": "code",
   "execution_count": null,
   "id": "608b4e62",
   "metadata": {},
   "outputs": [],
   "source": [
    "unconditioned_error = channel_area[\"Unconditioned DEM\"]-channel_area[\"Measured Section\"]\n",
    "conditioned_neal_error = channel_area[\"Uniform Flow DEM\"]-channel_area[\"Measured Section\"]\n",
    "conditioned_smart_error = channel_area[\"Multivariate Regression DEM\"]-channel_area[\"Measured Section\"]\n",
    "\n",
    "area_summary = pandas.DataFrame([[unconditioned_error.mean(), conditioned_neal_error.mean(), conditioned_smart_error.mean()], [unconditioned_error.std(), conditioned_neal_error.std(), conditioned_smart_error.std()]], \n",
    "                                index = [\"Mean Error\", \"Standard Deviation\"], columns=[\"Unconditioned DEM\", \"Uniform Flow DEM\", \"Multivariate Regression DEM\"])\n",
    "area_summary"
   ]
  },
  {
   "cell_type": "code",
   "execution_count": null,
   "id": "387f28c1",
   "metadata": {},
   "outputs": [],
   "source": [
    "pandas.DataFrame([[summary.mean()[\"Unconditioned DEM Elevation Errors\"], summary.mean()[\"Conditioned Neal DEM Elevation Errors\"], summary.mean()[\"Conditioned Smart DEM Elevation Errors\"]],\n",
    "                  [summary.std()[\"Unconditioned DEM Elevation Errors\"], summary.std()[\"Conditioned Neal DEM Elevation Errors\"], summary.std()[\"Conditioned Smart DEM Elevation Errors\"]],\n",
    "                  [unconditioned_error.mean(), conditioned_neal_error.mean(), conditioned_smart_error.mean()], \n",
    "                  [unconditioned_error.std(), conditioned_neal_error.std(), conditioned_smart_error.std()]], \n",
    "                 index = [[\"Bed Elevations\", \"Bed Elevations\", \"Cross-sectional Areas\", \"Cross-sectional Areas\"],\n",
    "                          [\"Mean Error [m]\", \"Standard Deviation\", \"Mean Error [m^2]\", \"Standard Deviation\"]], \n",
    "                 columns=[\"Unconditioned DEM\", \"Uniform Flow DEM\", \"Multivariate Regression DEM\"])"
   ]
  },
  {
   "cell_type": "markdown",
   "id": "87350a80",
   "metadata": {},
   "source": [
    "# Plot difference in area plot"
   ]
  },
  {
   "cell_type": "code",
   "execution_count": null,
   "id": "2f915aa0",
   "metadata": {},
   "outputs": [],
   "source": [
    "channel_area_difference = pandas.DataFrame()\n",
    "channel_area_difference[\"Unconditioned DEM\"] = channel_area[\"Unconditioned DEM\"]-channel_area[\"Measured Section\"]\n",
    "channel_area_difference[\"Uniform Flow DEM\"] = channel_area[\"Uniform Flow DEM\"]-channel_area[\"Measured Section\"]\n",
    "channel_area_difference[\"Multivariate Regression DEM\"] = channel_area[\"Multivariate Regression DEM\"]-channel_area[\"Measured Section\"]\n",
    "channel_area_difference.head(1)"
   ]
  },
  {
   "cell_type": "code",
   "execution_count": null,
   "id": "c2883322",
   "metadata": {},
   "outputs": [],
   "source": [
    "area_diffs_for_plotting=channel_area_difference.reset_index().melt(id_vars=[\"Distance Upstream [m]\"], var_name=\"Source\", value_name=\"Cross-sectional Area [m^2]\")\n",
    "area_diffs_for_plotting.head(2)"
   ]
  },
  {
   "cell_type": "code",
   "execution_count": null,
   "id": "ed871e32",
   "metadata": {},
   "outputs": [],
   "source": [
    "seaborn.set(rc={'figure.figsize':(15,7.5)})\n",
    "seaborn.lineplot(data=area_diffs_for_plotting, x=\"Distance Upstream [m]\", y=\"Cross-sectional Area [m^2]\", hue=\"Source\").set(title='Channel Area Error')"
   ]
  },
  {
   "cell_type": "code",
   "execution_count": null,
   "id": "c99fc23b",
   "metadata": {},
   "outputs": [],
   "source": []
  },
  {
   "cell_type": "code",
   "execution_count": null,
   "id": "4c7a392e",
   "metadata": {},
   "outputs": [],
   "source": []
  },
  {
   "cell_type": "code",
   "execution_count": null,
   "id": "c5060c6d",
   "metadata": {},
   "outputs": [],
   "source": []
  }
 ],
 "metadata": {
  "kernelspec": {
   "display_name": "Python [conda env:geofabrics]",
   "language": "python",
   "name": "conda-env-geofabrics-py"
  },
  "language_info": {
   "codemirror_mode": {
    "name": "ipython",
    "version": 3
   },
   "file_extension": ".py",
   "mimetype": "text/x-python",
   "name": "python",
   "nbconvert_exporter": "python",
   "pygments_lexer": "ipython3",
   "version": "3.9.12"
  }
 },
 "nbformat": 4,
 "nbformat_minor": 5
}
