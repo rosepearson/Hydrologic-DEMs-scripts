{
 "cells": [
  {
   "cell_type": "code",
   "execution_count": 1,
   "id": "bb30d87b",
   "metadata": {},
   "outputs": [
    {
     "data": {
      "text/html": [
       "<style>.container { width:100% !important; }</style>"
      ],
      "text/plain": [
       "<IPython.core.display.HTML object>"
      ]
     },
     "metadata": {},
     "output_type": "display_data"
    }
   ],
   "source": [
    "import warnings\n",
    "warnings.simplefilter(action='ignore', category=FutureWarning)\n",
    "\n",
    "import geopandas\n",
    "import pandas\n",
    "import pathlib\n",
    "import numpy\n",
    "import matplotlib.pyplot\n",
    "import seaborn\n",
    "import shapely\n",
    "import rioxarray\n",
    "from IPython.display import display, HTML\n",
    "\n",
    "display(HTML(\"<style>.container { width:100% !important; }</style>\"))"
   ]
  },
  {
   "cell_type": "markdown",
   "id": "182b23a0",
   "metadata": {},
   "source": [
    "# Plan\n",
    "* Load in GeoFabrics estimated width, depth and water surface height - (using those used in GeoFabrics - i.e. same level of smoothing)\n",
    "  * Calculate channel area - assume rectangular\n",
    "* Load in measured cross sections\n",
    "  * Transform to NZVD2016\n",
    "  * Calculate the channel area - use the same water height as the GeoFabrics estimates\n",
    "* Compare the results\n",
    "  * Take the nearest GeoFabrics cross section to each measured cross section\n",
    "  * Plot area's on the same plot"
   ]
  },
  {
   "cell_type": "code",
   "execution_count": 26,
   "id": "b8666144",
   "metadata": {},
   "outputs": [],
   "source": [
    "resolution = 8\n",
    "horizontal_crs = 2193"
   ]
  },
  {
   "cell_type": "markdown",
   "id": "2d90a150",
   "metadata": {},
   "source": [
    "### Load in GeoFabrics Bathymetry estimates"
   ]
  },
  {
   "cell_type": "code",
   "execution_count": 27,
   "id": "c3c02ca8",
   "metadata": {},
   "outputs": [],
   "source": [
    "cache_path = pathlib.Path(r\"C:\\Local\\data\\catchments\\Westport\\caches\\NZ20_Westport\")\n",
    "folder = \"paper\"\n",
    "dems = {}\n",
    "#dems[\"Unconditioned\"] = rioxarray.rioxarray.open_rasterio(cache_path / folder  / \"geofabric_8m_unconditioned.nc\", masked=True).squeeze(\"band\", drop=True)\n",
    "dems[\"Wide uniform flow\"] = rioxarray.rioxarray.open_rasterio(cache_path / folder  / \"geofabric_8m_rupp_and_smart_wide.nc\", masked=True).squeeze(\"band\", drop=True)\n",
    "#dems[\"Wide conceptual multivariate regression\"] = rioxarray.rioxarray.open_rasterio(cache_path / folder / \"geofabric_8m_rupp_and_smart_narrow.nc\", masked=True).squeeze(\"band\", drop=True)\n",
    "dems[\"Narrow uniform flow\"] = rioxarray.rioxarray.open_rasterio(cache_path / folder  / \"geofabric_8m_neal_et_al_wide.nc\", masked=True).squeeze(\"band\", drop=True)\n",
    "#dems[\"Narrow conceptual multivariate regression \"] = rioxarray.rioxarray.open_rasterio(cache_path / folder / \"geofabric_8m_neal_et_al_narrow.nc\", masked=True).squeeze(\"band\", drop=True)\n",
    "dems[\"Riparian 1m Raw\"] = rioxarray.rioxarray.open_rasterio(cache_path / folder / \"wide_river\" / \"raw_veg_dem.nc\", masked=True).squeeze(\"band\", drop=True)\n",
    "dems[\"Gnd 1m Raw\"] = rioxarray.rioxarray.open_rasterio(cache_path / folder / \"wide_river\" / \"raw_gnd_dem.nc\", masked=True).squeeze(\"band\", drop=True)"
   ]
  },
  {
   "cell_type": "code",
   "execution_count": 28,
   "id": "c3ff8f51",
   "metadata": {},
   "outputs": [],
   "source": [
    "river_centreline = geopandas.read_file(cache_path / folder / \"wide_river\" / \"aligned_river_centreline_6308000000.geojson\")\n",
    "river_polygon = geopandas.read_file(cache_path / folder / \"wide_river\" / \"river_polygon.geojson\")\n",
    "fan_polygon = geopandas.read_file(cache_path / folder / \"wide_river\" / \"fan_polygon.geojson\")\n",
    "polygon = geopandas.GeoDataFrame( pandas.concat([river_polygon, fan_polygon], ignore_index=True), \n",
    "                                 crs=river_polygon.crs).dissolve()"
   ]
  },
  {
   "cell_type": "markdown",
   "id": "a7515f30",
   "metadata": {},
   "source": [
    "## Load in sample cross sections & widths\n",
    "See raw cell below for converting to NZVD2016. This has already been done so load in the converted one directly"
   ]
  },
  {
   "cell_type": "code",
   "execution_count": 29,
   "id": "a5243d5d",
   "metadata": {},
   "outputs": [],
   "source": [
    "sampled_sections = geopandas.read_file(cache_path / folder / \"wide_river\" / \"final_cross_sections.geojson\")\n",
    "sampled_sections = sampled_sections.drop(columns=['min_z_centre', 'min_z_centre_unimodal', 'slope',\n",
    "       'min_z_centre_unimodal_mean_0.05km', 'slope_mean_0.05km',\n",
    "       'min_z_centre_unimodal_mean_0.25km', 'slope_mean_0.25km',\n",
    "       'min_z_centre_unimodal_mean_0.5km', 'slope_mean_0.5km',\n",
    "       'min_z_centre_unimodal_mean_1.0km', 'slope_mean_1.0km', 'widths',\n",
    "       'threshold', 'channel_count', 'flat_widths', 'valid', 'valid_widths',\n",
    "       'valid_flat_widths', 'valid_threhold', 'widths_mean_0.05km',\n",
    "       'flat_widths_mean_0.05km', 'thresholds_mean_0.05km',\n",
    "       'widths_mean_0.15km', 'flat_widths_mean_0.15km',\n",
    "       'thresholds_mean_0.15km', 'widths_mean_0.2km', 'flat_widths_mean_0.2km',\n",
    "       'thresholds_mean_0.2km', 'widths_mean_0.25km',\n",
    "       'flat_widths_mean_0.25km', 'thresholds_mean_0.25km'])"
   ]
  },
  {
   "cell_type": "code",
   "execution_count": 30,
   "id": "f21c8840",
   "metadata": {},
   "outputs": [],
   "source": [
    "widths = {}\n",
    "widths[\"Wide\"] = geopandas.read_file(cache_path / folder / \"wide_river\" / \"final_widths.geojson\")\n",
    "widths[\"Narrow\"] = geopandas.read_file(cache_path / folder / \"narrow_river\" / \"final_widths.geojson\")\n",
    "thresholds = {\"Narrow Min\": 0.5, \"Narrow Max\": 0.75, \"Wide Min\": 2, \"Wide Max\": 5}"
   ]
  },
  {
   "cell_type": "markdown",
   "id": "7e3dac64",
   "metadata": {},
   "source": [
    "## Sample DEM for elevations\n",
    "Record the Bias and STDev for each cross section against the two DEMS"
   ]
  },
  {
   "cell_type": "code",
   "execution_count": 31,
   "id": "28e27148",
   "metadata": {},
   "outputs": [
    {
     "data": {
      "text/plain": [
       "<Axes: >"
      ]
     },
     "execution_count": 31,
     "metadata": {},
     "output_type": "execute_result"
    },
    {
     "data": {
      "image/png": "[encoded data removed]",
      "text/plain": [
       "<Figure size 1000x500 with 1 Axes>"
      ]
     },
     "metadata": {},
     "output_type": "display_data"
    }
   ],
   "source": [
    "import matplotlib.pyplot\n",
    "fig, ax = matplotlib.pyplot.subplots(ncols=1, nrows=1, figsize=(10, 5))\n",
    "polygon.plot(ax=ax, color='g')\n",
    "sampled_sections.plot(ax=ax)"
   ]
  },
  {
   "cell_type": "markdown",
   "id": "0016f13a",
   "metadata": {},
   "source": [
    "# Sample every 1m\n",
    "Use Linear interpolation in between"
   ]
  },
  {
   "cell_type": "code",
   "execution_count": 35,
   "id": "6fbf83f5",
   "metadata": {},
   "outputs": [
    {
     "name": "stdout",
     "output_type": "stream",
     "text": [
      "Section number = 0 of 1652\n",
      "Section number = 1 of 1652\n",
      "Section number = 2 of 1652\n",
      "Section number = 3 of 1652\n",
      "Section number = 4 of 1652\n",
      "Section number = 5 of 1652\n",
      "Section number = 6 of 1652\n",
      "Section number = 7 of 1652\n",
      "Section number = 8 of 1652\n",
      "Section number = 9 of 1652\n",
      "Section number = 10 of 1652\n",
      "Section number = 11 of 1652\n",
      "Section number = 12 of 1652\n",
      "Section number = 13 of 1652\n",
      "Section number = 14 of 1652\n",
      "Section number = 15 of 1652\n",
      "Section number = 16 of 1652\n",
      "Section number = 17 of 1652\n",
      "Section number = 18 of 1652\n",
      "Section number = 19 of 1652\n",
      "Section number = 20 of 1652\n",
      "Section number = 21 of 1652\n",
      "Section number = 22 of 1652\n",
      "Section number = 23 of 1652\n",
      "Section number = 24 of 1652\n",
      "Section number = 25 of 1652\n",
      "Section number = 26 of 1652\n",
      "Section number = 27 of 1652\n",
      "Section number = 28 of 1652\n",
      "Section number = 29 of 1652\n",
      "Section number = 30 of 1652\n",
      "Section number = 31 of 1652\n",
      "Section number = 32 of 1652\n",
      "Section number = 33 of 1652\n",
      "Section number = 34 of 1652\n",
      "Section number = 35 of 1652\n",
      "Section number = 36 of 1652\n",
      "Section number = 37 of 1652\n",
      "Section number = 38 of 1652\n",
      "Section number = 39 of 1652\n",
      "Section number = 40 of 1652\n",
      "Section number = 41 of 1652\n",
      "Section number = 42 of 1652\n",
      "Section number = 43 of 1652\n",
      "Section number = 44 of 1652\n",
      "Section number = 45 of 1652\n",
      "Section number = 46 of 1652\n",
      "Section number = 47 of 1652\n",
      "Section number = 48 of 1652\n",
      "Section number = 49 of 1652\n",
      "Section number = 50 of 1652\n",
      "Section number = 51 of 1652\n",
      "Section number = 52 of 1652\n",
      "Section number = 53 of 1652\n",
      "Section number = 54 of 1652\n",
      "Section number = 55 of 1652\n",
      "Section number = 56 of 1652\n",
      "Section number = 57 of 1652\n",
      "Section number = 58 of 1652\n",
      "Section number = 59 of 1652\n",
      "Section number = 60 of 1652\n",
      "Section number = 61 of 1652\n",
      "Section number = 62 of 1652\n",
      "Section number = 63 of 1652\n",
      "Section number = 64 of 1652\n",
      "Section number = 65 of 1652\n",
      "Section number = 66 of 1652\n",
      "Section number = 67 of 1652\n",
      "Section number = 68 of 1652\n",
      "Section number = 69 of 1652\n",
      "Section number = 70 of 1652\n",
      "Section number = 71 of 1652\n",
      "Section number = 72 of 1652\n",
      "Section number = 73 of 1652\n",
      "Section number = 74 of 1652\n",
      "Section number = 75 of 1652\n",
      "Section number = 76 of 1652\n",
      "Section number = 77 of 1652\n",
      "Section number = 78 of 1652\n",
      "Section number = 79 of 1652\n",
      "Section number = 80 of 1652\n",
      "Section number = 81 of 1652\n",
      "Section number = 82 of 1652\n",
      "Section number = 83 of 1652\n",
      "Section number = 84 of 1652\n",
      "Section number = 85 of 1652\n",
      "Section number = 86 of 1652\n",
      "Section number = 87 of 1652\n",
      "Section number = 88 of 1652\n",
      "Section number = 89 of 1652\n",
      "Section number = 90 of 1652\n",
      "Section number = 91 of 1652\n",
      "Section number = 92 of 1652\n",
      "Section number = 93 of 1652\n",
      "Section number = 94 of 1652\n",
      "Section number = 95 of 1652\n",
      "Section number = 96 of 1652\n",
      "Section number = 97 of 1652\n",
      "Section number = 98 of 1652\n",
      "Section number = 99 of 1652\n",
      "Section number = 100 of 1652\n",
      "Section number = 101 of 1652\n"
     ]
    }
   ],
   "source": [
    "comparisons_sampled = {**dict((f\"{key} z\", []) for key in dems), **dict((f\"{key} river\", []) for key in widths), **{\"Section\": [], \"Polygon\": [], \"Distance Upstream [m]\": [], \"Offset [m]\": []}}\n",
    "intersection_points = sampled_sections.intersection(river_centreline.iloc[0].geometry)\n",
    "for index, row in sampled_sections.iterrows():\n",
    "    print(f\"Section number = {index} of {len(sampled_sections)}\")\n",
    "    line = row.geometry\n",
    "    distance_upstream = float(river_centreline.project(intersection_points.iloc[index]))\n",
    "    for offset in list(range(int(numpy.ceil(line.length)))):\n",
    "        point = line.interpolate(offset)\n",
    "        for key in dems:\n",
    "            comparisons_sampled[f\"{key} z\"].append(float(dems[key].z.interp(x=point.x, y=point.y)))\n",
    "        for key in widths:\n",
    "            if widths[key].iloc[index].geometry is not None:\n",
    "                comparisons_sampled[f\"{key} river\"].append(widths[key].iloc[index].geometry.distance(point) < 0.001)\n",
    "            else:\n",
    "                comparisons_sampled[f\"{key} river\"].append(False)\n",
    "        comparisons_sampled[\"Section\"].append(index)\n",
    "        comparisons_sampled[\"Polygon\"].append(polygon.iloc[0].geometry.contains(point))\n",
    "        comparisons_sampled[\"Distance Upstream [m]\"].append(distance_upstream)\n",
    "        comparisons_sampled[\"Offset [m]\"].append(offset)\n",
    "    if index > 100:\n",
    "        break\n",
    "comparisons_sampled = pandas.DataFrame.from_dict(comparisons_sampled)"
   ]
  },
  {
   "cell_type": "code",
   "execution_count": 36,
   "id": "c9d46c4e",
   "metadata": {},
   "outputs": [],
   "source": [
    "comparisons_sampled.to_json(cache_path / folder / \"sampled_section_comparison\" / \"sampled_values.json\")"
   ]
  },
  {
   "cell_type": "markdown",
   "id": "400e2994",
   "metadata": {},
   "source": [
    "# Plot sampled elevations along entire sections\n",
    "Plot the sampled elevations along individual cross-sections including the on-land portions as a sanity check."
   ]
  },
  {
   "cell_type": "code",
   "execution_count": 37,
   "id": "313b51ce",
   "metadata": {},
   "outputs": [],
   "source": [
    "columns = [f\"{key} z\" for key in dems]\n",
    "for section in comparisons_sampled['Section'].unique():\n",
    "    # Plot the samppled profiles\n",
    "    distance = comparisons_sampled[comparisons_sampled['Section']==section]['Distance Upstream [m]'].iloc[0]\n",
    "    \n",
    "    # Plot sampled DEMs elevations\n",
    "    axis = comparisons_sampled[comparisons_sampled[\"Section\"]==section][columns].plot(title=f\"{distance}m upstream\", figsize=(15,10), linewidth=3)\n",
    "    \n",
    "    # Add doted lines showing where the 'water' was detected - note should all be viewed on the unconditioend DEM\n",
    "    for river_name in widths:\n",
    "        for dem_name in dems:\n",
    "            if river_name in dem_name:\n",
    "                 comparisons_sampled[(comparisons_sampled[\"Section\"]==section) & (comparisons_sampled[f\"{river_name} river\"]==True)][[f\"{dem_name} z\"]].plot(ax=axis, linestyle=':', linewidth=4);\n",
    "    \n",
    "    # Plot the z_water and thresholds\n",
    "    matplotlib.pyplot.axhline(y=sampled_sections.iloc[section][\"min_z_water\"], color='r', linestyle=':', label=\"min_z_water\")\n",
    "    for threshold_name in thresholds:\n",
    "        matplotlib.pyplot.axhline(y=sampled_sections.iloc[section][\"min_z_water\"] + thresholds[threshold_name], color=numpy.random.rand(3,), linestyle=':', label=threshold_name)\n",
    "    matplotlib.pyplot.legend()\n",
    "    axis.figure.savefig(cache_path / folder / \"sampled_section_comparison\" / f\"{distance}m_upstream.png\")\n",
    "    matplotlib.pyplot.close()"
   ]
  },
  {
   "cell_type": "markdown",
   "id": "dc98a03c",
   "metadata": {},
   "source": [
    "# Todo -\n",
    "1. read in i_start & i_end\n",
    "2. note if not valid in plot"
   ]
  },
  {
   "cell_type": "code",
   "execution_count": null,
   "id": "602c0eb9",
   "metadata": {},
   "outputs": [],
   "source": []
  },
  {
   "cell_type": "code",
   "execution_count": null,
   "id": "7ce9c447",
   "metadata": {},
   "outputs": [],
   "source": []
  }
 ],
 "metadata": {
  "kernelspec": {
   "display_name": "Python [conda env:raster]",
   "language": "python",
   "name": "conda-env-raster-py"
  },
  "language_info": {
   "codemirror_mode": {
    "name": "ipython",
    "version": 3
   },
   "file_extension": ".py",
   "mimetype": "text/x-python",
   "name": "python",
   "nbconvert_exporter": "python",
   "pygments_lexer": "ipython3",
   "version": "3.11.1"
  }
 },
 "nbformat": 4,
 "nbformat_minor": 5
}
