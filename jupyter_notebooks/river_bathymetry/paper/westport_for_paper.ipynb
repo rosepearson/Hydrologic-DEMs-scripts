{
 "cells": [
  {
   "cell_type": "code",
   "execution_count": null,
   "id": "bb30d87b",
   "metadata": {},
   "outputs": [],
   "source": [
    "import warnings\n",
    "warnings.simplefilter(action='ignore', category=FutureWarning)\n",
    "\n",
    "import numpy\n",
    "import seaborn\n",
    "import pathlib\n",
    "import geopandas\n",
    "import pandas\n",
    "import shapely\n",
    "import rioxarray\n",
    "import matplotlib.pyplot\n",
    "from IPython.display import display, HTML\n",
    "\n",
    "display(HTML(\"<style>.container { width:100% !important; }</style>\"))"
   ]
  },
  {
   "cell_type": "markdown",
   "id": "182b23a0",
   "metadata": {},
   "source": [
    "# Plan\n",
    "* Load in surveyed elevation cross sections and riverbanks\n",
    "  * Use the delineated riverbanks to define the area\n",
    "  * Use river estimation cross sections to define sample locations\n",
    "* Load in the DEMs\n",
    "  * Unconditioned, interpolated riverbed, and 2 methods of estimated riverbed\n",
    "* Calculate depths (within the delineated river)\n",
    "  * Mean DEM depths at regular profiles along the river (multiples of the 10m profile spacing)\n",
    "  * Plot the surveyed elevations as boxplots\n",
    "* Calculate the areas (within the delineated river) based on the riverbed estimation water surface height \n",
    "  * Line plots for DEMs\n",
    "  * Point plot for surveyed measurements"
   ]
  },
  {
   "cell_type": "code",
   "execution_count": null,
   "id": "b8666144",
   "metadata": {},
   "outputs": [],
   "source": [
    "upstream_spacing = 10\n",
    "horizontal_crs = 2193"
   ]
  },
  {
   "cell_type": "markdown",
   "id": "2d90a150",
   "metadata": {},
   "source": [
    "# Read in data\n",
    "## Load in GeoFabrics data\n",
    "DEMS"
   ]
  },
  {
   "cell_type": "code",
   "execution_count": null,
   "id": "c3c02ca8",
   "metadata": {},
   "outputs": [],
   "source": [
    "cache_path = pathlib.Path(r\"C:\\Local\\data\\catchments\\Westport\\caches\\NZ20_Westport\")\n",
    "folder = \"paper\"\n",
    "dems = {}\n",
    "dems[\"Unconditioned\"] = rioxarray.rioxarray.open_rasterio(cache_path / folder / \"geofabric_8m_unconditioned.nc\", masked=True).squeeze(\"band\", drop=True)\n",
    "dems[\"Conceptual Multivariate Regression Approach\"] = rioxarray.rioxarray.open_rasterio(cache_path / folder / \"geofabric_8m_rupp_and_smart.nc\", masked=True).squeeze(\"band\", drop=True)\n",
    "dems[\"Uniform Flow Approach\"] = rioxarray.rioxarray.open_rasterio(cache_path / folder / \"geofabric_8m_neal_et_al.nc\", masked=True).squeeze(\"band\", drop=True)\n",
    "dems[\"Interpolated Surveyed Elevation Cross Sections\"] = rioxarray.rioxarray.open_rasterio(cache_path / folder / \"geofabric_8m_measured_river_fan.nc\", masked=True).squeeze(\"band\", drop=True)"
   ]
  },
  {
   "cell_type": "markdown",
   "id": "e0bb4e54-5c2e-4b75-bcba-1706cc1b5532",
   "metadata": {},
   "source": [
    "## Delineated river polygon\n",
    "And the 'River Estimation' profiles and water elevation estimation"
   ]
  },
  {
   "cell_type": "code",
   "execution_count": null,
   "id": "5bf8e12b-5042-4302-921a-b732b4a6bbef",
   "metadata": {},
   "outputs": [],
   "source": [
    "sampled_sections = geopandas.read_file(cache_path / folder / \"river\" / \"final_cross_sections.geojson\")\n",
    "sampled_sections = sampled_sections.drop(columns=['min_z_centre', 'min_z_centre_unimodal', 'slope',\n",
    "       'min_z_centre_unimodal_mean_0.05km', 'slope_mean_0.05km', 'first_bank_i', 'last_bank_i',\n",
    "       'min_z_centre_unimodal_mean_0.25km', 'slope_mean_0.25km', 'first_flat_bank_i', 'last_flat_bank_i',\n",
    "       'min_z_centre_unimodal_mean_0.5km', 'slope_mean_0.5km',\n",
    "       'min_z_centre_unimodal_mean_1.0km', 'slope_mean_1.0km', 'widths',\n",
    "       'threshold', 'channel_count', 'flat_widths', 'valid', 'valid_widths',\n",
    "       'valid_flat_widths', 'valid_threhold', 'widths_mean_0.05km',\n",
    "       'flat_widths_mean_0.05km', 'thresholds_mean_0.05km',\n",
    "       'widths_mean_0.15km', 'flat_widths_mean_0.15km',\n",
    "       'thresholds_mean_0.15km', 'widths_mean_0.2km', 'flat_widths_mean_0.2km',\n",
    "       'thresholds_mean_0.2km', 'widths_mean_0.25km',\n",
    "       'flat_widths_mean_0.25km', 'thresholds_mean_0.25km'])\n",
    "\n",
    "polygon = geopandas.read_file(cache_path / folder / \"measured_river\" / \"river_polygon.geojson\")\n",
    "sampled_sections['Distance Upstream [m]'] = sampled_sections.index * upstream_spacing\n",
    "sampled_sections = sampled_sections.clip(polygon).sort_index().reset_index(drop=True)\n",
    "sampled_sections = sampled_sections.set_index(keys=[\"Distance Upstream [m]\"])"
   ]
  },
  {
   "cell_type": "code",
   "execution_count": null,
   "id": "28e27148",
   "metadata": {
    "tags": []
   },
   "outputs": [],
   "source": [
    "fig, ax = matplotlib.pyplot.subplots(ncols=1, nrows=1, figsize=(10, 5))\n",
    "polygon.plot(ax=ax, color='g')\n",
    "sampled_sections.plot(ax=ax)"
   ]
  },
  {
   "cell_type": "markdown",
   "id": "5ca08590-faeb-45b9-9808-416d9a1979fb",
   "metadata": {},
   "source": [
    "## Surveyed cross section elevations\n",
    "Note have already been processed into expected form"
   ]
  },
  {
   "cell_type": "code",
   "execution_count": null,
   "id": "8e262a8d-cba5-4bfa-bf53-31bd2b7f5aaa",
   "metadata": {},
   "outputs": [],
   "source": [
    "sections_path = pathlib.Path(r\"C:\\Local\\data\\catchments\\measured_sections\\westport\")\n",
    "surveyed_name_label = 'Name'\n",
    "surveyed_sections = geopandas.read_file(sections_path / \"measured_sections.geojson\")\n",
    "surveyed_sections = surveyed_sections.clip(polygon).sort_index()"
   ]
  },
  {
   "cell_type": "markdown",
   "id": "cc739dbf-c8ab-4577-bdb8-9fcbefd61ffc",
   "metadata": {},
   "source": [
    "### Add distance upstream to surveyed data"
   ]
  },
  {
   "cell_type": "code",
   "execution_count": null,
   "id": "22bec91b-46db-462f-af51-2e5144986991",
   "metadata": {},
   "outputs": [],
   "source": [
    "distance_upstream = []\n",
    "for section in surveyed_sections.geometry:\n",
    "    distance_upstream.append(sampled_sections.distance(section).idxmin())\n",
    "surveyed_sections['Distance Upstream [m]'] = distance_upstream"
   ]
  },
  {
   "cell_type": "markdown",
   "id": "b09aad1c-e68c-4486-a9b7-aa1fe70d3c19",
   "metadata": {},
   "source": [
    "# Calculate elevations and areas"
   ]
  },
  {
   "cell_type": "markdown",
   "id": "4da9955d-981d-4bf4-bea9-a5a4d79843d1",
   "metadata": {},
   "source": [
    "### Calculate for surveyed sections\n",
    "Create a DF with a row for each 1m along each profile"
   ]
  },
  {
   "cell_type": "code",
   "execution_count": null,
   "id": "1912568e-1c99-469b-b4bb-cc54ca3af822",
   "metadata": {},
   "outputs": [],
   "source": [
    "surveyed_expanded = {\"Riverbed Elevation [m]\": [], \"Distance Upstream [m]\": [], \"Offset [m]\": [], \"Water elevation [m]\": []}\n",
    "for index, row in surveyed_sections.iterrows():\n",
    "    #print(f\"Section number = {index} of {len(surveyed_sections)}\")\n",
    "    line = row.geometry\n",
    "    distance_upstream = row[\"Distance Upstream [m]\"]\n",
    "    for offset in numpy.arange(line.length + 1):\n",
    "        point = line.interpolate(offset)\n",
    "        surveyed_expanded[\"Distance Upstream [m]\"].append(distance_upstream)\n",
    "        surveyed_expanded[\"Offset [m]\"].append(offset)\n",
    "        surveyed_expanded[\"Riverbed Elevation [m]\"].append(point.z)\n",
    "        surveyed_expanded[\"Water elevation [m]\"].append(sampled_sections.loc[distance_upstream]['min_z_water'])\n",
    "        \n",
    "surveyed_expanded = pandas.DataFrame.from_dict(surveyed_expanded)"
   ]
  },
  {
   "cell_type": "code",
   "execution_count": null,
   "id": "3efe3c43-e9ba-4606-953a-5ee45c0398de",
   "metadata": {},
   "outputs": [],
   "source": [
    "seaborn.set(rc={'figure.figsize':(10,5)})\n",
    "figure = seaborn.lineplot(data=surveyed_expanded, x=\"Distance Upstream [m]\", y=\"Riverbed Elevation [m]\", label='CI Line')\n",
    "figure = seaborn.lineplot(data=surveyed_expanded, x=\"Distance Upstream [m]\", y=\"Riverbed Elevation [m]\", err_style='bars',\n",
    "                          marker='o', linestyle='', label='CI points')"
   ]
  },
  {
   "cell_type": "markdown",
   "id": "7e3dac64",
   "metadata": {},
   "source": [
    "## Sample DEM elevations\n",
    "Sample along the profiles generated in the 'River Estimation' process within the delineated river polygon\n",
    "Create a DF with a row for each 1m along each profile"
   ]
  },
  {
   "cell_type": "markdown",
   "id": "0016f13a",
   "metadata": {},
   "source": [
    "# Sample every 1m\n",
    "Use Linear interpolation in between"
   ]
  },
  {
   "cell_type": "code",
   "execution_count": null,
   "id": "eb9e69c1-0175-48a6-870f-6fe2ae0f6fe2",
   "metadata": {
    "tags": []
   },
   "outputs": [],
   "source": [
    "df = sampled_sections#.iloc[::10]\n",
    "sampled_expanded = {**dict((f\"{key}\", []) for key in dems), \"Distance Upstream [m]\": [], \"Offset [m]\": [], \"Water elevation [m]\": []}\n",
    "for distance_upstream, row in df.iterrows():\n",
    "    print(f\"Distance upstream = {distance_upstream}m of {max(df.index)}m\")\n",
    "    line = row.geometry\n",
    "    water_elevation = row['min_z_water']\n",
    "    for offset in numpy.arange(line.length + 1):\n",
    "        point = line.interpolate(offset)\n",
    "        for key in dems:\n",
    "            sampled_expanded[f\"{key}\"].append(float(dems[key].z.interp(x=point.x, y=point.y)))\n",
    "        sampled_expanded[\"Distance Upstream [m]\"].append(distance_upstream)\n",
    "        sampled_expanded[\"Offset [m]\"].append(offset)\n",
    "        sampled_expanded[\"Water elevation [m]\"].append(water_elevation)\n",
    "        \n",
    "sampled_expanded = pandas.DataFrame.from_dict(sampled_expanded)"
   ]
  },
  {
   "cell_type": "code",
   "execution_count": null,
   "id": "7bc10a3a",
   "metadata": {},
   "outputs": [],
   "source": [
    "sampled_expanded.to_json(cache_path / folder / \"sampled_section_comparison\" / \"sampled_values.json\")"
   ]
  },
  {
   "cell_type": "code",
   "execution_count": null,
   "id": "e7b447dd-2237-4d4f-ab45-8010c7f5e464",
   "metadata": {},
   "outputs": [],
   "source": [
    "sampled_expanded = pandas.read_json(cache_path / folder / \"sampled_section_comparison\" / \"sampled_values.json\")"
   ]
  },
  {
   "cell_type": "markdown",
   "id": "159350cd",
   "metadata": {},
   "source": [
    "# Plot cross sectional elevations\n",
    "Plot the DEM elevations on each sample compared with the measured sections  by distance upstream"
   ]
  },
  {
   "cell_type": "code",
   "execution_count": null,
   "id": "550a4fb8",
   "metadata": {},
   "outputs": [],
   "source": [
    "df_for_plotting=sampled_expanded.drop(columns=[\"Water elevation [m]\"]).melt(\n",
    "    id_vars=[\"Distance Upstream [m]\", \"Offset [m]\"], var_name=\"Source\", value_name=\"Riverbed Elevation [m]\")"
   ]
  },
  {
   "cell_type": "code",
   "execution_count": null,
   "id": "7435a62a",
   "metadata": {},
   "outputs": [],
   "source": [
    "seaborn.set(rc={'figure.figsize':(11.7,6)})\n",
    "figure = seaborn.lineplot(data=df_for_plotting, x=\"Distance Upstream [m]\", y=\"Riverbed Elevation [m]\", hue=\"Source\")\n",
    "figure = seaborn.lineplot(data=surveyed_expanded, x=\"Distance Upstream [m]\", y=\"Riverbed Elevation [m]\", err_style='bars',\n",
    "                          marker='o', linestyle='', label='Surveyed elevations')\n",
    "figure.set(title='Section Depths Comparison 95% CI')\n",
    "figure.text(-2500, 12, \"b\", fontsize=14)\n",
    "figure.get_figure().savefig(cache_path / folder / \"measured_section_comparison\" / \"section_depths.png\") "
   ]
  },
  {
   "cell_type": "markdown",
   "id": "6cb070c2",
   "metadata": {},
   "source": [
    "# Plot cross sectional area\n",
    "Plot the cross sectional area of each DEM and the surveyed sections by distance upstream"
   ]
  },
  {
   "cell_type": "code",
   "execution_count": null,
   "id": "c0cb6041-d7b9-4b09-80c8-8ecea9db5c82",
   "metadata": {},
   "outputs": [],
   "source": [
    "sampled_areas = sampled_expanded.set_index(keys=[\"Distance Upstream [m]\", \"Offset [m]\"])\n",
    "sampled_areas = -sampled_areas[dems.keys()].sub(sampled_areas['Water elevation [m]'], axis='index') # minus as actually want positive areas "
   ]
  },
  {
   "cell_type": "code",
   "execution_count": null,
   "id": "c4c41b14-944f-4958-a0ff-f148fa08bbd5",
   "metadata": {},
   "outputs": [],
   "source": [
    "surveyed_areas = surveyed_expanded.set_index(keys=[\"Distance Upstream [m]\", \"Offset [m]\"])\n",
    "surveyed_areas = surveyed_areas['Water elevation [m]'] - surveyed_areas[\"Riverbed Elevation [m]\"]"
   ]
  },
  {
   "cell_type": "code",
   "execution_count": null,
   "id": "eb95efb9-9fb8-4c21-8b53-974169b3a0bd",
   "metadata": {},
   "outputs": [],
   "source": [
    "df_for_plotting = sampled_areas.groupby(\"Distance Upstream [m]\").sum()\n",
    "df_for_plotting = df_for_plotting.reset_index().melt(id_vars=[\"Distance Upstream [m]\"], var_name=\"Source\", value_name=\"Riverbed Area [m^2]\")"
   ]
  },
  {
   "cell_type": "code",
   "execution_count": null,
   "id": "6e45a8f3-6a2a-4d8c-bbc3-57c6a0ec2f6f",
   "metadata": {},
   "outputs": [],
   "source": [
    "surveyed_df_for_plotting = surveyed_areas.groupby(\"Distance Upstream [m]\").sum()"
   ]
  },
  {
   "cell_type": "code",
   "execution_count": null,
   "id": "5d5d4811-0b95-465d-9e22-9ef9cb266ab0",
   "metadata": {},
   "outputs": [],
   "source": [
    "seaborn.set(rc={'figure.figsize':(11.7,6)})\n",
    "figure = seaborn.lineplot(data=df_for_plotting, x=\"Distance Upstream [m]\", y=\"Riverbed Area [m^2]\", hue=\"Source\")\n",
    "figure = seaborn.lineplot(data=surveyed_df_for_plotting, marker='o', linestyle='', label='Surveyed elevations')\n",
    "figure.set(title='Channel Area Comparison')\n",
    "figure.text(-2500, 1700, \"c\", fontsize=14)\n",
    "figure.get_figure().savefig(cache_path / folder / \"measured_section_comparison\" / \"section_area_errors.png\") "
   ]
  },
  {
   "cell_type": "markdown",
   "id": "b383105e-738c-4ed4-878e-56d30a0f5c0c",
   "metadata": {},
   "source": [
    "# Subtract from maximum Surveyed"
   ]
  },
  {
   "cell_type": "code",
   "execution_count": null,
   "id": "fb82fce6-5ae3-4a8a-8064-fb481c3c3647",
   "metadata": {},
   "outputs": [],
   "source": [
    "maximum_elevations = sampled_expanded.groupby(\"Distance Upstream [m]\")[\"Interpolated Surveyed Elevation Cross Sections\"].max(numeric_only = True)\n",
    "sampled_expanded[\"Maximum elevation [m]\"] = pandas.Series(sampled_areas.index.get_level_values(0)).map(s).values"
   ]
  },
  {
   "cell_type": "code",
   "execution_count": null,
   "id": "a79e8bfd-f2ae-40a3-80da-e9b2f69b2524",
   "metadata": {},
   "outputs": [],
   "source": [
    "sampled_areas = sampled_expanded.set_index(keys=[\"Distance Upstream [m]\", \"Offset [m]\"])\n",
    "sampled_areas = -sampled_areas[dems.keys()].sub(sampled_areas['Maximum elevation [m]'], axis='index') # minus as actually want positive areas"
   ]
  },
  {
   "cell_type": "code",
   "execution_count": null,
   "id": "57029449-7c79-483f-8d18-1aec889b40d4",
   "metadata": {},
   "outputs": [],
   "source": [
    "df_for_plotting = sampled_areas.groupby(\"Distance Upstream [m]\").sum()\n",
    "df_for_plotting = df_for_plotting.reset_index().melt(id_vars=[\"Distance Upstream [m]\"], var_name=\"Source\", value_name=\"Riverbed Area [m^2]\")"
   ]
  },
  {
   "cell_type": "code",
   "execution_count": null,
   "id": "3eccec79-c11d-46b5-ad73-6f2d0694e7ad",
   "metadata": {},
   "outputs": [],
   "source": [
    "seaborn.set(rc={'figure.figsize':(11.7,6)})\n",
    "figure = seaborn.lineplot(data=df_for_plotting, x=\"Distance Upstream [m]\", y=\"Riverbed Area [m^2]\", hue=\"Source\")\n",
    "#figure = seaborn.lineplot(data=surveyed_df_for_plotting, marker='o', linestyle='', label='Surveyed elevations')\n",
    "figure.set(title='Channel Area Comparison')\n",
    "figure.text(-2000, 3000, \"a\", fontsize=14)\n",
    "figure.get_figure().savefig(cache_path / folder / \"measured_section_comparison\" / \"section_area_errors.png\") "
   ]
  },
  {
   "cell_type": "code",
   "execution_count": null,
   "id": "aa4d54cc-f581-42aa-a388-85949ee2a5d5",
   "metadata": {},
   "outputs": [],
   "source": []
  }
 ],
 "metadata": {
  "kernelspec": {
   "display_name": "Python [conda env:raster]",
   "language": "python",
   "name": "conda-env-raster-py"
  },
  "language_info": {
   "codemirror_mode": {
    "name": "ipython",
    "version": 3
   },
   "file_extension": ".py",
   "mimetype": "text/x-python",
   "name": "python",
   "nbconvert_exporter": "python",
   "pygments_lexer": "ipython3",
   "version": "3.11.3"
  }
 },
 "nbformat": 4,
 "nbformat_minor": 5
}
