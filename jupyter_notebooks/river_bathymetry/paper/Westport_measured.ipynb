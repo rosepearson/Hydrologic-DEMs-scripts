{
 "cells": [
  {
   "cell_type": "code",
   "execution_count": 86,
   "id": "c30c33f1",
   "metadata": {},
   "outputs": [],
   "source": [
    "import geopandas\n",
    "import pathlib\n",
    "import shapely"
   ]
  },
  {
   "cell_type": "code",
   "execution_count": 87,
   "id": "f7a4dee9",
   "metadata": {},
   "outputs": [],
   "source": [
    "base_path = pathlib.Path(r\"C:\\Local\\data\\river_bathemetry\\sections\\Westport\")"
   ]
  },
  {
   "cell_type": "raw",
   "id": "4926a14b",
   "metadata": {},
   "source": [
    "sections = geopandas.read_file(base_path / \"3738_Buller_River_October_2021\" / \"3738_Buller_River_October_2021_NZVD2016.geojson\")\n",
    "outline = geopandas.read_file(base_path / \"river_outlines\" / \"small\" / \"river_outline.geojson\")"
   ]
  },
  {
   "cell_type": "markdown",
   "id": "090c190c",
   "metadata": {},
   "source": [
    "# Split out different sections depending on the test dataset\n",
    "### Small\n",
    "Includes sections Section7, Section8, Section9, Section10"
   ]
  },
  {
   "cell_type": "raw",
   "id": "f4f314d1",
   "metadata": {},
   "source": [
    "list_of_names = [\"Section7\", \"Section8\", \"Section9\", \"Section10\"]\n",
    "crs = sections.crs\n",
    "sections = sections.query('Name in @list_of_names')\n",
    "sections = sections.groupby(['Name'])['geometry'].apply(lambda x: shapely.geometry.LineString(x.tolist())).set_crs(crs)\n",
    "sections.to_file(base_path / \"river_outlines\" / \"small\" / \"measured_sections.geojson\")"
   ]
  },
  {
   "cell_type": "code",
   "execution_count": 88,
   "id": "d7ef9d17",
   "metadata": {},
   "outputs": [],
   "source": [
    "sections = geopandas.read_file(base_path / \"river_outlines\" / \"small\" / \"measured_sections.geojson\")\n",
    "riverbanks = geopandas.read_file(base_path / \"river_outlines\" / \"small\" / \"river_banks.geojson\")"
   ]
  },
  {
   "cell_type": "markdown",
   "id": "d3b389bd",
   "metadata": {},
   "source": [
    "# Explore Interpolation between sections\n",
    "1. Estimate the centreline from the polygon\n",
    "2. Create profiles from the centerline\n",
    "3. Estimate the Thalweg from the measued sections\n",
    "4. Interpolate along points sampled along the lines"
   ]
  },
  {
   "cell_type": "code",
   "execution_count": 93,
   "id": "4cc3fead",
   "metadata": {},
   "outputs": [
    {
     "data": {
      "text/html": [
       "<div>\n",
       "<style scoped>\n",
       "    .dataframe tbody tr th:only-of-type {\n",
       "        vertical-align: middle;\n",
       "    }\n",
       "\n",
       "    .dataframe tbody tr th {\n",
       "        vertical-align: top;\n",
       "    }\n",
       "\n",
       "    .dataframe thead th {\n",
       "        text-align: right;\n",
       "    }\n",
       "</style>\n",
       "<table border=\"1\" class=\"dataframe\">\n",
       "  <thead>\n",
       "    <tr style=\"text-align: right;\">\n",
       "      <th></th>\n",
       "      <th>Name</th>\n",
       "      <th>geometry</th>\n",
       "    </tr>\n",
       "  </thead>\n",
       "  <tbody>\n",
       "    <tr>\n",
       "      <th>0</th>\n",
       "      <td>Right</td>\n",
       "      <td>LINESTRING (1483413.197 5375259.983, 1483663.4...</td>\n",
       "    </tr>\n",
       "    <tr>\n",
       "      <th>1</th>\n",
       "      <td>Left</td>\n",
       "      <td>LINESTRING (1483187.524 5375194.332, 1483229.3...</td>\n",
       "    </tr>\n",
       "  </tbody>\n",
       "</table>\n",
       "</div>"
      ],
      "text/plain": [
       "    Name                                           geometry\n",
       "0  Right  LINESTRING (1483413.197 5375259.983, 1483663.4...\n",
       "1   Left  LINESTRING (1483187.524 5375194.332, 1483229.3..."
      ]
     },
     "execution_count": 93,
     "metadata": {},
     "output_type": "execute_result"
    }
   ],
   "source": [
    "riverbanks"
   ]
  },
  {
   "cell_type": "code",
   "execution_count": null,
   "id": "69d05c47",
   "metadata": {},
   "outputs": [],
   "source": []
  }
 ],
 "metadata": {
  "kernelspec": {
   "display_name": "Python [conda env:raster]",
   "language": "python",
   "name": "conda-env-raster-py"
  },
  "language_info": {
   "codemirror_mode": {
    "name": "ipython",
    "version": 3
   },
   "file_extension": ".py",
   "mimetype": "text/x-python",
   "name": "python",
   "nbconvert_exporter": "python",
   "pygments_lexer": "ipython3",
   "version": "3.11.1"
  }
 },
 "nbformat": 4,
 "nbformat_minor": 5
}
