{
 "cells": [
  {
   "cell_type": "code",
   "execution_count": 1,
   "id": "bb319d0c",
   "metadata": {},
   "outputs": [
    {
     "data": {
      "text/html": [
       "<style>.container { width:100% !important; }</style>"
      ],
      "text/plain": [
       "<IPython.core.display.HTML object>"
      ]
     },
     "metadata": {},
     "output_type": "display_data"
    }
   ],
   "source": [
    "import geopandas\n",
    "import pandas\n",
    "import pathlib\n",
    "import shapely\n",
    "import numpy\n",
    "from IPython.display import display, HTML\n",
    "\n",
    "display(HTML(\"<style>.container { width:100% !important; }</style>\"))"
   ]
  },
  {
   "cell_type": "markdown",
   "id": "6b3e4d3a",
   "metadata": {},
   "source": [
    "# Split out different sections depending on the test dataset\n",
    "### Small\n",
    "Includes sections Section7, Section8, Section9, Section10"
   ]
  },
  {
   "cell_type": "code",
   "execution_count": 3,
   "id": "91495980",
   "metadata": {},
   "outputs": [],
   "source": [
    "base_path = pathlib.Path(r\"C:\\Local\\data\\river_bathemetry\\sections\\Westport\")"
   ]
  },
  {
   "cell_type": "raw",
   "id": "b4a68dbc",
   "metadata": {},
   "source": [
    "sections = geopandas.read_file(base_path / \"3738_Buller_River_October_2021\" / \"3738_Buller_River_October_2021_NZVD2016.geojson\")\n",
    "list_of_names = [\"Section7\", \"Section8\", \"Section9\", \"Section10\"]\n",
    "print(f\"CRS's should match. {crs == sections.crs}\")\n",
    "sections = sections.query('Name in @list_of_names')\n",
    "sections = sections.groupby(['Name'])['geometry'].apply(lambda x: shapely.geometry.LineString(x.tolist())).set_crs(crs)\n",
    "sections = sections.reindex(index = list_of_names)\n",
    "sections.to_file(base_path / \"river_outlines\" / \"small\" / \"measured_sections.geojson\")"
   ]
  },
  {
   "cell_type": "code",
   "execution_count": 4,
   "id": "547971d6",
   "metadata": {},
   "outputs": [],
   "source": [
    "sections = geopandas.read_file(base_path / \"river_outlines\" / \"small\" / \"measured_sections.geojson\")\n",
    "river_outlines = geopandas.read_file(base_path / \"river_outlines\" / \"small\" / \"river_banks.geojson\")"
   ]
  },
  {
   "cell_type": "code",
   "execution_count": 229,
   "id": "d24b2e29",
   "metadata": {},
   "outputs": [],
   "source": [
    "#riverbanks"
   ]
  },
  {
   "cell_type": "markdown",
   "id": "9b1ec5df",
   "metadata": {},
   "source": [
    "# Explore Interpolation between sections\n",
    "1. Create a centreline from the polygon\n",
    "2. Create cross sections along the centreline\n",
    "3. Estimate the Thalweg from the measued sections\n",
    "4. Interpolate along points sampled along the lines"
   ]
  },
  {
   "cell_type": "markdown",
   "id": "8ec7777c",
   "metadata": {},
   "source": [
    "### 1. Create Centreline from briverbanks file\n",
    "* Resample to the same number of nodes\n",
    "* Explode into a row for each node\n",
    "* Create a centreline (again same number of points)"
   ]
  },
  {
   "cell_type": "code",
   "execution_count": 230,
   "id": "db728414",
   "metadata": {},
   "outputs": [],
   "source": [
    "# resample to the same number of points\n",
    "n = 100\n",
    "cross_sections = river_outlines.copy(deep=True)\n",
    "cross_sections['geometry'] = cross_sections['geometry'].apply(lambda row: shapely.geometry.MultiPoint(row.interpolate(numpy.arange(0, 1 + 1/n, 1/n), normalized=True)))"
   ]
  },
  {
   "cell_type": "code",
   "execution_count": 231,
   "id": "513ace7e",
   "metadata": {},
   "outputs": [],
   "source": [
    "cross_sections = cross_sections.explode(index_parts=True)\n",
    "cross_sections = pandas.concat([cross_sections[cross_sections['Name']=='Right'].droplevel(0).geometry.rename('Right'), \n",
    "                                cross_sections[cross_sections['Name']=='Left'].droplevel(0).geometry.rename('Left')], axis = 1)\n",
    "#cross_sections['Centre'] = cross_sections.apply(lambda row: shapely.geometry.MultiPoint([row['Right'], row['Left']]).centroid , axis=1)"
   ]
  },
  {
   "cell_type": "markdown",
   "id": "da7734e4",
   "metadata": {},
   "source": [
    "### 2. Create cross sections along the centreline\n",
    "* Calculate width\n",
    "* Calculate the normal at each centreline point\n",
    "* Create cross sections to width"
   ]
  },
  {
   "cell_type": "code",
   "execution_count": 247,
   "id": "d81eb068",
   "metadata": {},
   "outputs": [
    {
     "data": {
      "text/plain": [
       "False"
      ]
     },
     "execution_count": 247,
     "metadata": {},
     "output_type": "execute_result"
    }
   ],
   "source": [
    "'right' in cross_sections.columns"
   ]
  },
  {
   "cell_type": "code",
   "execution_count": 232,
   "id": "c2b20766",
   "metadata": {},
   "outputs": [],
   "source": [
    "cross_sections['Cross Sections'] = cross_sections.apply(lambda row: shapely.geometry.LineString( [row['Right'], row['Left'] ] ), axis=1)"
   ]
  },
  {
   "cell_type": "code",
   "execution_count": 233,
   "id": "0d16a765",
   "metadata": {},
   "outputs": [],
   "source": [
    "#cross_sections.set_geometry('Cross Sections', crs=crs)[['Cross Sections']].to_file(base_path /\"river_outlines\" / \"small\" / \"cross_sections.geojson\")"
   ]
  },
  {
   "cell_type": "markdown",
   "id": "318b2bbb",
   "metadata": {},
   "source": [
    "### 3. Estimate the Thalweg from the measued sections\n",
    "* Clip measured sections to defined polygon\n",
    "* Locate the Thalweg (minimum location) in each measured section & calculate the normalised lcoation\n",
    "* Linearly interpolate the normalised Thalweg locations across the cross sections\n",
    "* Insert nodes along each each cross section & explode out points\n",
    "* Set the nearest cross section points to measured points to be the measured value then interpolate down river"
   ]
  },
  {
   "cell_type": "code",
   "execution_count": 234,
   "id": "3a7ca167",
   "metadata": {},
   "outputs": [],
   "source": [
    "# Clip measured sections within specified river outline\n",
    "river_outlines_crs = river_outlines.crs\n",
    "river_outlines.loc[3] = {\"Name\": \"Polygon\", \"geometry\": shapely.geometry.Polygon(numpy.append(river_outlines[river_outlines['Name']=='Right'].iloc[0].geometry.coords, river_outlines[river_outlines['Name']=='Left'].iloc[0].geometry.coords[::-1], axis=0))}\n",
    "river_outlines.set_crs(river_outlines_crs, inplace=True);\n",
    "sections = sections.clip(river_outlines[river_outlines[\"Name\"]==\"Polygon\"]).sort_index()"
   ]
  },
  {
   "cell_type": "markdown",
   "id": "313e2666",
   "metadata": {},
   "source": [
    "Calculate the normalised thalweg location at each measured section and linearly interpolate across the cross sections"
   ]
  },
  {
   "cell_type": "code",
   "execution_count": 236,
   "id": "e9cb267e",
   "metadata": {},
   "outputs": [
    {
     "data": {
      "text/plain": [
       "0  10    POINT Z (1483225.710 5375176.770 -5.153)\n",
       "1  33    POINT Z (1483390.900 5374904.190 -2.173)\n",
       "2  85    POINT Z (1483816.190 5374235.560 -1.933)\n",
       "3  59    POINT Z (1483971.040 5373438.390 -2.553)\n",
       "dtype: geometry"
      ]
     },
     "execution_count": 236,
     "metadata": {},
     "output_type": "execute_result"
    }
   ],
   "source": [
    "# Identify the thalweg location along each measured section\n",
    "sections_exploded = sections.apply(lambda row: shapely.geometry.MultiPoint(row['geometry'].coords), axis=1).explode(index_parts=True)\n",
    "thalweg_indices = sections_exploded.apply(lambda row: row.z).groupby(level=0).idxmin()\n",
    "thalweg_indices\n",
    "thalweg_points = sections_exploded[thalweg_indices]\n",
    "thalweg_points"
   ]
  },
  {
   "cell_type": "code",
   "execution_count": 237,
   "id": "243222fd",
   "metadata": {},
   "outputs": [],
   "source": [
    "# Calculate the normalised thalweg location at each measured section\n",
    "def calculate_normalised_thalweg_location(indices: tuple, sections_exploded):\n",
    "    \"\"\" Tuple of the section index, and the point index along the section\"\"\"\n",
    "    thalweg_point = sections_exploded[indices]\n",
    "    left_bank_distance = thalweg_point.distance(sections_exploded.loc[indices[0]][0])\n",
    "    right_bank_distance = thalweg_point.distance(sections_exploded.loc[indices[0]][len(sections_exploded.loc[indices[0]])-1])\n",
    "    normalised_thalweg_location = left_bank_distance / (left_bank_distance + right_bank_distance)\n",
    "    \n",
    "    return normalised_thalweg_location"
   ]
  },
  {
   "cell_type": "code",
   "execution_count": 238,
   "id": "a0760c1f",
   "metadata": {},
   "outputs": [],
   "source": [
    "# Linearly interpolate the normalised Thalewg location along the cross sections \n",
    "cross_sections['Thalweg ratio'] = numpy.nan\n",
    "cross_sections.loc[thalweg_indices.apply(lambda row: cross_sections['Cross Sections'].distance(thalweg_points[row]).idxmin()), 'Thalweg ratio'] = thalweg_indices.apply(lambda row: calculate_normalised_thalweg_location(row, sections_exploded)).array\n",
    "cross_sections['Thalweg ratio'].interpolate(limit_direction='both', inplace=True)"
   ]
  },
  {
   "cell_type": "markdown",
   "id": "797be974",
   "metadata": {},
   "source": [
    "## Explored two options for spacing points before setting up for interpolation\n",
    "1. Equally spaced\n",
    "2. Equally spaced on both sides of the Thalweg"
   ]
  },
  {
   "cell_type": "code",
   "execution_count": 239,
   "id": "a64b182e",
   "metadata": {},
   "outputs": [],
   "source": [
    "n_nodes = 10"
   ]
  },
  {
   "cell_type": "code",
   "execution_count": 240,
   "id": "311d2578",
   "metadata": {},
   "outputs": [],
   "source": [
    "# Calculate the normalised thalweg location at each measured section\n",
    "def split_line_to_nodes(line, thalweg_ratio, n_nodes = 20):\n",
    "    \"\"\" Split line into n_nodes points half equally spaced on each side of the Thalweg\"\"\"\n",
    "    normalised_node_locations = numpy.concatenate([numpy.arange(0, thalweg_ratio, thalweg_ratio/n_nodes),\n",
    "                                                   numpy.arange(thalweg_ratio, 1 + (1-thalweg_ratio)/n_nodes, (1-thalweg_ratio)/n_nodes)])\n",
    "    return shapely.geometry.MultiPoint(line.interpolate(normalised_node_locations, normalized=True))\n",
    "cross_sections['Cross Sections'] = cross_sections[['Cross Sections', 'Thalweg ratio']].apply(lambda row: split_line_to_nodes(row['Cross Sections'], row['Thalweg ratio'], n_nodes=n_nodes), axis=1)"
   ]
  },
  {
   "cell_type": "code",
   "execution_count": 205,
   "id": "6d83c814",
   "metadata": {},
   "outputs": [],
   "source": [
    "# Insert nodes along each cross section\n",
    "normalised_node_locations = numpy.arange(0, 1 + 1.0/n_nodes, 1.0/n_nodes)\n",
    "cross_sections['Cross Sections'] = cross_sections['Cross Sections'].apply(lambda line: shapely.geometry.MultiPoint(line.interpolate(normalised_node_locations, normalized=True)))"
   ]
  },
  {
   "cell_type": "code",
   "execution_count": 206,
   "id": "541f00af",
   "metadata": {},
   "outputs": [],
   "source": [
    "#cross_sections[['Cross Sections']].set_geometry('Cross Sections', crs=crs).to_file(base_path / \"river_outlines\" / \"small\" / \"cross_section_points.geojson\")"
   ]
  },
  {
   "cell_type": "code",
   "execution_count": 241,
   "id": "11283768",
   "metadata": {},
   "outputs": [],
   "source": [
    "# Explode the cross sections\n",
    "cross_sections_exploded = cross_sections[['Cross Sections']].set_geometry('Cross Sections', crs=crs).explode(index_parts=True)\n",
    "nearest_cross_section_point_indices = sections_exploded.apply(lambda row: row.distance(cross_sections['Cross Sections'].explode(index_parts=True)).idxmin()).unique()"
   ]
  },
  {
   "cell_type": "code",
   "execution_count": 242,
   "id": "33f24b85",
   "metadata": {},
   "outputs": [],
   "source": [
    "# Map the measured values to the nearest cross section and then linearly interpolate\n",
    "cross_sections_exploded['z'] = numpy.nan\n",
    "cross_sections_exploded.loc[nearest_cross_section_point_indices, 'z']  = cross_sections_exploded.loc[nearest_cross_section_point_indices, 'Cross Sections'].apply(lambda point: sections_exploded.loc[point.distance(sections_exploded).idxmin()].z)\n",
    "cross_sections_exploded['z'] = cross_sections_exploded['z'].groupby(level=1, group_keys=False).apply(lambda group: group.interpolate(limit_direction='both'))"
   ]
  },
  {
   "cell_type": "code",
   "execution_count": 168,
   "id": "ee22d748",
   "metadata": {},
   "outputs": [],
   "source": [
    "cross_sections_exploded.to_file(base_path / \"river_outlines\" / \"small\" / \"cross_sections_with_z_equal.geojson\")"
   ]
  },
  {
   "cell_type": "code",
   "execution_count": 66,
   "id": "0cc42b8e",
   "metadata": {},
   "outputs": [
    {
     "data": {
      "text/plain": [
       "<Axes: >"
      ]
     },
     "execution_count": 66,
     "metadata": {},
     "output_type": "execute_result"
    },
    {
     "data": {
      "image/png": "[encoded data removed]",
      "text/plain": [
       "<Figure size 1000x1000 with 1 Axes>"
      ]
     },
     "metadata": {},
     "output_type": "display_data"
    }
   ],
   "source": [
    "import matplotlib.pyplot\n",
    "fig, ax = matplotlib.pyplot.subplots(figsize=(10, 10))\n",
    "sections.plot(ax=ax, alpha=0.7, color=\"b\")\n",
    "thalweg_points.plot(ax=ax, color='r')"
   ]
  },
  {
   "cell_type": "code",
   "execution_count": null,
   "id": "59495918",
   "metadata": {},
   "outputs": [],
   "source": [
    "thalweg_points = sections_exploded[sections_exploded.apply(lambda row: row.z).groupby(level=0).idxmin()]"
   ]
  },
  {
   "cell_type": "markdown",
   "id": "312f59d1",
   "metadata": {},
   "source": [
    "# Complex cross section caluculation\n",
    "* Looked at creating cross sections perpindicular to the centreline.\n",
    "* Issues with the width not being the perpindidicular width\n",
    "* Also started looking at intesecting the perpindicular cross sections to the right/left banks.\n",
    "* Will need to extend the banks to ensure intersections at the start and end"
   ]
  },
  {
   "cell_type": "code",
   "execution_count": null,
   "id": "0de89e8d",
   "metadata": {},
   "outputs": [],
   "source": [
    "# Distance by numpy\n",
    "import time\n",
    "print(\"Compare shapely and numpy time\")\n",
    "start = time.time()\n",
    "print(f\"numpy max distance {numpy.max([numpy.sqrt((pt1.x - pt2.x)**2 + (pt1.y - pt2.y)**2) for (pt1, pt2) in zip(riverbanks['Right'], riverbanks['Left'])])}\")\n",
    "end = time.time()\n",
    "print(f\"time is {end - start}\")\n",
    "# Distance by shapely\n",
    "start = time.time()\n",
    "print(f\"shapely time {numpy.max([pt1.distance(pt2) for (pt1, pt2) in zip(riverbanks['Right'], riverbanks['Left'])])}\")\n",
    "end = time.time()\n",
    "print(end - start)\n",
    "print(\"numpy is slower than shapely\")"
   ]
  },
  {
   "cell_type": "code",
   "execution_count": null,
   "id": "5204919b",
   "metadata": {},
   "outputs": [],
   "source": [
    "def generate_cross_section(width, normal, centre):\n",
    "    \"\"\" Create a line segment out from the centre point that defines the cross section \"\"\"\n",
    "    cross_section = shapely.geometry.LineString( [ [\n",
    "                            centre.x - width / 2 * normal.x,\n",
    "                            centre.y -  width / 2 * normal.y,\n",
    "                        ], [\n",
    "                            centre.x + width / 2 * normal.x,\n",
    "                            centre.y +  width / 2 * normal.y,\n",
    "                        ], ] )\n",
    "    \n",
    "    return cross_section\n",
    "\n",
    "def generate_cross_section_3(width, normal, centre, right, left):\n",
    "    \"\"\" Create a line segment out from the centre point that defines the cross section \"\"\"\n",
    "    cross_section = shapely.geometry.LineString( [ [\n",
    "                            centre.x - width / 2 * normal.x,\n",
    "                            centre.y -  width / 2 * normal.y,\n",
    "                        ], [\n",
    "                            centre.x + width / 2 * normal.x,\n",
    "                            centre.y +  width / 2 * normal.y,\n",
    "                        ], ] )\n",
    "    \n",
    "    #print(cross_section)\n",
    "    #print(right)\n",
    "    #print(left)\n",
    "    print(cross_section.intersection(right))\n",
    "    print(cross_section.intersection(left))\n",
    "    cross_section = shapely.geometry.LineString( [ cross_section.intersection(right), cross_section.intersection(left) ] )\n",
    "    #print(cross_section)\n",
    "    return cross_section\n",
    "\n",
    "def calculate_normal(index, centres):\n",
    "    \"\"\" Calculate the slope along the centre points. try apply and smoothing for the \n",
    "    forward and backward segment and then combine as an average ignoring NaN\"\"\"\n",
    "    if index == 0:\n",
    "        # first segment - slope of next segment\n",
    "        slope_normalised = calculate_segment_slope(centres.iloc[index], centres.iloc[index+1])\n",
    "    elif index == len(centres) - 1:\n",
    "        # last segment - slope of previous segment\n",
    "        slope_normalised = calculate_segment_slope(centres.iloc[index-1], centres.iloc[index])\n",
    "    else:\n",
    "        # slope of the length weighted mean of both segments\n",
    "        slope1_normalised = calculate_segment_slope(centres.iloc[index-1], centres.iloc[index])\n",
    "        slope2_normalised = calculate_segment_slope(centres.iloc[index], centres.iloc[index+1])\n",
    "        slope_normalised = normalise_segment(slope1_normalised, slope2_normalised)\n",
    "    normal_normalised = shapely.geometry.Point([-slope_normalised.y, slope_normalised.x]) \n",
    "\n",
    "    return normal_normalised\n",
    "\n",
    "def calculate_segment_slope(pt1, pt2):\n",
    "    \"\"\" Calculate the slope along the centre points. try apply and smoothing for the \n",
    "    forward and backward segment and then combine as an average ignoring NaN\"\"\"\n",
    "    length = pt1.distance(pt2)\n",
    "    segment_slope_normalised = shapely.geometry.Point([(pt1.x-pt2.x)/length, (pt1.y-pt2.y)/length])\n",
    "    return segment_slope_normalised\n",
    "\n",
    "def normalise_segment(pt1, pt2):\n",
    "    \"\"\" Calculate the slope along the centre points. try apply and smoothing for the \n",
    "    forward and backward segment and then combine as an average ignoring NaN\"\"\"\n",
    "    length = numpy.sqrt((pt1.x + pt2.x) ** 2 + (pt1.y + pt2.y) ** 2)\n",
    "    segment_normalised = shapely.geometry.Point([(pt1.x + pt2.x)/length, (pt1.y + pt2.y)/length])\n",
    "    return segment_normalised"
   ]
  },
  {
   "cell_type": "code",
   "execution_count": null,
   "id": "48769d64",
   "metadata": {},
   "outputs": [],
   "source": [
    "riverbank_lines = geopandas.read_file(base_path / \"river_outlines\" / \"small\" / \"river_banks.geojson\")"
   ]
  },
  {
   "cell_type": "code",
   "execution_count": null,
   "id": "13e87829",
   "metadata": {},
   "outputs": [],
   "source": [
    "max_width = numpy.max([pt1.distance(pt2) for (pt1, pt2) in zip(riverbanks['Right'], riverbanks['Left'])])\n",
    "riverbanks[\"Width\"] = riverbanks.apply(lambda row: row['Left'].distance(row['Right']), axis=1)\n",
    "riverbanks['Normal'] = riverbanks.apply(lambda row: calculate_normal(row.name, riverbanks['Centre']), axis=1)\n",
    "riverbanks['Cross Sections'] = riverbanks.apply(lambda row: generate_cross_section(width=max_width, normal=row['Normal'], centre=row['Centre']), axis=1) #row['Width']"
   ]
  },
  {
   "cell_type": "code",
   "execution_count": null,
   "id": "c61860a1",
   "metadata": {},
   "outputs": [],
   "source": [
    "print(riverbanks['Cross Sections'].loc[0].intersection(riverbank_lines.loc[0].geometry))"
   ]
  },
  {
   "cell_type": "code",
   "execution_count": null,
   "id": "ed70804c",
   "metadata": {},
   "outputs": [],
   "source": [
    "riverbanks.head(3)"
   ]
  },
  {
   "cell_type": "code",
   "execution_count": null,
   "id": "839a02f7",
   "metadata": {},
   "outputs": [],
   "source": [
    "riverbanks.set_geometry('Cross Sections', crs=crs)[['Cross Sections']].to_file(base_path /\"river_outlines\" / \"small\" / \"cross_sections.geojson\")\n",
    "riverbanks.set_geometry('Centre', crs=crs)[['Centre']].to_file(base_path /\"river_outlines\" / \"small\" / \"centre.geojson\")"
   ]
  },
  {
   "cell_type": "code",
   "execution_count": null,
   "id": "1fc5d470",
   "metadata": {},
   "outputs": [],
   "source": [
    "pt1 = riverbanks['centre'].iloc[0]; pt2 = riverbanks['centre'].iloc[1]"
   ]
  },
  {
   "cell_type": "code",
   "execution_count": null,
   "id": "7ab689d4",
   "metadata": {},
   "outputs": [],
   "source": [
    "length = pt1.distance(pt2) # numpy.sqrt((pt1.x - pt2.x) ** 2 + (pt1.y - pt2.y) ** 2)\n",
    "dpt = shapely.affinity.scale((pt1 - pt2), xfact=1.0/length, yfact=1.0/length)"
   ]
  },
  {
   "cell_type": "code",
   "execution_count": null,
   "id": "2695bfd6",
   "metadata": {},
   "outputs": [],
   "source": [
    "print(\"Compare normal time\")\n",
    "start = time.time()\n",
    "riverbanks.apply(lambda row: calculate_normal(row.name, riverbanks['centre']), axis=1)\n",
    "end = time.time()\n",
    "print(f\"time is {end - start}\")"
   ]
  },
  {
   "cell_type": "code",
   "execution_count": null,
   "id": "5a435e38",
   "metadata": {},
   "outputs": [],
   "source": [
    "def _segment_slope(x_array, y_array, index):\n",
    "    \"\"\"Return the slope and length characteristics of a line segment.\n",
    "\n",
    "    Parameters\n",
    "    ----------\n",
    "\n",
    "    x_array\n",
    "        The x values of all polyline nodes.\n",
    "    y_array\n",
    "        The y values of all polyline nodes.\n",
    "    index\n",
    "        The segment index (the index of the starting node in the segment)\n",
    "    \"\"\"\n",
    "    length = numpy.sqrt(\n",
    "        (x_array[index + 1] - x_array[index]) ** 2\n",
    "        + (y_array[index + 1] - y_array[index]) ** 2\n",
    "    )\n",
    "    dx = (x_array[index + 1] - x_array[index]) / length\n",
    "    dy = (y_array[index + 1] - y_array[index]) / length\n",
    "    return dx, dy, length"
   ]
  },
  {
   "cell_type": "code",
   "execution_count": null,
   "id": "570231dd",
   "metadata": {},
   "outputs": [],
   "source": [
    "# Set width of each \n",
    "centrelines = {\"widths\": [], \"cross sections\": []}\n",
    "for (pt1, pt2) in zip(riverbanks.iloc[0].geometry.coords, riverbanks.iloc[1].geometry.coords):\n",
    "    centrelines[\"widths\"].append(numpy.max([numpy.sqrt((pt1[0] - pt2[0])**2 + (pt1[1] - pt2[1])**2)]))\n",
    "    # Calculate perpindiculars ato \n",
    "    centrelines[\"cross sections\"].append(shapely.geometry.LineString([[] for i in range(n+1)]))\n",
    "    "
   ]
  },
  {
   "cell_type": "code",
   "execution_count": null,
   "id": "b4fcaf9e",
   "metadata": {},
   "outputs": [],
   "source": [
    "# Set width of each \n",
    "centrelines = {\"widths\": [], \"cross sections\": []}\n",
    "(x_array, y_array) = riverbanks.iloc[2].geometry.xy\n",
    "for index, (pt1, pt2) in enumerate(zip(riverbanks.iloc[0].geometry.coords, riverbanks.iloc[1].geometry.coords)):\n",
    "    centrelines[\"widths\"].append(numpy.max([numpy.sqrt((pt1[0] - pt2[0])**2 + (pt1[1] - pt2[1])**2)]))\n",
    "    # Calculate perpindiculars ato \n",
    "    #centrelines[\"cross sections\"].append(shapely.geometry.LineString([[] for i in range(n+1)]))\n",
    "    if index == 0:\n",
    "        # first segment - slope of next segment\n",
    "        dx, dy, length = _segment_slope(x_array, y_array, index)\n",
    "    elif index == len(x_array) - 1:\n",
    "        # last segment - slope of previous segment\n",
    "        dx, dy, length = _segment_slope(x_array, y_array, index - 1)\n",
    "    else:\n",
    "        # slope of the length weighted mean of both segments\n",
    "        dx_prev, dy_prev, l_prev = _segment_slope(x_array, y_array, index)\n",
    "        dx_next, dy_next, l_next = _segment_slope(x_array, y_array, index - 1)\n",
    "        dx = (dx_prev * l_prev + dx_next * l_next) / (l_prev + l_next)\n",
    "        dy = (dy_prev * l_prev + dy_next * l_next) / (l_prev + l_next)\n",
    "        length = (l_prev + l_next) / 2\n",
    "    normal_x = -dy\n",
    "    normal_y = dx\n",
    "    cross_sections_dict[\"geometry\"].append(\n",
    "                shapely.geometry.LineString(\n",
    "                    [\n",
    "                        [\n",
    "                            x_array[i] - self.transect_radius * normal_x,\n",
    "                            y_array[i] - self.transect_radius * normal_y,\n",
    "                        ],\n",
    "                        [x_array[i], y_array[i]],\n",
    "                        [\n",
    "                            x_array[i] + self.transect_radius * normal_x,\n",
    "                            y_array[i] + self.transect_radius * normal_y,\n",
    "                        ],\n",
    "                    ]\n",
    "                )\n",
    "            )\n",
    "    centrelines[\"cross sections\"].append(shapely.geometry.LineString([[] for i in range(n+1)]))"
   ]
  },
  {
   "cell_type": "code",
   "execution_count": null,
   "id": "11c1cb91",
   "metadata": {},
   "outputs": [],
   "source": [
    "if i == 0:\n",
    "                # first segment - slope of next segment\n",
    "                dx, dy, length = self._segment_slope(x_array, y_array, i)\n",
    "            elif i == len(x_array) - 1:\n",
    "                # last segment - slope of previous segment\n",
    "                dx, dy, length = self._segment_slope(x_array, y_array, i - 1)\n",
    "            else:\n",
    "                # slope of the length weighted mean of both segments\n",
    "                dx_prev, dy_prev, l_prev = self._segment_slope(x_array, y_array, i)\n",
    "                dx_next, dy_next, l_next = self._segment_slope(x_array, y_array, i - 1)\n",
    "                dx = (dx_prev * l_prev + dx_next * l_next) / (l_prev + l_next)\n",
    "                dy = (dy_prev * l_prev + dy_next * l_next) / (l_prev + l_next)\n",
    "                length = (l_prev + l_next) / 2\n",
    "            normal_x = -dy\n",
    "            normal_y = dx"
   ]
  },
  {
   "cell_type": "code",
   "execution_count": null,
   "id": "a7624202",
   "metadata": {},
   "outputs": [],
   "source": [
    "centrelines[\"widths\"]"
   ]
  },
  {
   "cell_type": "markdown",
   "id": "531149dc",
   "metadata": {},
   "source": [
    "# debug geofabrics"
   ]
  },
  {
   "cell_type": "code",
   "execution_count": null,
   "id": "9bb727b2",
   "metadata": {},
   "outputs": [],
   "source": [
    "cache_path = pathlib.Path(r\"C:\\Local\\data\\catchments\\Westport\\caches\\NZ20_Westport\")\n",
    "folder = \"paper\"\n",
    "channel = geopandas.read_file(cache_path / folder / \"wide_river\" / \"network_river_centreline_6308000000_smoothed.geojson\")"
   ]
  },
  {
   "cell_type": "code",
   "execution_count": null,
   "id": "98c1883e",
   "metadata": {},
   "outputs": [],
   "source": [
    "channel2 = geopandas.read_file(cache_path / folder / \"wide_river\" / \"aligned_river_centreline_6308000000.geojson\")"
   ]
  },
  {
   "cell_type": "code",
   "execution_count": null,
   "id": "0ce4935b",
   "metadata": {},
   "outputs": [],
   "source": [
    "geopandas.read_file(r\"C:\\Local\\repos\\GeoFabrics\\tests\\test_river_bathymetry_osm_wellington\\data\\"
   ]
  },
  {
   "cell_type": "code",
   "execution_count": null,
   "id": "fd8bf41f",
   "metadata": {},
   "outputs": [],
   "source": [
    "n=geopandas.read_file(r\"C:\\Local\\repos\\GeoFabrics\\tests\\test_river_bathymetry_osm_wellington\\data\\rec1_flow_and_friction.geojson\").to_crs(crs)"
   ]
  },
  {
   "cell_type": "code",
   "execution_count": null,
   "id": "4d0c73cc",
   "metadata": {},
   "outputs": [],
   "source": [
    "crs"
   ]
  },
  {
   "cell_type": "code",
   "execution_count": null,
   "id": "1588eb7e",
   "metadata": {},
   "outputs": [],
   "source": [
    "n"
   ]
  },
  {
   "cell_type": "code",
   "execution_count": null,
   "id": "8db398bb",
   "metadata": {},
   "outputs": [],
   "source": [
    "channel.rotate(45).plot()"
   ]
  },
  {
   "cell_type": "code",
   "execution_count": null,
   "id": "03687e35",
   "metadata": {},
   "outputs": [],
   "source": [
    "channel.rotate(45).boundary.plot()"
   ]
  },
  {
   "cell_type": "code",
   "execution_count": null,
   "id": "82811c3b",
   "metadata": {},
   "outputs": [],
   "source": []
  }
 ],
 "metadata": {
  "kernelspec": {
   "display_name": "Python [conda env:geofabrics]",
   "language": "python",
   "name": "conda-env-geofabrics-py"
  },
  "language_info": {
   "codemirror_mode": {
    "name": "ipython",
    "version": 3
   },
   "file_extension": ".py",
   "mimetype": "text/x-python",
   "name": "python",
   "nbconvert_exporter": "python",
   "pygments_lexer": "ipython3",
   "version": "3.11.3"
  }
 },
 "nbformat": 4,
 "nbformat_minor": 5
}
