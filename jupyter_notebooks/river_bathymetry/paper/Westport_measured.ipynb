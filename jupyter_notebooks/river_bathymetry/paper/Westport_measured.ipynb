{
 "cells": [
  {
   "cell_type": "code",
   "execution_count": 1,
   "id": "bb319d0c",
   "metadata": {},
   "outputs": [
    {
     "data": {
      "text/html": [
       "<style>.container { width:100% !important; }</style>"
      ],
      "text/plain": [
       "<IPython.core.display.HTML object>"
      ]
     },
     "metadata": {},
     "output_type": "display_data"
    }
   ],
   "source": [
    "import geopandas\n",
    "import pandas\n",
    "import pathlib\n",
    "import shapely\n",
    "import numpy\n",
    "from IPython.display import display, HTML\n",
    "\n",
    "display(HTML(\"<style>.container { width:100% !important; }</style>\"))"
   ]
  },
  {
   "cell_type": "code",
   "execution_count": 2,
   "id": "dafd04e3",
   "metadata": {},
   "outputs": [],
   "source": [
    "base_path = pathlib.Path(r\"C:\\Local\\data\\river_bathemetry\\sections\\Westport\")"
   ]
  },
  {
   "cell_type": "raw",
   "id": "0906dfa7",
   "metadata": {},
   "source": [
    "sections = geopandas.read_file(base_path / \"3738_Buller_River_October_2021\" / \"3738_Buller_River_October_2021_NZVD2016.geojson\")\n",
    "outline = geopandas.read_file(base_path / \"river_outlines\" / \"small\" / \"river_outline.geojson\")"
   ]
  },
  {
   "cell_type": "markdown",
   "id": "6b3e4d3a",
   "metadata": {},
   "source": [
    "# Split out different sections depending on the test dataset\n",
    "### Small\n",
    "Includes sections Section7, Section8, Section9, Section10"
   ]
  },
  {
   "cell_type": "raw",
   "id": "b4a68dbc",
   "metadata": {},
   "source": [
    "list_of_names = [\"Section7\", \"Section8\", \"Section9\", \"Section10\"]\n",
    "crs = sections.crs\n",
    "sections = sections.query('Name in @list_of_names')\n",
    "sections = sections.groupby(['Name'])['geometry'].apply(lambda x: shapely.geometry.LineString(x.tolist())).set_crs(crs)\n",
    "sections.to_file(base_path / \"river_outlines\" / \"small\" / \"measured_sections.geojson\")"
   ]
  },
  {
   "cell_type": "code",
   "execution_count": 3,
   "id": "547971d6",
   "metadata": {},
   "outputs": [],
   "source": [
    "sections = geopandas.read_file(base_path / \"river_outlines\" / \"small\" / \"measured_sections.geojson\")\n",
    "riverbanks = geopandas.read_file(base_path / \"river_outlines\" / \"small\" / \"river_banks.geojson\")"
   ]
  },
  {
   "cell_type": "code",
   "execution_count": 4,
   "id": "d24b2e29",
   "metadata": {},
   "outputs": [
    {
     "data": {
      "text/html": [
       "<div>\n",
       "<style scoped>\n",
       "    .dataframe tbody tr th:only-of-type {\n",
       "        vertical-align: middle;\n",
       "    }\n",
       "\n",
       "    .dataframe tbody tr th {\n",
       "        vertical-align: top;\n",
       "    }\n",
       "\n",
       "    .dataframe thead th {\n",
       "        text-align: right;\n",
       "    }\n",
       "</style>\n",
       "<table border=\"1\" class=\"dataframe\">\n",
       "  <thead>\n",
       "    <tr style=\"text-align: right;\">\n",
       "      <th></th>\n",
       "      <th>Name</th>\n",
       "      <th>geometry</th>\n",
       "    </tr>\n",
       "  </thead>\n",
       "  <tbody>\n",
       "    <tr>\n",
       "      <th>0</th>\n",
       "      <td>Right</td>\n",
       "      <td>LINESTRING (1483413.197 5375259.983, 1483663.4...</td>\n",
       "    </tr>\n",
       "    <tr>\n",
       "      <th>1</th>\n",
       "      <td>Left</td>\n",
       "      <td>LINESTRING (1483187.524 5375194.332, 1483229.3...</td>\n",
       "    </tr>\n",
       "  </tbody>\n",
       "</table>\n",
       "</div>"
      ],
      "text/plain": [
       "    Name                                           geometry\n",
       "0  Right  LINESTRING (1483413.197 5375259.983, 1483663.4...\n",
       "1   Left  LINESTRING (1483187.524 5375194.332, 1483229.3..."
      ]
     },
     "execution_count": 4,
     "metadata": {},
     "output_type": "execute_result"
    }
   ],
   "source": [
    "riverbanks"
   ]
  },
  {
   "cell_type": "markdown",
   "id": "9b1ec5df",
   "metadata": {},
   "source": [
    "# Explore Interpolation between sections\n",
    "1. Create a centreline from the polygon\n",
    "2. Create cross sections along the centreline\n",
    "3. Estimate the Thalweg from the measued sections\n",
    "4. Interpolate along points sampled along the lines"
   ]
  },
  {
   "cell_type": "markdown",
   "id": "8ec7777c",
   "metadata": {},
   "source": [
    "### 1. Create Centreline from briverbanks file\n",
    "* Resample to the same number of nodes\n",
    "* Explode into a row for each node\n",
    "* Create a centreline (again same number of points)"
   ]
  },
  {
   "cell_type": "code",
   "execution_count": 5,
   "id": "db728414",
   "metadata": {},
   "outputs": [],
   "source": [
    "# resample to the same number of points\n",
    "n = 100\n",
    "for row in range(len(riverbanks)):\n",
    "    riverbanks.loc[row, 'geometry'] = shapely.geometry.LineString([riverbanks.iloc[row].geometry.interpolate(float(i)/n, normalized=True) for i in range(n + 1)])"
   ]
  },
  {
   "cell_type": "code",
   "execution_count": 6,
   "id": "513ace7e",
   "metadata": {},
   "outputs": [],
   "source": [
    "#riverbanks['Points'] = riverbanks.apply(lambda row: row['geometry'].coords, axis=1)\n",
    "riverbanks['points'] = riverbanks.apply(lambda row: shapely.geometry.MultiPoint([pt for pt in row['geometry'].coords]), axis=1)\n",
    "riverbanks = riverbanks.set_geometry('points', drop=True).explode(index_parts=True)\n",
    "riverbanks = pandas.concat([riverbanks[riverbanks['Name']=='Right'].droplevel(0).geometry.rename('Right'), \n",
    "                            riverbanks[riverbanks['Name']=='Left'].droplevel(0).geometry.rename('Left')], axis = 1)\n",
    "riverbanks['centre'] = riverbanks.apply(lambda row: shapely.geometry.MultiPoint([row['Right'], row['Left']]).centroid , axis=1)"
   ]
  },
  {
   "cell_type": "code",
   "execution_count": 7,
   "id": "ed70804c",
   "metadata": {},
   "outputs": [
    {
     "data": {
      "text/html": [
       "<div>\n",
       "<style scoped>\n",
       "    .dataframe tbody tr th:only-of-type {\n",
       "        vertical-align: middle;\n",
       "    }\n",
       "\n",
       "    .dataframe tbody tr th {\n",
       "        vertical-align: top;\n",
       "    }\n",
       "\n",
       "    .dataframe thead th {\n",
       "        text-align: right;\n",
       "    }\n",
       "</style>\n",
       "<table border=\"1\" class=\"dataframe\">\n",
       "  <thead>\n",
       "    <tr style=\"text-align: right;\">\n",
       "      <th></th>\n",
       "      <th>Right</th>\n",
       "      <th>Left</th>\n",
       "      <th>centre</th>\n",
       "    </tr>\n",
       "  </thead>\n",
       "  <tbody>\n",
       "    <tr>\n",
       "      <th>0</th>\n",
       "      <td>POINT (1483413.197 5375259.983)</td>\n",
       "      <td>POINT (1483187.524 5375194.332)</td>\n",
       "      <td>POINT (1483300.361 5375227.157)</td>\n",
       "    </tr>\n",
       "    <tr>\n",
       "      <th>1</th>\n",
       "      <td>POINT (1483420.667 5375241.345)</td>\n",
       "      <td>POINT (1483194.241 5375175.629)</td>\n",
       "      <td>POINT (1483307.454 5375208.487)</td>\n",
       "    </tr>\n",
       "    <tr>\n",
       "      <th>2</th>\n",
       "      <td>POINT (1483428.137 5375222.708)</td>\n",
       "      <td>POINT (1483200.958 5375156.926)</td>\n",
       "      <td>POINT (1483314.547 5375189.817)</td>\n",
       "    </tr>\n",
       "    <tr>\n",
       "      <th>3</th>\n",
       "      <td>POINT (1483435.606 5375204.070)</td>\n",
       "      <td>POINT (1483207.676 5375138.223)</td>\n",
       "      <td>POINT (1483321.641 5375171.147)</td>\n",
       "    </tr>\n",
       "    <tr>\n",
       "      <th>4</th>\n",
       "      <td>POINT (1483443.076 5375185.433)</td>\n",
       "      <td>POINT (1483214.393 5375119.520)</td>\n",
       "      <td>POINT (1483328.734 5375152.477)</td>\n",
       "    </tr>\n",
       "    <tr>\n",
       "      <th>...</th>\n",
       "      <td>...</td>\n",
       "      <td>...</td>\n",
       "      <td>...</td>\n",
       "    </tr>\n",
       "    <tr>\n",
       "      <th>96</th>\n",
       "      <td>POINT (1483987.870 5373443.502)</td>\n",
       "      <td>POINT (1483792.970 5373413.434)</td>\n",
       "      <td>POINT (1483890.420 5373428.468)</td>\n",
       "    </tr>\n",
       "    <tr>\n",
       "      <th>97</th>\n",
       "      <td>POINT (1483989.658 5373423.503)</td>\n",
       "      <td>POINT (1483793.425 5373393.566)</td>\n",
       "      <td>POINT (1483891.542 5373408.535)</td>\n",
       "    </tr>\n",
       "    <tr>\n",
       "      <th>98</th>\n",
       "      <td>POINT (1483991.447 5373403.504)</td>\n",
       "      <td>POINT (1483793.880 5373373.699)</td>\n",
       "      <td>POINT (1483892.663 5373388.602)</td>\n",
       "    </tr>\n",
       "    <tr>\n",
       "      <th>99</th>\n",
       "      <td>POINT (1483993.235 5373383.506)</td>\n",
       "      <td>POINT (1483794.335 5373353.832)</td>\n",
       "      <td>POINT (1483893.785 5373368.669)</td>\n",
       "    </tr>\n",
       "    <tr>\n",
       "      <th>100</th>\n",
       "      <td>POINT (1483995.024 5373363.507)</td>\n",
       "      <td>POINT (1483794.790 5373333.964)</td>\n",
       "      <td>POINT (1483894.907 5373348.735)</td>\n",
       "    </tr>\n",
       "  </tbody>\n",
       "</table>\n",
       "<p>101 rows × 3 columns</p>\n",
       "</div>"
      ],
      "text/plain": [
       "                               Right                             Left  \\\n",
       "0    POINT (1483413.197 5375259.983)  POINT (1483187.524 5375194.332)   \n",
       "1    POINT (1483420.667 5375241.345)  POINT (1483194.241 5375175.629)   \n",
       "2    POINT (1483428.137 5375222.708)  POINT (1483200.958 5375156.926)   \n",
       "3    POINT (1483435.606 5375204.070)  POINT (1483207.676 5375138.223)   \n",
       "4    POINT (1483443.076 5375185.433)  POINT (1483214.393 5375119.520)   \n",
       "..                               ...                              ...   \n",
       "96   POINT (1483987.870 5373443.502)  POINT (1483792.970 5373413.434)   \n",
       "97   POINT (1483989.658 5373423.503)  POINT (1483793.425 5373393.566)   \n",
       "98   POINT (1483991.447 5373403.504)  POINT (1483793.880 5373373.699)   \n",
       "99   POINT (1483993.235 5373383.506)  POINT (1483794.335 5373353.832)   \n",
       "100  POINT (1483995.024 5373363.507)  POINT (1483794.790 5373333.964)   \n",
       "\n",
       "                              centre  \n",
       "0    POINT (1483300.361 5375227.157)  \n",
       "1    POINT (1483307.454 5375208.487)  \n",
       "2    POINT (1483314.547 5375189.817)  \n",
       "3    POINT (1483321.641 5375171.147)  \n",
       "4    POINT (1483328.734 5375152.477)  \n",
       "..                               ...  \n",
       "96   POINT (1483890.420 5373428.468)  \n",
       "97   POINT (1483891.542 5373408.535)  \n",
       "98   POINT (1483892.663 5373388.602)  \n",
       "99   POINT (1483893.785 5373368.669)  \n",
       "100  POINT (1483894.907 5373348.735)  \n",
       "\n",
       "[101 rows x 3 columns]"
      ]
     },
     "execution_count": 7,
     "metadata": {},
     "output_type": "execute_result"
    }
   ],
   "source": [
    "riverbanks"
   ]
  },
  {
   "cell_type": "markdown",
   "id": "da7734e4",
   "metadata": {},
   "source": [
    "### 2. Create cross sections along the centreline\n",
    "* Calculate width\n",
    "* Calculate the normal at each centreline point\n",
    "* Create cross sections to width"
   ]
  },
  {
   "cell_type": "code",
   "execution_count": 17,
   "id": "c965d192",
   "metadata": {},
   "outputs": [
    {
     "data": {
      "text/plain": [
       "1483413.1971816276"
      ]
     },
     "execution_count": 17,
     "metadata": {},
     "output_type": "execute_result"
    }
   ],
   "source": [
    "riverbanks['Right'].iloc[0].x"
   ]
  },
  {
   "cell_type": "code",
   "execution_count": 23,
   "id": "0de89e8d",
   "metadata": {},
   "outputs": [
    {
     "name": "stdout",
     "output_type": "stream",
     "text": [
      "Compare shapely and numpy time\n",
      "numpy max distance 308.73408146871725\n",
      "time is 0.007758378982543945\n",
      "shapely time 308.73408146871725\n",
      "0.0025522708892822266\n",
      "numpy is slower than shapely\n"
     ]
    }
   ],
   "source": [
    "# Distance by numpy\n",
    "import time\n",
    "print(\"Compare shapely and numpy time\")\n",
    "start = time.time()\n",
    "print(f\"numpy max distance {numpy.max([numpy.sqrt((pt1.x - pt2.x)**2 + (pt1.y - pt2.y)**2) for (pt1, pt2) in zip(riverbanks['Right'], riverbanks['Left'])])}\")\n",
    "end = time.time()\n",
    "print(f\"time is {end - start}\")\n",
    "# Distance by shapely\n",
    "start = time.time()\n",
    "print(f\"shapely time {numpy.max([pt1.distance(pt2) for (pt1, pt2) in zip(riverbanks['Right'], riverbanks['Left'])])}\")\n",
    "end = time.time()\n",
    "print(end - start)\n",
    "print(\"numpy is slower than shapely\")"
   ]
  },
  {
   "cell_type": "code",
   "execution_count": 25,
   "id": "13e87829",
   "metadata": {},
   "outputs": [],
   "source": [
    "riverbanks[\"width\"] = riverbanks.apply(lambda row: row['Left'].distance(row['Right']), axis=1)"
   ]
  },
  {
   "cell_type": "code",
   "execution_count": null,
   "id": "5204919b",
   "metadata": {},
   "outputs": [],
   "source": [
    "def generate_cross_section(width, slope, centre):\n",
    "    \"\"\" Create a line segment out from the centre point that defines the cross section \"\"\"\n",
    "    return\n",
    "def calculate_slope():\n",
    "    \"\"\" Calculate the slope along the centre points. try apply and smoothing for the \n",
    "    forward and backward segment and then combine as an average ignoring NaN\"\"\"\n",
    "    return"
   ]
  },
  {
   "cell_type": "code",
   "execution_count": null,
   "id": "5a435e38",
   "metadata": {},
   "outputs": [],
   "source": [
    "def _segment_slope(x_array, y_array, index):\n",
    "    \"\"\"Return the slope and length characteristics of a line segment.\n",
    "\n",
    "    Parameters\n",
    "    ----------\n",
    "\n",
    "    x_array\n",
    "        The x values of all polyline nodes.\n",
    "    y_array\n",
    "        The y values of all polyline nodes.\n",
    "    index\n",
    "        The segment index (the index of the starting node in the segment)\n",
    "    \"\"\"\n",
    "    length = numpy.sqrt(\n",
    "        (x_array[index + 1] - x_array[index]) ** 2\n",
    "        + (y_array[index + 1] - y_array[index]) ** 2\n",
    "    )\n",
    "    dx = (x_array[index + 1] - x_array[index]) / length\n",
    "    dy = (y_array[index + 1] - y_array[index]) / length\n",
    "    return dx, dy, length"
   ]
  },
  {
   "cell_type": "code",
   "execution_count": null,
   "id": "570231dd",
   "metadata": {},
   "outputs": [],
   "source": [
    "# Set width of each \n",
    "centrelines = {\"widths\": [], \"cross sections\": []}\n",
    "for (pt1, pt2) in zip(riverbanks.iloc[0].geometry.coords, riverbanks.iloc[1].geometry.coords):\n",
    "    centrelines[\"widths\"].append(numpy.max([numpy.sqrt((pt1[0] - pt2[0])**2 + (pt1[1] - pt2[1])**2)]))\n",
    "    # Calculate perpindiculars ato \n",
    "    centrelines[\"cross sections\"].append(shapely.geometry.LineString([[] for i in range(n+1)]))\n",
    "    "
   ]
  },
  {
   "cell_type": "code",
   "execution_count": null,
   "id": "b4fcaf9e",
   "metadata": {},
   "outputs": [],
   "source": [
    "# Set width of each \n",
    "centrelines = {\"widths\": [], \"cross sections\": []}\n",
    "(x_array, y_array) = riverbanks.iloc[2].geometry.xy\n",
    "for index, (pt1, pt2) in enumerate(zip(riverbanks.iloc[0].geometry.coords, riverbanks.iloc[1].geometry.coords)):\n",
    "    centrelines[\"widths\"].append(numpy.max([numpy.sqrt((pt1[0] - pt2[0])**2 + (pt1[1] - pt2[1])**2)]))\n",
    "    # Calculate perpindiculars ato \n",
    "    #centrelines[\"cross sections\"].append(shapely.geometry.LineString([[] for i in range(n+1)]))\n",
    "    if index == 0:\n",
    "        # first segment - slope of next segment\n",
    "        dx, dy, length = _segment_slope(x_array, y_array, index)\n",
    "    elif index == len(x_array) - 1:\n",
    "        # last segment - slope of previous segment\n",
    "        dx, dy, length = _segment_slope(x_array, y_array, index - 1)\n",
    "    else:\n",
    "        # slope of the length weighted mean of both segments\n",
    "        dx_prev, dy_prev, l_prev = _segment_slope(x_array, y_array, index)\n",
    "        dx_next, dy_next, l_next = _segment_slope(x_array, y_array, index - 1)\n",
    "        dx = (dx_prev * l_prev + dx_next * l_next) / (l_prev + l_next)\n",
    "        dy = (dy_prev * l_prev + dy_next * l_next) / (l_prev + l_next)\n",
    "        length = (l_prev + l_next) / 2\n",
    "    normal_x = -dy\n",
    "    normal_y = dx\n",
    "    cross_sections_dict[\"geometry\"].append(\n",
    "                shapely.geometry.LineString(\n",
    "                    [\n",
    "                        [\n",
    "                            x_array[i] - self.transect_radius * normal_x,\n",
    "                            y_array[i] - self.transect_radius * normal_y,\n",
    "                        ],\n",
    "                        [x_array[i], y_array[i]],\n",
    "                        [\n",
    "                            x_array[i] + self.transect_radius * normal_x,\n",
    "                            y_array[i] + self.transect_radius * normal_y,\n",
    "                        ],\n",
    "                    ]\n",
    "                )\n",
    "            )\n",
    "    centrelines[\"cross sections\"].append(shapely.geometry.LineString([[] for i in range(n+1)]))"
   ]
  },
  {
   "cell_type": "code",
   "execution_count": null,
   "id": "11c1cb91",
   "metadata": {},
   "outputs": [],
   "source": [
    "if i == 0:\n",
    "                # first segment - slope of next segment\n",
    "                dx, dy, length = self._segment_slope(x_array, y_array, i)\n",
    "            elif i == len(x_array) - 1:\n",
    "                # last segment - slope of previous segment\n",
    "                dx, dy, length = self._segment_slope(x_array, y_array, i - 1)\n",
    "            else:\n",
    "                # slope of the length weighted mean of both segments\n",
    "                dx_prev, dy_prev, l_prev = self._segment_slope(x_array, y_array, i)\n",
    "                dx_next, dy_next, l_next = self._segment_slope(x_array, y_array, i - 1)\n",
    "                dx = (dx_prev * l_prev + dx_next * l_next) / (l_prev + l_next)\n",
    "                dy = (dy_prev * l_prev + dy_next * l_next) / (l_prev + l_next)\n",
    "                length = (l_prev + l_next) / 2\n",
    "            normal_x = -dy\n",
    "            normal_y = dx"
   ]
  },
  {
   "cell_type": "code",
   "execution_count": null,
   "id": "a7624202",
   "metadata": {},
   "outputs": [],
   "source": [
    "centrelines[\"widths\"]"
   ]
  },
  {
   "cell_type": "markdown",
   "id": "531149dc",
   "metadata": {},
   "source": [
    "# debug geofabrics"
   ]
  },
  {
   "cell_type": "code",
   "execution_count": null,
   "id": "9bb727b2",
   "metadata": {},
   "outputs": [],
   "source": [
    "cache_path = pathlib.Path(r\"C:\\Local\\data\\catchments\\Westport\\caches\\NZ20_Westport\")\n",
    "folder = \"paper\"\n",
    "channel = geopandas.read_file(cache_path / folder / \"wide_river\" / \"network_river_centreline_6308000000_smoothed.geojson\")"
   ]
  },
  {
   "cell_type": "code",
   "execution_count": null,
   "id": "98c1883e",
   "metadata": {},
   "outputs": [],
   "source": [
    "channel2 = geopandas.read_file(cache_path / folder / \"wide_river\" / \"aligned_river_centreline_6308000000.geojson\")"
   ]
  },
  {
   "cell_type": "code",
   "execution_count": null,
   "id": "0ce4935b",
   "metadata": {},
   "outputs": [],
   "source": [
    "geopandas.read_file(r\"C:\\Local\\repos\\GeoFabrics\\tests\\test_river_bathymetry_osm_wellington\\data\\"
   ]
  },
  {
   "cell_type": "code",
   "execution_count": null,
   "id": "fd8bf41f",
   "metadata": {},
   "outputs": [],
   "source": [
    "n=geopandas.read_file(r\"C:\\Local\\repos\\GeoFabrics\\tests\\test_river_bathymetry_osm_wellington\\data\\rec1_flow_and_friction.geojson\").to_crs(crs)"
   ]
  },
  {
   "cell_type": "code",
   "execution_count": null,
   "id": "4d0c73cc",
   "metadata": {},
   "outputs": [],
   "source": [
    "crs"
   ]
  },
  {
   "cell_type": "code",
   "execution_count": null,
   "id": "1588eb7e",
   "metadata": {},
   "outputs": [],
   "source": [
    "n"
   ]
  },
  {
   "cell_type": "code",
   "execution_count": null,
   "id": "8db398bb",
   "metadata": {},
   "outputs": [],
   "source": [
    "channel.rotate(45).plot()"
   ]
  },
  {
   "cell_type": "code",
   "execution_count": null,
   "id": "03687e35",
   "metadata": {},
   "outputs": [],
   "source": [
    "channel.rotate(45).boundary.plot()"
   ]
  },
  {
   "cell_type": "code",
   "execution_count": null,
   "id": "82811c3b",
   "metadata": {},
   "outputs": [],
   "source": []
  }
 ],
 "metadata": {
  "kernelspec": {
   "display_name": "Python [conda env:raster]",
   "language": "python",
   "name": "conda-env-raster-py"
  },
  "language_info": {
   "codemirror_mode": {
    "name": "ipython",
    "version": 3
   },
   "file_extension": ".py",
   "mimetype": "text/x-python",
   "name": "python",
   "nbconvert_exporter": "python",
   "pygments_lexer": "ipython3",
   "version": "3.11.1"
  }
 },
 "nbformat": 4,
 "nbformat_minor": 5
}
