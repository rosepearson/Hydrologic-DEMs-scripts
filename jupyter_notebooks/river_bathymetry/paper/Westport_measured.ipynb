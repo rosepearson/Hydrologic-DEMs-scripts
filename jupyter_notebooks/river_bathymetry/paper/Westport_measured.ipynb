{
 "cells": [
  {
   "cell_type": "code",
   "execution_count": 135,
   "id": "01ba01e3",
   "metadata": {},
   "outputs": [
    {
     "data": {
      "text/html": [
       "<style>.container { width:100% !important; }</style>"
      ],
      "text/plain": [
       "<IPython.core.display.HTML object>"
      ]
     },
     "metadata": {},
     "output_type": "display_data"
    }
   ],
   "source": [
    "import geopandas\n",
    "import pathlib\n",
    "import shapely\n",
    "import numpy\n",
    "from IPython.display import display, HTML\n",
    "\n",
    "display(HTML(\"<style>.container { width:100% !important; }</style>\"))"
   ]
  },
  {
   "cell_type": "code",
   "execution_count": 87,
   "id": "6bafa552",
   "metadata": {},
   "outputs": [],
   "source": [
    "base_path = pathlib.Path(r\"C:\\Local\\data\\river_bathemetry\\sections\\Westport\")"
   ]
  },
  {
   "cell_type": "raw",
   "id": "eace9986",
   "metadata": {},
   "source": [
    "sections = geopandas.read_file(base_path / \"3738_Buller_River_October_2021\" / \"3738_Buller_River_October_2021_NZVD2016.geojson\")\n",
    "outline = geopandas.read_file(base_path / \"river_outlines\" / \"small\" / \"river_outline.geojson\")"
   ]
  },
  {
   "cell_type": "markdown",
   "id": "f7076b14",
   "metadata": {},
   "source": [
    "# Split out different sections depending on the test dataset\n",
    "### Small\n",
    "Includes sections Section7, Section8, Section9, Section10"
   ]
  },
  {
   "cell_type": "raw",
   "id": "5128330d",
   "metadata": {},
   "source": [
    "list_of_names = [\"Section7\", \"Section8\", \"Section9\", \"Section10\"]\n",
    "crs = sections.crs\n",
    "sections = sections.query('Name in @list_of_names')\n",
    "sections = sections.groupby(['Name'])['geometry'].apply(lambda x: shapely.geometry.LineString(x.tolist())).set_crs(crs)\n",
    "sections.to_file(base_path / \"river_outlines\" / \"small\" / \"measured_sections.geojson\")"
   ]
  },
  {
   "cell_type": "code",
   "execution_count": 88,
   "id": "63f7ce74",
   "metadata": {},
   "outputs": [],
   "source": [
    "sections = geopandas.read_file(base_path / \"river_outlines\" / \"small\" / \"measured_sections.geojson\")\n",
    "riverbanks = geopandas.read_file(base_path / \"river_outlines\" / \"small\" / \"river_banks.geojson\")"
   ]
  },
  {
   "cell_type": "code",
   "execution_count": 177,
   "id": "f0442e11",
   "metadata": {},
   "outputs": [
    {
     "data": {
      "text/html": [
       "<div>\n",
       "<style scoped>\n",
       "    .dataframe tbody tr th:only-of-type {\n",
       "        vertical-align: middle;\n",
       "    }\n",
       "\n",
       "    .dataframe tbody tr th {\n",
       "        vertical-align: top;\n",
       "    }\n",
       "\n",
       "    .dataframe thead th {\n",
       "        text-align: right;\n",
       "    }\n",
       "</style>\n",
       "<table border=\"1\" class=\"dataframe\">\n",
       "  <thead>\n",
       "    <tr style=\"text-align: right;\">\n",
       "      <th></th>\n",
       "      <th>Name</th>\n",
       "      <th>geometry</th>\n",
       "    </tr>\n",
       "  </thead>\n",
       "  <tbody>\n",
       "    <tr>\n",
       "      <th>0</th>\n",
       "      <td>Right</td>\n",
       "      <td>LINESTRING (1483413.197 5375259.983, 1483420.6...</td>\n",
       "    </tr>\n",
       "    <tr>\n",
       "      <th>1</th>\n",
       "      <td>Left</td>\n",
       "      <td>LINESTRING (1483187.524 5375194.332, 1483194.2...</td>\n",
       "    </tr>\n",
       "  </tbody>\n",
       "</table>\n",
       "</div>"
      ],
      "text/plain": [
       "    Name                                           geometry\n",
       "0  Right  LINESTRING (1483413.197 5375259.983, 1483420.6...\n",
       "1   Left  LINESTRING (1483187.524 5375194.332, 1483194.2..."
      ]
     },
     "execution_count": 177,
     "metadata": {},
     "output_type": "execute_result"
    }
   ],
   "source": [
    "riverbanks"
   ]
  },
  {
   "cell_type": "markdown",
   "id": "1fd3928b",
   "metadata": {},
   "source": [
    "# Explore Interpolation between sections\n",
    "1. Create a centreline from the polygon\n",
    "2. Create cross sections along the centreline\n",
    "3. Estimate the Thalweg from the measued sections\n",
    "4. Interpolate along points sampled along the lines"
   ]
  },
  {
   "cell_type": "markdown",
   "id": "1544d503",
   "metadata": {},
   "source": [
    "### 1. Create Centreline from briverbanks file"
   ]
  },
  {
   "cell_type": "code",
   "execution_count": 158,
   "id": "d95557b9",
   "metadata": {},
   "outputs": [],
   "source": [
    "# resample to the same number of points\n",
    "n = 100\n",
    "for row in range(len(riverbanks)):\n",
    "    riverbanks.loc[row, 'geometry'] = shapely.geometry.LineString([riverbanks.iloc[row].geometry.interpolate(float(i)/n, normalized=True) for i in range(n + 1)])"
   ]
  },
  {
   "cell_type": "code",
   "execution_count": 178,
   "id": "d78a2822",
   "metadata": {},
   "outputs": [],
   "source": [
    "# produce a centreline\n",
    "riverbanks.loc[2] = (\"Centre\", shapely.geometry.LineString([shapely.geometry.MultiPoint([pt1, pt2]).centroid for (pt1, pt2) in zip(riverbanks.iloc[0].geometry.coords, riverbanks.iloc[1].geometry.coords)])) "
   ]
  },
  {
   "cell_type": "code",
   "execution_count": 181,
   "id": "6f397760",
   "metadata": {},
   "outputs": [],
   "source": [
    "#riverbanks.plot()"
   ]
  },
  {
   "cell_type": "markdown",
   "id": "ffb7e8fa",
   "metadata": {},
   "source": [
    "### 2. Create cross sections along the centreline"
   ]
  },
  {
   "cell_type": "code",
   "execution_count": 204,
   "id": "acedc58d",
   "metadata": {},
   "outputs": [
    {
     "name": "stdout",
     "output_type": "stream",
     "text": [
      "Compare shapely and numpy time\n",
      "numpy time 308.73408146871725\n",
      "0.002183198928833008\n",
      "shapely time 308.73408146871725\n",
      "0.0056188106536865234\n",
      "shapely is slower than numpy\n"
     ]
    }
   ],
   "source": [
    "# Distance by numpy\n",
    "import time\n",
    "print(\"Compare shapely and numpy time\")\n",
    "start = time.time()\n",
    "print(f\"numpy time {numpy.max([numpy.sqrt((pt1[0] - pt2[0])**2 + (pt1[1] - pt2[1])**2) for (pt1, pt2) in zip(riverbanks.iloc[0].geometry.coords, riverbanks.iloc[1].geometry.coords)])}\")\n",
    "end = time.time()\n",
    "print(end - start)\n",
    "# Distance by shapely\n",
    "start = time.time()\n",
    "print(f\"shapely time {numpy.max([shapely.geometry.Point(pt1).distance(shapely.geometry.Point(pt2)) for (pt1, pt2) in zip(riverbanks.iloc[0].geometry.coords, riverbanks.iloc[1].geometry.coords)])}\")\n",
    "end = time.time()\n",
    "print(end - start)\n",
    "print(\"shapely is slower than numpy\")"
   ]
  },
  {
   "cell_type": "code",
   "execution_count": 205,
   "id": "b60ae72e",
   "metadata": {},
   "outputs": [],
   "source": [
    "# Distance - for length of cross sections\n",
    "distance = numpy.max([numpy.sqrt((pt1[0] - pt2[0])**2 + (pt1[1] - pt2[1])**2) for (pt1, pt2) in zip(riverbanks.iloc[0].geometry.coords, riverbanks.iloc[1].geometry.coords)])"
   ]
  },
  {
   "cell_type": "code",
   "execution_count": null,
   "id": "9dbf1f6c",
   "metadata": {},
   "outputs": [],
   "source": [
    "shapely.geometry.Point([(pt1[0]+pt2[0])/2,(pt1[1]+pt2[1])/2])"
   ]
  },
  {
   "cell_type": "code",
   "execution_count": null,
   "id": "499d45ed",
   "metadata": {},
   "outputs": [],
   "source": [
    "[shapely.geometry.MultiPoint([pt1, pt2]).centroid for (pt1, pt2) in zip(riverbanks.iloc[0].geometry.coords, riverbanks.iloc[1].geometry.coords)]"
   ]
  },
  {
   "cell_type": "code",
   "execution_count": 211,
   "id": "51693618",
   "metadata": {},
   "outputs": [],
   "source": [
    "# Set width of each \n",
    "centrelines = {\"widths\": [], \"cross sections\": []}\n",
    "for (pt1, pt2) in zip(riverbanks.iloc[0].geometry.coords, riverbanks.iloc[1].geometry.coords):\n",
    "    centrelines[\"widths\"].append(numpy.max([numpy.sqrt((pt1[0] - pt2[0])**2 + (pt1[1] - pt2[1])**2)]))\n",
    "    centrelines\n",
    "    "
   ]
  },
  {
   "cell_type": "code",
   "execution_count": 212,
   "id": "4c74eb14",
   "metadata": {},
   "outputs": [
    {
     "data": {
      "text/plain": [
       "[235.02847614460168,\n",
       " 235.76928504898848,\n",
       " 236.51018537431685,\n",
       " 237.2511762641046,\n",
       " 237.9922568719505,\n",
       " 238.73342636355795,\n",
       " 239.47468391239903,\n",
       " 249.94734796485673,\n",
       " 263.37852073120064,\n",
       " 273.00547129876054,\n",
       " 274.7471665316182,\n",
       " 276.488869743782,\n",
       " 278.2305807853996,\n",
       " 279.97229951079777,\n",
       " 281.7140257772365,\n",
       " 283.4557594459327,\n",
       " 285.19750038104456,\n",
       " 284.8161917929614,\n",
       " 283.2735050166268,\n",
       " 281.73165873753845,\n",
       " 280.19066683176385,\n",
       " 278.65054347361985,\n",
       " 277.1113031447072,\n",
       " 275.5729606419804,\n",
       " 274.03553108505145,\n",
       " 272.4990299268068,\n",
       " 271.3894597808581,\n",
       " 270.3127697554332,\n",
       " 269.2366958717861,\n",
       " 268.1612455472536,\n",
       " 267.086426314306,\n",
       " 266.0122458229009,\n",
       " 264.9387118418617,\n",
       " 263.8879061026842,\n",
       " 263.16123847600505,\n",
       " 262.2413567198197,\n",
       " 261.3219912272863,\n",
       " 260.40314746605776,\n",
       " 260.16800343888167,\n",
       " 263.09743901586256,\n",
       " 266.02687640335347,\n",
       " 268.9563155423901,\n",
       " 271.8857563757767,\n",
       " 278.68131220142897,\n",
       " 289.5325591852397,\n",
       " 300.2433211793135,\n",
       " 306.1137628212697,\n",
       " 308.73408146871725,\n",
       " 304.6653836609059,\n",
       " 300.5983223299947,\n",
       " 296.5329648111397,\n",
       " 292.46938215366225,\n",
       " 288.40764937945346,\n",
       " 284.4618203165469,\n",
       " 282.2446130177144,\n",
       " 280.0287624407269,\n",
       " 278.44874680109405,\n",
       " 277.2043676155622,\n",
       " 275.9606052374162,\n",
       " 274.717468044074,\n",
       " 273.4749645614876,\n",
       " 272.2331034673024,\n",
       " 270.9918935919196,\n",
       " 269.7513439249816,\n",
       " 268.1079132515263,\n",
       " 266.0031435352063,\n",
       " 263.89988643356855,\n",
       " 260.1062026914008,\n",
       " 254.3075751956992,\n",
       " 248.51196866078692,\n",
       " 242.71959948730571,\n",
       " 236.93070511214384,\n",
       " 231.14554660829285,\n",
       " 225.3644116775219,\n",
       " 221.97978968929388,\n",
       " 219.54941744881626,\n",
       " 217.11955240076512,\n",
       " 214.69021176555813,\n",
       " 212.26141354938522,\n",
       " 209.8331765882063,\n",
       " 207.37200007715515,\n",
       " 203.85161383675506,\n",
       " 201.96956798744833,\n",
       " 200.08760509652205,\n",
       " 198.2057275266365,\n",
       " 196.32393773135948,\n",
       " 194.4422382591835,\n",
       " 192.5606317580164,\n",
       " 190.67912098022566,\n",
       " 188.79770878767712,\n",
       " 189.4284246762601,\n",
       " 190.7230611980165,\n",
       " 192.0183199062342,\n",
       " 193.31418829467282,\n",
       " 194.610654184249,\n",
       " 195.90770571233503,\n",
       " 197.20533132377952,\n",
       " 198.50351976025163,\n",
       " 199.8022600505161,\n",
       " 201.10154150347205,\n",
       " 202.4013536968172]"
      ]
     },
     "execution_count": 212,
     "metadata": {},
     "output_type": "execute_result"
    }
   ],
   "source": [
    "centrelines[\"widths\"]"
   ]
  },
  {
   "cell_type": "markdown",
   "id": "286c7e41",
   "metadata": {},
   "source": [
    "# debug geofabrics"
   ]
  },
  {
   "cell_type": "code",
   "execution_count": 98,
   "id": "66387874",
   "metadata": {},
   "outputs": [],
   "source": [
    "cache_path = pathlib.Path(r\"C:\\Local\\data\\catchments\\Westport\\caches\\NZ20_Westport\")\n",
    "folder = \"paper\"\n",
    "channel = geopandas.read_file(cache_path / folder / \"wide_river\" / \"network_river_centreline_6308000000_smoothed.geojson\")"
   ]
  },
  {
   "cell_type": "code",
   "execution_count": null,
   "id": "816f4205",
   "metadata": {},
   "outputs": [],
   "source": [
    "channel2 = geopandas.read_file(cache_path / folder / \"wide_river\" / \"aligned_river_centreline_6308000000.geojson\")"
   ]
  },
  {
   "cell_type": "code",
   "execution_count": 100,
   "id": "1f38ef73",
   "metadata": {},
   "outputs": [
    {
     "data": {
      "text/plain": [
       "<Axes: >"
      ]
     },
     "execution_count": 100,
     "metadata": {},
     "output_type": "execute_result"
    },
    {
     "data": {
      "image/png": "[encoded data removed]",
      "text/plain": [
       "<Figure size 640x480 with 1 Axes>"
      ]
     },
     "metadata": {},
     "output_type": "display_data"
    }
   ],
   "source": [
    "geopandas.read_file(r\"C:\\Local\\repos\\GeoFabrics\\tests\\test_river_bathymetry_osm_wellington\\data\\"
   ]
  },
  {
   "cell_type": "code",
   "execution_count": 118,
   "id": "7e18198a",
   "metadata": {},
   "outputs": [],
   "source": [
    "n=geopandas.read_file(r\"C:\\Local\\repos\\GeoFabrics\\tests\\test_river_bathymetry_osm_wellington\\data\\rec1_flow_and_friction.geojson\").to_crs(crs)"
   ]
  },
  {
   "cell_type": "code",
   "execution_count": 120,
   "id": "3bbc8152",
   "metadata": {},
   "outputs": [
    {
     "data": {
      "text/plain": [
       "<Derived Projected CRS: EPSG:2193>\n",
       "Name: NZGD2000 / New Zealand Transverse Mercator 2000\n",
       "Axis Info [cartesian]:\n",
       "- N[north]: Northing (metre)\n",
       "- E[east]: Easting (metre)\n",
       "Area of Use:\n",
       "- name: New Zealand - North Island, South Island, Stewart Island - onshore.\n",
       "- bounds: (166.37, -47.33, 178.63, -34.1)\n",
       "Coordinate Operation:\n",
       "- name: New Zealand Transverse Mercator 2000\n",
       "- method: Transverse Mercator\n",
       "Datum: New Zealand Geodetic Datum 2000\n",
       "- Ellipsoid: GRS 1980\n",
       "- Prime Meridian: Greenwich"
      ]
     },
     "execution_count": 120,
     "metadata": {},
     "output_type": "execute_result"
    }
   ],
   "source": [
    "crs"
   ]
  },
  {
   "cell_type": "code",
   "execution_count": 119,
   "id": "a9cf16c3",
   "metadata": {},
   "outputs": [
    {
     "data": {
      "text/html": [
       "<div>\n",
       "<style scoped>\n",
       "    .dataframe tbody tr th:only-of-type {\n",
       "        vertical-align: middle;\n",
       "    }\n",
       "\n",
       "    .dataframe tbody tr th {\n",
       "        vertical-align: top;\n",
       "    }\n",
       "\n",
       "    .dataframe thead th {\n",
       "        text-align: right;\n",
       "    }\n",
       "</style>\n",
       "<table border=\"1\" class=\"dataframe\">\n",
       "  <thead>\n",
       "    <tr style=\"text-align: right;\">\n",
       "      <th></th>\n",
       "      <th>NZREACH</th>\n",
       "      <th>CATCHAREA</th>\n",
       "      <th>to_node</th>\n",
       "      <th>from_node</th>\n",
       "      <th>n</th>\n",
       "      <th>flow</th>\n",
       "      <th>geometry</th>\n",
       "    </tr>\n",
       "  </thead>\n",
       "  <tbody>\n",
       "    <tr>\n",
       "      <th>0</th>\n",
       "      <td>9003916</td>\n",
       "      <td>8.892000e+05</td>\n",
       "      <td>9003911</td>\n",
       "      <td>9004036</td>\n",
       "      <td>0.03180</td>\n",
       "      <td>0.315610</td>\n",
       "      <td>LINESTRING (1768316.145 5472724.000, 1768333.8...</td>\n",
       "    </tr>\n",
       "    <tr>\n",
       "      <th>1</th>\n",
       "      <td>9003795</td>\n",
       "      <td>9.897300e+06</td>\n",
       "      <td>9003799</td>\n",
       "      <td>9004118</td>\n",
       "      <td>0.02826</td>\n",
       "      <td>3.178111</td>\n",
       "      <td>LINESTRING (1769431.619 5472724.000, 1769413.9...</td>\n",
       "    </tr>\n",
       "    <tr>\n",
       "      <th>2</th>\n",
       "      <td>9003917</td>\n",
       "      <td>2.812272e+05</td>\n",
       "      <td>9003911</td>\n",
       "      <td>9003930</td>\n",
       "      <td>0.03180</td>\n",
       "      <td>0.117465</td>\n",
       "      <td>LINESTRING (1768453.876 5472741.724, 1768423.8...</td>\n",
       "    </tr>\n",
       "    <tr>\n",
       "      <th>3</th>\n",
       "      <td>9003882</td>\n",
       "      <td>1.263443e+06</td>\n",
       "      <td>9003888</td>\n",
       "      <td>9003911</td>\n",
       "      <td>0.02708</td>\n",
       "      <td>0.440559</td>\n",
       "      <td>LINESTRING (1768393.876 5472801.727, 1768423.8...</td>\n",
       "    </tr>\n",
       "    <tr>\n",
       "      <th>4</th>\n",
       "      <td>9003855</td>\n",
       "      <td>1.420191e+08</td>\n",
       "      <td>9003799</td>\n",
       "      <td>9003876</td>\n",
       "      <td>0.04478</td>\n",
       "      <td>138.415185</td>\n",
       "      <td>LINESTRING (1769645.000 5472951.707, 1769623.9...</td>\n",
       "    </tr>\n",
       "    <tr>\n",
       "      <th>5</th>\n",
       "      <td>9003756</td>\n",
       "      <td>1.521514e+08</td>\n",
       "      <td>9003756</td>\n",
       "      <td>9003799</td>\n",
       "      <td>0.04242</td>\n",
       "      <td>125.797577</td>\n",
       "      <td>LINESTRING (1769353.920 5473251.723, 1769353.9...</td>\n",
       "    </tr>\n",
       "    <tr>\n",
       "      <th>6</th>\n",
       "      <td>9003742</td>\n",
       "      <td>1.532630e+08</td>\n",
       "      <td>9003747</td>\n",
       "      <td>9003756</td>\n",
       "      <td>0.04242</td>\n",
       "      <td>124.559510</td>\n",
       "      <td>LINESTRING (1769143.913 5473461.734, 1769113.9...</td>\n",
       "    </tr>\n",
       "    <tr>\n",
       "      <th>7</th>\n",
       "      <td>9003615</td>\n",
       "      <td>1.100127e+06</td>\n",
       "      <td>9003756</td>\n",
       "      <td>9003610</td>\n",
       "      <td>0.03062</td>\n",
       "      <td>0.409006</td>\n",
       "      <td>LINESTRING (1769645.000 5473752.796, 1769623.9...</td>\n",
       "    </tr>\n",
       "  </tbody>\n",
       "</table>\n",
       "</div>"
      ],
      "text/plain": [
       "   NZREACH     CATCHAREA  to_node  from_node        n        flow  \\\n",
       "0  9003916  8.892000e+05  9003911    9004036  0.03180    0.315610   \n",
       "1  9003795  9.897300e+06  9003799    9004118  0.02826    3.178111   \n",
       "2  9003917  2.812272e+05  9003911    9003930  0.03180    0.117465   \n",
       "3  9003882  1.263443e+06  9003888    9003911  0.02708    0.440559   \n",
       "4  9003855  1.420191e+08  9003799    9003876  0.04478  138.415185   \n",
       "5  9003756  1.521514e+08  9003756    9003799  0.04242  125.797577   \n",
       "6  9003742  1.532630e+08  9003747    9003756  0.04242  124.559510   \n",
       "7  9003615  1.100127e+06  9003756    9003610  0.03062    0.409006   \n",
       "\n",
       "                                            geometry  \n",
       "0  LINESTRING (1768316.145 5472724.000, 1768333.8...  \n",
       "1  LINESTRING (1769431.619 5472724.000, 1769413.9...  \n",
       "2  LINESTRING (1768453.876 5472741.724, 1768423.8...  \n",
       "3  LINESTRING (1768393.876 5472801.727, 1768423.8...  \n",
       "4  LINESTRING (1769645.000 5472951.707, 1769623.9...  \n",
       "5  LINESTRING (1769353.920 5473251.723, 1769353.9...  \n",
       "6  LINESTRING (1769143.913 5473461.734, 1769113.9...  \n",
       "7  LINESTRING (1769645.000 5473752.796, 1769623.9...  "
      ]
     },
     "execution_count": 119,
     "metadata": {},
     "output_type": "execute_result"
    }
   ],
   "source": [
    "n"
   ]
  },
  {
   "cell_type": "code",
   "execution_count": 108,
   "id": "779b7057",
   "metadata": {},
   "outputs": [
    {
     "data": {
      "text/plain": [
       "<Axes: >"
      ]
     },
     "execution_count": 108,
     "metadata": {},
     "output_type": "execute_result"
    },
    {
     "data": {
      "image/png": "[encoded data removed]",
      "text/plain": [
       "<Figure size 640x480 with 1 Axes>"
      ]
     },
     "metadata": {},
     "output_type": "display_data"
    }
   ],
   "source": [
    "channel.rotate(45).plot()"
   ]
  },
  {
   "cell_type": "code",
   "execution_count": 109,
   "id": "1601eb05",
   "metadata": {},
   "outputs": [
    {
     "data": {
      "text/plain": [
       "<Axes: >"
      ]
     },
     "execution_count": 109,
     "metadata": {},
     "output_type": "execute_result"
    },
    {
     "data": {
      "image/png": "[encoded data removed]",
      "text/plain": [
       "<Figure size 640x480 with 1 Axes>"
      ]
     },
     "metadata": {},
     "output_type": "display_data"
    }
   ],
   "source": [
    "channel.rotate(45).boundary.plot()"
   ]
  },
  {
   "cell_type": "code",
   "execution_count": null,
   "id": "8178759f",
   "metadata": {},
   "outputs": [],
   "source": []
  }
 ],
 "metadata": {
  "kernelspec": {
   "display_name": "Python [conda env:raster]",
   "language": "python",
   "name": "conda-env-raster-py"
  },
  "language_info": {
   "codemirror_mode": {
    "name": "ipython",
    "version": 3
   },
   "file_extension": ".py",
   "mimetype": "text/x-python",
   "name": "python",
   "nbconvert_exporter": "python",
   "pygments_lexer": "ipython3",
   "version": "3.11.1"
  }
 },
 "nbformat": 4,
 "nbformat_minor": 5
}
