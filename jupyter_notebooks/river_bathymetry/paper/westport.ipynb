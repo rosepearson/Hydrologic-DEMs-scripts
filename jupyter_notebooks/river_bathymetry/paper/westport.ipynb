{
 "cells": [
  {
   "cell_type": "code",
   "execution_count": null,
   "id": "bb30d87b",
   "metadata": {},
   "outputs": [],
   "source": [
    "import warnings\n",
    "warnings.simplefilter(action='ignore', category=FutureWarning)\n",
    "\n",
    "import geopandas\n",
    "import pandas\n",
    "import pathlib\n",
    "import numpy\n",
    "import matplotlib\n",
    "import seaborn\n",
    "import shapely\n",
    "import rioxarray\n",
    "import matplotlib.pyplot\n",
    "from IPython.display import display, HTML\n",
    "\n",
    "display(HTML(\"<style>.container { width:100% !important; }</style>\"))"
   ]
  },
  {
   "cell_type": "markdown",
   "id": "182b23a0",
   "metadata": {},
   "source": [
    "# Plan\n",
    "* Load in GeoFabrics estimated width, depth and water surface height - (using those used in GeoFabrics - i.e. same level of smoothing)\n",
    "  * Calculate channel area - assume rectangular\n",
    "* Load in measured cross sections\n",
    "  * Transform to NZVD2016\n",
    "  * Calculate the channel area - use the same water height as the GeoFabrics estimates\n",
    "* Compare the results\n",
    "  * Take the nearest GeoFabrics cross section to each measured cross section\n",
    "  * Plot area's on the same plot"
   ]
  },
  {
   "cell_type": "code",
   "execution_count": null,
   "id": "b8666144",
   "metadata": {},
   "outputs": [],
   "source": [
    "resolution = 8\n",
    "horizontal_crs = 2193"
   ]
  },
  {
   "cell_type": "markdown",
   "id": "2d90a150",
   "metadata": {},
   "source": [
    "### Load in GeoFabrics Bathymetry estimates"
   ]
  },
  {
   "cell_type": "code",
   "execution_count": null,
   "id": "c3c02ca8",
   "metadata": {},
   "outputs": [],
   "source": [
    "cache_path = pathlib.Path(r\"C:\\Local\\data\\catchments\\Westport\\caches\\NZ20_Westport\")\n",
    "folder = \"paper\"\n",
    "dems = {}\n",
    "dems[\"Unconditioned\"] = rioxarray.rioxarray.open_rasterio(cache_path / folder  / \"geofabric_8m_unconditioned.nc\", masked=True).squeeze(\"band\", drop=True)\n",
    "dems[\"Conceptual Multivariate Regression Approach\"] = rioxarray.rioxarray.open_rasterio(cache_path / folder  / \"geofabric_8m_rupp_and_smart.nc\", masked=True).squeeze(\"band\", drop=True)\n",
    "dems[\"Uniform Flow Approach\"] = rioxarray.rioxarray.open_rasterio(cache_path / folder  / \"geofabric_8m_neal_et_al.nc\", masked=True).squeeze(\"band\", drop=True)\n",
    "dems[\"Interpolated Surveyed Elevation Cross Sections\"] = rioxarray.rioxarray.open_rasterio(cache_path / folder / \"geofabric_8m_measured_river.nc\", masked=True).squeeze(\"band\", drop=True)\n",
    "#dems[\"Test Rupp 1\"] = rioxarray.rioxarray.open_rasterio(cache_path / \"test\" / \"dem_8m_rupp_wide_1_area_change.nc\", masked=True).squeeze(\"band\", drop=True)\n",
    "#dems[\"Test Rupp 2\"] = rioxarray.rioxarray.open_rasterio(cache_path / \"test\" / \"dem_8m_rupp_wide_2_variable_thresh.nc\", masked=True).squeeze(\"band\", drop=True)\n",
    "#dems[\"Test Rupp 3\"] = rioxarray.rioxarray.open_rasterio(cache_path / \"test\" / \"dem_8m_rupp_wide_3_no_area_adjustment.nc\", masked=True).squeeze(\"band\", drop=True)\n",
    "#dems[\"Test Rupp 4\"] = rioxarray.rioxarray.open_rasterio(cache_path / \"test\" / \"dem_8m_rupp_wide_4_area_adjustment.nc\", masked=True).squeeze(\"band\", drop=True)\n",
    "#dems[\"Test Rupp 5\"] = rioxarray.rioxarray.open_rasterio(cache_path / \"test\" / \"dem_8m_rupp_wide_5_max_bank_height.nc\", masked=True).squeeze(\"band\", drop=True)\n",
    "#dems[\"Test Rupp 6\"] = rioxarray.rioxarray.open_rasterio(cache_path / \"test\" / \"dem_8m_rupp_wide_6_to_ocean.nc\", masked=True).squeeze(\"band\", drop=True)\n",
    "#dems[\"Test Rupp 7\"] = rioxarray.rioxarray.open_rasterio(cache_path / \"test\" / \"dem_8m_rupp_wide_7_fix_stop.nc\", masked=True).squeeze(\"band\", drop=True)\n",
    "#dems[\"Test Rupp 8\"] = rioxarray.rioxarray.open_rasterio(cache_path / \"test\" / \"dem_8m_rupp_wide_8_max_bank_7m.nc\", masked=True).squeeze(\"band\", drop=True)\n"
   ]
  },
  {
   "cell_type": "raw",
   "id": "b57598f5",
   "metadata": {},
   "source": [
    "# Old way of using the estimated polygon and centrelines\n",
    "river_centreline = geopandas.read_file(cache_path / folder / \"wide_river\" / \"aligned_river_centreline_6308000000.geojson\")\n",
    "river_polygon = geopandas.read_file(cache_path / folder / \"wide_river\" / \"river_polygon.geojson\")\n",
    "fan_polygon = geopandas.read_file(cache_path / folder / \"wide_river\" / \"fan_polygon.geojson\")\n",
    "polygon = geopandas.GeoDataFrame( pandas.concat([river_polygon, fan_polygon], ignore_index=True), crs=river_polygon.crs).dissolve()"
   ]
  },
  {
   "cell_type": "code",
   "execution_count": null,
   "id": "2c9da4c3",
   "metadata": {},
   "outputs": [],
   "source": [
    "# River polygon and centreline from the measured sections\n",
    "polygon = geopandas.read_file(cache_path / folder / \"measured_river\" / \"river_polygon.geojson\")\n",
    "riverbanks = geopandas.read_file(pathlib.Path(r\"C:\\Local\\data\\catchments\") / \"measured_sections\" / \"westport\" / \"riverbanks.geojson\")\n",
    "normalised_distances = numpy.arange(0, riverbanks.length.max())/riverbanks.length.max()\n",
    "riverbanks=riverbanks.apply(lambda row: row.geometry.interpolate(normalised_distances, normalized=True), axis=1)\n",
    "river_centreline = geopandas.GeoDataFrame(geometry=[shapely.geometry.LineString([shapely.geometry.MultiPoint([right, left]).centroid for (right, left) in zip(riverbanks.loc[0], riverbanks.loc[1])])],\n",
    "                                          crs=horizontal_crs)"
   ]
  },
  {
   "cell_type": "markdown",
   "id": "a7515f30",
   "metadata": {},
   "source": [
    "## Load in Measured cross sections\n",
    "See raw cell below for converting to NZVD2016. This has already been done so load in the converted one directly"
   ]
  },
  {
   "cell_type": "raw",
   "id": "6632d8fe",
   "metadata": {},
   "source": [
    "# Load in LVD measured cross sections\n",
    "sections_path = pathlib.Path(fr\"C:\\Local\\data\\river_bathemetry\\sections\\Westport\\3738_Buller_River_October_2021\")\n",
    "cross_section_file = pathlib.Path(sections_path / \"3738_Buller_River_October_2021.shp\")\n",
    "measured_sections = geopandas.read_file(cross_section_file)\n",
    "cross_section_elevation_label = 'Elevation'\n",
    "cross_section_name_label = 'Name'\n",
    "\n",
    "# LVD to NZVD2016 conversion\n",
    "local_datum_file = pathlib.Path(r\"C:\\Users\\pearsonra\\Documents\\data\\local_datums\\lds-lyttelton-1937-to-nzvd2016-conversion-raster-GTiff\"\n",
    "                                \"\\lyttelton-1937-to-nzvd2016-conversion-raster.tif\")\n",
    "import rioxarray\n",
    "local_vertical_datum = rioxarray.rioxarray.open_rasterio(local_datum_file, masked=True)\n",
    "def get_lvd_conversion(geometry, local_vertical_datum):\n",
    "    return local_vertical_datum.sel({'x': [geometry.x], 'y': [geometry.y]}, method='nearest').data[0,0,0]\n",
    "\n",
    "# Actually convert the heigfhts\n",
    "measured_sections['lvd_conversion'] = measured_sections.apply(lambda row: get_lvd_conversion(row.geometry, local_vertical_datum), axis=1)\n",
    "measured_sections['z_2016'] = measured_sections[cross_section_elevation_label] - measured_sections['lvd_conversion']\n",
    "measured_sections['geometry'] = measured_sections.apply(lambda row: shapely.geometry.Point(row.geometry.x, row.geometry.y, row.z_2016), axis=1)\n",
    "\n",
    "# Save out results\n",
    "measured_sections.to_file(r\"C:/Users/pearsonra/Documents/data/river_bathemetry/sections/Westport/3738_Buller_River_October_2021/3738_Buller_River_October_2021.geojson\")"
   ]
  },
  {
   "cell_type": "code",
   "execution_count": null,
   "id": "a5243d5d",
   "metadata": {},
   "outputs": [],
   "source": [
    "sections_path = pathlib.Path(r\"C:\\Local\\data\\river_bathemetry\\sections\\Westport\\3738_Buller_River_October_2021\")\n",
    "cross_section_elevation_label = 'Elevation'\n",
    "cross_section_name_label = 'Name'\n",
    "measured_sections = geopandas.read_file(sections_path / \"3738_Buller_River_October_2021_NZVD2016.geojson\")\n",
    "all_measured_sections = ['Section1', 'Section2', 'Section2A', 'Section2B', 'Section3', 'Section3A', 'Section4', 'Section5', 'Section6',\n",
    "                             'Section7', 'Section8', 'Section9', 'Section10', 'Section11', 'Section12', 'Section13', 'Section14',\n",
    "                             'Section15', 'Section16', 'Section21', 'Section22', 'Section23', 'Section24', 'Section25', 'Section26', 'Section17',\n",
    "                             'Section18', 'Section19', 'Section20']\n",
    "ordered_measured_sections = ['Section1', 'Section2', 'Section2A', 'Section2B', 'Section3', 'Section3A', 'Section4', 'Section5', 'Section6',\n",
    "                             'Section7', 'Section8', 'Section9', 'Section10', 'Section11', 'Section12', 'Section13', 'Section14',\n",
    "                             'Section15', 'Section16', 'Section21', 'Section22', 'Section23', 'Section24', 'Section25', 'Section26']"
   ]
  },
  {
   "cell_type": "code",
   "execution_count": null,
   "id": "81f2bd00",
   "metadata": {},
   "outputs": [],
   "source": [
    "measured_sections.head(1)"
   ]
  },
  {
   "cell_type": "markdown",
   "id": "1ad92398",
   "metadata": {},
   "source": [
    "### Simplify the measured points to min point/line strings"
   ]
  },
  {
   "cell_type": "code",
   "execution_count": null,
   "id": "64d9a193",
   "metadata": {},
   "outputs": [],
   "source": [
    "measured_centres = {'Section': [], 'geometry': []}\n",
    "measured_lines = {'Section': [], 'geometry': [], 'min_elevation': []}\n",
    "for section in measured_sections[cross_section_name_label].unique():\n",
    "    measured_section = measured_sections[measured_sections[cross_section_name_label] == section]\n",
    "    measured_centre = measured_section[measured_section[cross_section_elevation_label]==measured_section[cross_section_elevation_label].min()].iloc[0]\n",
    "    measured_centres['Section'].append(section)\n",
    "    measured_centres['geometry'].append(measured_centre['geometry'])\n",
    "    \n",
    "    measured_lines['Section'].append(section)\n",
    "    measured_lines['geometry'].append(shapely.geometry.LineString( [[measure_point.x, measure_point.y, measure_point.z] for measure_point in measured_section.geometry.values] ))\n",
    "    measured_lines['min_elevation'].append(measured_section[cross_section_elevation_label].min())\n",
    "measured_centres = geopandas.GeoDataFrame(measured_centres, crs=horizontal_crs)\n",
    "measured_lines = geopandas.GeoDataFrame(measured_lines, crs=horizontal_crs)"
   ]
  },
  {
   "cell_type": "markdown",
   "id": "7e3dac64",
   "metadata": {},
   "source": [
    "## Sample DEM for elevations\n",
    "Record the Bias and STDev for each cross section against the two DEMS"
   ]
  },
  {
   "cell_type": "code",
   "execution_count": null,
   "id": "28e27148",
   "metadata": {},
   "outputs": [],
   "source": [
    "import matplotlib.pyplot\n",
    "fig, ax = matplotlib.pyplot.subplots(ncols=1, nrows=1, figsize=(10, 5))\n",
    "polygon.plot(ax=ax, color='g')\n",
    "measured_lines.plot(ax=ax)"
   ]
  },
  {
   "cell_type": "markdown",
   "id": "0016f13a",
   "metadata": {},
   "source": [
    "# Sample every 1m\n",
    "Use Linear interpolation in between"
   ]
  },
  {
   "cell_type": "code",
   "execution_count": null,
   "id": "6fbf83f5",
   "metadata": {},
   "outputs": [],
   "source": [
    "comparisons_sampled = {**dict((f\"{key} z\", []) for key in dems), \n",
    "                       **{\"Surveyed Cross Section Elevations z\": [], \"Section\": [], \"River\": [], \"Distance Upstream [m]\": [], \"Offset [m]\": []}}\n",
    "for index, row in measured_lines.iterrows():\n",
    "    print(f\"Section number = {index}\")\n",
    "    line = row.geometry\n",
    "    distance_upstream = float(river_centreline.project(measured_centres.iloc[index].geometry))\n",
    "    for offset in list(range(int(numpy.ceil(line.length)))):\n",
    "        point = line.interpolate(offset)\n",
    "        for key in dems:\n",
    "            comparisons_sampled[f\"{key} z\"].append(float(dems[key].z.interp(x=point.x, y=point.y)))\n",
    "        comparisons_sampled[\"Surveyed Cross Section Elevations z\"].append(point.z)\n",
    "        comparisons_sampled[\"Section\"].append(row['Section'])\n",
    "        comparisons_sampled[\"River\"].append(polygon.iloc[0].geometry.contains(point))\n",
    "        comparisons_sampled[\"Distance Upstream [m]\"].append(distance_upstream)\n",
    "        comparisons_sampled[\"Offset [m]\"].append(offset)\n",
    "        \n",
    "comparisons_sampled = pandas.DataFrame.from_dict(comparisons_sampled)"
   ]
  },
  {
   "cell_type": "markdown",
   "id": "400e2994",
   "metadata": {},
   "source": [
    "# Plot sampled elevations along entire sections\n",
    "Plot the sampled elevations along individual cross-sections including the on-land portions as a sanity check."
   ]
  },
  {
   "cell_type": "code",
   "execution_count": null,
   "id": "281c65a6",
   "metadata": {},
   "outputs": [],
   "source": [
    "columns = [\"Surveyed Cross Section Elevations z\"]; columns.extend([f\"{key} z\" for key in dems])\n",
    "for section in ordered_measured_sections:\n",
    "    figure = comparisons_sampled[comparisons_sampled[\"Section\"]==section][columns].plot(title=section)\n",
    "    figure.figure.savefig(cache_path / folder / \"measured_section_comparison\" / f\"{section}.png\")\n",
    "    matplotlib.pyplot.close()\n",
    "    \n",
    "    distance = comparisons_sampled[comparisons_sampled['Section']==section]['Distance Upstream [m]'].iloc[0]\n",
    "    figure = comparisons_sampled[comparisons_sampled[\"Section\"]==section][columns].plot(title=f\"{distance}m distance upstream\")\n",
    "    figure.figure.savefig(cache_path / folder / \"measured_section_comparison\" / \"distance_upstream\" / f\"{distance}m_upstream.png\")\n",
    "    matplotlib.pyplot.close()"
   ]
  },
  {
   "cell_type": "code",
   "execution_count": null,
   "id": "313b51ce",
   "metadata": {},
   "outputs": [],
   "source": [
    "columns = [\"Surveyed Cross Section Elevations z\"]; columns.extend([f\"{key} z\" for key in dems])\n",
    "for section in ordered_measured_sections:\n",
    "    figure = comparisons_sampled[(comparisons_sampled[\"Section\"]==section) & (comparisons_sampled[\"River\"]==True)][columns].plot(title=section);\n",
    "    figure.figure.savefig(cache_path / folder / \"measured_section_comparison\" / f\"only_river_{section}.png\")\n",
    "    matplotlib.pyplot.close()\n",
    "    \n",
    "    distance = comparisons_sampled[comparisons_sampled['Section']==section]['Distance Upstream [m]'].iloc[0]\n",
    "    figure = comparisons_sampled[(comparisons_sampled[\"Section\"]==section) & (comparisons_sampled[\"River\"]==True)][columns].plot(title=f\"{distance}m distance upstream\")\n",
    "    figure.figure.savefig(cache_path / folder / \"measured_section_comparison\" / \"distance_upstream\" / f\"only_river_{distance}m_upstream.png\")\n",
    "    matplotlib.pyplot.close()"
   ]
  },
  {
   "cell_type": "markdown",
   "id": "5a6c926a",
   "metadata": {},
   "source": [
    "## Plot elevation errors along each section\n",
    "95% confidence interval plot for the errors along each section in the river. "
   ]
  },
  {
   "cell_type": "code",
   "execution_count": null,
   "id": "172104f1",
   "metadata": {},
   "outputs": [],
   "source": [
    "for key in dems:\n",
    "    comparisons_sampled[f\"{key} Elevation Errors\"] = comparisons_sampled[f\"{key} z\"] - comparisons_sampled[\"Surveyed Cross Section Elevations z\"]"
   ]
  },
  {
   "cell_type": "code",
   "execution_count": null,
   "id": "313bba3d",
   "metadata": {},
   "outputs": [],
   "source": [
    "comparisons_sampled.head(1)"
   ]
  },
  {
   "cell_type": "code",
   "execution_count": null,
   "id": "50f25523",
   "metadata": {},
   "outputs": [],
   "source": [
    "comparisons_for_plotting=comparisons_sampled.drop(\n",
    "    columns=[f\"{key} z\" for key in dems]).drop(columns=[\"Surveyed Cross Section Elevations z\"]).rename(\n",
    "    columns=dict((f\"{key} Elevation Errors\", f\"{key}\") for key in dems)).melt(\n",
    "    id_vars=[\"Section\", \"Distance Upstream [m]\", \"River\", \"Offset [m]\"], var_name=\"Comparison\", value_name=\"Riverbed Elevation Error [m]\")"
   ]
  },
  {
   "cell_type": "code",
   "execution_count": null,
   "id": "ea84fd77",
   "metadata": {},
   "outputs": [],
   "source": [
    "comparisons_for_plotting.to_json(cache_path / folder / \"measured_section_comparison\" / \"comparison_for_plotting.json\")"
   ]
  },
  {
   "cell_type": "code",
   "execution_count": null,
   "id": "ed1283d8",
   "metadata": {},
   "outputs": [],
   "source": [
    "seaborn.set(rc={'figure.figsize':(11.7,6)})\n",
    "figure = seaborn.lineplot(data=comparisons_for_plotting[comparisons_for_plotting[\"River\"]], x=\"Distance Upstream [m]\", y=\"Riverbed Elevation Error [m]\", hue=\"Comparison\")\n",
    "figure.set(title='Section Depths Comparison 95% CI')\n",
    "figure.text(-2150, 8.5, \"a\", fontsize=14)\n",
    "figure.get_figure().savefig(cache_path / folder / \"measured_section_comparison\" / \"section_depth_errors.png\") "
   ]
  },
  {
   "cell_type": "raw",
   "id": "69be4750-9f0f-4616-83eb-fbb933fe7335",
   "metadata": {},
   "source": [
    "data = comparisons_for_plotting[(comparisons_for_plotting['Comparison'] == 'Unconditioned')\n",
    "                                | (comparisons_for_plotting['Comparison'] == 'Interpolated Sections')\n",
    "                                | (comparisons_for_plotting['Comparison'] == 'Measured Section')  \n",
    "                                | (comparisons_for_plotting['Comparison'] == 'Test Rupp 8')]\n",
    "seaborn.set(rc={'figure.figsize':(11.7,8.27)})\n",
    "figure = seaborn.lineplot(data=data[data[\"River\"]], x=\"Distance Upstream [m]\", y=\"Riverbed Elevation Error [m]\", hue=\"Comparison\")\n",
    "figure.set(title='Section Depths Comparison 95% CI')\n",
    "figure.get_figure().savefig(cache_path / folder / \"measured_section_comparison\" / \"section_depth_errors.png\") "
   ]
  },
  {
   "cell_type": "code",
   "execution_count": null,
   "id": "010550f8",
   "metadata": {},
   "outputs": [],
   "source": [
    "summary = comparisons_sampled[comparisons_sampled['River']].drop(\n",
    "    columns=[f\"{key} z\" for key in dems]).set_index(\n",
    "    keys=[\"Distance Upstream [m]\", \"Offset [m]\"])\n",
    "depth_summary = pandas.DataFrame([[summary.mean()[f\"{key} Elevation Errors\"] for key in dems],\n",
    "                                  [summary.std()[f\"{key} Elevation Errors\"] for key in dems]],\n",
    "                                  index = [\"Mean Error\", \"Standard Deviation\"], columns=[key for key in dems])\n",
    "depth_summary"
   ]
  },
  {
   "cell_type": "markdown",
   "id": "b172d604",
   "metadata": {},
   "source": [
    "# Channel Area error\n",
    "The total area of the channel at each section"
   ]
  },
  {
   "cell_type": "code",
   "execution_count": null,
   "id": "d573cf7b",
   "metadata": {},
   "outputs": [],
   "source": [
    "channel_depths = comparisons_sampled[comparisons_sampled['River']].drop(\n",
    "    columns=[f\"{key} Elevation Errors\" for key in dems]).drop(columns=[\"River\", \"Section\"]).set_index(\n",
    "    keys=[\"Distance Upstream [m]\", \"Offset [m]\"])\n",
    "section_max_evaluation = channel_depths.groupby(\"Distance Upstream [m]\")[[\"Surveyed Cross Section Elevations z\"]].max()"
   ]
  },
  {
   "cell_type": "code",
   "execution_count": null,
   "id": "b6893a84",
   "metadata": {},
   "outputs": [],
   "source": [
    "channel_depths.head(1)"
   ]
  },
  {
   "cell_type": "code",
   "execution_count": null,
   "id": "e5319fcc",
   "metadata": {},
   "outputs": [],
   "source": [
    "# Some hacky code to subtract the max elevation from each column in turn\n",
    "channel_depths[\"Surveyed Cross Section Elevations\"] = section_max_evaluation - channel_depths[[\"Surveyed Cross Section Elevations z\"]]\n",
    "for key in dems:\n",
    "    channel_depths[key] = section_max_evaluation.rename(columns={\"Surveyed Cross Section Elevations z\": f\"{key} z\"}) - channel_depths[[f\"{key} z\"]]\n",
    "channel_depths.head(1)"
   ]
  },
  {
   "cell_type": "code",
   "execution_count": null,
   "id": "cb10e33f",
   "metadata": {},
   "outputs": [],
   "source": [
    "channel_area = channel_depths.drop(\n",
    "    columns=[\"Surveyed Cross Section Elevations z\"]).drop(\n",
    "    columns=[f\"{key} z\" for key in dems]).groupby(\"Distance Upstream [m]\").sum()\n",
    "channel_area.head(1)"
   ]
  },
  {
   "cell_type": "code",
   "execution_count": null,
   "id": "9d7f2d33",
   "metadata": {},
   "outputs": [],
   "source": [
    "areas_for_plotting=channel_area.reset_index().melt(id_vars=[\"Distance Upstream [m]\"], var_name=\"Source\", value_name=\"Riverbed Area [m^2]\")"
   ]
  },
  {
   "cell_type": "code",
   "execution_count": null,
   "id": "a76bf046",
   "metadata": {},
   "outputs": [],
   "source": [
    "seaborn.set(rc={'figure.figsize':(11.7,8.27)})\n",
    "figure = seaborn.lineplot(data=areas_for_plotting, x=\"Distance Upstream [m]\", y=\"Riverbed Area [m^2]\", hue=\"Source\")\n",
    "figure.set(title='Channel Area Comparison')\n",
    "figure.get_figure().savefig(cache_path / folder / \"measured_section_comparison\" / \"section_area_errors.png\") "
   ]
  },
  {
   "cell_type": "raw",
   "id": "03e73e39-834d-4a2e-bf77-7e7f516d3fda",
   "metadata": {},
   "source": [
    "data = areas_for_plotting[(areas_for_plotting['Source'] == 'Unconditioned') \n",
    "                        | (areas_for_plotting['Source'] == 'Measured Section')\n",
    "                        | (areas_for_plotting['Source'] == 'Interpolated Sections') \n",
    "                        | (areas_for_plotting['Source'] == 'Test Rupp 8')]\n",
    "seaborn.set(rc={'figure.figsize':(11.7,8.27)})\n",
    "figure = seaborn.lineplot(data=data, x=\"Distance Upstream [m]\", y=\"Riverbed Area [m^2]\", hue=\"Source\")\n",
    "figure.set(title='Channel Area Comparison')\n",
    "figure.get_figure().savefig(cache_path / folder / \"measured_section_comparison\" / \"section_area_errors.png\") "
   ]
  },
  {
   "cell_type": "markdown",
   "id": "91656a1f",
   "metadata": {},
   "source": [
    "# Exploring potential sources of error\n",
    "## 1. Using measured versus estimate flow\n",
    "The flow guage stations provide measured mean-annual flood flows. These can be used instead of the estimated ones across NZ. We can look at the impact of the different values by simply scaling the depths and then rerunning the generate hydrologically conditioned DEM steps.\n",
    "\n",
    "#### Measured flow guage data\n",
    "* [Te Kuha](https://www.lawa.org.nz/explore-data/west-coast-region/water-quantity/monitoring-sites/buller-rv-te-kuha/) - 3727.09 m³/s\n",
    "\n",
    "#### Estimated flow data\n",
    "* Te Kuha section NZREACH ID 12012463 - 4225.07 m³/s\n",
    "\n",
    "#### Scaling to the different depths\n",
    "In both cases the equation can be re-arragned to: h=(n/wS^b)^1/(1+a)*Q^1/(1+a) where 1/(1+a) differs in each case.\n",
    "So depth can be scaled by (Qmeasured/Qold) ^ 1/(1+a). Where Qmeasured/Qold = 0.8821368640046201.\n",
    "This means in each case:\n",
    "* Uniform flow - 1/(1+a) = 0.6 -> x 0.9275163689031669\n",
    "* Conceptual multivariate regression - 1/(1+a) = 0.573 -> x 0.9306622787286434\n",
    "So depth can be scaled by (Qmeasured/Qold) ^ 1/(1+a)\n",
    "\n",
    "## 2. Different thresholds\n",
    "##### Currently\n",
    "* narrow is 0.5 min to 0.75 max\n",
    "* wide is 2 min to 5 max\n",
    "Looking through the sampled sections it looks like the banks are higher than  5m generally (at least for bank full flow), and the water section could be less than 2m - try say 1m min, 10 max\n",
    "\n",
    "## 3. Turn off the depth adjustment\n",
    "#### Currently \n",
    "* My code for adjusting the depth estimate based on the banks doesn't seem to be quite right!\n",
    "* It also makes the rivers deeper which is not desired based on a comparison to the sections\n",
    "#### Future\n",
    "Drope out this 'correction' as an unneeded complexity at this stage. \n",
    "\n",
    "## 4. Could add a proportion flowing through sediment\n",
    "In braided rivers most or even all flow can be through the river gravels. \n",
    "\n",
    "#### Future\n",
    "1. Could add a user specified 'proportion of flow in sediments' \n",
    "2. May just want to keep at it is as trying to make a 'hydrologically conditioned DEM' as opposed to the actual measured cross sections.\n",
    "\n",
    "Questions: are their models where would want the actual bed elevation as they model the flow through the gravels - I think so - sediment transport models"
   ]
  },
  {
   "cell_type": "markdown",
   "id": "ce149226",
   "metadata": {},
   "source": [
    "# Explore depths"
   ]
  },
  {
   "cell_type": "code",
   "execution_count": null,
   "id": "4c7a392e",
   "metadata": {},
   "outputs": [],
   "source": [
    "river_depths = geopandas.read_file(cache_path / folder / \"wide_river\" / \"river_bathymetry.geojson\")\n",
    "river_depths_all = geopandas.read_file(cache_path / folder / \"wide_river\" / \"river_characteristics.geojson\")"
   ]
  },
  {
   "cell_type": "code",
   "execution_count": null,
   "id": "5919d36c",
   "metadata": {},
   "outputs": [],
   "source": [
    "river_depths_all.columns"
   ]
  },
  {
   "cell_type": "code",
   "execution_count": null,
   "id": "c8989f94",
   "metadata": {},
   "outputs": [],
   "source": [
    "import matplotlib.pyplot\n",
    "fig, ax = matplotlib.pyplot.subplots(ncols=1, nrows=1, figsize=(10, 5))\n",
    "(river_depths_all[[\"slope_mean_0.05km\", 'slope_mean_0.5km']]*1000).plot(ax=ax)\n",
    "river_depths[[\"bed_elevation_Neal_et_al\", \"bed_elevation_Rupp_and_Smart\"]].plot(ax=ax)"
   ]
  },
  {
   "cell_type": "code",
   "execution_count": null,
   "id": "bba5db4f",
   "metadata": {},
   "outputs": [],
   "source": [
    "river_depths_all[[\"min_z_centre_unimodal\"]].plot()"
   ]
  },
  {
   "cell_type": "code",
   "execution_count": null,
   "id": "c5060c6d",
   "metadata": {},
   "outputs": [],
   "source": [
    "river_depths.head(0)"
   ]
  },
  {
   "cell_type": "code",
   "execution_count": null,
   "id": "ce1b71d7",
   "metadata": {},
   "outputs": [],
   "source": [
    "river_depths_all[[\"valid\", \"valid_widths\", \"valid_threhold\", \"slope_mean_0.05km\"]].plot()"
   ]
  },
  {
   "cell_type": "code",
   "execution_count": null,
   "id": "9b05f033",
   "metadata": {},
   "outputs": [],
   "source": [
    "river_depths[[\"bed_elevation_Neal_et_al\", \"bed_elevation_Rupp_and_Smart\", \"bank_height\"]].plot()"
   ]
  },
  {
   "cell_type": "code",
   "execution_count": null,
   "id": "52fd6115",
   "metadata": {},
   "outputs": [],
   "source": [
    "river_depths[[\"width\", \"flat_widths_mean_0.05km\"]].plot()"
   ]
  },
  {
   "cell_type": "code",
   "execution_count": null,
   "id": "05a5b3fa",
   "metadata": {},
   "outputs": [],
   "source": [
    "river_depths[[\"depth_Neal_et_al\", \"flood_depth_Neal_et_al\"]].plot()"
   ]
  },
  {
   "cell_type": "code",
   "execution_count": null,
   "id": "87724474",
   "metadata": {},
   "outputs": [],
   "source": [
    "river_depths_all[[\"valid_threhold\", \"thresholds_mean_0.05km\", \"thresholds_mean_0.15km\", \"thresholds_mean_0.2km\", \"thresholds_mean_0.25km\"]].plot() # \"threshold\", "
   ]
  },
  {
   "cell_type": "code",
   "execution_count": null,
   "id": "f4262e2e",
   "metadata": {},
   "outputs": [],
   "source": [
    "pandas.concat({\"Depth\":(river_depths_all[\"min_z_centre_unimodal\"] - river_depths[\"depth_Neal_et_al\"]),\n",
    "               \"Flood Depth\": (river_depths_all[\"min_z_centre_unimodal\"] - river_depths[\"flood_depth_Neal_et_al\"] + river_depths_all[\"thresholds_mean_0.05km\"]),\n",
    "               \"Flood Depth 0.25\": (river_depths_all[\"min_z_centre_unimodal\"] - river_depths[\"flood_depth_Neal_et_al\"] + river_depths_all[\"thresholds_mean_0.25km\"])},axis=1).plot()"
   ]
  },
  {
   "cell_type": "code",
   "execution_count": null,
   "id": "1bfb8493",
   "metadata": {},
   "outputs": [],
   "source": [
    "(river_depths_all[\"min_z_centre_unimodal\"] - river_depths[\"depth_Neal_et_al\"] + river_depths_all[\"thresholds_mean_0.05km\"]).plot()"
   ]
  },
  {
   "cell_type": "code",
   "execution_count": null,
   "id": "d1611dff",
   "metadata": {},
   "outputs": [],
   "source": [
    "(river_depths_all[\"min_z_centre_unimodal\"] - river_depths[\"flood_depth_Neal_et_al\"] + river_depths_all[\"thresholds_mean_0.05km\"]).plot()"
   ]
  },
  {
   "cell_type": "code",
   "execution_count": null,
   "id": "2db22306",
   "metadata": {},
   "outputs": [],
   "source": [
    "(river_depths_all[\"min_z_centre_unimodal\"] - river_depths[\"flood_depth_Neal_et_al\"] + river_depths_all[\"threshold\"]).plot()"
   ]
  },
  {
   "cell_type": "code",
   "execution_count": null,
   "id": "c37eb44e",
   "metadata": {},
   "outputs": [],
   "source": []
  }
 ],
 "metadata": {
  "kernelspec": {
   "display_name": "Python [conda env:raster]",
   "language": "python",
   "name": "conda-env-raster-py"
  },
  "language_info": {
   "codemirror_mode": {
    "name": "ipython",
    "version": 3
   },
   "file_extension": ".py",
   "mimetype": "text/x-python",
   "name": "python",
   "nbconvert_exporter": "python",
   "pygments_lexer": "ipython3",
   "version": "3.11.3"
  }
 },
 "nbformat": 4,
 "nbformat_minor": 5
}
