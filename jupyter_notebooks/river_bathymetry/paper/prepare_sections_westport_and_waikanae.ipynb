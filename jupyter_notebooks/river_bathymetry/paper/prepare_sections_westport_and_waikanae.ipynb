{
 "cells": [
  {
   "cell_type": "code",
   "execution_count": 1,
   "id": "bb319d0c",
   "metadata": {},
   "outputs": [
    {
     "data": {
      "text/html": [
       "<style>.container { width:100% !important; }</style>"
      ],
      "text/plain": [
       "<IPython.core.display.HTML object>"
      ]
     },
     "metadata": {},
     "output_type": "display_data"
    }
   ],
   "source": [
    "import geopandas\n",
    "import pandas\n",
    "import pathlib\n",
    "import shapely\n",
    "import numpy\n",
    "from IPython.display import display, HTML\n",
    "\n",
    "display(HTML(\"<style>.container { width:100% !important; }</style>\"))"
   ]
  },
  {
   "cell_type": "code",
   "execution_count": 2,
   "id": "dafd04e3",
   "metadata": {},
   "outputs": [],
   "source": [
    "crs=2193"
   ]
  },
  {
   "cell_type": "code",
   "execution_count": 12,
   "id": "0924b87c",
   "metadata": {},
   "outputs": [],
   "source": [
    "output_path = pathlib.Path(r\"C:\\Local\\data\\catchments\\measured_sections\")"
   ]
  },
  {
   "cell_type": "markdown",
   "id": "6b3e4d3a",
   "metadata": {},
   "source": [
    "# Westport \n",
    "### Select sections & convert to lines\n",
    "Includes sections Section7, Section8, Section9, Section10"
   ]
  },
  {
   "cell_type": "code",
   "execution_count": 3,
   "id": "cd91896d",
   "metadata": {},
   "outputs": [],
   "source": [
    "base_path = pathlib.Path(r\"C:\\Local\\data\\river_bathemetry\\sections\\Westport\")"
   ]
  },
  {
   "cell_type": "code",
   "execution_count": 4,
   "id": "993a9802",
   "metadata": {},
   "outputs": [],
   "source": [
    "sections_to_keep = ['Section1', 'Section2', 'Section2A', 'Section2B', 'Section3', 'Section3A', 'Section4', 'Section5', 'Section6',\n",
    "                    'Section7', 'Section8', 'Section9', 'Section10', 'Section11', 'Section12', 'Section13', 'Section14',\n",
    "                    'Section15', 'Section16', 'Section21', 'Section22', 'Section23', 'Section24', 'Section25', 'Section26']"
   ]
  },
  {
   "cell_type": "code",
   "execution_count": 7,
   "id": "444b0871",
   "metadata": {},
   "outputs": [
    {
     "name": "stdout",
     "output_type": "stream",
     "text": [
      "CRS's should match. True\n"
     ]
    }
   ],
   "source": [
    "sections = geopandas.read_file(base_path / \"3738_Buller_River_October_2021\" / \"3738_Buller_River_October_2021_NZVD2016.geojson\")\n",
    "print(f\"CRS's should match. {crs == sections.crs}\")\n",
    "sections = sections.query('Name in @sections_to_keep')\n",
    "sections = sections.groupby(['Name'])['geometry'].apply(lambda x: shapely.geometry.LineString(x.tolist())).set_crs(crs)\n",
    "sections = sections.reindex(index = sections_to_keep)"
   ]
  },
  {
   "cell_type": "code",
   "execution_count": 11,
   "id": "e34c0024",
   "metadata": {},
   "outputs": [],
   "source": [
    "#sections.plot()"
   ]
  },
  {
   "cell_type": "code",
   "execution_count": 13,
   "id": "4645510a",
   "metadata": {},
   "outputs": [],
   "source": [
    "sections.to_file(output_path / \"westport\" / \"measured_sections.geojson\")"
   ]
  },
  {
   "cell_type": "raw",
   "id": "0906dfa7",
   "metadata": {},
   "source": [
    "outline = geopandas.read_file(base_path / \"river_outlines\" / \"small\" / \"river_outline.geojson\")"
   ]
  },
  {
   "cell_type": "markdown",
   "id": "531149dc",
   "metadata": {},
   "source": [
    "# Waiakane\n",
    "### Convert sections to lines"
   ]
  },
  {
   "cell_type": "code",
   "execution_count": 14,
   "id": "82811c3b",
   "metadata": {},
   "outputs": [],
   "source": [
    "base_path = pathlib.Path(r\"C:\\Local\\data\\river_bathemetry\\sections\\Waikanae\")"
   ]
  },
  {
   "cell_type": "code",
   "execution_count": 19,
   "id": "5de97f05",
   "metadata": {},
   "outputs": [],
   "source": [
    "sections = geopandas.read_file(base_path / \"Waikanae_Cross_Sections_NIWA\" / \"2014_Survey_XS_NZVD2016.geojson\")\n",
    "sections = sections.groupby(['Section'])['geometry'].apply(lambda x: shapely.geometry.LineString(x.tolist())).set_crs(crs)"
   ]
  },
  {
   "cell_type": "code",
   "execution_count": 21,
   "id": "75e8ae76",
   "metadata": {},
   "outputs": [
    {
     "data": {
      "text/plain": [
       "<Axes: >"
      ]
     },
     "execution_count": 21,
     "metadata": {},
     "output_type": "execute_result"
    },
    {
     "data": {
      "image/png": "[encoded data removed]",
      "text/plain": [
       "<Figure size 640x480 with 1 Axes>"
      ]
     },
     "metadata": {},
     "output_type": "display_data"
    }
   ],
   "source": [
    "#sections.plot()"
   ]
  },
  {
   "cell_type": "code",
   "execution_count": 22,
   "id": "7e5281c8",
   "metadata": {},
   "outputs": [],
   "source": [
    "sections.to_file(output_path / \"waikanae\" / \"measured_sections.geojson\")"
   ]
  },
  {
   "cell_type": "code",
   "execution_count": null,
   "id": "382f70aa",
   "metadata": {},
   "outputs": [],
   "source": []
  }
 ],
 "metadata": {
  "kernelspec": {
   "display_name": "Python [conda env:raster]",
   "language": "python",
   "name": "conda-env-raster-py"
  },
  "language_info": {
   "codemirror_mode": {
    "name": "ipython",
    "version": 3
   },
   "file_extension": ".py",
   "mimetype": "text/x-python",
   "name": "python",
   "nbconvert_exporter": "python",
   "pygments_lexer": "ipython3",
   "version": "3.11.1"
  }
 },
 "nbformat": 4,
 "nbformat_minor": 5
}
