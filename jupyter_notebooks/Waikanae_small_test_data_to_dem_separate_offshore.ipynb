{
 "cells": [
  {
   "cell_type": "code",
   "execution_count": null,
   "metadata": {},
   "outputs": [],
   "source": [
    "import rioxarray\n",
    "import rioxarray.merge\n",
    "import xarray\n",
    "import geopandas\n",
    "import shapely.geometry\n",
    "import shapely.ops\n",
    "import rasterio\n",
    "import numpy\n",
    "import matplotlib.pyplot\n",
    "import pathlib\n",
    "import pdal\n",
    "import json\n",
    "\n",
    "from IPython.core.display import display, HTML\n",
    "display(HTML(\"<style>.container { width:100% !important; }</style>\"))"
   ]
  },
  {
   "cell_type": "markdown",
   "metadata": {},
   "source": [
    "# Setup paths"
   ]
  },
  {
   "cell_type": "code",
   "execution_count": null,
   "metadata": {},
   "outputs": [],
   "source": [
    "base_path = pathlib.Path(r'C:\\Users\\pearsonra\\Documents\\data\\Wakanae\\Small_test_site')\n",
    "initial_path = pathlib.Path(r'initial_data')\n",
    "destination_path = pathlib.Path(r'final_data')\n",
    "\n",
    "if not (base_path/destination_path).is_dir():\n",
    "    (base_path/destination_path).mkdir()\n",
    "\n",
    "boundary_name = pathlib.Path(r'boundary\\boundary.shp')\n",
    "coast_name = pathlib.Path(r'north_island\\north_island.shp')\n",
    "background_dem_name = pathlib.Path(r'background_dem\\NZDEM_SoS_v1-0_16_Wellington_gf.tif')\n",
    "background_bathymetry_name = pathlib.Path(r'background_bathymetry\\sounding-points-hydro-122k-190k.shp')\n",
    "lidar_name = pathlib.Path(r'points.laz')\n",
    "\n",
    "destination_points_name = pathlib.Path(r'combined_points')\n",
    "destination_dem_name_stub = pathlib.Path(r'created_dem')"
   ]
  },
  {
   "cell_type": "markdown",
   "metadata": {},
   "source": [
    "# Set resolution"
   ]
  },
  {
   "cell_type": "code",
   "execution_count": null,
   "metadata": {},
   "outputs": [],
   "source": [
    "resolution = 10"
   ]
  },
  {
   "cell_type": "markdown",
   "metadata": {},
   "source": [
    "# Load in data"
   ]
  },
  {
   "cell_type": "code",
   "execution_count": null,
   "metadata": {},
   "outputs": [],
   "source": [
    "catchment_boundary = geopandas.read_file(base_path/initial_path/boundary_name)\n",
    "north_island = geopandas.read_file(base_path/initial_path/coast_name)\n",
    "bathymetry = geopandas.read_file(base_path/initial_path/background_bathymetry_name)\n",
    "background_dem = rioxarray.rioxarray.open_rasterio(base_path/initial_path/background_dem_name, masked=True)"
   ]
  },
  {
   "cell_type": "markdown",
   "metadata": {},
   "source": [
    "# Set to same projection"
   ]
  },
  {
   "cell_type": "code",
   "execution_count": null,
   "metadata": {},
   "outputs": [],
   "source": [
    "crs = 2193\n",
    "catchment_boundary = catchment_boundary.to_crs(crs)\n",
    "north_island = north_island.to_crs(crs)\n",
    "bathymetry = bathymetry.to_crs(crs)\n",
    "background_dem.rio.set_crs(crs);"
   ]
  },
  {
   "cell_type": "markdown",
   "metadata": {},
   "source": [
    "# Get land catchment and buffered land catchment"
   ]
  },
  {
   "cell_type": "code",
   "execution_count": null,
   "metadata": {},
   "outputs": [],
   "source": [
    "catchment_boundary_land = geopandas.clip(catchment_boundary, north_island)\n",
    "bathymetry_in_catchment = geopandas.clip(bathymetry, catchment_boundary)"
   ]
  },
  {
   "cell_type": "markdown",
   "metadata": {},
   "source": [
    "# Define raster origin and size"
   ]
  },
  {
   "cell_type": "code",
   "execution_count": null,
   "metadata": {},
   "outputs": [],
   "source": [
    "raster_origin = [catchment_boundary.loc[0].geometry.bounds[0], catchment_boundary.loc[0].geometry.bounds[1]]\n",
    "raster_size = [int((catchment_boundary.loc[0].geometry.bounds[2] - catchment_boundary.loc[0].geometry.bounds[0]) / resolution), int((catchment_boundary.loc[0].geometry.bounds[3] - catchment_boundary.loc[0].geometry.bounds[1]) / resolution)]"
   ]
  },
  {
   "cell_type": "markdown",
   "metadata": {},
   "source": [
    "# Load in LiDAR and trim to boundary"
   ]
  },
  {
   "cell_type": "code",
   "execution_count": null,
   "metadata": {},
   "outputs": [],
   "source": [
    "lidar_file_name = base_path/initial_path/lidar_name\n",
    "\n",
    "pdal_pipeline_instructions = [\n",
    "    {\"type\":  \"readers.las\", \"filename\": str(lidar_file_name)},\n",
    "    {\"type\":\"filters.reprojection\",\"out_srs\":\"EPSG:\" + str(crs)}, # reproject to NZTM\n",
    "    {\"type\":\"filters.crop\", \"polygon\":str(catchment_boundary_land.loc[0].geometry)}, # filter within boundary\n",
    "    {\"type\" : \"filters.hexbin\"} # create a polygon boundary of the LiDAR\n",
    "]\n",
    "\n",
    "pdal_pipeline = pdal.Pipeline(json.dumps(pdal_pipeline_instructions))\n",
    "pdal_pipeline.execute();\n",
    "\n",
    "lidar_array = pdal_pipeline.arrays[0]"
   ]
  },
  {
   "cell_type": "markdown",
   "metadata": {},
   "source": [
    "# Trim background DEM outside LiDAR and inside coast"
   ]
  },
  {
   "cell_type": "code",
   "execution_count": null,
   "metadata": {},
   "outputs": [],
   "source": [
    "metadata=json.loads(pdal_pipeline.get_metadata())\n",
    "lidar_boundary=shapely.wkt.loads(metadata['metadata']['filters.hexbin']['boundary'])"
   ]
  },
  {
   "cell_type": "markdown",
   "metadata": {},
   "source": [
    "Filter areas less than some percentage"
   ]
  },
  {
   "cell_type": "code",
   "execution_count": null,
   "metadata": {},
   "outputs": [],
   "source": [
    "percentage_to_drop = 5\n",
    "area_to_drop = shapely.geometry.Polygon(lidar_boundary.exterior).area * percentage_to_drop / 100\n",
    "filtered_lidar_boundary = shapely.geometry.Polygon(lidar_boundary.exterior.coords,\n",
    "            [interior for interior in lidar_boundary.interiors if shapely.geometry.Polygon(interior).area > area_to_drop])\n",
    "filtered_lidar_boundary=geopandas.GeoSeries([filtered_lidar_boundary])"
   ]
  },
  {
   "cell_type": "markdown",
   "metadata": {},
   "source": [
    "Filter DEM inside the LiDAR region"
   ]
  },
  {
   "cell_type": "code",
   "execution_count": null,
   "metadata": {},
   "outputs": [],
   "source": [
    "lidar_filtered_background_dem = background_dem.rio.clip([filtered_lidar_boundary.loc[0]], invert=True)\n",
    "lidar_filtered_background_dem_in_catchment = lidar_filtered_background_dem.rio.clip(catchment_boundary_land.geometry)"
   ]
  },
  {
   "cell_type": "markdown",
   "metadata": {},
   "source": [
    "# Create a coast buffer"
   ]
  },
  {
   "cell_type": "code",
   "execution_count": null,
   "metadata": {},
   "outputs": [],
   "source": [
    "buffered_north_island = geopandas.GeoDataFrame(index=[0], geometry=north_island.buffer(resolution * 2), crs=crs)\n",
    "coast_buffer = geopandas.clip(geopandas.overlay(buffered_north_island, north_island, how='difference'), catchment_boundary)\n",
    "\n",
    "catchment_boundary_buffered_land = geopandas.clip(catchment_boundary, north_island.buffer(resolution * 3))"
   ]
  },
  {
   "cell_type": "markdown",
   "metadata": {},
   "source": [
    "# LiDAR coast buffer\n",
    "Load in LiDAR within the coast buffer region. "
   ]
  },
  {
   "cell_type": "code",
   "execution_count": null,
   "metadata": {},
   "outputs": [],
   "source": [
    "pdal_pipeline_instructions = [\n",
    "    {\"type\":  \"readers.las\", \"filename\": str(lidar_file_name)},\n",
    "    {\"type\":\"filters.reprojection\",\"out_srs\":\"EPSG:\" + str(crs)}, # reproject to NZTM\n",
    "    {\"type\":\"filters.crop\", \"polygon\":str(coast_buffer.loc[0].geometry)}, # filter within coast buffer boundary\n",
    "    {\"type\" : \"filters.hexbin\"}\n",
    "]\n",
    "\n",
    "pdal_pipeline = pdal.Pipeline(json.dumps(pdal_pipeline_instructions))\n",
    "pdal_pipeline.execute();\n",
    "\n",
    "lidar_coast_buffer_array = pdal_pipeline.arrays[0]"
   ]
  },
  {
   "cell_type": "markdown",
   "metadata": {},
   "source": [
    "Extract the boundary of the LiDAR measurements in the coast buffer and trim the DEM inside the coast buffer region but not where there is LiDAR."
   ]
  },
  {
   "cell_type": "code",
   "execution_count": null,
   "metadata": {},
   "outputs": [],
   "source": [
    "metadata=json.loads(pdal_pipeline.get_metadata())\n",
    "lidar_coast_boundary=geopandas.GeoDataFrame(index=[0], geometry=[shapely.wkt.loads(metadata['metadata']['filters.hexbin']['boundary'])], crs=crs)\n",
    "coast_buffer_no_lidar_boundary = geopandas.overlay(coast_buffer, lidar_coast_boundary, how='difference')"
   ]
  },
  {
   "cell_type": "markdown",
   "metadata": {},
   "source": [
    "Trim the background DEM to within the coast buffer where there is no LiDAR"
   ]
  },
  {
   "cell_type": "code",
   "execution_count": null,
   "metadata": {},
   "outputs": [],
   "source": [
    "lidar_filtered_background_dem_coast_buffer = background_dem.rio.clip(coast_buffer_no_lidar_boundary.geometry)"
   ]
  },
  {
   "cell_type": "markdown",
   "metadata": {},
   "source": [
    "Set the LiDAR and DEM values in the buffer region to zero (unless already negative)"
   ]
  },
  {
   "cell_type": "code",
   "execution_count": null,
   "metadata": {},
   "outputs": [],
   "source": [
    "lidar_filtered_background_dem_coast_buffer.data[0][lidar_filtered_background_dem_coast_buffer.data[0]>0] = 0\n",
    "\n",
    "lidar_coast_buffer_array['Z'][lidar_coast_buffer_array['Z']>0] = 0"
   ]
  },
  {
   "cell_type": "markdown",
   "metadata": {},
   "source": [
    "# Combined land and coast buffer values\n",
    "Note - there is the possibility this will miss portions of coast if the background DEM or LiDAR is not defined out to sea. In this case we will need to set these values to zero - could set values in DEM prior to cutting."
   ]
  },
  {
   "cell_type": "code",
   "execution_count": null,
   "metadata": {},
   "outputs": [],
   "source": [
    "dem_x, dem_y = numpy.meshgrid(lidar_filtered_background_dem_in_catchment.x, lidar_filtered_background_dem_in_catchment.y)\n",
    "dem_z = lidar_filtered_background_dem_in_catchment.data[0].flatten()\n",
    "dem_filtered_x = dem_x.flatten()[~numpy.isnan(dem_z)]\n",
    "dem_filtered_y = dem_y.flatten()[~numpy.isnan(dem_z)]\n",
    "dem_filtered_z = dem_z[~numpy.isnan(dem_z)]\n",
    "\n",
    "\n",
    "dem_x, dem_y = numpy.meshgrid(lidar_filtered_background_dem_coast_buffer.x, lidar_filtered_background_dem_coast_buffer.y)\n",
    "dem_z = lidar_filtered_background_dem_coast_buffer.data[0].flatten()\n",
    "dem_coast_buffered_x = dem_x.flatten()[~numpy.isnan(dem_z)]\n",
    "dem_coast_buffered_y = dem_y.flatten()[~numpy.isnan(dem_z)]\n",
    "dem_coast_buffered_z = dem_z[~numpy.isnan(dem_z)]\n",
    "\n",
    "dem_points = numpy.zeros_like(lidar_array, shape=[len(dem_filtered_x) + len(dem_coast_buffered_x)])\n",
    "dem_points['X'] = numpy.concatenate([dem_filtered_x, dem_coast_buffered_x])\n",
    "dem_points['Y'] = numpy.concatenate([dem_filtered_y, dem_coast_buffered_y])\n",
    "dem_points['Z'] = numpy.concatenate([dem_filtered_z, dem_coast_buffered_z])\n",
    "\n",
    "combined_dense_points_array = numpy.concatenate([lidar_array, lidar_coast_buffer_array, dem_points])"
   ]
  },
  {
   "cell_type": "markdown",
   "metadata": {},
   "source": [
    "# Create Raster where dense data\n",
    "Land and coast buffer"
   ]
  },
  {
   "cell_type": "code",
   "execution_count": null,
   "metadata": {},
   "outputs": [],
   "source": [
    "dem_file_name_stub = base_path/destination_path/destination_dem_name_stub\n",
    "\n",
    "window_size = 0\n",
    "idw_power = 2\n",
    "radius =  resolution * numpy.sqrt(2)\n",
    "\n",
    "pdal_pipeline_instructions = [\n",
    "    {\"type\":  \"writers.gdal\", \"resolution\": resolution, \"gdalopts\": \"a_srs=EPSG:\" + str(crs), \"output_type\":[\"idw\"], \n",
    "     \"filename\": str(dem_file_name_stub) + \"_dense_only_window_\" + str(window_size) + \"_power_\" + str(idw_power) + \"_radius_\" + str(radius) + \".tiff\", \n",
    "     \"window_size\": window_size, \"power\": idw_power, \"radius\": radius, \n",
    "     \"origin_x\": raster_origin[0], \"origin_y\": raster_origin[1], \"width\": raster_size[0], \"height\": raster_size[1]}\n",
    "]\n",
    "\n",
    "pdal_pipeline = pdal.Pipeline(json.dumps(pdal_pipeline_instructions), [combined_dense_points_array])\n",
    "pdal_pipeline.execute();\n"
   ]
  },
  {
   "cell_type": "markdown",
   "metadata": {},
   "source": [
    "# Load in the generated dense DEM and pull out values within the coast buffer"
   ]
  },
  {
   "cell_type": "code",
   "execution_count": null,
   "metadata": {},
   "outputs": [],
   "source": [
    "metadata=json.loads(pdal_pipeline.get_metadata())\n",
    "dense_dem = rioxarray.rioxarray.open_rasterio(metadata['metadata']['writers.gdal']['filename'][0], masked=True)\n",
    "dense_dem.rio.set_crs(crs);\n",
    "coast_buffer_dense_dem = dense_dem.rio.clip(coast_buffer.geometry)"
   ]
  },
  {
   "cell_type": "markdown",
   "metadata": {},
   "source": [
    "# Combine Bathymetry and coastal buffer raster"
   ]
  },
  {
   "cell_type": "code",
   "execution_count": null,
   "metadata": {},
   "outputs": [],
   "source": [
    "lidar_array = pdal_pipeline.arrays[0]\n",
    "\n",
    "dem_x, dem_y = numpy.meshgrid(coast_buffer_dense_dem.x, coast_buffer_dense_dem.y)\n",
    "dem_z = coast_buffer_dense_dem.data[0].flatten()\n",
    "dem_dense_buffer_x = dem_x.flatten()[~numpy.isnan(dem_z)]\n",
    "dem_dense_buffer_y = dem_y.flatten()[~numpy.isnan(dem_z)]\n",
    "dem_dense_buffer_z = dem_z[~numpy.isnan(dem_z)]\n",
    "\n",
    "bathymetry_x = bathymetry_in_catchment.apply(lambda x : x['geometry'][0].x,axis=1).to_numpy()\n",
    "bathymetry_y = bathymetry_in_catchment.apply(lambda x : x['geometry'][0].y,axis=1).to_numpy()\n",
    "bathymetry_z = bathymetry_in_catchment.apply(lambda x : x['geometry'][0].z,axis=1).to_numpy() * -1 # map depth to elevatation\n",
    "\n",
    "offshore_x = numpy.concatenate([dem_dense_buffer_x, bathymetry_x])\n",
    "offshore_y = numpy.concatenate([dem_dense_buffer_y, bathymetry_y])\n",
    "offshore_z = numpy.concatenate([dem_dense_buffer_z, bathymetry_z])\n",
    "\n",
    "offshore_points = numpy.zeros_like(lidar_array, shape=[len(offshore_x)])\n",
    "offshore_points['X'] = offshore_x\n",
    "offshore_points['Y'] = offshore_y\n",
    "offshore_points['Z'] = offshore_z"
   ]
  },
  {
   "cell_type": "markdown",
   "metadata": {},
   "source": [
    "# Create offshore raster"
   ]
  },
  {
   "cell_type": "code",
   "execution_count": null,
   "metadata": {},
   "outputs": [],
   "source": [
    "pdal_pipeline_instructions = [\n",
    "    {\"type\":  \"filters.delaunay\"},\n",
    "    {\"type\": \"filters.faceraster\", \"resolution\": resolution, \"width\": raster_size[0], \"height\": raster_size[1], \"origin_x\": raster_origin[0], \"origin_y\": raster_origin[1]},\n",
    "    {\"type\": \"writers.raster\", \"filename\":str(dem_file_name_stub) + \"_offshore_only_from_delaunay.tiff\"}\n",
    "]\n",
    "\n",
    "pdal_pipeline = pdal.Pipeline(json.dumps(pdal_pipeline_instructions), [offshore_points])\n",
    "pdal_pipeline.execute();"
   ]
  },
  {
   "cell_type": "markdown",
   "metadata": {},
   "source": [
    "# Load in offshore raster"
   ]
  },
  {
   "cell_type": "code",
   "execution_count": null,
   "metadata": {},
   "outputs": [],
   "source": [
    "metadata=json.loads(pdal_pipeline.get_metadata())\n",
    "offshore_dem = rioxarray.rioxarray.open_rasterio(metadata['metadata']['writers.raster']['filename'][0], masked=True)\n",
    "offshore_dem.rio.set_crs(crs);"
   ]
  },
  {
   "cell_type": "markdown",
   "metadata": {},
   "source": [
    "# Combine and fill DEMs"
   ]
  },
  {
   "cell_type": "code",
   "execution_count": null,
   "metadata": {},
   "outputs": [],
   "source": [
    "combined_dem = rioxarray.merge.merge_arrays([dense_dem, offshore_dem], method= \"first\")\n",
    "combined_dem_filled = combined_dem.rio.interpolate_na()"
   ]
  },
  {
   "cell_type": "markdown",
   "metadata": {},
   "source": [
    "# Save results"
   ]
  },
  {
   "cell_type": "code",
   "execution_count": null,
   "metadata": {},
   "outputs": [],
   "source": [
    "combined_dem.to_netcdf(str(dem_file_name_stub) + \"_combined_dem.nc\")\n",
    "combined_dem_filled.to_netcdf(str(dem_file_name_stub) + \"_combined_dem_filled.nc\")"
   ]
  },
  {
   "cell_type": "code",
   "execution_count": null,
   "metadata": {},
   "outputs": [],
   "source": []
  }
 ],
 "metadata": {
  "kernelspec": {
   "display_name": "Python [conda env:lidar]",
   "language": "python",
   "name": "conda-env-lidar-py"
  },
  "language_info": {
   "codemirror_mode": {
    "name": "ipython",
    "version": 3
   },
   "file_extension": ".py",
   "mimetype": "text/x-python",
   "name": "python",
   "nbconvert_exporter": "python",
   "pygments_lexer": "ipython3",
   "version": "3.9.4"
  }
 },
 "nbformat": 4,
 "nbformat_minor": 2
}
