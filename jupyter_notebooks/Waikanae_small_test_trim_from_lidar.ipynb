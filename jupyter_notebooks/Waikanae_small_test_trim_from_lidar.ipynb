{
 "cells": [
  {
   "cell_type": "code",
   "execution_count": null,
   "metadata": {},
   "outputs": [],
   "source": [
    "import rioxarray\n",
    "import xarray\n",
    "import geopandas\n",
    "import shapely.geometry\n",
    "import shapely.ops\n",
    "import rasterio\n",
    "import rasterio.mask\n",
    "import numpy\n",
    "import matplotlib.pyplot\n",
    "import scipy.ndimage\n",
    "import scipy.interpolate\n",
    "mport scipy.spatial\n",
    "import pathlib\n",
    "import pdal\n",
    "import json"
   ]
  },
  {
   "cell_type": "markdown",
   "metadata": {},
   "source": [
    "# Setup paths"
   ]
  },
  {
   "cell_type": "code",
   "execution_count": null,
   "metadata": {},
   "outputs": [],
   "source": [
    "base_path = pathlib.Path(r'C:\\Users\\pearsonra\\Documents\\data\\Wakanae\\Small_test_site')\n",
    "destination_path = pathlib.Path(r'trimmed_data')\n",
    "boundary_name = pathlib.Path(r'boundary\\boundary.shp')\n",
    "lidar_name = pathlib.Path(r'points.laz')\n",
    "\n",
    "destination_dem_name = pathlib.Path(r'dem.nc')\n",
    "destination_bathymetry_name = pathlib.Path(r'offshore_bathymetry')\n",
    "destination_boundary_name = pathlib.Path(r'boundary')"
   ]
  },
  {
   "cell_type": "markdown",
   "metadata": {},
   "source": [
    "# Load in data"
   ]
  },
  {
   "cell_type": "code",
   "execution_count": null,
   "metadata": {},
   "outputs": [],
   "source": [
    "boundary = geopandas.read_file(base_path/destination_path/boundary_name)\n",
    "bathymetry_trimmed = geopandas.read_file(base_path/destination_path/destination_bathymetry_name)\n",
    "dem_trimmed = rioxarray.rioxarray.open_rasterio(base_path/destination_path/destination_dem_name, masked=True)"
   ]
  },
  {
   "cell_type": "markdown",
   "metadata": {},
   "source": [
    "### Read in LiDAR with relevant processing\n",
    "*  Note will need to worry about ensuring we are in the right crs later. I will ignore this for now. In future may be able to use the 'reprojection' option discussed here: https://pdal.io/tutorial/las.html\n",
    "*  May also want to filter to only keep data within a polygon (i.e. remove LiDAR outside the catchment). It seems filters.crop should do the ticket. https://pdal.io/stages/filters.crop.html#filters-crop\n",
    "*  May also want to create a polygon of the LiDAR extents to then filter the DEM. It looks like this can be done with filters. hexbin. https://pdal.io/stages/filters.hexbin.html#filters-hexbin"
   ]
  },
  {
   "cell_type": "code",
   "execution_count": null,
   "metadata": {},
   "outputs": [],
   "source": [
    "pdal_pipeline_instructions = [\n",
    "    {\"type\":  \"readers.las\", \"filename\": str(lidar_file_name)}\n",
    "    #{\"type\":\"filters.crop\", \"polygon\":\"POINT(0 0 0)\"} - this may allow for the data to be filtered as loaded boundary.loc[0]\n",
    "]\n",
    "\n",
    "pdal_pipeline = pdal.Pipeline(json.dumps(pdal_pipeline_instructions))\n",
    "pdal_pipeline.execute();"
   ]
  },
  {
   "cell_type": "markdown",
   "metadata": {},
   "source": [
    "# Set to same projection"
   ]
  },
  {
   "cell_type": "code",
   "execution_count": null,
   "metadata": {},
   "outputs": [],
   "source": [
    "crs = 2193\n",
    "boundary = boundary.to_crs(crs)\n",
    "bathymetry_trimmed = bathymetry_trimmed.to_crs(crs)\n",
    "dem_trimmed.rio.set_crs(crs);"
   ]
  },
  {
   "cell_type": "markdown",
   "metadata": {},
   "source": [
    "# Remove DEM where LiDAR\n",
    "Will try get a polygon of hte DEM extents as part of the PDAL processing pipeline. Create a polygon of the LiDAR extents to then filter the DEM. It looks like this can be done with filters. hexbin. https://pdal.io/stages/filters.hexbin.html#filters-hexbin"
   ]
  },
  {
   "cell_type": "code",
   "execution_count": null,
   "metadata": {},
   "outputs": [],
   "source": [
    "metadata=json.loads(pdal_pipeline.get_metadata())\n",
    "metadata['metadata']['readers.las'];"
   ]
  },
  {
   "cell_type": "code",
   "execution_count": null,
   "metadata": {},
   "outputs": [],
   "source": [
    "pdal_pipeline.arrays[0]['X']"
   ]
  },
  {
   "cell_type": "markdown",
   "metadata": {},
   "source": [
    "# Look at creating a DEM\n",
    "There a re a few options here. \n",
    "* Look for routine in a library like PDAL\n",
    "* Code up a simple routine myself using a KDTree or something similar\n",
    "\n",
    "`tree = scipy.spatial.KDTree(numpy.c_[pdal_pipeline.arrays[0]['X'].ravel(), pdal_pipeline.arrays[0]['X'].ravel()])`"
   ]
  },
  {
   "cell_type": "code",
   "execution_count": null,
   "metadata": {},
   "outputs": [],
   "source": [
    "tree = scipy.spatial.KDTree(numpy.c_[pdal_pipeline.arrays[0]['X'].ravel(), pdal_pipeline.arrays[0]['X'].ravel()])"
   ]
  },
  {
   "cell_type": "markdown",
   "metadata": {},
   "source": [
    "# View background trimmed data"
   ]
  },
  {
   "cell_type": "code",
   "execution_count": null,
   "metadata": {},
   "outputs": [],
   "source": [
    "f, ax = matplotlib.pyplot.subplots(figsize=(15, 10))\n",
    "\n",
    "p = ax.pcolormesh(dem_trimmed.x[:],dem_trimmed.y[:],dem_trimmed.values[0],cmap='viridis', shading='auto')\n",
    "boundary.plot(ax=ax, color='None', edgecolor='lime', linewidth=5)\n",
    "bathymetry_trimmed.plot(ax=ax, marker='o', color='red', markersize=5)\n",
    "matplotlib.pyplot.colorbar(p)\n",
    "\n",
    "ax.set_title(\"Combined\")"
   ]
  },
  {
   "cell_type": "markdown",
   "metadata": {},
   "source": [
    "# Save out combined points and DEM"
   ]
  },
  {
   "cell_type": "code",
   "execution_count": null,
   "metadata": {},
   "outputs": [],
   "source": [
    "#dem_generated.to_netcdf(base_path/destination_path/destination_dem_name)"
   ]
  }
 ],
 "metadata": {
  "kernelspec": {
   "display_name": "Python [conda env:lidar]",
   "language": "python",
   "name": "conda-env-lidar-py"
  },
  "language_info": {
   "codemirror_mode": {
    "name": "ipython",
    "version": 3
   },
   "file_extension": ".py",
   "mimetype": "text/x-python",
   "name": "python",
   "nbconvert_exporter": "python",
   "pygments_lexer": "ipython3",
   "version": "3.9.4"
  }
 },
 "nbformat": 4,
 "nbformat_minor": 2
}
