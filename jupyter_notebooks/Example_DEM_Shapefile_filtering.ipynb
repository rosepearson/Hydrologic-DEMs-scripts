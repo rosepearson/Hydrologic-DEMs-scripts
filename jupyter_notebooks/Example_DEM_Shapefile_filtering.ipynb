{
 "cells": [
  {
   "cell_type": "markdown",
   "metadata": {},
   "source": [
    "# DEM, Shapefile filtering\n",
    "A notebook filtering a DEM based on a shapefile"
   ]
  },
  {
   "cell_type": "code",
   "execution_count": null,
   "metadata": {},
   "outputs": [],
   "source": [
    "import rioxarray\n",
    "import xarray\n",
    "import geopandas\n",
    "import shapely.geometry\n",
    "import rasterio\n",
    "import rasterio.mask\n",
    "import numpy\n",
    "import matplotlib.pyplot\n",
    "import scipy.ndimage"
   ]
  },
  {
   "cell_type": "markdown",
   "metadata": {},
   "source": [
    "## Load in data\n",
    "Note that the LiDAR (and DEMs were downloaded from OpenTopgraphy with EPSG:2193)\n",
    "Horizontal Coordinates: NZGD2000 / New Zealand Transverse Mercator 2000 [EPSG: 2193]\n",
    "Vertical Coordinates: NZVD2016 [EPSG: 7839]"
   ]
  },
  {
   "cell_type": "code",
   "execution_count": null,
   "metadata": {},
   "outputs": [],
   "source": [
    "# from Open Topography\n",
    "dem_tiff=rioxarray.rioxarray.open_rasterio(r'C:\\Users\\pearsonra\\Documents\\data\\herbert_10res\\dem\\dem.tif', masked=True)\n",
    "# from QGIS\n",
    "ocean_shape = geopandas.read_file(r'C:\\Users\\pearsonra\\Documents\\data\\herbert_10res\\fake_coast.shp')"
   ]
  },
  {
   "cell_type": "markdown",
   "metadata": {},
   "source": [
    "## View and correct projections\n",
    "### Projection for DEM"
   ]
  },
  {
   "cell_type": "code",
   "execution_count": null,
   "metadata": {},
   "outputs": [],
   "source": [
    "dem_tiff.rio.crs"
   ]
  },
  {
   "cell_type": "markdown",
   "metadata": {},
   "source": [
    "### Projection from Shape files\n",
    "Set projection based on dem just incase they are different"
   ]
  },
  {
   "cell_type": "code",
   "execution_count": null,
   "metadata": {},
   "outputs": [],
   "source": [
    "ocean_shape = ocean_shape.to_crs(dem_tiff.rio.crs)"
   ]
  },
  {
   "cell_type": "markdown",
   "metadata": {},
   "source": [
    "## View DEM and select region to filter\n",
    "Below the dem and the ocean shape file - saved out of QGIS with a projection."
   ]
  },
  {
   "cell_type": "code",
   "execution_count": null,
   "metadata": {},
   "outputs": [],
   "source": [
    "f, ax = matplotlib.pyplot.subplots(figsize=(10, 5))\n",
    "dem_tiff.plot(cmap=\"Greys_r\",\n",
    "                 ax=ax)\n",
    "ocean_shape.plot(color='None',\n",
    "                    edgecolor='teal',\n",
    "                    linewidth=2,\n",
    "                    ax=ax,\n",
    "                    zorder=4)\n",
    "ax.set_title(\"LiDAR Herbert - with coast projection from QGIS\")\n",
    "#ax.set_axis_off()\n",
    "matplotlib.pyplot.show()"
   ]
  },
  {
   "cell_type": "markdown",
   "metadata": {},
   "source": [
    "The DEM zoomed in on the region to manually create a polygon here"
   ]
  },
  {
   "cell_type": "code",
   "execution_count": null,
   "metadata": {},
   "outputs": [],
   "source": [
    "f, ax = matplotlib.pyplot.subplots(figsize=(10, 5))\n",
    "\n",
    "dem_tiff.plot(cmap=\"Greys_r\", ax=ax)\n",
    "\n",
    "ax.set_title(\"LiDAR Herbert - zoomed in on coast\")\n",
    "matplotlib.pyplot.xlim([1.43222e6, 1.434e6])\n",
    "matplotlib.pyplot.ylim([4.9857e6, 4.9873e6])\n",
    "\n",
    "matplotlib.pyplot.show()"
   ]
  },
  {
   "cell_type": "markdown",
   "metadata": {},
   "source": [
    "## Manually create a polygon"
   ]
  },
  {
   "cell_type": "code",
   "execution_count": null,
   "metadata": {},
   "outputs": [],
   "source": [
    "ocean_manual_shape = shapely.geometry.Polygon([(1.43222e6, 4.9857e6), # x1, y1\n",
    "            (1.43400e6, 4.9857e6), # x2, y1\n",
    "            (1.43400e6, 4.9873e6), # x2, y2\n",
    "            (1.43222e6, 4.9873e6)  # x1, y2\n",
    "        ])\n",
    "ocean_manual_gdf = geopandas.GeoSeries([ocean_manual_shape])"
   ]
  },
  {
   "cell_type": "markdown",
   "metadata": {},
   "source": [
    "## Plot both together"
   ]
  },
  {
   "cell_type": "code",
   "execution_count": null,
   "metadata": {},
   "outputs": [],
   "source": [
    "f, ax = matplotlib.pyplot.subplots(figsize=(10, 5))\n",
    "\n",
    "dem_tiff.plot(cmap=\"Greys_r\", ax=ax)\n",
    "ocean_manual_gdf.plot(color='None', edgecolor='teal', linewidth=2, ax=ax, zorder=4)\n",
    "\n",
    "ax.set_title(\"LiDAR Herbert\")\n",
    "matplotlib.pyplot.show()"
   ]
  },
  {
   "cell_type": "markdown",
   "metadata": {},
   "source": [
    "## Filtering\n",
    "#### Create a simple mask from the shapefile"
   ]
  },
  {
   "cell_type": "code",
   "execution_count": null,
   "metadata": {},
   "outputs": [],
   "source": [
    "ocean_mask=rasterio.features.geometry_mask([ocean_manual_shape], out_shape=(len(dem_tiff.y), len(dem_tiff.x)),\n",
    "                                      transform=dem_tiff.rio.transform(), invert=True)"
   ]
  },
  {
   "cell_type": "code",
   "execution_count": null,
   "metadata": {},
   "outputs": [],
   "source": [
    "f, ax = matplotlib.pyplot.subplots(figsize=(10, 5))\n",
    "p=matplotlib.pyplot.imshow(ocean_mask)\n",
    "f.colorbar(p, ax=ax)"
   ]
  },
  {
   "cell_type": "markdown",
   "metadata": {},
   "source": [
    "#### Combine DEM array with ocean mask and set ocean values to -10"
   ]
  },
  {
   "cell_type": "code",
   "execution_count": null,
   "metadata": {},
   "outputs": [],
   "source": [
    "combined = numpy.copy(dem_tiff.data[0])"
   ]
  },
  {
   "cell_type": "code",
   "execution_count": null,
   "metadata": {},
   "outputs": [],
   "source": [
    "combined[ocean_mask & numpy.isnan(combined)] = -20"
   ]
  },
  {
   "cell_type": "code",
   "execution_count": null,
   "metadata": {},
   "outputs": [],
   "source": [
    "f, ax = matplotlib.pyplot.subplots(figsize=(10, 5))\n",
    "p=matplotlib.pyplot.imshow(combined)\n",
    "f.colorbar(p, ax=ax)"
   ]
  },
  {
   "cell_type": "markdown",
   "metadata": {},
   "source": [
    "#### Perform filtering\n",
    "* Gaussian filter with 20 smoothing\n",
    "  * Note - need to use two array amd combine to deal with NaN's - one with NaN's as 0 and one with NaN's as 1.\n",
    "  * _**Need to figure out how to calculate the sigma value.**_\n",
    "* Currently filtering applied based on all valid data\n",
    "  * Could look at restricting filtering in channels to only data within the channel"
   ]
  },
  {
   "cell_type": "code",
   "execution_count": null,
   "metadata": {},
   "outputs": [],
   "source": [
    "sigma = 0.5 # will need to calculate based on spatial spacing\n",
    "\n",
    "combined_no_nan = numpy.copy(combined)\n",
    "combined_no_nan[numpy.isnan(combined_no_nan)] = 0\n",
    "nan_mask = numpy.ones(combined.shape)\n",
    "nan_mask[numpy.isnan(combined)] = 0\n",
    "smoothed = scipy.ndimage.gaussian_filter(combined_no_nan, sigma=sigma) / scipy.ndimage.gaussian_filter(nan_mask, sigma=sigma)"
   ]
  },
  {
   "cell_type": "markdown",
   "metadata": {},
   "source": [
    "##### _Set values back to NaN_\n",
    "This is more complex than the case that the LiDAR extends all the way to the edge as it is hard to distinguish between internal holes and external missing data"
   ]
  },
  {
   "cell_type": "code",
   "execution_count": null,
   "metadata": {},
   "outputs": [],
   "source": [
    "smoothed[smoothed==0 & numpy.isnan(combined)] = numpy.nan"
   ]
  },
  {
   "cell_type": "markdown",
   "metadata": {},
   "source": [
    "#### Use the smothed array only where no valid data exists"
   ]
  },
  {
   "cell_type": "code",
   "execution_count": null,
   "metadata": {},
   "outputs": [],
   "source": [
    "combined[numpy.isnan(combined)] = smoothed[numpy.isnan(combined)]"
   ]
  },
  {
   "cell_type": "markdown",
   "metadata": {},
   "source": [
    "### Plot results "
   ]
  },
  {
   "cell_type": "code",
   "execution_count": null,
   "metadata": {},
   "outputs": [],
   "source": [
    "#f, ax = matplotlib.pyplot.subplots(figsize=(10, 5))\n",
    "#p=matplotlib.pyplot.imshow(smoothed)\n",
    "\n",
    "f = matplotlib.pyplot.figure(figsize=(15, 5))\n",
    "\n",
    "ax1 = f.add_subplot(121)  # left side\n",
    "p1 = ax1.imshow(dem_tiff.data[0])\n",
    "f.colorbar(p1, ax=ax1)\n",
    "\n",
    "ax2 = f.add_subplot(122)  # right side\n",
    "p2 = ax2.imshow(combined)\n",
    "f.colorbar(p2, ax=ax2)\n",
    "\n",
    "ax1.set_title(\"Original Open Topography DEM\")\n",
    "ax2.set_title(\"Open Topgraphy DEM + smoothing in holes\")"
   ]
  },
  {
   "cell_type": "code",
   "execution_count": null,
   "metadata": {},
   "outputs": [],
   "source": [
    "#show artifacts - bump in channel\n",
    "\n",
    "f = matplotlib.pyplot.figure(figsize=(15, 5))\n",
    "ax1 = f.add_subplot(121)  # left side\n",
    "p1 = ax1.imshow(dem_tiff.data[0], vmin = -5, vmax = 15)\n",
    "matplotlib.pyplot.xlim([500, 880])\n",
    "matplotlib.pyplot.ylim([250, 450])\n",
    "\n",
    "ax2 = f.add_subplot(122)  # right side\n",
    "p2 = ax2.imshow(combined, vmin = -5, vmax = 15)\n",
    "matplotlib.pyplot.xlim([500, 880])\n",
    "matplotlib.pyplot.ylim([250, 450])\n",
    "f.colorbar(p1, ax=ax1)\n",
    "f.colorbar(p2, ax=ax2)\n",
    "\n",
    "ax1.set_title(\"Original Open Topography DEM\")\n",
    "ax2.set_title(\"Open Topgraphy DEM + smoothing in holes\")"
   ]
  },
  {
   "cell_type": "markdown",
   "metadata": {},
   "source": [
    "#### Fill in any missing values with NN\n",
    "Note there is an additional challenge here as LiDAR does not extend to the boundary.\n",
    "\n",
    "This is a common challenge faced by Cyprien. He has explored extrapolating to a very high value around the edge, and also smoothing onto a background DEM (say NZ wide 15m dem)"
   ]
  },
  {
   "cell_type": "code",
   "execution_count": null,
   "metadata": {},
   "outputs": [],
   "source": [
    "rasterio.features.geometry_mask(sf.iloc[0],\n",
    "                                      out_shape=(len(ndvi.y), len(ndvi.x)),\n",
    "                                      transform=ndvi.geobox.transform,\n",
    "                                      invert=True)"
   ]
  }
 ],
 "metadata": {
  "kernelspec": {
   "display_name": "Python [conda env:workspace]",
   "language": "python",
   "name": "conda-env-workspace-py"
  },
  "language_info": {
   "codemirror_mode": {
    "name": "ipython",
    "version": 3
   },
   "file_extension": ".py",
   "mimetype": "text/x-python",
   "name": "python",
   "nbconvert_exporter": "python",
   "pygments_lexer": "ipython3",
   "version": "3.8.8"
  }
 },
 "nbformat": 4,
 "nbformat_minor": 2
}
