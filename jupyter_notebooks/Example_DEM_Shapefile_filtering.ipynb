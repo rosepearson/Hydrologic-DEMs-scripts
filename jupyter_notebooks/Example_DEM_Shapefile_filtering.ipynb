{
 "cells": [
  {
   "cell_type": "markdown",
   "metadata": {},
   "source": [
    "# DEM - hole filling and ocean masking\n",
    "A notebook filtering a DEM with a Gaussian filter for hole filling, and using a shapefile for defining the ocean. Plots are used to demonstrates several challenges with filtering in plots."
   ]
  },
  {
   "cell_type": "code",
   "execution_count": null,
   "metadata": {},
   "outputs": [],
   "source": [
    "import rioxarray\n",
    "import xarray\n",
    "import geopandas\n",
    "import shapely.geometry\n",
    "import rasterio\n",
    "import rasterio.mask\n",
    "import numpy\n",
    "import matplotlib.pyplot\n",
    "import scipy.ndimage\n",
    "import scipy.interpolate"
   ]
  },
  {
   "cell_type": "markdown",
   "metadata": {},
   "source": [
    "# Setup\n",
    "### Parameters\n",
    "sigma of 0.9 is minimum value to fill all holes"
   ]
  },
  {
   "cell_type": "code",
   "execution_count": null,
   "metadata": {},
   "outputs": [],
   "source": [
    "# sigma - defined locally twice\n",
    "depth = -10"
   ]
  },
  {
   "cell_type": "markdown",
   "metadata": {},
   "source": [
    "### Load in data\n",
    "Note that the LiDAR (and DEMs were downloaded from OpenTopgraphy with EPSG:2193)\n",
    "Horizontal Coordinates: NZGD2000 / New Zealand Transverse Mercator 2000 [EPSG: 2193]\n",
    "Vertical Coordinates: NZVD2016 [EPSG: 7839]"
   ]
  },
  {
   "cell_type": "code",
   "execution_count": null,
   "metadata": {},
   "outputs": [],
   "source": [
    "# from Open Topography\n",
    "dem_tiff=rioxarray.rioxarray.open_rasterio(r'C:\\Users\\pearsonra\\Documents\\data\\herbert_10res\\dem\\dem.tif', masked=True)\n",
    "# from QGIS\n",
    "ocean_shape = geopandas.read_file(r'C:\\Users\\pearsonra\\Documents\\data\\herbert_10res\\fake_coast.shp')"
   ]
  },
  {
   "cell_type": "markdown",
   "metadata": {},
   "source": [
    "Ensure dem is appropiately named"
   ]
  },
  {
   "cell_type": "code",
   "execution_count": null,
   "metadata": {},
   "outputs": [],
   "source": [
    "dem_tiff = dem_tiff.rename('z')"
   ]
  },
  {
   "cell_type": "markdown",
   "metadata": {},
   "source": [
    "### View and correct projections\n",
    "#### Projection for DEM"
   ]
  },
  {
   "cell_type": "code",
   "execution_count": null,
   "metadata": {},
   "outputs": [],
   "source": [
    "dem_tiff.rio.crs"
   ]
  },
  {
   "cell_type": "markdown",
   "metadata": {},
   "source": [
    "#### Projection from Shape files\n",
    "Set projection based on dem just incase they are different"
   ]
  },
  {
   "cell_type": "code",
   "execution_count": null,
   "metadata": {},
   "outputs": [],
   "source": [
    "ocean_shape = ocean_shape.to_crs(dem_tiff.rio.crs)"
   ]
  },
  {
   "cell_type": "markdown",
   "metadata": {},
   "source": [
    "### View DEM and selected region to filter\n",
    "Below the dem and the ocean shape file - saved out of QGIS with a projection."
   ]
  },
  {
   "cell_type": "code",
   "execution_count": null,
   "metadata": {},
   "outputs": [],
   "source": [
    "f, ax = matplotlib.pyplot.subplots(figsize=(10, 5))\n",
    "dem_tiff.plot(cmap=\"Greys_r\",\n",
    "                 ax=ax)\n",
    "ocean_shape.plot(color='None', edgecolor='teal', linewidth=2, ax=ax, zorder=4)\n",
    "ax.set_title(\"LiDAR Herbert - with coast projection from QGIS\")\n",
    "matplotlib.pyplot.show()"
   ]
  },
  {
   "cell_type": "markdown",
   "metadata": {},
   "source": [
    "The DEM zoomed in on the region to manually create a polygon here"
   ]
  },
  {
   "cell_type": "code",
   "execution_count": null,
   "metadata": {},
   "outputs": [],
   "source": [
    "f, ax = matplotlib.pyplot.subplots(figsize=(10, 5))\n",
    "\n",
    "dem_tiff.plot(cmap=\"Greys_r\", ax=ax)\n",
    "\n",
    "ax.set_title(\"LiDAR Herbert - zoomed in on coast\")\n",
    "matplotlib.pyplot.xlim([1.4320e6, 1.4330e6])\n",
    "matplotlib.pyplot.ylim([4.9857e6, 4.9873e6])\n",
    "\n",
    "matplotlib.pyplot.show()"
   ]
  },
  {
   "cell_type": "markdown",
   "metadata": {},
   "source": [
    "### Manually create a polygon"
   ]
  },
  {
   "cell_type": "code",
   "execution_count": null,
   "metadata": {},
   "outputs": [],
   "source": [
    "ocean_manual_shape = shapely.geometry.Polygon([(1.43222e6, 4.9857e6), # x1, y1\n",
    "            (1.43400e6, 4.9857e6), # x2, y1\n",
    "            (1.43400e6, 4.9873e6), # x2, y2\n",
    "            (1.43222e6, 4.9873e6)  # x1, y2\n",
    "        ])\n",
    "ocean_manual_gdf = geopandas.GeoSeries([ocean_manual_shape])"
   ]
  },
  {
   "cell_type": "markdown",
   "metadata": {},
   "source": [
    "#### Plot both together"
   ]
  },
  {
   "cell_type": "code",
   "execution_count": null,
   "metadata": {},
   "outputs": [],
   "source": [
    "f, ax = matplotlib.pyplot.subplots(figsize=(10, 5))\n",
    "\n",
    "dem_tiff.plot(cmap=\"Greys_r\", ax=ax)\n",
    "ocean_manual_gdf.plot(color='None', edgecolor='teal', linewidth=2, ax=ax, zorder=4)\n",
    "\n",
    "ax.set_title(\"LiDAR Herbert\")\n",
    "matplotlib.pyplot.show()"
   ]
  },
  {
   "cell_type": "markdown",
   "metadata": {},
   "source": [
    "# Attempt 1 - Gaussian filter combined raster\n",
    "Create a combined raster with the original DEM and an ocean depth mapped over the ocean shapefile but excluding DEM values.\n",
    "Apply a Gaussian filter across the combined DEM.\n",
    "#### Sigma used for filtering"
   ]
  },
  {
   "cell_type": "code",
   "execution_count": null,
   "metadata": {},
   "outputs": [],
   "source": [
    "sigma = 0.5 # should calculate on the spatial resolution"
   ]
  },
  {
   "cell_type": "markdown",
   "metadata": {},
   "source": [
    "#### Create a simple mask from the shapefile"
   ]
  },
  {
   "cell_type": "code",
   "execution_count": null,
   "metadata": {},
   "outputs": [],
   "source": [
    "ocean_mask=rasterio.features.geometry_mask([ocean_manual_shape], out_shape=(len(dem_tiff.y), len(dem_tiff.x)),\n",
    "                                      transform=dem_tiff.rio.transform(), invert=True)"
   ]
  },
  {
   "cell_type": "code",
   "execution_count": null,
   "metadata": {},
   "outputs": [],
   "source": [
    "f, ax = matplotlib.pyplot.subplots(figsize=(5, 3))\n",
    "p=matplotlib.pyplot.imshow(ocean_mask)\n",
    "f.colorbar(p, ax=ax)"
   ]
  },
  {
   "cell_type": "markdown",
   "metadata": {},
   "source": [
    "#### Combine DEM array with ocean mask and set ocean values to -10"
   ]
  },
  {
   "cell_type": "code",
   "execution_count": null,
   "metadata": {},
   "outputs": [],
   "source": [
    "combined = numpy.copy(dem_tiff.data[0])\n",
    "combined[ocean_mask & numpy.isnan(combined)] = depth"
   ]
  },
  {
   "cell_type": "code",
   "execution_count": null,
   "metadata": {},
   "outputs": [],
   "source": [
    "f, ax = matplotlib.pyplot.subplots(figsize=(10, 5))\n",
    "p=matplotlib.pyplot.imshow(combined)\n",
    "f.colorbar(p, ax=ax)"
   ]
  },
  {
   "cell_type": "markdown",
   "metadata": {},
   "source": [
    "#### Perform filtering\n",
    "* Gaussian filter with 20 smoothing\n",
    "  * Note - need to use two array amd combine to deal with NaN's - one with NaN's as 0 and one with NaN's as 1.\n",
    "  * _**Need to figure out how to calculate the sigma value.**_\n",
    "* Currently filtering applied based on all valid data\n",
    "  * Could look at restricting filtering in channels to only data within the channel"
   ]
  },
  {
   "cell_type": "code",
   "execution_count": null,
   "metadata": {},
   "outputs": [],
   "source": [
    "# used approach from https://stackoverflow.com/questions/18697532/gaussian-filtering-a-image-with-nan-in-python\n",
    "combined_no_nan = numpy.copy(combined)\n",
    "combined_no_nan[numpy.isnan(combined_no_nan)] = 0\n",
    "nan_mask = numpy.ones(combined.shape)\n",
    "nan_mask[numpy.isnan(combined)] = 0\n",
    "smoothed = (scipy.ndimage.gaussian_filter(combined_no_nan, sigma=sigma) / \n",
    "            scipy.ndimage.gaussian_filter(nan_mask, sigma=sigma))"
   ]
  },
  {
   "cell_type": "markdown",
   "metadata": {},
   "source": [
    "#### Set values back to NaN\n",
    "This is more complex than the case that the LiDAR extends all the way to the edge as it is hard to distinguish between internal holes and external missing data"
   ]
  },
  {
   "cell_type": "code",
   "execution_count": null,
   "metadata": {},
   "outputs": [],
   "source": [
    "smoothed[smoothed==0 & numpy.isnan(combined)] = numpy.nan"
   ]
  },
  {
   "cell_type": "markdown",
   "metadata": {},
   "source": [
    "#### Use the smothed array only where no valid data exists"
   ]
  },
  {
   "cell_type": "code",
   "execution_count": null,
   "metadata": {},
   "outputs": [],
   "source": [
    "combined[numpy.isnan(combined)] = smoothed[numpy.isnan(combined)]"
   ]
  },
  {
   "cell_type": "markdown",
   "metadata": {},
   "source": [
    "### Plot results - Bad as off cliff\n",
    "As the original DEM values are used these will overwrite the smoothing on land so it will go from land abrubtly to a value Gaussian smoothed with the Bathymetry depth (10) "
   ]
  },
  {
   "cell_type": "code",
   "execution_count": null,
   "metadata": {},
   "outputs": [],
   "source": [
    "f = matplotlib.pyplot.figure(figsize=(15, 10))\n",
    "gs = f.add_gridspec(2, 2)\n",
    "\n",
    "ax1 = f.add_subplot(gs[0, 0]) \n",
    "p1 = ax1.imshow(dem_tiff.data[0])\n",
    "f.colorbar(p1, ax=ax1)\n",
    "\n",
    "ax2 = f.add_subplot(gs[0, 1]) \n",
    "p2 = ax2.imshow(dem_tiff.data[0], vmin = depth, vmax = 10)\n",
    "f.colorbar(p2, ax=ax2)\n",
    "matplotlib.pyplot.xlim([500, 880])\n",
    "matplotlib.pyplot.ylim([200, 500])\n",
    "\n",
    "ax1.set_title(\"Original Open Topography DEM\")\n",
    "ax2.set_title(\"Original Zoomed\")\n",
    "\n",
    "ax3 = f.add_subplot(gs[1, 0])  \n",
    "p3 = ax3.imshow(combined)\n",
    "f.colorbar(p3, ax=ax3)\n",
    "\n",
    "ax4 = f.add_subplot(gs[1, 1])\n",
    "p4 = ax4.imshow(combined, vmin = depth, vmax = 10)\n",
    "f.colorbar(p4, ax=ax4)\n",
    "matplotlib.pyplot.xlim([500, 880])\n",
    "matplotlib.pyplot.ylim([200, 500])\n",
    "\n",
    "ax3.set_title(\"Filled + Fake Bathymetry DEM\")\n",
    "ax4.set_title(\"Filled + Fake Bathymetry Zoomed\");"
   ]
  },
  {
   "cell_type": "markdown",
   "metadata": {},
   "source": [
    "### _The question of fill in any missing values with Nearest Neighbour_\n",
    "Note there is an additional challenge here as LiDAR does not extend to the boundary - so it will be hard to use NN on only the internal holes and not the external holes.\n",
    "\n",
    "This is a common challenge faced by Cyprien. He has explored extrapolating to a very high value around the edge, and also smoothing onto a background DEM (say NZ wide 15m dem)\n",
    "\n",
    "_**I will explore some of those options in later notebooks - for now I will just use a larger sigma.**_"
   ]
  },
  {
   "cell_type": "markdown",
   "metadata": {},
   "source": [
    "# Attempt 2 - Fill holes and then after patch in the ocean \n",
    "Filter the original DEM initially to fill in any holes, and then use this filled DEM as a base for patching in the ocean. Tried two different approaches for ocean patching.\n",
    "1. Patch the ocean with a Gaussian filter - poor results = bleed across and then step abruptly from orginal DEM\n",
    "2. Include a gap between the patch and original DEM and apply a Gaussian filter with  - still a very sharp transition\n",
    "3. Include a gap between the patch and original DEM and apply a linear interpolant - better but will act as a dam\n",
    "\n",
    "#### sigma - set to fill all holes"
   ]
  },
  {
   "cell_type": "code",
   "execution_count": null,
   "metadata": {},
   "outputs": [],
   "source": [
    "sigma = 0.9 # will need to calculate based on spatial spacing"
   ]
  },
  {
   "cell_type": "markdown",
   "metadata": {},
   "source": [
    "## 1. Different Gaussian smoothing - Ocean patch to DEM boundary\n",
    "1. Fill internal holes - with Gaussian smoothing\n",
    "2. Apply higher smoothing with ocean mask - repeat several times to avoid water-fall\n",
    "\n",
    "#### Hole filling"
   ]
  },
  {
   "cell_type": "code",
   "execution_count": null,
   "metadata": {},
   "outputs": [],
   "source": [
    "dem_no_nan = numpy.copy(dem_tiff.data[0])\n",
    "dem_no_nan[numpy.isnan(dem_no_nan)] = 0\n",
    "nan_mask = numpy.ones(dem_tiff.data[0].shape)\n",
    "nan_mask[numpy.isnan(dem_tiff.data[0])] = 0\n",
    "\n",
    "smoothed = scipy.ndimage.gaussian_filter(dem_no_nan, sigma=sigma) / scipy.ndimage.gaussian_filter(nan_mask, sigma=sigma)\n",
    "\n",
    "smoothed[smoothed==0 & numpy.isnan(dem_tiff.data[0])] = numpy.nan\n",
    "\n",
    "dem_no_hole = numpy.copy(dem_tiff.data[0])\n",
    "dem_no_hole[numpy.isnan(dem_tiff.data[0])] = smoothed[numpy.isnan(dem_tiff.data[0])]"
   ]
  },
  {
   "cell_type": "markdown",
   "metadata": {},
   "source": [
    "#### Plot hole filling results - Bad - note dilation out \n",
    "The process effectively causes dialation around the coast. Could perhaps overcome by doing a straight replacement where the ocean mask is 1"
   ]
  },
  {
   "cell_type": "code",
   "execution_count": null,
   "metadata": {},
   "outputs": [],
   "source": [
    "f = matplotlib.pyplot.figure(figsize=(15, 5))\n",
    "\n",
    "ax1 = f.add_subplot(121)  # left side\n",
    "p1 = ax1.imshow(dem_tiff.data[0])\n",
    "f.colorbar(p1, ax=ax1)\n",
    "matplotlib.pyplot.xlim([500, 880])\n",
    "matplotlib.pyplot.ylim([250, 450])\n",
    "\n",
    "ax2 = f.add_subplot(122)  # right side\n",
    "p2 = ax2.imshow(dem_no_hole)\n",
    "f.colorbar(p2, ax=ax2)\n",
    "matplotlib.pyplot.xlim([500, 880])\n",
    "matplotlib.pyplot.ylim([250, 450])\n",
    "\n",
    "ax1.set_title(\"Original Open Topography DEM\")\n",
    "ax2.set_title(\"Open Topgraphy DEM + smoothing in holes\")"
   ]
  },
  {
   "cell_type": "markdown",
   "metadata": {},
   "source": [
    "#### Remove dilation - Replace values where the ocean mask is 1"
   ]
  },
  {
   "cell_type": "code",
   "execution_count": null,
   "metadata": {},
   "outputs": [],
   "source": [
    "dem_no_hole[ocean_mask==1] = dem_tiff.data[0][ocean_mask==1]\n",
    "\n",
    "f = matplotlib.pyplot.figure(figsize=(15, 5))\n",
    "\n",
    "ax1 = f.add_subplot(121)  # left side\n",
    "p1 = ax1.imshow(dem_tiff.data[0])\n",
    "f.colorbar(p1, ax=ax1)\n",
    "matplotlib.pyplot.xlim([500, 880])\n",
    "matplotlib.pyplot.ylim([250, 450])\n",
    "\n",
    "ax2 = f.add_subplot(122)  # right side\n",
    "p2 = ax2.imshow(dem_no_hole)\n",
    "f.colorbar(p2, ax=ax2)\n",
    "matplotlib.pyplot.xlim([500, 880])\n",
    "matplotlib.pyplot.ylim([250, 450])\n",
    "\n",
    "ax1.set_title(\"Original Open Topography DEM\")\n",
    "ax2.set_title(\"Open Topgraphy DEM + smoothing in holes\")"
   ]
  },
  {
   "cell_type": "markdown",
   "metadata": {},
   "source": [
    "### Apply the ocean patch\n",
    "Apply it straight this will cause a waterfall once the original values are copied back on DEM"
   ]
  },
  {
   "cell_type": "code",
   "execution_count": null,
   "metadata": {},
   "outputs": [],
   "source": [
    "sigma = .9 # will need to calculate based on spatial spacing\n",
    "\n",
    "combined = numpy.copy(dem_no_hole)\n",
    "combined[ocean_mask & numpy.isnan(combined)] = depth\n",
    "\n",
    "combined_no_nan = numpy.copy(combined)\n",
    "combined_no_nan[numpy.isnan(combined_no_nan)] = 0\n",
    "nan_mask = numpy.ones(combined.shape)\n",
    "nan_mask[numpy.isnan(combined)] = 0\n",
    "\n",
    "smoothed = scipy.ndimage.gaussian_filter(combined_no_nan, sigma=sigma) / scipy.ndimage.gaussian_filter(nan_mask, sigma=sigma)\n",
    "\n",
    "smoothed[smoothed==0 & numpy.isnan(dem_no_hole)] = numpy.nan\n",
    "\n",
    "dem_combined = numpy.copy(dem_no_hole)\n",
    "dem_combined[numpy.isnan(dem_no_hole)] = smoothed[numpy.isnan(dem_no_hole)]"
   ]
  },
  {
   "cell_type": "markdown",
   "metadata": {},
   "source": [
    "### Plot - note bad result\n",
    "The process still effectively causes a very steep drop off along the coast - in fact the only difference to approach 1 is different sigmas can be used for the two filtering steps."
   ]
  },
  {
   "cell_type": "code",
   "execution_count": null,
   "metadata": {},
   "outputs": [],
   "source": [
    "f = matplotlib.pyplot.figure(figsize=(15, 10))\n",
    "gs = f.add_gridspec(2, 4)\n",
    "\n",
    "ax1 = f.add_subplot(gs[0, 0:3]) \n",
    "p1 = ax1.imshow(dem_tiff.data[0])\n",
    "f.colorbar(p1, ax=ax1)\n",
    "\n",
    "ax2 = f.add_subplot(gs[0, 3]) \n",
    "p2 = ax2.imshow(dem_tiff.data[0], vmin = -10, vmax = 10)\n",
    "f.colorbar(p2, ax=ax2)\n",
    "matplotlib.pyplot.xlim([840, 880])\n",
    "matplotlib.pyplot.ylim([240, 380])\n",
    "\n",
    "ax1.set_title(\"Original Open Topography DEM\")\n",
    "ax2.set_title(\"Original Zoomed\")\n",
    "\n",
    "ax3 = f.add_subplot(gs[1, 0:3])  \n",
    "p3 = ax3.imshow(dem_combined)\n",
    "f.colorbar(p3, ax=ax3)\n",
    "\n",
    "ax4 = f.add_subplot(gs[1, 3])\n",
    "p4 = ax4.imshow(dem_combined, vmin = -10, vmax = 10)\n",
    "f.colorbar(p4, ax=ax4)\n",
    "matplotlib.pyplot.xlim([840, 880])\n",
    "matplotlib.pyplot.ylim([240, 380])\n",
    "\n",
    "ax3.set_title(\"Filled + Fake Bathymetry DEM\")\n",
    "ax4.set_title(\"Filled + Bathymetry\");"
   ]
  },
  {
   "cell_type": "markdown",
   "metadata": {},
   "source": [
    "## 2. Different Gaussian smoothing - Ocean patch with gap to DEM boundary\n",
    "Repeat but with nan gap between DEM and ocean fill\n",
    "Use the dilation from the hole filling to provide a buffer\n",
    "\n",
    "#### Hole filling"
   ]
  },
  {
   "cell_type": "code",
   "execution_count": null,
   "metadata": {},
   "outputs": [],
   "source": [
    "dem_no_nan = numpy.copy(dem_tiff.data[0])\n",
    "dem_no_nan[numpy.isnan(dem_no_nan)] = 0\n",
    "nan_mask = numpy.ones(dem_tiff.data[0].shape)\n",
    "nan_mask[numpy.isnan(dem_tiff.data[0])] = 0\n",
    "\n",
    "smoothed = scipy.ndimage.gaussian_filter(dem_no_nan, sigma=sigma) / scipy.ndimage.gaussian_filter(nan_mask, sigma=sigma)\n",
    "\n",
    "smoothed[smoothed==0 & numpy.isnan(dem_tiff.data[0])] = numpy.nan\n",
    "\n",
    "dem_no_hole_dialation = numpy.copy(dem_tiff.data[0])\n",
    "dem_no_hole_dialation[numpy.isnan(dem_tiff.data[0])] = smoothed[numpy.isnan(dem_tiff.data[0])]"
   ]
  },
  {
   "cell_type": "markdown",
   "metadata": {},
   "source": [
    "#####  dilation removal + buffer combined"
   ]
  },
  {
   "cell_type": "code",
   "execution_count": null,
   "metadata": {},
   "outputs": [],
   "source": [
    "dem_no_hole = numpy.copy(dem_no_hole_dialation)\n",
    "dem_no_hole[ocean_mask==1] = dem_tiff.data[0][ocean_mask==1]\n",
    "\n",
    "combined = numpy.copy(dem_no_hole)\n",
    "combined[ocean_mask & numpy.isnan(dem_no_hole_dialation)] = -10"
   ]
  },
  {
   "cell_type": "markdown",
   "metadata": {},
   "source": [
    "##### Plot - show buffer"
   ]
  },
  {
   "cell_type": "code",
   "execution_count": null,
   "metadata": {},
   "outputs": [],
   "source": [
    "f = matplotlib.pyplot.figure(figsize=(15, 5))\n",
    "\n",
    "ax1 = f.add_subplot(121)  # left side\n",
    "p1 = ax1.imshow(dem_no_hole, vmin = -10, vmax = 10)\n",
    "f.colorbar(p1, ax=ax1)\n",
    "matplotlib.pyplot.xlim([500, 880])\n",
    "matplotlib.pyplot.ylim([250, 450])\n",
    "\n",
    "ax2 = f.add_subplot(122)  # right side\n",
    "p2 = ax2.imshow(combined, vmin = -10, vmax = 10)\n",
    "f.colorbar(p2, ax=ax2)\n",
    "matplotlib.pyplot.xlim([500, 880])\n",
    "matplotlib.pyplot.ylim([250, 450])\n",
    "\n",
    "ax1.set_title(\"Original Open Topography DEM\")\n",
    "ax2.set_title(\"Open Topgraphy DEM + smoothing in holes\")"
   ]
  },
  {
   "cell_type": "markdown",
   "metadata": {},
   "source": [
    "##### Apply filter"
   ]
  },
  {
   "cell_type": "code",
   "execution_count": null,
   "metadata": {},
   "outputs": [],
   "source": [
    "sigma = 0.9\n",
    "\n",
    "combined_no_nan = numpy.copy(combined)\n",
    "combined_no_nan[numpy.isnan(combined_no_nan)] = 0\n",
    "nan_mask = numpy.ones(combined.shape)\n",
    "nan_mask[numpy.isnan(combined)] = 0\n",
    "\n",
    "smoothed = scipy.ndimage.gaussian_filter(combined_no_nan, sigma=sigma) / scipy.ndimage.gaussian_filter(nan_mask, sigma=sigma)\n",
    "\n",
    "smoothed[smoothed==0 & numpy.isnan(dem_no_hole)] = numpy.nan\n",
    "\n",
    "dem_combined = numpy.copy(dem_no_hole)\n",
    "dem_combined[numpy.isnan(dem_no_hole)] = smoothed[numpy.isnan(dem_no_hole)]"
   ]
  },
  {
   "cell_type": "markdown",
   "metadata": {},
   "source": [
    "## Plot results - bad  - hard transition in the midle of the buffer\n",
    "The transition is very hard from mainly land to mainly ocean"
   ]
  },
  {
   "cell_type": "code",
   "execution_count": null,
   "metadata": {},
   "outputs": [],
   "source": [
    "f = matplotlib.pyplot.figure(figsize=(15, 10))\n",
    "gs = f.add_gridspec(2, 4)\n",
    "\n",
    "ax1 = f.add_subplot(gs[0, 0:3]) \n",
    "p1 = ax1.imshow(dem_tiff.data[0])\n",
    "f.colorbar(p1, ax=ax1)\n",
    "\n",
    "ax2 = f.add_subplot(gs[0, 3]) \n",
    "p2 = ax2.imshow(dem_tiff.data[0], vmin = -10, vmax = 10)\n",
    "f.colorbar(p2, ax=ax2)\n",
    "matplotlib.pyplot.xlim([840, 880])\n",
    "matplotlib.pyplot.ylim([240, 380])\n",
    "\n",
    "ax1.set_title(\"Original Open Topography DEM\")\n",
    "ax2.set_title(\"Original Zoomed\")\n",
    "\n",
    "ax3 = f.add_subplot(gs[1, 0:3])  \n",
    "p3 = ax3.imshow(smoothed)\n",
    "f.colorbar(p3, ax=ax3)\n",
    "\n",
    "ax4 = f.add_subplot(gs[1, 3])\n",
    "p4 = ax4.imshow(smoothed, vmin = -10, vmax = 10)\n",
    "f.colorbar(p4, ax=ax4)\n",
    "matplotlib.pyplot.xlim([840, 880])\n",
    "matplotlib.pyplot.ylim([240, 380])\n",
    "\n",
    "ax3.set_title(\"Smoothed and filled DEM\")\n",
    "ax4.set_title(\"Smoothed zoomed\");"
   ]
  },
  {
   "cell_type": "markdown",
   "metadata": {},
   "source": [
    "## 3. Linear interpolation - Ocean patch with gap to DEM boundary\n",
    "Still Gaussian filtering for hole filling, but then use lienar interpolation to bring in the fake bathymetry.\n",
    "Using Scipy interpolate"
   ]
  },
  {
   "cell_type": "code",
   "execution_count": null,
   "metadata": {},
   "outputs": [],
   "source": [
    "interpolate_array = numpy.copy(combined)\n",
    "x = numpy.arange(0, interpolate_array.shape[1])\n",
    "y = numpy.arange(0, interpolate_array.shape[0])\n",
    "#convert interpolate_array into a mask array with all nan masked as invalid values\n",
    "interpolate_array = numpy.ma.masked_invalid(interpolate_array)\n",
    "xx, yy = numpy.meshgrid(x, y)\n",
    "#get only the valid values\n",
    "x1 = xx[~interpolate_array.mask]\n",
    "y1 = yy[~interpolate_array.mask]\n",
    "temp_array = interpolate_array[~interpolate_array.mask]\n",
    "\n",
    "# method='nearest' 'linear' 'cubic'\n",
    "interpolate_array = scipy.interpolate.griddata((x1, y1), temp_array.ravel(), (xx, yy), method='linear') "
   ]
  },
  {
   "cell_type": "markdown",
   "metadata": {},
   "source": [
    "Mask outside to nan (outside dialated dem and ocean mask)"
   ]
  },
  {
   "cell_type": "code",
   "execution_count": null,
   "metadata": {},
   "outputs": [],
   "source": [
    "dem_smoothed = numpy.copy(interpolate_array)\n",
    "dem_smoothed[numpy.isnan(dem_no_hole_dialation) & (ocean_mask==0)] = numpy.nan"
   ]
  },
  {
   "cell_type": "markdown",
   "metadata": {},
   "source": [
    "### Plot - beter but still bad - smoth transtion in buffer\n",
    "We end up with some areas in the buffer being dominated by the land DEMs forming islands. "
   ]
  },
  {
   "cell_type": "code",
   "execution_count": null,
   "metadata": {},
   "outputs": [],
   "source": [
    "f = matplotlib.pyplot.figure(figsize=(15, 10))\n",
    "gs = f.add_gridspec(2, 4)\n",
    "\n",
    "ax1 = f.add_subplot(gs[0, 0:3])  # left side\n",
    "p1 = ax1.imshow(dem_tiff.data[0])#, vmin = -10, vmax = 10)\n",
    "f.colorbar(p1, ax=ax1)\n",
    "\n",
    "ax2 = f.add_subplot(gs[0, 3])  # left side\n",
    "p2 = ax2.imshow(dem_tiff.data[0], vmin = -10, vmax = 10)\n",
    "f.colorbar(p2, ax=ax2)\n",
    "matplotlib.pyplot.xlim([840, 880])\n",
    "matplotlib.pyplot.ylim([240, 380])\n",
    "\n",
    "ax1.set_title(\"Original Open Topography DEM\")\n",
    "ax2.set_title(\"Original Zoomed\")\n",
    "\n",
    "ax3 = f.add_subplot(gs[1, 0:3])  # right side\n",
    "p3 = ax3.imshow(dem_smoothed)#, vmin = -10, vmax = 10)\n",
    "f.colorbar(p3, ax=ax3)\n",
    "\n",
    "ax4 = f.add_subplot(gs[1, 3])  # right side\n",
    "p4 = ax4.imshow(dem_smoothed, vmin = -10, vmax = 10)\n",
    "f.colorbar(p4, ax=ax4)\n",
    "matplotlib.pyplot.xlim([840, 880])\n",
    "matplotlib.pyplot.ylim([240, 380])\n",
    "\n",
    "ax3.set_title(\"Smoothed and filled DEM\")\n",
    "ax4.set_title(\"Smoothed zoomed\");"
   ]
  },
  {
   "cell_type": "markdown",
   "metadata": {},
   "source": [
    "# Save out filled and bathymetry faked DEM\n",
    "Convert to an xarray.dataset, and add wanted global attributes"
   ]
  },
  {
   "cell_type": "code",
   "execution_count": null,
   "metadata": {},
   "outputs": [],
   "source": [
    "dem_filtered = dem_tiff.to_dataset()\n",
    "dem_filtered.attrs['long_name'] = 'Elevation after smoothing a patching off to sea'\n",
    "dem_filtered.attrs['units'] = 'm'"
   ]
  },
  {
   "cell_type": "markdown",
   "metadata": {},
   "source": [
    "Drop extra dimensions (i.e. 'band' and 'spatial_ref')"
   ]
  },
  {
   "cell_type": "code",
   "execution_count": null,
   "metadata": {},
   "outputs": [],
   "source": [
    "dem_filtered = dem_filtered.drop_vars([\"band\", \"spatial_ref\"])\n",
    "dem_filtered = dem_filtered.drop_dims([\"band\"])"
   ]
  },
  {
   "cell_type": "markdown",
   "metadata": {},
   "source": [
    "Add data to the netCDF array. Will also add the original - but may not want it when sending to GPU or working with big datasets"
   ]
  },
  {
   "cell_type": "code",
   "execution_count": null,
   "metadata": {},
   "outputs": [],
   "source": [
    "dem_filtered = dem_tiff.to_dataset()\n",
    "dem_filtered = dem_filtered.drop_vars([\"band\", \"spatial_ref\"])\n",
    "dem_filtered = dem_filtered.drop_dims([\"band\"])\n",
    "dem_filtered.attrs['long_name'] = 'Elevation after smoothing a patching off to sea'\n",
    "dem_filtered.attrs['units'] = 'm'\n",
    "dem_filtered = dem_filtered.assign(z=(('y','x'), dem_smoothed))\n",
    "dem_filtered = dem_filtered.assign(original_z=(('y','x'), dem_tiff.data[0]))"
   ]
  },
  {
   "cell_type": "markdown",
   "metadata": {},
   "source": [
    "Flip the y-axis direction to that expected by BG-FLOOD (i.e. increasing along each direcition)"
   ]
  },
  {
   "cell_type": "code",
   "execution_count": null,
   "metadata": {},
   "outputs": [],
   "source": [
    "dem_filtered = dem_filtered.reindex(x=dem_filtered.x, y=dem_filtered.y[::-1])"
   ]
  },
  {
   "cell_type": "markdown",
   "metadata": {},
   "source": [
    "Save results"
   ]
  },
  {
   "cell_type": "code",
   "execution_count": null,
   "metadata": {},
   "outputs": [],
   "source": [
    "dem_filtered.to_netcdf(r'C:\\Users\\pearsonra\\Documents\\data\\herbert_10res\\dem\\dem_filled_and_fake_bathymetry.nc')"
   ]
  }
 ],
 "metadata": {
  "kernelspec": {
   "display_name": "Python [conda env:workspace]",
   "language": "python",
   "name": "conda-env-workspace-py"
  },
  "language_info": {
   "codemirror_mode": {
    "name": "ipython",
    "version": 3
   },
   "file_extension": ".py",
   "mimetype": "text/x-python",
   "name": "python",
   "nbconvert_exporter": "python",
   "pygments_lexer": "ipython3",
   "version": "3.8.8"
  }
 },
 "nbformat": 4,
 "nbformat_minor": 2
}
