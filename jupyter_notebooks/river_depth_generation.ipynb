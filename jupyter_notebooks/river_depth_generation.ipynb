{
 "cells": [
  {
   "cell_type": "code",
   "execution_count": null,
   "id": "bb30d87b",
   "metadata": {},
   "outputs": [],
   "source": [
    "import geopandas\n",
    "import pandas\n",
    "import pathlib\n",
    "import numpy\n",
    "import matplotlib\n",
    "from IPython.core.display import display, HTML\n",
    "\n",
    "display(HTML(\"<style>.container { width:100% !important; }</style>\"))"
   ]
  },
  {
   "cell_type": "code",
   "execution_count": null,
   "id": "b8666144",
   "metadata": {},
   "outputs": [],
   "source": [
    "sampling_resolution = 10\n",
    "threshold = 1"
   ]
  },
  {
   "cell_type": "markdown",
   "id": "2d90a150",
   "metadata": {},
   "source": [
    "## Load in results\n",
    "### Widths and slopes"
   ]
  },
  {
   "cell_type": "code",
   "execution_count": null,
   "id": "c3c02ca8",
   "metadata": {},
   "outputs": [],
   "source": [
    "width_file = pathlib.Path(fr\"C:\\Users\\pearsonra\\Documents\\data\\river_bathemetry\\waikanae\\caches\\100000000_veg\\final_transect_values.geojson\")\n",
    "rec_main_channel_file = pathlib.Path(fr\"C:\\Users\\pearsonra\\Documents\\data\\river_bathemetry\\waikanae\\caches\\100000000_veg\\rec_main_channel.geojson\")\n",
    "widths = geopandas.read_file(width_file)\n",
    "main_channel = geopandas.read_file(rec_main_channel_file)"
   ]
  },
  {
   "cell_type": "markdown",
   "id": "6aa4ea91",
   "metadata": {},
   "source": [
    "### Slopes and Flows"
   ]
  },
  {
   "cell_type": "code",
   "execution_count": null,
   "id": "8ffd7060",
   "metadata": {},
   "outputs": [],
   "source": [
    "mannings_file = pathlib.Path(r\"C:\\Users\\pearsonra\\Documents\\data\\river_bathemetry\\mannings_n\\bathy.csv.gz\")\n",
    "mannings = pandas.read_csv(mannings_file)"
   ]
  },
  {
   "cell_type": "markdown",
   "id": "46302734",
   "metadata": {},
   "source": [
    "### Measured cross sections"
   ]
  },
  {
   "cell_type": "code",
   "execution_count": null,
   "id": "411f2452",
   "metadata": {},
   "outputs": [],
   "source": [
    "cross_section_file = pathlib.Path(r\"C:/Users/pearsonra/Documents/data/river_bathemetry/sections/Waikanae/Waikanae_Cross_Sections_NIWA/2014_Survey_XS_NZTM.shp\")\n",
    "cross_sections = geopandas.read_file(cross_section_file)"
   ]
  },
  {
   "cell_type": "markdown",
   "id": "1b9f5fda",
   "metadata": {},
   "source": [
    "### Local datum conversion"
   ]
  },
  {
   "cell_type": "code",
   "execution_count": null,
   "id": "48e1bc08",
   "metadata": {},
   "outputs": [],
   "source": [
    "local_datum_file = pathlib.Path(r\"C:\\Users\\pearsonra\\Documents\\data\\local_datums\\lds-wellington-1953-to-nzvd2016-conversion-raster-GTiff\\wellington-1953-to-nzvd2016-conversion-raster.tif\")"
   ]
  },
  {
   "cell_type": "code",
   "execution_count": null,
   "id": "41ce9a0b",
   "metadata": {},
   "outputs": [],
   "source": [
    "import rioxarray\n",
    "with rioxarray.rioxarray.open_rasterio(local_datum_file, masked=True) as local_vertical_datum:\n",
    "            local_vertical_datum.load()"
   ]
  },
  {
   "cell_type": "markdown",
   "id": "c8c46a84",
   "metadata": {},
   "source": [
    "# Translate the samples to correct reach"
   ]
  },
  {
   "cell_type": "code",
   "execution_count": null,
   "id": "dcbac0c8",
   "metadata": {},
   "outputs": [],
   "source": [
    "widths['nzsegment'] = numpy.zeros(len(widths['widths']), dtype=int) * -1\n",
    "for i, row in main_channel.iterrows():\n",
    "    widths.loc[widths.intersects(row.geometry), ('nzsegment')] = row['nzsegment']"
   ]
  },
  {
   "cell_type": "markdown",
   "id": "c222a12d",
   "metadata": {},
   "source": [
    "#### Temporary - manaully set last value"
   ]
  },
  {
   "cell_type": "code",
   "execution_count": null,
   "id": "6d034b11",
   "metadata": {},
   "outputs": [],
   "source": [
    "widths.loc[1045, ('nzsegment')]=widths['nzsegment'].iloc[1044]"
   ]
  },
  {
   "cell_type": "markdown",
   "id": "52dc6333",
   "metadata": {},
   "source": [
    "# Add the flows and manning's n to the widths table"
   ]
  },
  {
   "cell_type": "code",
   "execution_count": null,
   "id": "261ca7cb",
   "metadata": {},
   "outputs": [],
   "source": [
    "slope_name = 'slope_mean_0.5km'\n",
    "min_z_name = 'min_z_centre_unimodal_mean_0.5km'\n",
    "width_name = 'widths_mean_0.25km'"
   ]
  },
  {
   "cell_type": "code",
   "execution_count": null,
   "id": "c7810699",
   "metadata": {},
   "outputs": [],
   "source": [
    "key_parameters = widths[['nzsegment', slope_name, width_name, 'geometry', min_z_name, 'min_z_centre_unimodal']]\n",
    "key_parameters = key_parameters[key_parameters['nzsegment'] != 0]"
   ]
  },
  {
   "cell_type": "code",
   "execution_count": null,
   "id": "8afdd430",
   "metadata": {},
   "outputs": [],
   "source": [
    "key_parameters['mannings_n'] = numpy.zeros(len(key_parameters['nzsegment']), dtype=int)\n",
    "key_parameters['flow'] = numpy.zeros(len(key_parameters['nzsegment']), dtype=int)\n",
    "for nzsegment in key_parameters['nzsegment'].unique():\n",
    "    key_parameters.loc[key_parameters['nzsegment'] == nzsegment, ('mannings_n')] = mannings[mannings['nzsegment'] == nzsegment]['n'].unique()[0]\n",
    "    key_parameters.loc[key_parameters['nzsegment'] == nzsegment, ('flow')] = mannings[mannings['nzsegment'] == nzsegment]['flow'].unique()[0]"
   ]
  },
  {
   "cell_type": "markdown",
   "id": "fa660b6a",
   "metadata": {},
   "source": [
    "Note a section is out of order, which is why the flow goes down."
   ]
  },
  {
   "cell_type": "code",
   "execution_count": null,
   "id": "0f2eb063",
   "metadata": {},
   "outputs": [],
   "source": [
    "key_parameters[['nzsegment']].plot()"
   ]
  },
  {
   "cell_type": "markdown",
   "id": "e1cc6acc",
   "metadata": {},
   "source": [
    "## Calculate depth"
   ]
  },
  {
   "cell_type": "code",
   "execution_count": null,
   "id": "e7aa4ff0",
   "metadata": {},
   "outputs": [],
   "source": [
    "key_parameters['depth_Neal_et_al'] = (key_parameters['mannings_n'] * key_parameters['flow'] \\\n",
    "                                      / (numpy.sqrt(key_parameters[slope_name]) \\\n",
    "                                         * key_parameters[width_name])) ** (3/5) - threshold"
   ]
  },
  {
   "cell_type": "code",
   "execution_count": null,
   "id": "bf6af89b",
   "metadata": {},
   "outputs": [],
   "source": [
    "a = 0.745\n",
    "b = 0.305\n",
    "K_0 = 6.16"
   ]
  },
  {
   "cell_type": "code",
   "execution_count": null,
   "id": "8101995d",
   "metadata": {},
   "outputs": [],
   "source": [
    "key_parameters['depth_Smart_et_al'] = \\\n",
    "    (key_parameters['flow'] / (K_0 * key_parameters[width_name] * key_parameters[slope_name] ** b)) ** (1 / (1+a)) - threshold"
   ]
  },
  {
   "cell_type": "markdown",
   "id": "320ea88a",
   "metadata": {},
   "source": [
    "## Plot results\n",
    "Include plots of each parameter - Manning's n, flow, depth and slope - used to calculate depth"
   ]
  },
  {
   "cell_type": "code",
   "execution_count": null,
   "id": "ea641c43",
   "metadata": {},
   "outputs": [],
   "source": [
    "f, ax = matplotlib.pyplot.subplots(figsize=(10, 3))\n",
    "key_parameters[['mannings_n']].plot(ax=ax, linewidth=2)\n",
    "ax.set(title=f\"Mannings N for {threshold}m threshold\")\n",
    "matplotlib.pyplot.xlabel(f\"Transect number (spaced every {sampling_resolution}m upstream)\")\n",
    "matplotlib.pyplot.ylabel(f\"River Mannings M in m\");"
   ]
  },
  {
   "cell_type": "code",
   "execution_count": null,
   "id": "c728dde8",
   "metadata": {},
   "outputs": [],
   "source": [
    "f, ax = matplotlib.pyplot.subplots(figsize=(10, 3))\n",
    "key_parameters[['flow']].plot(ax=ax, linewidth=2)\n",
    "ax.set(title=f\"Flows\")\n",
    "matplotlib.pyplot.xlabel(f\"Transect number (spaced every {sampling_resolution}m upstream)\")\n",
    "matplotlib.pyplot.ylabel(f\"River flow in m^3/s\");"
   ]
  },
  {
   "cell_type": "code",
   "execution_count": null,
   "id": "2ee02403",
   "metadata": {},
   "outputs": [],
   "source": [
    "f, ax = matplotlib.pyplot.subplots(figsize=(10, 3))\n",
    "key_parameters[[width_name]].plot(ax=ax, linewidth=2)\n",
    "ax.set(title=f\"Widths with a rolling mean filter applied\")\n",
    "matplotlib.pyplot.xlabel(f\"Transect number (spaced every {sampling_resolution}m upstream)\")\n",
    "matplotlib.pyplot.ylabel(f\"River width (m)\");"
   ]
  },
  {
   "cell_type": "code",
   "execution_count": null,
   "id": "26309190",
   "metadata": {},
   "outputs": [],
   "source": [
    "f, ax = matplotlib.pyplot.subplots(figsize=(10, 3))\n",
    "key_parameters[[slope_name]].plot(ax=ax, linewidth=2)\n",
    "ax.set(title=f\"Smoothed slope calculated from the Unimodal fit water surface levels\")\n",
    "matplotlib.pyplot.xlabel(f\"Transect number (spaced every {sampling_resolution}m upstream)\")\n",
    "matplotlib.pyplot.ylabel(f\"River slope\");"
   ]
  },
  {
   "cell_type": "code",
   "execution_count": null,
   "id": "cc82284c",
   "metadata": {},
   "outputs": [],
   "source": [
    "f, ax = matplotlib.pyplot.subplots(figsize=(10, 6))\n",
    "key_parameters['depth_Neal_et_al'].plot(ax=ax, linewidth=2, label='River depth calculated Neal et al')\n",
    "key_parameters['depth_Smart_et_al'].plot(ax=ax, linewidth=2, label='River depth calculated Rupp & Smart')\n",
    "ax.set(title=\"Depths estimated by the two approaches (uniform flow theory approach, and hydraulic geometry)\")\n",
    "matplotlib.pyplot.xlabel(f\"Transect number (spaced every {sampling_resolution}m upstream)\")\n",
    "matplotlib.pyplot.ylabel(f\"River depth in m\");\n",
    "matplotlib.pyplot.legend()"
   ]
  },
  {
   "cell_type": "markdown",
   "id": "39b7919f",
   "metadata": {},
   "source": [
    "## Measured cross sections\n",
    "\n",
    "Plot minimum height (i.e height of the bed)"
   ]
  },
  {
   "cell_type": "markdown",
   "id": "a839817a",
   "metadata": {},
   "source": [
    "Add the LVD conversion"
   ]
  },
  {
   "cell_type": "code",
   "execution_count": null,
   "id": "feb7d808",
   "metadata": {},
   "outputs": [],
   "source": [
    "def get_lvd_conversion(geometry, local_vertical_datum):\n",
    "    return local_vertical_datum.sel({'x': [geometry.x], 'y': [geometry.y]}, method='nearest').data[0,0,0]\n",
    "\n",
    "cross_sections['lvd_conversion'] = cross_sections.apply(lambda row: get_lvd_conversion(row.geometry, local_vertical_datum), axis=1)\n",
    "cross_sections['z_2016'] = cross_sections['Level'] - cross_sections['lvd_conversion']"
   ]
  },
  {
   "cell_type": "markdown",
   "id": "02ca02ba",
   "metadata": {},
   "source": [
    "Pull out the centre point for each section - for idntification of the nearest sampled transect"
   ]
  },
  {
   "cell_type": "code",
   "execution_count": null,
   "id": "64d9a193",
   "metadata": {},
   "outputs": [],
   "source": [
    "section_centres = {'Section': [], 'geometry': []}\n",
    "for section in cross_sections['Section'].unique():\n",
    "    cross_section = cross_sections[cross_sections['Section'] == section]\n",
    "    section_centre = cross_section[cross_section['Level']==cross_section['Level'].min()].iloc[0]\n",
    "    section_centres['Section'].append(section_centre['Section'])\n",
    "    section_centres['geometry'].append(section_centre['geometry'])\n",
    "section_centres = geopandas.GeoDataFrame(section_centres, crs=main_channel.crs)"
   ]
  },
  {
   "cell_type": "markdown",
   "id": "dba471c8",
   "metadata": {},
   "source": [
    "Cycle through each section identifying the nearest section in the key parameters"
   ]
  },
  {
   "cell_type": "code",
   "execution_count": null,
   "id": "abfddc31",
   "metadata": {},
   "outputs": [],
   "source": [
    "nearest_transect = numpy.zeros_like(key_parameters[slope_name], dtype=bool)\n",
    "for index, row in section_centres.iterrows():\n",
    "    nearest_transect[key_parameters.distance(row.geometry).argmin()] = True\n",
    "\n",
    "nearest_key_parameters = key_parameters[nearest_transect]"
   ]
  },
  {
   "cell_type": "markdown",
   "id": "ef09381a",
   "metadata": {},
   "source": [
    "## Plot the depths of the two approaches"
   ]
  },
  {
   "cell_type": "markdown",
   "id": "bb0c1dc4",
   "metadata": {},
   "source": [
    "### Compare the depth results to measured"
   ]
  },
  {
   "cell_type": "code",
   "execution_count": null,
   "id": "f7293291",
   "metadata": {},
   "outputs": [],
   "source": [
    "f, ax = matplotlib.pyplot.subplots(figsize=(10, 6))\n",
    "(nearest_key_parameters[min_z_name]-nearest_key_parameters['depth_Neal_et_al']).reset_index(drop=True).plot(label='Bed elevation calculated Neal et al')\n",
    "(nearest_key_parameters[min_z_name]-nearest_key_parameters['depth_Smart_et_al']).reset_index(drop=True).plot(label='Bed elevation calculated Rupp & Smart')\n",
    "cross_sections.groupby('Section')['z_2016'].min().reset_index(drop=True).plot(label='Measured cross-section')\n",
    "ax.set(title=\"Bed elevations estimated and measured\")\n",
    "matplotlib.pyplot.xlabel(f\"Transect number where there are measured cross sections\")\n",
    "matplotlib.pyplot.ylabel(f\"River bed elevation in m\");\n",
    "matplotlib.pyplot.legend()"
   ]
  },
  {
   "cell_type": "markdown",
   "id": "abfc6618",
   "metadata": {},
   "source": [
    "Plot the nearest widths"
   ]
  },
  {
   "cell_type": "markdown",
   "id": "dd6e89c3",
   "metadata": {},
   "source": [
    "### Plot other values\n",
    "* Widths - nearest the measured cross sections\n",
    "* Measured cross section depth compared to water surface height"
   ]
  },
  {
   "cell_type": "code",
   "execution_count": null,
   "id": "a0f6308d",
   "metadata": {},
   "outputs": [],
   "source": [
    "f, ax = matplotlib.pyplot.subplots(figsize=(20, 6))\n",
    "nearest_key_parameters[[width_name]].reset_index(drop=True).plot(ax=ax)\n",
    "ax.set(title=\"Estimated width nearest to measured cross section\")\n",
    "matplotlib.pyplot.xlabel(f\"Transect number (spaced every {sampling_resolution}m upstream)\")\n",
    "matplotlib.pyplot.ylabel(f\"Channel width (m)\");\n",
    "matplotlib.pyplot.legend()"
   ]
  },
  {
   "cell_type": "code",
   "execution_count": null,
   "id": "a8fc6002",
   "metadata": {},
   "outputs": [],
   "source": [
    "f, ax = matplotlib.pyplot.subplots(figsize=(20, 6))\n",
    "nearest_key_parameters[['min_z_centre_unimodal', 'min_z_centre']].reset_index(drop=True).plot(ax=ax)\n",
    "cross_sections.groupby('Section')['z_2016'].min().reset_index(drop=True).plot(ax=ax, label='Measured cross-section depth')\n",
    "ax.set(title=\"Measured depth compared to estimated water surface elevation\")\n",
    "matplotlib.pyplot.xlabel(f\"Transect number (spaced every {sampling_resolution}m upstream)\")\n",
    "matplotlib.pyplot.ylabel(f\"Elevation (m)\");\n",
    "matplotlib.pyplot.legend()"
   ]
  },
  {
   "cell_type": "markdown",
   "id": "1d3e8645",
   "metadata": {},
   "source": [
    "### Plots exploring the change to width to produce an expected bed elevation"
   ]
  },
  {
   "cell_type": "code",
   "execution_count": null,
   "id": "3587d7fb",
   "metadata": {},
   "outputs": [],
   "source": [
    "fudge_factor = 2\n",
    "depth_wider = (nearest_key_parameters['mannings_n'] * nearest_key_parameters['flow'] / (numpy.sqrt(nearest_key_parameters['slope']) * nearest_key_parameters['widths_Savgol'] * fudge_factor)) ** (3/5) - threshold\n",
    "\n",
    "f, ax = matplotlib.pyplot.subplots(figsize=(20, 6))\n",
    "(nearest_key_parameters['min_z_centre_unimodal']-depth_wider).reset_index(drop=True).plot(label='Calculated from unimodal min_z')\n",
    "(nearest_key_parameters['min_z_centre_unimodal_0.5km_rolling_mean'] - depth_wider).reset_index(drop=True).plot(label='Calculated from smooth unimodal min_z')\n",
    "(nearest_key_parameters['min_z_centre']-depth_wider).reset_index(drop=True).plot(label='Calculated from min_z')\n",
    "cross_sections.groupby('Section')['z_2016'].min().reset_index(drop=True).plot(label='Measured cross-section')\n",
    "ax.set(title=f\"Depths estimated using the Uniform Flow Throery approach with width mutiplier of {fudge_factor}\")\n",
    "matplotlib.pyplot.xlabel(f\"Transect number (spaced every {sampling_resolution}m upstream)\")\n",
    "matplotlib.pyplot.ylabel(f\"River depth in m\");\n",
    "matplotlib.pyplot.legend()"
   ]
  },
  {
   "cell_type": "code",
   "execution_count": null,
   "id": "8a94b979",
   "metadata": {},
   "outputs": [],
   "source": [
    "fudge_factor = 2\n",
    "depth_wider = (nearest_key_parameters['flow'] / (K_0 * nearest_key_parameters['widths_Savgol'] * fudge_factor * nearest_key_parameters['slope'] ** b)) ** (1 / (1+a)) - threshold\n",
    "\n",
    "f, ax = matplotlib.pyplot.subplots(figsize=(20, 6))\n",
    "(nearest_key_parameters['min_z_centre_unimodal']-depth_wider).reset_index(drop=True).plot(label='Calculated from unimodal min_z')\n",
    "(nearest_key_parameters['min_z_centre_unimodal_0.5km_rolling_mean']-depth_wider).reset_index(drop=True).plot(label='Calculated from smooth unimodal min_z')\n",
    "(nearest_key_parameters['min_z_centre']-depth_wider).reset_index(drop=True).plot(label='Calculated from min_z')\n",
    "cross_sections.groupby('Section')['z_2016'].min().reset_index(drop=True).plot(label='Measured cross-section')\n",
    "ax.set(title=f\"Depths estimated using the conceptual multivariate regression approach with width mutiplier of {fudge_factor}\")\n",
    "matplotlib.pyplot.xlabel(f\"Transect number (spaced every {sampling_resolution}m upstream)\")\n",
    "matplotlib.pyplot.ylabel(f\"River depth in m\");\n",
    "matplotlib.pyplot.legend()"
   ]
  },
  {
   "cell_type": "markdown",
   "id": "8452d22a",
   "metadata": {},
   "source": [
    "### Mics plots for reference: \n",
    "Water levels for 10m spaced transects"
   ]
  },
  {
   "cell_type": "code",
   "execution_count": null,
   "id": "3b4dd43c",
   "metadata": {},
   "outputs": [],
   "source": [
    "f, ax = matplotlib.pyplot.subplots(figsize=(10, 3))\n",
    "key_parameters[['min_z_centre_unimodal', 'min_z_centre_unimodal_0.5km_rolling_mean', 'min_z_centre']].plot(ax=ax, linewidth=2)\n",
    "ax.set(title=f\"Water surface as calculated from sampled transects\")\n",
    "matplotlib.pyplot.xlabel(f\"Transect number (spaced every {sampling_resolution}m upstream)\")\n",
    "matplotlib.pyplot.ylabel(f\"Water surface elevation\");"
   ]
  },
  {
   "cell_type": "markdown",
   "id": "509cf7c7",
   "metadata": {},
   "source": [
    "Widths at 10m spacing"
   ]
  },
  {
   "cell_type": "code",
   "execution_count": null,
   "id": "f99c516e",
   "metadata": {},
   "outputs": [],
   "source": [
    "f, ax = matplotlib.pyplot.subplots(figsize=(10, 3))\n",
    "key_parameters[['widths_Savgol']].plot(ax=ax, linewidth=2)\n",
    "ax.set(title=\"Channel width (m)\")\n",
    "matplotlib.pyplot.xlabel(f\"Transect number (spaced every {sampling_resolution}m upstream)\")\n",
    "matplotlib.pyplot.ylabel(f\"Estimated channel width\");"
   ]
  },
  {
   "cell_type": "code",
   "execution_count": null,
   "id": "c99fc23b",
   "metadata": {},
   "outputs": [],
   "source": []
  }
 ],
 "metadata": {
  "kernelspec": {
   "display_name": "Python [conda env:geofabricsdask]",
   "language": "python",
   "name": "conda-env-geofabricsdask-py"
  },
  "language_info": {
   "codemirror_mode": {
    "name": "ipython",
    "version": 3
   },
   "file_extension": ".py",
   "mimetype": "text/x-python",
   "name": "python",
   "nbconvert_exporter": "python",
   "pygments_lexer": "ipython3",
   "version": "3.9.7"
  }
 },
 "nbformat": 4,
 "nbformat_minor": 5
}
