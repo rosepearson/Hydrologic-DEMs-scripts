{
 "cells": [
  {
   "cell_type": "code",
   "execution_count": null,
   "id": "5a132dc2",
   "metadata": {},
   "outputs": [],
   "source": [
    "import geopandas\n",
    "import pandas\n",
    "import pathlib\n",
    "import numpy\n",
    "import matplotlib\n",
    "from IPython.core.display import display, HTML\n",
    "\n",
    "display(HTML(\"<style>.container { width:100% !important; }</style>\"))"
   ]
  },
  {
   "cell_type": "code",
   "execution_count": null,
   "id": "557a1ee6",
   "metadata": {},
   "outputs": [],
   "source": [
    "sampling_resolution = 10\n",
    "threshold = 1"
   ]
  },
  {
   "cell_type": "markdown",
   "id": "4d522ad1",
   "metadata": {},
   "source": [
    "## Load in results\n",
    "### Widths and slopes"
   ]
  },
  {
   "cell_type": "code",
   "execution_count": null,
   "id": "d70500be",
   "metadata": {},
   "outputs": [],
   "source": [
    "width_file = pathlib.Path(fr\"C:\\Users\\pearsonra\\Documents\\data\\river_bathemetry\\waikanae\\caches\\100000000\\final_transects_100000000.geojson\")\n",
    "rec_main_channel_file = pathlib.Path(fr\"C:\\Users\\pearsonra\\Documents\\data\\river_bathemetry\\waikanae\\caches\\100000000\\rec_main_channel.geojson\")\n",
    "widths = geopandas.read_file(width_file)\n",
    "main_channel = geopandas.read_file(rec_main_channel_file)"
   ]
  },
  {
   "cell_type": "markdown",
   "id": "28171587",
   "metadata": {},
   "source": [
    "### Slopes and Flows"
   ]
  },
  {
   "cell_type": "code",
   "execution_count": null,
   "id": "d11c0be5",
   "metadata": {},
   "outputs": [],
   "source": [
    "mannings_file = pathlib.Path(r\"C:\\Users\\pearsonra\\Documents\\data\\river_bathemetry\\mannings_n\\bathy.csv.gz\")\n",
    "mannings = pandas.read_csv(mannings_file)"
   ]
  },
  {
   "cell_type": "markdown",
   "id": "96d20f01",
   "metadata": {},
   "source": [
    "### Measured cross sections"
   ]
  },
  {
   "cell_type": "code",
   "execution_count": null,
   "id": "88df5551",
   "metadata": {},
   "outputs": [],
   "source": [
    "cross_section_file = pathlib.Path(r\"C:/Users/pearsonra/Documents/data/river_bathemetry/sections/Waikanae/Waikanae_Cross_Sections_NIWA/2014_Survey_XS_NZTM.shp\")\n",
    "cross_sections = geopandas.read_file(cross_section_file)"
   ]
  },
  {
   "cell_type": "markdown",
   "id": "5345f3e9",
   "metadata": {},
   "source": [
    "### Local datum conversion"
   ]
  },
  {
   "cell_type": "code",
   "execution_count": null,
   "id": "e85e702e",
   "metadata": {},
   "outputs": [],
   "source": [
    "local_datum_file = pathlib.Path(r\"C:\\Users\\pearsonra\\Documents\\data\\local_datums\\lds-wellington-1953-to-nzvd2016-conversion-raster-GTiff\\wellington-1953-to-nzvd2016-conversion-raster.tif\")"
   ]
  },
  {
   "cell_type": "code",
   "execution_count": null,
   "id": "eae6dd56",
   "metadata": {},
   "outputs": [],
   "source": [
    "import rioxarray\n",
    "with rioxarray.rioxarray.open_rasterio(local_datum_file, masked=True) as local_vertical_datum:\n",
    "            local_vertical_datum.load()"
   ]
  },
  {
   "cell_type": "markdown",
   "id": "6c738502",
   "metadata": {},
   "source": [
    "# Translate the samples to correct reach"
   ]
  },
  {
   "cell_type": "code",
   "execution_count": null,
   "id": "d908fd6d",
   "metadata": {},
   "outputs": [],
   "source": [
    "widths['nzsegment'] = numpy.zeros(len(widths['widths']), dtype=int) * -1\n",
    "for i, row in main_channel.iterrows():\n",
    "    widths.loc[widths.intersects(row.geometry), ('nzsegment')] = row['nzsegment']"
   ]
  },
  {
   "cell_type": "markdown",
   "id": "104cfe3b",
   "metadata": {},
   "source": [
    "# Add the flows and manning's n to the widths table"
   ]
  },
  {
   "cell_type": "code",
   "execution_count": null,
   "id": "779e1e29",
   "metadata": {},
   "outputs": [],
   "source": [
    "key_parameters = widths[['nzsegment', 'slope', 'widths_Savgol', 'geometry', 'min_z', 'min_z_unimodal', 'min_z_unimodal_0.5km_rolling_mean']]\n",
    "key_parameters = key_parameters[key_parameters['nzsegment'] != 0]"
   ]
  },
  {
   "cell_type": "code",
   "execution_count": null,
   "id": "5c43e57b",
   "metadata": {},
   "outputs": [],
   "source": [
    "key_parameters['mannings_n'] = numpy.zeros(len(key_parameters['nzsegment']), dtype=int)\n",
    "key_parameters['flow'] = numpy.zeros(len(key_parameters['nzsegment']), dtype=int)\n",
    "for nzsegment in key_parameters['nzsegment'].unique():\n",
    "    key_parameters.loc[key_parameters['nzsegment'] == nzsegment, ('mannings_n')] = mannings[mannings['nzsegment'] == nzsegment]['n'].unique()[0]\n",
    "    key_parameters.loc[key_parameters['nzsegment'] == nzsegment, ('flow')] = mannings[mannings['nzsegment'] == nzsegment]['flow'].unique()[0]"
   ]
  },
  {
   "cell_type": "markdown",
   "id": "ef2181eb",
   "metadata": {},
   "source": [
    "Note a section is out of order, which is why the flow goes down."
   ]
  },
  {
   "cell_type": "code",
   "execution_count": null,
   "id": "4f9792fe",
   "metadata": {},
   "outputs": [],
   "source": [
    "key_parameters[['nzsegment']].plot()"
   ]
  },
  {
   "cell_type": "markdown",
   "id": "9b2857be",
   "metadata": {},
   "source": [
    "## Calculate depth"
   ]
  },
  {
   "cell_type": "code",
   "execution_count": null,
   "id": "7ebefbbb",
   "metadata": {},
   "outputs": [],
   "source": [
    "key_parameters['depth_Neal_et_al'] = (key_parameters['mannings_n'] * key_parameters['flow'] / (numpy.sqrt(key_parameters['slope']) * key_parameters['widths_Savgol'])) ** (3/5) - threshold"
   ]
  },
  {
   "cell_type": "code",
   "execution_count": null,
   "id": "a278df8d",
   "metadata": {},
   "outputs": [],
   "source": [
    "a = 0.745\n",
    "b = 0.305\n",
    "K_0 = 6.16"
   ]
  },
  {
   "cell_type": "code",
   "execution_count": null,
   "id": "e24a2811",
   "metadata": {},
   "outputs": [],
   "source": [
    "key_parameters['depth_Smart_et_al'] = (key_parameters['flow'] / (K_0 * key_parameters['widths_Savgol'] * key_parameters['slope'] ** b)) ** (1 / (1+a)) - threshold"
   ]
  },
  {
   "cell_type": "markdown",
   "id": "576647c4",
   "metadata": {},
   "source": [
    "## Plot results\n",
    "Include plots of each parameter - Manning's n, flow, depth and slope - used to calculate depth"
   ]
  },
  {
   "cell_type": "code",
   "execution_count": null,
   "id": "cfe638ea",
   "metadata": {},
   "outputs": [],
   "source": [
    "f, ax = matplotlib.pyplot.subplots(figsize=(10, 3))\n",
    "key_parameters[['mannings_n']].plot(ax=ax, linewidth=2)\n",
    "ax.set(title=f\"Mannings N for {threshold}m threshold\")\n",
    "matplotlib.pyplot.xlabel(f\"Transect number (spaced every {sampling_resolution}m upstream)\")\n",
    "matplotlib.pyplot.ylabel(f\"River Mannings M in m\");"
   ]
  },
  {
   "cell_type": "code",
   "execution_count": null,
   "id": "639a0028",
   "metadata": {},
   "outputs": [],
   "source": [
    "f, ax = matplotlib.pyplot.subplots(figsize=(10, 3))\n",
    "key_parameters[['flow']].plot(ax=ax, linewidth=2)\n",
    "ax.set(title=f\"Flows\")\n",
    "matplotlib.pyplot.xlabel(f\"Transect number (spaced every {sampling_resolution}m upstream)\")\n",
    "matplotlib.pyplot.ylabel(f\"River flow in m^3/s\");"
   ]
  },
  {
   "cell_type": "code",
   "execution_count": null,
   "id": "1450a555",
   "metadata": {},
   "outputs": [],
   "source": [
    "f, ax = matplotlib.pyplot.subplots(figsize=(10, 3))\n",
    "key_parameters[['widths_Savgol']].plot(ax=ax, linewidth=2)\n",
    "ax.set(title=f\"Widths with a Savgol filter applied\")\n",
    "matplotlib.pyplot.xlabel(f\"Transect number (spaced every {sampling_resolution}m upstream)\")\n",
    "matplotlib.pyplot.ylabel(f\"River width (m)\");"
   ]
  },
  {
   "cell_type": "code",
   "execution_count": null,
   "id": "8ec9d0bc",
   "metadata": {},
   "outputs": [],
   "source": [
    "f, ax = matplotlib.pyplot.subplots(figsize=(10, 3))\n",
    "key_parameters[['slope']].plot(ax=ax, linewidth=2)\n",
    "ax.set(title=f\"Slopes as calculated from the Unimodal smoothed water surface levels\")\n",
    "matplotlib.pyplot.xlabel(f\"Transect number (spaced every {sampling_resolution}m upstream)\")\n",
    "matplotlib.pyplot.ylabel(f\"River slope\");"
   ]
  },
  {
   "cell_type": "code",
   "execution_count": null,
   "id": "fbc1c3b1",
   "metadata": {},
   "outputs": [],
   "source": [
    "f, ax = matplotlib.pyplot.subplots(figsize=(20, 6))\n",
    "key_parameters['depth_Neal_et_al'].plot(ax=ax, linewidth=2)\n",
    "ax.set(title=f\"Depths estimated by the uniform flow theory approach\")\n",
    "matplotlib.pyplot.xlabel(f\"Transect number (spaced every {sampling_resolution}m upstream)\")\n",
    "matplotlib.pyplot.ylabel(f\"River depth in m\");"
   ]
  },
  {
   "cell_type": "code",
   "execution_count": null,
   "id": "ff79c9b6",
   "metadata": {},
   "outputs": [],
   "source": [
    "f, ax = matplotlib.pyplot.subplots(figsize=(20, 6))\n",
    "key_parameters['depth_Smart_et_al'].plot(ax=ax, linewidth=2)\n",
    "ax.set(title=\"Depths estimated using the conceptual multivariate regression approach\")\n",
    "matplotlib.pyplot.xlabel(f\"Transect number (spaced every {sampling_resolution}m upstream)\")\n",
    "matplotlib.pyplot.ylabel(f\"River depth in m\");"
   ]
  },
  {
   "cell_type": "markdown",
   "id": "1275df27",
   "metadata": {},
   "source": [
    "## Measured cross sections\n",
    "\n",
    "Plot minimum height (i.e height of the bed)"
   ]
  },
  {
   "cell_type": "markdown",
   "id": "c6780f7e",
   "metadata": {},
   "source": [
    "Add the LVD conversion"
   ]
  },
  {
   "cell_type": "code",
   "execution_count": null,
   "id": "318daab2",
   "metadata": {},
   "outputs": [],
   "source": [
    "def get_lvd_conversion(geometry, local_vertical_datum):\n",
    "    return local_vertical_datum.sel({'x': [geometry.x], 'y': [geometry.y]}, method='nearest').data[0,0,0]\n",
    "\n",
    "cross_sections['lvd_conversion'] = cross_sections.apply(lambda row: get_lvd_conversion(row.geometry, local_vertical_datum), axis=1)\n",
    "cross_sections['z_2016'] = cross_sections['Level'] - cross_sections['lvd_conversion']"
   ]
  },
  {
   "cell_type": "markdown",
   "id": "dcf345ae",
   "metadata": {},
   "source": [
    "Pull out the centre point for each section - for idntification of the nearest sampled transect"
   ]
  },
  {
   "cell_type": "code",
   "execution_count": null,
   "id": "27ef105c",
   "metadata": {},
   "outputs": [],
   "source": [
    "section_centres = {'Section': [], 'geometry': []}\n",
    "for section in cross_sections['Section'].unique():\n",
    "    section_centre = cross_sections[cross_sections['Section'] == section].iloc[round(len(cross_sections[cross_sections['Section'] == section])/2)]\n",
    "    section_centres['Section'].append(section_centre['Section'])\n",
    "    section_centres['geometry'].append(section_centre['geometry'])\n",
    "section_centres = geopandas.GeoDataFrame(section_centres, crs=main_channel.crs)"
   ]
  },
  {
   "cell_type": "markdown",
   "id": "cca31335",
   "metadata": {},
   "source": [
    "Cycle through each section identifying the nearest section in the key parameters"
   ]
  },
  {
   "cell_type": "code",
   "execution_count": null,
   "id": "81f1930a",
   "metadata": {},
   "outputs": [],
   "source": [
    "nearest_transect = numpy.zeros_like(key_parameters['slope'], dtype=bool)\n",
    "for index, row in section_centres.iterrows():\n",
    "    nearest_transect[key_parameters.distance(row.geometry).argmin()] = True\n",
    "\n",
    "nearest_key_parameters = key_parameters[nearest_transect]"
   ]
  },
  {
   "cell_type": "markdown",
   "id": "73052142",
   "metadata": {},
   "source": [
    "### Compare the depth results for different min_z values"
   ]
  },
  {
   "cell_type": "code",
   "execution_count": null,
   "id": "fc99a41c",
   "metadata": {},
   "outputs": [],
   "source": [
    "f, ax = matplotlib.pyplot.subplots(figsize=(20, 6))\n",
    "(nearest_key_parameters['min_z_unimodal']-nearest_key_parameters['depth_Neal_et_al']).reset_index(drop=True).plot(label='Calculated from unimodal min_z')\n",
    "(nearest_key_parameters['min_z_unimodal_0.5km_rolling_mean']-nearest_key_parameters['depth_Neal_et_al']).reset_index(drop=True).plot(label='Calculated from smooth unimodal min_z')\n",
    "(nearest_key_parameters['min_z']-nearest_key_parameters['depth_Neal_et_al']).reset_index(drop=True).plot(label='Calculated from min_z')\n",
    "cross_sections.groupby('Section')['z_2016'].min().reset_index(drop=True).plot(label='Measured cross-section')\n",
    "ax.set(title=\"Depths estimated using the Uniform Flow Theory\")\n",
    "matplotlib.pyplot.xlabel(f\"Transect number (spaced every {sampling_resolution}m upstream)\")\n",
    "matplotlib.pyplot.ylabel(f\"River depth in m\");\n",
    "matplotlib.pyplot.legend()"
   ]
  },
  {
   "cell_type": "code",
   "execution_count": null,
   "id": "833a83a2",
   "metadata": {},
   "outputs": [],
   "source": [
    "f, ax = matplotlib.pyplot.subplots(figsize=(20, 6))\n",
    "(nearest_key_parameters['min_z_unimodal']-nearest_key_parameters['depth_Smart_et_al']).reset_index(drop=True).plot(label='Calculated from unimodal min_z')\n",
    "(nearest_key_parameters['min_z_unimodal_0.5km_rolling_mean'] - nearest_key_parameters['depth_Smart_et_al']).reset_index(drop=True).plot(label='Calculated from smooth unimodal min_z')\n",
    "(nearest_key_parameters['min_z']-nearest_key_parameters['depth_Smart_et_al']).reset_index(drop=True).plot(label='Calculated from min_z')\n",
    "cross_sections.groupby('Section')['z_2016'].min().reset_index(drop=True).plot(label='Measured cross-section')\n",
    "ax.set(title=\"Depths estimated using the conceptual multivariate regression approach\")\n",
    "matplotlib.pyplot.xlabel(f\"Transect number (spaced every {sampling_resolution}m upstream)\")\n",
    "matplotlib.pyplot.ylabel(f\"River depth in m\");\n",
    "matplotlib.pyplot.legend()"
   ]
  },
  {
   "cell_type": "markdown",
   "id": "4f0c6afd",
   "metadata": {},
   "source": [
    "Plot the nearest widths"
   ]
  },
  {
   "cell_type": "markdown",
   "id": "fc06d741",
   "metadata": {},
   "source": [
    "### Plot other values\n",
    "* Widths - nearest the measured cross sections\n",
    "* Measured cross section depth compared to water surface height"
   ]
  },
  {
   "cell_type": "code",
   "execution_count": null,
   "id": "80f059f5",
   "metadata": {},
   "outputs": [],
   "source": [
    "f, ax = matplotlib.pyplot.subplots(figsize=(20, 6))\n",
    "nearest_key_parameters[['widths_Savgol']].reset_index(drop=True).plot(ax=ax)\n",
    "ax.set(title=\"Estimated width nearest to measured cross section\")\n",
    "matplotlib.pyplot.xlabel(f\"Transect number (spaced every {sampling_resolution}m upstream)\")\n",
    "matplotlib.pyplot.ylabel(f\"Channel width (m)\");\n",
    "matplotlib.pyplot.legend()"
   ]
  },
  {
   "cell_type": "code",
   "execution_count": null,
   "id": "6c57346c",
   "metadata": {},
   "outputs": [],
   "source": [
    "f, ax = matplotlib.pyplot.subplots(figsize=(20, 6))\n",
    "nearest_key_parameters[['min_z_unimodal', 'min_z_unimodal_0.5km_rolling_mean', 'min_z']].reset_index(drop=True).plot(ax=ax)\n",
    "cross_sections.groupby('Section')['z_2016'].min().reset_index(drop=True).plot(ax=ax, label='Measured cross-section depth')\n",
    "ax.set(title=\"Measured depth compared to estimated water surface elevation\")\n",
    "matplotlib.pyplot.xlabel(f\"Transect number (spaced every {sampling_resolution}m upstream)\")\n",
    "matplotlib.pyplot.ylabel(f\"Elevation (m)\");\n",
    "matplotlib.pyplot.legend()"
   ]
  },
  {
   "cell_type": "markdown",
   "id": "8cf8e7db",
   "metadata": {},
   "source": [
    "### Plots exploring the change to width to produce an expected bed elevation"
   ]
  },
  {
   "cell_type": "code",
   "execution_count": null,
   "id": "adf437bf",
   "metadata": {},
   "outputs": [],
   "source": [
    "fudge_factor = 2\n",
    "depth_wider = (nearest_key_parameters['mannings_n'] * nearest_key_parameters['flow'] / (numpy.sqrt(nearest_key_parameters['slope']) * nearest_key_parameters['widths_Savgol'] * fudge_factor)) ** (3/5) - threshold\n",
    "\n",
    "f, ax = matplotlib.pyplot.subplots(figsize=(20, 6))\n",
    "(nearest_key_parameters['min_z_unimodal']-depth_wider).reset_index(drop=True).plot(label='Calculated from unimodal min_z')\n",
    "(nearest_key_parameters['min_z_unimodal_0.5km_rolling_mean'] - depth_wider).reset_index(drop=True).plot(label='Calculated from smooth unimodal min_z')\n",
    "(nearest_key_parameters['min_z']-depth_wider).reset_index(drop=True).plot(label='Calculated from min_z')\n",
    "cross_sections.groupby('Section')['z_2016'].min().reset_index(drop=True).plot(label='Measured cross-section')\n",
    "ax.set(title=f\"Depths estimated using the Uniform Flow Throery approach with width mutiplier of {fudge_factor}\")\n",
    "matplotlib.pyplot.xlabel(f\"Transect number (spaced every {sampling_resolution}m upstream)\")\n",
    "matplotlib.pyplot.ylabel(f\"River depth in m\");\n",
    "matplotlib.pyplot.legend()"
   ]
  },
  {
   "cell_type": "code",
   "execution_count": null,
   "id": "ae5ec1e2",
   "metadata": {},
   "outputs": [],
   "source": [
    "fudge_factor = 2\n",
    "depth_wider = (nearest_key_parameters['flow'] / (K_0 * nearest_key_parameters['widths_Savgol'] * fudge_factor * nearest_key_parameters['slope'] ** b)) ** (1 / (1+a)) - threshold\n",
    "\n",
    "f, ax = matplotlib.pyplot.subplots(figsize=(20, 6))\n",
    "(nearest_key_parameters['min_z_unimodal']-depth_wider).reset_index(drop=True).plot(label='Calculated from unimodal min_z')\n",
    "(nearest_key_parameters['min_z_unimodal_0.5km_rolling_mean']-depth_wider).reset_index(drop=True).plot(label='Calculated from smooth unimodal min_z')\n",
    "(nearest_key_parameters['min_z']-depth_wider).reset_index(drop=True).plot(label='Calculated from min_z')\n",
    "cross_sections.groupby('Section')['z_2016'].min().reset_index(drop=True).plot(label='Measured cross-section')\n",
    "ax.set(title=f\"Depths estimated using the conceptual multivariate regression approach with width mutiplier of {fudge_factor}\")\n",
    "matplotlib.pyplot.xlabel(f\"Transect number (spaced every {sampling_resolution}m upstream)\")\n",
    "matplotlib.pyplot.ylabel(f\"River depth in m\");\n",
    "matplotlib.pyplot.legend()"
   ]
  },
  {
   "cell_type": "markdown",
   "id": "20926118",
   "metadata": {},
   "source": [
    "### Mics plots for reference: \n",
    "Water levels for 10m spaced transects"
   ]
  },
  {
   "cell_type": "code",
   "execution_count": null,
   "id": "70ad590b",
   "metadata": {},
   "outputs": [],
   "source": [
    "f, ax = matplotlib.pyplot.subplots(figsize=(10, 3))\n",
    "key_parameters[['min_z_unimodal', 'min_z_unimodal_0.5km_rolling_mean', 'min_z']].plot(ax=ax, linewidth=2)\n",
    "ax.set(title=f\"Water surface as calculated from sampled transects\")\n",
    "matplotlib.pyplot.xlabel(f\"Transect number (spaced every {sampling_resolution}m upstream)\")\n",
    "matplotlib.pyplot.ylabel(f\"Water surface elevation\");"
   ]
  },
  {
   "cell_type": "markdown",
   "id": "b2505124",
   "metadata": {},
   "source": [
    "Widths at 10m spacing"
   ]
  },
  {
   "cell_type": "code",
   "execution_count": null,
   "id": "e11d005b",
   "metadata": {},
   "outputs": [],
   "source": [
    "f, ax = matplotlib.pyplot.subplots(figsize=(10, 3))\n",
    "key_parameters[['widths_Savgol']].plot(ax=ax, linewidth=2)\n",
    "ax.set(title=\"Channel width (m)\")\n",
    "matplotlib.pyplot.xlabel(f\"Transect number (spaced every {sampling_resolution}m upstream)\")\n",
    "matplotlib.pyplot.ylabel(f\"Estimated channel width\");"
   ]
  },
  {
   "cell_type": "code",
   "execution_count": null,
   "id": "9be5c103",
   "metadata": {},
   "outputs": [],
   "source": []
  }
 ],
 "metadata": {
  "kernelspec": {
   "display_name": "Python [conda env:geofabricsdask]",
   "language": "python",
   "name": "conda-env-geofabricsdask-py"
  },
  "language_info": {
   "codemirror_mode": {
    "name": "ipython",
    "version": 3
   },
   "file_extension": ".py",
   "mimetype": "text/x-python",
   "name": "python",
   "nbconvert_exporter": "python",
   "pygments_lexer": "ipython3",
   "version": "3.9.7"
  }
 },
 "nbformat": 4,
 "nbformat_minor": 5
}
