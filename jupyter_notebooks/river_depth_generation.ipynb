{
 "cells": [
  {
   "cell_type": "code",
   "execution_count": 14,
   "id": "5a132dc2",
   "metadata": {},
   "outputs": [
    {
     "data": {
      "text/html": [
       "<style>.container { width:100% !important; }</style>"
      ],
      "text/plain": [
       "<IPython.core.display.HTML object>"
      ]
     },
     "metadata": {},
     "output_type": "display_data"
    }
   ],
   "source": [
    "import geopandas\n",
    "import pandas\n",
    "import pathlib\n",
    "import numpy\n",
    "import matplotlib\n",
    "from IPython.core.display import display, HTML\n",
    "\n",
    "display(HTML(\"<style>.container { width:100% !important; }</style>\"))"
   ]
  },
  {
   "cell_type": "code",
   "execution_count": 2,
   "id": "557a1ee6",
   "metadata": {},
   "outputs": [],
   "source": [
    "sampling_resolution = 10\n",
    "threshold = 1"
   ]
  },
  {
   "cell_type": "code",
   "execution_count": 9,
   "id": "d70500be",
   "metadata": {},
   "outputs": [],
   "source": [
    "width_file = pathlib.Path(fr\"C:\\Users\\pearsonra\\Documents\\data\\river_bathemetry\\waikanae\\caches\\100000000\\final_transects_100000000.geojson\")\n",
    "rec_main_channel_file = pathlib.Path(fr\"C:\\Users\\pearsonra\\Documents\\data\\river_bathemetry\\waikanae\\caches\\100000000\\rec_main_channel.geojson\")"
   ]
  },
  {
   "cell_type": "code",
   "execution_count": 4,
   "id": "d11c0be5",
   "metadata": {},
   "outputs": [],
   "source": [
    "#width_file = pathlib.Path(fr\"C:\\Users\\pearsonra\\Documents\\data\\river_bathemetry\\waikanae\\waikanae_river_widths_at_{sampling_resolution}m_upriver_spacing_{threshold}m_bank_threshold_upstream.geojson\")\n",
    "#width_file_midpoints = pathlib.Path(fr\"C:\\Users\\pearsonra\\Documents\\data\\river_bathemetry\\waikanae\\waikanae_river_widths_at_{sampling_resolution}m_upriver_spacing_{threshold}m_bank_threshold_upstream_2_3_midpoint.geojson\")\n",
    "mannings_file = pathlib.Path(r\"C:\\Users\\pearsonra\\Documents\\data\\river_bathemetry\\mannings_n\\bathy.csv.gz\")\n",
    "depths_old_file = pathlib.Path(r\"C:\\Users\\pearsonra\\Documents\\data\\river_bathemetry\\mannings_n\\waikanae_depths.csv\")"
   ]
  },
  {
   "cell_type": "code",
   "execution_count": 10,
   "id": "88df5551",
   "metadata": {},
   "outputs": [],
   "source": [
    "widths = geopandas.read_file(width_file)\n",
    "main_channel = geopandas.read_file(rec_main_channel_file)\n",
    "#widths_midpoints = geopandas.read_file(width_file_midpoints)\n",
    "mannings = pandas.read_csv(mannings_file)\n",
    "depths = pandas.read_csv(depths_old_file)"
   ]
  },
  {
   "cell_type": "markdown",
   "id": "6c738502",
   "metadata": {},
   "source": [
    "# Translate the samples to correct reach"
   ]
  },
  {
   "cell_type": "code",
   "execution_count": 18,
   "id": "d908fd6d",
   "metadata": {},
   "outputs": [],
   "source": [
    "widths['nzsegment'] = numpy.zeros(len(widths['widths']), dtype=int) * -1\n",
    "for i, row in main_channel.iterrows():\n",
    "    widths.loc[widths.intersects(row.geometry), ('nzsegment')] = row['nzsegment']"
   ]
  },
  {
   "cell_type": "markdown",
   "id": "104cfe3b",
   "metadata": {},
   "source": [
    "# Add the flows and manning's n to the widths table"
   ]
  },
  {
   "cell_type": "code",
   "execution_count": 44,
   "id": "6c1dc8d8",
   "metadata": {},
   "outputs": [
    {
     "data": {
      "text/plain": [
       "array([9253579, 9253587, 9253625, 9253707, 9253724, 9253695, 9253696,\n",
       "       9253850, 9253861, 9253907, 9253968, 9254020, 9254100, 9254160,\n",
       "       9254352, 9254385])"
      ]
     },
     "execution_count": 44,
     "metadata": {},
     "output_type": "execute_result"
    }
   ],
   "source": [
    "key_parameters['nzsegment'].unique()"
   ]
  },
  {
   "cell_type": "code",
   "execution_count": 33,
   "id": "779e1e29",
   "metadata": {},
   "outputs": [],
   "source": [
    "key_parameters = widths[['nzsegment', 'slope', 'widths_Savgol']]\n",
    "key_parameters = key_parameters[key_parameters['nzsegment'] != 0]"
   ]
  },
  {
   "cell_type": "code",
   "execution_count": 69,
   "id": "5c43e57b",
   "metadata": {},
   "outputs": [],
   "source": [
    "key_parameters['mannings_n'] = numpy.zeros(len(key_parameters['nzsegment']), dtype=int)\n",
    "key_parameters['flow'] = numpy.zeros(len(key_parameters['nzsegment']), dtype=int)\n",
    "for nzsegment in key_parameters['nzsegment'].unique():\n",
    "    key_parameters.loc[key_parameters['nzsegment'] == nzsegment, ('mannings_n')] = mannings[mannings['nzsegment'] == nzsegment]['n'].unique()[0]\n",
    "    key_parameters.loc[key_parameters['nzsegment'] == nzsegment, ('flow')] = mannings[mannings['nzsegment'] == nzsegment]['flow'].unique()[0]"
   ]
  },
  {
   "cell_type": "code",
   "execution_count": 64,
   "id": "2cfe5399",
   "metadata": {},
   "outputs": [
    {
     "data": {
      "text/plain": [
       "0.0377"
      ]
     },
     "execution_count": 64,
     "metadata": {},
     "output_type": "execute_result"
    }
   ],
   "source": [
    "mannings[mannings['nzsegment'] == 9253579]['n'].unique()[0]"
   ]
  },
  {
   "cell_type": "code",
   "execution_count": 76,
   "id": "4f9792fe",
   "metadata": {},
   "outputs": [
    {
     "data": {
      "text/plain": [
       "<AxesSubplot:>"
      ]
     },
     "execution_count": 76,
     "metadata": {},
     "output_type": "execute_result"
    },
    {
     "data": {
      "image/png": "[encoded data removed]",
      "text/plain": [
       "<Figure size 432x288 with 1 Axes>"
      ]
     },
     "metadata": {
      "needs_background": "light"
     },
     "output_type": "display_data"
    }
   ],
   "source": [
    "key_parameters[['nzsegment']].plot()"
   ]
  },
  {
   "cell_type": "code",
   "execution_count": 91,
   "id": "cfe638ea",
   "metadata": {},
   "outputs": [
    {
     "data": {
      "text/plain": [
       "<AxesSubplot:>"
      ]
     },
     "execution_count": 91,
     "metadata": {},
     "output_type": "execute_result"
    },
    {
     "data": {
      "image/png": "[encoded data removed]",
      "text/plain": [
       "<Figure size 432x288 with 1 Axes>"
      ]
     },
     "metadata": {
      "needs_background": "light"
     },
     "output_type": "display_data"
    }
   ],
   "source": [
    "key_parameters[['mannings_n']].plot()"
   ]
  },
  {
   "cell_type": "code",
   "execution_count": 77,
   "id": "639a0028",
   "metadata": {},
   "outputs": [
    {
     "data": {
      "text/plain": [
       "<AxesSubplot:>"
      ]
     },
     "execution_count": 77,
     "metadata": {},
     "output_type": "execute_result"
    },
    {
     "data": {
      "image/png": "[encoded data removed]",
      "text/plain": [
       "<Figure size 432x288 with 1 Axes>"
      ]
     },
     "metadata": {
      "needs_background": "light"
     },
     "output_type": "display_data"
    }
   ],
   "source": [
    "key_parameters[['flow']].plot()"
   ]
  },
  {
   "cell_type": "code",
   "execution_count": 79,
   "id": "1450a555",
   "metadata": {},
   "outputs": [
    {
     "data": {
      "text/plain": [
       "<AxesSubplot:>"
      ]
     },
     "execution_count": 79,
     "metadata": {},
     "output_type": "execute_result"
    },
    {
     "data": {
      "image/png": "[encoded data removed]",
      "text/plain": [
       "<Figure size 432x288 with 1 Axes>"
      ]
     },
     "metadata": {
      "needs_background": "light"
     },
     "output_type": "display_data"
    }
   ],
   "source": [
    "key_parameters[['widths_Savgol']].plot()"
   ]
  },
  {
   "cell_type": "code",
   "execution_count": 80,
   "id": "8ec9d0bc",
   "metadata": {},
   "outputs": [
    {
     "data": {
      "text/plain": [
       "<AxesSubplot:>"
      ]
     },
     "execution_count": 80,
     "metadata": {},
     "output_type": "execute_result"
    },
    {
     "data": {
      "image/png": "[encoded data removed]",
      "text/plain": [
       "<Figure size 432x288 with 1 Axes>"
      ]
     },
     "metadata": {
      "needs_background": "light"
     },
     "output_type": "display_data"
    }
   ],
   "source": [
    "key_parameters[['slope']].plot()"
   ]
  },
  {
   "cell_type": "code",
   "execution_count": 98,
   "id": "7ebefbbb",
   "metadata": {},
   "outputs": [],
   "source": [
    "key_parameters['depth_Neal_et_al'] = (key_parameters['mannings_n'] * key_parameters['flow'] / (numpy.sqrt(key_parameters['slope']) * key_parameters['widths_Savgol'])) ** (3/5)"
   ]
  },
  {
   "cell_type": "code",
   "execution_count": 99,
   "id": "fbc1c3b1",
   "metadata": {},
   "outputs": [
    {
     "data": {
      "text/plain": [
       "<AxesSubplot:>"
      ]
     },
     "execution_count": 99,
     "metadata": {},
     "output_type": "execute_result"
    },
    {
     "data": {
      "image/png": "[encoded data removed]",
      "text/plain": [
       "<Figure size 432x288 with 1 Axes>"
      ]
     },
     "metadata": {
      "needs_background": "light"
     },
     "output_type": "display_data"
    }
   ],
   "source": [
    "key_parameters['depth_Neal_et_al'].plot()"
   ]
  },
  {
   "cell_type": "code",
   "execution_count": 93,
   "id": "a278df8d",
   "metadata": {},
   "outputs": [],
   "source": [
    "a = 0.745\n",
    "b = 0.305\n",
    "K_0 = 6.16"
   ]
  },
  {
   "cell_type": "code",
   "execution_count": 96,
   "id": "e24a2811",
   "metadata": {},
   "outputs": [],
   "source": [
    "key_parameters['depth_Smart_et_al'] = (key_parameters['flow'] / (K_0 * key_parameters['widths_Savgol'] * key_parameters['slope'] ** b)) ** (1 / (1+a))"
   ]
  },
  {
   "cell_type": "code",
   "execution_count": 97,
   "id": "ff79c9b6",
   "metadata": {},
   "outputs": [
    {
     "data": {
      "text/plain": [
       "<AxesSubplot:>"
      ]
     },
     "execution_count": 97,
     "metadata": {},
     "output_type": "execute_result"
    },
    {
     "data": {
      "image/png": "[encoded data removed]",
      "text/plain": [
       "<Figure size 432x288 with 1 Axes>"
      ]
     },
     "metadata": {
      "needs_background": "light"
     },
     "output_type": "display_data"
    }
   ],
   "source": [
    "key_parameters['depth_Smart_et_al'].plot()"
   ]
  },
  {
   "cell_type": "code",
   "execution_count": 87,
   "id": "87453067",
   "metadata": {},
   "outputs": [],
   "source": [
    "numpy.sqrt(key_parameters['slope'])*key_parameters['widths_Savgol'];"
   ]
  },
  {
   "cell_type": "code",
   "execution_count": 88,
   "id": "f98dde4b",
   "metadata": {},
   "outputs": [
    {
     "data": {
      "text/plain": [
       "0             NaN\n",
       "1      662.418879\n",
       "2      715.882918\n",
       "3      755.664149\n",
       "4      785.526795\n",
       "          ...    \n",
       "955     75.845774\n",
       "956     75.037390\n",
       "957     74.223157\n",
       "958     73.402925\n",
       "959     72.576535\n",
       "Length: 960, dtype: float64"
      ]
     },
     "execution_count": 88,
     "metadata": {},
     "output_type": "execute_result"
    }
   ],
   "source": [
    "(key_parameters['mannings_n']*key_parameters['flow'] / numpy.sqrt(key_parameters['slope'])*key_parameters['widths_Savgol']) ** (3/5)"
   ]
  },
  {
   "cell_type": "code",
   "execution_count": 58,
   "id": "211d250f",
   "metadata": {},
   "outputs": [],
   "source": [
    "key_parameters.loc[key_parameters['nzsegment'] == 9253579, ('mannings_n')] = 0.0377"
   ]
  },
  {
   "cell_type": "code",
   "execution_count": 59,
   "id": "803dcf4d",
   "metadata": {},
   "outputs": [
    {
     "data": {
      "text/plain": [
       "0    0.0377\n",
       "1    0.0377\n",
       "2    0.0377\n",
       "Name: mannings_n, dtype: float64"
      ]
     },
     "execution_count": 59,
     "metadata": {},
     "output_type": "execute_result"
    }
   ],
   "source": [
    "key_parameters.loc[key_parameters['nzsegment'] == 9253579, ('mannings_n')]"
   ]
  },
  {
   "cell_type": "code",
   "execution_count": 68,
   "id": "812a8414",
   "metadata": {},
   "outputs": [
    {
     "data": {
      "text/plain": [
       "array([0.0318, 0.0436, 0.0377, 0.0495, 0.0259, 0.02  , 0.0554, 0.0613])"
      ]
     },
     "execution_count": 68,
     "metadata": {},
     "output_type": "execute_result"
    }
   ],
   "source": [
    "mannings['n'].unique()"
   ]
  },
  {
   "cell_type": "code",
   "execution_count": null,
   "id": "cf925b93",
   "metadata": {},
   "outputs": [],
   "source": [
    "widths_midpoints['n'] = depths['n']\n",
    "widths_midpoints['flow'] = depths['flow']\n",
    "widths_midpoints['depth'] = depths['depth']"
   ]
  },
  {
   "cell_type": "code",
   "execution_count": null,
   "id": "711d463c",
   "metadata": {},
   "outputs": [],
   "source": [
    "f, ax = matplotlib.pyplot.subplots(figsize=(10, 3))\n",
    "depths['depth'].plot(ax=ax, linewidth=2)\n",
    "ax.set(title=f\"Depths for {threshold}m threshold\")\n",
    "matplotlib.pyplot.xlabel(f\"Transect number (spaced every {sampling_resolution}m upstream)\")\n",
    "matplotlib.pyplot.ylabel(f\"River depth in m\");"
   ]
  },
  {
   "cell_type": "code",
   "execution_count": null,
   "id": "ec456106",
   "metadata": {},
   "outputs": [],
   "source": [
    "f, ax = matplotlib.pyplot.subplots(figsize=(10, 3))\n",
    "depths['n'].plot(ax=ax, linewidth=2)\n",
    "ax.set(title=f\"Mannings N for {threshold}m threshold\")\n",
    "matplotlib.pyplot.xlabel(f\"Transect number (spaced every {sampling_resolution}m upstream)\")\n",
    "matplotlib.pyplot.ylabel(f\"River Mannings M in m\");"
   ]
  },
  {
   "cell_type": "code",
   "execution_count": null,
   "id": "dfecd59c",
   "metadata": {},
   "outputs": [],
   "source": [
    "f, ax = matplotlib.pyplot.subplots(figsize=(10, 3))\n",
    "depths['flow'].plot(ax=ax, linewidth=2)\n",
    "ax.set(title=f\"Flows for {threshold}m threshold\")\n",
    "matplotlib.pyplot.xlabel(f\"Transect number (spaced every {sampling_resolution}m upstream)\")\n",
    "matplotlib.pyplot.ylabel(f\"River flow in m^3/s\");"
   ]
  },
  {
   "cell_type": "code",
   "execution_count": null,
   "id": "60c12d11",
   "metadata": {},
   "outputs": [],
   "source": [
    "f, ax = matplotlib.pyplot.subplots(figsize=(10, 3))\n",
    "depths['slope'].plot(ax=ax, linewidth=2)\n",
    "ax.set(title=f\"Slopes for {threshold}m threshold\")\n",
    "matplotlib.pyplot.xlabel(f\"Transect number (spaced every {sampling_resolution}m upstream)\")\n",
    "matplotlib.pyplot.ylabel(f\"River slope\");"
   ]
  },
  {
   "cell_type": "code",
   "execution_count": null,
   "id": "b45bd3b0",
   "metadata": {},
   "outputs": [],
   "source": [
    "f, ax = matplotlib.pyplot.subplots(figsize=(10, 3))\n",
    "depths['width'].plot(ax=ax, linewidth=2)\n",
    "ax.set(title=f\"Widths for {threshold}m threshold in m\")\n",
    "matplotlib.pyplot.xlabel(f\"Transect number (spaced every {sampling_resolution}m upstream)\")\n",
    "matplotlib.pyplot.ylabel(f\"River width (m)\");"
   ]
  },
  {
   "cell_type": "code",
   "execution_count": null,
   "id": "b38d531c",
   "metadata": {},
   "outputs": [],
   "source": [
    "mannings['nzsegment'].unique().min()"
   ]
  },
  {
   "cell_type": "code",
   "execution_count": null,
   "id": "c3d0794f",
   "metadata": {},
   "outputs": [],
   "source": [
    "widths['nzsegment'].unique()"
   ]
  },
  {
   "cell_type": "code",
   "execution_count": null,
   "id": "85276ef6",
   "metadata": {},
   "outputs": [],
   "source": [
    "mannings[mannings['nzsegment']==9003742]"
   ]
  },
  {
   "cell_type": "code",
   "execution_count": null,
   "id": "1d645cc6",
   "metadata": {},
   "outputs": [],
   "source": [
    "for nzsegment in widths['nzsegment'].unique():\n",
    "    print(f\"{nzreach_re}: {(mannings['nzsegment'] == nzsegment).any()}\")"
   ]
  },
  {
   "cell_type": "code",
   "execution_count": null,
   "id": "499a2465",
   "metadata": {},
   "outputs": [],
   "source": [
    "widths_midpoints.to_file(fr\"C:\\Users\\pearsonra\\Documents\\data\\river_bathemetry\\waikanae\\waikanae_river_depths_at_{sampling_resolution}m_upriver_spacing_{threshold}m_bank_threshold_upstream_2_3.geojson\")"
   ]
  },
  {
   "cell_type": "code",
   "execution_count": null,
   "id": "7e453c49",
   "metadata": {},
   "outputs": [],
   "source": [
    "widths.head()"
   ]
  },
  {
   "cell_type": "code",
   "execution_count": null,
   "id": "50f44bfd",
   "metadata": {},
   "outputs": [],
   "source": [
    "widths_midpoints.plot()"
   ]
  },
  {
   "cell_type": "code",
   "execution_count": null,
   "id": "98b5489a",
   "metadata": {},
   "outputs": [],
   "source": []
  }
 ],
 "metadata": {
  "kernelspec": {
   "display_name": "Python [conda env:geofabricsdask]",
   "language": "python",
   "name": "conda-env-geofabricsdask-py"
  },
  "language_info": {
   "codemirror_mode": {
    "name": "ipython",
    "version": 3
   },
   "file_extension": ".py",
   "mimetype": "text/x-python",
   "name": "python",
   "nbconvert_exporter": "python",
   "pygments_lexer": "ipython3",
   "version": "3.9.7"
  }
 },
 "nbformat": 4,
 "nbformat_minor": 5
}
