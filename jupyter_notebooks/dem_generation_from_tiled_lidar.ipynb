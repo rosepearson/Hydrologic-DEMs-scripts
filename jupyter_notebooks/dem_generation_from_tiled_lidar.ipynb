{
 "cells": [
  {
   "cell_type": "code",
   "execution_count": null,
   "metadata": {},
   "outputs": [],
   "source": [
    "import geopandas\n",
    "import rioxarray\n",
    "import shapely\n",
    "import pdal\n",
    "import numpy\n",
    "import json\n",
    "import pathlib\n",
    "import pdal\n",
    "import time"
   ]
  },
  {
   "cell_type": "markdown",
   "metadata": {},
   "source": [
    "# LiDAR tile list"
   ]
  },
  {
   "cell_type": "code",
   "execution_count": null,
   "metadata": {},
   "outputs": [],
   "source": [
    "lidar_file_paths = list(pathlib.Path('C:\\\\Users\\\\pearsonra\\\\Documents\\\\data\\\\Wakanae\\\\local_cache\\\\Wellington_2013').glob('*.laz'))"
   ]
  },
  {
   "cell_type": "code",
   "execution_count": null,
   "metadata": {},
   "outputs": [],
   "source": [
    "crs = 2193\n",
    "resolution = 10\n",
    "catchment = geopandas.read_file(r'C:\\\\Users\\\\pearsonra\\\\Documents\\\\data\\\\Wakanae\\\\waikanae_catchment.zip')\n",
    "catchment = catchment.to_crs(crs)"
   ]
  },
  {
   "cell_type": "code",
   "execution_count": null,
   "metadata": {},
   "outputs": [],
   "source": [
    "raster_size = [int((catchment.loc[0].geometry.bounds[2] - catchment.loc[0].geometry.bounds[0]) / resolution), \n",
    "               int((catchment.loc[0].geometry.bounds[3] - catchment.loc[0].geometry.bounds[1]) / resolution)]\n",
    "raster_origin = [catchment.loc[0].geometry.bounds[0], catchment.loc[0].geometry.bounds[1]]"
   ]
  },
  {
   "cell_type": "code",
   "execution_count": null,
   "metadata": {},
   "outputs": [],
   "source": [
    "extents = []\n",
    "points = []\n",
    "for i in range(2):\n",
    "    pdal_pipeline_instructions = [{\"type\":\"readers.las\", \"filename\": str(lidar_file_paths[i])},\n",
    "                                  {\"type\":\"filters.reprojection\",\"out_srs\":\"EPSG:\" + str(crs)},\n",
    "                                  {\"type\":\"filters.crop\", \"polygon\":str(catchment.loc[0].geometry)}, \n",
    "                                  {\"type\":\"filters.hexbin\"}]\n",
    "    pdal_pipeline = pdal.Pipeline(json.dumps(pdal_pipeline_instructions))\n",
    "    pdal_pipeline.execute()\n",
    "    metadata=json.loads(pdal_pipeline.get_metadata())\n",
    "    extents.append(shapely.wkt.loads(metadata['metadata']['filters.hexbin']['boundary']))\n",
    "    points.append(pdal_pipeline.arrays)"
   ]
  },
  {
   "cell_type": "code",
   "execution_count": null,
   "metadata": {},
   "outputs": [],
   "source": [
    "extents"
   ]
  },
  {
   "cell_type": "code",
   "execution_count": null,
   "metadata": {},
   "outputs": [],
   "source": [
    "i = 0"
   ]
  },
  {
   "cell_type": "code",
   "execution_count": null,
   "metadata": {},
   "outputs": [],
   "source": [
    "tmp_raster = \"C:\\\\Users\\\\pearsonra\\\\Documents\\\\data\\\\Wakanae\\\\local_cache\\\\temp_1.tif\"\n",
    "dem_points = numpy.zeros_like(points[0], shape=[2])\n",
    "radius =  resolution * numpy.sqrt(2); window_size = 0; idw_power = 2\n",
    "pdal_pipeline_instructions = [\n",
    "            {\"type\":  \"writers.gdal\", \"resolution\": resolution, \"gdalopts\": \"a_srs=EPSG:\" + str(crs), \"output_type\":[\"idw\"], \n",
    "             \"filename\": tmp_raster, \n",
    "             \"window_size\": window_size, \"power\": idw_power, \"radius\": radius, \n",
    "             \"origin_x\": raster_origin[0], \"origin_y\": raster_origin[1], \n",
    "             \"width\": raster_size[0], \"height\": raster_size[1]}\n",
    "        ]\n",
    "\n",
    "start = time.time()\n",
    "pdal_pipeline = pdal.Pipeline(json.dumps(pdal_pipeline_instructions), [dem_points])\n",
    "pdal_pipeline.execute();\n",
    "end = time.time()\n",
    "print(end - start)"
   ]
  },
  {
   "cell_type": "code",
   "execution_count": null,
   "metadata": {},
   "outputs": [],
   "source": [
    "with rioxarray.rioxarray.open_rasterio(tmp_raster, masked=True) as dem:\n",
    "    dem.plot()"
   ]
  },
  {
   "cell_type": "code",
   "execution_count": null,
   "metadata": {},
   "outputs": [],
   "source": [
    "dem"
   ]
  },
  {
   "cell_type": "code",
   "execution_count": null,
   "metadata": {},
   "outputs": [],
   "source": [
    "dem = rioxarray.rioxarray.open_rasterio(tmp_raster, masked=True)\n",
    "dem.plot()"
   ]
  },
  {
   "cell_type": "code",
   "execution_count": null,
   "metadata": {},
   "outputs": [],
   "source": [
    "dem.close()"
   ]
  },
  {
   "cell_type": "code",
   "execution_count": null,
   "metadata": {},
   "outputs": [],
   "source": [
    "dem.plot()"
   ]
  },
  {
   "cell_type": "code",
   "execution_count": null,
   "metadata": {},
   "outputs": [],
   "source": [
    "[dem.x.data.min(), dem.y.data.min()]"
   ]
  },
  {
   "cell_type": "code",
   "execution_count": null,
   "metadata": {},
   "outputs": [],
   "source": [
    "tmp_raster_ = \"C:\\\\Users\\\\pearsonra\\\\Documents\\\\data\\\\Wakanae\\\\local_cache\\\\temp_1_.tif\"\n",
    "dem = rioxarray.rioxarray.open_rasterio(tmp_raster_, masked=True)\n",
    "dem.plot()"
   ]
  },
  {
   "cell_type": "code",
   "execution_count": null,
   "metadata": {},
   "outputs": [],
   "source": [
    "pdal_pipeline_instructions[0][\"origin_x\"]"
   ]
  },
  {
   "cell_type": "code",
   "execution_count": null,
   "metadata": {},
   "outputs": [],
   "source": [
    "pdal_pipeline_instructions = [\n",
    "            {\"type\":  \"writers.gdal\", \"resolution\": resolution, \"gdalopts\": \"a_srs=EPSG:\" + str(crs), \"output_type\":[\"idw\"], \n",
    "             \"filename\": tmp_raster_, \n",
    "             \"window_size\": window_size, \"power\": idw_power, \"radius\": radius, \n",
    "             \"origin_x\": extents[i].bounds[0]-resolution, \"origin_y\": extents[i].bounds[1]-resolution, \n",
    "             \"width\": int((extents[i].bounds[2]-extents[i].bounds[0]+2*resolution)/resolution), \n",
    "             \"height\": int((extents[i].bounds[3]-extents[i].bounds[1]+2*resolution)/resolution)}\n",
    "        ]\n",
    "\n",
    "start = time.time()\n",
    "pdal_pipeline = pdal.Pipeline(json.dumps(pdal_pipeline_instructions), [[]])\n",
    "pdal_pipeline.execute();\n",
    "end = time.time()\n",
    "print(end - start)"
   ]
  },
  {
   "cell_type": "code",
   "execution_count": null,
   "metadata": {},
   "outputs": [],
   "source": [
    "extents[0].bounds"
   ]
  },
  {
   "cell_type": "code",
   "execution_count": null,
   "metadata": {},
   "outputs": [],
   "source": [
    "[dem.x.data.min(), dem.y.data.min()]"
   ]
  },
  {
   "cell_type": "code",
   "execution_count": null,
   "metadata": {},
   "outputs": [],
   "source": [
    "raster_origin"
   ]
  },
  {
   "cell_type": "code",
   "execution_count": null,
   "metadata": {},
   "outputs": [],
   "source": [
    "[dem.x.data.max(), dem.y.data.max()]"
   ]
  },
  {
   "cell_type": "code",
   "execution_count": null,
   "metadata": {},
   "outputs": [],
   "source": [
    "raster_origin + raster_size"
   ]
  },
  {
   "cell_type": "code",
   "execution_count": null,
   "metadata": {},
   "outputs": [],
   "source": []
  }
 ],
 "metadata": {
  "kernelspec": {
   "display_name": "Python [conda env:spyder]",
   "language": "python",
   "name": "conda-env-spyder-py"
  },
  "language_info": {
   "codemirror_mode": {
    "name": "ipython",
    "version": 3
   },
   "file_extension": ".py",
   "mimetype": "text/x-python",
   "name": "python",
   "nbconvert_exporter": "python",
   "pygments_lexer": "ipython3",
   "version": "3.9.5"
  }
 },
 "nbformat": 4,
 "nbformat_minor": 2
}
