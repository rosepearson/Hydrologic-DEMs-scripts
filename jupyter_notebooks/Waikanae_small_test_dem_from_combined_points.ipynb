{
 "cells": [
  {
   "cell_type": "code",
   "execution_count": 1,
   "metadata": {},
   "outputs": [],
   "source": [
    "import rioxarray\n",
    "import xarray\n",
    "import geopandas\n",
    "import shapely.geometry\n",
    "import shapely.ops\n",
    "import rasterio\n",
    "import rasterio.mask\n",
    "import numpy\n",
    "import matplotlib.pyplot\n",
    "import scipy.ndimage\n",
    "import scipy.interpolate\n",
    "import pathlib\n",
    "import pdal\n",
    "import json"
   ]
  },
  {
   "cell_type": "markdown",
   "metadata": {},
   "source": [
    "# Setup paths"
   ]
  },
  {
   "cell_type": "code",
   "execution_count": 2,
   "metadata": {},
   "outputs": [],
   "source": [
    "base_path = pathlib.Path(r'C:\\Users\\pearsonra\\Documents\\data\\Wakanae\\Small_test_site')\n",
    "combined_path = pathlib.Path(r'combined_data')\n",
    "\n",
    "lidar_name = pathlib.Path(r'points.laz')\n",
    "dem_name = pathlib.Path(r'combined_dem.nc')"
   ]
  },
  {
   "cell_type": "markdown",
   "metadata": {},
   "source": [
    "# Read in LiDAR with relevant processing\n",
    "Load in the LAZ file with relevant processing\n",
    "*  Set projection: https://pdal.io/stages/filters.reprojection.html#filters-reprojection"
   ]
  },
  {
   "cell_type": "code",
   "execution_count": 7,
   "metadata": {},
   "outputs": [],
   "source": [
    "crs = 2193\n",
    "lidar_file_name = base_path/combined_path/lidar_name\n",
    "\n",
    "resolution = 20\n",
    "dem_file_name = base_path/combined_path/dem_name\n",
    "\n",
    "pdal_pipeline_instructions = [\n",
    "    {\"type\":  \"readers.las\", \"filename\": str(lidar_file_name)},\n",
    "    {\"type\":\"filters.reprojection\",\"out_srs\":\"EPSG:\" + str(crs)}, # reproject to NZTM\n",
    "    {\"type\":  \"writers.gdal\", \"filename\": str(dem_file_name), \"resolution\": resolution, \"window_size\": 5,\"output_type\":\"mean\",}\n",
    "]\n",
    "\n",
    "pdal_pipeline = pdal.Pipeline(json.dumps(pdal_pipeline_instructions))\n",
    "pdal_pipeline.execute();"
   ]
  },
  {
   "cell_type": "code",
   "execution_count": 16,
   "metadata": {},
   "outputs": [],
   "source": [
    "metadata=json.loads(pdal_pipeline.get_metadata())\n",
    "lidar_arrays = pdal_pipeline.arrays"
   ]
  },
  {
   "cell_type": "markdown",
   "metadata": {},
   "source": [
    "# Look at creating a DEM\n",
    "There a re a few options here. \n",
    "* Look for routine in a library like PDAL\n",
    "* Code up a simple routine myself using a KDTree or something similar\n",
    "\n",
    "`tree = scipy.spatial.KDTree(numpy.c_[pdal_pipeline.arrays[0]['X'].ravel(), pdal_pipeline.arrays[0]['X'].ravel()])`"
   ]
  },
  {
   "cell_type": "code",
   "execution_count": 18,
   "metadata": {},
   "outputs": [],
   "source": [
    "resolution = 10\n",
    "dem_file_name = base_path/combined_path/dem_name\n",
    "\n",
    "pdal_pipeline_instructions = [\n",
    "    {\"type\":  \"writers.gdal\", \"filename\": str(dem_file_name), \"resolution\": resolution, \"gdalopts\":\"a_srs=EPSG:\" + str(crs)}#,\"gdaldriver\": \"netCDF\"}\n",
    "]\n",
    "\n",
    "pdal_pipeline = pdal.Pipeline(json.dumps(pdal_pipeline_instructions), lidar_arrays)\n",
    "pdal_pipeline.execute();"
   ]
  },
  {
   "cell_type": "code",
   "execution_count": null,
   "metadata": {},
   "outputs": [],
   "source": []
  }
 ],
 "metadata": {
  "kernelspec": {
   "display_name": "Python [conda env:lidar]",
   "language": "python",
   "name": "conda-env-lidar-py"
  },
  "language_info": {
   "codemirror_mode": {
    "name": "ipython",
    "version": 3
   },
   "file_extension": ".py",
   "mimetype": "text/x-python",
   "name": "python",
   "nbconvert_exporter": "python",
   "pygments_lexer": "ipython3",
   "version": "3.9.4"
  }
 },
 "nbformat": 4,
 "nbformat_minor": 2
}
