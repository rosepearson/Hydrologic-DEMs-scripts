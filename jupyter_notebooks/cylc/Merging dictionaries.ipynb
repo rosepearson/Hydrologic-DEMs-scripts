{
 "cells": [
  {
   "cell_type": "code",
   "execution_count": 29,
   "id": "b03ce25f",
   "metadata": {},
   "outputs": [],
   "source": [
    "import copy"
   ]
  },
  {
   "cell_type": "markdown",
   "id": "ac7b3752",
   "metadata": {},
   "source": [
    "# Merge two dictionaries or dictionaries"
   ]
  },
  {
   "cell_type": "code",
   "execution_count": 41,
   "id": "d3544943",
   "metadata": {},
   "outputs": [],
   "source": [
    "global_dict = {\n",
    "    \"shared\": {\"data_paths\": {\"global_cache\": \"/nesi/project/niwa03440/cylc_test/\"},\n",
    "               \"output\": {\"crs\": {\"horizontal\": 2193, \"vertical\": 7839}},\n",
    "               \"apis\": {\"vector\": {\"linz\": {\"land\": {\"layers\": [51559]}, \"bathymetry_contours\": {\"layers\": [50849]}}}},\n",
    "               \"general\": {\"bathymetry_contours_z_label\": \"valdco\", \"lidar_classifications_to_keep\": [2, 9]}},\n",
    "    \"rivers\": {\"output\": {\"grid_params\": {\"resolution\": 1}},\n",
    "               \"processing\": {\"chunk_size\": 1400},\n",
    "               \"general\": {\"drop_offshore_lidar\": True, \"interpolate_missing_values\": False},\n",
    "               \"rivers\": {\"veg_lidar_classifications_to_keep\": [2, 3, 4, 5, 9],\n",
    "                          \"cross_section_spacing\": 10,\n",
    "                          \"network_file_relative_path\": \"data/rec1_flow_and_friction.geojson\",\n",
    "                          \"network_columns\": {\"id\": \"NZREACH\", \"to_node\": \"to_node\", \"from_node\": \"from_node\", \"flow\": \"flow\", \"mannings_n\": \"n\", \"area\": \"CATCHAREA\"}}}, \n",
    "    \"waterways\": {\"output\": {\"grid_params\": {\"resolution\": 1}},\n",
    "                  \"processing\": {\"chunk_size\": 2500}, \n",
    "                  \"drains\": {\"widths\": {\"drain\": 5, \"stream\": 7.5, \"river\": 10}}},\n",
    "    \"dem\": {\"output\": {\"grid_params\": {\"resolution\": 8}},\n",
    "            \"processing\": {\"chunk_size\": 300},\n",
    "            \"data_paths\": {\"river_polygons\": [\"river_polygon.geojson\", \"fan_polygon.geojson\",\n",
    "                                              \"closed_waterways_polygon.geojson\", \"open_waterways_polygon.geojson\"],\n",
    "                           \"river_bathymetry\": [\"river_bathymetry.geojson\", \"fan_bathymetry.geojson\",\n",
    "                                                \"closed_waterways_elevation.geojson\", \"open_waterways_elevation.geojson\"]},\n",
    "            \"general\": {\"drop_offshore_lidar\": True, \"bathymetry_points_type\": [\"rivers\", \"fans\", \"waterways\", \"waterways\"], \"interpolation_method\": \"linear\",\n",
    "                        \"bathymetry_points_z_label\": [\"bed_elevation_Rupp_and_Smart\", \"bed_elevation_Rupp_and_Smart\", \"elevation\", \"elevation\"]}},\n",
    "    \"roughness\": {\"output\": {\"grid_params\": {\"resolution\": 1}},\n",
    "                  \"processing\": {\"chunk_size\": 300},\n",
    "                  \"general\": {\"interpolation_method\": \"linear\", \"lidar_classifications_to_keep\": [1, 2, 3, 4, 5, 9]}}\n",
    "}\n",
    "    "
   ]
  },
  {
   "cell_type": "code",
   "execution_count": 42,
   "id": "091f10e1",
   "metadata": {},
   "outputs": [],
   "source": [
    "catchment_dict = {\n",
    "    \"shared\": {\"apis\": {\"lidar\": {\"open_topography\": {\"NZ20_Westport\": True}}},\n",
    "               \"general\": {\"elevation_range\": [-10, 4000]}},\n",
    "    \"rivers\": {\"rivers\": { \"osm_id\": 132793862, \"area_threshold\": 100000000, \"minimum_slope\": 0.002, \"network_id\": 9003742,\n",
    "                          \"max_channel_width\": 120, \"min_channel_width\": 10, \"max_bank_height\": 2, \"river_corridor_width\": 220, \"min_bank_height\": 0.75}}\n",
    "}"
   ]
  },
  {
   "cell_type": "code",
   "execution_count": 43,
   "id": "788f7328",
   "metadata": {},
   "outputs": [],
   "source": [
    "def merge_dicts(dict_a: dict, dict_b: dict, replace_a: bool):\n",
    "    \"\"\" Merge the contents of the dict_a and dict_b. Use recursion to merge\n",
    "    any nested dictionaries. replace_a determines if the dict_a values are\n",
    "    replaced or not if different values are in the dict_b.\n",
    "    \n",
    "    Adapted from https://stackoverflow.com/questions/7204805/how-to-merge-dictionaries-of-dictionaries\n",
    "\n",
    "    Parameters:\n",
    "            base_dict  The dict to \n",
    "            new_dict  The location of the centre of the river mouth\n",
    "            replace_a If True any dict_a values are replaced if different values are in dict_b\n",
    "    \"\"\"\n",
    "    def recursive_merge_dicts(base_dict: dict, new_dict: dict, replace_base: bool, path: list = []):\n",
    "        \"\"\" Recurively add the new_dict into the base_dict. dict_a is mutable.\"\"\"\n",
    "        for key in new_dict:\n",
    "            if key in base_dict:\n",
    "                if isinstance(base_dict[key], dict) and isinstance(new_dict[key], dict):\n",
    "                    recursive_merge_dicts(base_dict=base_dict[key], new_dict=new_dict[key], \n",
    "                                          replace_base=replace_base, path=path + [str(key)])\n",
    "                elif base_dict[key] == new_dict[key]:\n",
    "                    pass # same leaf value\n",
    "                else:\n",
    "                    if replace_base:\n",
    "                        print(f\"Conflict with both dictionaries containing different values at {path + [str(key)]}.\"\n",
    "                              \" Value replaced.\")\n",
    "                        base_dict[key] = new_dict[key]\n",
    "                    else:\n",
    "                        print(f\"Conflict with both dictionaries containing different values at {path + [str(key)]}\"\n",
    "                              \". Value ignored.\")\n",
    "            else:\n",
    "                base_dict[key] = new_dict[key]\n",
    "        return base_dict\n",
    "    \n",
    "    return recursive_merge_dicts(copy.deepcopy(dict_a), dict_b, replace_base=replace_a)"
   ]
  },
  {
   "cell_type": "code",
   "execution_count": 44,
   "id": "c9ac589d",
   "metadata": {},
   "outputs": [],
   "source": [
    "shared = merge_dicts(dict_a=global_dict[\"shared\"], dict_b=catchment_dict[\"shared\"], replace_a=True)\n",
    "instructions = {\"rivers\": shared, \"waterways\": shared, \"dem\": shared, \"roughness\": shared}"
   ]
  },
  {
   "cell_type": "code",
   "execution_count": 45,
   "id": "1d6bc013",
   "metadata": {},
   "outputs": [
    {
     "data": {
      "text/plain": [
       "{'data_paths': {'global_cache': '/nesi/project/niwa03440/cylc_test/'},\n",
       " 'output': {'crs': {'horizontal': 2193, 'vertical': 7839}},\n",
       " 'apis': {'vector': {'linz': {'land': {'layers': [51559]},\n",
       "    'bathymetry_contours': {'layers': [50849]}}},\n",
       "  'lidar': {'open_topography': {'NZ20_Westport': True}}},\n",
       " 'general': {'bathymetry_contours_z_label': 'valdco',\n",
       "  'lidar_classifications_to_keep': [2, 9],\n",
       "  'elevation_range': [-10, 4000]}}"
      ]
     },
     "execution_count": 45,
     "metadata": {},
     "output_type": "execute_result"
    }
   ],
   "source": [
    "shared"
   ]
  },
  {
   "cell_type": "code",
   "execution_count": 47,
   "id": "549176fc",
   "metadata": {},
   "outputs": [
    {
     "name": "stdout",
     "output_type": "stream",
     "text": [
      "Add rivers\n",
      "Add waterways\n",
      "Add dem\n",
      "Add roughness\n",
      "Conflict with both dictionaries containing different values at ['general', 'lidar_classifications_to_keep']. Value replaced.\n"
     ]
    }
   ],
   "source": [
    "print('Add rivers')\n",
    "instructions['rivers'] = merge_dicts(instructions['rivers'], global_dict['rivers'], replace_a=True)\n",
    "instructions['rivers']['rivers']['network_file'] = instructions['rivers']['rivers'].pop(\"network_file_relative_path\")\n",
    "instructions['rivers'] = merge_dicts(instructions['rivers'], catchment_dict['rivers'], replace_a=True)\n",
    "print('Add waterways')\n",
    "instructions['waterways'] = merge_dicts(instructions['waterways'], global_dict['waterways'], replace_a=True)\n",
    "print('Add dem')\n",
    "instructions['dem'] = merge_dicts(instructions['dem'], global_dict['dem'], replace_a=True)\n",
    "print('Add roughness')\n",
    "instructions['roughness'] = merge_dicts(instructions['roughness'], global_dict['roughness'], replace_a=True)"
   ]
  },
  {
   "cell_type": "code",
   "execution_count": 48,
   "id": "aa523cde",
   "metadata": {},
   "outputs": [
    {
     "data": {
      "text/plain": [
       "{'rivers': {'data_paths': {'global_cache': '/nesi/project/niwa03440/cylc_test/'},\n",
       "  'output': {'crs': {'horizontal': 2193, 'vertical': 7839},\n",
       "   'grid_params': {'resolution': 1}},\n",
       "  'apis': {'vector': {'linz': {'land': {'layers': [51559]},\n",
       "     'bathymetry_contours': {'layers': [50849]}}},\n",
       "   'lidar': {'open_topography': {'NZ20_Westport': True}}},\n",
       "  'general': {'bathymetry_contours_z_label': 'valdco',\n",
       "   'lidar_classifications_to_keep': [2, 9],\n",
       "   'elevation_range': [-10, 4000],\n",
       "   'drop_offshore_lidar': True,\n",
       "   'interpolate_missing_values': False},\n",
       "  'processing': {'chunk_size': 1400},\n",
       "  'rivers': {'veg_lidar_classifications_to_keep': [2, 3, 4, 5, 9],\n",
       "   'cross_section_spacing': 10,\n",
       "   'network_columns': {'id': 'NZREACH',\n",
       "    'to_node': 'to_node',\n",
       "    'from_node': 'from_node',\n",
       "    'flow': 'flow',\n",
       "    'mannings_n': 'n',\n",
       "    'area': 'CATCHAREA'},\n",
       "   'network_file': 'data/rec1_flow_and_friction.geojson',\n",
       "   'osm_id': 132793862,\n",
       "   'area_threshold': 100000000,\n",
       "   'minimum_slope': 0.002,\n",
       "   'network_id': 9003742,\n",
       "   'max_channel_width': 120,\n",
       "   'min_channel_width': 10,\n",
       "   'max_bank_height': 2,\n",
       "   'river_corridor_width': 220,\n",
       "   'min_bank_height': 0.75}},\n",
       " 'waterways': {'data_paths': {'global_cache': '/nesi/project/niwa03440/cylc_test/'},\n",
       "  'output': {'crs': {'horizontal': 2193, 'vertical': 7839},\n",
       "   'grid_params': {'resolution': 1}},\n",
       "  'apis': {'vector': {'linz': {'land': {'layers': [51559]},\n",
       "     'bathymetry_contours': {'layers': [50849]}}},\n",
       "   'lidar': {'open_topography': {'NZ20_Westport': True}}},\n",
       "  'general': {'bathymetry_contours_z_label': 'valdco',\n",
       "   'lidar_classifications_to_keep': [2, 9],\n",
       "   'elevation_range': [-10, 4000]},\n",
       "  'processing': {'chunk_size': 2500},\n",
       "  'drains': {'widths': {'drain': 5, 'stream': 7.5, 'river': 10}}},\n",
       " 'dem': {'data_paths': {'global_cache': '/nesi/project/niwa03440/cylc_test/',\n",
       "   'river_polygons': ['river_polygon.geojson',\n",
       "    'fan_polygon.geojson',\n",
       "    'closed_waterways_polygon.geojson',\n",
       "    'open_waterways_polygon.geojson'],\n",
       "   'river_bathymetry': ['river_bathymetry.geojson',\n",
       "    'fan_bathymetry.geojson',\n",
       "    'closed_waterways_elevation.geojson',\n",
       "    'open_waterways_elevation.geojson']},\n",
       "  'output': {'crs': {'horizontal': 2193, 'vertical': 7839},\n",
       "   'grid_params': {'resolution': 8}},\n",
       "  'apis': {'vector': {'linz': {'land': {'layers': [51559]},\n",
       "     'bathymetry_contours': {'layers': [50849]}}},\n",
       "   'lidar': {'open_topography': {'NZ20_Westport': True}}},\n",
       "  'general': {'bathymetry_contours_z_label': 'valdco',\n",
       "   'lidar_classifications_to_keep': [2, 9],\n",
       "   'elevation_range': [-10, 4000],\n",
       "   'drop_offshore_lidar': True,\n",
       "   'bathymetry_points_type': ['rivers', 'fans', 'waterways', 'waterways'],\n",
       "   'interpolation_method': 'linear',\n",
       "   'bathymetry_points_z_label': ['bed_elevation_Rupp_and_Smart',\n",
       "    'bed_elevation_Rupp_and_Smart',\n",
       "    'elevation',\n",
       "    'elevation']},\n",
       "  'processing': {'chunk_size': 300}},\n",
       " 'roughness': {'data_paths': {'global_cache': '/nesi/project/niwa03440/cylc_test/'},\n",
       "  'output': {'crs': {'horizontal': 2193, 'vertical': 7839},\n",
       "   'grid_params': {'resolution': 1}},\n",
       "  'apis': {'vector': {'linz': {'land': {'layers': [51559]},\n",
       "     'bathymetry_contours': {'layers': [50849]}}},\n",
       "   'lidar': {'open_topography': {'NZ20_Westport': True}}},\n",
       "  'general': {'bathymetry_contours_z_label': 'valdco',\n",
       "   'lidar_classifications_to_keep': [1, 2, 3, 4, 5, 9],\n",
       "   'elevation_range': [-10, 4000],\n",
       "   'interpolation_method': 'linear'},\n",
       "  'processing': {'chunk_size': 300}}}"
      ]
     },
     "execution_count": 48,
     "metadata": {},
     "output_type": "execute_result"
    }
   ],
   "source": [
    "instructions"
   ]
  },
  {
   "cell_type": "code",
   "execution_count": 3,
   "id": "e4042185",
   "metadata": {},
   "outputs": [],
   "source": [
    "def merge(a, b, path=None):\n",
    "    # From https://stackoverflow.com/questions/7204805/how-to-merge-dictionaries-of-dictionaries\n",
    "    \"merges b into a\"\n",
    "    if path is None: path = []\n",
    "    for key in b:\n",
    "        if key in a:\n",
    "            if isinstance(a[key], dict) and isinstance(b[key], dict):\n",
    "                merge(a[key], b[key], path + [str(key)])\n",
    "            elif a[key] == b[key]:\n",
    "                pass # same leaf value\n",
    "            else:\n",
    "                print(f\"Conflict at {path + [str(key)]}\")\n",
    "                #raise Exception('Conflict at %s' % '.'.join(path + [str(key)]))\"\"\n",
    "        else:\n",
    "            a[key] = b[key]\n",
    "    return a"
   ]
  },
  {
   "cell_type": "code",
   "execution_count": 4,
   "id": "c34d01c5",
   "metadata": {},
   "outputs": [
    {
     "data": {
      "text/plain": [
       "{'data_paths': {'global_cache': '/nesi/project/niwa03440/cylc_test/'},\n",
       " 'output': {'crs': {'horizontal': 2193, 'vertical': 7839}},\n",
       " 'apis': {'vector': {'linz': {'land': {'layers': [51559]},\n",
       "    'bathymetry_contours': {'layers': [50849]}}},\n",
       "  'lidar': {'open_topography': {'NZ20_Westport': True}}},\n",
       " 'general': {'bathymetry_contours_z_label': 'valdco',\n",
       "  'lidar_classifications_to_keep': [2, 9],\n",
       "  'elevation_range': [-10, 4000]}}"
      ]
     },
     "execution_count": 4,
     "metadata": {},
     "output_type": "execute_result"
    }
   ],
   "source": [
    "shared = merge(dict(global_dict[\"shared\"]), catchment_dict[\"shared\"])\n",
    "instructions = {\"rivers\": shared, \"waterways\": shared, \"dem\": shared, \"roughness\": shared}\n",
    "shared"
   ]
  },
  {
   "cell_type": "code",
   "execution_count": null,
   "id": "05399e39",
   "metadata": {},
   "outputs": [],
   "source": [
    "instructions['rivers'] = merge(dict(instructions['rivers']), global_dict['rivers'])\n",
    "instructions['rivers']['rivers']['network_file'] = instructions['rivers']['rivers'].pop(\"network_file_relative_path\")\n",
    "instructions['rivers'] = merge(dict(instructions['rivers']), catchment_dict['rivers'])\n",
    "\n",
    "instructions['waterways'] = merge(dict(instructions['waterways']), global_dict['waterways'])\n",
    "\n",
    "instructions['dem'] = merge(dict(instructions['dem']), global_dict['dem'])\n",
    "\n",
    "instructions['roughness'] = merge(dict(instructions['roughness']), global_dict['roughness'])"
   ]
  },
  {
   "cell_type": "code",
   "execution_count": 5,
   "id": "f8c13df8",
   "metadata": {},
   "outputs": [
    {
     "data": {
      "text/plain": [
       "{'output': {'grid_params': {'resolution': 1}},\n",
       " 'processing': {'chunk_size': 2500},\n",
       " 'drains': {'widths': {'drain': 5, 'stream': 7.5, 'river': 10}}}"
      ]
     },
     "execution_count": 5,
     "metadata": {},
     "output_type": "execute_result"
    }
   ],
   "source": [
    "global_dict['waterways']"
   ]
  },
  {
   "cell_type": "code",
   "execution_count": 9,
   "id": "1b497eab",
   "metadata": {},
   "outputs": [
    {
     "data": {
      "text/plain": [
       "{'data_paths': {'global_cache': '/nesi/project/niwa03440/cylc_test/'},\n",
       " 'output': {'crs': {'horizontal': 2193, 'vertical': 7839},\n",
       "  'grid_params': {'resolution': 1}},\n",
       " 'apis': {'vector': {'linz': {'land': {'layers': [51559]},\n",
       "    'bathymetry_contours': {'layers': [50849]}}},\n",
       "  'lidar': {'open_topography': {'NZ20_Westport': True}}},\n",
       " 'general': {'bathymetry_contours_z_label': 'valdco',\n",
       "  'lidar_classifications_to_keep': [2, 9],\n",
       "  'elevation_range': [-10, 4000]}}"
      ]
     },
     "execution_count": 9,
     "metadata": {},
     "output_type": "execute_result"
    }
   ],
   "source": [
    "instructions['waterways']"
   ]
  },
  {
   "cell_type": "code",
   "execution_count": 7,
   "id": "6c09333f",
   "metadata": {},
   "outputs": [
    {
     "data": {
      "text/plain": [
       "{'data_paths': {'global_cache': '/nesi/project/niwa03440/cylc_test/'},\n",
       " 'output': {'crs': {'horizontal': 2193, 'vertical': 7839},\n",
       "  'grid_params': {'resolution': 1}},\n",
       " 'apis': {'vector': {'linz': {'land': {'layers': [51559]},\n",
       "    'bathymetry_contours': {'layers': [50849]}}},\n",
       "  'lidar': {'open_topography': {'NZ20_Westport': True}}},\n",
       " 'general': {'bathymetry_contours_z_label': 'valdco',\n",
       "  'lidar_classifications_to_keep': [2, 9],\n",
       "  'elevation_range': [-10, 4000]},\n",
       " 'processing': {'chunk_size': 2500},\n",
       " 'drains': {'widths': {'drain': 5, 'stream': 7.5, 'river': 10}}}"
      ]
     },
     "execution_count": 7,
     "metadata": {},
     "output_type": "execute_result"
    }
   ],
   "source": [
    "merge(dict(instructions['waterways']), global_dict['waterways'])"
   ]
  },
  {
   "cell_type": "code",
   "execution_count": 10,
   "id": "07d91107",
   "metadata": {},
   "outputs": [
    {
     "name": "stdout",
     "output_type": "stream",
     "text": [
      "Conflict at ['general', 'lidar_classifications_to_keep']\n"
     ]
    },
    {
     "data": {
      "text/plain": [
       "{'data_paths': {'global_cache': '/nesi/project/niwa03440/cylc_test/'},\n",
       " 'output': {'crs': {'horizontal': 2193, 'vertical': 7839},\n",
       "  'grid_params': {'resolution': 1}},\n",
       " 'apis': {'vector': {'linz': {'land': {'layers': [51559]},\n",
       "    'bathymetry_contours': {'layers': [50849]}}},\n",
       "  'lidar': {'open_topography': {'NZ20_Westport': True}}},\n",
       " 'general': {'bathymetry_contours_z_label': 'valdco',\n",
       "  'lidar_classifications_to_keep': [2, 9],\n",
       "  'elevation_range': [-10, 4000],\n",
       "  'interpolation_method': 'linear'},\n",
       " 'processing': {'chunk_size': 300}}"
      ]
     },
     "execution_count": 10,
     "metadata": {},
     "output_type": "execute_result"
    }
   ],
   "source": [
    "merge(dict(instructions['roughness']), global_dict['roughness'])"
   ]
  },
  {
   "cell_type": "code",
   "execution_count": null,
   "id": "2d9bc384",
   "metadata": {},
   "outputs": [],
   "source": []
  }
 ],
 "metadata": {
  "kernelspec": {
   "display_name": "Python [conda env:geofabrics]",
   "language": "python",
   "name": "conda-env-geofabrics-py"
  },
  "language_info": {
   "codemirror_mode": {
    "name": "ipython",
    "version": 3
   },
   "file_extension": ".py",
   "mimetype": "text/x-python",
   "name": "python",
   "nbconvert_exporter": "python",
   "pygments_lexer": "ipython3",
   "version": "3.9.13"
  }
 },
 "nbformat": 4,
 "nbformat_minor": 5
}
