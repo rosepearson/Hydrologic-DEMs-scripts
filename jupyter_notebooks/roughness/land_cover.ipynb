{
 "cells": [
  {
   "cell_type": "markdown",
   "id": "031adbc3-243a-4801-834f-c958ff357ff6",
   "metadata": {},
   "source": [
    "# Resample DEMs for plotting"
   ]
  },
  {
   "cell_type": "code",
   "execution_count": 10,
   "id": "df1e8446-dd5d-43ae-b6cf-77ef6ac52cdc",
   "metadata": {},
   "outputs": [],
   "source": [
    "import pathlib\n",
    "import rioxarray\n",
    "import geopandas\n",
    "import shapely\n",
    "import numpy"
   ]
  },
  {
   "cell_type": "code",
   "execution_count": 11,
   "id": "df27e7e0-54c8-428c-b929-1ab27de9d280",
   "metadata": {},
   "outputs": [],
   "source": [
    "crs = 2193\n",
    "base_path = pathlib.Path(r\"C:\\Local\\data\\catchments\\Waikanae\\caches\\roughness\")"
   ]
  },
  {
   "cell_type": "code",
   "execution_count": 12,
   "id": "83eeb5b0-9652-4fcd-8387-f90cac4122b8",
   "metadata": {},
   "outputs": [],
   "source": [
    "x0=1767800; x1=1775500\n",
    "y0=5469612; y1=5477770\n",
    "bbox = geopandas.GeoDataFrame(geometry=[shapely.geometry.Polygon([[x0,y0],[x0,y1],[x1,y1],[x1,y0]])], crs=crs)"
   ]
  },
  {
   "cell_type": "code",
   "execution_count": 14,
   "id": "3a52cd64-6fa0-45d1-98fa-db6143398840",
   "metadata": {},
   "outputs": [],
   "source": [
    "dem_geofabrics = rioxarray.rioxarray.open_rasterio(base_path / \"geofabrics\" / \"geofabric_4m_with_waterways.nc\",\n",
    "            masked=True,\n",
    "            parse_coordinates=True,\n",
    "        ).squeeze(\"band\", drop=True)\n",
    "dem_geofabrics[\"data_source\"] = dem_geofabrics.data_source.astype(numpy.float32)\n",
    "dem_geofabrics[\"lidar_source\"] = dem_geofabrics.data_source.astype(numpy.float32)\n",
    "dem_geofabrics[\"z\"] = dem_geofabrics.z.astype(numpy.float32)\n",
    "dem_geofabrics=dem_geofabrics.rio.clip(bbox.geometry)"
   ]
  },
  {
   "cell_type": "code",
   "execution_count": 16,
   "id": "ebade3b5-d57b-4318-a8b6-407c428cf8e1",
   "metadata": {},
   "outputs": [],
   "source": [
    "dem_smart = rioxarray.rioxarray.open_rasterio(base_path / \"manual_smart_geofabrics\" / \"dtm_final_4_5m_combined1_bridgesremoved_w_river_ocean_v2.nc\",\n",
    "            masked=True,\n",
    "            parse_coordinates=True,\n",
    "        ).squeeze(\"band\", drop=True)\n",
    "dem_smart.rio.write_transform(inplace=True)\n",
    "dem_smart.rio.write_crs(crs, inplace=True)\n",
    "dem_smart.rio.write_nodata(numpy.nan, encoded=True, inplace=True)\n",
    "dem_smart=dem_smart.rio.clip(bbox.geometry)\n",
    "dem_smart=dem_smart.interp(x=dem_geofabrics.x, y=dem_geofabrics.y, method=\"linear\")"
   ]
  },
  {
   "cell_type": "markdown",
   "id": "6cadaf9e-d9e1-480e-8a9d-14ce88278b3f",
   "metadata": {},
   "source": [
    "# Save regridded rasters for plotting"
   ]
  },
  {
   "cell_type": "code",
   "execution_count": 19,
   "id": "b9f77d69-9c2f-496e-85fb-f3089014f6aa",
   "metadata": {},
   "outputs": [],
   "source": [
    "dem_geofabrics.to_netcdf(base_path / \"for_figures\" / \"geofabric_4m_with_waterways.nc\", format=\"NETCDF4\", engine=\"netcdf4\",)\n",
    "dem_smart.to_netcdf(base_path / \"for_figures\" / \"dtm_final_4_5m_combined1_bridgesremoved_w_river_ocean_v2.nc\", format=\"NETCDF4\", engine=\"netcdf4\",)"
   ]
  },
  {
   "cell_type": "code",
   "execution_count": null,
   "id": "499e93a5-0f78-426d-8116-80f591244558",
   "metadata": {},
   "outputs": [],
   "source": []
  }
 ],
 "metadata": {
  "kernelspec": {
   "display_name": "Python [conda env:raster]",
   "language": "python",
   "name": "conda-env-raster-py"
  },
  "language_info": {
   "codemirror_mode": {
    "name": "ipython",
    "version": 3
   },
   "file_extension": ".py",
   "mimetype": "text/x-python",
   "name": "python",
   "nbconvert_exporter": "python",
   "pygments_lexer": "ipython3",
   "version": "3.11.3"
  }
 },
 "nbformat": 4,
 "nbformat_minor": 5
}
