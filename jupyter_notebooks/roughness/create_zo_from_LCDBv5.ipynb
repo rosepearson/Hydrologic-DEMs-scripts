{
 "cells": [
  {
   "cell_type": "markdown",
   "id": "b82910f3-3e0b-4be3-9c8b-62a18ffe56ed",
   "metadata": {},
   "source": [
    "# Estimate Roughness from LCDB v5"
   ]
  },
  {
   "cell_type": "code",
   "execution_count": 58,
   "id": "b773ad74-c890-4099-8f9c-eabc5049d3a3",
   "metadata": {},
   "outputs": [],
   "source": [
    "import rioxarray\n",
    "import pathlib\n",
    "import geopandas\n",
    "import shapely\n",
    "import geoapis.vector\n",
    "import dotenv\n",
    "import os\n",
    "import numpy\n",
    "import xarray"
   ]
  },
  {
   "cell_type": "code",
   "execution_count": 59,
   "id": "24f599fa-5063-4ae8-9c91-31d2eeb3ff94",
   "metadata": {},
   "outputs": [],
   "source": [
    "lcdb_id = 104400"
   ]
  },
  {
   "cell_type": "code",
   "execution_count": 60,
   "id": "570bf81d-3f67-4ffe-9441-1b6676c867a9",
   "metadata": {},
   "outputs": [],
   "source": [
    "crs = 2193\n",
    "base_path = pathlib.Path(r\"C:\\Local\\data\\catchments\\Waikanae\\caches\\roughness\\land_cover\")"
   ]
  },
  {
   "cell_type": "code",
   "execution_count": 61,
   "id": "2447556f-d972-4e9f-a932-4e2ca74fe10b",
   "metadata": {},
   "outputs": [],
   "source": [
    "x0=1767800; x1=1775500\n",
    "y0=5469612; y1=5477770\n",
    "bbox = geopandas.GeoDataFrame(geometry=[shapely.geometry.Polygon([[x0,y0],[x0,y1],[x1,y1],[x1,y0]])], crs=crs)"
   ]
  },
  {
   "cell_type": "markdown",
   "id": "88e0d4f3-f2b6-4e22-b647-f00cab76e229",
   "metadata": {},
   "source": [
    "### Define Zo Lookup table"
   ]
  },
  {
   "cell_type": "code",
   "execution_count": 62,
   "id": "9b1b3f86-3d54-4c51-a64a-88fcf3baad62",
   "metadata": {},
   "outputs": [],
   "source": [
    "# Lookup table values derived from - https://apps.dtic.mil/sti/tr/pdf/ADA274550.pdf\n",
    "# And also some set from values given from Graeme - will need to replace with something to cite\n",
    "ZO_LOOKUP = {\n",
    "    \"Transport Infrastructure\": 0.00002, # page 30 Blacktop or concrete \n",
    "    'Exotic Forest': 0.4, # Page Fairly level wooded country \n",
    "    'Built-up Area (settlement)': 0.4,  # Page 30 Village\n",
    "    'Low Producing Grassland': 0.0075, # page 25 Thick grass, 5 to 6 cm high  \n",
    "    'River': 0.004, # Value picked by Rose & Alice. To replace from table \n",
    "    'Herbaceous Freshwater Vegetation': 0.04, # Value picked by Rose & Alice. To replace from table \n",
    "    'Indigenous Forest': 0.4, # Page 26 Fairly level wooded country \n",
    "    'Broadleaved Indigenous Hardwoods': 0.4, # Page 26 Fairly level wooded country \n",
    "    'Lake or Pond': 0.004,  # Value picked by Rose & Alice. To replace from table \n",
    "    'Manuka and/or Kanuka': 0.4, # Page 26 Fairly level wooded country \n",
    "    'Gorse and/or Broom': 0.25, # Page 26 Brush, scrub growth, dense \n",
    "    'High Producing Exotic Grassland': 0.09, # page 26 Thick grass, 50 cm high \n",
    "    'Deciduous Hardwoods': 0.4, # Page 26 Fairly level wooded country \n",
    "    'Sand or Gravel': 0.008,  # Value picked by Rose & Alice. To replace from table \n",
    "    'Mixed Exotic Shrubland': 0.25, # Page 26 Brush, scrub growth, dense \n",
    "    'Surface Mine or Dump': 0.4,  # Value picked by Rose & Alice. To replace from table \n",
    "    'Orchard, Vineyard or Other Perennial Crop': 0.31, # Page 28 Citrus orchard 3.2 m \n",
    "    'Forest - Harvested': 0.4, # Page 26 Forest clearings, cutover areas \n",
    "    'Gravel or Rock': 0.01,  # Value picked by Rose & Alice. To replace from table \n",
    "    'Fernland': 0.25, # Page 26 Brush, scrub growth, dense  \n",
    "    \"Matagouri or Grey Scrub\": 0.16, # Page 26 Brush, scrub growth, open \n",
    "    \"Urban Parkland/Open Space\": 25, # Page 26 Field, scattered trees, hedges\n",
    "}"
   ]
  },
  {
   "cell_type": "markdown",
   "id": "a7e2c52a-560d-4881-a074-045aa2d4fd8b",
   "metadata": {},
   "source": [
    "### Load in land cover map"
   ]
  },
  {
   "cell_type": "code",
   "execution_count": 80,
   "id": "67e5c896-e1dc-4ae2-b0d1-023cf77be9e7",
   "metadata": {},
   "outputs": [],
   "source": [
    "if not (base_path / \"lcdb_v5.gpkg\").exists():\n",
    "    dotenv.load_dotenv()\n",
    "    lris_key = os.environ.get(\"LRIS_API\", None)\n",
    "    fetcher = geoapis.vector.Lris(key=lris_key,\n",
    "                                  bounding_polygon=bbox,\n",
    "                                  verbose=True,\n",
    "                                 )\n",
    "    land_cover = fetcher.run(layer=lcdb_id)\n",
    "    land_cover.to_file(base_path / \"lcdb_v5.gpkg\")\n",
    "else:\n",
    "    land_cover = geopandas.read_file(base_path / \"lcdb_v5.gpkg\")"
   ]
  },
  {
   "cell_type": "markdown",
   "id": "716deb3b-24a0-4be1-b816-bc524f4f3fdf",
   "metadata": {},
   "source": [
    "### Drop unwanted years"
   ]
  },
  {
   "cell_type": "code",
   "execution_count": 81,
   "id": "576f5e62-857d-485d-89a2-ecff746e9fd8",
   "metadata": {},
   "outputs": [],
   "source": [
    "# Clean data\n",
    "year_to_keep = 2012\n",
    "years_to_drop = [2001, 1996, 2008, 2018]\n",
    "columns = ['EditAuthor', 'EditDate']\n",
    "for year in years_to_drop:\n",
    "    columns.extend([f\"Name_{year}\", f\"Class_{year}\", f\"Wetland_{str(year)[-2:]}\", f\"Onshore_{str(year)[-2:]}\"])\n",
    "land_cover = land_cover.drop(columns=columns)"
   ]
  },
  {
   "cell_type": "markdown",
   "id": "11805c24-7650-401b-8627-acb7d38c820b",
   "metadata": {},
   "source": [
    "### Load in DEM"
   ]
  },
  {
   "cell_type": "code",
   "execution_count": 82,
   "id": "436e3598-57e6-4ee4-b075-dfeb12c3e23e",
   "metadata": {},
   "outputs": [],
   "source": [
    "dem = rioxarray.rioxarray.open_rasterio(base_path / \"..\" / \"geofabrics\" / \"geofabric_4m_with_waterways.nc\",\n",
    "            masked=True,\n",
    "            parse_coordinates=True,\n",
    "        ).squeeze(\"band\", drop=True)\n",
    "if \"data_source\" in dem.keys():\n",
    "    dem[\"data_source\"] = dem.data_source.astype(numpy.float32)\n",
    "if \"lidar_source\" in dem.keys():\n",
    "    dem[\"lidar_source\"] = dem.data_source.astype(numpy.float32)\n",
    "if \"z\" in dem.keys():\n",
    "    dem[\"z\"] = dem.z.astype(numpy.float32)"
   ]
  },
  {
   "cell_type": "markdown",
   "id": "c1a550b9-3395-4b8a-ba75-5d6f5e0d0c6c",
   "metadata": {},
   "source": [
    "### Map zo"
   ]
  },
  {
   "cell_type": "code",
   "execution_count": 83,
   "id": "47c62811-06dc-4370-9315-8625289f3279",
   "metadata": {},
   "outputs": [
    {
     "name": "stdout",
     "output_type": "stream",
     "text": [
      "name Manuka and/or Kanuka, and value 0.4\n",
      "name Exotic Forest, and value 0.4\n",
      "name Built-up Area (settlement), and value 0.4\n",
      "name High Producing Exotic Grassland, and value 0.09\n",
      "name Low Producing Grassland, and value 0.0075\n",
      "name River, and value 0.004\n",
      "name Herbaceous Freshwater Vegetation, and value 0.04\n",
      "name Indigenous Forest, and value 0.4\n",
      "name Broadleaved Indigenous Hardwoods, and value 0.4\n",
      "name Lake or Pond, and value 0.004\n",
      "name Gorse and/or Broom, and value 0.25\n",
      "name Urban Parkland/Open Space, and value 25\n",
      "name Deciduous Hardwoods, and value 0.4\n",
      "name Sand or Gravel, and value 0.008\n",
      "name Forest - Harvested, and value 0.4\n",
      "name Surface Mine or Dump, and value 0.4\n",
      "name Transport Infrastructure, and value 2e-05\n",
      "name Mixed Exotic Shrubland, and value 0.25\n",
      "name Orchard, Vineyard or Other Perennial Crop, and value 0.31\n",
      "name Gravel or Rock, and value 0.01\n",
      "name Fernland, and value 0.25\n",
      "name Matagouri or Grey Scrub, and value 0.16\n"
     ]
    }
   ],
   "source": [
    "dem[\"zo\"] = xarray.zeros_like(dem.z)\n",
    "dem.zo.rio.write_crs(crs, inplace=True)\n",
    "dem.zo.rio.write_nodata(numpy.nan, encoded=True, inplace=True)\n",
    "for name in land_cover[f\"Name_{year_to_keep}\"].unique():\n",
    "    print(f\"name {name}, and value {ZO_LOOKUP[name]}\")\n",
    "    dem[\"zo\"] = dem.zo.where(\n",
    "        dem.zo.rio.clip(land_cover[land_cover[f\"Name_{year_to_keep}\"]==name].geometry, drop=False).isnull(),\n",
    "        ZO_LOOKUP[name]\n",
    "    )\n",
    "dem[\"zo\"] = dem.zo.where(dem.zo!=0, 0.004)"
   ]
  },
  {
   "cell_type": "code",
   "execution_count": 84,
   "id": "687ba79b-0791-45aa-892d-4a98260058a5",
   "metadata": {},
   "outputs": [],
   "source": [
    "zo = dem.drop([\"data_source\", \"lidar_source\", \"z\"])\n",
    "zo.to_netcdf(base_path / f\"zo_table_v1_{year_to_keep}.nc\")"
   ]
  },
  {
   "cell_type": "code",
   "execution_count": null,
   "id": "ab3b5d0d-addb-4e0d-a314-1283eebfe983",
   "metadata": {},
   "outputs": [],
   "source": []
  }
 ],
 "metadata": {
  "kernelspec": {
   "display_name": "Python [conda env:raster]",
   "language": "python",
   "name": "conda-env-raster-py"
  },
  "language_info": {
   "codemirror_mode": {
    "name": "ipython",
    "version": 3
   },
   "file_extension": ".py",
   "mimetype": "text/x-python",
   "name": "python",
   "nbconvert_exporter": "python",
   "pygments_lexer": "ipython3",
   "version": "3.11.3"
  }
 },
 "nbformat": 4,
 "nbformat_minor": 5
}
