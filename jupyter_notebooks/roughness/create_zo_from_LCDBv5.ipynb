{
 "cells": [
  {
   "cell_type": "markdown",
   "id": "b82910f3-3e0b-4be3-9c8b-62a18ffe56ed",
   "metadata": {},
   "source": [
    "# Estimate Roughness from LCDB v5"
   ]
  },
  {
   "cell_type": "code",
   "execution_count": 9,
   "id": "b773ad74-c890-4099-8f9c-eabc5049d3a3",
   "metadata": {},
   "outputs": [],
   "source": [
    "import rioxarray\n",
    "import pathlib\n",
    "import geopandas\n",
    "import shapely\n",
    "import geoapis.vector\n",
    "import dotenv\n",
    "import os"
   ]
  },
  {
   "cell_type": "code",
   "execution_count": 13,
   "id": "24f599fa-5063-4ae8-9c91-31d2eeb3ff94",
   "metadata": {},
   "outputs": [],
   "source": [
    "lcdb_id = 104400"
   ]
  },
  {
   "cell_type": "code",
   "execution_count": 4,
   "id": "570bf81d-3f67-4ffe-9441-1b6676c867a9",
   "metadata": {},
   "outputs": [],
   "source": [
    "base_path = pathlib.Path(r\"C:\\Local\\data\\catchments\\Waikanae\\caches\\roughness\\land_cover\")"
   ]
  },
  {
   "cell_type": "code",
   "execution_count": 3,
   "id": "2447556f-d972-4e9f-a932-4e2ca74fe10b",
   "metadata": {},
   "outputs": [],
   "source": [
    "x0=1767800\n",
    "x1=1775500\n",
    "y0=5469612\n",
    "y1=5477770\n",
    "crs = 2193\n",
    "bbox = geopandas.GeoDataFrame(geometry=[shapely.geometry.Polygon([[x0,y0],[x0,y1],[x1,y1],[x1,y0]])], crs=crs)"
   ]
  },
  {
   "cell_type": "code",
   "execution_count": 21,
   "id": "9b1b3f86-3d54-4c51-a64a-88fcf3baad62",
   "metadata": {},
   "outputs": [],
   "source": [
    "# Lookup table values derived from - https://apps.dtic.mil/sti/tr/pdf/ADA274550.pdf\n",
    "# And also some set from values given from Graeme - will need to replace with something to cite\n",
    "ZO_LOOKUP = {\n",
    "    \"Transport Infrastructure\": 0.00002, # page 30 Blacktop or concrete \n",
    "    'Exotic Forest': 0.4, # Page Fairly level wooded country \n",
    "    'Built-up Area (settlement)': 0.4,  # Page 30 Village\n",
    "    'Low Producing Grassland': 0.0075, # page 25 Thick grass, 5 to 6 cm high  \n",
    "    'River': 0.004, # Value picked by Rose & Alice. To replace from table \n",
    "    'Herbaceous Freshwater Vegetation': 0.04, # Value picked by Rose & Alice. To replace from table \n",
    "    'Indigenous Forest': 0.4, # Page 26 Fairly level wooded country \n",
    "    'Broadleaved Indigenous Hardwoods': 0.4, # Page 26 Fairly level wooded country \n",
    "    'Lake or Pond': 0.004,  # Value picked by Rose & Alice. To replace from table \n",
    "    'Manuka and/or Kanuka': 0.4, # Page 26 Fairly level wooded country \n",
    "    'Gorse and/or Broom': 0.25, # Page 26 Brush, scrub growth, dense \n",
    "    'High Producing Exotic Grassland': 0.09, # page 26 Thick grass, 50 cm high \n",
    "    'Deciduous Hardwoods': 0.4, # Page 26 Fairly level wooded country \n",
    "    'Sand or Gravel': 0.008,  # Value picked by Rose & Alice. To replace from table \n",
    "    'Mixed Exotic Shrubland': 0.25, # Page 26 Brush, scrub growth, dense \n",
    "    'Surface Mine or Dump': 0.4,  # Value picked by Rose & Alice. To replace from table \n",
    "    'Orchard, Vineyard or Other Perennial Crop': 0.31, # Page 28 Citrus orchard 3.2 m \n",
    "    'Forest - Harvested': 0.4, # Page 26 Forest clearings, cutover areas \n",
    "    'Gravel or Rock': 0.01,  # Value picked by Rose & Alice. To replace from table \n",
    "    'Fernland': 0.25, # Page 26 Brush, scrub growth, dense  \n",
    "    \"Matagouri or Grey Scrub\": 0.16, # Page 26 Brush, scrub growth, open \n",
    "}"
   ]
  },
  {
   "cell_type": "code",
   "execution_count": 16,
   "id": "67e5c896-e1dc-4ae2-b0d1-023cf77be9e7",
   "metadata": {},
   "outputs": [],
   "source": [
    "if not (base_path / \"lcdb_v5.gpkg\").exists():\n",
    "    dotenv.load_dotenv()\n",
    "    lris_key = os.environ.get(\"LRIS_API\", None)\n",
    "    fetcher = geoapis.vector.Lris(key=lris_key,\n",
    "                                  bounding_polygon=bbox,\n",
    "                                  verbose=True,\n",
    "                                 )\n",
    "    vector = fetcher.run(layer=lcdb_id)\n",
    "    vector.to_file(base_path / \"lcdb_v5.gpkg\")\n",
    "else:\n",
    "    vector = geopandas.read_file(base_path / \"lcdb_v5.gpkg\")\n",
    "\n",
    "# Clean data\n",
    "vector = vector.drop(columns=['Name_2012', 'Name_2008', 'Name_2001', 'Name_1996',\n",
    "       'Class_2012', 'Class_2008', 'Class_2001', 'Class_1996',\n",
    "       'Wetland_12', 'Wetland_08', 'Wetland_01', 'Wetland_96',\n",
    "       'Onshore_12', 'Onshore_08', 'Onshore_01', 'Onshore_96',\n",
    "       'EditAuthor', 'EditDate'])"
   ]
  },
  {
   "cell_type": "code",
   "execution_count": 25,
   "id": "8db3b1aa-e616-4e96-9ee8-e0413bdb2cf2",
   "metadata": {},
   "outputs": [
    {
     "data": {
      "text/plain": [
       "2e-05"
      ]
     },
     "execution_count": 25,
     "metadata": {},
     "output_type": "execute_result"
    }
   ],
   "source": []
  },
  {
   "cell_type": "code",
   "execution_count": null,
   "id": "436e3598-57e6-4ee4-b075-dfeb12c3e23e",
   "metadata": {},
   "outputs": [],
   "source": []
  }
 ],
 "metadata": {
  "kernelspec": {
   "display_name": "Python [conda env:raster]",
   "language": "python",
   "name": "conda-env-raster-py"
  },
  "language_info": {
   "codemirror_mode": {
    "name": "ipython",
    "version": 3
   },
   "file_extension": ".py",
   "mimetype": "text/x-python",
   "name": "python",
   "nbconvert_exporter": "python",
   "pygments_lexer": "ipython3",
   "version": "3.11.3"
  }
 },
 "nbformat": 4,
 "nbformat_minor": 5
}
