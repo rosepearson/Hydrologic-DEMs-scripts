{
 "cells": [
  {
   "cell_type": "code",
   "execution_count": null,
   "metadata": {},
   "outputs": [],
   "source": [
    "import rioxarray\n",
    "import xarray\n",
    "import geopandas\n",
    "import shapely.geometry\n",
    "import shapely.ops\n",
    "import rasterio\n",
    "import rasterio.mask\n",
    "import numpy\n",
    "import matplotlib.pyplot\n",
    "import scipy.ndimage\n",
    "import scipy.interpolate\n",
    "import pathlib\n",
    "import pdal\n",
    "import json"
   ]
  },
  {
   "cell_type": "markdown",
   "metadata": {},
   "source": [
    "# Setup paths"
   ]
  },
  {
   "cell_type": "code",
   "execution_count": null,
   "metadata": {},
   "outputs": [],
   "source": [
    "base_path = pathlib.Path(r'C:\\Users\\pearsonra\\Documents\\data\\Wakanae\\Small_test_site')\n",
    "combined_path = pathlib.Path(r'combined_data')\n",
    "\n",
    "lidar_name = pathlib.Path(r'points.laz')\n",
    "dem_name_stub = pathlib.Path(r'combined_dem')"
   ]
  },
  {
   "cell_type": "markdown",
   "metadata": {},
   "source": [
    "# Read in LiDAR with relevant processing\n",
    "Load in the LAZ file with relevant processing\n",
    "*  Set projection: https://pdal.io/stages/filters.reprojection.html#filters-reprojection"
   ]
  },
  {
   "cell_type": "code",
   "execution_count": null,
   "metadata": {},
   "outputs": [],
   "source": [
    "crs = 2193\n",
    "lidar_file_name = base_path/combined_path/lidar_name\n",
    "\n",
    "pdal_pipeline_instructions = [\n",
    "    {\"type\":  \"readers.las\", \"filename\": str(lidar_file_name)},\n",
    "    {\"type\":\"filters.reprojection\",\"out_srs\":\"EPSG:\" + str(crs)}, # reproject to NZTM\n",
    "]\n",
    "\n",
    "pdal_pipeline = pdal.Pipeline(json.dumps(pdal_pipeline_instructions))\n",
    "pdal_pipeline.execute();"
   ]
  },
  {
   "cell_type": "code",
   "execution_count": null,
   "metadata": {},
   "outputs": [],
   "source": [
    "metadata=json.loads(pdal_pipeline.get_metadata())\n",
    "lidar_arrays = pdal_pipeline.arrays"
   ]
  },
  {
   "cell_type": "markdown",
   "metadata": {},
   "source": [
    "# Use PDAL to create and save a DEM\n",
    "We can use the PDAL writers.gdal pipeline option to create a raster using GDAL drivers. This allows GDAL to be used to create a raster from scattered point cloud information - although it is not always clear which GDAL routines are being used. A primary and secondary interpolation algorithm may be emplyed depending on the 'window_size' specified. It seems the secondary interpolation approach can only be IDW.\n",
    "\n",
    "Documentation: https://pdal.io/stages/writers.gdal.html, examples: https://pdal.io/workshop/exercises/analysis/rasterize/rasterize.html, https://pdal.io/workshop/exercises/analysis/dtm/dtm.html\n",
    "\n",
    "Options:\n",
    "* resoltuion - the resolution of the output DEM grid\n",
    "* radius - the search radius during interpolation (default is sprt(2) x resolution)\n",
    "* power - the power applied to the idw algorithm (https://en.wikipedia.org/wiki/Inverse_distance_weighting)\n",
    "* output_type - select one or more from min, max, mean, idw, count, stdev\n",
    "* window_size - the 'cell based' search distance when applying the back-up interpolation approach\n",
    "* gdaldriver - specify the GDAL output file writing code. Default is GTiff. netCDF doesn't seem to be supported.\n",
    "* origin_x & origin_y - define grid origin (default is None).\n",
    "\n",
    "The following cell explores using various window, radii and IDW powers and their impact on the final raster. Each is saved out and views in QGIS. "
   ]
  },
  {
   "cell_type": "code",
   "execution_count": null,
   "metadata": {},
   "outputs": [],
   "source": [
    "resolution = 10\n",
    "dem_file_name_stub = base_path/combined_path/dem_name_stub\n",
    "\n",
    "window_sizes = range(11,31,1)\n",
    "idw_powers = range(1,3,1)\n",
    "radii =  resolution * numpy.sqrt(2) * range(1,4,1)\n",
    "\n",
    "for window_size in window_sizes:\n",
    "    for idw_power in idw_powers:\n",
    "        for radius in radii:\n",
    "\n",
    "            pdal_pipeline_instructions = [\n",
    "                {\"type\":  \"writers.gdal\", \"resolution\": resolution, \"gdalopts\":\"a_srs=EPSG:\" + str(crs),\n",
    "                 \"filename\": str(dem_file_name_stub) + \"_window_\" + str(window_size) + \"_power_\" + str(idw_power) + \"_radius_\" \n",
    "                 + str(radius) + \".tiff\", \"output_type\":[\"mean\",\"idw\"], \"window_size\": window_size, \"power\": idw_power, \n",
    "                 \"radius\": radius}\n",
    "            ]\n",
    "\n",
    "            print(\"Window = \" + str(window_size) + \", IDW Power = \" + str(idw_powers) + \", Radius = \" + str(radius))\n",
    "\n",
    "            pdal_pipeline = pdal.Pipeline(json.dumps(pdal_pipeline_instructions), lidar_arrays)\n",
    "            pdal_pipeline.execute();"
   ]
  },
  {
   "cell_type": "markdown",
   "metadata": {},
   "source": [
    "# Discussion\n",
    "The resulting rasters show:\n",
    "1. Increased IDW power produces a cleaner image when their is LiDAR, but also speckle artifact \n",
    "2. Increased radius produces increased artifact where the desnity of point data changes.\n",
    "   * At the border between LiDAR and the background DEM - the LiDAR bleeds out and dominates the surrounding DEM as radius is increased.\n",
    "   * At the border between the land data (LiDAR and background DEM) and the ocean data (very sparse point data), the land values propagate out without being impacted by any depth measurements (as those typically aren't very dense or close to shore).\n",
    "3. Increased radius does produce increased diameter rings of values around the scattered Bathymetry sounding points.\n",
    "3. Increased window values increases the distance overwhich interpolation is applied where there is no data - in the example this is around bathymetry sounding points and along the coast.\n",
    "\n",
    "# Conclusions\n",
    "* We should include zero values (or negative if at a river mouth) along the coast as otherwise the transition will drift out to sea.\n",
    "* The built-in PDAL / writers.gdal is not flexible enough to cater to this interpolation use-case. \n",
    "* We will want a binning method where there is LiDAR, we will want a simple interpolaton method where there is background DEM, and we will want a smooth and highly continous approach where there is neither. "
   ]
  },
  {
   "cell_type": "markdown",
   "metadata": {},
   "source": [
    "# Other DEM options in future\n",
    "\n",
    "### PDAL\n",
    "* Write a custome PDAL python function using PDAL filters.python - https://pdal.io/stages/filters.python.html#filters-python\n",
    "* Perform surface generation (i.e. filters.delaunay, filters.greedyprojection, filters.posson requires normals for each point - could do with filters.normal) then rasterise (i.e filters.faceraster) https://pdal.io/stages/filters.faceraster.html?highlight=faceraster\n",
    "\n",
    "### GDAL\n",
    "* Use GDAL grid - https://gdal.org/programs/gdal_grid.html#gdal-grid\n",
    "  * Looks to be pretty limited. Supports interpolation with inverse distance to a power, inverse distance to a power with nearest neighbour searching, moving average, nearest neighbour, and linear. Linear might be appropiate for across the background DEM, and the inverse distance with powers could be used where their is LiDAR.\n",
    "* There is a tutorial - https://gdal.org/tutorials/gdal_grid_tut.html\n",
    "\n",
    "### Custom\n",
    "This could of course be used as the function called in the PDAL filters.python pipeline.\n",
    "* Code up a simple routine myself using a KDTree or something similar\n",
    "\n",
    "`tree = scipy.spatial.KDTree(numpy.c_[pdal_pipeline.arrays[0]['X'].ravel(), pdal_pipeline.arrays[0]['X'].ravel()])`"
   ]
  },
  {
   "cell_type": "code",
   "execution_count": null,
   "metadata": {},
   "outputs": [],
   "source": []
  }
 ],
 "metadata": {
  "kernelspec": {
   "display_name": "Python [conda env:lidar]",
   "language": "python",
   "name": "conda-env-lidar-py"
  },
  "language_info": {
   "codemirror_mode": {
    "name": "ipython",
    "version": 3
   },
   "file_extension": ".py",
   "mimetype": "text/x-python",
   "name": "python",
   "nbconvert_exporter": "python",
   "pygments_lexer": "ipython3",
   "version": "3.9.5"
  }
 },
 "nbformat": 4,
 "nbformat_minor": 2
}
