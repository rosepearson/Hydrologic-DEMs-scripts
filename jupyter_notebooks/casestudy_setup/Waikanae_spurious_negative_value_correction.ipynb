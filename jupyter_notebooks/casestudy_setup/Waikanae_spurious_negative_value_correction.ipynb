{
 "cells": [
  {
   "cell_type": "code",
   "execution_count": null,
   "id": "31b8e4a5",
   "metadata": {},
   "outputs": [],
   "source": [
    "import geopandas\n",
    "import shapely\n",
    "import rioxarray\n",
    "import pathlib\n",
    "import rioxarray.merge\n",
    "import matplotlib\n",
    "import numpy"
   ]
  },
  {
   "cell_type": "markdown",
   "id": "95681f3f",
   "metadata": {},
   "source": [
    "# Correct spurious negative values in the Wellington_2013 Waikanae DEM\n",
    "There are some spurious negative values with ground (and vegetation) classifications in the Wellington 2013 datasets that are causing very negative pixel values in the Wellington_2013 derived Waikanae DEMs. Here we will focus on removing these in a post processing step. In future these will be detected and corrected in the DEM generation process. See [Spurious negative elevations](https://niwa.sharepoint.com/:w:/r/sites/FloodResilienceAotearoa/NationalFloodMapping/Shared%20Documents/DEM%20Generation/Spurious%20negative%20elevations.docx?d=w052158aedcab4951aa62d54c00ef2622&csf=1&web=1&e=WRQMaa) for documentation of the problem, and [issue 65](https://github.com/rosepearson/GeoFabrics/issues/65) for the planned correction."
   ]
  },
  {
   "cell_type": "code",
   "execution_count": null,
   "id": "a68b753b",
   "metadata": {},
   "outputs": [],
   "source": [
    "base_path = pathlib.Path(\"C:/Users/pearsonra/Documents/data/Waikanae/caches/Wellington_2013\")"
   ]
  },
  {
   "cell_type": "markdown",
   "id": "1dcbafd1",
   "metadata": {},
   "source": [
    "## Load in the dense DEM and detect spurious values\n",
    "Plan:\n",
    "1. Load in 4_5m_dense_dem.nc\n",
    "2. Detect and remove the spurious negative pixels\n",
    "3. Save the results\n",
    "\n",
    "This can then be used as the new dense DEM in the production of new DEMs with bathymetry using GeoFabrics"
   ]
  },
  {
   "cell_type": "code",
   "execution_count": null,
   "id": "3886e7d0",
   "metadata": {},
   "outputs": [],
   "source": [
    "# laod in DEM\n",
    "with rioxarray.rioxarray.open_rasterio(base_path / \"4_5m_dense_dem.nc\", masked=True) as dem:\n",
    "    dem.load()\n",
    "dem = dem.copy(deep=True)  # Deep copy is required to ensure the opened file is properly unlocked\n",
    "dem.rio.set_crs(2193);"
   ]
  },
  {
   "cell_type": "markdown",
   "id": "1937d9c2",
   "metadata": {},
   "source": [
    "Create a copy of the DEM with 1 where values are less than -10, and 0 elsewhere. Keep the threshold at -10, as when -1 start getting values near the mouth. Checked to ensure all values with a filter of -10 as at the location of the spurious negative pixels inland of the Peka Paka road onramp to the Kapiti Expressway. "
   ]
  },
  {
   "cell_type": "code",
   "execution_count": null,
   "id": "84d138d2",
   "metadata": {},
   "outputs": [],
   "source": [
    "dem_mask = dem.copy(deep=True)\n",
    "dem_mask.data[dem.data < -10] = 1\n",
    "dem_mask.data[dem.data >= -10] = 0\n",
    "dem_mask.data[numpy.isnan(dem.data)] = 0 # to stop values adjacent becoming nan during filtering\n",
    "dem_mask.to_netcdf(base_path / \"4_5m_dense_dem_masked.nc\")"
   ]
  },
  {
   "cell_type": "markdown",
   "id": "ca5bae0c",
   "metadata": {},
   "source": [
    "Create a mask and filter with a rectangular file to expand the region to be removed by one in each pixel direction"
   ]
  },
  {
   "cell_type": "code",
   "execution_count": null,
   "id": "7d067c47",
   "metadata": {},
   "outputs": [],
   "source": [
    "import scipy.ndimage\n",
    "dem_no_negative_mask=scipy.ndimage.convolve(dem_mask.data, numpy.ones([1, 3, 3]))"
   ]
  },
  {
   "cell_type": "markdown",
   "id": "038af823",
   "metadata": {},
   "source": [
    "Save the filtered dem while ensuring positive indexing"
   ]
  },
  {
   "cell_type": "code",
   "execution_count": null,
   "id": "a855e4b8",
   "metadata": {},
   "outputs": [],
   "source": [
    "dem_no_negative = dem.copy(deep=True)\n",
    "dem_no_negative.data[dem_no_negative_mask > 0] = numpy.nan"
   ]
  },
  {
   "cell_type": "code",
   "execution_count": null,
   "id": "69d1806b",
   "metadata": {},
   "outputs": [],
   "source": [
    "# Ensure positive indexing\n",
    "x = dem_no_negative.x\n",
    "y = dem_no_negative.y\n",
    "if x[0] > x[-1]:\n",
    "    x = x[::-1]\n",
    "if y[0] > y[-1]:\n",
    "    y = y[::-1]\n",
    "dem_no_negative = dem_no_negative.reindex(x=x, y=y)"
   ]
  },
  {
   "cell_type": "code",
   "execution_count": null,
   "id": "afe2e582",
   "metadata": {},
   "outputs": [],
   "source": [
    "dem_no_negative.to_netcdf(base_path / \"4_5m_dense_dem_no_negative.nc\")"
   ]
  }
 ],
 "metadata": {
  "kernelspec": {
   "display_name": "Python [conda env:geofabricsdask]",
   "language": "python",
   "name": "conda-env-geofabricsdask-py"
  },
  "language_info": {
   "codemirror_mode": {
    "name": "ipython",
    "version": 3
   },
   "file_extension": ".py",
   "mimetype": "text/x-python",
   "name": "python",
   "nbconvert_exporter": "python",
   "pygments_lexer": "ipython3",
   "version": "3.9.7"
  }
 },
 "nbformat": 4,
 "nbformat_minor": 5
}
