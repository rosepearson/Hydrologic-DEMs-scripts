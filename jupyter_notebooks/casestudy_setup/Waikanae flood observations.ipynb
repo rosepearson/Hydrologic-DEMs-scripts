{
 "cells": [
  {
   "cell_type": "code",
   "execution_count": null,
   "id": "d48e80db",
   "metadata": {},
   "outputs": [],
   "source": [
    "import pandas\n",
    "import geopandas\n",
    "import shapely\n",
    "import pathlib\n",
    "import rioxarray"
   ]
  },
  {
   "cell_type": "code",
   "execution_count": null,
   "id": "dfcb65af",
   "metadata": {},
   "outputs": [],
   "source": [
    "base_path = pathlib.Path(r\"C:\\Users\\pearsonra\\Documents\\data\\Waikanae\\flood_observations\")\n",
    "csv_name = base_path / \"Flood_Debris.csv\""
   ]
  },
  {
   "cell_type": "code",
   "execution_count": null,
   "id": "4fce9a7a",
   "metadata": {},
   "outputs": [],
   "source": [
    "data = pandas.read_csv(csv_name, thousands=',')"
   ]
  },
  {
   "cell_type": "code",
   "execution_count": null,
   "id": "51cc3ccb",
   "metadata": {},
   "outputs": [],
   "source": [
    "geometry = []\n",
    "for i, row in data.iterrows():\n",
    "    geometry.append(shapely.geometry.Point([row.X, row.Y]))\n",
    "data['geometry'] = geometry"
   ]
  },
  {
   "cell_type": "code",
   "execution_count": null,
   "id": "5a1d8922",
   "metadata": {},
   "outputs": [],
   "source": [
    "geo_data = geopandas.GeoDataFrame(data, geometry='geometry', crs=2193)"
   ]
  },
  {
   "cell_type": "code",
   "execution_count": null,
   "id": "6e03d625",
   "metadata": {
    "scrolled": true
   },
   "outputs": [],
   "source": [
    "#geo_data.groupby('Date_').count()"
   ]
  },
  {
   "cell_type": "code",
   "execution_count": null,
   "id": "72256c4f",
   "metadata": {},
   "outputs": [],
   "source": [
    "geo_data.rename(columns={'level_':'Z_wellington_LVD_1953'}, inplace=True)"
   ]
  },
  {
   "cell_type": "code",
   "execution_count": null,
   "id": "22dee9fb",
   "metadata": {},
   "outputs": [],
   "source": [
    "geo_data.plot()"
   ]
  },
  {
   "cell_type": "code",
   "execution_count": null,
   "id": "0de3be20",
   "metadata": {},
   "outputs": [],
   "source": [
    "geo_data.to_file(base_path / \"Flood_Debris.geojson\")"
   ]
  },
  {
   "cell_type": "markdown",
   "id": "5a1551c6",
   "metadata": {},
   "source": [
    "# Converting from LVD to ZNVD 2016"
   ]
  },
  {
   "cell_type": "code",
   "execution_count": null,
   "id": "19da06b2",
   "metadata": {},
   "outputs": [],
   "source": [
    "lvd_path = pathlib.Path(r\"C:\\Users\\pearsonra\\Documents\\data\\local_datums\\lds-wellington-1953-to-nzvd2016-conversion-raster-GTiff\\wellington-1953-to-nzvd2016-conversion-raster.tif\")\n",
    "obs_path = pathlib.Path(r\"C:\\Users\\pearsonra\\Documents\\data\\Waikanae\\flood_observations\\Flood_Debris.geojson\")"
   ]
  },
  {
   "cell_type": "code",
   "execution_count": null,
   "id": "f0b9140f",
   "metadata": {},
   "outputs": [],
   "source": [
    "with rioxarray.rioxarray.open_rasterio(lvd_path, masked=True) as lvd_conv:\n",
    "    lvd_conv.load()\n",
    "lvd_conv = lvd_conv.copy(deep=True)"
   ]
  },
  {
   "cell_type": "code",
   "execution_count": null,
   "id": "0ac97de3",
   "metadata": {},
   "outputs": [],
   "source": [
    "obs_pts = geopandas.read_file(obs_path)"
   ]
  },
  {
   "cell_type": "code",
   "execution_count": null,
   "id": "56fb4702",
   "metadata": {},
   "outputs": [],
   "source": [
    "obs_pts.columns"
   ]
  },
  {
   "cell_type": "code",
   "execution_count": null,
   "id": "8d9ec67a",
   "metadata": {},
   "outputs": [],
   "source": [
    "Z_NZVD_2016 = []\n",
    "for index, row in obs_pts.iterrows():\n",
    "    Z_NZVD_2016.append(row.Z_wellington_LVD_1953 - \n",
    "                       lvd_conv.interp(x=row.X, y=row.Y).data[0])\n",
    "data['Z_NZVD_2016'] = Z_NZVD_2016"
   ]
  },
  {
   "cell_type": "code",
   "execution_count": null,
   "id": "88fd608e",
   "metadata": {},
   "outputs": [],
   "source": [
    "geo_data.to_file(base_path / \"Flood_Debris.geojson\")"
   ]
  },
  {
   "cell_type": "code",
   "execution_count": null,
   "id": "263aafb3",
   "metadata": {},
   "outputs": [],
   "source": []
  }
 ],
 "metadata": {
  "kernelspec": {
   "display_name": "Python [conda env:geofabricsdask]",
   "language": "python",
   "name": "conda-env-geofabricsdask-py"
  },
  "language_info": {
   "codemirror_mode": {
    "name": "ipython",
    "version": 3
   },
   "file_extension": ".py",
   "mimetype": "text/x-python",
   "name": "python",
   "nbconvert_exporter": "python",
   "pygments_lexer": "ipython3",
   "version": "3.9.7"
  }
 },
 "nbformat": 4,
 "nbformat_minor": 5
}
