{
 "cells": [
  {
   "cell_type": "code",
   "execution_count": null,
   "metadata": {},
   "outputs": [],
   "source": [
    "import rioxarray\n",
    "import rioxarray.merge\n",
    "import xarray\n",
    "import geopandas\n",
    "import shapely.geometry\n",
    "import shapely.ops\n",
    "import rasterio\n",
    "import numpy\n",
    "import matplotlib.pyplot\n",
    "import pathlib\n",
    "import pdal\n",
    "import json\n",
    "\n",
    "from IPython.core.display import display, HTML\n",
    "display(HTML(\"<style>.container { width:100% !important; }</style>\"))"
   ]
  },
  {
   "cell_type": "markdown",
   "metadata": {},
   "source": [
    "# Setup paths"
   ]
  },
  {
   "cell_type": "code",
   "execution_count": null,
   "metadata": {},
   "outputs": [],
   "source": [
    "backgound_path = pathlib.Path(r'C:\\Users\\pearsonra\\Documents\\data')\n",
    "base_path = pathlib.Path(r'C:\\Users\\pearsonra\\Documents\\data\\Wakanae\\Small_test_site')\n",
    "initial_path = pathlib.Path(r'initial_data')\n",
    "destination_path = pathlib.Path(r'final_data')\n",
    "\n",
    "if not (base_path/destination_path).is_dir():\n",
    "    (base_path/destination_path).mkdir()\n",
    "\n",
    "boundary_name = pathlib.Path(r'boundary\\boundary.shp')\n",
    "coast_name = pathlib.Path(r'gis\\coast\\lds-nz-coastlines-and-islands-polygons-topo-150k-SHP.zip!nz-coastlines-and-islands-polygons-topo-150k.shp')\n",
    "background_dem_name = pathlib.Path(r'DEMs\\BackgroundDEM\\NZDEM_SoS_15m\\NZDEM_SoS_v1-0_16_Wellington_gf.tif')\n",
    "bathymetry_name_countour = pathlib.Path(r'C:\\Users\\pearsonra\\Documents\\data\\Bathymetry\\Waikanae\\lds-depth-contour-polyline-hydro-122k-190k-SHP.zip!depth-contour-polyline-hydro-122k-190k.shp')\n",
    "bathymetry_name_countour_low_res = pathlib.Path(r'C:\\Users\\pearsonra\\Documents\\data\\Bathymetry\\Waikanae\\lds-depth-contour-polyline-hydro-190k-1350k-SHP.zip!depth-contour-polyline-hydro-190k-1350k.shp')\n",
    "bathymetry_name_points = pathlib.Path(r'background_bathymetry\\sounding-points-hydro-122k-190k.shp')\n",
    "lidar_name = pathlib.Path(r'points.laz')\n",
    "\n",
    "destination_points_name = pathlib.Path(r'combined_points')\n",
    "destination_dem_name_stub = pathlib.Path(r'created_dem')"
   ]
  },
  {
   "cell_type": "markdown",
   "metadata": {},
   "source": [
    "# Set resolution"
   ]
  },
  {
   "cell_type": "code",
   "execution_count": null,
   "metadata": {},
   "outputs": [],
   "source": [
    "resolution = 10\n",
    "foreshore_buffer = 2\n",
    "island_name = 'North Island or Te Ika-a-Māui'"
   ]
  },
  {
   "cell_type": "markdown",
   "metadata": {},
   "source": [
    "# Load in data"
   ]
  },
  {
   "cell_type": "code",
   "execution_count": null,
   "metadata": {},
   "outputs": [],
   "source": [
    "boundary_catchment = geopandas.read_file(base_path/initial_path/boundary_name)\n",
    "land = geopandas.read_file(backgound_path/coast_name)\n",
    "bathy_countours = geopandas.read_file(backgound_path/bathymetry_name_countour_low_res)\n",
    "bathy_points = geopandas.read_file(base_path/initial_path/bathymetry_name_points)\n",
    "bkgnd_dem = rioxarray.rioxarray.open_rasterio(backgound_path/background_dem_name, masked=True)"
   ]
  },
  {
   "cell_type": "markdown",
   "metadata": {},
   "source": [
    "### Filter out other islands"
   ]
  },
  {
   "cell_type": "code",
   "execution_count": null,
   "metadata": {},
   "outputs": [],
   "source": [
    "land = land[land['name'] ==island_name].reset_index(drop=True)"
   ]
  },
  {
   "cell_type": "markdown",
   "metadata": {},
   "source": [
    "# Set to same projection"
   ]
  },
  {
   "cell_type": "code",
   "execution_count": null,
   "metadata": {},
   "outputs": [],
   "source": [
    "crs = 2193\n",
    "boundary_catchment = boundary_catchment.to_crs(crs)\n",
    "land = land.to_crs(crs)\n",
    "bathy_countours = bathy_countours.to_crs(crs)\n",
    "bathy_points = bathy_points.to_crs(crs)\n",
    "bkgnd_dem.rio.set_crs(crs);"
   ]
  },
  {
   "cell_type": "code",
   "execution_count": null,
   "metadata": {},
   "outputs": [],
   "source": [
    "f, ax = matplotlib.pyplot.subplots(figsize=(15, 10))\n",
    "\n",
    "land.plot(ax=ax, color='None', edgecolor='brown', linewidth=5)\n",
    "boundary_catchment.plot(ax=ax, color='None', edgecolor='green', linewidth=5)\n",
    "bathy_points.plot(ax=ax, marker='o', color='blue', markersize=5)\n",
    "bathy_countours.plot(ax=ax, marker='o', color='red', markersize=5)\n",
    "matplotlib.pyplot.xlim([1.6e6, 2.1e6])\n",
    "matplotlib.pyplot.ylim([5.4e6, 6e6])\n",
    "ax.set_title(\"Uncut data\")"
   ]
  },
  {
   "cell_type": "markdown",
   "metadata": {},
   "source": [
    "# Clip data to in catchment"
   ]
  },
  {
   "cell_type": "code",
   "execution_count": null,
   "metadata": {},
   "outputs": [],
   "source": [
    "catchment_land = geopandas.clip(boundary_catchment, land)\n",
    "bathy_points = geopandas.clip(bathy_points, boundary_catchment)\n",
    "bathy_points = bathy_points.reset_index(drop=True)\n",
    "bathy_countours = geopandas.clip(bathy_countours, boundary_catchment)\n",
    "bathy_countours = bathy_countours.reset_index(drop=True)\n",
    "bkgnd_dem = bkgnd_dem.rio.clip(boundary_catchment.geometry)"
   ]
  },
  {
   "cell_type": "code",
   "execution_count": null,
   "metadata": {},
   "outputs": [],
   "source": [
    "f, ax = matplotlib.pyplot.subplots(figsize=(15, 10))\n",
    "\n",
    "land.plot(ax=ax, color='None', edgecolor='brown', linewidth=5)\n",
    "boundary_catchment.plot(ax=ax, color='None', edgecolor='green', linewidth=5)\n",
    "bathy_points.plot(ax=ax, marker='o', color='blue', markersize=5)\n",
    "bathy_countours.plot(ax=ax, marker='o', color='red', markersize=5)\n",
    "matplotlib.pyplot.xlim([1.765e6, 1.776e6])\n",
    "matplotlib.pyplot.ylim([5.469e6, 5.475e6])\n",
    "ax.set_title(\"Uncut data\")"
   ]
  },
  {
   "cell_type": "markdown",
   "metadata": {},
   "source": [
    "# Define raster origin and size"
   ]
  },
  {
   "cell_type": "code",
   "execution_count": null,
   "metadata": {},
   "outputs": [],
   "source": [
    "raster_origin = [boundary_catchment.loc[0].geometry.bounds[0], boundary_catchment.loc[0].geometry.bounds[1]]\n",
    "raster_size = [int((boundary_catchment.loc[0].geometry.bounds[2] - boundary_catchment.loc[0].geometry.bounds[0]) / resolution), int((boundary_catchment.loc[0].geometry.bounds[3] - boundary_catchment.loc[0].geometry.bounds[1]) / resolution)]"
   ]
  },
  {
   "cell_type": "markdown",
   "metadata": {},
   "source": [
    "# Load in LiDAR and trim to boundary"
   ]
  },
  {
   "cell_type": "code",
   "execution_count": null,
   "metadata": {},
   "outputs": [],
   "source": [
    "lidar_file_name = base_path/initial_path/lidar_name\n",
    "\n",
    "pdal_pipeline_instructions = [\n",
    "    {\"type\":  \"readers.las\", \"filename\": str(lidar_file_name)},\n",
    "    {\"type\":\"filters.reprojection\",\"out_srs\":\"EPSG:\" + str(crs)}, # reproject to NZTM\n",
    "    {\"type\":\"filters.crop\", \"polygon\":str(boundary_catchment.loc[0].geometry)}, # filter within boundary\n",
    "    {\"type\" : \"filters.hexbin\"} # create a polygon boundary of the LiDAR\n",
    "]\n",
    "\n",
    "pdal_pipeline = pdal.Pipeline(json.dumps(pdal_pipeline_instructions))\n",
    "pdal_pipeline.execute();\n",
    "\n",
    "lidar_array = pdal_pipeline.arrays[0]"
   ]
  },
  {
   "cell_type": "markdown",
   "metadata": {},
   "source": [
    "# Define LiDAR extents"
   ]
  },
  {
   "cell_type": "code",
   "execution_count": null,
   "metadata": {},
   "outputs": [],
   "source": [
    "metadata=json.loads(pdal_pipeline.get_metadata())\n",
    "boundary_lidar=shapely.wkt.loads(metadata['metadata']['filters.hexbin']['boundary'])"
   ]
  },
  {
   "cell_type": "markdown",
   "metadata": {},
   "source": [
    "Filter areas less than some percentage"
   ]
  },
  {
   "cell_type": "code",
   "execution_count": null,
   "metadata": {},
   "outputs": [],
   "source": [
    "percentage_to_drop = 5\n",
    "area_to_drop = shapely.geometry.Polygon(boundary_lidar.exterior).area * percentage_to_drop / 100\n",
    "boundary_lidar = shapely.geometry.Polygon(boundary_lidar.exterior.coords,\n",
    "            [interior for interior in boundary_lidar.interiors if shapely.geometry.Polygon(interior).area > area_to_drop])\n",
    "boundary_lidar = geopandas.GeoDataFrame(index=[0], geometry=geopandas.GeoSeries([boundary_lidar], crs=crs), crs=crs)"
   ]
  },
  {
   "cell_type": "markdown",
   "metadata": {},
   "source": [
    "# Filter DEM inside the LiDAR region"
   ]
  },
  {
   "cell_type": "code",
   "execution_count": null,
   "metadata": {},
   "outputs": [],
   "source": [
    "bkgnd_dem = bkgnd_dem.rio.clip([boundary_lidar.loc[0].geometry], invert=True)\n",
    "bkgnd_dem_on_land = bkgnd_dem.rio.clip(catchment_land.geometry)"
   ]
  },
  {
   "cell_type": "markdown",
   "metadata": {},
   "source": [
    "# Create a coast buffer for DEM"
   ]
  },
  {
   "cell_type": "code",
   "execution_count": null,
   "metadata": {},
   "outputs": [],
   "source": [
    "land_and_foreshore = geopandas.GeoDataFrame(index=[0], geometry=catchment_land.buffer(resolution * foreshore_buffer), crs=crs)\n",
    "land_and_foreshore = geopandas.clip(boundary_catchment, land_and_foreshore)\n",
    "foreshore = geopandas.overlay(land_and_foreshore, catchment_land, how='difference')\n",
    "foreshore_and_offshore = geopandas.overlay(boundary_catchment, catchment_land, how='difference')\n",
    "offshore = geopandas.overlay(boundary_catchment, land_and_foreshore, how='difference')"
   ]
  },
  {
   "cell_type": "markdown",
   "metadata": {},
   "source": [
    "# DEM coast buffer"
   ]
  },
  {
   "cell_type": "markdown",
   "metadata": {},
   "source": [
    "Trim the DEM inside the coast buffer region but not where there is LiDAR."
   ]
  },
  {
   "cell_type": "code",
   "execution_count": null,
   "metadata": {},
   "outputs": [],
   "source": [
    "foreshore_with_lidar = geopandas.clip(boundary_lidar, foreshore)\n",
    "foreshore_without_lidar = geopandas.overlay(foreshore, foreshore_with_lidar, how=\"difference\")"
   ]
  },
  {
   "cell_type": "markdown",
   "metadata": {},
   "source": [
    "Trim the background DEM to within the coast buffer where there is no LiDAR"
   ]
  },
  {
   "cell_type": "code",
   "execution_count": null,
   "metadata": {},
   "outputs": [],
   "source": [
    "bkgnd_dem_foreshore = bkgnd_dem.rio.clip(foreshore_without_lidar.geometry)"
   ]
  },
  {
   "cell_type": "markdown",
   "metadata": {},
   "source": [
    "Set the LiDAR and DEM values in the buffer region to zero (unless already negative)"
   ]
  },
  {
   "cell_type": "code",
   "execution_count": null,
   "metadata": {},
   "outputs": [],
   "source": [
    "bkgnd_dem_foreshore.data[0][bkgnd_dem_foreshore.data[0]>0] = 0"
   ]
  },
  {
   "cell_type": "markdown",
   "metadata": {},
   "source": [
    "# Combined land and foreshore values\n",
    "Note - there is the possibility this will miss portions of coast if the background DEM or LiDAR is not defined out to sea. In this case we will need to set these values to zero - could set values in DEM prior to cutting."
   ]
  },
  {
   "cell_type": "code",
   "execution_count": null,
   "metadata": {},
   "outputs": [],
   "source": [
    "dem_x, dem_y = numpy.meshgrid(bkgnd_dem_on_land.x, bkgnd_dem_on_land.y)\n",
    "dem_z = bkgnd_dem_on_land.data[0].flatten()\n",
    "dem_land_x = dem_x.flatten()[~numpy.isnan(dem_z)]\n",
    "dem_land_y = dem_y.flatten()[~numpy.isnan(dem_z)]\n",
    "dem_land_z = dem_z[~numpy.isnan(dem_z)]\n",
    "\n",
    "\n",
    "dem_x, dem_y = numpy.meshgrid(bkgnd_dem_foreshore.x, bkgnd_dem_foreshore.y)\n",
    "dem_z = bkgnd_dem_foreshore.data[0].flatten()\n",
    "dem_foreshore_x = dem_x.flatten()[~numpy.isnan(dem_z)]\n",
    "dem_foreshore_y = dem_y.flatten()[~numpy.isnan(dem_z)]\n",
    "dem_foreshore_z = dem_z[~numpy.isnan(dem_z)]\n",
    "\n",
    "dem_points = numpy.zeros_like(lidar_array, shape=[len(dem_land_x) + len(dem_foreshore_x)])\n",
    "dem_points['X'] = numpy.concatenate([dem_land_x, dem_foreshore_x])\n",
    "dem_points['Y'] = numpy.concatenate([dem_land_y, dem_foreshore_y])\n",
    "dem_points['Z'] = numpy.concatenate([dem_land_z, dem_foreshore_z])\n",
    "\n",
    "combined_dense_points_array = numpy.concatenate([lidar_array, dem_points])"
   ]
  },
  {
   "cell_type": "markdown",
   "metadata": {},
   "source": [
    "# Create Raster where dense data\n",
    "Land and coast buffer"
   ]
  },
  {
   "cell_type": "code",
   "execution_count": null,
   "metadata": {},
   "outputs": [],
   "source": [
    "dem_file_name_stub = base_path/destination_path/destination_dem_name_stub\n",
    "\n",
    "window_size = 0\n",
    "idw_power = 2\n",
    "radius =  resolution * numpy.sqrt(2)\n",
    "\n",
    "pdal_pipeline_instructions = [\n",
    "    {\"type\":  \"writers.gdal\", \"resolution\": resolution, \"gdalopts\": \"a_srs=EPSG:\" + str(crs), \"output_type\":[\"idw\"], \n",
    "     \"filename\": str(dem_file_name_stub) + \"_dense_only_window_\" + str(window_size) + \"_power_\" + str(idw_power) + \"_radius_\" + str(radius) + \".tiff\", \n",
    "     \"window_size\": window_size, \"power\": idw_power, \"radius\": radius, \n",
    "     \"origin_x\": raster_origin[0], \"origin_y\": raster_origin[1], \"width\": raster_size[0], \"height\": raster_size[1]}\n",
    "]\n",
    "\n",
    "pdal_pipeline = pdal.Pipeline(json.dumps(pdal_pipeline_instructions), [combined_dense_points_array])\n",
    "pdal_pipeline.execute();\n"
   ]
  },
  {
   "cell_type": "markdown",
   "metadata": {},
   "source": [
    "# Create foreshore/sea-ward buffer from dense DEM"
   ]
  },
  {
   "cell_type": "code",
   "execution_count": null,
   "metadata": {},
   "outputs": [],
   "source": [
    "boundary_dense_dem = geopandas.GeoDataFrame(index=[0], geometry=geopandas.GeoSeries(shapely.ops.cascaded_union([land_and_foreshore.loc[0].geometry, boundary_lidar.loc[0].geometry])), crs=crs)\n",
    "offshore_dense_dem = geopandas.overlay(boundary_catchment, boundary_dense_dem, how='difference')\n",
    "deflated_dense_data = geopandas.GeoDataFrame(index=[0], geometry=boundary_dense_dem.buffer(resolution * -1 * foreshore_buffer), crs=crs)\n",
    "offshore_edge_dense_dem = geopandas.overlay(boundary_dense_dem, deflated_dense_data, how='difference')\n",
    "offshore_edge_dense_dem = geopandas.clip(offshore_edge_dense_dem, foreshore_and_offshore)"
   ]
  },
  {
   "cell_type": "markdown",
   "metadata": {},
   "source": [
    "# Load in the generated dense DEM"
   ]
  },
  {
   "cell_type": "code",
   "execution_count": null,
   "metadata": {},
   "outputs": [],
   "source": [
    "metadata=json.loads(pdal_pipeline.get_metadata())\n",
    "dense_dem = rioxarray.rioxarray.open_rasterio(metadata['metadata']['writers.gdal']['filename'][0], masked=True)\n",
    "dense_dem.rio.set_crs(crs);\n",
    "\n",
    "dense_dem_foreshore = dense_dem.rio.clip(offshore_edge_dense_dem.geometry)"
   ]
  },
  {
   "cell_type": "code",
   "execution_count": null,
   "metadata": {},
   "outputs": [],
   "source": [
    "f, ax = matplotlib.pyplot.subplots(figsize=(15, 10))\n",
    "dense_dem_foreshore.plot()"
   ]
  },
  {
   "cell_type": "markdown",
   "metadata": {},
   "source": [
    "# Cut bathy to outside dense region"
   ]
  },
  {
   "cell_type": "code",
   "execution_count": null,
   "metadata": {},
   "outputs": [],
   "source": [
    "bathy_points = geopandas.clip(bathy_points, offshore_dense_dem)\n",
    "bathy_points = bathy_points.reset_index(drop=True)\n",
    "\n",
    "bathy_countours = geopandas.clip(bathy_countours, offshore_dense_dem)\n",
    "bathy_countours = bathy_countours.reset_index(drop=True)"
   ]
  },
  {
   "cell_type": "code",
   "execution_count": null,
   "metadata": {},
   "outputs": [],
   "source": [
    "f, ax = matplotlib.pyplot.subplots(figsize=(15, 10))\n",
    "\n",
    "land.plot(ax=ax, color='None', edgecolor='brown', linewidth=5)\n",
    "boundary_catchment.plot(ax=ax, color='None', edgecolor='green', linewidth=5)\n",
    "bathy_points.plot(ax=ax, marker='o', color='blue', markersize=5)\n",
    "bathy_countours.plot(ax=ax, marker='o', color='red', markersize=5)\n",
    "matplotlib.pyplot.xlim([1.765e6, 1.776e6])\n",
    "matplotlib.pyplot.ylim([5.469e6, 5.475e6])\n",
    "ax.set_title(\"Uncut data\")"
   ]
  },
  {
   "cell_type": "markdown",
   "metadata": {},
   "source": [
    "# Subsample from bathy contours\n",
    "Overwrite the original data - can't run this line twice"
   ]
  },
  {
   "cell_type": "code",
   "execution_count": null,
   "metadata": {},
   "outputs": [],
   "source": [
    "bathy_countours['points']=bathy_countours.geometry.apply(lambda row : shapely.geometry.MultiPoint([ row.interpolate(i * resolution) for i in range(int(numpy.ceil(row.length/resolution)))]))"
   ]
  },
  {
   "cell_type": "markdown",
   "metadata": {},
   "source": [
    "# Combine Bathymetry and coastal buffer raster"
   ]
  },
  {
   "cell_type": "code",
   "execution_count": null,
   "metadata": {},
   "outputs": [],
   "source": [
    "lidar_array = pdal_pipeline.arrays[0]\n",
    "\n",
    "dem_x, dem_y = numpy.meshgrid(dense_dem_foreshore.x, dense_dem_foreshore.y)\n",
    "dem_z = dense_dem_foreshore.data[0].flatten()\n",
    "dense_dem_foreshore_x = dem_x.flatten()[~numpy.isnan(dem_z)]\n",
    "dense_dem_foreshore_y = dem_y.flatten()[~numpy.isnan(dem_z)]\n",
    "dense_dem_foreshore_z = dem_z[~numpy.isnan(dem_z)]\n",
    "\n",
    "'''bathymetry_x = bathy_points.apply(lambda x : x['geometry'][0].x,axis=1).to_numpy()\n",
    "bathymetry_y = bathy_points.apply(lambda x : x['geometry'][0].y,axis=1).to_numpy()\n",
    "bathymetry_z = bathy_points.apply(lambda x : x['geometry'][0].z,axis=1).to_numpy() * -1 # map depth to elevatation'''\n",
    "\n",
    "bathy_x = numpy.concatenate(bathy_countours['points'].apply(lambda row : [row[i].x for i in range(len(row))]).to_list())\n",
    "bathy_y = numpy.concatenate(bathy_countours['points'].apply(lambda row : [row[i].y for i in range(len(row))]).to_list())\n",
    "bathy_z = numpy.concatenate(bathy_countours.apply(lambda row : (row['valdco'] * numpy.ones(len(row['points']))), axis=1).to_list()) * -1 # map depth to elevatation\n",
    "\n",
    "offshore_x = numpy.concatenate([dense_dem_foreshore_x, bathy_x])\n",
    "offshore_y = numpy.concatenate([dense_dem_foreshore_y, bathy_y])\n",
    "offshore_z = numpy.concatenate([dense_dem_foreshore_z, bathy_z])"
   ]
  },
  {
   "cell_type": "markdown",
   "metadata": {},
   "source": [
    "# Create offshore raster - Plot results\n",
    "Using `scipy.interpolate` and `scipy.interpolate.rbf`"
   ]
  },
  {
   "cell_type": "code",
   "execution_count": null,
   "metadata": {},
   "outputs": [],
   "source": [
    "import scipy.interpolate"
   ]
  },
  {
   "cell_type": "code",
   "execution_count": null,
   "metadata": {},
   "outputs": [],
   "source": [
    "offshore_dem_linear=scipy.interpolate.griddata(points=(offshore_x, offshore_y), values=offshore_z, xi=(dem_x, dem_y), method='linear')\n",
    "offshore_dem_nn=scipy.interpolate.griddata(points=(offshore_x, offshore_y), values=offshore_z, xi=(dem_x, dem_y), method='nearest')\n",
    "offshore_dem_cubic=scipy.interpolate.griddata(points=(offshore_x, offshore_y), values=offshore_z, xi=(dem_x, dem_y), method='cubic')"
   ]
  },
  {
   "cell_type": "code",
   "execution_count": null,
   "metadata": {},
   "outputs": [],
   "source": [
    "vmin = -5\n",
    "vmax = 1\n",
    "f, ax = matplotlib.pyplot.subplots(figsize=(15, 10))\n",
    "ax = matplotlib.pyplot.subplot(131)\n",
    "matplotlib.pyplot.imshow(offshore_dem_linear, vmin=vmin, vmax=vmax)\n",
    "ax.set_title('Linear')\n",
    "\n",
    "ax = matplotlib.pyplot.subplot(132)\n",
    "matplotlib.pyplot.imshow(offshore_dem_nn, vmin=vmin, vmax=vmax)\n",
    "ax.set_title('Nearest neighbour')\n",
    "\n",
    "ax = matplotlib.pyplot.subplot(133)\n",
    "matplotlib.pyplot.imshow(offshore_dem_cubic, vmin=vmin, vmax=vmax)\n",
    "ax.set_title('Cubic')"
   ]
  },
  {
   "cell_type": "code",
   "execution_count": null,
   "metadata": {},
   "outputs": [],
   "source": [
    "offshore_rbf = scipy.interpolate.Rbf(offshore_x, offshore_y, offshore_z, function='multiquadric')\n",
    "offshore_rbf_dem_multiquadric = offshore_rbf(dem_x.flatten(), dem_y.flatten())\n",
    "offshore_rbf = scipy.interpolate.Rbf(offshore_x, offshore_y, offshore_z, function='inverse')\n",
    "offshore_rbf_dem_inverse = offshore_rbf(dem_x.flatten(), dem_y.flatten())\n",
    "offshore_rbf = scipy.interpolate.Rbf(offshore_x, offshore_y, offshore_z, function='gaussian')\n",
    "offshore_rbf_dem_gaussian = offshore_rbf(dem_x.flatten(), dem_y.flatten())\n",
    "offshore_rbf = scipy.interpolate.Rbf(offshore_x, offshore_y, offshore_z, function='linear')\n",
    "offshore_rbf_dem_linear = offshore_rbf(dem_x.flatten(), dem_y.flatten())\n",
    "offshore_rbf = scipy.interpolate.Rbf(offshore_x, offshore_y, offshore_z, function='cubic')\n",
    "offshore_rbf_dem_cubic = offshore_rbf(dem_x.flatten(), dem_y.flatten())\n",
    "offshore_rbf = scipy.interpolate.Rbf(offshore_x, offshore_y, offshore_z, function='quintic')\n",
    "offshore_rbf_dem_quintic = offshore_rbf(dem_x.flatten(), dem_y.flatten())\n",
    "offshore_rbf = scipy.interpolate.Rbf(offshore_x, offshore_y, offshore_z, function='thin_plate')\n",
    "offshore_rbf_dem_thin_plate = offshore_rbf(dem_x.flatten(), dem_y.flatten())"
   ]
  },
  {
   "cell_type": "code",
   "execution_count": null,
   "metadata": {},
   "outputs": [],
   "source": [
    "f, ax = matplotlib.pyplot.subplots(figsize=(30, 15))\n",
    "ax=matplotlib.pyplot.subplot(241)\n",
    "matplotlib.pyplot.imshow(offshore_rbf_dem_multiquadric.reshape(dem_x.shape), vmin=vmin, vmax=vmax)\n",
    "ax.set_title('multiquadric')\n",
    "\n",
    "ax=matplotlib.pyplot.subplot(242)\n",
    "matplotlib.pyplot.imshow(offshore_rbf_dem_inverse.reshape(dem_x.shape), vmin=vmin, vmax=vmax)\n",
    "ax.set_title('inverse')\n",
    "\n",
    "ax=matplotlib.pyplot.subplot(243)\n",
    "matplotlib.pyplot.imshow(offshore_rbf_dem_gaussian.reshape(dem_x.shape), vmin=vmin, vmax=vmax)\n",
    "ax.set_title('gaussian')\n",
    "\n",
    "ax=matplotlib.pyplot.subplot(244)\n",
    "matplotlib.pyplot.imshow(offshore_rbf_dem_linear.reshape(dem_x.shape), vmin=vmin, vmax=vmax)\n",
    "ax.set_title('linear')\n",
    "\n",
    "ax=matplotlib.pyplot.subplot(245)\n",
    "matplotlib.pyplot.imshow(offshore_rbf_dem_cubic.reshape(dem_x.shape), vmin=vmin, vmax=vmax)\n",
    "ax.set_title('cubic')\n",
    "\n",
    "ax=matplotlib.pyplot.subplot(246)\n",
    "matplotlib.pyplot.imshow(offshore_rbf_dem_quintic.reshape(dem_x.shape), vmin=vmin, vmax=vmax)\n",
    "ax.set_title('quintic')\n",
    "\n",
    "ax=matplotlib.pyplot.subplot(247)\n",
    "matplotlib.pyplot.imshow(offshore_rbf_dem_thin_plate.reshape(dem_x.shape), vmin=vmin, vmax=vmax, extent=(dem_x.min(), dem_x.max(), dem_y.min(), dem_y.max()))\n",
    "#matplotlib.pyplot.scatter(offshore_x, offshore_y, c=offshore_z, vmin=vmin, vmax=vmax)#, 'k.', ms=1)\n",
    "ax.set_title('thin_plate')"
   ]
  },
  {
   "cell_type": "markdown",
   "metadata": {},
   "source": [
    "# Create offshore raster - Linear RBF\n",
    "Using `scipy.interpolate.rbf`\n",
    "Only calculate where offshore\n",
    "\n",
    "1. Get offshore grid locations to save on RBF interpolant calculations - do some geometric operations to produce an offshore boundary"
   ]
  },
  {
   "cell_type": "code",
   "execution_count": null,
   "metadata": {},
   "outputs": [],
   "source": [
    "offshore_dem=dense_dem.copy()\n",
    "offshore_dem.rio.set_crs(dense_dem.rio.crs)\n",
    "offshore_dem.data[0]=0\n",
    "offshore_dem = offshore_dem.rio.clip(offshore_dense_dem.geometry);"
   ]
  },
  {
   "cell_type": "markdown",
   "metadata": {},
   "source": [
    "2. Create the RBF function from the offshore data"
   ]
  },
  {
   "cell_type": "code",
   "execution_count": null,
   "metadata": {},
   "outputs": [],
   "source": [
    "offshore_rbf = scipy.interpolate.Rbf(offshore_x, offshore_y, offshore_z, function='linear')"
   ]
  },
  {
   "cell_type": "markdown",
   "metadata": {},
   "source": [
    "3. Evaluate the RBF function where offshore"
   ]
  },
  {
   "cell_type": "code",
   "execution_count": null,
   "metadata": {},
   "outputs": [],
   "source": [
    "dem_x, dem_y = numpy.meshgrid(offshore_dem.x, offshore_dem.y)\n",
    "dem_z = offshore_dem.data[0].flatten()\n",
    "dem_offshore_x = dem_x.flatten()[~numpy.isnan(dem_z)]\n",
    "dem_offshore_y = dem_y.flatten()[~numpy.isnan(dem_z)]\n",
    "dem_z[~numpy.isnan(dem_z)] = offshore_rbf(dem_offshore_x, dem_offshore_y)\n",
    "offshore_dem.data[0] = dem_z.reshape(dem_x.shape)"
   ]
  },
  {
   "cell_type": "markdown",
   "metadata": {},
   "source": [
    "4. Plot results to sanity check"
   ]
  },
  {
   "cell_type": "code",
   "execution_count": null,
   "metadata": {},
   "outputs": [],
   "source": [
    "offshore_dem.plot()"
   ]
  },
  {
   "cell_type": "code",
   "execution_count": null,
   "metadata": {},
   "outputs": [],
   "source": [
    "dense_dem.plot()"
   ]
  },
  {
   "cell_type": "markdown",
   "metadata": {},
   "source": [
    "# Combine and fill DEMs"
   ]
  },
  {
   "cell_type": "code",
   "execution_count": null,
   "metadata": {},
   "outputs": [],
   "source": [
    "combined_dem = rioxarray.merge.merge_arrays([dense_dem, offshore_dem], method= \"last\") # important for this to be last as otherwise values that\n",
    "combined_dem_filled = combined_dem.rio.interpolate_na()"
   ]
  },
  {
   "cell_type": "code",
   "execution_count": null,
   "metadata": {},
   "outputs": [],
   "source": [
    "combined_dem_filled.plot(vmin=-5, vmax=5)"
   ]
  },
  {
   "cell_type": "markdown",
   "metadata": {},
   "source": [
    "# Save results"
   ]
  },
  {
   "cell_type": "code",
   "execution_count": null,
   "metadata": {},
   "outputs": [],
   "source": [
    "offshore_dem.to_netcdf(str(dem_file_name_stub) + \"_offshore_linear_rbf_dem.nc\")\n",
    "combined_dem.to_netcdf(str(dem_file_name_stub) + \"_combined_linear_rbf_dem.nc\")\n",
    "combined_dem_filled.to_netcdf(str(dem_file_name_stub) + \"_combined_linear_rbf_dem_filled.nc\")"
   ]
  },
  {
   "cell_type": "code",
   "execution_count": null,
   "metadata": {},
   "outputs": [],
   "source": []
  }
 ],
 "metadata": {
  "kernelspec": {
   "display_name": "Python [conda env:spyder]",
   "language": "python",
   "name": "conda-env-spyder-py"
  },
  "language_info": {
   "codemirror_mode": {
    "name": "ipython",
    "version": 3
   },
   "file_extension": ".py",
   "mimetype": "text/x-python",
   "name": "python",
   "nbconvert_exporter": "python",
   "pygments_lexer": "ipython3",
   "version": "3.9.5"
  }
 },
 "nbformat": 4,
 "nbformat_minor": 2
}
