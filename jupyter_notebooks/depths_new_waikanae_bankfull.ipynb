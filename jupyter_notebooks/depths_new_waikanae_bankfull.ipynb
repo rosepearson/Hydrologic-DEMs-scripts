{
 "cells": [
  {
   "cell_type": "code",
   "execution_count": null,
   "id": "bb30d87b",
   "metadata": {},
   "outputs": [],
   "source": [
    "import geopandas\n",
    "import pandas\n",
    "import pathlib\n",
    "import numpy\n",
    "import matplotlib\n",
    "from IPython.core.display import display, HTML\n",
    "\n",
    "display(HTML(\"<style>.container { width:100% !important; }</style>\"))"
   ]
  },
  {
   "cell_type": "code",
   "execution_count": null,
   "id": "b8666144",
   "metadata": {},
   "outputs": [],
   "source": [
    "sampling_resolution = 10"
   ]
  },
  {
   "cell_type": "markdown",
   "id": "2d90a150",
   "metadata": {},
   "source": [
    "## Load in results\n",
    "### Widths and slopes"
   ]
  },
  {
   "cell_type": "code",
   "execution_count": null,
   "id": "c3c02ca8",
   "metadata": {},
   "outputs": [],
   "source": [
    "experiment_key = \"\" #_075-2thresh_65m_search_no_veg\"\n",
    "cache_dir = pathlib.Path(r\"C:\\Users\\pearsonra\\Documents\\data\\river_bathemetry\\waikanae_new_lidar\\caches\\100000000\")\n",
    "width_file = cache_dir / (\"final_transect_values\" + experiment_key + \".geojson\")\n",
    "rec_main_channel_file = cache_dir / \"rec_main_channel.geojson\"\n",
    "widths = geopandas.read_file(width_file)\n",
    "main_channel = geopandas.read_file(rec_main_channel_file)"
   ]
  },
  {
   "cell_type": "markdown",
   "id": "6aa4ea91",
   "metadata": {},
   "source": [
    "### Slopes and Flows"
   ]
  },
  {
   "cell_type": "code",
   "execution_count": null,
   "id": "8ffd7060",
   "metadata": {},
   "outputs": [],
   "source": [
    "mannings_file = pathlib.Path(r\"C:\\Users\\pearsonra\\Documents\\data\\river_bathemetry\\mannings_n\\bathy.csv.gz\")\n",
    "mannings = pandas.read_csv(mannings_file)"
   ]
  },
  {
   "cell_type": "markdown",
   "id": "46302734",
   "metadata": {},
   "source": [
    "### Measured cross sections"
   ]
  },
  {
   "cell_type": "code",
   "execution_count": null,
   "id": "411f2452",
   "metadata": {},
   "outputs": [],
   "source": [
    "cross_section_file = pathlib.Path(r\"C:/Users/pearsonra/Documents/data/river_bathemetry/sections/Waikanae/Waikanae_Cross_Sections_NIWA/2014_Survey_XS_NZTM.shp\")\n",
    "cross_sections = geopandas.read_file(cross_section_file)"
   ]
  },
  {
   "cell_type": "markdown",
   "id": "1b9f5fda",
   "metadata": {},
   "source": [
    "### Local datum conversion"
   ]
  },
  {
   "cell_type": "code",
   "execution_count": null,
   "id": "48e1bc08",
   "metadata": {},
   "outputs": [],
   "source": [
    "local_datum_file = pathlib.Path(r\"C:\\Users\\pearsonra\\Documents\\data\\local_datums\\lds-wellington-1953-to-nzvd2016-conversion-raster-GTiff\\wellington-1953-to-nzvd2016-conversion-raster.tif\")"
   ]
  },
  {
   "cell_type": "code",
   "execution_count": null,
   "id": "41ce9a0b",
   "metadata": {},
   "outputs": [],
   "source": [
    "import rioxarray\n",
    "with rioxarray.rioxarray.open_rasterio(local_datum_file, masked=True) as local_vertical_datum:\n",
    "            local_vertical_datum.load()"
   ]
  },
  {
   "cell_type": "markdown",
   "id": "c8c46a84",
   "metadata": {},
   "source": [
    "# Translate the samples to correct reach"
   ]
  },
  {
   "cell_type": "code",
   "execution_count": null,
   "id": "dcbac0c8",
   "metadata": {},
   "outputs": [],
   "source": [
    "widths['nzsegment'] = numpy.zeros(len(widths['widths']), dtype=int) * -1\n",
    "for i, row in main_channel.iterrows():\n",
    "    widths.loc[widths.intersects(row.geometry), ('nzsegment')] = row['nzsegment']"
   ]
  },
  {
   "cell_type": "markdown",
   "id": "c222a12d",
   "metadata": {},
   "source": [
    "#### Temporary - manaully set last value"
   ]
  },
  {
   "cell_type": "code",
   "execution_count": null,
   "id": "6d034b11",
   "metadata": {},
   "outputs": [],
   "source": [
    "widths.loc[972, ('nzsegment')]=widths['nzsegment'].iloc[971]"
   ]
  },
  {
   "cell_type": "markdown",
   "id": "52dc6333",
   "metadata": {},
   "source": [
    "# Add the flows and manning's n to the widths table"
   ]
  },
  {
   "cell_type": "code",
   "execution_count": null,
   "id": "619cf01a",
   "metadata": {},
   "outputs": [],
   "source": [
    "widths[['widths', 'valid_widths']].plot()"
   ]
  },
  {
   "cell_type": "code",
   "execution_count": null,
   "id": "261ca7cb",
   "metadata": {},
   "outputs": [],
   "source": [
    "slope_name = 'slope_mean_2.0km'\n",
    "min_z_name = 'min_z_centre_unimodal_mean_2.0km' # 'min_z_centre_unimodal'\n",
    "width_name = 'widths_mean_0.25km'"
   ]
  },
  {
   "cell_type": "code",
   "execution_count": null,
   "id": "c7810699",
   "metadata": {},
   "outputs": [],
   "source": [
    "key_parameters = widths[['nzsegment', slope_name, width_name, 'geometry', min_z_name, 'threshold']]\n",
    "key_parameters = key_parameters[key_parameters['nzsegment'] != 0]"
   ]
  },
  {
   "cell_type": "code",
   "execution_count": null,
   "id": "8afdd430",
   "metadata": {},
   "outputs": [],
   "source": [
    "key_parameters['mannings_n'] = numpy.zeros(len(key_parameters['nzsegment']), dtype=int)\n",
    "key_parameters['flow'] = numpy.zeros(len(key_parameters['nzsegment']), dtype=int)\n",
    "for nzsegment in key_parameters['nzsegment'].unique():\n",
    "    key_parameters.loc[key_parameters['nzsegment'] == nzsegment, ('mannings_n')] = mannings[mannings['nzsegment'] == nzsegment]['n'].unique()[0]\n",
    "    key_parameters.loc[key_parameters['nzsegment'] == nzsegment, ('flow')] = mannings[mannings['nzsegment'] == nzsegment]['flow'].unique()[0]"
   ]
  },
  {
   "cell_type": "markdown",
   "id": "fa660b6a",
   "metadata": {},
   "source": [
    "Note a section is out of order, which is why the flow goes down."
   ]
  },
  {
   "cell_type": "code",
   "execution_count": null,
   "id": "0f2eb063",
   "metadata": {},
   "outputs": [],
   "source": [
    "key_parameters[['nzsegment']].plot()"
   ]
  },
  {
   "cell_type": "markdown",
   "id": "bfbd5489",
   "metadata": {},
   "source": [
    "### Take the mean of the threshold "
   ]
  },
  {
   "cell_type": "code",
   "execution_count": null,
   "id": "0ac12828",
   "metadata": {},
   "outputs": [],
   "source": [
    "key_parameters['rolling_threshold'] = key_parameters['threshold'].rolling(25, min_periods=1, center=True).mean()"
   ]
  },
  {
   "cell_type": "markdown",
   "id": "e1cc6acc",
   "metadata": {},
   "source": [
    "## Calculate depth"
   ]
  },
  {
   "cell_type": "code",
   "execution_count": null,
   "id": "e7aa4ff0",
   "metadata": {},
   "outputs": [],
   "source": [
    "key_parameters['depth_Neal_et_al'] = (key_parameters['mannings_n'] * key_parameters['flow'] \\\n",
    "                                      / (numpy.sqrt(key_parameters[slope_name]) \\\n",
    "                                         * key_parameters[width_name])) ** (3/5) - key_parameters['rolling_threshold']"
   ]
  },
  {
   "cell_type": "code",
   "execution_count": null,
   "id": "bf6af89b",
   "metadata": {},
   "outputs": [],
   "source": [
    "a = 0.745\n",
    "b = 0.305\n",
    "K_0 = 6.16"
   ]
  },
  {
   "cell_type": "code",
   "execution_count": null,
   "id": "8101995d",
   "metadata": {},
   "outputs": [],
   "source": [
    "key_parameters['depth_Smart_et_al'] = \\\n",
    "    (key_parameters['flow'] / (K_0 * key_parameters[width_name] \n",
    "                               * key_parameters[slope_name] ** b)) ** (1 / (1+a)) - key_parameters['rolling_threshold']"
   ]
  },
  {
   "cell_type": "markdown",
   "id": "320ea88a",
   "metadata": {},
   "source": [
    "## Plot results\n",
    "Include plots of each parameter - Manning's n, flow, depth and slope - used to calculate depth"
   ]
  },
  {
   "cell_type": "code",
   "execution_count": null,
   "id": "ea641c43",
   "metadata": {},
   "outputs": [],
   "source": [
    "f, ax = matplotlib.pyplot.subplots(figsize=(10, 3))\n",
    "key_parameters[['mannings_n']].plot(ax=ax, linewidth=2)\n",
    "ax.set(title=f\"Mannings N for {threshold}m threshold\")\n",
    "matplotlib.pyplot.xlabel(f\"Transect number (spaced every {sampling_resolution}m upstream)\")\n",
    "matplotlib.pyplot.ylabel(f\"River Mannings M in m\");"
   ]
  },
  {
   "cell_type": "code",
   "execution_count": null,
   "id": "c728dde8",
   "metadata": {},
   "outputs": [],
   "source": [
    "f, ax = matplotlib.pyplot.subplots(figsize=(10, 3))\n",
    "key_parameters[['flow']].plot(ax=ax, linewidth=2)\n",
    "ax.set(title=f\"Flows\")\n",
    "matplotlib.pyplot.xlabel(f\"Cross section number (spaced every {sampling_resolution}m upstream)\")\n",
    "matplotlib.pyplot.ylabel(f\"River flow in m^3/s\");"
   ]
  },
  {
   "cell_type": "code",
   "execution_count": null,
   "id": "b71b90c3",
   "metadata": {},
   "outputs": [],
   "source": [
    "f, ax = matplotlib.pyplot.subplots(figsize=(10, 3))\n",
    "key_parameters[[width_name]].plot(ax=ax, linewidth=2)\n",
    "ax.set(title=f\"Widths with a rolling mean filter applied\")\n",
    "matplotlib.pyplot.xlabel(f\"Transect number (spaced every {sampling_resolution}m upstream)\")\n",
    "matplotlib.pyplot.ylabel(f\"River width (m)\");"
   ]
  },
  {
   "cell_type": "code",
   "execution_count": null,
   "id": "26309190",
   "metadata": {},
   "outputs": [],
   "source": [
    "f, ax = matplotlib.pyplot.subplots(figsize=(10, 3))\n",
    "key_parameters[[slope_name]].plot(ax=ax, linewidth=2)\n",
    "ax.set(title=f\"Smoothed slope calculated from the Unimodal fit water surface levels\")\n",
    "matplotlib.pyplot.xlabel(f\"Transect number (spaced every {sampling_resolution}m upstream)\")\n",
    "matplotlib.pyplot.ylabel(f\"River slope\");"
   ]
  },
  {
   "cell_type": "code",
   "execution_count": null,
   "id": "c777020c",
   "metadata": {},
   "outputs": [],
   "source": [
    "f, ax = matplotlib.pyplot.subplots(figsize=(10, 3))\n",
    "key_parameters[['threshold','rolling_threshold']].plot(ax=ax, linewidth=2)\n",
    "ax.set(title=f\"Bank-full width threshold\")\n",
    "matplotlib.pyplot.xlabel(f\"Transect number (spaced every {sampling_resolution}m upstream)\")\n",
    "matplotlib.pyplot.ylabel(f\"Bank-full width threshold\");"
   ]
  },
  {
   "cell_type": "code",
   "execution_count": null,
   "id": "8d453f69",
   "metadata": {},
   "outputs": [],
   "source": [
    "f, ax = matplotlib.pyplot.subplots(figsize=(10, 6))\n",
    "key_parameters['depth_Neal_et_al'].plot(ax=ax, linewidth=2, label='River depth calculated Neal et al')\n",
    "key_parameters['depth_Smart_et_al'].plot(ax=ax, linewidth=2, label='River depth calculated Rupp & Smart')\n",
    "ax.set(title=\"Depths estimated by the two approaches (uniform flow theory approach, and hydraulic geometry)\")\n",
    "matplotlib.pyplot.xlabel(f\"Transect number (spaced every {sampling_resolution}m upstream)\")\n",
    "matplotlib.pyplot.ylabel(f\"River depth in m\");\n",
    "matplotlib.pyplot.legend()"
   ]
  },
  {
   "cell_type": "code",
   "execution_count": null,
   "id": "d96fa022",
   "metadata": {},
   "outputs": [],
   "source": [
    "f, ax = matplotlib.pyplot.subplots(figsize=(10, 6))\n",
    "key_parameters['depth_Neal_et_al'].plot(ax=ax, linewidth=2, label='River depth calculated Neal et al')\n",
    "key_parameters['depth_Smart_et_al'].plot(ax=ax, linewidth=2, label='River depth calculated Rupp & Smart')\n",
    "ax.set(title=\"Depths estimated by the two approaches (uniform flow theory approach, and hydraulic geometry)\")\n",
    "matplotlib.pyplot.xlabel(f\"Transect number (spaced every {sampling_resolution}m upstream)\")\n",
    "matplotlib.pyplot.ylabel(f\"River depth in m\");\n",
    "matplotlib.pyplot.legend()"
   ]
  },
  {
   "cell_type": "markdown",
   "id": "39b7919f",
   "metadata": {},
   "source": [
    "## Measured cross sections\n",
    "\n",
    "Plot minimum height (i.e height of the bed)"
   ]
  },
  {
   "cell_type": "markdown",
   "id": "a839817a",
   "metadata": {},
   "source": [
    "Add the LVD conversion"
   ]
  },
  {
   "cell_type": "code",
   "execution_count": null,
   "id": "feb7d808",
   "metadata": {},
   "outputs": [],
   "source": [
    "def get_lvd_conversion(geometry, local_vertical_datum):\n",
    "    return local_vertical_datum.sel({'x': [geometry.x], 'y': [geometry.y]}, method='nearest').data[0,0,0]\n",
    "\n",
    "cross_sections['lvd_conversion'] = cross_sections.apply(lambda row: get_lvd_conversion(row.geometry, local_vertical_datum), axis=1)\n",
    "cross_sections['z_2016'] = cross_sections['Level'] - cross_sections['lvd_conversion']"
   ]
  },
  {
   "cell_type": "markdown",
   "id": "02ca02ba",
   "metadata": {},
   "source": [
    "Pull out the centre point for each section - minimum height - for idntification of the nearest sampled transect"
   ]
  },
  {
   "cell_type": "code",
   "execution_count": null,
   "id": "3c3a4095",
   "metadata": {},
   "outputs": [],
   "source": [
    "section_centres = {'Section': [], 'geometry': []}\n",
    "for section in cross_sections['Section'].unique():\n",
    "    cross_section = cross_sections[cross_sections['Section'] == section]\n",
    "    section_centre = cross_section[cross_section['Level']==cross_section['Level'].min()].iloc[0]\n",
    "    section_centres['Section'].append(section_centre['Section'])\n",
    "    section_centres['geometry'].append(section_centre['geometry'])\n",
    "section_centres = geopandas.GeoDataFrame(section_centres, crs=main_channel.crs)"
   ]
  },
  {
   "cell_type": "markdown",
   "id": "dba471c8",
   "metadata": {},
   "source": [
    "Cycle through each section identifying the nearest section in the key parameters"
   ]
  },
  {
   "cell_type": "code",
   "execution_count": null,
   "id": "abfddc31",
   "metadata": {},
   "outputs": [],
   "source": [
    "nearest_transect = numpy.zeros_like(key_parameters[slope_name], dtype=bool)\n",
    "for index, row in section_centres.iterrows():\n",
    "    nearest_transect[key_parameters.distance(row.geometry).argmin()] = True\n",
    "\n",
    "nearest_key_parameters = key_parameters[nearest_transect]"
   ]
  },
  {
   "cell_type": "markdown",
   "id": "cc65d7d4",
   "metadata": {},
   "source": [
    "## Plot the depths of the two approaches"
   ]
  },
  {
   "cell_type": "markdown",
   "id": "bb0c1dc4",
   "metadata": {},
   "source": [
    "### Compare the depth results to measured"
   ]
  },
  {
   "cell_type": "code",
   "execution_count": null,
   "id": "6acec042",
   "metadata": {},
   "outputs": [],
   "source": [
    "f, ax = matplotlib.pyplot.subplots(figsize=(10, 6))\n",
    "(nearest_key_parameters[min_z_name]-nearest_key_parameters['depth_Neal_et_al']).reset_index(drop=True).plot(label='Bed elevation calculated Neal et al')\n",
    "(nearest_key_parameters[min_z_name]-nearest_key_parameters['depth_Smart_et_al']).reset_index(drop=True).plot(label='Bed elevation calculated Rupp & Smart')\n",
    "cross_sections.groupby('Section')['z_2016'].min().reset_index(drop=True).plot(label='Measured cross-section')\n",
    "ax.set(title=\"Bed elevations estimated and measured\")\n",
    "matplotlib.pyplot.xlabel(f\"Transect number where there are measured cross sections\")\n",
    "matplotlib.pyplot.ylabel(f\"River bed elevation in m\");\n",
    "matplotlib.pyplot.legend()"
   ]
  },
  {
   "cell_type": "code",
   "execution_count": null,
   "id": "a94cd219",
   "metadata": {},
   "outputs": [],
   "source": [
    "f, ax = matplotlib.pyplot.subplots(figsize=(10, 6))\n",
    "(nearest_key_parameters[min_z_name]-nearest_key_parameters['depth_Neal_et_al']).reset_index(drop=True).plot(label='Bed elevation calculated Neal et al')\n",
    "(nearest_key_parameters[min_z_name]-nearest_key_parameters['depth_Smart_et_al']).reset_index(drop=True).plot(label='Bed elevation calculated Rupp & Smart')\n",
    "cross_sections.groupby('Section')['z_2016'].min().reset_index(drop=True).plot(label='Measured cross-section')\n",
    "ax.set(title=\"Bed elevations estimated and measured\")\n",
    "matplotlib.pyplot.xlabel(f\"Transect number where there are measured cross sections\")\n",
    "matplotlib.pyplot.ylabel(f\"River bed elevation in m\");\n",
    "matplotlib.pyplot.legend()"
   ]
  },
  {
   "cell_type": "code",
   "execution_count": null,
   "id": "adc6ad16",
   "metadata": {},
   "outputs": [],
   "source": [
    "f, ax = matplotlib.pyplot.subplots(figsize=(10, 6))\n",
    "(nearest_key_parameters[min_z_name]-nearest_key_parameters['depth_Neal_et_al']).reset_index(drop=True).plot(label='Bed elevation calculated Neal et al')\n",
    "(nearest_key_parameters[min_z_name]-nearest_key_parameters['depth_Smart_et_al']).reset_index(drop=True).plot(label='Bed elevation calculated Rupp & Smart')\n",
    "(nearest_key_parameters['min_z_centre_unimodal']).reset_index(drop=True).plot(linestyle='--', label='Estimated unimodal water elevation')\n",
    "cross_sections.groupby('Section')['z_2016'].min().reset_index(drop=True).plot(label='Measured cross-section')\n",
    "ax.set(title=\"Bed elevations estimated and measured\")\n",
    "matplotlib.pyplot.xlabel(f\"Transect number where there are measured cross sections\")\n",
    "matplotlib.pyplot.ylabel(f\"River bed elevation in m\");\n",
    "matplotlib.pyplot.legend()"
   ]
  },
  {
   "cell_type": "code",
   "execution_count": null,
   "id": "2822ea74",
   "metadata": {},
   "outputs": [],
   "source": [
    "f, ax = matplotlib.pyplot.subplots(figsize=(10, 6))\n",
    "(cross_sections.groupby('Section')['z_2016'].min().reset_index(drop=True) \n",
    " - ((nearest_key_parameters[min_z_name]-nearest_key_parameters['depth_Neal_et_al'])).reset_index(drop=True)).plot(label='Bed elevation error Neal et al')\n",
    "(cross_sections.groupby('Section')['z_2016'].min().reset_index(drop=True) \n",
    " - ((nearest_key_parameters[min_z_name]-nearest_key_parameters['depth_Smart_et_al'])).reset_index(drop=True)).plot(label='Bed elevation error Rupp & Smart')\n",
    "ax.set(title=\"Bed elevations errors estimated versus measured\")\n",
    "matplotlib.pyplot.xlabel(f\"Transect number where there are measured cross sections\")\n",
    "matplotlib.pyplot.ylabel(f\"River bed elevation errors in m\");\n",
    "matplotlib.pyplot.legend()"
   ]
  },
  {
   "cell_type": "code",
   "execution_count": null,
   "id": "25a7b97b",
   "metadata": {},
   "outputs": [],
   "source": [
    "f, ax = matplotlib.pyplot.subplots(figsize=(10, 6))\n",
    "(cross_sections.groupby('Section')['z_2016'].min().reset_index(drop=True) \n",
    " - ((nearest_key_parameters[min_z_name]-nearest_key_parameters['depth_Neal_et_al'])).reset_index(drop=True)).plot(label='Bed elevation error Neal et al')\n",
    "(cross_sections.groupby('Section')['z_2016'].min().reset_index(drop=True) \n",
    " - ((nearest_key_parameters[min_z_name]-nearest_key_parameters['depth_Smart_et_al'])).reset_index(drop=True)).plot(label='Bed elevation error Rupp & Smart')\n",
    "ax.set(title=\"Bed elevations errors estimated versus measured\")\n",
    "matplotlib.pyplot.xlabel(f\"Transect number where there are measured cross sections\")\n",
    "matplotlib.pyplot.ylabel(f\"River bed elevation errors in m\");\n",
    "matplotlib.pyplot.legend()"
   ]
  },
  {
   "cell_type": "markdown",
   "id": "abfc6618",
   "metadata": {},
   "source": [
    "Plot the nearest widths"
   ]
  },
  {
   "cell_type": "code",
   "execution_count": null,
   "id": "de3d46a7",
   "metadata": {},
   "outputs": [],
   "source": [
    "f, ax = matplotlib.pyplot.subplots(figsize=(10, 6))\n",
    "nearest_key_parameters['rolling_threshold'].reset_index(drop=True).plot()"
   ]
  },
  {
   "cell_type": "code",
   "execution_count": null,
   "id": "0bde3f35",
   "metadata": {},
   "outputs": [],
   "source": [
    "f, ax = matplotlib.pyplot.subplots(figsize=(10, 6))\n",
    "key_parameters[slope_name].reset_index(drop=True).plot()"
   ]
  },
  {
   "cell_type": "code",
   "execution_count": null,
   "id": "e5e36af1",
   "metadata": {},
   "outputs": [],
   "source": [
    "f, ax = matplotlib.pyplot.subplots(figsize=(10, 6))\n",
    "nearest_key_parameters[slope_name].reset_index(drop=True).plot()"
   ]
  },
  {
   "cell_type": "code",
   "execution_count": null,
   "id": "0430f4c5",
   "metadata": {},
   "outputs": [],
   "source": [
    "f, ax = matplotlib.pyplot.subplots(figsize=(10, 6))\n",
    "nearest_key_parameters[width_name].reset_index(drop=True).plot()"
   ]
  },
  {
   "cell_type": "code",
   "execution_count": null,
   "id": "cc8b798a",
   "metadata": {},
   "outputs": [],
   "source": [
    "f, ax = matplotlib.pyplot.subplots(figsize=(10, 6))\n",
    "nearest_key_parameters['depth_Neal_et_al'].reset_index(drop=True).plot(ax=ax, linewidth=2, label='River depth calculated Neal et al')\n",
    "nearest_key_parameters['depth_Smart_et_al'].reset_index(drop=True).plot(ax=ax, linewidth=2, label='River depth calculated Rupp & Smart')\n",
    "ax.set(title=\"Depths estimated by the two approaches (uniform flow theory approach, and hydraulic geometry)\")\n",
    "matplotlib.pyplot.xlabel(f\"Transect number (spaced every {sampling_resolution}m upstream)\")\n",
    "matplotlib.pyplot.ylabel(f\"River depth in m\");\n",
    "matplotlib.pyplot.legend()"
   ]
  },
  {
   "cell_type": "code",
   "execution_count": null,
   "id": "db99c26a",
   "metadata": {},
   "outputs": [],
   "source": []
  },
  {
   "cell_type": "code",
   "execution_count": null,
   "id": "17cd1484",
   "metadata": {},
   "outputs": [],
   "source": []
  }
 ],
 "metadata": {
  "kernelspec": {
   "display_name": "Python [conda env:geofabricsdask]",
   "language": "python",
   "name": "conda-env-geofabricsdask-py"
  },
  "language_info": {
   "codemirror_mode": {
    "name": "ipython",
    "version": 3
   },
   "file_extension": ".py",
   "mimetype": "text/x-python",
   "name": "python",
   "nbconvert_exporter": "python",
   "pygments_lexer": "ipython3",
   "version": "3.9.7"
  }
 },
 "nbformat": 4,
 "nbformat_minor": 5
}
