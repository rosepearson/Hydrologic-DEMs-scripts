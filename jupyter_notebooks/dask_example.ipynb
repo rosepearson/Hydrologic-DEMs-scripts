{
 "cells": [
  {
   "cell_type": "code",
   "execution_count": null,
   "id": "5364cc45-453e-4c16-b1a4-764eaf3de642",
   "metadata": {},
   "outputs": [],
   "source": [
    "import itertools as it\n",
    "\n",
    "import dask\n",
    "import dask.array as da\n",
    "import numpy as np\n",
    "import xarray as xr"
   ]
  },
  {
   "cell_type": "code",
   "execution_count": null,
   "id": "22e899ec-fb13-423b-b58d-94ceb995f0f5",
   "metadata": {},
   "outputs": [],
   "source": [
    "@dask.delayed\n",
    "def tile_function(i, j):\n",
    "    return np.ones((10, 20)) * i * j"
   ]
  },
  {
   "cell_type": "code",
   "execution_count": null,
   "id": "f7bfd26f-1002-4db3-b15c-5cb69a3eb500",
   "metadata": {},
   "outputs": [],
   "source": [
    "arr = da.concatenate([\n",
    "    da.from_delayed(tile_function(i, j), (10, 20), dtype=float)\n",
    "    for i, j in it.product(range(10), range(20))\n",
    "], axis=-1)\n",
    "arr"
   ]
  },
  {
   "cell_type": "code",
   "execution_count": null,
   "id": "50c92147-42e8-489a-97c1-166413bd5f67",
   "metadata": {},
   "outputs": [],
   "source": [
    "xarr = xr.DataArray(arr, coords={\"x\": range(arr.shape[0]), \"y\": range(arr.shape[1])})"
   ]
  },
  {
   "cell_type": "code",
   "execution_count": null,
   "id": "97beadbf-bd4c-4117-b391-8af22c5d5269",
   "metadata": {},
   "outputs": [],
   "source": [
    "xarr2 = xarr.compute()"
   ]
  },
  {
   "cell_type": "code",
   "execution_count": null,
   "id": "a54403fa-dee7-4387-a323-08cfc9487eac",
   "metadata": {},
   "outputs": [],
   "source": [
    "xarr2.values"
   ]
  },
  {
   "cell_type": "code",
   "execution_count": null,
   "id": "a51b4861-b635-4493-a70a-6c5c522579e5",
   "metadata": {},
   "outputs": [],
   "source": [
    "xarr"
   ]
  },
  {
   "cell_type": "code",
   "execution_count": null,
   "id": "ae05eb3a",
   "metadata": {},
   "outputs": [],
   "source": []
  }
 ],
 "metadata": {
  "kernelspec": {
   "display_name": "Python [conda env:geofabricsdask]",
   "language": "python",
   "name": "conda-env-geofabricsdask-py"
  },
  "language_info": {
   "codemirror_mode": {
    "name": "ipython",
    "version": 3
   },
   "file_extension": ".py",
   "mimetype": "text/x-python",
   "name": "python",
   "nbconvert_exporter": "python",
   "pygments_lexer": "ipython3",
   "version": "3.9.7"
  }
 },
 "nbformat": 4,
 "nbformat_minor": 5
}
