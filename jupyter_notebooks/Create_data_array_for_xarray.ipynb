{
 "cells": [
  {
   "cell_type": "code",
   "execution_count": null,
   "metadata": {},
   "outputs": [],
   "source": [
    "import numpy\n",
    "import rioxarray\n",
    "import xarray\n",
    "import geopandas\n",
    "import pathlib\n",
    "import netCDF4"
   ]
  },
  {
   "cell_type": "markdown",
   "metadata": {},
   "source": [
    "# Small examples of creating an xarray from numpy arrays"
   ]
  },
  {
   "cell_type": "code",
   "execution_count": null,
   "metadata": {},
   "outputs": [],
   "source": [
    "raster_origin = [10, 35]\n",
    "raster_size = [200, 100]\n",
    "resolution = 10\n",
    "crs = 2193\n",
    "\n",
    "x_coords = numpy.arange(raster_origin[0], raster_origin[0] + resolution * raster_size[0], resolution)\n",
    "y_coords = numpy.arange(raster_origin[1] + resolution * raster_size[1],\n",
    "                        raster_origin[1], -resolution) # following convention of GDAL where y starts at the largest\n",
    "z_array = numpy.zeros((1, len(y_coords), len(x_coords))) # 1 is the band dimension\n",
    "\n",
    "example_xarray = xarray.DataArray(z_array,\n",
    "                                  coords = {'band': [1], 'x': x_coords, 'y': y_coords},\n",
    "                                  dims = ['band', 'y','x'], \n",
    "                                  attrs= {'scale_factor': 1.0,\n",
    "                                          'add_offset': 0.0,\n",
    "                                          'long_name': 'idw',\n",
    "                                          '_FillValue': numpy.nan})\n",
    "example_xarray = example_xarray.rio.set_crs(crs)"
   ]
  },
  {
   "cell_type": "code",
   "execution_count": null,
   "metadata": {},
   "outputs": [],
   "source": [
    " example_xarray"
   ]
  },
  {
   "cell_type": "code",
   "execution_count": null,
   "metadata": {},
   "outputs": [],
   "source": [
    "example_xarray.rio.transform()"
   ]
  },
  {
   "cell_type": "code",
   "execution_count": null,
   "metadata": {},
   "outputs": [],
   "source": [
    "example_xarray.rio.crs"
   ]
  },
  {
   "cell_type": "markdown",
   "metadata": {},
   "source": [
    "# Example from Cyprien"
   ]
  },
  {
   "cell_type": "code",
   "execution_count": null,
   "metadata": {},
   "outputs": [],
   "source": [
    "ex_path = pathlib.Path(r\"C:\\Users\\pearsonra\\Documents\\data\\DEMs\\example_nc_file\") \\\n",
    "    / 'Adaptdemo_coarse.nc'"
   ]
  },
  {
   "cell_type": "code",
   "execution_count": null,
   "metadata": {},
   "outputs": [],
   "source": [
    "with rioxarray.rioxarray.open_rasterio(ex_path, masked=True) as ex_data:\n",
    "    ex_data.load()\n",
    "ex_data = ex_data.copy(deep=True)"
   ]
  },
  {
   "cell_type": "code",
   "execution_count": null,
   "metadata": {},
   "outputs": [],
   "source": [
    "ex_data.rio.crs"
   ]
  },
  {
   "cell_type": "code",
   "execution_count": null,
   "metadata": {},
   "outputs": [],
   "source": [
    "ex_data.rio.transform()"
   ]
  },
  {
   "cell_type": "code",
   "execution_count": null,
   "metadata": {},
   "outputs": [],
   "source": [
    "ex_data"
   ]
  },
  {
   "cell_type": "markdown",
   "metadata": {},
   "source": [
    "# Creating a DataSet from numpy arrays"
   ]
  },
  {
   "cell_type": "code",
   "execution_count": null,
   "metadata": {},
   "outputs": [],
   "source": [
    "base_path = pathlib.Path(r\"C:\\Users\\pearsonra\\Documents\\data\\DEMs\\example_nc_file\")"
   ]
  },
  {
   "cell_type": "code",
   "execution_count": null,
   "metadata": {},
   "outputs": [],
   "source": [
    "origin = [10, 35]\n",
    "size = [200, 100]\n",
    "resolutions = [5, 10]\n",
    "crs = 2193\n",
    "\n",
    "for resolution in resolutions:\n",
    "    x = numpy.arange(origin[0],\n",
    "                     origin[0] + resolution * size[0],\n",
    "                        resolution)\n",
    "    y = numpy.arange(origin[1] + resolution * size[1],\n",
    "                     origin[1],\n",
    "                     -resolution) # following convention of GDAL where y starts at the largest\n",
    "    elevation = numpy.random.rand(len(x), len(y))\n",
    "    roughness = numpy.random.rand(len(x), len(y))\n",
    "\n",
    "    example_xarray = xarray.Dataset(\n",
    "        data_vars=dict(elevation=([\"x\", \"y\"], elevation),\n",
    "                       roughness=([\"x\", \"y\"], roughness),),\n",
    "        coords=dict(\n",
    "            x=([\"x\"], x),\n",
    "            y=([\"y\"], y),),\n",
    "        attrs= {\"scale_factor\": 1.0,\n",
    "                \"add_offset\": 0.0,\n",
    "                \"_FillValue\": numpy.nan,\n",
    "                \"description\": f\"Resolution {resolution}\",\n",
    "                \"crs\": crs})\n",
    "    '''example_xarray = example_xarray.rio.set_crs(crs)\n",
    "    example_xarray['elevation'] = example_xarray.elevation.rio.set_crs(crs)\n",
    "    example_xarray['roughness'] = example_xarray.roughness.rio.set_crs(crs)'''\n",
    "    mode = \"a\" if (base_path / \"grouped_data.nc\").exists() else \"w\"\n",
    "    example_xarray.to_netcdf(base_path / \"grouped_data.nc\",\n",
    "                             group=f\"/resolution_{resolution}\",\n",
    "                             mode=mode,\n",
    "                             engine=\"netcdf4\")\n",
    "    example_xarray.to_netcdf(base_path / f\"data_resolution_{resolution}.nc\")"
   ]
  },
  {
   "cell_type": "code",
   "execution_count": null,
   "metadata": {},
   "outputs": [],
   "source": [
    "with rioxarray.rioxarray.open_rasterio(base_path / \"grouped_data.nc\", group=\"/resolution_5\", masked=True) as ex_data:\n",
    "    ex_data.load()\n",
    "ex_data = ex_data.copy(deep=True)"
   ]
  },
  {
   "cell_type": "code",
   "execution_count": null,
   "metadata": {},
   "outputs": [],
   "source": [
    "with xarray.open_dataset(base_path / \"grouped_data.nc\", group=\"/resolution_5\") as ds_5:\n",
    "    ds_5.rio.set_crs(int((ds.attrs['crs'])), inplace=True);\n",
    "    ds_5.roughness.plot()"
   ]
  },
  {
   "cell_type": "code",
   "execution_count": null,
   "metadata": {},
   "outputs": [],
   "source": [
    "with xarray.open_dataset(base_path / \"grouped_data.nc\", group=\"/resolution_10\") as ds_10:\n",
    "    ds_10.rio.set_crs(int((ds.attrs['crs'])), inplace=True);\n",
    "    ds_10.roughness.plot()\n",
    "    print(ds_10)"
   ]
  },
  {
   "cell_type": "code",
   "execution_count": null,
   "metadata": {},
   "outputs": [],
   "source": [
    "with xarray.open_dataset(base_path / \"data_resolution_5.nc\") as ds_5:\n",
    "    ds_5.rio.set_crs(int((ds.attrs['crs'])), inplace=True);\n",
    "    ds_5.roughness.plot()\n",
    "    print(ds_5)"
   ]
  },
  {
   "cell_type": "code",
   "execution_count": null,
   "metadata": {},
   "outputs": [],
   "source": []
  }
 ],
 "metadata": {
  "kernelspec": {
   "display_name": "Python [conda env:geofabrics]",
   "language": "python",
   "name": "conda-env-geofabrics-py"
  },
  "language_info": {
   "codemirror_mode": {
    "name": "ipython",
    "version": 3
   },
   "file_extension": ".py",
   "mimetype": "text/x-python",
   "name": "python",
   "nbconvert_exporter": "python",
   "pygments_lexer": "ipython3",
   "version": "3.9.7"
  }
 },
 "nbformat": 4,
 "nbformat_minor": 2
}
