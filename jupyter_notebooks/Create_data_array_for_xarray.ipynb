{
 "cells": [
  {
   "cell_type": "code",
   "execution_count": 7,
   "metadata": {},
   "outputs": [],
   "source": [
    "import numpy\n",
    "import rioxarray\n",
    "import xarray\n",
    "import geopandas\n",
    "import pathlib\n",
    "import netCDF4"
   ]
  },
  {
   "cell_type": "markdown",
   "metadata": {},
   "source": [
    "# Small examples of creating an xarray from numpy arrays"
   ]
  },
  {
   "cell_type": "code",
   "execution_count": 2,
   "metadata": {},
   "outputs": [],
   "source": [
    "base_path = pathlib.Path(r\"C:\\Users\\pearsonra\\Documents\\data\\DEMs\\example_nc_file\")"
   ]
  },
  {
   "cell_type": "code",
   "execution_count": null,
   "metadata": {},
   "outputs": [],
   "source": [
    "raster_origin = [10, 35]\n",
    "raster_size = [200, 100]\n",
    "resolution = 10\n",
    "crs = 2193\n",
    "\n",
    "x_coords = numpy.arange(raster_origin[0], raster_origin[0] + resolution * raster_size[0], resolution)\n",
    "y_coords = numpy.arange(raster_origin[1] + resolution * raster_size[1],\n",
    "                        raster_origin[1], -resolution) # following convention of GDAL where y starts at the largest\n",
    "z_array = numpy.random.rand(1, len(y_coords), len(x_coords)) # 1 is the band dimension\n",
    "\n",
    "example_xarray = xarray.DataArray(z_array,\n",
    "                                  coords = {'band': [1], 'x': x_coords, 'y': y_coords},\n",
    "                                  dims = ['band', 'y','x'], \n",
    "                                  attrs= {'scale_factor': 1.0,\n",
    "                                          'add_offset': 0.0,\n",
    "                                          'long_name': 'idw',\n",
    "                                          '_FillValue': numpy.nan})\n",
    "example_xarray.rio.write_crs(crs, inplace=True)\n",
    "example_xarray.rio.write_transform(inplace=True)\n",
    "example_xarray.to_netcdf(base_path / \"data_array_ex.nc\")"
   ]
  },
  {
   "cell_type": "code",
   "execution_count": null,
   "metadata": {},
   "outputs": [],
   "source": [
    "print(example_xarray.rio.transform(), '\\n', example_xarray.rio.crs)"
   ]
  },
  {
   "cell_type": "code",
   "execution_count": null,
   "metadata": {},
   "outputs": [],
   "source": [
    "with xarray.open_dataset(base_path / \"data_array_ex.nc\") as ex_data:\n",
    "    ex_data.load()\n",
    "    print(ex_data.rio.transform(), '\\n', ex_data.rio.crs)\n",
    "#ex_data = ex_data.copy(deep=True)"
   ]
  },
  {
   "cell_type": "code",
   "execution_count": null,
   "metadata": {},
   "outputs": [],
   "source": [
    "with rioxarray.rioxarray.open_rasterio(base_path / \"data_array_ex.nc\", masked=True) as df:\n",
    "    df.load()\n",
    "    print(df.rio.transform(), '\\n', df.rio.crs)\n",
    "#df = df.copy(deep=True)"
   ]
  },
  {
   "cell_type": "markdown",
   "metadata": {},
   "source": [
    "### How to load in crs using gdal and pyproj"
   ]
  },
  {
   "cell_type": "code",
   "execution_count": null,
   "metadata": {},
   "outputs": [],
   "source": [
    "import osgeo.gdal\n",
    "import pyproj\n",
    "ds_gdal = osgeo.gdal.Open(str(base_path / \"data_array_ex.nc\"))\n",
    "pyproj.CRS.from_string(ds_gdal.GetProjection())"
   ]
  },
  {
   "cell_type": "markdown",
   "metadata": {},
   "source": [
    "# Example from Cyprien"
   ]
  },
  {
   "cell_type": "code",
   "execution_count": null,
   "metadata": {},
   "outputs": [],
   "source": [
    "ex_path = pathlib.Path(r\"C:\\Users\\pearsonra\\Documents\\data\\DEMs\\example_nc_file\") \\\n",
    "    / 'Adaptdemo_coarse.nc'"
   ]
  },
  {
   "cell_type": "code",
   "execution_count": null,
   "metadata": {},
   "outputs": [],
   "source": [
    "with rioxarray.rioxarray.open_rasterio(ex_path, masked=True) as ex_data:\n",
    "    ex_data.load()\n",
    "ex_data = ex_data.copy(deep=True)"
   ]
  },
  {
   "cell_type": "code",
   "execution_count": null,
   "metadata": {},
   "outputs": [],
   "source": [
    "print(ex_data.rio.transform(), '\\n', ex_data.rio.crs)"
   ]
  },
  {
   "cell_type": "code",
   "execution_count": null,
   "metadata": {},
   "outputs": [],
   "source": [
    "ex_data"
   ]
  },
  {
   "cell_type": "markdown",
   "metadata": {},
   "source": [
    "# Creating a DataSet from numpy arrays"
   ]
  },
  {
   "cell_type": "code",
   "execution_count": 8,
   "metadata": {},
   "outputs": [],
   "source": [
    "origin = [10, 35]\n",
    "size = [200, 100]\n",
    "resolutions = [5, 10]\n",
    "crs = 2193\n",
    "\n",
    "for resolution in resolutions:\n",
    "    x = numpy.arange(origin[0],\n",
    "                     origin[0] + resolution * size[0],\n",
    "                        resolution)\n",
    "    y = numpy.arange(origin[1] + resolution * size[1],\n",
    "                     origin[1],\n",
    "                     -resolution) # following convention of GDAL where y starts at the largest\n",
    "    elevation = numpy.random.rand(len(x), len(y))\n",
    "    roughness = numpy.random.rand(len(x), len(y))\n",
    "    category = numpy.random.randint(0, 4, (len(x), len(y)))\n",
    "\n",
    "    example_xarray = xarray.Dataset(\n",
    "        data_vars=dict(z=([\"x\", \"y\"], elevation, {\"units\": \"m\", \"vertical_datum\": \"EPSG:7839\", \"long_name\": \"ground elevation\"}),\n",
    "                       zo=([\"x\", \"y\"], roughness, {\"units\": \"\", \"long_name\": \"roughness length\"}),\n",
    "                       source=([\"x\", \"y\"], category, {\"units\": \"int\", \"long_name\": \"Data source. 0=LiDAR, 1=Ocean bathymetry, 2=River bathymetry, 3=interpolated\"})),\n",
    "        coords=dict(\n",
    "            x=([\"x\"], x, {\"long_name\": \"Easting\", \"units\": \"m\"}),\n",
    "            y=([\"y\"], y)),\n",
    "    attrs= {\"title\": \"GeoFabrics representing elevation and roughness\",\n",
    "            \"source\": \"GeoFabrics 0.8.1\",\n",
    "            \"history\": \"append; date create GeoFabrics:processor_class\",\n",
    "            \"description\": f\"GeoFabrics:processor_class resolution xx\",\n",
    "            \"geofabrics_instructions\": \"dumped instruction file\"})\n",
    "        \n",
    "    # Ensure the CRS and transform are respectively written in CF \n",
    "    # complient manner, and 'where GDAL can read it'\n",
    "    example_xarray.rio.write_crs(crs, inplace=True)\n",
    "    example_xarray.z.rio.write_crs(crs, inplace=True)\n",
    "    example_xarray.zo.rio.write_crs(crs, inplace=True)\n",
    "    example_xarray.source.rio.write_crs(crs, inplace=True)\n",
    "    example_xarray.rio.write_transform(inplace=True)\n",
    "    # Write to a grouped netCDF file and a stand alone file for just this grouping\n",
    "    mode = \"a\" if (base_path / \"grouped_data.nc\").exists() else \"w\"\n",
    "    example_xarray.to_netcdf(base_path / \"grouped_data.nc\",\n",
    "                             group=f\"/resolution_{resolution}\",\n",
    "                             mode=mode,\n",
    "                             engine=\"netcdf4\")\n",
    "    example_xarray.to_netcdf(base_path / f\"data_resolution_{resolution}.nc\")"
   ]
  },
  {
   "cell_type": "code",
   "execution_count": 13,
   "metadata": {},
   "outputs": [
    {
     "data": {
      "text/plain": [
       "array([[0., 0., 0., ..., 0., 0., 0.],\n",
       "       [0., 0., 0., ..., 0., 0., 0.],\n",
       "       [0., 0., 0., ..., 0., 0., 0.],\n",
       "       ...,\n",
       "       [0., 0., 0., ..., 0., 0., 0.],\n",
       "       [0., 0., 0., ..., 0., 0., 0.],\n",
       "       [0., 0., 0., ..., 0., 0., 0.]])"
      ]
     },
     "execution_count": 13,
     "metadata": {},
     "output_type": "execute_result"
    }
   ],
   "source": [
    "example_xarray.z.data"
   ]
  },
  {
   "cell_type": "code",
   "execution_count": null,
   "metadata": {},
   "outputs": [],
   "source": [
    "example_xarray"
   ]
  },
  {
   "cell_type": "code",
   "execution_count": null,
   "metadata": {},
   "outputs": [],
   "source": [
    "example_xarray.coords['spatial_ref']"
   ]
  },
  {
   "cell_type": "code",
   "execution_count": null,
   "metadata": {},
   "outputs": [],
   "source": [
    "example_xarray.rio.clip()"
   ]
  },
  {
   "cell_type": "code",
   "execution_count": null,
   "metadata": {},
   "outputs": [],
   "source": [
    "example_xarray.rio.clip()"
   ]
  },
  {
   "cell_type": "code",
   "execution_count": null,
   "metadata": {},
   "outputs": [],
   "source": [
    "print(example_xarray.rio.transform(), '\\n', example_xarray.rio.crs)"
   ]
  },
  {
   "cell_type": "code",
   "execution_count": null,
   "metadata": {},
   "outputs": [],
   "source": [
    "with rioxarray.rioxarray.open_rasterio(base_path / \"data_resolution_5.nc\", masked=True) as ex_data:\n",
    "    ex_data.load()\n",
    "    print(ex_data.rio.transform(), '\\n', ex_data.rio.crs)"
   ]
  },
  {
   "cell_type": "code",
   "execution_count": null,
   "metadata": {},
   "outputs": [],
   "source": [
    "with rioxarray.rioxarray.open_rasterio(base_path / \"grouped_data.nc\", group=\"/resolution_10\", masked=True) as ex_data:\n",
    "    ex_data.load()\n",
    "    print(ex_data.rio.transform(), '\\n', ex_data.rio.crs)"
   ]
  },
  {
   "cell_type": "code",
   "execution_count": null,
   "metadata": {},
   "outputs": [],
   "source": [
    "with xarray.open_dataset(base_path / \"grouped_data.nc\", group=\"/resolution_5\") as ds_5:\n",
    "    #print(ds_5.rio.transform(), '\\n', ds_5.rio.crs)\n",
    "    ds_5.rio.set_crs(int((ds_5.attrs['crs'])), inplace=True);\n",
    "    ds_5.roughness.plot()\n",
    "    print(ds_5.rio.transform(), '\\n', ds_5.rio.crs)"
   ]
  },
  {
   "cell_type": "code",
   "execution_count": null,
   "metadata": {},
   "outputs": [],
   "source": [
    "with xarray.open_dataset(base_path / \"grouped_data.nc\", group=\"/resolution_5\") as ds_5:\n",
    "    print(ds_5.rio.transform(), '\\n', ds_5.rio.crs)\n",
    "    ds_5.rio.set_crs(int((ds_5.attrs['crs'])), inplace=True);\n",
    "    ds_5.roughness.plot()\n",
    "    print(ds_5.rio.transform(), '\\n', ds_5.rio.crs)"
   ]
  },
  {
   "cell_type": "code",
   "execution_count": null,
   "metadata": {},
   "outputs": [],
   "source": [
    "with xarray.open_dataset(base_path / \"grouped_data.nc\", group=\"/resolution_10\") as ds_10:\n",
    "    ds_10.rio.set_crs(int((ds_5.attrs['crs'])), inplace=True);\n",
    "    ds_10.roughness.plot()\n",
    "    print(ds_10.rio.transform(), '\\n', ds_10.rio.crs)"
   ]
  },
  {
   "cell_type": "code",
   "execution_count": null,
   "metadata": {},
   "outputs": [],
   "source": [
    "import osgeo.gdal\n",
    "import pyproj\n",
    "ds_gdal = osgeo.gdal.Open(str(base_path / \"data_resolution_5.nc\"))\n",
    "crs=pyproj.CRS.from_string(ds_gdal.GetProjection())\n",
    "\n",
    "with xarray.open_dataset(base_path / \"data_resolution_5.nc\") as ds_5:\n",
    "    \n",
    "    ds_5.rio.set_crs(crs, inplace=True);\n",
    "    ds_5.roughness.plot()\n",
    "    print(ds_5.rio.transform(), '\\n', ds_5.rio.crs)"
   ]
  },
  {
   "cell_type": "code",
   "execution_count": null,
   "metadata": {},
   "outputs": [],
   "source": []
  }
 ],
 "metadata": {
  "kernelspec": {
   "display_name": "Python [conda env:geofabrics]",
   "language": "python",
   "name": "conda-env-geofabrics-py"
  },
  "language_info": {
   "codemirror_mode": {
    "name": "ipython",
    "version": 3
   },
   "file_extension": ".py",
   "mimetype": "text/x-python",
   "name": "python",
   "nbconvert_exporter": "python",
   "pygments_lexer": "ipython3",
   "version": "3.9.7"
  }
 },
 "nbformat": 4,
 "nbformat_minor": 2
}
