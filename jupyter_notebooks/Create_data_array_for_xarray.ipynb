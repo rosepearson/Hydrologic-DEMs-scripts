{
 "cells": [
  {
   "cell_type": "code",
   "execution_count": null,
   "metadata": {},
   "outputs": [],
   "source": [
    "import numpy\n",
    "import rioxarray"
   ]
  },
  {
   "cell_type": "markdown",
   "metadata": {},
   "source": [
    "# Small examples of creating an xarray from numpy arrays"
   ]
  },
  {
   "cell_type": "code",
   "execution_count": null,
   "metadata": {},
   "outputs": [],
   "source": [
    "raster_origin = [10, 35]\n",
    "raster_size = [200, 100]\n",
    "resolution = 10\n",
    "crs = 2193\n",
    "\n",
    "x_coords = numpy.arange(raster_origin[0], raster_origin[0] + resolution * raster_size[0], resolution)\n",
    "y_coords = numpy.arange(raster_origin[1] + resolution * raster_size[1],\n",
    "                        raster_origin[1], -resolution) # following convention of GDAL where y starts at the largest\n",
    "z_array = numpy.zeros((1, len(y_coords), len(x_coords))) # 1 is the band dimension\n",
    "\n",
    "example_xarray = xarray.DataArray(z_array, coords = {'band': [1], 'x': x_coords, 'y': y_coords}, dims = ['band', 'y','x'], \n",
    "                                                        attrs={'scale_factor': 1.0, 'add_offset': 0.0})\n",
    "example_xarray = example_xarray.rio.set_crs(crs)"
   ]
  },
  {
   "cell_type": "code",
   "execution_count": null,
   "metadata": {},
   "outputs": [],
   "source": []
  }
 ],
 "metadata": {
  "kernelspec": {
   "display_name": "Python [conda env:spyder]",
   "language": "python",
   "name": "conda-env-spyder-py"
  },
  "language_info": {
   "codemirror_mode": {
    "name": "ipython",
    "version": 3
   },
   "file_extension": ".py",
   "mimetype": "text/x-python",
   "name": "python",
   "nbconvert_exporter": "python",
   "pygments_lexer": "ipython3",
   "version": "3.9.5"
  }
 },
 "nbformat": 4,
 "nbformat_minor": 2
}
