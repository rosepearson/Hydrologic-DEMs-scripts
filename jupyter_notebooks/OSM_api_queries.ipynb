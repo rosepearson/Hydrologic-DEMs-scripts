{
 "cells": [
  {
   "cell_type": "markdown",
   "id": "5095336d",
   "metadata": {},
   "source": [
    "# Pulling rivers from OpenStreetMap (OSM)"
   ]
  },
  {
   "cell_type": "code",
   "execution_count": 15,
   "id": "523da8d4",
   "metadata": {},
   "outputs": [],
   "source": [
    "import OSMPythonTools\n",
    "import OSMPythonTools.api\n",
    "import OSMPythonTools.overpass\n",
    "from OSMPythonTools.overpass import overpassQueryBuilder\n",
    "import geopandas\n",
    "import shapely"
   ]
  },
  {
   "cell_type": "markdown",
   "id": "63a99f90",
   "metadata": {},
   "source": [
    "## Waikanae region of interest\n",
    "OSM uses Latitudes and Longitudes (EPSG:4326) as its coordinate system."
   ]
  },
  {
   "cell_type": "code",
   "execution_count": 23,
   "id": "92a5a1e0",
   "metadata": {},
   "outputs": [],
   "source": [
    "x0 = 1768073\n",
    "y0 = 5469138\n",
    "x1 = 1777290\n",
    "y1 = 5476849\n",
    "bbox_nztm2000 = geopandas.GeoDataFrame(geometry=[shapely.geometry.Polygon([[x0, y0], [x1, y0], [x1, y1], [x0, y1]])],\n",
    "                                       crs='EPSG:2193')\n",
    "bbox_lat_long = bbox_nztm2000.to_crs('EPSG:4326')"
   ]
  },
  {
   "cell_type": "markdown",
   "id": "20139d79",
   "metadata": {},
   "source": [
    "## OSM basic structure\n",
    "There are several parts to the OSM structure that can be used to access individual OSM objects/elements (i.e. a bus top, highway centreline, lake, etc). We will refer to OSM objects as elements, which is the term used by the Python library we are using.\n",
    "\n",
    "These include the:\n",
    "* Element ID - these are unique with in each object type\n",
    "* Element Type - defines the data model structure of the object (see below)\n",
    "* Element Tag - there are various predefined tags that can be used to describe an object/element.\n",
    "\n",
    "### OSMPythonTools\n",
    "OSMPythonTools is an extensive Python wrapper for accessing OSM data. The `OSMPythonTools.overpass.Overpass` class takes care of sending queries and retireving data from OSM, while the `OSMPythonTools.overpass.overpassQueryBuilder` is a class for creating a query for OSM objects in an area. The queries can specify objects to collect by ID, Element Type, Tag, and BBox search.\n",
    "\n",
    "The `overpassQueryBuilder` has the following generally form:\n",
    "```\n",
    "query = overpassQueryBuilder(bbox=[south,\n",
    "                                   west,\n",
    "                                   north,\n",
    "                                   east], \n",
    "                             elementType=['nodes', 'way'], selector='\"waterway\"=\"river\"',\n",
    "                             out='body', includeGeometry=True)\n",
    "```\n",
    "\n",
    "#### Element Type\n",
    "The **elementType** is the name used by the `overpassQueryBuilder` to define the element type of an object. This can either be a single string, or a list of strings, depending if one or multiple types should be retrieved.\n",
    "\n",
    "The element type define the OSM data model component of each OSM object. There are three basic options: nodes, way and relation. These can be losely defined as:\n",
    "* nodes - are points on the maps (in latitude and longitude)\n",
    "* way - on the other hand is a ordered list of nodes, which could correspond to a street or the outline of a house.\n",
    "* relation - which is also an ordered list containing either nodes, ways or even other relations. It is used to model logical or geographic relationships between objects.\n",
    "\n",
    "#### Element Tag\n",
    "Various tags can be added to an OSM object. These can be specified in the `overpassQueryBuilder` by the **selector** keyword. This can be a string or list. Only objects with these tags with be retrieved. This can be a list or string. If it is a list only objects with all of those tags with be retrived. The page defines all OSM tags, and while the [waterways page](https://wiki.openstreetmap.org/wiki/Waterways) describes waterway related tags. \n",
    "\n",
    "# Code example\n",
    "## Construct query"
   ]
  },
  {
   "cell_type": "code",
   "execution_count": 67,
   "id": "921bd0be",
   "metadata": {},
   "outputs": [],
   "source": [
    "query = overpassQueryBuilder(bbox=[bbox_lat_long.bounds.miny[0],\n",
    "                                   bbox_lat_long.bounds.minx[0],\n",
    "                                   bbox_lat_long.bounds.maxy[0],\n",
    "                                   bbox_lat_long.bounds.maxx[0]], \n",
    "                             elementType='way', selector='waterway',\n",
    "                             out='body', includeGeometry=True)"
   ]
  },
  {
   "cell_type": "markdown",
   "id": "6a23ba49",
   "metadata": {},
   "source": [
    "## Perform query"
   ]
  },
  {
   "cell_type": "code",
   "execution_count": 68,
   "id": "41ea245b",
   "metadata": {},
   "outputs": [
    {
     "name": "stderr",
     "output_type": "stream",
     "text": [
      "[overpass] downloading data: [timeout:25][out:json];(way[waterway](-40.91160630219117,174.99364670676297,-40.840243712602486,175.10510715718377);); out body geom;\n"
     ]
    }
   ],
   "source": [
    "overpass = OSMPythonTools.overpass.Overpass()\n",
    "rivers = overpass.query(query)"
   ]
  },
  {
   "cell_type": "markdown",
   "id": "5491af98",
   "metadata": {},
   "source": [
    "## Extract geometries"
   ]
  },
  {
   "cell_type": "code",
   "execution_count": 69,
   "id": "63d4f9af",
   "metadata": {},
   "outputs": [
    {
     "data": {
      "text/plain": [
       "<AxesSubplot:>"
      ]
     },
     "execution_count": 69,
     "metadata": {},
     "output_type": "execute_result"
    },
    {
     "data": {
      "image/png": "[encoded data removed]",
      "text/plain": [
       "<Figure size 432x288 with 1 Axes>"
      ]
     },
     "metadata": {
      "needs_background": "light"
     },
     "output_type": "display_data"
    }
   ],
   "source": [
    "geopandas.GeoDataFrame(geometry=[element.geometry() for element in rivers.elements()],\n",
    "                       crs='EPSG:4326').to_crs('EPSG:2193').plot()"
   ]
  },
  {
   "cell_type": "code",
   "execution_count": null,
   "id": "3fcb222d",
   "metadata": {},
   "outputs": [],
   "source": []
  }
 ],
 "metadata": {
  "kernelspec": {
   "display_name": "Python [conda env:geoapis]",
   "language": "python",
   "name": "conda-env-geoapis-py"
  },
  "language_info": {
   "codemirror_mode": {
    "name": "ipython",
    "version": 3
   },
   "file_extension": ".py",
   "mimetype": "text/x-python",
   "name": "python",
   "nbconvert_exporter": "python",
   "pygments_lexer": "ipython3",
   "version": "3.10.4"
  }
 },
 "nbformat": 4,
 "nbformat_minor": 5
}
