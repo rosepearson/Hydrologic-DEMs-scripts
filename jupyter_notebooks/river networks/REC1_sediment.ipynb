{
 "cells": [
  {
   "cell_type": "code",
   "execution_count": 1,
   "id": "e858706d-9cdb-40bf-9817-e06e7d1a3c06",
   "metadata": {},
   "outputs": [],
   "source": [
    "import pathlib\n",
    "import geopandas"
   ]
  },
  {
   "cell_type": "code",
   "execution_count": 4,
   "id": "af4cab84-7ad7-4b18-86a9-4f8ca21c59ea",
   "metadata": {},
   "outputs": [],
   "source": [
    "river_path = pathlib.Path(r\"C:\\Local\\data\\river_bathemetry\")\n",
    "rec1_processed = geopandas.read_file(river_path / \"rec1_flow_and_friction_sediment.geojson\")"
   ]
  },
  {
   "cell_type": "code",
   "execution_count": 5,
   "id": "ea2f4fdd-10c1-423d-9e9e-5fe50b3006a6",
   "metadata": {},
   "outputs": [
    {
     "data": {
      "text/html": [
       "<div>\n",
       "<style scoped>\n",
       "    .dataframe tbody tr th:only-of-type {\n",
       "        vertical-align: middle;\n",
       "    }\n",
       "\n",
       "    .dataframe tbody tr th {\n",
       "        vertical-align: top;\n",
       "    }\n",
       "\n",
       "    .dataframe thead th {\n",
       "        text-align: right;\n",
       "    }\n",
       "</style>\n",
       "<table border=\"1\" class=\"dataframe\">\n",
       "  <thead>\n",
       "    <tr style=\"text-align: right;\">\n",
       "      <th></th>\n",
       "      <th>NZREACH</th>\n",
       "      <th>CATCHAREA</th>\n",
       "      <th>to_node</th>\n",
       "      <th>from_node</th>\n",
       "      <th>n</th>\n",
       "      <th>flow</th>\n",
       "      <th>sediment</th>\n",
       "      <th>geometry</th>\n",
       "    </tr>\n",
       "  </thead>\n",
       "  <tbody>\n",
       "    <tr>\n",
       "      <th>0</th>\n",
       "      <td>1000001</td>\n",
       "      <td>1935900.0</td>\n",
       "      <td>1000024</td>\n",
       "      <td>1000001</td>\n",
       "      <td>0.03357</td>\n",
       "      <td>4.230456</td>\n",
       "      <td>2.3</td>\n",
       "      <td>LINESTRING (1601116.995 6193377.993, 1601117.0...</td>\n",
       "    </tr>\n",
       "  </tbody>\n",
       "</table>\n",
       "</div>"
      ],
      "text/plain": [
       "   NZREACH  CATCHAREA  to_node  from_node        n      flow  sediment  \\\n",
       "0  1000001  1935900.0  1000024    1000001  0.03357  4.230456       2.3   \n",
       "\n",
       "                                            geometry  \n",
       "0  LINESTRING (1601116.995 6193377.993, 1601117.0...  "
      ]
     },
     "execution_count": 5,
     "metadata": {},
     "output_type": "execute_result"
    }
   ],
   "source": [
    "rec1_processed.head(1)"
   ]
  },
  {
   "cell_type": "code",
   "execution_count": 8,
   "id": "6bac4ed3-7219-414f-9f7d-04acaec62b58",
   "metadata": {},
   "outputs": [
    {
     "name": "stdout",
     "output_type": "stream",
     "text": [
      "Max: 7.000000000000001, Min: 0.0\n"
     ]
    }
   ],
   "source": [
    "print(f\"Max: {rec1_processed['sediment'].max()}, Min: {rec1_processed['sediment'].min()}\") "
   ]
  },
  {
   "cell_type": "code",
   "execution_count": null,
   "id": "c8411156-5cc9-4096-9a31-9bd690105848",
   "metadata": {},
   "outputs": [],
   "source": []
  }
 ],
 "metadata": {
  "kernelspec": {
   "display_name": "Python [conda env:raster]",
   "language": "python",
   "name": "conda-env-raster-py"
  },
  "language_info": {
   "codemirror_mode": {
    "name": "ipython",
    "version": 3
   },
   "file_extension": ".py",
   "mimetype": "text/x-python",
   "name": "python",
   "nbconvert_exporter": "python",
   "pygments_lexer": "ipython3",
   "version": "3.11.3"
  }
 },
 "nbformat": 4,
 "nbformat_minor": 5
}
