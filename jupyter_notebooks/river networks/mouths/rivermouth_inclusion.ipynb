{
 "cells": [
  {
   "cell_type": "markdown",
   "id": "3892ee27-83e5-461a-a8e7-ceda9d81771e",
   "metadata": {},
   "source": [
    "# River mouths"
   ]
  },
  {
   "cell_type": "code",
   "execution_count": 2,
   "id": "ae86785c-1fe9-4df6-9e53-c3d2d711a0e1",
   "metadata": {},
   "outputs": [],
   "source": [
    "import geopandas\n",
    "import shapely\n",
    "import pathlib"
   ]
  },
  {
   "cell_type": "code",
   "execution_count": 24,
   "id": "6f609d47-cfd9-4d7e-a7e2-1b7d0dcc7ed4",
   "metadata": {},
   "outputs": [],
   "source": [
    "base_path = pathlib.Path(r\"C:\\Local\\data\\river_bathemetry\\mouth\")"
   ]
  },
  {
   "cell_type": "code",
   "execution_count": 8,
   "id": "a7491e53-a175-4178-a1e8-9ef07b9ba4db",
   "metadata": {},
   "outputs": [],
   "source": [
    "river_network = geopandas.read_file(r\"C:\\Local\\data\\river_bathemetry\\rec1_flow_and_friction.geojson\")"
   ]
  },
  {
   "cell_type": "code",
   "execution_count": 14,
   "id": "e35edc42-b68a-4c19-a5e1-b119e96c8e19",
   "metadata": {},
   "outputs": [
    {
     "data": {
      "text/html": [
       "<div>\n",
       "<style scoped>\n",
       "    .dataframe tbody tr th:only-of-type {\n",
       "        vertical-align: middle;\n",
       "    }\n",
       "\n",
       "    .dataframe tbody tr th {\n",
       "        vertical-align: top;\n",
       "    }\n",
       "\n",
       "    .dataframe thead th {\n",
       "        text-align: right;\n",
       "    }\n",
       "</style>\n",
       "<table border=\"1\" class=\"dataframe\">\n",
       "  <thead>\n",
       "    <tr style=\"text-align: right;\">\n",
       "      <th></th>\n",
       "      <th>NZREACH</th>\n",
       "      <th>CATCHAREA</th>\n",
       "      <th>to_node</th>\n",
       "      <th>from_node</th>\n",
       "      <th>n</th>\n",
       "      <th>flow</th>\n",
       "      <th>geometry</th>\n",
       "      <th>terminal</th>\n",
       "    </tr>\n",
       "  </thead>\n",
       "  <tbody>\n",
       "    <tr>\n",
       "      <th>0</th>\n",
       "      <td>1000001</td>\n",
       "      <td>1935900.0</td>\n",
       "      <td>1000024</td>\n",
       "      <td>1000001</td>\n",
       "      <td>0.03357</td>\n",
       "      <td>4.230456</td>\n",
       "      <td>LINESTRING (1601116.995 6193377.993, 1601117.0...</td>\n",
       "      <td>False</td>\n",
       "    </tr>\n",
       "    <tr>\n",
       "      <th>1</th>\n",
       "      <td>1000003</td>\n",
       "      <td>1533600.0</td>\n",
       "      <td>1000010</td>\n",
       "      <td>1000002</td>\n",
       "      <td>0.03298</td>\n",
       "      <td>1.584062</td>\n",
       "      <td>LINESTRING (1600249.570 6192625.585, 1600249.6...</td>\n",
       "      <td>False</td>\n",
       "    </tr>\n",
       "  </tbody>\n",
       "</table>\n",
       "</div>"
      ],
      "text/plain": [
       "   NZREACH  CATCHAREA  to_node  from_node        n      flow  \\\n",
       "0  1000001  1935900.0  1000024    1000001  0.03357  4.230456   \n",
       "1  1000003  1533600.0  1000010    1000002  0.03298  1.584062   \n",
       "\n",
       "                                            geometry  terminal  \n",
       "0  LINESTRING (1601116.995 6193377.993, 1601117.0...     False  \n",
       "1  LINESTRING (1600249.570 6192625.585, 1600249.6...     False  "
      ]
     },
     "execution_count": 14,
     "metadata": {},
     "output_type": "execute_result"
    }
   ],
   "source": [
    "river_network.head(2)"
   ]
  },
  {
   "cell_type": "code",
   "execution_count": 12,
   "id": "c7c287ac-643f-4715-86fd-155dd4ec4292",
   "metadata": {},
   "outputs": [],
   "source": [
    "#river_network[]\n",
    "river_network.loc[:, 'terminal'] = river_network['to_node'].isin(river_network['from_node'])==False"
   ]
  },
  {
   "cell_type": "code",
   "execution_count": 16,
   "id": "1901eee4-55d2-4da2-a8b0-72a453053380",
   "metadata": {},
   "outputs": [],
   "source": [
    "river_terminals = river_network[river_network['terminal']]"
   ]
  },
  {
   "cell_type": "code",
   "execution_count": 26,
   "id": "61414fde-e186-4300-849c-305e4b93b5b8",
   "metadata": {},
   "outputs": [],
   "source": [
    "river_terminals.to_file(base_path / \"rec1_all_terminals.gpkg\")"
   ]
  },
  {
   "cell_type": "code",
   "execution_count": null,
   "id": "44047f78-0b11-42ce-baa1-6bd86f310ebc",
   "metadata": {},
   "outputs": [],
   "source": []
  }
 ],
 "metadata": {
  "kernelspec": {
   "display_name": "Raster",
   "language": "python",
   "name": "raster"
  },
  "language_info": {
   "codemirror_mode": {
    "name": "ipython",
    "version": 3
   },
   "file_extension": ".py",
   "mimetype": "text/x-python",
   "name": "python",
   "nbconvert_exporter": "python",
   "pygments_lexer": "ipython3",
   "version": "3.11.9"
  }
 },
 "nbformat": 4,
 "nbformat_minor": 5
}
