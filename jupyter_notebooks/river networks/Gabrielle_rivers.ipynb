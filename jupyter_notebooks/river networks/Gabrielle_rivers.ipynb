{
 "cells": [
  {
   "cell_type": "code",
   "execution_count": 11,
   "id": "04613d24-6e44-4056-a02c-f02947d9a66c",
   "metadata": {},
   "outputs": [],
   "source": [
    "import geopandas\n",
    "import pathlib\n",
    "import shapely"
   ]
  },
  {
   "cell_type": "markdown",
   "id": "1d0e6079-e540-4dd3-8f54-07eef88647d8",
   "metadata": {},
   "source": [
    "## Load in REC1 and thin\n",
    "* Remove small upstream area sections\n",
    "* Remove unneeded columns"
   ]
  },
  {
   "cell_type": "code",
   "execution_count": 2,
   "id": "d463aa3d-e954-4768-916b-56cb4218c985",
   "metadata": {},
   "outputs": [],
   "source": [
    "rec_path = pathlib.Path(r\"C:\\Local\\data\\network\\REC1\\rec1.shp\")\n",
    "rec = geopandas.read_file(rec_path)"
   ]
  },
  {
   "cell_type": "code",
   "execution_count": 3,
   "id": "c367afb8-3be8-45b5-9fa1-b7e7fd7bbbcf",
   "metadata": {},
   "outputs": [
    {
     "data": {
      "text/html": [
       "<div>\n",
       "<style scoped>\n",
       "    .dataframe tbody tr th:only-of-type {\n",
       "        vertical-align: middle;\n",
       "    }\n",
       "\n",
       "    .dataframe tbody tr th {\n",
       "        vertical-align: top;\n",
       "    }\n",
       "\n",
       "    .dataframe thead th {\n",
       "        text-align: right;\n",
       "    }\n",
       "</style>\n",
       "<table border=\"1\" class=\"dataframe\">\n",
       "  <thead>\n",
       "    <tr style=\"text-align: right;\">\n",
       "      <th></th>\n",
       "      <th>LENGTH</th>\n",
       "      <th>NZREACH</th>\n",
       "      <th>CLIMATE</th>\n",
       "      <th>GEOLOGY</th>\n",
       "      <th>DISTSEA</th>\n",
       "      <th>CATCHAREA</th>\n",
       "      <th>SHAPE_LENG</th>\n",
       "      <th>ORDER1</th>\n",
       "      <th>PS_FLOW</th>\n",
       "      <th>LC_NATIVE</th>\n",
       "      <th>...</th>\n",
       "      <th>LC_DRAIN4</th>\n",
       "      <th>LC_DRAIN5</th>\n",
       "      <th>LC_DRAIN</th>\n",
       "      <th>RAIN</th>\n",
       "      <th>SLOPE</th>\n",
       "      <th>flow_lps</th>\n",
       "      <th>to_node</th>\n",
       "      <th>from_node</th>\n",
       "      <th>Flow_T</th>\n",
       "      <th>geometry</th>\n",
       "    </tr>\n",
       "  </thead>\n",
       "  <tbody>\n",
       "    <tr>\n",
       "      <th>0</th>\n",
       "      <td>2980.66017</td>\n",
       "      <td>1000001.0</td>\n",
       "      <td>WD</td>\n",
       "      <td>VA</td>\n",
       "      <td>3547.645</td>\n",
       "      <td>1935900.0</td>\n",
       "      <td>2980.660107</td>\n",
       "      <td>1</td>\n",
       "      <td>0.0</td>\n",
       "      <td>0.0</td>\n",
       "      <td>...</td>\n",
       "      <td>0.0</td>\n",
       "      <td>820919.8</td>\n",
       "      <td>3.8299</td>\n",
       "      <td>1257.07</td>\n",
       "      <td>18.91</td>\n",
       "      <td>27.41</td>\n",
       "      <td>1000024</td>\n",
       "      <td>1000001</td>\n",
       "      <td>None</td>\n",
       "      <td>LINESTRING (2512185.187 6755572.613, 2512185.1...</td>\n",
       "    </tr>\n",
       "    <tr>\n",
       "      <th>1</th>\n",
       "      <td>1893.38095</td>\n",
       "      <td>1000003.0</td>\n",
       "      <td>WD</td>\n",
       "      <td>VA</td>\n",
       "      <td>2207.939</td>\n",
       "      <td>1533600.0</td>\n",
       "      <td>1893.382142</td>\n",
       "      <td>1</td>\n",
       "      <td>0.0</td>\n",
       "      <td>0.0</td>\n",
       "      <td>...</td>\n",
       "      <td>0.0</td>\n",
       "      <td>1101394.4</td>\n",
       "      <td>4.0763</td>\n",
       "      <td>1227.02</td>\n",
       "      <td>14.48</td>\n",
       "      <td>21.71</td>\n",
       "      <td>1000010</td>\n",
       "      <td>1000002</td>\n",
       "      <td>None</td>\n",
       "      <td>LINESTRING (2511315.176 6754822.606, 2511315.1...</td>\n",
       "    </tr>\n",
       "  </tbody>\n",
       "</table>\n",
       "<p>2 rows × 37 columns</p>\n",
       "</div>"
      ],
      "text/plain": [
       "       LENGTH    NZREACH CLIMATE GEOLOGY   DISTSEA  CATCHAREA   SHAPE_LENG  \\\n",
       "0  2980.66017  1000001.0      WD      VA  3547.645  1935900.0  2980.660107   \n",
       "1  1893.38095  1000003.0      WD      VA  2207.939  1533600.0  1893.382142   \n",
       "\n",
       "   ORDER1  PS_FLOW  LC_NATIVE  ...  LC_DRAIN4  LC_DRAIN5  LC_DRAIN     RAIN  \\\n",
       "0       1      0.0        0.0  ...        0.0   820919.8    3.8299  1257.07   \n",
       "1       1      0.0        0.0  ...        0.0  1101394.4    4.0763  1227.02   \n",
       "\n",
       "   SLOPE  flow_lps  to_node  from_node  Flow_T  \\\n",
       "0  18.91     27.41  1000024    1000001    None   \n",
       "1  14.48     21.71  1000010    1000002    None   \n",
       "\n",
       "                                            geometry  \n",
       "0  LINESTRING (2512185.187 6755572.613, 2512185.1...  \n",
       "1  LINESTRING (2511315.176 6754822.606, 2511315.1...  \n",
       "\n",
       "[2 rows x 37 columns]"
      ]
     },
     "execution_count": 3,
     "metadata": {},
     "output_type": "execute_result"
    }
   ],
   "source": [
    "rec.head(2)"
   ]
  },
  {
   "cell_type": "code",
   "execution_count": 4,
   "id": "a8ae8304-07f0-48a5-a030-a21b1bb59202",
   "metadata": {},
   "outputs": [],
   "source": [
    "rec_path = pathlib.Path(r\"C:\\Local\\data\\river_bathemetry\\rec1_flow_and_friction.geojson\")\n",
    "rec = geopandas.read_file(rec_path)"
   ]
  },
  {
   "cell_type": "code",
   "execution_count": 15,
   "id": "8c39d2bf-5bae-4f44-9d6a-9c71b5e6b445",
   "metadata": {},
   "outputs": [],
   "source": [
    "gabrielle_path = pathlib.Path(r\"C:\\Local\\data\\catchments\\gabrielle\\Gabrielle.shp\")\n",
    "gabrielle = geopandas.read_file(gabrielle_path)"
   ]
  },
  {
   "cell_type": "code",
   "execution_count": 16,
   "id": "35f90e44-dd79-4d6b-9420-67acdecc2d2b",
   "metadata": {},
   "outputs": [],
   "source": [
    "rec[rec[\"CATCHAREA\"] > 100000000].clip(gabrielle).to_file(r\"C:\\Local\\data\\catchments\\gabrielle\\rec1_flow_and_friction_big_rivers_gabrielle.geojson\")"
   ]
  }
 ],
 "metadata": {
  "kernelspec": {
   "display_name": "Python [conda env:raster]",
   "language": "python",
   "name": "conda-env-raster-py"
  },
  "language_info": {
   "codemirror_mode": {
    "name": "ipython",
    "version": 3
   },
   "file_extension": ".py",
   "mimetype": "text/x-python",
   "name": "python",
   "nbconvert_exporter": "python",
   "pygments_lexer": "ipython3",
   "version": "3.11.3"
  }
 },
 "nbformat": 4,
 "nbformat_minor": 5
}
