{
 "cells": [
  {
   "cell_type": "code",
   "execution_count": null,
   "id": "bb30d87b",
   "metadata": {},
   "outputs": [],
   "source": [
    "import warnings\n",
    "warnings.simplefilter(action='ignore', category=FutureWarning)\n",
    "\n",
    "import geopandas\n",
    "import pandas\n",
    "import pathlib\n",
    "import numpy\n",
    "import matplotlib.pyplot\n",
    "import seaborn\n",
    "import shapely\n",
    "import rioxarray\n",
    "from IPython.display import display, HTML\n",
    "\n",
    "display(HTML(\"<style>.container { width:100% !important; }</style>\"))"
   ]
  },
  {
   "cell_type": "markdown",
   "id": "182b23a0",
   "metadata": {},
   "source": [
    "# Plan\n",
    "* Load in GeoFabrics estimated width, depth and water surface height - (using those used in GeoFabrics - i.e. same level of smoothing)\n",
    "  * Calculate channel area - assume rectangular\n",
    "* Load in measured cross sections\n",
    "  * Transform to NZVD2016\n",
    "  * Calculate the channel area - use the same water height as the GeoFabrics estimates\n",
    "* Compare the results\n",
    "  * Take the nearest GeoFabrics cross section to each measured cross section\n",
    "  * Plot area's on the same plot"
   ]
  },
  {
   "cell_type": "code",
   "execution_count": null,
   "id": "b8666144",
   "metadata": {},
   "outputs": [],
   "source": [
    "resolution = 8\n",
    "horizontal_crs = 2193"
   ]
  },
  {
   "cell_type": "markdown",
   "id": "2d90a150",
   "metadata": {},
   "source": [
    "### Load in GeoFabrics Bathymetry estimates"
   ]
  },
  {
   "cell_type": "code",
   "execution_count": null,
   "id": "c3c02ca8",
   "metadata": {},
   "outputs": [],
   "source": [
    "cache_path = pathlib.Path(r\"C:\\Local\\data\\catchments\\Westport\\caches\\NZ20_Westport\")\n",
    "folder = \"paper\"\n",
    "dems = {}\n",
    "dems[\"Unconditioned\"] = rioxarray.rioxarray.open_rasterio(cache_path / folder  / \"geofabric_8m_unconditioned.nc\", masked=True).squeeze(\"band\", drop=True)\n",
    "dems[\"Wide uniform flow\"] = rioxarray.rioxarray.open_rasterio(cache_path / folder  / \"geofabric_8m_rupp_and_smart_wide.nc\", masked=True).squeeze(\"band\", drop=True)\n",
    "dems[\"Wide conceptual multivariate regression\"] = rioxarray.rioxarray.open_rasterio(cache_path / folder  / \"geofabric_8m_neal_et_al_wide.nc\", masked=True).squeeze(\"band\", drop=True)\n",
    "dems[\"Measured Sections\"] = rioxarray.rioxarray.open_rasterio(cache_path / folder / \"geofabric_8m_measured_river.nc\", masked=True).squeeze(\"band\", drop=True)\n",
    "dems[\"Riparian 1m Raw\"] = rioxarray.rioxarray.open_rasterio(cache_path / folder / \"wide_river\" / \"raw_veg_dem.nc\", masked=True).squeeze(\"band\", drop=True)\n",
    "dems[\"Gnd 1m Raw\"] = rioxarray.rioxarray.open_rasterio(cache_path / folder / \"wide_river\" / \"raw_gnd_dem.nc\", masked=True).squeeze(\"band\", drop=True)"
   ]
  },
  {
   "cell_type": "raw",
   "id": "fa7ed126",
   "metadata": {},
   "source": [
    "# old way from estimated river polygon\n",
    "river_centreline = geopandas.read_file(cache_path / folder / \"wide_river\" / \"aligned_river_centreline_6308000000.geojson\")\n",
    "river_polygon = geopandas.read_file(cache_path / folder / \"wide_river\" / \"river_polygon.geojson\")\n",
    "fan_polygon = geopandas.read_file(cache_path / folder / \"wide_river\" / \"fan_polygon.geojson\")\n",
    "polygon = geopandas.GeoDataFrame( pandas.concat([river_polygon, fan_polygon], ignore_index=True), \n",
    "                                 crs=river_polygon.crs).dissolve()"
   ]
  },
  {
   "cell_type": "code",
   "execution_count": null,
   "id": "4f84e830",
   "metadata": {},
   "outputs": [],
   "source": [
    "polygon = geopandas.read_file(cache_path / folder / \"measured_river\" / \"river_polygon.geojson\")\n",
    "riverbanks = geopandas.read_file(pathlib.Path(r\"C:\\Local\\data\\catchments\") / \"measured_sections\" / \"westport\" / \"riverbanks.geojson\")\n",
    "normalised_distances = numpy.arange(0, riverbanks.length.max())/riverbanks.length.max()\n",
    "riverbanks=riverbanks.apply(lambda row: row.geometry.interpolate(normalised_distances, normalized=True), axis=1)\n",
    "river_centreline = geopandas.GeoDataFrame(geometry=[shapely.geometry.LineString([shapely.geometry.MultiPoint([right, left]).centroid for (right, left) in zip(riverbanks.loc[0], riverbanks.loc[1])])],\n",
    "                                          crs=horizontal_crs)"
   ]
  },
  {
   "cell_type": "markdown",
   "id": "a7515f30",
   "metadata": {},
   "source": [
    "## Load in sample cross sections & widths\n",
    "See raw cell below for converting to NZVD2016. This has already been done so load in the converted one directly"
   ]
  },
  {
   "cell_type": "code",
   "execution_count": null,
   "id": "a5243d5d",
   "metadata": {},
   "outputs": [],
   "source": [
    "sampled_sections = geopandas.read_file(cache_path / folder / \"wide_river\" / \"final_cross_sections.geojson\")\n",
    "sampled_sections = sampled_sections.drop(columns=['min_z_centre', 'min_z_centre_unimodal', 'slope',\n",
    "       'min_z_centre_unimodal_mean_0.05km', 'slope_mean_0.05km',\n",
    "       'min_z_centre_unimodal_mean_0.25km', 'slope_mean_0.25km',\n",
    "       'min_z_centre_unimodal_mean_0.5km', 'slope_mean_0.5km',\n",
    "       'min_z_centre_unimodal_mean_1.0km', 'slope_mean_1.0km', 'widths',\n",
    "       'threshold', 'channel_count', 'flat_widths', 'valid', 'valid_widths',\n",
    "       'valid_flat_widths', 'valid_threhold', 'widths_mean_0.05km',\n",
    "       'flat_widths_mean_0.05km', 'thresholds_mean_0.05km',\n",
    "       'widths_mean_0.15km', 'flat_widths_mean_0.15km',\n",
    "       'thresholds_mean_0.15km', 'widths_mean_0.2km', 'flat_widths_mean_0.2km',\n",
    "       'thresholds_mean_0.2km', 'widths_mean_0.25km',\n",
    "       'flat_widths_mean_0.25km', 'thresholds_mean_0.25km'])"
   ]
  },
  {
   "cell_type": "code",
   "execution_count": null,
   "id": "f21c8840",
   "metadata": {},
   "outputs": [],
   "source": [
    "widths = {}\n",
    "widths[\"Wide\"] = geopandas.read_file(cache_path / folder / \"wide_river\" / \"final_widths.geojson\")\n",
    "widths[\"Narrow\"] = geopandas.read_file(cache_path / folder / \"narrow_river\" / \"final_widths.geojson\")\n",
    "thresholds = {\"Narrow Min\": 0.5, \"Narrow Max\": 0.75, \"Wide Min\": 2, \"Wide Max\": 5}"
   ]
  },
  {
   "cell_type": "markdown",
   "id": "7e3dac64",
   "metadata": {},
   "source": [
    "## Sample DEM for elevations\n",
    "Record the Bias and STDev for each cross section against the two DEMS"
   ]
  },
  {
   "cell_type": "code",
   "execution_count": null,
   "id": "28e27148",
   "metadata": {},
   "outputs": [],
   "source": [
    "import matplotlib.pyplot\n",
    "fig, ax = matplotlib.pyplot.subplots(ncols=1, nrows=1, figsize=(20, 10))\n",
    "polygon.plot(ax=ax, color='g')\n",
    "sampled_sections.plot(ax=ax)\n",
    "river_centreline.plot(ax=ax, color='r')"
   ]
  },
  {
   "cell_type": "markdown",
   "id": "0016f13a",
   "metadata": {},
   "source": [
    "# Sample every 1m\n",
    "Use Linear interpolation in between"
   ]
  },
  {
   "cell_type": "code",
   "execution_count": null,
   "id": "6fbf83f5",
   "metadata": {},
   "outputs": [],
   "source": [
    "comparisons_sampled = {**dict((f\"{key} z\", []) for key in dems), **dict((f\"{key} river\", []) for key in widths), **{\"Section\": [], \"Polygon\": [], \"Distance Upstream [m]\": [], \"Offset [m]\": []}}\n",
    "intersection_points = sampled_sections.intersection(river_centreline.iloc[0].geometry)\n",
    "sampled_sections = sampled_sections[intersection_points.is_empty==False]\n",
    "intersection_points = intersection_points[intersection_points.is_empty==False]\n",
    "for index, row in sampled_sections.iterrows():\n",
    "    print(f\"Section number = {index} of {len(sampled_sections)}\")\n",
    "    line = row.geometry\n",
    "    distance_upstream = float(river_centreline.project(intersection_points.iloc[index]))\n",
    "    for offset in list(range(int(numpy.ceil(line.length)))):\n",
    "        point = line.interpolate(offset)\n",
    "        for key in dems:\n",
    "            comparisons_sampled[f\"{key} z\"].append(float(dems[key].z.interp(x=point.x, y=point.y)))\n",
    "        for key in widths:\n",
    "            if widths[key].iloc[index].geometry is not None:\n",
    "                comparisons_sampled[f\"{key} river\"].append(widths[key].iloc[index].geometry.distance(point) < 0.001)\n",
    "            else:\n",
    "                comparisons_sampled[f\"{key} river\"].append(False)\n",
    "        comparisons_sampled[\"Section\"].append(index)\n",
    "        comparisons_sampled[\"Polygon\"].append(polygon.iloc[0].geometry.contains(point))\n",
    "        comparisons_sampled[\"Distance Upstream [m]\"].append(distance_upstream)\n",
    "        comparisons_sampled[\"Offset [m]\"].append(offset)\n",
    "    if index > 10:\n",
    "        break\n",
    "comparisons_sampled = pandas.DataFrame.from_dict(comparisons_sampled)"
   ]
  },
  {
   "cell_type": "code",
   "execution_count": null,
   "id": "c9d46c4e",
   "metadata": {},
   "outputs": [],
   "source": [
    "comparisons_sampled.to_json(cache_path / folder / \"sampled_section_comparison\" / \"sampled_values.json\")"
   ]
  },
  {
   "cell_type": "markdown",
   "id": "400e2994",
   "metadata": {},
   "source": [
    "# Plot sampled elevations along entire sections\n",
    "Plot the sampled elevations along individual cross-sections including the on-land portions as a sanity check."
   ]
  },
  {
   "cell_type": "code",
   "execution_count": null,
   "id": "313b51ce",
   "metadata": {},
   "outputs": [],
   "source": [
    "columns = [f\"{key} z\" for key in dems]\n",
    "for section in comparisons_sampled['Section'].unique():\n",
    "    # Plot the samppled profiles\n",
    "    distance = comparisons_sampled[comparisons_sampled['Section']==section]['Distance Upstream [m]'].iloc[0]\n",
    "    \n",
    "    # Plot sampled DEMs elevations\n",
    "    axis = comparisons_sampled[comparisons_sampled[\"Section\"]==section][columns].plot(title=f\"{distance}m upstream\", figsize=(15,10), linewidth=3)\n",
    "    \n",
    "    # Add doted lines showing where the 'water' was detected - note should all be viewed on the unconditioend DEM\n",
    "    for river_name in widths:\n",
    "        for dem_name in dems:\n",
    "            if river_name in dem_name:\n",
    "                 comparisons_sampled[(comparisons_sampled[\"Section\"]==section) & (comparisons_sampled[f\"{river_name} river\"]==True)][[f\"{dem_name} z\"]].plot(ax=axis, linestyle=':', linewidth=4);\n",
    "    \n",
    "    # Plot the z_water and thresholds\n",
    "    matplotlib.pyplot.axhline(y=sampled_sections.iloc[section][\"min_z_water\"], color='r', linestyle=':', label=\"min_z_water\")\n",
    "    for threshold_name in thresholds:\n",
    "        matplotlib.pyplot.axhline(y=sampled_sections.iloc[section][\"min_z_water\"] + thresholds[threshold_name], color=numpy.random.rand(3,), linestyle=':', label=threshold_name)\n",
    "    matplotlib.pyplot.legend()\n",
    "    axis.figure.savefig(cache_path / folder / \"sampled_section_comparison\" / f\"{distance}m_upstream.png\")\n",
    "    matplotlib.pyplot.close()"
   ]
  },
  {
   "cell_type": "markdown",
   "id": "dc98a03c",
   "metadata": {},
   "source": [
    "# Todo -\n",
    "1. read in i_start & i_end\n",
    "2. note if not valid in plot"
   ]
  },
  {
   "cell_type": "code",
   "execution_count": null,
   "id": "602c0eb9",
   "metadata": {},
   "outputs": [],
   "source": []
  },
  {
   "cell_type": "code",
   "execution_count": null,
   "id": "7ce9c447",
   "metadata": {},
   "outputs": [],
   "source": []
  }
 ],
 "metadata": {
  "kernelspec": {
   "display_name": "Python [conda env:raster]",
   "language": "python",
   "name": "conda-env-raster-py"
  },
  "language_info": {
   "codemirror_mode": {
    "name": "ipython",
    "version": 3
   },
   "file_extension": ".py",
   "mimetype": "text/x-python",
   "name": "python",
   "nbconvert_exporter": "python",
   "pygments_lexer": "ipython3",
   "version": "3.11.3"
  }
 },
 "nbformat": 4,
 "nbformat_minor": 5
}
