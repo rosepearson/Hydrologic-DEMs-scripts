{
 "cells": [
  {
   "cell_type": "code",
   "execution_count": null,
   "id": "bb30d87b",
   "metadata": {},
   "outputs": [],
   "source": [
    "import geopandas\n",
    "import pandas\n",
    "import pathlib\n",
    "import numpy\n",
    "import matplotlib\n",
    "import matplotlib.pyplot\n",
    "from IPython.display import display, HTML\n",
    "\n",
    "display(HTML(\"<style>.container { width:100% !important; }</style>\"))"
   ]
  },
  {
   "cell_type": "markdown",
   "id": "182b23a0",
   "metadata": {},
   "source": [
    "# Plan\n",
    "* Load in GeoFabrics estimated width, depth and water surface height - (using those used in GeoFabrics - i.e. same level of smoothing)\n",
    "  * Calculate channel area - assume rectangular\n",
    "* Load in measured cross sections\n",
    "  * Transform to NZVD2016\n",
    "  * Calculate the channel area - use the same water height as the GeoFabrics estimates\n",
    "* Compare the results\n",
    "  * Take the nearest GeoFabrics cross section to each measured cross section\n",
    "  * Plot area's on the same plot"
   ]
  },
  {
   "cell_type": "code",
   "execution_count": null,
   "id": "b8666144",
   "metadata": {},
   "outputs": [],
   "source": [
    "sampling_resolution = 10\n",
    "threshold = 1"
   ]
  },
  {
   "cell_type": "markdown",
   "id": "2d90a150",
   "metadata": {},
   "source": [
    "### Load in GeoFabrics Bathymetry estimates"
   ]
  },
  {
   "cell_type": "code",
   "execution_count": null,
   "id": "c3c02ca8",
   "metadata": {},
   "outputs": [],
   "source": [
    "cache_path = pathlib.Path(fr\"C:\\Users\\pearsonra\\Documents\\data\\river_bathemetry\\waikanae\\caches\\100000000_new\")\n",
    "widths = geopandas.read_file(cache_path / \"river_characteristics.geojson\")\n",
    "depths = geopandas.read_file(cache_path / \"river_bathymetry.geojson\")\n",
    "main_channel = geopandas.read_file(cache_path / \"rec_channel_100000000.geojson\")"
   ]
  },
  {
   "cell_type": "markdown",
   "id": "69ed5b34",
   "metadata": {},
   "source": [
    "### Specify GeoFabric parameter\n",
    "Both the column names used in calculations, and also select parameter file values"
   ]
  },
  {
   "cell_type": "code",
   "execution_count": null,
   "id": "525b4546",
   "metadata": {},
   "outputs": [],
   "source": [
    "water_elevation_name = 'min_z_centre_unimodal'\n",
    "full_width_name = 'widths_mean_0.25km'\n",
    "flat_width_name = 'flat_widths_mean_0.25km'\n",
    "threshold_name = 'thresholds_mean_0.25km'\n",
    "rupp_bed_elevation_name = 'bed_elevation_Rupp_and_Smart'\n",
    "neal_bed_elevation_name = 'bed_elevation_Neal_et_al'\n",
    "min_bank_height= 0.75\n",
    "rupp_depth_name = 'bed_depth_Rupp_and_smart'\n",
    "neal_depth_name = 'bed_depth_Neal_et_al'"
   ]
  },
  {
   "cell_type": "markdown",
   "id": "76dbaca9",
   "metadata": {},
   "source": [
    "#### Calculate depths from bed elevation"
   ]
  },
  {
   "cell_type": "code",
   "execution_count": null,
   "id": "c324d1ed",
   "metadata": {},
   "outputs": [],
   "source": [
    "depths[rupp_depth_name] = widths[water_elevation_name]-depths[rupp_bed_elevation_name]\n",
    "depths[neal_depth_name] = widths[water_elevation_name]-depths[neal_bed_elevation_name]"
   ]
  },
  {
   "cell_type": "markdown",
   "id": "dfcad528",
   "metadata": {},
   "source": [
    "#### Convert back to full bankfill area\n",
    "Function to do the conversion"
   ]
  },
  {
   "cell_type": "code",
   "execution_count": null,
   "id": "97d7906e",
   "metadata": {},
   "outputs": [],
   "source": [
    "def to_full_bank_flow_area(depth_dataframe, width_dataframe, min_bank_height, threshold_name, full_width_name, flat_width_name, depth_name, water_elevation_name):\n",
    "    \n",
    "    # backwards calculate the 'flat water area' - note this is in error as didn't remove most of threshold area\n",
    "    over_estimated_flat_water_area = depth_dataframe[depth_name] * width_dataframe[flat_width_name]\n",
    "\n",
    "    # Add/correct for area along the bank edges (approximate as a triangle - two triangles = a rectange)\n",
    "    displaced_bank_edge_area = (width_dataframe[full_width_name] - width_dataframe[flat_width_name]) \\\n",
    "        * (width_dataframe[threshold_name] - min_bank_height)\n",
    "    \n",
    "    # Extra flood water in threshold\n",
    "    extra_flood_water_area = (width_dataframe[threshold_name] - min_bank_height) * width_dataframe[flat_width_name]\n",
    "\n",
    "    # Calculate the area estimated for full bank width flow\n",
    "    full_bank_area = over_estimated_flat_water_area + displaced_bank_edge_area\n",
    "    flat_water_area = full_bank_area - extra_flood_water_area\n",
    "\n",
    "    return flat_water_area, full_bank_area\n",
    "    "
   ]
  },
  {
   "cell_type": "markdown",
   "id": "73e180ea",
   "metadata": {},
   "source": [
    "### Plot full bank flow area and flat water area\n",
    "For Rupp and Smart"
   ]
  },
  {
   "cell_type": "code",
   "execution_count": null,
   "id": "6e5a51dd",
   "metadata": {},
   "outputs": [],
   "source": [
    "flat_water_area, full_bank_area = to_full_bank_flow_area(depth_dataframe=depths,\n",
    "                                                         width_dataframe=widths,\n",
    "                                                         min_bank_height=min_bank_height,\n",
    "                                                         threshold_name=threshold_name,\n",
    "                                                         full_width_name=full_width_name,\n",
    "                                                         flat_width_name=flat_width_name,\n",
    "                                                         depth_name=rupp_depth_name,\n",
    "                                                         water_elevation_name=water_elevation_name)\n",
    "areas = pandas.concat([flat_water_area, full_bank_area], keys=['flat_water_area', 'full_bank_area'], axis=1)"
   ]
  },
  {
   "cell_type": "code",
   "execution_count": null,
   "id": "4193731b",
   "metadata": {},
   "outputs": [],
   "source": [
    "areas.plot()"
   ]
  },
  {
   "cell_type": "markdown",
   "id": "a7515f30",
   "metadata": {},
   "source": [
    "## Load in Measured cross sections\n",
    "load in files including a raster for performing a local dataum conversion"
   ]
  },
  {
   "cell_type": "code",
   "execution_count": null,
   "id": "411f2452",
   "metadata": {},
   "outputs": [],
   "source": [
    "cross_section_file = pathlib.Path(r\"C:/Users/pearsonra/Documents/data/river_bathemetry/sections/Waikanae/Waikanae_Cross_Sections_NIWA/2014_Survey_XS_NZTM.shp\")\n",
    "cross_sections = geopandas.read_file(cross_section_file)\n",
    "local_datum_file = pathlib.Path(r\"C:\\Users\\pearsonra\\Documents\\data\\local_datums\\lds-wellington-1953-to-nzvd2016-conversion-raster-GTiff\"\n",
    "                                \"\\wellington-1953-to-nzvd2016-conversion-raster.tif\")\n",
    "import rioxarray\n",
    "local_vertical_datum = rioxarray.rioxarray.open_rasterio(local_datum_file, masked=True)"
   ]
  },
  {
   "cell_type": "markdown",
   "id": "5fd2a6d2",
   "metadata": {},
   "source": [
    "### Perform LVD to NZVD2016 conversion"
   ]
  },
  {
   "cell_type": "code",
   "execution_count": null,
   "id": "feb7d808",
   "metadata": {},
   "outputs": [],
   "source": [
    "def get_lvd_conversion(geometry, local_vertical_datum):\n",
    "    return local_vertical_datum.sel({'x': [geometry.x], 'y': [geometry.y]}, method='nearest').data[0,0,0]\n",
    "\n",
    "cross_sections['lvd_conversion'] = cross_sections.apply(lambda row: get_lvd_conversion(row.geometry, local_vertical_datum), axis=1)\n",
    "cross_sections['z_2016'] = cross_sections['Level'] - cross_sections['lvd_conversion']"
   ]
  },
  {
   "cell_type": "markdown",
   "id": "1ad92398",
   "metadata": {},
   "source": [
    "### Get nearest estimated to measured cross section\n",
    "Make cross sections geometries"
   ]
  },
  {
   "cell_type": "code",
   "execution_count": null,
   "id": "64d9a193",
   "metadata": {},
   "outputs": [],
   "source": [
    "section_centres = {'Section': [], 'geometry': []}\n",
    "for section in cross_sections['Section'].unique():\n",
    "    cross_section = cross_sections[cross_sections['Section'] == section]\n",
    "    section_centre = cross_section[cross_section['Level']==cross_section['Level'].min()].iloc[0]\n",
    "    section_centres['Section'].append(section_centre['Section'])\n",
    "    section_centres['geometry'].append(section_centre['geometry'])\n",
    "section_centres = geopandas.GeoDataFrame(section_centres, crs=main_channel.crs)"
   ]
  },
  {
   "cell_type": "markdown",
   "id": "dba471c8",
   "metadata": {},
   "source": [
    "Cycle through each section identifying the nearest section in the key parameters"
   ]
  },
  {
   "cell_type": "code",
   "execution_count": null,
   "id": "abfddc31",
   "metadata": {},
   "outputs": [],
   "source": [
    "nearest_cross_sections = numpy.zeros_like(widths[water_elevation_name], dtype=bool)\n",
    "nearest_sections_ids = numpy.zeros_like(widths[water_elevation_name])\n",
    "for index, row in section_centres.iterrows():\n",
    "    nearest_cross_sections[widths.distance(row.geometry).argmin()] = True\n",
    "    nearest_sections_ids[widths.distance(row.geometry).argmin()] = row['Section']\n",
    "\n",
    "nearest_widths = widths[nearest_cross_sections]\n",
    "nearest_depths = depths[nearest_cross_sections]\n",
    "nearest_areas = areas[nearest_cross_sections]\n",
    "nearest_widths.insert(loc=0, column='Section', value=nearest_sections_ids[nearest_cross_sections])\n",
    "nearest_depths.insert(loc=0, column='Section', value=nearest_sections_ids[nearest_cross_sections])"
   ]
  },
  {
   "cell_type": "markdown",
   "id": "4a2c669b",
   "metadata": {},
   "source": [
    "Calculate the measured 'depth' based on the water surface in the LiDAR "
   ]
  },
  {
   "cell_type": "code",
   "execution_count": null,
   "id": "ab439156",
   "metadata": {},
   "outputs": [],
   "source": [
    "cross_sections[water_elevation_name] = cross_sections.apply(lambda row: nearest_widths[nearest_widths['Section'] == row['Section']][water_elevation_name].mean(), axis=1)\n",
    "cross_sections['depth'] = cross_sections[water_elevation_name] - cross_sections['z_2016']"
   ]
  },
  {
   "cell_type": "markdown",
   "id": "fbf2574f",
   "metadata": {},
   "source": [
    "### Calculate cross sectional area of each profile\n",
    "From flat water height, and also the bank-full height. Cycle through sections taking each section.\n",
    "\n",
    "_Could add a check to ensure no gap - i.e. portion of the channel above water then below again - but won't as could be two channels_\n",
    "\n",
    "#### Initial estimate \n",
    "Calculate the Riemann squares centred sections entirely less than water surface. "
   ]
  },
  {
   "cell_type": "code",
   "execution_count": null,
   "id": "7d2391e5",
   "metadata": {},
   "outputs": [],
   "source": [
    "measured_area = []\n",
    "for index, row in nearest_widths.iterrows():\n",
    "    section = cross_sections[cross_sections['Section'] == row['Section']]\n",
    "    section = section[section['depth'] > 0]\n",
    "    measured_area.append((section['Offset'].rolling(window=2).apply(numpy.diff)\n",
    "      * (section['depth']).rolling(window=2).apply(numpy.mean)).iloc[1:].sum())\n",
    "nearest_areas.insert(loc=0, column='Measured areas crude', value=measured_area)"
   ]
  },
  {
   "cell_type": "markdown",
   "id": "d65a88ac",
   "metadata": {},
   "source": [
    "#### Calculated propely\n",
    "Calculate area from where each section goes below the water surface (even if between two measurement sites)"
   ]
  },
  {
   "cell_type": "code",
   "execution_count": null,
   "id": "d13aed5f",
   "metadata": {},
   "outputs": [],
   "source": [
    "def zero_crossing(x_pos: float, x_neg: float, y_pos: float, y_neg: float):\n",
    "    x_zc = x_pos * -y_neg / (y_pos - y_neg) + x_neg * y_pos / (y_pos - y_neg)\n",
    "    return x_zc"
   ]
  },
  {
   "cell_type": "code",
   "execution_count": null,
   "id": "59df49be",
   "metadata": {},
   "outputs": [],
   "source": [
    "measured_area = []\n",
    "\n",
    "for index, row in nearest_widths.iterrows():\n",
    "    section = cross_sections[cross_sections['Section'] == row['Section']]\n",
    "    section = section.reset_index(drop=True)\n",
    "    water_elevation = row[water_elevation_name]\n",
    "    area = 0\n",
    "    for i in range(len(section) - 1):\n",
    "        if section['depth'][i] >= 0 and section['depth'][i + 1] >= 0:\n",
    "            # calculate Raimann square area\n",
    "            area += (section['Offset'][i + 1] - section['Offset'][i]) * (section['depth'][i] + section['depth'][i + 1]) / 2\n",
    "        elif section['depth'][i] > 0:\n",
    "            # Calculate from the left - right is above\n",
    "            offset_crossing = zero_crossing(x_pos=section['Offset'][i + 1], x_neg=section['Offset'][i],\n",
    "                                            y_pos=section['depth'][i + 1], y_neg=section['depth'][i]) \n",
    "            area += (offset_crossing - section['Offset'][i]) * section['depth'][i] / 2\n",
    "        elif section['depth'][i + 1] > 0:\n",
    "            # Calculate from the right - left is above\n",
    "            offset_crossing = zero_crossing(x_pos=section['Offset'][i], x_neg=section['Offset'][i + 1],\n",
    "                                            y_pos=section['depth'][i], y_neg=section['depth'][i + 1]) \n",
    "            area += (section['Offset'][i + 1] - offset_crossing) * section['depth'][i + 1] / 2\n",
    "    measured_area.append(area)\n",
    "nearest_areas.insert(loc=0, column='Measured areas exact', value=measured_area)"
   ]
  },
  {
   "cell_type": "code",
   "execution_count": null,
   "id": "454bbe97",
   "metadata": {},
   "outputs": [],
   "source": [
    "f, axs = matplotlib.pyplot.subplots(1, 2, sharey=True, figsize=(15,6))\n",
    "nearest_areas.plot(ax=axs[0])\n",
    "areas.plot(ax=axs[1])"
   ]
  },
  {
   "cell_type": "markdown",
   "id": "ef09381a",
   "metadata": {},
   "source": [
    "## Plot bed elevations and depths of the two approaches"
   ]
  },
  {
   "cell_type": "code",
   "execution_count": null,
   "id": "f7293291",
   "metadata": {},
   "outputs": [],
   "source": [
    "f, axs = matplotlib.pyplot.subplots(1, 2, figsize=(15, 6))\n",
    "\n",
    "nearest_widths.set_index('Section', drop=True)[water_elevation_name].plot(ax=axs[0], label='Water surface elevation')\n",
    "nearest_depths.set_index('Section', drop=True)['bed_elevation_Neal_et_al'].plot(ax=axs[0], label='Bed elevation calculated Neal et al')\n",
    "nearest_depths.set_index('Section', drop=True)['bed_elevation_Rupp_and_Smart'].plot(ax=axs[0], label='Bed elevation calculated Rupp & Smart')\n",
    "cross_sections.groupby('Section')['z_2016'].min().plot(ax=axs[0], label='Measured cross-section')\n",
    "axs[0].set(title=\"Bed elevations estimated and measured\", xlabel=\"Transect number where there are measured cross sections\", ylabel=\"River bed elevation in m\")\n",
    "axs[0].legend()\n",
    "\n",
    "nearest_depths.set_index('Section', drop=True)[neal_depth_name].plot(ax=axs[1], label='Calculated Neal et al depth')\n",
    "nearest_depths.set_index('Section', drop=True)[rupp_depth_name].plot(ax=axs[1], label='Calculated Rupp & Smart depth')\n",
    "cross_sections.groupby('Section')['depth'].max().plot(ax=axs[1], label='Measured cross-section')\n",
    "axs[1].set(title=\"Bed depths estimated and measured\", xlabel=\"Transect number where there are measured cross sections\", ylabel=\"River depths in m\")\n",
    "axs[1].legend()"
   ]
  },
  {
   "cell_type": "markdown",
   "id": "dd6e89c3",
   "metadata": {},
   "source": [
    "## Plot cross sections"
   ]
  },
  {
   "cell_type": "code",
   "execution_count": null,
   "id": "a1a0f803",
   "metadata": {},
   "outputs": [],
   "source": [
    "cross_sections[[water_elevation_name, 'z_2016']].plot(figsize=(15, 6))\n",
    "matplotlib.pyplot.yticks(ticks=[-2.5, 0, 2.5, 10, 20, 30, 40]);\n",
    "matplotlib.pyplot.grid(axis=\"y\")"
   ]
  },
  {
   "cell_type": "code",
   "execution_count": null,
   "id": "177e2de0",
   "metadata": {},
   "outputs": [],
   "source": [
    "f, axs = matplotlib.pyplot.subplots(2, 4, figsize=(30, 12), sharey=True)\n",
    "for key, group in cross_sections.groupby('Section'):\n",
    "    (-group['depth']).reset_index(drop=True).plot(ax=axs[int(key/10/28), int((key/10 - 28)/7)], label=f\"{key}\")\n",
    "for axi in axs:\n",
    "    for axij in axi:\n",
    "        axij.legend()"
   ]
  },
  {
   "cell_type": "code",
   "execution_count": null,
   "id": "eacbaa2c",
   "metadata": {},
   "outputs": [],
   "source": [
    "f, axs = matplotlib.pyplot.subplots(2, 4, figsize=(30, 12), sharey=True)\n",
    "\n",
    "for key, group in cross_sections.groupby('Section'):\n",
    "    group = group.copy(deep=True)\n",
    "    group.loc[group['depth'] < 0, 'depth'] = numpy.nan\n",
    "    (-group['depth']).reset_index(drop=True).plot(ax=axs[int(key/10/28), int((key/10 - 28)/7)], label=f\"{key}\")\n",
    "    #print(f\"key={key}, f{group['depth'].values}\")\n",
    "for axi in axs:\n",
    "    for axij in axi:\n",
    "        axij.legend()"
   ]
  },
  {
   "cell_type": "code",
   "execution_count": null,
   "id": "4c038c09",
   "metadata": {},
   "outputs": [],
   "source": [
    "cross_sections.groupby('Section')['depth'].plot();"
   ]
  },
  {
   "cell_type": "code",
   "execution_count": null,
   "id": "4b944905",
   "metadata": {},
   "outputs": [],
   "source": [
    "cross_sections.groupby('Section')['z_2016'].plot();"
   ]
  },
  {
   "cell_type": "markdown",
   "id": "1d3e8645",
   "metadata": {},
   "source": [
    "### Plots exploring the change to width to produce an expected bed elevation"
   ]
  },
  {
   "cell_type": "code",
   "execution_count": null,
   "id": "3587d7fb",
   "metadata": {},
   "outputs": [],
   "source": [
    "fudge_factor = 2\n",
    "depth_wider = (nearest_key_parameters['mannings_n'] * nearest_key_parameters['flow'] / (numpy.sqrt(nearest_key_parameters['slope']) * nearest_key_parameters['widths_Savgol'] * fudge_factor)) ** (3/5) - threshold\n",
    "\n",
    "f, ax = matplotlib.pyplot.subplots(figsize=(20, 6))\n",
    "(nearest_key_parameters['min_z_centre_unimodal']-depth_wider).reset_index(drop=True).plot(label='Calculated from unimodal min_z')\n",
    "(nearest_key_parameters['min_z_centre_unimodal_0.5km_rolling_mean'] - depth_wider).reset_index(drop=True).plot(label='Calculated from smooth unimodal min_z')\n",
    "(nearest_key_parameters['min_z_centre']-depth_wider).reset_index(drop=True).plot(label='Calculated from min_z')\n",
    "cross_sections.groupby('Section')['z_2016'].min().reset_index(drop=True).plot(label='Measured cross-section')\n",
    "ax.set(title=f\"Depths estimated using the Uniform Flow Throery approach with width mutiplier of {fudge_factor}\")\n",
    "matplotlib.pyplot.xlabel(f\"Transect number (spaced every {sampling_resolution}m upstream)\")\n",
    "matplotlib.pyplot.ylabel(f\"River depth in m\");\n",
    "matplotlib.pyplot.legend()"
   ]
  },
  {
   "cell_type": "code",
   "execution_count": null,
   "id": "c99fc23b",
   "metadata": {},
   "outputs": [],
   "source": []
  }
 ],
 "metadata": {
  "kernelspec": {
   "display_name": "Python [conda env:geofabrics]",
   "language": "python",
   "name": "conda-env-geofabrics-py"
  },
  "language_info": {
   "codemirror_mode": {
    "name": "ipython",
    "version": 3
   },
   "file_extension": ".py",
   "mimetype": "text/x-python",
   "name": "python",
   "nbconvert_exporter": "python",
   "pygments_lexer": "ipython3",
   "version": "3.9.12"
  }
 },
 "nbformat": 4,
 "nbformat_minor": 5
}
