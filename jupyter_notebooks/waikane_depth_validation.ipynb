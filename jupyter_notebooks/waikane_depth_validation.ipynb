{
 "cells": [
  {
   "cell_type": "code",
   "execution_count": 3,
   "id": "bb30d87b",
   "metadata": {},
   "outputs": [
    {
     "data": {
      "text/html": [
       "<style>.container { width:100% !important; }</style>"
      ],
      "text/plain": [
       "<IPython.core.display.HTML object>"
      ]
     },
     "metadata": {},
     "output_type": "display_data"
    }
   ],
   "source": [
    "import geopandas\n",
    "import pandas\n",
    "import pathlib\n",
    "import numpy\n",
    "import matplotlib\n",
    "from IPython.display import display, HTML\n",
    "\n",
    "display(HTML(\"<style>.container { width:100% !important; }</style>\"))"
   ]
  },
  {
   "cell_type": "markdown",
   "id": "182b23a0",
   "metadata": {},
   "source": [
    "# Plan\n",
    "* Load in GeoFabrics estimated width, depth and water surface height - (using those used in GeoFabrics - i.e. same level of smoothing)\n",
    "  * Calculate channel area - assume rectangular\n",
    "* Load in measured cross sections\n",
    "  * Transform to NZVD2016\n",
    "  * Calculate the channel area - use the same water height as the GeoFabrics estimates\n",
    "* Compare the results\n",
    "  * Take the nearest GeoFabrics cross section to each measured cross section\n",
    "  * Plot area's on the same plot"
   ]
  },
  {
   "cell_type": "code",
   "execution_count": 15,
   "id": "b8666144",
   "metadata": {},
   "outputs": [],
   "source": [
    "sampling_resolution = 10\n",
    "threshold = 1"
   ]
  },
  {
   "cell_type": "markdown",
   "id": "2d90a150",
   "metadata": {},
   "source": [
    "### Load in GeoFabrics Bathymetry estimates"
   ]
  },
  {
   "cell_type": "code",
   "execution_count": 19,
   "id": "c3c02ca8",
   "metadata": {},
   "outputs": [],
   "source": [
    "cache_path = pathlib.Path(fr\"C:\\Users\\pearsonra\\Documents\\data\\river_bathemetry\\waikanae\\caches\\100000000_new\")\n",
    "widths = geopandas.read_file(cache_path / \"river_characteristics.geojson\")\n",
    "depths = geopandas.read_file(cache_path / \"river_bathymetry.geojson\")\n",
    "main_channel = geopandas.read_file(cache_path / \"rec_channel_100000000.geojson\")"
   ]
  },
  {
   "cell_type": "markdown",
   "id": "69ed5b34",
   "metadata": {},
   "source": [
    "### Specify GeoFabric parameter\n",
    "Both the column names used in calculations, and also select parameter file values"
   ]
  },
  {
   "cell_type": "code",
   "execution_count": 41,
   "id": "525b4546",
   "metadata": {},
   "outputs": [],
   "source": [
    "water_elevation_name = 'min_z_centre_unimodal'\n",
    "full_width_name = 'widths_mean_0.25km'\n",
    "flat_width_name = 'flat_widths_mean_0.25km'\n",
    "threshold_name = 'thresholds_mean_0.25km'\n",
    "rupp_bed_elevation_name = 'bed_elevation_Rupp_and_Smart'\n",
    "neal_bed_elevation_name = 'bed_elevation_Neal_et_al'\n",
    "min_bank_height= 0.75"
   ]
  },
  {
   "cell_type": "markdown",
   "id": "dfcad528",
   "metadata": {},
   "source": [
    "#### Convert back to full bankfill area\n",
    "Function to do the conversion"
   ]
  },
  {
   "cell_type": "code",
   "execution_count": 51,
   "id": "97d7906e",
   "metadata": {},
   "outputs": [],
   "source": [
    "def to_full_bank_flow_area(depth_dataframe, width_dataframe, min_bank_height, threshold_name, full_width_name, flat_width_name, bed_elevation_name, water_elevation_name):\n",
    "    \n",
    "    # Calculate the depth for flat water\n",
    "    depth = width_dataframe[water_elevation_name] - depth_dataframe[bed_elevation_name]\n",
    "    # Calculate the area estimated for flat water width flow\n",
    "    flat_water_area = depth * width_dataframe[full_width_name]\n",
    "\n",
    "    # Add/correct for area along the bank edges (approximate as a triangle - two triangles = a rectange)\n",
    "    bank_edge_area = (width_dataframe[full_width_name] - width_dataframe[flat_width_name]) \\\n",
    "        * (width_dataframe[threshold_name] - min_bank_height)\n",
    "\n",
    "    # Calculate the area estimated for full bank width flow\n",
    "    full_bank_area = flat_water_area + bank_edge_area\n",
    "\n",
    "    return flat_water_area, full_bank_area\n",
    "    "
   ]
  },
  {
   "cell_type": "markdown",
   "id": "73e180ea",
   "metadata": {},
   "source": [
    "### Plot full bank flow area and flat water area\n",
    "For Rupp and Smart"
   ]
  },
  {
   "cell_type": "code",
   "execution_count": 52,
   "id": "6e5a51dd",
   "metadata": {},
   "outputs": [],
   "source": [
    "flat_water_area, full_bank_area = to_full_bank_flow_area(depth_dataframe=depths,\n",
    "                                                         width_dataframe=widths,\n",
    "                                                         min_bank_height=min_bank_height,\n",
    "                                                         threshold_name=threshold_name,\n",
    "                                                         full_width_name=full_width_name,\n",
    "                                                         flat_width_name=flat_width_name,\n",
    "                                                         bed_elevation_name=rupp_bed_elevation_name,\n",
    "                                                         water_elevation_name=water_elevation_name)"
   ]
  },
  {
   "cell_type": "code",
   "execution_count": 53,
   "id": "4193731b",
   "metadata": {},
   "outputs": [
    {
     "data": {
      "image/png": "[encoded data removed]",
      "text/plain": [
       "<Figure size 432x288 with 1 Axes>"
      ]
     },
     "metadata": {
      "needs_background": "light"
     },
     "output_type": "display_data"
    }
   ],
   "source": [
    "ax = matplotlib.pyplot.subplot()\n",
    "flat_water_area.plot(ax=ax, label='Area for flat water')\n",
    "full_bank_area.plot(ax=ax, label='Area for full bank flow')\n",
    "ax.legend();"
   ]
  },
  {
   "cell_type": "markdown",
   "id": "a7515f30",
   "metadata": {},
   "source": [
    "## Load in Measured cross sections\n",
    "load in files including a raster for performing a local dataum conversion"
   ]
  },
  {
   "cell_type": "code",
   "execution_count": 55,
   "id": "411f2452",
   "metadata": {},
   "outputs": [],
   "source": [
    "cross_section_file = pathlib.Path(r\"C:/Users/pearsonra/Documents/data/river_bathemetry/sections/Waikanae/Waikanae_Cross_Sections_NIWA/2014_Survey_XS_NZTM.shp\")\n",
    "cross_sections = geopandas.read_file(cross_section_file)\n",
    "local_datum_file = pathlib.Path(r\"C:\\Users\\pearsonra\\Documents\\data\\local_datums\\lds-wellington-1953-to-nzvd2016-conversion-raster-GTiff\"\n",
    "                                \"\\wellington-1953-to-nzvd2016-conversion-raster.tif\")\n",
    "import rioxarray\n",
    "local_vertical_datum = rioxarray.rioxarray.open_rasterio(local_datum_file, masked=True)"
   ]
  },
  {
   "cell_type": "markdown",
   "id": "5fd2a6d2",
   "metadata": {},
   "source": [
    "### Perform LVD to NZVD2016 conversion"
   ]
  },
  {
   "cell_type": "code",
   "execution_count": 56,
   "id": "feb7d808",
   "metadata": {},
   "outputs": [],
   "source": [
    "def get_lvd_conversion(geometry, local_vertical_datum):\n",
    "    return local_vertical_datum.sel({'x': [geometry.x], 'y': [geometry.y]}, method='nearest').data[0,0,0]\n",
    "\n",
    "cross_sections['lvd_conversion'] = cross_sections.apply(lambda row: get_lvd_conversion(row.geometry, local_vertical_datum), axis=1)\n",
    "cross_sections['z_2016'] = cross_sections['Level'] - cross_sections['lvd_conversion']"
   ]
  },
  {
   "cell_type": "markdown",
   "id": "1ad92398",
   "metadata": {},
   "source": [
    "### Get nearest estimated to measured cross section\n",
    "Make cross sections geometries"
   ]
  },
  {
   "cell_type": "code",
   "execution_count": 68,
   "id": "64d9a193",
   "metadata": {},
   "outputs": [],
   "source": [
    "section_centres = {'Section': [], 'geometry': []}\n",
    "for section in cross_sections['Section'].unique():\n",
    "    cross_section = cross_sections[cross_sections['Section'] == section]\n",
    "    section_centre = cross_section[cross_section['Level']==cross_section['Level'].min()].iloc[0]\n",
    "    section_centres['Section'].append(section_centre['Section'])\n",
    "    section_centres['geometry'].append(section_centre['geometry'])\n",
    "section_centres = geopandas.GeoDataFrame(section_centres, crs=main_channel.crs)"
   ]
  },
  {
   "cell_type": "markdown",
   "id": "dba471c8",
   "metadata": {},
   "source": [
    "Cycle through each section identifying the nearest section in the key parameters"
   ]
  },
  {
   "cell_type": "code",
   "execution_count": 78,
   "id": "91453790",
   "metadata": {},
   "outputs": [
    {
     "data": {
      "text/plain": [
       "Index(['min_z_centre', 'min_z_centre_unimodal', 'min_z_water', 'slope',\n",
       "       'min_z_centre_unimodal_mean_0.5km', 'slope_mean_0.5km',\n",
       "       'min_z_centre_unimodal_mean_1.0km', 'slope_mean_1.0km',\n",
       "       'min_z_centre_unimodal_mean_2.0km', 'slope_mean_2.0km',\n",
       "       'min_z_centre_unimodal_mean_3.0km', 'slope_mean_3.0km', 'widths',\n",
       "       'threshold', 'channel_count', 'flat_widths', 'valid', 'valid_widths',\n",
       "       'valid_flat_widths', 'valid_threhold', 'widths_mean_0.15km',\n",
       "       'flat_widths_mean_0.15km', 'thresholds_mean_0.15km',\n",
       "       'widths_mean_0.2km', 'flat_widths_mean_0.2km', 'thresholds_mean_0.2km',\n",
       "       'widths_mean_0.25km', 'flat_widths_mean_0.25km',\n",
       "       'thresholds_mean_0.25km', 'widths_mean_2.0km', 'flat_widths_mean_2.0km',\n",
       "       'thresholds_mean_2.0km', 'widths_mean_3.0km', 'flat_widths_mean_3.0km',\n",
       "       'thresholds_mean_3.0km', 'geometry'],\n",
       "      dtype='object')"
      ]
     },
     "execution_count": 78,
     "metadata": {},
     "output_type": "execute_result"
    }
   ],
   "source": [
    "nearest_widths.columns"
   ]
  },
  {
   "cell_type": "code",
   "execution_count": 99,
   "id": "abfddc31",
   "metadata": {},
   "outputs": [],
   "source": [
    "nearest_cross_sections = numpy.zeros_like(widths[water_elevation_name], dtype=bool)\n",
    "nearest_sections_ids = numpy.zeros_like(widths[water_elevation_name])\n",
    "for index, row in section_centres.iterrows():\n",
    "    nearest_cross_sections[widths.distance(row.geometry).argmin()] = True\n",
    "    nearest_sections_ids[widths.distance(row.geometry).argmin()] = row['Section']\n",
    "\n",
    "nearest_widths = widths[nearest_cross_sections]\n",
    "nearest_depths = depths[nearest_cross_sections]\n",
    "nearest_widths.insert(loc=0, column='Section', value=nearest_sections_ids[nearest_cross_sections])\n",
    "nearest_depths.insert(loc=0, column='Section', value=nearest_sections_ids[nearest_cross_sections])"
   ]
  },
  {
   "cell_type": "markdown",
   "id": "fbf2574f",
   "metadata": {},
   "source": [
    "### Calculate cross sectional area of each profile\n",
    "From flat water height, and also the bank-full height. Cycle through sections taking each section.\n",
    "Add a check to ensure no gap - i.e. portion of the channel above water then below again"
   ]
  },
  {
   "cell_type": "code",
   "execution_count": 121,
   "id": "74a72e31",
   "metadata": {},
   "outputs": [],
   "source": [
    "section_label = 10.0\n",
    "section = cross_sections[cross_sections['Section'] == section_label]\n",
    "section = section[section['z_2016'] < nearest_widths[nearest_widths['Section'] == section_label][water_elevation_name].mean()]"
   ]
  },
  {
   "cell_type": "code",
   "execution_count": 129,
   "id": "7d2391e5",
   "metadata": {},
   "outputs": [
    {
     "data": {
      "text/plain": [
       "8      NaN\n",
       "9     1.89\n",
       "10    1.68\n",
       "11    1.69\n",
       "12    1.66\n",
       "13    1.77\n",
       "14    1.73\n",
       "15    1.63\n",
       "16    1.69\n",
       "17    1.95\n",
       "18    1.91\n",
       "19    2.01\n",
       "20    2.09\n",
       "21    2.00\n",
       "22    1.81\n",
       "23    1.97\n",
       "24    1.98\n",
       "25    1.96\n",
       "26    1.93\n",
       "27    1.95\n",
       "28    1.92\n",
       "29    1.94\n",
       "30    2.01\n",
       "31    1.97\n",
       "32    1.20\n",
       "33    0.59\n",
       "34    0.64\n",
       "35    0.74\n",
       "Name: Offset, dtype: float64"
      ]
     },
     "execution_count": 129,
     "metadata": {},
     "output_type": "execute_result"
    }
   ],
   "source": [
    "section['Offset'].rolling(window=2).apply(numpy.diff)"
   ]
  },
  {
   "cell_type": "code",
   "execution_count": 122,
   "id": "5ce94d04",
   "metadata": {},
   "outputs": [
    {
     "data": {
      "text/html": [
       "<div>\n",
       "<style scoped>\n",
       "    .dataframe tbody tr th:only-of-type {\n",
       "        vertical-align: middle;\n",
       "    }\n",
       "\n",
       "    .dataframe tbody tr th {\n",
       "        vertical-align: top;\n",
       "    }\n",
       "\n",
       "    .dataframe thead th {\n",
       "        text-align: right;\n",
       "    }\n",
       "</style>\n",
       "<table border=\"1\" class=\"dataframe\">\n",
       "  <thead>\n",
       "    <tr style=\"text-align: right;\">\n",
       "      <th></th>\n",
       "      <th>Offset</th>\n",
       "      <th>z_2016</th>\n",
       "    </tr>\n",
       "  </thead>\n",
       "  <tbody>\n",
       "    <tr>\n",
       "      <th>8</th>\n",
       "      <td>15.81</td>\n",
       "      <td>-0.336669</td>\n",
       "    </tr>\n",
       "    <tr>\n",
       "      <th>9</th>\n",
       "      <td>17.70</td>\n",
       "      <td>-0.506669</td>\n",
       "    </tr>\n",
       "  </tbody>\n",
       "</table>\n",
       "</div>"
      ],
      "text/plain": [
       "   Offset    z_2016\n",
       "8   15.81 -0.336669\n",
       "9   17.70 -0.506669"
      ]
     },
     "execution_count": 122,
     "metadata": {},
     "output_type": "execute_result"
    }
   ],
   "source": [
    "section[['Offset', 'z_2016']].head(2)"
   ]
  },
  {
   "cell_type": "code",
   "execution_count": 130,
   "id": "114432b9",
   "metadata": {},
   "outputs": [
    {
     "data": {
      "text/plain": [
       "8     15.81\n",
       "9     17.70\n",
       "10    19.38\n",
       "11    21.07\n",
       "12    22.73\n",
       "13    24.50\n",
       "14    26.23\n",
       "15    27.86\n",
       "16    29.55\n",
       "17    31.50\n",
       "18    33.41\n",
       "19    35.42\n",
       "20    37.51\n",
       "21    39.51\n",
       "22    41.32\n",
       "23    43.29\n",
       "24    45.27\n",
       "25    47.23\n",
       "26    49.16\n",
       "27    51.11\n",
       "28    53.03\n",
       "29    54.97\n",
       "30    56.98\n",
       "31    58.95\n",
       "32    60.15\n",
       "33    60.74\n",
       "34    61.38\n",
       "35    62.12\n",
       "Name: Offset, dtype: float64"
      ]
     },
     "execution_count": 130,
     "metadata": {},
     "output_type": "execute_result"
    }
   ],
   "source": [
    "section['Offset']"
   ]
  },
  {
   "cell_type": "markdown",
   "id": "c8c46a84",
   "metadata": {},
   "source": [
    "# Translate the samples to correct reach"
   ]
  },
  {
   "cell_type": "markdown",
   "id": "39b7919f",
   "metadata": {},
   "source": [
    "## Measured cross sections\n",
    "\n",
    "Plot minimum height (i.e height of the bed)"
   ]
  },
  {
   "cell_type": "markdown",
   "id": "02ca02ba",
   "metadata": {},
   "source": [
    "Pull out the centre point for each section - for idntification of the nearest sampled transect"
   ]
  },
  {
   "cell_type": "markdown",
   "id": "ef09381a",
   "metadata": {},
   "source": [
    "## Plot the depths of the two approaches"
   ]
  },
  {
   "cell_type": "markdown",
   "id": "bb0c1dc4",
   "metadata": {},
   "source": [
    "### Compare the depth results to measured"
   ]
  },
  {
   "cell_type": "code",
   "execution_count": null,
   "id": "f7293291",
   "metadata": {},
   "outputs": [],
   "source": [
    "f, ax = matplotlib.pyplot.subplots(figsize=(10, 6))\n",
    "(nearest_key_parameters[min_z_name]-nearest_key_parameters['depth_Neal_et_al']).reset_index(drop=True).plot(label='Bed elevation calculated Neal et al')\n",
    "(nearest_key_parameters[min_z_name]-nearest_key_parameters['depth_Smart_et_al']).reset_index(drop=True).plot(label='Bed elevation calculated Rupp & Smart')\n",
    "cross_sections.groupby('Section')['z_2016'].min().reset_index(drop=True).plot(label='Measured cross-section')\n",
    "ax.set(title=\"Bed elevations estimated and measured\")\n",
    "matplotlib.pyplot.xlabel(f\"Transect number where there are measured cross sections\")\n",
    "matplotlib.pyplot.ylabel(f\"River bed elevation in m\");\n",
    "matplotlib.pyplot.legend()"
   ]
  },
  {
   "cell_type": "markdown",
   "id": "abfc6618",
   "metadata": {},
   "source": [
    "Plot the nearest widths"
   ]
  },
  {
   "cell_type": "markdown",
   "id": "dd6e89c3",
   "metadata": {},
   "source": [
    "### Plot other values\n",
    "* Widths - nearest the measured cross sections\n",
    "* Measured cross section depth compared to water surface height"
   ]
  },
  {
   "cell_type": "code",
   "execution_count": null,
   "id": "a0f6308d",
   "metadata": {},
   "outputs": [],
   "source": [
    "f, ax = matplotlib.pyplot.subplots(figsize=(20, 6))\n",
    "nearest_key_parameters[[width_name]].reset_index(drop=True).plot(ax=ax)\n",
    "ax.set(title=\"Estimated width nearest to measured cross section\")\n",
    "matplotlib.pyplot.xlabel(f\"Transect number (spaced every {sampling_resolution}m upstream)\")\n",
    "matplotlib.pyplot.ylabel(f\"Channel width (m)\");\n",
    "matplotlib.pyplot.legend()"
   ]
  },
  {
   "cell_type": "code",
   "execution_count": null,
   "id": "a8fc6002",
   "metadata": {},
   "outputs": [],
   "source": [
    "f, ax = matplotlib.pyplot.subplots(figsize=(20, 6))\n",
    "nearest_key_parameters[['min_z_centre_unimodal', 'min_z_centre']].reset_index(drop=True).plot(ax=ax)\n",
    "cross_sections.groupby('Section')['z_2016'].min().reset_index(drop=True).plot(ax=ax, label='Measured cross-section depth')\n",
    "ax.set(title=\"Measured depth compared to estimated water surface elevation\")\n",
    "matplotlib.pyplot.xlabel(f\"Transect number (spaced every {sampling_resolution}m upstream)\")\n",
    "matplotlib.pyplot.ylabel(f\"Elevation (m)\");\n",
    "matplotlib.pyplot.legend()"
   ]
  },
  {
   "cell_type": "markdown",
   "id": "1d3e8645",
   "metadata": {},
   "source": [
    "### Plots exploring the change to width to produce an expected bed elevation"
   ]
  },
  {
   "cell_type": "code",
   "execution_count": null,
   "id": "3587d7fb",
   "metadata": {},
   "outputs": [],
   "source": [
    "fudge_factor = 2\n",
    "depth_wider = (nearest_key_parameters['mannings_n'] * nearest_key_parameters['flow'] / (numpy.sqrt(nearest_key_parameters['slope']) * nearest_key_parameters['widths_Savgol'] * fudge_factor)) ** (3/5) - threshold\n",
    "\n",
    "f, ax = matplotlib.pyplot.subplots(figsize=(20, 6))\n",
    "(nearest_key_parameters['min_z_centre_unimodal']-depth_wider).reset_index(drop=True).plot(label='Calculated from unimodal min_z')\n",
    "(nearest_key_parameters['min_z_centre_unimodal_0.5km_rolling_mean'] - depth_wider).reset_index(drop=True).plot(label='Calculated from smooth unimodal min_z')\n",
    "(nearest_key_parameters['min_z_centre']-depth_wider).reset_index(drop=True).plot(label='Calculated from min_z')\n",
    "cross_sections.groupby('Section')['z_2016'].min().reset_index(drop=True).plot(label='Measured cross-section')\n",
    "ax.set(title=f\"Depths estimated using the Uniform Flow Throery approach with width mutiplier of {fudge_factor}\")\n",
    "matplotlib.pyplot.xlabel(f\"Transect number (spaced every {sampling_resolution}m upstream)\")\n",
    "matplotlib.pyplot.ylabel(f\"River depth in m\");\n",
    "matplotlib.pyplot.legend()"
   ]
  },
  {
   "cell_type": "code",
   "execution_count": null,
   "id": "8a94b979",
   "metadata": {},
   "outputs": [],
   "source": [
    "fudge_factor = 2\n",
    "depth_wider = (nearest_key_parameters['flow'] / (K_0 * nearest_key_parameters['widths_Savgol'] * fudge_factor * nearest_key_parameters['slope'] ** b)) ** (1 / (1+a)) - threshold\n",
    "\n",
    "f, ax = matplotlib.pyplot.subplots(figsize=(20, 6))\n",
    "(nearest_key_parameters['min_z_centre_unimodal']-depth_wider).reset_index(drop=True).plot(label='Calculated from unimodal min_z')\n",
    "(nearest_key_parameters['min_z_centre_unimodal_0.5km_rolling_mean']-depth_wider).reset_index(drop=True).plot(label='Calculated from smooth unimodal min_z')\n",
    "(nearest_key_parameters['min_z_centre']-depth_wider).reset_index(drop=True).plot(label='Calculated from min_z')\n",
    "cross_sections.groupby('Section')['z_2016'].min().reset_index(drop=True).plot(label='Measured cross-section')\n",
    "ax.set(title=f\"Depths estimated using the conceptual multivariate regression approach with width mutiplier of {fudge_factor}\")\n",
    "matplotlib.pyplot.xlabel(f\"Transect number (spaced every {sampling_resolution}m upstream)\")\n",
    "matplotlib.pyplot.ylabel(f\"River depth in m\");\n",
    "matplotlib.pyplot.legend()"
   ]
  },
  {
   "cell_type": "markdown",
   "id": "8452d22a",
   "metadata": {},
   "source": [
    "### Mics plots for reference: \n",
    "Water levels for 10m spaced transects"
   ]
  },
  {
   "cell_type": "code",
   "execution_count": null,
   "id": "3b4dd43c",
   "metadata": {},
   "outputs": [],
   "source": [
    "f, ax = matplotlib.pyplot.subplots(figsize=(10, 3))\n",
    "key_parameters[['min_z_centre_unimodal', 'min_z_centre_unimodal_0.5km_rolling_mean', 'min_z_centre']].plot(ax=ax, linewidth=2)\n",
    "ax.set(title=f\"Water surface as calculated from sampled transects\")\n",
    "matplotlib.pyplot.xlabel(f\"Transect number (spaced every {sampling_resolution}m upstream)\")\n",
    "matplotlib.pyplot.ylabel(f\"Water surface elevation\");"
   ]
  },
  {
   "cell_type": "markdown",
   "id": "509cf7c7",
   "metadata": {},
   "source": [
    "Widths at 10m spacing"
   ]
  },
  {
   "cell_type": "code",
   "execution_count": null,
   "id": "f99c516e",
   "metadata": {},
   "outputs": [],
   "source": [
    "f, ax = matplotlib.pyplot.subplots(figsize=(10, 3))\n",
    "key_parameters[['widths_Savgol']].plot(ax=ax, linewidth=2)\n",
    "ax.set(title=\"Channel width (m)\")\n",
    "matplotlib.pyplot.xlabel(f\"Transect number (spaced every {sampling_resolution}m upstream)\")\n",
    "matplotlib.pyplot.ylabel(f\"Estimated channel width\");"
   ]
  },
  {
   "cell_type": "code",
   "execution_count": null,
   "id": "c99fc23b",
   "metadata": {},
   "outputs": [],
   "source": []
  }
 ],
 "metadata": {
  "kernelspec": {
   "display_name": "Python [conda env:geofabrics]",
   "language": "python",
   "name": "conda-env-geofabrics-py"
  },
  "language_info": {
   "codemirror_mode": {
    "name": "ipython",
    "version": 3
   },
   "file_extension": ".py",
   "mimetype": "text/x-python",
   "name": "python",
   "nbconvert_exporter": "python",
   "pygments_lexer": "ipython3",
   "version": "3.9.12"
  }
 },
 "nbformat": 4,
 "nbformat_minor": 5
}
