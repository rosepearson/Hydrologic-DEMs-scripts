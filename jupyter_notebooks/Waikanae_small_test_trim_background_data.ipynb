{
 "cells": [
  {
   "cell_type": "code",
   "execution_count": null,
   "metadata": {},
   "outputs": [],
   "source": [
    "import rioxarray\n",
    "import xarray\n",
    "import geopandas\n",
    "import shapely.geometry\n",
    "import shapely.ops\n",
    "import rasterio\n",
    "import numpy\n",
    "import matplotlib.pyplot\n",
    "import pathlib"
   ]
  },
  {
   "cell_type": "markdown",
   "metadata": {},
   "source": [
    "# Setup paths"
   ]
  },
  {
   "cell_type": "code",
   "execution_count": null,
   "metadata": {},
   "outputs": [],
   "source": [
    "base_path = pathlib.Path(r'C:\\Users\\pearsonra\\Documents\\data\\Wakanae\\Small_test_site')\n",
    "initial_path = pathlib.Path(r'initial_data')\n",
    "destination_path = pathlib.Path(r'catchment_trimmed_data')\n",
    "\n",
    "boundary_name = pathlib.Path(r'boundary\\boundary.shp')\n",
    "coast_name = pathlib.Path(r'north_island\\north_island.shp')\n",
    "background_dem_name = pathlib.Path(r'background_dem\\NZDEM_SoS_v1-0_16_Wellington_gf.tif')\n",
    "background_bathymetry_name = pathlib.Path(r'background_bathymetry\\sounding-points-hydro-122k-190k.shp')\n",
    "\n",
    "destination_dem_name = pathlib.Path(r'dem.nc')\n",
    "destination_bathymetry_name = pathlib.Path(r'offshore_bathymetry')\n",
    "destination_boundary_name = pathlib.Path(r'boundary')\n",
    "destination_boundary_land_name = pathlib.Path(r'boundary_land')"
   ]
  },
  {
   "cell_type": "markdown",
   "metadata": {},
   "source": [
    "# Load in data"
   ]
  },
  {
   "cell_type": "code",
   "execution_count": null,
   "metadata": {},
   "outputs": [],
   "source": [
    "boundary = geopandas.read_file(base_path/initial_path/boundary_name)\n",
    "north_island = geopandas.read_file(base_path/initial_path/coast_name)\n",
    "bathymetry = geopandas.read_file(base_path/initial_path/background_bathymetry_name)\n",
    "dem = rioxarray.rioxarray.open_rasterio(base_path/initial_path/background_dem_name, masked=True)"
   ]
  },
  {
   "cell_type": "markdown",
   "metadata": {},
   "source": [
    "# Set to same projection"
   ]
  },
  {
   "cell_type": "code",
   "execution_count": null,
   "metadata": {},
   "outputs": [],
   "source": [
    "crs = 2193\n",
    "boundary = boundary.to_crs(crs)\n",
    "north_island = north_island.to_crs(crs)\n",
    "bathymetry = bathymetry.to_crs(crs)\n",
    "dem.rio.set_crs(crs);"
   ]
  },
  {
   "cell_type": "markdown",
   "metadata": {},
   "source": [
    "# View boundary with background data to trim"
   ]
  },
  {
   "cell_type": "code",
   "execution_count": null,
   "metadata": {},
   "outputs": [],
   "source": [
    "dem_shape = geopandas.GeoSeries([shapely.geometry.Polygon([(dem.x.data.max(), dem.y.data.max()), (dem.x.data.min(), dem.y.data.max()),\n",
    "                                        (dem.x.data.min(), dem.y.data.min()), (dem.x.data.max(), dem.y.data.min())])])"
   ]
  },
  {
   "cell_type": "code",
   "execution_count": null,
   "metadata": {},
   "outputs": [],
   "source": [
    "dem_shape.loc[0]"
   ]
  },
  {
   "cell_type": "code",
   "execution_count": null,
   "metadata": {},
   "outputs": [],
   "source": [
    "f = matplotlib.pyplot.figure(figsize=(15, 10))\n",
    "gs = f.add_gridspec(1, 2)\n",
    "\n",
    "ax1 = f.add_subplot(gs[0, 0]) \n",
    "dem_shape.plot(ax=ax1, color='teal', edgecolor='gray', linewidth=2)\n",
    "north_island.plot(ax=ax1, color='None', edgecolor='magenta', linewidth=2)\n",
    "bathymetry.plot(ax=ax3, marker='o', color='red')\n",
    "boundary.plot(ax=ax2, color='None', edgecolor='cyan', linewidth=2)\n",
    "f.colorbar(p1, ax=ax1)\n",
    "\n",
    "ax2 = f.add_subplot(gs[0, 1]) \n",
    "p2 = ax2.pcolormesh(dem.x[:], dem.y[:], dem.values[0], cmap='viridis', shading='auto')\n",
    "bathymetry.plot(ax=ax2, marker='o', color='red', markersize=10)\n",
    "north_island.plot(ax=ax2, color='None', edgecolor='magenta', linewidth=3)\n",
    "boundary.plot(ax=ax2, color='None', edgecolor='cyan', linewidth=3)\n",
    "f.colorbar(p4, ax=ax2)\n",
    "matplotlib.pyplot.xlim([1.765e6, 1.78e6])\n",
    "matplotlib.pyplot.ylim([5.466e6, 5.4755e6])\n",
    "\n",
    "ax1.set_title(\"Background DEM outline, coast, bathymetry and catchment boundary\")\n",
    "ax4.set_title(\"Combined\")"
   ]
  },
  {
   "cell_type": "markdown",
   "metadata": {},
   "source": [
    "# Trim background data to boundary"
   ]
  },
  {
   "cell_type": "code",
   "execution_count": null,
   "metadata": {},
   "outputs": [],
   "source": [
    "boundary_land = geopandas.clip(boundary, north_island)\n",
    "bathymetry_trimmed = geopandas.clip(bathymetry, boundary)\n",
    "dem_trimmed = dem.rio.clip(boundary_land.geometry)"
   ]
  },
  {
   "cell_type": "markdown",
   "metadata": {},
   "source": [
    "# Plot trimmed data"
   ]
  },
  {
   "cell_type": "code",
   "execution_count": null,
   "metadata": {},
   "outputs": [],
   "source": [
    "f, ax = matplotlib.pyplot.subplots(figsize=(15, 10))\n",
    "\n",
    "p = ax.pcolormesh(dem_trimmed.x[:],dem_trimmed.y[:],dem_trimmed.values[0],cmap='viridis', shading='auto')\n",
    "boundary_land.plot(ax=ax, color='None', edgecolor='lime', linewidth=5)\n",
    "bathymetry_trimmed.plot(ax=ax, marker='o', color='red', markersize=5)\n",
    "matplotlib.pyplot.colorbar(p)\n",
    "\n",
    "ax.set_title(\"Combined\")"
   ]
  },
  {
   "cell_type": "markdown",
   "metadata": {},
   "source": [
    "# Save out trimmed data"
   ]
  },
  {
   "cell_type": "code",
   "execution_count": null,
   "metadata": {},
   "outputs": [],
   "source": [
    "boundary.to_file(base_path/destination_path/destination_boundary_name)\n",
    "boundary_land.to_file(base_path/destination_path/destination_boundary_land_name)\n",
    "bathymetry_trimmed.to_file(base_path/destination_path/destination_bathymetry_name)\n",
    "dem_trimmed.to_netcdf(base_path/destination_path/destination_dem_name)"
   ]
  },
  {
   "cell_type": "code",
   "execution_count": null,
   "metadata": {},
   "outputs": [],
   "source": []
  }
 ],
 "metadata": {
  "kernelspec": {
   "display_name": "Python [conda env:lidar]",
   "language": "python",
   "name": "conda-env-lidar-py"
  },
  "language_info": {
   "codemirror_mode": {
    "name": "ipython",
    "version": 3
   },
   "file_extension": ".py",
   "mimetype": "text/x-python",
   "name": "python",
   "nbconvert_exporter": "python",
   "pygments_lexer": "ipython3",
   "version": "3.9.4"
  }
 },
 "nbformat": 4,
 "nbformat_minor": 2
}
